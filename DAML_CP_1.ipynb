{
 "cells": [
  {
   "cell_type": "markdown",
   "metadata": {},
   "source": [
    "# Checkpoint 1: Neural networks and deep learning\n",
    "---\n",
    "*Responsible:* Guillermo Hamity (<ghamity@ed.ac.uk>)\n",
    "\n",
    "In this checkpoint exercise, we will use neural networks to predict the **type** of weather *given* the available ground observations. You will be using observation data from **June 2019** across all UK Met Office weather stations.\n",
    "\n",
    "### Notes on the Dataset\n",
    "* You will be using weather observation data from the UK Met Office Datapoint service\n",
    "* Ground observations are made hourly at weather stations across the length of the UK \n",
    "* The data sample covers data from June 2019\n",
    "* Data collections for each day starts at 6.30pm. All observation data is listed in one day blocks\n",
    "* The time value column refers to the number of minutes after midnight \n",
    "* `Null` values for some features are expected (e.g. Wind Gust)\n",
    "* Data import and preparation is already provided \n",
    "\n",
    "\n",
    "This week, I am not providing example notebooks like `lecture2.ipynb` and `data-science-tools.ipynb` for Unit 2, though these may still be useful to you. Instead, I am **providing the imports for all of the modules and classes that you should need.** Think of these as LEGO blocks; you have the ones you need but may look up how to \"assemble\" them.\n",
    "\n",
    "### Notes on assessment\n",
    "* Try and calculate the answers to the exercises provided. If you are unable to complete the question, describe which approach you _would_ have taken to solve the problem\n",
    "* Code must be understandable and reproducible. Before grading the notebook kernel **may** be restarted and re-run, so make sure that your code can run from start to finish without any (unintentional) errors\n",
    "* If you are unsure on how to proceed please **ask one of the TAs** during the workshop\n",
    "- Notebooks should be submitted by **10am on Friday 9 October 2021** \n",
    "- This CP exercise sheet is divided into **6 sections**, corresponding to parts of the lecture, giving a maximum of **10 marks** in total:\n",
    "\n",
    "| <p align='left'> Title                         | <p align='left'> Exercise nos. | <p align='left'> Number of marks |\n",
    "| ------------------------------------- | ----- | --- |\n",
    "| <p align='left'> 1. Conceptual questions               | <p align='left'>  1–5  | <p align='left'> 2.5 |\n",
    "| <p align='left'> 2. Data preprocessing and RandomForest                | <p align='left'>  6–9  | <p align='left'> 2.5 |\n",
    "| <p align='left'> 3. Neural networks in `scikit-learn`  | <p align='left'>  10–11 | <p align='left'> 1.5 | \n",
    "| <p align='left'> 4. Neural networks in `Keras`         | <p align='left'> 12–13 | <p align='left'> 2 |\n",
    "| <p align='left'> 5. Regularisation                     | <p align='left'> 14–15 | <p align='left'> 1.5 |\n",
    "| <p align='left'> 6. Bonus: Hyperparameter optimisation | <p align='left'> 16 | <p align='left'> 1.0 (\\*bonus\\*) |\n",
    "| <p align='left'> **Total** | | <p align='left'> **10 + 1** |\n",
    "\n",
    "- The total number of marks allocated for this CP is 10,\n",
    "    - 1 additional mark can be given (maximimally up to 10 marks in total) for \"bonus\" exercise on hyperparameter optimisation. If you are pressed for time, focus on the first five sections; those are the core ones.\n",
    "    - Half marks may be deducted for code legibility (i.e. very difficult to tell what you are doing), or for badly formated plots (i.e. no legends, axis labels etc.). The TAs will use their discression for this so comment code when applicable and keep relevant information in your plots.\n",
    "\n",
    "_Note:_ You can suppress double-printing of plots from the `plot` module by either _(a)_ adding a semicolon after the function call (_i.e._ `plot.<method>(...);`), or _(b)_ by capturing the return `pyplot.Figure` object as a variable (_i.e._ `fig = plot.<method>(...)`)."
   ]
  },
  {
   "cell_type": "markdown",
   "metadata": {},
   "source": [
    "## Preamble"
   ]
  },
  {
   "cell_type": "code",
   "execution_count": 1,
   "metadata": {},
   "outputs": [
    {
     "name": "stderr",
     "output_type": "stream",
     "text": [
      "C:\\Users\\betc\\anaconda3\\envs\\daml\\lib\\site-packages\\tensorflow\\python\\framework\\dtypes.py:516: FutureWarning: Passing (type, 1) or '1type' as a synonym of type is deprecated; in a future version of numpy, it will be understood as (type, (1,)) / '(1,)type'.\n",
      "  _np_qint8 = np.dtype([(\"qint8\", np.int8, 1)])\n",
      "C:\\Users\\betc\\anaconda3\\envs\\daml\\lib\\site-packages\\tensorflow\\python\\framework\\dtypes.py:517: FutureWarning: Passing (type, 1) or '1type' as a synonym of type is deprecated; in a future version of numpy, it will be understood as (type, (1,)) / '(1,)type'.\n",
      "  _np_quint8 = np.dtype([(\"quint8\", np.uint8, 1)])\n",
      "C:\\Users\\betc\\anaconda3\\envs\\daml\\lib\\site-packages\\tensorflow\\python\\framework\\dtypes.py:518: FutureWarning: Passing (type, 1) or '1type' as a synonym of type is deprecated; in a future version of numpy, it will be understood as (type, (1,)) / '(1,)type'.\n",
      "  _np_qint16 = np.dtype([(\"qint16\", np.int16, 1)])\n",
      "C:\\Users\\betc\\anaconda3\\envs\\daml\\lib\\site-packages\\tensorflow\\python\\framework\\dtypes.py:519: FutureWarning: Passing (type, 1) or '1type' as a synonym of type is deprecated; in a future version of numpy, it will be understood as (type, (1,)) / '(1,)type'.\n",
      "  _np_quint16 = np.dtype([(\"quint16\", np.uint16, 1)])\n",
      "C:\\Users\\betc\\anaconda3\\envs\\daml\\lib\\site-packages\\tensorflow\\python\\framework\\dtypes.py:520: FutureWarning: Passing (type, 1) or '1type' as a synonym of type is deprecated; in a future version of numpy, it will be understood as (type, (1,)) / '(1,)type'.\n",
      "  _np_qint32 = np.dtype([(\"qint32\", np.int32, 1)])\n",
      "C:\\Users\\betc\\anaconda3\\envs\\daml\\lib\\site-packages\\tensorflow\\python\\framework\\dtypes.py:525: FutureWarning: Passing (type, 1) or '1type' as a synonym of type is deprecated; in a future version of numpy, it will be understood as (type, (1,)) / '(1,)type'.\n",
      "  np_resource = np.dtype([(\"resource\", np.ubyte, 1)])\n",
      "C:\\Users\\betc\\anaconda3\\envs\\daml\\lib\\site-packages\\tensorboard\\compat\\tensorflow_stub\\dtypes.py:541: FutureWarning: Passing (type, 1) or '1type' as a synonym of type is deprecated; in a future version of numpy, it will be understood as (type, (1,)) / '(1,)type'.\n",
      "  _np_qint8 = np.dtype([(\"qint8\", np.int8, 1)])\n",
      "C:\\Users\\betc\\anaconda3\\envs\\daml\\lib\\site-packages\\tensorboard\\compat\\tensorflow_stub\\dtypes.py:542: FutureWarning: Passing (type, 1) or '1type' as a synonym of type is deprecated; in a future version of numpy, it will be understood as (type, (1,)) / '(1,)type'.\n",
      "  _np_quint8 = np.dtype([(\"quint8\", np.uint8, 1)])\n",
      "C:\\Users\\betc\\anaconda3\\envs\\daml\\lib\\site-packages\\tensorboard\\compat\\tensorflow_stub\\dtypes.py:543: FutureWarning: Passing (type, 1) or '1type' as a synonym of type is deprecated; in a future version of numpy, it will be understood as (type, (1,)) / '(1,)type'.\n",
      "  _np_qint16 = np.dtype([(\"qint16\", np.int16, 1)])\n",
      "C:\\Users\\betc\\anaconda3\\envs\\daml\\lib\\site-packages\\tensorboard\\compat\\tensorflow_stub\\dtypes.py:544: FutureWarning: Passing (type, 1) or '1type' as a synonym of type is deprecated; in a future version of numpy, it will be understood as (type, (1,)) / '(1,)type'.\n",
      "  _np_quint16 = np.dtype([(\"quint16\", np.uint16, 1)])\n",
      "C:\\Users\\betc\\anaconda3\\envs\\daml\\lib\\site-packages\\tensorboard\\compat\\tensorflow_stub\\dtypes.py:545: FutureWarning: Passing (type, 1) or '1type' as a synonym of type is deprecated; in a future version of numpy, it will be understood as (type, (1,)) / '(1,)type'.\n",
      "  _np_qint32 = np.dtype([(\"qint32\", np.int32, 1)])\n",
      "C:\\Users\\betc\\anaconda3\\envs\\daml\\lib\\site-packages\\tensorboard\\compat\\tensorflow_stub\\dtypes.py:550: FutureWarning: Passing (type, 1) or '1type' as a synonym of type is deprecated; in a future version of numpy, it will be understood as (type, (1,)) / '(1,)type'.\n",
      "  np_resource = np.dtype([(\"resource\", np.ubyte, 1)])\n"
     ]
    }
   ],
   "source": [
    "# Standard import(s)\n",
    "import numpy as np\n",
    "import pandas as pd\n",
    "import random as rn\n",
    "import sklearn\n",
    "import tensorflow as tf\n",
    "import matplotlib.pyplot as plt\n",
    "import seaborn as sns\n",
    "import os\n",
    "%matplotlib inline\n",
    "\n",
    "# Suppress unnecessary ConvergenceWarnings and DeprecationWarnings\n",
    "import warnings\n",
    "from sklearn.exceptions import ConvergenceWarning\n",
    "warnings.filterwarnings(action='ignore', category=ConvergenceWarning)\n",
    "warnings.filterwarnings(action='ignore', category=DeprecationWarning)\n",
    "\n",
    "# Set a random seed variable to make workbook reproducible\n",
    "seed=5\n",
    "np.random.seed(seed)\n",
    "rn.seed(seed)\n",
    "os.environ['PYTHONHASHSEED']=str(seed)\n",
    "tf.compat.v1.set_random_seed(seed)\n",
    "\n",
    "# Switch off multi-threading for TensorFlow\n",
    "from tensorflow.python.keras import backend as K\n",
    "config = tf.compat.v1.ConfigProto(intra_op_parallelism_threads=1,\n",
    "                                  inter_op_parallelism_threads=1)\n",
    "sess = tf.compat.v1.Session(graph=tf.compat.v1.get_default_graph(), config=config)\n",
    "K.set_session(sess)"
   ]
  },
  {
   "cell_type": "code",
   "execution_count": 2,
   "metadata": {},
   "outputs": [
    {
     "data": {
      "text/html": [
       "<div>\n",
       "<style scoped>\n",
       "    .dataframe tbody tr th:only-of-type {\n",
       "        vertical-align: middle;\n",
       "    }\n",
       "\n",
       "    .dataframe tbody tr th {\n",
       "        vertical-align: top;\n",
       "    }\n",
       "\n",
       "    .dataframe thead th {\n",
       "        text-align: right;\n",
       "    }\n",
       "</style>\n",
       "<table border=\"1\" class=\"dataframe\">\n",
       "  <thead>\n",
       "    <tr style=\"text-align: right;\">\n",
       "      <th></th>\n",
       "      <th>StationID</th>\n",
       "      <th>StationName</th>\n",
       "      <th>Elevation</th>\n",
       "      <th>Latitude</th>\n",
       "      <th>Longitude</th>\n",
       "      <th>Date</th>\n",
       "      <th>Time</th>\n",
       "      <th>Gust</th>\n",
       "      <th>Temperature</th>\n",
       "      <th>Visibility</th>\n",
       "      <th>WindDirection</th>\n",
       "      <th>WindSpeed</th>\n",
       "      <th>Pressure</th>\n",
       "      <th>PressureTrend</th>\n",
       "      <th>DewPoint</th>\n",
       "      <th>Humidity</th>\n",
       "      <th>Type</th>\n",
       "    </tr>\n",
       "  </thead>\n",
       "  <tbody>\n",
       "    <tr>\n",
       "      <th>0</th>\n",
       "      <td>3002</td>\n",
       "      <td>BALTASOUND</td>\n",
       "      <td>15.0</td>\n",
       "      <td>60.749</td>\n",
       "      <td>-0.854</td>\n",
       "      <td>2018-05-31</td>\n",
       "      <td>1020</td>\n",
       "      <td>NaN</td>\n",
       "      <td>16.1</td>\n",
       "      <td>30000.0</td>\n",
       "      <td>E</td>\n",
       "      <td>8.0</td>\n",
       "      <td>1019.0</td>\n",
       "      <td>F</td>\n",
       "      <td>11.6</td>\n",
       "      <td>74.5</td>\n",
       "      <td>0</td>\n",
       "    </tr>\n",
       "    <tr>\n",
       "      <th>1</th>\n",
       "      <td>3002</td>\n",
       "      <td>BALTASOUND</td>\n",
       "      <td>15.0</td>\n",
       "      <td>60.749</td>\n",
       "      <td>-0.854</td>\n",
       "      <td>2018-05-31</td>\n",
       "      <td>1080</td>\n",
       "      <td>NaN</td>\n",
       "      <td>14.9</td>\n",
       "      <td>22000.0</td>\n",
       "      <td>E</td>\n",
       "      <td>8.0</td>\n",
       "      <td>1019.0</td>\n",
       "      <td>F</td>\n",
       "      <td>11.8</td>\n",
       "      <td>81.5</td>\n",
       "      <td>0</td>\n",
       "    </tr>\n",
       "    <tr>\n",
       "      <th>2</th>\n",
       "      <td>3002</td>\n",
       "      <td>BALTASOUND</td>\n",
       "      <td>15.0</td>\n",
       "      <td>60.749</td>\n",
       "      <td>-0.854</td>\n",
       "      <td>2018-05-31</td>\n",
       "      <td>1140</td>\n",
       "      <td>NaN</td>\n",
       "      <td>14.0</td>\n",
       "      <td>14000.0</td>\n",
       "      <td>E</td>\n",
       "      <td>6.0</td>\n",
       "      <td>1018.0</td>\n",
       "      <td>F</td>\n",
       "      <td>11.6</td>\n",
       "      <td>85.4</td>\n",
       "      <td>0</td>\n",
       "    </tr>\n",
       "    <tr>\n",
       "      <th>3</th>\n",
       "      <td>3002</td>\n",
       "      <td>BALTASOUND</td>\n",
       "      <td>15.0</td>\n",
       "      <td>60.749</td>\n",
       "      <td>-0.854</td>\n",
       "      <td>2018-05-31</td>\n",
       "      <td>1200</td>\n",
       "      <td>NaN</td>\n",
       "      <td>12.9</td>\n",
       "      <td>12000.0</td>\n",
       "      <td>ENE</td>\n",
       "      <td>2.0</td>\n",
       "      <td>1019.0</td>\n",
       "      <td>R</td>\n",
       "      <td>11.0</td>\n",
       "      <td>88.1</td>\n",
       "      <td>0</td>\n",
       "    </tr>\n",
       "    <tr>\n",
       "      <th>4</th>\n",
       "      <td>3002</td>\n",
       "      <td>BALTASOUND</td>\n",
       "      <td>15.0</td>\n",
       "      <td>60.749</td>\n",
       "      <td>-0.854</td>\n",
       "      <td>2018-05-31</td>\n",
       "      <td>1260</td>\n",
       "      <td>NaN</td>\n",
       "      <td>12.0</td>\n",
       "      <td>9000.0</td>\n",
       "      <td>E</td>\n",
       "      <td>2.0</td>\n",
       "      <td>1019.0</td>\n",
       "      <td>R</td>\n",
       "      <td>10.9</td>\n",
       "      <td>92.9</td>\n",
       "      <td>1</td>\n",
       "    </tr>\n",
       "  </tbody>\n",
       "</table>\n",
       "</div>"
      ],
      "text/plain": [
       "   StationID StationName  Elevation  Latitude  Longitude        Date  Time  \\\n",
       "0       3002  BALTASOUND       15.0    60.749     -0.854  2018-05-31  1020   \n",
       "1       3002  BALTASOUND       15.0    60.749     -0.854  2018-05-31  1080   \n",
       "2       3002  BALTASOUND       15.0    60.749     -0.854  2018-05-31  1140   \n",
       "3       3002  BALTASOUND       15.0    60.749     -0.854  2018-05-31  1200   \n",
       "4       3002  BALTASOUND       15.0    60.749     -0.854  2018-05-31  1260   \n",
       "\n",
       "   Gust  Temperature  Visibility WindDirection  WindSpeed  Pressure  \\\n",
       "0   NaN         16.1     30000.0             E        8.0    1019.0   \n",
       "1   NaN         14.9     22000.0             E        8.0    1019.0   \n",
       "2   NaN         14.0     14000.0             E        6.0    1018.0   \n",
       "3   NaN         12.9     12000.0           ENE        2.0    1019.0   \n",
       "4   NaN         12.0      9000.0             E        2.0    1019.0   \n",
       "\n",
       "  PressureTrend  DewPoint  Humidity  Type  \n",
       "0             F      11.6      74.5     0  \n",
       "1             F      11.8      81.5     0  \n",
       "2             F      11.6      85.4     0  \n",
       "3             R      11.0      88.1     0  \n",
       "4             R      10.9      92.9     1  "
      ]
     },
     "execution_count": 2,
     "metadata": {},
     "output_type": "execute_result"
    }
   ],
   "source": [
    "# Load in the prepared weather data\n",
    "obs = pd.read_csv('weather(1).csv')\n",
    "obs.head()"
   ]
  },
  {
   "cell_type": "code",
   "execution_count": 3,
   "metadata": {},
   "outputs": [
    {
     "data": {
      "text/plain": [
       "(106553, 17)"
      ]
     },
     "execution_count": 3,
     "metadata": {},
     "output_type": "execute_result"
    }
   ],
   "source": [
    "obs.shape"
   ]
  },
  {
   "cell_type": "code",
   "execution_count": 4,
   "metadata": {},
   "outputs": [
    {
     "data": {
      "text/html": [
       "<div>\n",
       "<style scoped>\n",
       "    .dataframe tbody tr th:only-of-type {\n",
       "        vertical-align: middle;\n",
       "    }\n",
       "\n",
       "    .dataframe tbody tr th {\n",
       "        vertical-align: top;\n",
       "    }\n",
       "\n",
       "    .dataframe thead th {\n",
       "        text-align: right;\n",
       "    }\n",
       "</style>\n",
       "<table border=\"1\" class=\"dataframe\">\n",
       "  <thead>\n",
       "    <tr style=\"text-align: right;\">\n",
       "      <th></th>\n",
       "      <th>StationID</th>\n",
       "      <th>Elevation</th>\n",
       "      <th>Latitude</th>\n",
       "      <th>Longitude</th>\n",
       "      <th>Time</th>\n",
       "      <th>Gust</th>\n",
       "      <th>Temperature</th>\n",
       "      <th>Visibility</th>\n",
       "      <th>WindSpeed</th>\n",
       "      <th>Pressure</th>\n",
       "      <th>DewPoint</th>\n",
       "      <th>Humidity</th>\n",
       "      <th>Type</th>\n",
       "    </tr>\n",
       "  </thead>\n",
       "  <tbody>\n",
       "    <tr>\n",
       "      <th>count</th>\n",
       "      <td>106553.000000</td>\n",
       "      <td>106553.000000</td>\n",
       "      <td>106553.000000</td>\n",
       "      <td>106553.000000</td>\n",
       "      <td>106553.000000</td>\n",
       "      <td>7703.000000</td>\n",
       "      <td>106442.000000</td>\n",
       "      <td>92662.000000</td>\n",
       "      <td>102060.000000</td>\n",
       "      <td>99530.000000</td>\n",
       "      <td>106402.000000</td>\n",
       "      <td>106397.000000</td>\n",
       "      <td>106553.00000</td>\n",
       "    </tr>\n",
       "    <tr>\n",
       "      <th>mean</th>\n",
       "      <td>6147.845636</td>\n",
       "      <td>114.466594</td>\n",
       "      <td>53.673022</td>\n",
       "      <td>-2.829034</td>\n",
       "      <td>702.914418</td>\n",
       "      <td>33.043749</td>\n",
       "      <td>14.958912</td>\n",
       "      <td>25698.164404</td>\n",
       "      <td>8.999510</td>\n",
       "      <td>1018.748337</td>\n",
       "      <td>10.348008</td>\n",
       "      <td>76.185240</td>\n",
       "      <td>0.99603</td>\n",
       "    </tr>\n",
       "    <tr>\n",
       "      <th>std</th>\n",
       "      <td>15821.503845</td>\n",
       "      <td>171.669120</td>\n",
       "      <td>2.466079</td>\n",
       "      <td>2.269594</td>\n",
       "      <td>412.057262</td>\n",
       "      <td>13.424855</td>\n",
       "      <td>4.294516</td>\n",
       "      <td>14263.873943</td>\n",
       "      <td>6.087882</td>\n",
       "      <td>6.327468</td>\n",
       "      <td>3.120565</td>\n",
       "      <td>17.208653</td>\n",
       "      <td>0.92971</td>\n",
       "    </tr>\n",
       "    <tr>\n",
       "      <th>min</th>\n",
       "      <td>3002.000000</td>\n",
       "      <td>2.000000</td>\n",
       "      <td>49.207900</td>\n",
       "      <td>-10.250000</td>\n",
       "      <td>0.000000</td>\n",
       "      <td>0.000000</td>\n",
       "      <td>-1.200000</td>\n",
       "      <td>20.000000</td>\n",
       "      <td>0.000000</td>\n",
       "      <td>976.000000</td>\n",
       "      <td>-28.200000</td>\n",
       "      <td>0.800000</td>\n",
       "      <td>0.00000</td>\n",
       "    </tr>\n",
       "    <tr>\n",
       "      <th>25%</th>\n",
       "      <td>3204.000000</td>\n",
       "      <td>20.000000</td>\n",
       "      <td>51.565000</td>\n",
       "      <td>-4.149000</td>\n",
       "      <td>360.000000</td>\n",
       "      <td>29.000000</td>\n",
       "      <td>12.000000</td>\n",
       "      <td>14000.000000</td>\n",
       "      <td>5.000000</td>\n",
       "      <td>1015.000000</td>\n",
       "      <td>8.400000</td>\n",
       "      <td>65.300000</td>\n",
       "      <td>0.00000</td>\n",
       "    </tr>\n",
       "    <tr>\n",
       "      <th>50%</th>\n",
       "      <td>3414.000000</td>\n",
       "      <td>65.000000</td>\n",
       "      <td>53.175000</td>\n",
       "      <td>-2.663000</td>\n",
       "      <td>720.000000</td>\n",
       "      <td>32.000000</td>\n",
       "      <td>14.500000</td>\n",
       "      <td>25000.000000</td>\n",
       "      <td>8.000000</td>\n",
       "      <td>1018.000000</td>\n",
       "      <td>10.500000</td>\n",
       "      <td>79.200000</td>\n",
       "      <td>1.00000</td>\n",
       "    </tr>\n",
       "    <tr>\n",
       "      <th>75%</th>\n",
       "      <td>3769.000000</td>\n",
       "      <td>132.000000</td>\n",
       "      <td>55.285000</td>\n",
       "      <td>-1.097000</td>\n",
       "      <td>1020.000000</td>\n",
       "      <td>39.000000</td>\n",
       "      <td>17.500000</td>\n",
       "      <td>35000.000000</td>\n",
       "      <td>11.000000</td>\n",
       "      <td>1024.000000</td>\n",
       "      <td>12.500000</td>\n",
       "      <td>90.000000</td>\n",
       "      <td>1.00000</td>\n",
       "    </tr>\n",
       "    <tr>\n",
       "      <th>max</th>\n",
       "      <td>99142.000000</td>\n",
       "      <td>1245.000000</td>\n",
       "      <td>60.749000</td>\n",
       "      <td>1.348000</td>\n",
       "      <td>1380.000000</td>\n",
       "      <td>105.000000</td>\n",
       "      <td>31.600000</td>\n",
       "      <td>75000.000000</td>\n",
       "      <td>81.000000</td>\n",
       "      <td>1036.000000</td>\n",
       "      <td>22.700000</td>\n",
       "      <td>100.000000</td>\n",
       "      <td>3.00000</td>\n",
       "    </tr>\n",
       "  </tbody>\n",
       "</table>\n",
       "</div>"
      ],
      "text/plain": [
       "           StationID      Elevation       Latitude      Longitude  \\\n",
       "count  106553.000000  106553.000000  106553.000000  106553.000000   \n",
       "mean     6147.845636     114.466594      53.673022      -2.829034   \n",
       "std     15821.503845     171.669120       2.466079       2.269594   \n",
       "min      3002.000000       2.000000      49.207900     -10.250000   \n",
       "25%      3204.000000      20.000000      51.565000      -4.149000   \n",
       "50%      3414.000000      65.000000      53.175000      -2.663000   \n",
       "75%      3769.000000     132.000000      55.285000      -1.097000   \n",
       "max     99142.000000    1245.000000      60.749000       1.348000   \n",
       "\n",
       "                Time         Gust    Temperature    Visibility      WindSpeed  \\\n",
       "count  106553.000000  7703.000000  106442.000000  92662.000000  102060.000000   \n",
       "mean      702.914418    33.043749      14.958912  25698.164404       8.999510   \n",
       "std       412.057262    13.424855       4.294516  14263.873943       6.087882   \n",
       "min         0.000000     0.000000      -1.200000     20.000000       0.000000   \n",
       "25%       360.000000    29.000000      12.000000  14000.000000       5.000000   \n",
       "50%       720.000000    32.000000      14.500000  25000.000000       8.000000   \n",
       "75%      1020.000000    39.000000      17.500000  35000.000000      11.000000   \n",
       "max      1380.000000   105.000000      31.600000  75000.000000      81.000000   \n",
       "\n",
       "           Pressure       DewPoint       Humidity          Type  \n",
       "count  99530.000000  106402.000000  106397.000000  106553.00000  \n",
       "mean    1018.748337      10.348008      76.185240       0.99603  \n",
       "std        6.327468       3.120565      17.208653       0.92971  \n",
       "min      976.000000     -28.200000       0.800000       0.00000  \n",
       "25%     1015.000000       8.400000      65.300000       0.00000  \n",
       "50%     1018.000000      10.500000      79.200000       1.00000  \n",
       "75%     1024.000000      12.500000      90.000000       1.00000  \n",
       "max     1036.000000      22.700000     100.000000       3.00000  "
      ]
     },
     "execution_count": 4,
     "metadata": {},
     "output_type": "execute_result"
    }
   ],
   "source": [
    "obs.describe()"
   ]
  },
  {
   "cell_type": "markdown",
   "metadata": {},
   "source": [
    "For this exercise we will use **8** input features (provided) and clean the data:"
   ]
  },
  {
   "cell_type": "code",
   "execution_count": 5,
   "metadata": {},
   "outputs": [],
   "source": [
    "# Define 8 input feature variables, 1 target variable data, and names of the 3 weather types\n",
    "features = ['Latitude', 'Elevation', 'Temperature', 'Visibility', 'WindSpeed', 'Pressure', 'Humidity', 'WindDirection']\n",
    "output   = ['Type']\n",
    "wtype    = ['Clear', 'Cloudy', 'Precip']"
   ]
  },
  {
   "cell_type": "markdown",
   "metadata": {},
   "source": [
    "Define derived dataset containing only the relevant columns and rows."
   ]
  },
  {
   "cell_type": "code",
   "execution_count": 6,
   "metadata": {},
   "outputs": [
    {
     "data": {
      "text/plain": [
       "(86313, 9)"
      ]
     },
     "execution_count": 6,
     "metadata": {},
     "output_type": "execute_result"
    }
   ],
   "source": [
    "# Reduce to feature and type columns\n",
    "dataset = obs[features + output]\n",
    "\n",
    "# Drop duplicates and null values \n",
    "dataset = dataset.drop_duplicates().dropna()\n",
    "\n",
    "# Drop unrecorded weather type\n",
    "dataset = dataset[dataset.Type != 3]\n",
    "\n",
    "# Check shape \n",
    "dataset.shape"
   ]
  },
  {
   "cell_type": "markdown",
   "metadata": {},
   "source": [
    "## 1. Conceptual questions (2.5 Marks)\n",
    "---\n",
    "This section covers **5** exercises on conceptual understanding of neural networks."
   ]
  },
  {
   "cell_type": "markdown",
   "metadata": {},
   "source": [
    "#### 1. Which are the most used activation functions and why do we (typically) need non-linear activation functions in neural networks? (0.5 mark)"
   ]
  },
  {
   "cell_type": "markdown",
   "metadata": {},
   "source": [
    "The most used activation functions are sigmoid, tanhx, softmax and ReLU\n",
    "\n",
    "The activation function does non linear transformation to the input making it more capable to learn and perform more complex tasks. Therefore we need to introduce non-linearity to neural networks for many reasons:\n",
    "1. Hidden layers become useless if we use linear activation functions, because the composition of linear functions is linear\n",
    "2. You cannot use backpropagation to train a model using linear activation functions, as the derivative would give a constant. This C has no relation to the input so it cannot feed back to understand which weightings are more important for prediction"
   ]
  },
  {
   "cell_type": "markdown",
   "metadata": {},
   "source": [
    "#### 2. Why do we need deep neural networks and which are the main differences between deep and shallow learning? (0.5 Mark)"
   ]
  },
  {
   "cell_type": "markdown",
   "metadata": {},
   "source": [
    "Shallow neural networks describes neural networks that have only one hidden layer, as opposed to deep neural networks which have two or more hidden layers, often of various types. Deep neural networks 'learn better' as they continue increasing performance with amount of data where shallow learning plateaus. \n",
    "\n",
    "Shallow learning requires manual feature engineering and is unable to exploit high dimensional data, whereas deep learning has capacity to exploit high dimensional data and perform feature extraction and deep combination simultaneously, without the need for manual feature engineering.\n",
    "\n",
    "Deep neural networks are able to make abstractions of features of input and make predictions based on these, it is a higher level of learning than shallow learning"
   ]
  },
  {
   "cell_type": "markdown",
   "metadata": {},
   "source": [
    "#### 3. Discuss the Bias-variance trade-off and its relation to underfitting and overfitting of a model. Which are the characteristics of an ideal model?  (0.5 mark)"
   ]
  },
  {
   "cell_type": "markdown",
   "metadata": {},
   "source": [
    "The bias error is an error from incorrect assumptions in the learning algorithm. High bias can cause an algorithm to miss the relevant relations between features and target outputs, this is underfitting, when this bias is high and variance is low.\n",
    "The variance is an error from sensitivity to small fluctuations in the training set. High variance may result from an algorithm modeling the random noise in the training data. This is overfitting, when a model has high variance and low bias. \n",
    "The variance of the parameter estimated across samples can be reduced by increasing the bias in the estimated parameters.\n",
    "Ideal model has low variance low bias."
   ]
  },
  {
   "cell_type": "markdown",
   "metadata": {},
   "source": [
    "#### 4. Given a neural network with 4 input nodes, 2 layers with 5 nodes each, and 1 output node, what is the total number of free (trainable) parameters in the network? Does it matter which activation function(s) are used?  (0.5 mark)"
   ]
  },
  {
   "cell_type": "markdown",
   "metadata": {},
   "source": [
    "(4*5 + 5*5 + 5*1) + (5+5+1) = 61 free/trainable parameters\n",
    "\n",
    "The activation function chosen should match to the type of desired output. It needs to be non-linear in order to allow for backpropagation and train the model, it should be differentiable to allow multi layer models to learn non linear relations.\n",
    "\n",
    "It does matter which activation functions are used as they are each suitable specific things: ReLU for regressing (+ve), Sigmoid for binary probability, softmax for multiclass probability. ReLU is fast but maps all negative values to zero so cannot be used with negative inputs, sigmoid and tanh can saturate, so the activation has to be chosen depending on input and type of output.\n"
   ]
  },
  {
   "cell_type": "markdown",
   "metadata": {},
   "source": [
    "#### 5. What are appropriate choice for _(a)_ the number of output nodes and _(b)_ output activation function(s) for each of the following tasks, and why? (0.5 mark)"
   ]
  },
  {
   "cell_type": "markdown",
   "metadata": {},
   "source": [
    "1. Regression of the $x$, $y$, and $z$ coordinates of a single particle in an arbitrary coordinate system\n",
    "2. Regression of particle energy of a single particle\n",
    "3. Classification of two processes (signal vs. background)\n",
    "4. Classification among *N* classes (dog vs. cat vs. fish vs. ...)\n",
    "\n",
    "a) \n",
    "1) three, due to the three dimensions (x,y,z)\n",
    "\n",
    "2) one (scalar value of energy)\n",
    "\n",
    "3) two (binary classification)\n",
    "\n",
    "4) N no. nodes (N classes of animal)\n",
    "\n",
    "b)\n",
    "1. tanh (the only one that can give a range of pos and neg values)\n",
    "2. ReLU (suitable for non negative regression, and energy is a positive quantity)\n",
    "3. Sigmoid (goes between 0 and 1 so good for binary classification)\n",
    "4. Softmax (Multiclass classification probability)"
   ]
  },
  {
   "cell_type": "markdown",
   "metadata": {},
   "source": [
    "## 2. Data preprocessing and RTs (2.5 mark)\n",
    "---\n",
    "This section covers **4** exercises on data preparation, feature standardisation, and dataset splitting."
   ]
  },
  {
   "cell_type": "code",
   "execution_count": 7,
   "metadata": {},
   "outputs": [],
   "source": [
    "# Relevant import(s) for this section\n",
    "from sklearn import tree\n",
    "from sklearn.tree import DecisionTreeClassifier, plot_tree\n",
    "from sklearn.tree import export_graphviz\n",
    "from sklearn.model_selection import train_test_split # Import train_test_split function\n",
    "from sklearn import metrics # Import scikit-learn metrics module for accuracy calculation\n",
    "from sklearn import preprocessing # Import preprocessing for String-Int conversion\n",
    "from sklearn.compose import ColumnTransformer\n",
    "from sklearn.preprocessing import OneHotEncoder, StandardScaler, MinMaxScaler\n",
    "from sklearn.model_selection import train_test_split"
   ]
  },
  {
   "cell_type": "markdown",
   "metadata": {},
   "source": [
    "---\n",
    "**_A comment on target format and one-hot encoding:_** By default, the target column (`Type`) contains one integer (0, 1, or 2) for each example, the integer specifying one of three possible types of weather. However, for doing multi-class classification (which this is), we want our neural network to have one output node per class (_i.e._ 3 output nodes in this case), such that the activation of each output node is interpreted as the likelihood for a given sample being of the type in question. Therefore, the target should also be a 3-element vector for each sample; this vector should be all zeros, except for a $1$ at the index corresponding to the type in question. This is called **one-hot encoding**, and a few examples are shown below:\n",
    "\n",
    "- type = 0 $\\to$ one-hot = $[1, 0, 0]$ for 3 classes\n",
    "- type = 1 $\\to$ one-hot = $[0, 1, 0]$ for 3 classes\n",
    "- type = 2 $\\to$ one-hot = $[0, 0, 1]$ for 3 classes\n",
    "\n",
    "This is the target towards which a neural network classifier is trained: That is, ideally, for an example of type 0, the network will output a large activation ($\\approx 1$) on the first output node (interpreted as a large likelihood for the first weather type), and very small activations ($\\ll 1$) on the two other output nodes (intepreted as small likelihoods for the two other weather types); and so on.\n",
    "\n",
    "The same type of one-hot encoding can be performed for any number of target classes $N_{c}$, which just results in $N_{c}$-element target vectors with a single non-zero entry each.\n",
    "\n",
    "To be user friendly, however, `scikit-learn` allows us to use integer targets for multi-class classification — it does the one-hot encoding for us \"under the hood.\" Similarly, `keras`, _can_ also allow us to use integer targets for multi-class classification, provided we use the appropropriate loss (`sparse_categorical_crossentropy`). Otherwise (if we use `categorical_crossentropy` loss), it expects one-hot encoded targets. Which approach you choose is up to you — but now you know what goes on.\n",
    "\n",
    "---"
   ]
  },
  {
   "cell_type": "markdown",
   "metadata": {},
   "source": [
    "#### 6. Prepare the feature and target arrays (0.5 mark)\n",
    "- Randomly sample **3,500** observations per weather type (**10,500** observations in total) from `dataset` into a new `pandas.DataFrame`; call it `sample`.\n",
    "- One-hot encode the **wind direction** variable (_i.e._ $N$ (north) to $[1, 0, \\ldots, 0]$, $NNE$ (north north east) to $[0, 1, \\ldots, 0]$, _etc._ ), to allow us to input it to the neural network. The exact order of the encoding (_i.e._ which direction corresponds to which index) doesn't matter. *Hint:*\n",
    "  - *Either:* Use the scikit-learn `ColumnTransformer` with the `OneHotEncoder` applied to the `WindDirection` column, and let the remainder of the features pass through un-transformed.\n",
    "  - *Or:* Use the `OneHotEncoder` class directly on the `WindDirection` column (use `sparse=False` in the `OneHotEncoder` constructor), and then concatenate with a `numpy.array` containing the remaining features.\n",
    "- Define `numpy.arrays` named `X` and `y` containing the training features (the 7 unmodified ones plus the one-hot encoded wind directions) and target, respectively.\n",
    "- Argue whether the shapes of `X` and `y` are as expected/as they should be."
   ]
  },
  {
   "cell_type": "code",
   "execution_count": 8,
   "metadata": {},
   "outputs": [
    {
     "data": {
      "text/html": [
       "<div>\n",
       "<style scoped>\n",
       "    .dataframe tbody tr th:only-of-type {\n",
       "        vertical-align: middle;\n",
       "    }\n",
       "\n",
       "    .dataframe tbody tr th {\n",
       "        vertical-align: top;\n",
       "    }\n",
       "\n",
       "    .dataframe thead th {\n",
       "        text-align: right;\n",
       "    }\n",
       "</style>\n",
       "<table border=\"1\" class=\"dataframe\">\n",
       "  <thead>\n",
       "    <tr style=\"text-align: right;\">\n",
       "      <th></th>\n",
       "      <th>Latitude</th>\n",
       "      <th>Elevation</th>\n",
       "      <th>Temperature</th>\n",
       "      <th>Visibility</th>\n",
       "      <th>WindSpeed</th>\n",
       "      <th>Pressure</th>\n",
       "      <th>Humidity</th>\n",
       "      <th>WindDirection</th>\n",
       "      <th>Type</th>\n",
       "    </tr>\n",
       "  </thead>\n",
       "  <tbody>\n",
       "    <tr>\n",
       "      <th>30399</th>\n",
       "      <td>52.242</td>\n",
       "      <td>99.0</td>\n",
       "      <td>20.5</td>\n",
       "      <td>11000.0</td>\n",
       "      <td>3.0</td>\n",
       "      <td>1014.0</td>\n",
       "      <td>54.2</td>\n",
       "      <td>ESE</td>\n",
       "      <td>0</td>\n",
       "    </tr>\n",
       "    <tr>\n",
       "      <th>45306</th>\n",
       "      <td>51.479</td>\n",
       "      <td>25.0</td>\n",
       "      <td>13.0</td>\n",
       "      <td>45000.0</td>\n",
       "      <td>3.0</td>\n",
       "      <td>1020.0</td>\n",
       "      <td>68.0</td>\n",
       "      <td>NE</td>\n",
       "      <td>0</td>\n",
       "    </tr>\n",
       "    <tr>\n",
       "      <th>84305</th>\n",
       "      <td>51.279</td>\n",
       "      <td>72.0</td>\n",
       "      <td>21.2</td>\n",
       "      <td>30000.0</td>\n",
       "      <td>9.0</td>\n",
       "      <td>1025.0</td>\n",
       "      <td>38.1</td>\n",
       "      <td>NNW</td>\n",
       "      <td>0</td>\n",
       "    </tr>\n",
       "    <tr>\n",
       "      <th>87099</th>\n",
       "      <td>52.949</td>\n",
       "      <td>21.0</td>\n",
       "      <td>17.6</td>\n",
       "      <td>40000.0</td>\n",
       "      <td>6.0</td>\n",
       "      <td>1026.0</td>\n",
       "      <td>70.3</td>\n",
       "      <td>NNW</td>\n",
       "      <td>0</td>\n",
       "    </tr>\n",
       "    <tr>\n",
       "      <th>18725</th>\n",
       "      <td>54.501</td>\n",
       "      <td>255.0</td>\n",
       "      <td>7.3</td>\n",
       "      <td>30000.0</td>\n",
       "      <td>2.0</td>\n",
       "      <td>1019.0</td>\n",
       "      <td>88.2</td>\n",
       "      <td>WNW</td>\n",
       "      <td>0</td>\n",
       "    </tr>\n",
       "    <tr>\n",
       "      <th>...</th>\n",
       "      <td>...</td>\n",
       "      <td>...</td>\n",
       "      <td>...</td>\n",
       "      <td>...</td>\n",
       "      <td>...</td>\n",
       "      <td>...</td>\n",
       "      <td>...</td>\n",
       "      <td>...</td>\n",
       "      <td>...</td>\n",
       "    </tr>\n",
       "    <tr>\n",
       "      <th>54315</th>\n",
       "      <td>55.050</td>\n",
       "      <td>285.0</td>\n",
       "      <td>9.7</td>\n",
       "      <td>11000.0</td>\n",
       "      <td>9.0</td>\n",
       "      <td>1010.0</td>\n",
       "      <td>94.0</td>\n",
       "      <td>S</td>\n",
       "      <td>2</td>\n",
       "    </tr>\n",
       "    <tr>\n",
       "      <th>15718</th>\n",
       "      <td>53.175</td>\n",
       "      <td>68.0</td>\n",
       "      <td>11.1</td>\n",
       "      <td>14000.0</td>\n",
       "      <td>13.0</td>\n",
       "      <td>1019.0</td>\n",
       "      <td>89.7</td>\n",
       "      <td>NNE</td>\n",
       "      <td>2</td>\n",
       "    </tr>\n",
       "    <tr>\n",
       "      <th>7733</th>\n",
       "      <td>56.326</td>\n",
       "      <td>35.0</td>\n",
       "      <td>14.4</td>\n",
       "      <td>1200.0</td>\n",
       "      <td>1.0</td>\n",
       "      <td>1019.0</td>\n",
       "      <td>100.0</td>\n",
       "      <td>W</td>\n",
       "      <td>2</td>\n",
       "    </tr>\n",
       "    <tr>\n",
       "      <th>112</th>\n",
       "      <td>58.954</td>\n",
       "      <td>26.0</td>\n",
       "      <td>10.5</td>\n",
       "      <td>400.0</td>\n",
       "      <td>9.0</td>\n",
       "      <td>1017.0</td>\n",
       "      <td>100.0</td>\n",
       "      <td>ESE</td>\n",
       "      <td>2</td>\n",
       "    </tr>\n",
       "    <tr>\n",
       "      <th>53821</th>\n",
       "      <td>57.206</td>\n",
       "      <td>65.0</td>\n",
       "      <td>12.8</td>\n",
       "      <td>17000.0</td>\n",
       "      <td>15.0</td>\n",
       "      <td>1007.0</td>\n",
       "      <td>84.1</td>\n",
       "      <td>S</td>\n",
       "      <td>2</td>\n",
       "    </tr>\n",
       "  </tbody>\n",
       "</table>\n",
       "<p>10500 rows × 9 columns</p>\n",
       "</div>"
      ],
      "text/plain": [
       "       Latitude  Elevation  Temperature  Visibility  WindSpeed  Pressure  \\\n",
       "30399    52.242       99.0         20.5     11000.0        3.0    1014.0   \n",
       "45306    51.479       25.0         13.0     45000.0        3.0    1020.0   \n",
       "84305    51.279       72.0         21.2     30000.0        9.0    1025.0   \n",
       "87099    52.949       21.0         17.6     40000.0        6.0    1026.0   \n",
       "18725    54.501      255.0          7.3     30000.0        2.0    1019.0   \n",
       "...         ...        ...          ...         ...        ...       ...   \n",
       "54315    55.050      285.0          9.7     11000.0        9.0    1010.0   \n",
       "15718    53.175       68.0         11.1     14000.0       13.0    1019.0   \n",
       "7733     56.326       35.0         14.4      1200.0        1.0    1019.0   \n",
       "112      58.954       26.0         10.5       400.0        9.0    1017.0   \n",
       "53821    57.206       65.0         12.8     17000.0       15.0    1007.0   \n",
       "\n",
       "       Humidity WindDirection  Type  \n",
       "30399      54.2           ESE     0  \n",
       "45306      68.0            NE     0  \n",
       "84305      38.1           NNW     0  \n",
       "87099      70.3           NNW     0  \n",
       "18725      88.2           WNW     0  \n",
       "...         ...           ...   ...  \n",
       "54315      94.0             S     2  \n",
       "15718      89.7           NNE     2  \n",
       "7733      100.0             W     2  \n",
       "112       100.0           ESE     2  \n",
       "53821      84.1             S     2  \n",
       "\n",
       "[10500 rows x 9 columns]"
      ]
     },
     "execution_count": 8,
     "metadata": {},
     "output_type": "execute_result"
    }
   ],
   "source": [
    "#group by type of weather (0, 1 or 2)\n",
    "#create random forest of 3500 samples\n",
    "sample = dataset.groupby(\"Type\").sample(n=3500, random_state=1)\n",
    "sample"
   ]
  },
  {
   "cell_type": "code",
   "execution_count": 9,
   "metadata": {},
   "outputs": [],
   "source": [
    "#one hot encode wind direction so each type is given an assigned index in a matrix ie N = [1,0,0..]\n",
    "columnTransformer = ColumnTransformer([('encoder', OneHotEncoder(), ['WindDirection'])], remainder='passthrough')"
   ]
  },
  {
   "cell_type": "code",
   "execution_count": 10,
   "metadata": {},
   "outputs": [
    {
     "data": {
      "text/plain": [
       "array([[   0,    0,    1, ..., 1014,   54,    0],\n",
       "       [   0,    0,    0, ..., 1020,   68,    0],\n",
       "       [   0,    0,    0, ..., 1025,   38,    0],\n",
       "       ...,\n",
       "       [   0,    0,    0, ..., 1019,  100,    2],\n",
       "       [   0,    0,    1, ..., 1017,  100,    2],\n",
       "       [   0,    0,    0, ..., 1007,   84,    2]])"
      ]
     },
     "execution_count": 10,
     "metadata": {},
     "output_type": "execute_result"
    }
   ],
   "source": [
    "#apply encoder to sample\n",
    "sample2 = np.array(columnTransformer.fit_transform(sample), dtype = np.int)\n",
    "sample2"
   ]
  },
  {
   "cell_type": "code",
   "execution_count": 11,
   "metadata": {},
   "outputs": [
    {
     "data": {
      "text/plain": [
       "(10500, 23)"
      ]
     },
     "execution_count": 11,
     "metadata": {},
     "output_type": "execute_result"
    }
   ],
   "source": [
    "#create new array x which discards the 'type' column as this will be our target\n",
    "X = np.array(sample2[:,0:-1])\n",
    "X.shape"
   ]
  },
  {
   "cell_type": "code",
   "execution_count": 12,
   "metadata": {},
   "outputs": [
    {
     "data": {
      "text/plain": [
       "array([0, 0, 0, ..., 2, 2, 2])"
      ]
     },
     "execution_count": 12,
     "metadata": {},
     "output_type": "execute_result"
    }
   ],
   "source": [
    "#assign target, y, to last column\n",
    "y = sample2[:,-1]\n",
    "y"
   ]
  },
  {
   "cell_type": "markdown",
   "metadata": {},
   "source": [
    "#### 7. Train a Random Forest and evaluate the performance (1 mark)\n",
    "\n",
    "Decision trees work well with a mixture of features (of different scales, and bot binary and continuos), so we will train a random forest to do the job of categorisation.\n",
    "\n",
    "You are given the train test split:"
   ]
  },
  {
   "cell_type": "code",
   "execution_count": 13,
   "metadata": {},
   "outputs": [
    {
     "name": "stdout",
     "output_type": "stream",
     "text": [
      "(7350, 23) (3150, 23)\n",
      "(7350,) (3150,)\n"
     ]
    }
   ],
   "source": [
    "#Import random fosets and confusion matrix metric\n",
    "from sklearn.ensemble import RandomForestClassifier\n",
    "from sklearn.metrics import confusion_matrix\n",
    "\n",
    "# split dataset into training set and test set\n",
    "x_train, x_test, y_train, y_test = train_test_split(X, y, test_size=0.3, random_state=1) # 70% training and 30% test\n",
    "print(x_train.shape,x_test.shape)\n",
    "print(y_train.shape,y_test.shape)\n"
   ]
  },
  {
   "cell_type": "markdown",
   "metadata": {},
   "source": [
    "1. Train a RandomForestClassifier with 1000 estimators, `gini` seperation criteria, and max depth 4.\n",
    "2. Check the overal accuaracy on the testing set"
   ]
  },
  {
   "cell_type": "markdown",
   "metadata": {},
   "source": [
    "3. Use the confusion_matrix method to return the confusion matrix normalised over the true lables, i.e. sum over rows should sum to 100%. Use the given colormap to plot the confusion matrix in a heatmap.\n",
    "    - Define the axis tick names to represent Clear, Cloudy or Precip\n",
    "    - Use suitable x and y axis labels\n",
    "    \n",
    "4. What are the true positive rates for clear, cloudy and perp? What is the probability that rain is forcast given that the day is clear?\n",
    "5. Which features does the random forest deem the most important?"
   ]
  },
  {
   "cell_type": "code",
   "execution_count": 14,
   "metadata": {},
   "outputs": [
    {
     "name": "stdout",
     "output_type": "stream",
     "text": [
      "Accuracy Training: 0.6693877551020408\n",
      "Accuracy Testing: 0.653015873015873\n"
     ]
    }
   ],
   "source": [
    "# Create Decision Tree classifer object with these parameters\n",
    "rf = RandomForestClassifier(n_estimators=1000,criterion = 'gini',max_depth = 4)\n",
    "# Train Decision Tree Classifer\n",
    "rf = rf.fit(x_train,y_train)\n",
    "# Predict the response for test dataset\n",
    "y_pred = rf.predict(x_train)\n",
    "print(\"Accuracy Training:\",metrics.accuracy_score(y_train, y_pred))\n",
    "y_pred = rf.predict(x_test)\n",
    "print(\"Accuracy Testing:\",metrics.accuracy_score(y_test, y_pred))"
   ]
  },
  {
   "cell_type": "code",
   "execution_count": 15,
   "metadata": {},
   "outputs": [],
   "source": [
    "#create a confusion matrix with test and predicted samples and normalise them in the true label direction\n",
    "cf_matrix = confusion_matrix(y_test, y_pred, labels=None, sample_weight=None, normalize='true')"
   ]
  },
  {
   "cell_type": "code",
   "execution_count": 16,
   "metadata": {},
   "outputs": [
    {
     "data": {
      "image/png": "[encoded data removed]",
      "text/plain": [
       "<Figure size 432x288 with 2 Axes>"
      ]
     },
     "metadata": {
      "needs_background": "light"
     },
     "output_type": "display_data"
    }
   ],
   "source": [
    "#create seaborn heatmap to visualise data. rows add to 100%\n",
    "categories = ['clear', 'cloudy','precip']\n",
    "sns.heatmap(cf_matrix, annot=True, cmap='Blues',xticklabels=categories, yticklabels=categories)\n",
    "plt.xlabel(\"Predicted Label\",fontsize=14)\n",
    "plt.ylabel(\"True label\",fontsize=14)\n",
    "plt.show()"
   ]
  },
  {
   "cell_type": "markdown",
   "metadata": {},
   "source": [
    "True positive values: clear 68%, cloudy 48%, precip 79% (the values on the diagonal)"
   ]
  },
  {
   "cell_type": "markdown",
   "metadata": {},
   "source": [
    "What is the probability that rain is forcast given that the day is clear? ANS: 6.3%"
   ]
  },
  {
   "cell_type": "code",
   "execution_count": 17,
   "metadata": {},
   "outputs": [
    {
     "data": {
      "image/png": "[encoded data removed]",
      "text/plain": [
       "<Figure size 432x288 with 1 Axes>"
      ]
     },
     "metadata": {
      "needs_background": "light"
     },
     "output_type": "display_data"
    }
   ],
   "source": [
    "# Given plotting example for feature importance\n",
    "plt.barh(range(23), rf.feature_importances_);\n",
    "plt.yticks(range(23), list(range(16))+features[:-1]);\n",
    "plt.xlabel('mean impurity decrease within each tree');"
   ]
  },
  {
   "cell_type": "markdown",
   "metadata": {},
   "source": [
    "Which features does the random forest deem the most important: Pressure, visibility, humidity, temp"
   ]
  },
  {
   "cell_type": "markdown",
   "metadata": {},
   "source": [
    "#### 8. Standardise the relevant features (0.5 mark)\n",
    "\n",
    "_Note:_ You shouldn't standardise the one-hot encoded wind directions; they already have the desired format. Perform a sanity check to make sure that the resulting features have the expected distributional properties (mean and standard deviation; or minimum and maximum value).\n",
    "- Hint:\n",
    "\n",
    "    - Use the scikit-learn `StandardScaler`\n",
    "    - Or use the scikit-learn `MinMaxScaler`\n",
    "\n",
    "- Perform a sanity check to make sure that the resulting features have the expected distributional properties (mean and standard deviation; or minimum and maximum value).\n",
    "    - The number of columns should match, and depending on the choice of standardisation, the last 7 columns should either have:\n",
    "      - (Using `StandardScaler`) means = 0 and standard deviations = 1; or\n",
    "      - (Using `MinMaxScaler`) min = 0, max = 1"
   ]
  },
  {
   "cell_type": "code",
   "execution_count": 18,
   "metadata": {},
   "outputs": [
    {
     "data": {
      "text/plain": [
       "array([[  52,   99,   20, ...,    3, 1014,   54],\n",
       "       [  51,   25,   13, ...,    3, 1020,   68],\n",
       "       [  51,   72,   21, ...,    9, 1025,   38],\n",
       "       ...,\n",
       "       [  56,   35,   14, ...,    1, 1019,  100],\n",
       "       [  58,   26,   10, ...,    9, 1017,  100],\n",
       "       [  57,   65,   12, ...,   15, 1007,   84]])"
      ]
     },
     "execution_count": 18,
     "metadata": {},
     "output_type": "execute_result"
    }
   ],
   "source": [
    "#check x dimensions, we want all columns that don't include one-hot-encoded wind direction\n",
    "X[:,16:23] "
   ]
  },
  {
   "cell_type": "code",
   "execution_count": 19,
   "metadata": {},
   "outputs": [],
   "source": [
    "scaler = StandardScaler()"
   ]
  },
  {
   "cell_type": "code",
   "execution_count": 20,
   "metadata": {},
   "outputs": [
    {
     "name": "stdout",
     "output_type": "stream",
     "text": [
      "[-4.66796971e-15 -1.55219752e-17  4.67256921e-15 -6.19996118e-15\n",
      " -2.03044354e-14 -1.98556727e-14  9.38878604e-15] [1. 1. 1. 1. 1. 1. 1.]\n"
     ]
    }
   ],
   "source": [
    "#apply standard scaler to new X values and check mean is 0 and std is 1 for all columns\n",
    "X_scaled = StandardScaler().fit_transform(X[:,16:23])\n",
    "Xmean = np.mean(X_scaled, axis=0)\n",
    "Xstd = np.std(X_scaled,axis=0)\n",
    "print(Xmean, Xstd)"
   ]
  },
  {
   "cell_type": "markdown",
   "metadata": {},
   "source": [
    "#### 9. Split the dataset into a training and a testing part (0.5)\n",
    "\n",
    "Reserve **30%** of data for testing. Check whether the resulting arrays have the expected shapes."
   ]
  },
  {
   "cell_type": "code",
   "execution_count": 21,
   "metadata": {},
   "outputs": [
    {
     "name": "stdout",
     "output_type": "stream",
     "text": [
      "(7350, 23) (3150, 23)\n"
     ]
    }
   ],
   "source": [
    "#add the wind directions back onto the now scaled x\n",
    "X_scaled = np.concatenate([X[:,0:16],X_scaled],axis=1)\n",
    "## split dataset into training set and test set\n",
    "x2_train, x2_test, y2_train, y2_test = train_test_split(X_scaled, y, test_size=0.3, random_state=1) # 70% training and 30% test\n",
    "print(x_train.shape,x_test.shape)"
   ]
  },
  {
   "cell_type": "markdown",
   "metadata": {},
   "source": [
    "## 3. Neural networks in `scikit-learn` (1.5 mark)\n",
    "---\n",
    "This section covers **2** exercises on constructing and training neural networks using the `scikit-learn` library, as well as evaluating neural network performance. `scikit-learn` provide many, very easy to use ML algorithms, including neural networks. These are called `MLPClassifier` (MLP = multi-layer perceptron; a historic name for densely connected, feed-forward neural networks) when used for classification, and `MLPRegressor` when used for regression. We will focus on the former for now."
   ]
  },
  {
   "cell_type": "code",
   "execution_count": 22,
   "metadata": {},
   "outputs": [],
   "source": [
    "# Relevant import(s) for this section\n",
    "from sklearn.neural_network import MLPClassifier"
   ]
  },
  {
   "cell_type": "markdown",
   "metadata": {},
   "source": [
    "#### 10. Construct and train a neural network  (1 mark)\n",
    "\n",
    "- Create an `MLPClassifier` which\n",
    "    - has **1 hidden layer of 50 neurons** \n",
    "    - has **no regularization term**\n",
    "    - trains for a maximum of **100 epochs** \n",
    "    - uses a batch size of **32**\n",
    "- Fit the classifier using the standard `.fit()` member method.\n",
    "- Plot the loss function value as a function of number of epochs (0.5 of mark).\n",
    "  You can access the loss history through the `.loss_curve_` attribute of the `MLPClassifier` instance. "
   ]
  },
  {
   "cell_type": "code",
   "execution_count": 23,
   "metadata": {},
   "outputs": [],
   "source": [
    "#create mlp classifier with 50 neurons in the hidden node, batch size 32 and 100 epochs\n",
    "mlp = MLPClassifier(hidden_layer_sizes=(50,), batch_size=32, max_iter=100, alpha=False)\n",
    "#apply mlp to x and y\n",
    "mlp = mlp.fit(X_scaled, y)"
   ]
  },
  {
   "cell_type": "code",
   "execution_count": 24,
   "metadata": {},
   "outputs": [
    {
     "data": {
      "image/png": "[encoded data removed]",
      "text/plain": [
       "<Figure size 432x288 with 1 Axes>"
      ]
     },
     "metadata": {
      "needs_background": "light"
     },
     "output_type": "display_data"
    }
   ],
   "source": [
    "#plot loss curve\n",
    "loss = mlp.loss_curve_\n",
    "epochs = range(len(loss))\n",
    "plt.plot(epochs,loss)\n",
    "plt.xlabel('Number of training epochs')\n",
    "plt.ylabel('loss function, L');"
   ]
  },
  {
   "cell_type": "markdown",
   "metadata": {},
   "source": [
    "#### 11. Performance evaluation (0.5 mark)\n",
    "\n",
    "- Using the testing dataset: \n",
    "    - Compute the overall accuracy for the classifier using the `MLPClassifier`'s `.score()` member method for both testing and training datasets.\n",
    "    - Compute the confusion matrix (normalised in true labels), and plot it \n",
    "- Discuss the results"
   ]
  },
  {
   "cell_type": "code",
   "execution_count": 25,
   "metadata": {},
   "outputs": [
    {
     "name": "stdout",
     "output_type": "stream",
     "text": [
      "accuracy of x 0.7526984126984126\n",
      "accuracy of y 0.7476190476190476\n"
     ]
    }
   ],
   "source": [
    "#check over all accuracy with .score() for both testing and training (scaled) data\n",
    "score_x = mlp.score(x2_test,y2_test)\n",
    "score_y = mlp.score(x2_train,y2_train)\n",
    "print('accuracy of x',score_x)\n",
    "print('accuracy of y',score_y)"
   ]
  },
  {
   "cell_type": "code",
   "execution_count": 26,
   "metadata": {},
   "outputs": [],
   "source": [
    "#generate predicted y values from training set using .predict()\n",
    "y2_pred = mlp.predict(x2_train)"
   ]
  },
  {
   "cell_type": "code",
   "execution_count": 27,
   "metadata": {},
   "outputs": [
    {
     "data": {
      "text/plain": [
       "array([[0.81382979, 0.15016367, 0.03600655],\n",
       "       [0.2026862 , 0.57671958, 0.22059422],\n",
       "       [0.0163332 , 0.13066558, 0.85300122]])"
      ]
     },
     "execution_count": 27,
     "metadata": {},
     "output_type": "execute_result"
    }
   ],
   "source": [
    "#confusion matrix for training data,compared with predicted values\n",
    "cf_matrix2 = confusion_matrix(y2_train,y2_pred, labels=None, sample_weight=None, normalize='true')"
   ]
  },
  {
   "cell_type": "code",
   "execution_count": 28,
   "metadata": {},
   "outputs": [
    {
     "data": {
      "image/png": "[encoded data removed]",
      "text/plain": [
       "<Figure size 432x288 with 2 Axes>"
      ]
     },
     "metadata": {
      "needs_background": "light"
     },
     "output_type": "display_data"
    }
   ],
   "source": [
    "sns.heatmap(cf_matrix2, annot=True, cmap='Blues',xticklabels=categories, yticklabels=categories)\n",
    "plt.xlabel(\"Predicted Label\",fontsize=14)\n",
    "plt.ylabel(\"True label\",fontsize=14)\n",
    "plt.show()"
   ]
  },
  {
   "cell_type": "code",
   "execution_count": 29,
   "metadata": {},
   "outputs": [],
   "source": [
    "#generate predicted y values from test set using .predict()\n",
    "#confusion matrix for testing data,compared with predicted values\n",
    "y3_pred = mlp.predict(x2_test)\n",
    "cf_matrix3 = confusion_matrix(y2_test,y3_pred, labels=None, sample_weight=None, normalize='true')"
   ]
  },
  {
   "cell_type": "code",
   "execution_count": 30,
   "metadata": {},
   "outputs": [
    {
     "data": {
      "image/png": "[encoded data removed]",
      "text/plain": [
       "<Figure size 432x288 with 2 Axes>"
      ]
     },
     "metadata": {
      "needs_background": "light"
     },
     "output_type": "display_data"
    }
   ],
   "source": [
    "sns.heatmap(cf_matrix3, annot=True, cmap='Blues',xticklabels=categories, yticklabels=categories)\n",
    "plt.xlabel(\"Predicted Label\",fontsize=14)\n",
    "plt.ylabel(\"True label\",fontsize=14)\n",
    "plt.show()"
   ]
  },
  {
   "cell_type": "markdown",
   "metadata": {},
   "source": [
    "## 4. Neural networks in `Keras` (2 marks)\n",
    "---\n",
    "This section covers **2** exercises on constructing and training neural networks using the `Keras` library. `scikit-learn` is very easy to use, but libraries like `Keras` provide a lot more flexibility, which is why we will be using these extensively in the last two units of the _'Data science tools and machine learning'_ track."
   ]
  },
  {
   "cell_type": "code",
   "execution_count": 31,
   "metadata": {},
   "outputs": [],
   "source": [
    "# Relevant import(s) for this section\n",
    "from tensorflow.python.keras.models import Model\n",
    "from tensorflow.python.keras.layers import Input, Dense"
   ]
  },
  {
   "cell_type": "markdown",
   "metadata": {},
   "source": [
    "#### 12. Construct a neural network in `Keras` (1 mark)\n",
    "\n",
    "- Create a `keras.Model` using the **Keras functional API**. The network should have:\n",
    "    - An input layer with the same number of nodes as the number of features in `X`.\n",
    "    - A single, densely connected hidden layer with **50 nodes** equipped with **ReLU activation**.\n",
    "    - A densely connected output layer with **3 nodes** (the number of types of weather we're classifying) equipped with **softmax activation**.\n",
    "- Compile the model the using the **Adam optimiser**, add `'accuracy'` as metric, and use either:\n",
    "    - `categorical_crossentropy` loss, if you have one-hot encoded the targets `y`, or\n",
    "    - `sparse_categorical_crossentropy` loss if you hare using integer-valued targets.\n",
    "- Use the `.summary()` member method to print an overview of the model you have created, explain the output."
   ]
  },
  {
   "cell_type": "code",
   "execution_count": 32,
   "metadata": {},
   "outputs": [
    {
     "name": "stdout",
     "output_type": "stream",
     "text": [
      "WARNING:tensorflow:From C:\\Users\\betc\\anaconda3\\envs\\daml\\lib\\site-packages\\tensorflow\\python\\ops\\init_ops.py:1251: calling VarianceScaling.__init__ (from tensorflow.python.ops.init_ops) with dtype is deprecated and will be removed in a future version.\n",
      "Instructions for updating:\n",
      "Call initializer instance with the dtype argument instead of passing it to the constructor\n",
      "Model: \"model\"\n",
      "_________________________________________________________________\n",
      "Layer (type)                 Output Shape              Param #   \n",
      "=================================================================\n",
      "input_1 (InputLayer)         [(None, 23)]              0         \n",
      "_________________________________________________________________\n",
      "dense (Dense)                (None, 50)                1200      \n",
      "_________________________________________________________________\n",
      "dense_1 (Dense)              (None, 3)                 153       \n",
      "=================================================================\n",
      "Total params: 1,353\n",
      "Trainable params: 1,353\n",
      "Non-trainable params: 0\n",
      "_________________________________________________________________\n"
     ]
    }
   ],
   "source": [
    "#input layer with same number of nodes as features in x (23)\n",
    "inputs = tf.keras.Input(shape=(23,))\n",
    "#single hidden layer with 50 nodes #reLU\n",
    "x = tf.keras.layers.Dense(50, activation=tf.nn.relu)(inputs)\n",
    "#A densely connected output layer with 3 nodes equipped with softmax activation\n",
    "outputs = tf.keras.layers.Dense(3, activation=tf.nn.softmax)(x)\n",
    "#compile the model\n",
    "model = tf.keras.Model(inputs=inputs, outputs=outputs);\n",
    "model.compile(optimizer='adam', loss='sparse_categorical_crossentropy', metrics=[tf.keras.metrics.Accuracy()])\n",
    "#print an overview of the model you have created\n",
    "model.summary()"
   ]
  },
  {
   "cell_type": "markdown",
   "metadata": {},
   "source": [
    "1. Inputs have no bias therefore is 0 parameters\n",
    "2. Hidden layer has 1200 trainable parameters (23 input weights *50 hidden weights + 50 hidden biases)\n",
    "3. outputs (50 hidden layer neurons*3 output neurons + 3 output biases) = 153\n",
    "4. all free and therefore trainable"
   ]
  },
  {
   "cell_type": "markdown",
   "metadata": {},
   "source": [
    "#### 13. Train a `Keras` neural network (1 mark)\n",
    "\n",
    "- Use the `.fit()` member method to train the network on the **training dataset** for **100 epochs** with a **batch size of 32**. Use **20% of the data for validation** and make sure to have `Keras` **shuffle** the training data between epochs. Save the fit history by doing `history_mld = .....`\n",
    "- Print the classification accuracy using the `.evaluate()` member method, for both the training and testing dataset. Comment on the results.\n",
    "- Plot val_loss and loss functions from the fit history. On the same plot, plot the sklearn curve from the excercise above. Note the sklearn NN does not provide a complementary validation loss history, so only plot the training loss.\n",
    "- Comment on the results of the overall accuracy compared to the scikit-learn method."
   ]
  },
  {
   "cell_type": "code",
   "execution_count": 34,
   "metadata": {},
   "outputs": [
    {
     "name": "stdout",
     "output_type": "stream",
     "text": [
      "Train on 5880 samples, validate on 1470 samples\n",
      "Epoch 1/100\n",
      "5880/5880 [==============================] - 0s 46us/sample - loss: 0.8732 - accuracy: 0.0000e+00 - val_loss: 0.7582 - val_accuracy: 0.0000e+00\n",
      "Epoch 2/100\n",
      "5880/5880 [==============================] - 0s 32us/sample - loss: 0.7275 - accuracy: 0.0000e+00 - val_loss: 0.7190 - val_accuracy: 0.0000e+00\n",
      "Epoch 3/100\n",
      "5880/5880 [==============================] - 0s 35us/sample - loss: 0.7029 - accuracy: 0.0000e+00 - val_loss: 0.7069 - val_accuracy: 0.0000e+00\n",
      "Epoch 4/100\n",
      "5880/5880 [==============================] - 0s 32us/sample - loss: 0.6906 - accuracy: 0.0000e+00 - val_loss: 0.6973 - val_accuracy: 0.0000e+00\n",
      "Epoch 5/100\n",
      "5880/5880 [==============================] - 0s 32us/sample - loss: 0.6827 - accuracy: 0.0000e+00 - val_loss: 0.6902 - val_accuracy: 0.0000e+00\n",
      "Epoch 6/100\n",
      "5880/5880 [==============================] - 0s 33us/sample - loss: 0.6766 - accuracy: 0.0000e+00 - val_loss: 0.6893 - val_accuracy: 0.0000e+00\n",
      "Epoch 7/100\n",
      "5880/5880 [==============================] - 0s 32us/sample - loss: 0.6717 - accuracy: 0.0000e+00 - val_loss: 0.6833 - val_accuracy: 0.0000e+00\n",
      "Epoch 8/100\n",
      "5880/5880 [==============================] - 0s 33us/sample - loss: 0.6678 - accuracy: 0.0000e+00 - val_loss: 0.6814 - val_accuracy: 0.0000e+00\n",
      "Epoch 9/100\n",
      "5880/5880 [==============================] - 0s 32us/sample - loss: 0.6646 - accuracy: 0.0000e+00 - val_loss: 0.6787 - val_accuracy: 0.0000e+00\n",
      "Epoch 10/100\n",
      "5880/5880 [==============================] - 0s 32us/sample - loss: 0.6617 - accuracy: 0.0000e+00 - val_loss: 0.6773 - val_accuracy: 0.0000e+00\n",
      "Epoch 11/100\n",
      "5880/5880 [==============================] - 0s 41us/sample - loss: 0.6573 - accuracy: 0.0000e+00 - val_loss: 0.6755 - val_accuracy: 0.0000e+00\n",
      "Epoch 12/100\n",
      "5880/5880 [==============================] - 0s 34us/sample - loss: 0.6550 - accuracy: 0.0000e+00 - val_loss: 0.6735 - val_accuracy: 0.0000e+00\n",
      "Epoch 13/100\n",
      "5880/5880 [==============================] - 0s 30us/sample - loss: 0.6530 - accuracy: 0.0000e+00 - val_loss: 0.6728 - val_accuracy: 0.0000e+00\n",
      "Epoch 14/100\n",
      "5880/5880 [==============================] - 0s 32us/sample - loss: 0.6504 - accuracy: 0.0000e+00 - val_loss: 0.6714 - val_accuracy: 0.0000e+00\n",
      "Epoch 15/100\n",
      "5880/5880 [==============================] - 0s 32us/sample - loss: 0.6483 - accuracy: 0.0000e+00 - val_loss: 0.6699 - val_accuracy: 0.0000e+00\n",
      "Epoch 16/100\n",
      "5880/5880 [==============================] - 0s 33us/sample - loss: 0.6466 - accuracy: 0.0000e+00 - val_loss: 0.6706 - val_accuracy: 0.0000e+00\n",
      "Epoch 17/100\n",
      "5880/5880 [==============================] - 0s 33us/sample - loss: 0.6432 - accuracy: 0.0000e+00 - val_loss: 0.6689 - val_accuracy: 0.0000e+00\n",
      "Epoch 18/100\n",
      "5880/5880 [==============================] - 0s 33us/sample - loss: 0.6416 - accuracy: 0.0000e+00 - val_loss: 0.6672 - val_accuracy: 0.0000e+00\n",
      "Epoch 19/100\n",
      "5880/5880 [==============================] - 0s 30us/sample - loss: 0.6393 - accuracy: 0.0000e+00 - val_loss: 0.6667 - val_accuracy: 0.0000e+00\n",
      "Epoch 20/100\n",
      "5880/5880 [==============================] - 0s 35us/sample - loss: 0.6377 - accuracy: 0.0000e+00 - val_loss: 0.6640 - val_accuracy: 0.0000e+00\n",
      "Epoch 21/100\n",
      "5880/5880 [==============================] - 0s 33us/sample - loss: 0.6363 - accuracy: 0.0000e+00 - val_loss: 0.6626 - val_accuracy: 0.0000e+00\n",
      "Epoch 22/100\n",
      "5880/5880 [==============================] - 0s 30us/sample - loss: 0.6343 - accuracy: 0.0000e+00 - val_loss: 0.6651 - val_accuracy: 0.0000e+00\n",
      "Epoch 23/100\n",
      "5880/5880 [==============================] - ETA: 0s - loss: 0.6311 - accuracy: 0.0000e+ - 0s 31us/sample - loss: 0.6324 - accuracy: 0.0000e+00 - val_loss: 0.6660 - val_accuracy: 0.0000e+00\n",
      "Epoch 24/100\n",
      "5880/5880 [==============================] - 0s 31us/sample - loss: 0.6318 - accuracy: 0.0000e+00 - val_loss: 0.6705 - val_accuracy: 0.0000e+00\n",
      "Epoch 25/100\n",
      "5880/5880 [==============================] - 0s 32us/sample - loss: 0.6286 - accuracy: 0.0000e+00 - val_loss: 0.6642 - val_accuracy: 0.0000e+00\n",
      "Epoch 26/100\n",
      "5880/5880 [==============================] - 0s 39us/sample - loss: 0.6284 - accuracy: 0.0000e+00 - val_loss: 0.6638 - val_accuracy: 0.0000e+00\n",
      "Epoch 27/100\n",
      "5880/5880 [==============================] - 0s 32us/sample - loss: 0.6266 - accuracy: 0.0000e+00 - val_loss: 0.6664 - val_accuracy: 0.0000e+00\n",
      "Epoch 28/100\n",
      "5880/5880 [==============================] - 0s 30us/sample - loss: 0.6255 - accuracy: 0.0000e+00 - val_loss: 0.6654 - val_accuracy: 0.0000e+00\n",
      "Epoch 29/100\n",
      "5880/5880 [==============================] - 0s 35us/sample - loss: 0.6241 - accuracy: 0.0000e+00 - val_loss: 0.6648 - val_accuracy: 0.0000e+00\n",
      "Epoch 30/100\n",
      "5880/5880 [==============================] - 0s 30us/sample - loss: 0.6235 - accuracy: 0.0000e+00 - val_loss: 0.6610 - val_accuracy: 0.0000e+00\n",
      "Epoch 31/100\n",
      "5880/5880 [==============================] - 0s 34us/sample - loss: 0.6225 - accuracy: 0.0000e+00 - val_loss: 0.6633 - val_accuracy: 0.0000e+00\n",
      "Epoch 32/100\n",
      "5880/5880 [==============================] - 0s 34us/sample - loss: 0.6209 - accuracy: 0.0000e+00 - val_loss: 0.6607 - val_accuracy: 0.0000e+00\n",
      "Epoch 33/100\n",
      "5880/5880 [==============================] - 0s 32us/sample - loss: 0.6187 - accuracy: 0.0000e+00 - val_loss: 0.6607 - val_accuracy: 0.0000e+00\n",
      "Epoch 34/100\n",
      "5880/5880 [==============================] - 0s 34us/sample - loss: 0.6181 - accuracy: 0.0000e+00 - val_loss: 0.6621 - val_accuracy: 0.0000e+00\n",
      "Epoch 35/100\n",
      "5880/5880 [==============================] - 0s 31us/sample - loss: 0.6173 - accuracy: 0.0000e+00 - val_loss: 0.6614 - val_accuracy: 0.0000e+00\n",
      "Epoch 36/100\n",
      "5880/5880 [==============================] - 0s 33us/sample - loss: 0.6162 - accuracy: 0.0000e+00 - val_loss: 0.6638 - val_accuracy: 0.0000e+00\n",
      "Epoch 37/100\n",
      "5880/5880 [==============================] - 0s 30us/sample - loss: 0.6146 - accuracy: 0.0000e+00 - val_loss: 0.6620 - val_accuracy: 0.0000e+00\n",
      "Epoch 38/100\n",
      "5880/5880 [==============================] - 0s 30us/sample - loss: 0.6143 - accuracy: 0.0000e+00 - val_loss: 0.6626 - val_accuracy: 0.0000e+00\n",
      "Epoch 39/100\n",
      "5880/5880 [==============================] - 0s 30us/sample - loss: 0.6131 - accuracy: 0.0000e+00 - val_loss: 0.6626 - val_accuracy: 0.0000e+00\n",
      "Epoch 40/100\n",
      "5880/5880 [==============================] - 0s 30us/sample - loss: 0.6116 - accuracy: 0.0000e+00 - val_loss: 0.6681 - val_accuracy: 0.0000e+00\n",
      "Epoch 41/100\n",
      "5880/5880 [==============================] - 0s 32us/sample - loss: 0.6110 - accuracy: 0.0000e+00 - val_loss: 0.6636 - val_accuracy: 0.0000e+00\n",
      "Epoch 42/100\n",
      "5880/5880 [==============================] - 0s 28us/sample - loss: 0.6099 - accuracy: 0.0000e+00 - val_loss: 0.6637 - val_accuracy: 0.0000e+00\n",
      "Epoch 43/100\n",
      "5880/5880 [==============================] - 0s 32us/sample - loss: 0.6092 - accuracy: 0.0000e+00 - val_loss: 0.6626 - val_accuracy: 0.0000e+00\n",
      "Epoch 44/100\n",
      "5880/5880 [==============================] - 0s 30us/sample - loss: 0.6074 - accuracy: 0.0000e+00 - val_loss: 0.6642 - val_accuracy: 0.0000e+00\n",
      "Epoch 45/100\n",
      "5880/5880 [==============================] - 0s 34us/sample - loss: 0.6077 - accuracy: 0.0000e+00 - val_loss: 0.6665 - val_accuracy: 0.0000e+00\n",
      "Epoch 46/100\n",
      "5880/5880 [==============================] - 0s 33us/sample - loss: 0.6072 - accuracy: 0.0000e+00 - val_loss: 0.6668 - val_accuracy: 0.0000e+00\n",
      "Epoch 47/100\n",
      "5880/5880 [==============================] - 0s 30us/sample - loss: 0.6054 - accuracy: 0.0000e+00 - val_loss: 0.6623 - val_accuracy: 0.0000e+00\n",
      "Epoch 48/100\n",
      "5880/5880 [==============================] - 0s 32us/sample - loss: 0.6054 - accuracy: 0.0000e+00 - val_loss: 0.6671 - val_accuracy: 0.0000e+00\n",
      "Epoch 49/100\n",
      "5880/5880 [==============================] - 0s 30us/sample - loss: 0.6039 - accuracy: 0.0000e+00 - val_loss: 0.6648 - val_accuracy: 0.0000e+00\n",
      "Epoch 50/100\n",
      "5880/5880 [==============================] - 0s 33us/sample - loss: 0.6039 - accuracy: 0.0000e+00 - val_loss: 0.6655 - val_accuracy: 0.0000e+00\n",
      "Epoch 51/100\n",
      "5880/5880 [==============================] - ETA: 0s - loss: 0.6034 - accuracy: 0.0000e+ - 0s 32us/sample - loss: 0.6032 - accuracy: 0.0000e+00 - val_loss: 0.6635 - val_accuracy: 0.0000e+00\n",
      "Epoch 52/100\n",
      "5880/5880 [==============================] - 0s 32us/sample - loss: 0.6029 - accuracy: 0.0000e+00 - val_loss: 0.6680 - val_accuracy: 0.0000e+00\n",
      "Epoch 53/100\n",
      "5880/5880 [==============================] - 0s 31us/sample - loss: 0.6013 - accuracy: 0.0000e+00 - val_loss: 0.6656 - val_accuracy: 0.0000e+00\n",
      "Epoch 54/100\n",
      "5880/5880 [==============================] - 0s 32us/sample - loss: 0.6003 - accuracy: 0.0000e+00 - val_loss: 0.6648 - val_accuracy: 0.0000e+00\n",
      "Epoch 55/100\n",
      "5880/5880 [==============================] - 0s 37us/sample - loss: 0.5999 - accuracy: 0.0000e+00 - val_loss: 0.6687 - val_accuracy: 0.0000e+00\n",
      "Epoch 56/100\n",
      "5880/5880 [==============================] - 0s 32us/sample - loss: 0.5992 - accuracy: 0.0000e+00 - val_loss: 0.6697 - val_accuracy: 0.0000e+00\n",
      "Epoch 57/100\n",
      "5880/5880 [==============================] - 0s 32us/sample - loss: 0.5987 - accuracy: 0.0000e+00 - val_loss: 0.6679 - val_accuracy: 0.0000e+00\n",
      "Epoch 58/100\n",
      "5880/5880 [==============================] - 0s 35us/sample - loss: 0.5975 - accuracy: 0.0000e+00 - val_loss: 0.6650 - val_accuracy: 0.0000e+00\n",
      "Epoch 59/100\n",
      "5880/5880 [==============================] - 0s 30us/sample - loss: 0.5977 - accuracy: 0.0000e+00 - val_loss: 0.6656 - val_accuracy: 0.0000e+00\n",
      "Epoch 60/100\n",
      "5880/5880 [==============================] - 0s 38us/sample - loss: 0.5954 - accuracy: 0.0000e+00 - val_loss: 0.6688 - val_accuracy: 0.0000e+00\n",
      "Epoch 61/100\n",
      "5880/5880 [==============================] - 0s 30us/sample - loss: 0.5966 - accuracy: 0.0000e+00 - val_loss: 0.6696 - val_accuracy: 0.0000e+00\n",
      "Epoch 62/100\n",
      "5880/5880 [==============================] - 0s 34us/sample - loss: 0.5954 - accuracy: 0.0000e+00 - val_loss: 0.6798 - val_accuracy: 0.0000e+00\n",
      "Epoch 63/100\n",
      "5880/5880 [==============================] - 0s 33us/sample - loss: 0.5951 - accuracy: 0.0000e+00 - val_loss: 0.6720 - val_accuracy: 0.0000e+00\n",
      "Epoch 64/100\n",
      "5880/5880 [==============================] - 0s 30us/sample - loss: 0.5930 - accuracy: 0.0000e+00 - val_loss: 0.6671 - val_accuracy: 0.0000e+00\n",
      "Epoch 65/100\n",
      "5880/5880 [==============================] - 0s 39us/sample - loss: 0.5939 - accuracy: 0.0000e+00 - val_loss: 0.6712 - val_accuracy: 0.0000e+00\n",
      "Epoch 66/100\n",
      "5880/5880 [==============================] - 0s 33us/sample - loss: 0.5926 - accuracy: 0.0000e+00 - val_loss: 0.6683 - val_accuracy: 0.0000e+00\n",
      "Epoch 67/100\n",
      "5880/5880 [==============================] - 0s 31us/sample - loss: 0.5910 - accuracy: 0.0000e+00 - val_loss: 0.6735 - val_accuracy: 0.0000e+00\n",
      "Epoch 68/100\n",
      "5880/5880 [==============================] - 0s 33us/sample - loss: 0.5907 - accuracy: 0.0000e+00 - val_loss: 0.6722 - val_accuracy: 0.0000e+00\n",
      "Epoch 69/100\n",
      "5880/5880 [==============================] - 0s 32us/sample - loss: 0.5912 - accuracy: 0.0000e+00 - val_loss: 0.6698 - val_accuracy: 0.0000e+00\n",
      "Epoch 70/100\n",
      "5880/5880 [==============================] - 0s 32us/sample - loss: 0.5904 - accuracy: 0.0000e+00 - val_loss: 0.6708 - val_accuracy: 0.0000e+00\n",
      "Epoch 71/100\n",
      "5880/5880 [==============================] - 0s 32us/sample - loss: 0.5881 - accuracy: 0.0000e+00 - val_loss: 0.6691 - val_accuracy: 0.0000e+00\n",
      "Epoch 72/100\n",
      "5880/5880 [==============================] - 0s 40us/sample - loss: 0.5891 - accuracy: 0.0000e+00 - val_loss: 0.6713 - val_accuracy: 0.0000e+00\n",
      "Epoch 73/100\n",
      "5880/5880 [==============================] - 0s 38us/sample - loss: 0.5888 - accuracy: 0.0000e+00 - val_loss: 0.6729 - val_accuracy: 0.0000e+00\n",
      "Epoch 74/100\n",
      "5880/5880 [==============================] - 0s 34us/sample - loss: 0.5869 - accuracy: 0.0000e+00 - val_loss: 0.6735 - val_accuracy: 0.0000e+00\n",
      "Epoch 75/100\n",
      "5880/5880 [==============================] - 0s 34us/sample - loss: 0.5871 - accuracy: 0.0000e+00 - val_loss: 0.6720 - val_accuracy: 0.0000e+00\n",
      "Epoch 76/100\n",
      "5880/5880 [==============================] - 0s 30us/sample - loss: 0.5857 - accuracy: 0.0000e+00 - val_loss: 0.6736 - val_accuracy: 0.0000e+00\n",
      "Epoch 77/100\n",
      "5880/5880 [==============================] - 0s 33us/sample - loss: 0.5859 - accuracy: 0.0000e+00 - val_loss: 0.6696 - val_accuracy: 0.0000e+00\n",
      "Epoch 78/100\n",
      "5880/5880 [==============================] - 0s 30us/sample - loss: 0.5853 - accuracy: 0.0000e+00 - val_loss: 0.6695 - val_accuracy: 0.0000e+00\n",
      "Epoch 79/100\n",
      "5880/5880 [==============================] - 0s 29us/sample - loss: 0.5837 - accuracy: 0.0000e+00 - val_loss: 0.6710 - val_accuracy: 0.0000e+00\n",
      "Epoch 80/100\n",
      "5880/5880 [==============================] - 0s 35us/sample - loss: 0.5843 - accuracy: 0.0000e+00 - val_loss: 0.6747 - val_accuracy: 0.0000e+00\n",
      "Epoch 81/100\n",
      "5880/5880 [==============================] - 0s 33us/sample - loss: 0.5829 - accuracy: 0.0000e+00 - val_loss: 0.6743 - val_accuracy: 0.0000e+00\n",
      "Epoch 82/100\n",
      "5880/5880 [==============================] - 0s 44us/sample - loss: 0.5823 - accuracy: 0.0000e+00 - val_loss: 0.6714 - val_accuracy: 0.0000e+00\n",
      "Epoch 83/100\n",
      "5880/5880 [==============================] - 0s 33us/sample - loss: 0.5828 - accuracy: 0.0000e+00 - val_loss: 0.6792 - val_accuracy: 0.0000e+00\n",
      "Epoch 84/100\n",
      "5880/5880 [==============================] - 0s 33us/sample - loss: 0.5820 - accuracy: 0.0000e+00 - val_loss: 0.6718 - val_accuracy: 0.0000e+00\n",
      "Epoch 85/100\n",
      "5880/5880 [==============================] - 0s 30us/sample - loss: 0.5804 - accuracy: 0.0000e+00 - val_loss: 0.6867 - val_accuracy: 0.0000e+00\n",
      "Epoch 86/100\n",
      "5880/5880 [==============================] - 0s 32us/sample - loss: 0.5813 - accuracy: 0.0000e+00 - val_loss: 0.6738 - val_accuracy: 0.0000e+00\n",
      "Epoch 87/100\n",
      "5880/5880 [==============================] - 0s 33us/sample - loss: 0.5817 - accuracy: 0.0000e+00 - val_loss: 0.6747 - val_accuracy: 0.0000e+00\n",
      "Epoch 88/100\n",
      "5880/5880 [==============================] - 0s 33us/sample - loss: 0.5800 - accuracy: 0.0000e+00 - val_loss: 0.6755 - val_accuracy: 0.0000e+00\n",
      "Epoch 89/100\n",
      "5880/5880 [==============================] - 0s 34us/sample - loss: 0.5785 - accuracy: 0.0000e+00 - val_loss: 0.6769 - val_accuracy: 0.0000e+00\n",
      "Epoch 90/100\n",
      "5880/5880 [==============================] - 0s 29us/sample - loss: 0.5787 - accuracy: 0.0000e+00 - val_loss: 0.6791 - val_accuracy: 0.0000e+00\n",
      "Epoch 91/100\n",
      "5880/5880 [==============================] - 0s 30us/sample - loss: 0.5786 - accuracy: 0.0000e+00 - val_loss: 0.6747 - val_accuracy: 0.0000e+00\n",
      "Epoch 92/100\n",
      "5880/5880 [==============================] - 0s 33us/sample - loss: 0.5785 - accuracy: 0.0000e+00 - val_loss: 0.6764 - val_accuracy: 0.0000e+00\n",
      "Epoch 93/100\n",
      "5880/5880 [==============================] - 0s 30us/sample - loss: 0.5776 - accuracy: 0.0000e+00 - val_loss: 0.6772 - val_accuracy: 0.0000e+00\n",
      "Epoch 94/100\n",
      "5880/5880 [==============================] - 0s 30us/sample - loss: 0.5773 - accuracy: 0.0000e+00 - val_loss: 0.6763 - val_accuracy: 0.0000e+00\n",
      "Epoch 95/100\n",
      "5880/5880 [==============================] - 0s 33us/sample - loss: 0.5770 - accuracy: 0.0000e+00 - val_loss: 0.6801 - val_accuracy: 0.0000e+00\n",
      "Epoch 96/100\n",
      "5880/5880 [==============================] - 0s 34us/sample - loss: 0.5767 - accuracy: 0.0000e+00 - val_loss: 0.6748 - val_accuracy: 0.0000e+00\n",
      "Epoch 97/100\n",
      "5880/5880 [==============================] - 0s 35us/sample - loss: 0.5752 - accuracy: 0.0000e+00 - val_loss: 0.6757 - val_accuracy: 0.0000e+00\n",
      "Epoch 98/100\n",
      "5880/5880 [==============================] - 0s 33us/sample - loss: 0.5746 - accuracy: 0.0000e+00 - val_loss: 0.6880 - val_accuracy: 0.0000e+00\n",
      "Epoch 99/100\n",
      "5880/5880 [==============================] - 0s 34us/sample - loss: 0.5753 - accuracy: 0.0000e+00 - val_loss: 0.6777 - val_accuracy: 0.0000e+00\n",
      "Epoch 100/100\n",
      "5880/5880 [==============================] - 0s 31us/sample - loss: 0.5747 - accuracy: 0.0000e+00 - val_loss: 0.6766 - val_accuracy: 0.0000e+00\n"
     ]
    }
   ],
   "source": [
    "#fitting the model for training data, batch size 32, 100 iterations, shuffled and split 20% for validation\n",
    "history_mld = model.fit(x2_train,y2_train, batch_size=32, epochs=100, shuffle=True,validation_split=0.2);"
   ]
  },
  {
   "cell_type": "code",
   "execution_count": 35,
   "metadata": {},
   "outputs": [
    {
     "name": "stdout",
     "output_type": "stream",
     "text": [
      "training set: [0.5886096011375894, 0.0]\n",
      "test set: [0.681476090786949, 0.0]\n"
     ]
    }
   ],
   "source": [
    "#checking loss for test vs train\n",
    "print('training set:',model.evaluate(x2_train,y2_train,verbose=0))\n",
    "print('test set:',model.evaluate(x2_test,y2_test,verbose=0))"
   ]
  },
  {
   "cell_type": "markdown",
   "metadata": {},
   "source": [
    "Training set has smaller loss so is better, as there is more data (70:30 split)."
   ]
  },
  {
   "cell_type": "code",
   "execution_count": 38,
   "metadata": {},
   "outputs": [],
   "source": [
    "#calculating over all loss and validation loss from shallow keras model using .history[*type of loss*]\n",
    "val_loss_keras = history_mld.history['val_loss']\n",
    "loss_keras = history_mld.history['loss']"
   ]
  },
  {
   "cell_type": "code",
   "execution_count": 62,
   "metadata": {},
   "outputs": [
    {
     "data": {
      "image/png": "[encoded data removed]",
      "text/plain": [
       "<Figure size 720x360 with 1 Axes>"
      ]
     },
     "metadata": {
      "needs_background": "light"
     },
     "output_type": "display_data"
    }
   ],
   "source": [
    "#plotting validation loss and loss in keras vs loss in Sklearn\n",
    "plt.plot(epochs,loss,label='SKLearn')\n",
    "plt.plot(loss_keras,label='loss keras')\n",
    "plt.plot(val_loss_keras,label='val_loss keras')\n",
    "plt.xlabel('no. of epochs')\n",
    "plt.ylabel('loss function, L')\n",
    "plt.legend()\n",
    "plt.show()"
   ]
  },
  {
   "cell_type": "markdown",
   "metadata": {},
   "source": [
    "Training loss is minimised, while validation loss saturates. \n",
    "In the keras model theres a low loss on training, but high loss on testing datasets. The errors have high variance. Keras model has overfitted the data.\n",
    "SKLearn model has not overtrained"
   ]
  },
  {
   "cell_type": "markdown",
   "metadata": {},
   "source": [
    "## 5. Regularisation (1.5 marks)\n",
    "---\n",
    "This section covers **2** exercises on the impact of weight regularisaton. Note that $L_{1}$- and $L_{2}$-regularisation may also be applied to the activation of intermediate layers. Also, a similar regularising effect could be achieved using **dropout** regularisation, which you are encouraged to try out, but which we won't study in this CP exercise."
   ]
  },
  {
   "cell_type": "code",
   "execution_count": 40,
   "metadata": {},
   "outputs": [],
   "source": [
    "# Relevant import(s) for this section\n",
    "from tensorflow.python.keras.regularizers import l1_l2"
   ]
  },
  {
   "cell_type": "markdown",
   "metadata": {},
   "source": [
    "#### 14. Define `Keras` model factory method (0.5 mark)\n",
    "\n",
    "- Define a python function called `big_model_fn` which takes the followng three arguments:\n",
    "    - `l1`: A float specifying the $L_{1}$ regularisation factor (default value: 0)\n",
    "    - `l2`: A float specifying the $L_{2}$ regularisation factor (default value: 0)\n",
    "    - `name`: A string, specifying the name of the model (default value: None)\n",
    "- Indside the function, you should:\n",
    "    - Construct a `Keras` model using the functional API, which has:\n",
    "        - An input layer with the same number of nodes as the number of features in `X`.\n",
    "        - **Two** densely connected hidden layer with **100 nodes** each, both equipped with **ReLU activation**.\n",
    "        - Both hidden layers should be subject to kernel regularisation (_i.e._ weight regularisation) with the regularisation factors specified as an input.\n",
    "        - A densely connected output layer with **3 nodes** (the number of types of weather we're classifying) equipped with **softmax activation**.\n",
    "        - A name given by the corresponding argument.\n",
    "    - Compile the model in the same way as in **Exercise 14.**\n",
    "- The function should return the compiled `Keras` model. \n",
    "\n",
    "The method will provide a convenient way of constructing and compiling a number of \"big\"/deep `Keras` models which differ only by their regularisation and name."
   ]
  },
  {
   "cell_type": "code",
   "execution_count": 41,
   "metadata": {},
   "outputs": [],
   "source": [
    "def big_model_fn(l1=0, l2=0, name=None):\n",
    "    inputs = tf.keras.Input(shape=(23,))\n",
    "    #two hidden layers with 100 nodes each #reLU activation #regularizer takes inputs from function\n",
    "    #one goes into inputs\n",
    "    x = tf.keras.layers.Dense(100, activation=tf.nn.relu, kernel_regularizer=l1_l2(l1=l1,l2=l2))(inputs)\n",
    "    #second goes into the first x (layered into eachother)\n",
    "    x = tf.keras.layers.Dense(100, activation=tf.nn.relu, kernel_regularizer=l1_l2(l1=l1,l2=l2))(x)\n",
    "    #A densely connected output layer with 3 nodes equipped with softmax activation\n",
    "    outputs = tf.keras.layers.Dense(3, activation=tf.nn.softmax)(x)\n",
    "    #compile the model and return it\n",
    "    model = tf.keras.Model(inputs=inputs, outputs=outputs, name=name);\n",
    "    model.compile(optimizer='adam', loss='sparse_categorical_crossentropy', metrics=[tf.keras.metrics.Accuracy()])\n",
    "    return model"
   ]
  },
  {
   "cell_type": "code",
   "execution_count": 42,
   "metadata": {},
   "outputs": [
    {
     "name": "stdout",
     "output_type": "stream",
     "text": [
      "Model: \"test\"\n",
      "_________________________________________________________________\n",
      "Layer (type)                 Output Shape              Param #   \n",
      "=================================================================\n",
      "input_2 (InputLayer)         [(None, 23)]              0         \n",
      "_________________________________________________________________\n",
      "dense_2 (Dense)              (None, 100)               2400      \n",
      "_________________________________________________________________\n",
      "dense_3 (Dense)              (None, 100)               10100     \n",
      "_________________________________________________________________\n",
      "dense_4 (Dense)              (None, 3)                 303       \n",
      "=================================================================\n",
      "Total params: 12,803\n",
      "Trainable params: 12,803\n",
      "Non-trainable params: 0\n",
      "_________________________________________________________________\n",
      "None\n"
     ]
    }
   ],
   "source": [
    "#testing function works\n",
    "model2 = big_model_fn(0.001,0.001,'test')\n",
    "print(model2.summary())"
   ]
  },
  {
   "cell_type": "markdown",
   "metadata": {},
   "source": [
    "#### 15. Train \"big\" models with and without regularisation (1 mark)\n",
    "\n",
    "- Construct three \"big\" model using the factory method:\n",
    "     - One with default parameters\n",
    "     - One with `l1=0.0003` and  `name='Big model (L1-regularised)'`\n",
    "     - One with `l2=0.003`  and `name='Big model (L2-regularised)'`\n",
    "- Train each one as in **Exercise 15.**\n",
    "- Compare first the loss history of the un-regularised \"big\" model to that of the small model from **Exercise 15** using the `plot.loss()` method. # JUST PLOT LOSS CURVES\n",
    "- Then, compare the loss histories of all three \"big\" models with that of the small model.\n",
    "- Plot the loss and val loss of all 4 models and discuss the results. Target these points:\n",
    "    - Compare the performance of deep vs shallow models on the testing sets\n",
    "    - Compare the level of ovetraining (training vs testing loss)\n",
    "    - Note: Don't be alarmed if the shallow network performs slightly better that the deeper ones, this is dataset dependant."
   ]
  },
  {
   "cell_type": "code",
   "execution_count": 43,
   "metadata": {},
   "outputs": [],
   "source": [
    "#constructing three big models, one with no param, one with l1 specified, one with l2\n",
    "default_param = big_model_fn()\n",
    "L1_reg = big_model_fn(l1=0.0003, name='Big model (L1-regularised)')\n",
    "L2_reg = big_model_fn(l2=0.003, name='Big model (L2-regularised)')"
   ]
  },
  {
   "cell_type": "markdown",
   "metadata": {},
   "source": [
    "##### FROM EX13: Use the .fit() member method to train the network on the training dataset for 100 epochs with a batch size of 32. Use 20% of the data for validation and make sure to have Keras shuffle the training data between epochs. Save the fit history by doing history_mld = ....."
   ]
  },
  {
   "cell_type": "code",
   "execution_count": 44,
   "metadata": {},
   "outputs": [],
   "source": [
    "#fit training data to each big model for same parameters as before\n",
    "#obtain loss and validation loss from all big models using .history[]\n",
    "hist1 = default_param.fit(x2_train,y2_train, batch_size=32, epochs=100, shuffle=True,validation_split=0.2,verbose=0)\n",
    "loss_default = hist1.history['loss']\n",
    "val_loss_default = hist1.history['val_loss']\n",
    "\n",
    "hist2 = L1_reg.fit(x2_train,y2_train, batch_size=32, epochs=100, shuffle=True,validation_split=0.2,verbose=0)\n",
    "loss_L1 = hist2.history['loss']\n",
    "val_loss_L1 = hist2.history['val_loss']\n",
    "\n",
    "hist3 = L2_reg.fit(x2_train,y2_train, batch_size=32, epochs=100, shuffle=True,validation_split=0.2,verbose=0)\n",
    "loss_L2 = hist3.history['loss']\n",
    "val_loss_L2 = hist3.history['val_loss']"
   ]
  },
  {
   "cell_type": "code",
   "execution_count": 61,
   "metadata": {},
   "outputs": [
    {
     "data": {
      "image/png": "[encoded data removed]",
      "text/plain": [
       "<Figure size 720x432 with 1 Axes>"
      ]
     },
     "metadata": {
      "needs_background": "light"
     },
     "output_type": "display_data"
    }
   ],
   "source": [
    "#plot all validation losses and loss for each models to compare them\n",
    "plt.plot(loss_default,label='big default model')\n",
    "plt.plot(val_loss_default,label='val big default model')\n",
    "plt.plot(loss_L1,label='big L1 model')\n",
    "plt.plot(val_loss_L1,label='val big L1 model')\n",
    "plt.plot(loss_L2,label='big L2 model')\n",
    "plt.plot(val_loss_L2,label='val big L2 model')\n",
    "plt.plot(loss_keras,label='small model')\n",
    "plt.plot(val_loss_keras,label='val small model')\n",
    "plt.rcParams['figure.figsize'] = (10,5)\n",
    "plt.xlabel('No. of Epochs')\n",
    "plt.ylabel('Loss function')\n",
    "plt.legend()\n",
    "plt.show()"
   ]
  },
  {
   "cell_type": "markdown",
   "metadata": {},
   "source": [
    "In the big model with no regularization, it is largely over trained, thus has the largest split between validation loss and loss. The best model is the big L2 model as it has the smallest split and therefore it has sufficient capacity and is the most ideal model out of the lot."
   ]
  },
  {
   "cell_type": "markdown",
   "metadata": {},
   "source": [
    "## 6. Bonus: Hyperparameter optimisation (1\\*bonus\\* mark)\n",
    "---"
   ]
  },
  {
   "cell_type": "markdown",
   "metadata": {},
   "source": [
    "This section covers **1** exercise on the on hyperparameter optimisation. "
   ]
  },
  {
   "cell_type": "code",
   "execution_count": null,
   "metadata": {},
   "outputs": [],
   "source": [
    "# Relevant import(s) for this section\n",
    "from sklearn.model_selection import GridSearchCV, cross_val_score"
   ]
  },
  {
   "cell_type": "markdown",
   "metadata": {},
   "source": [
    "---\n",
    "_**Comment on simplified hyperparameter optimisation example:**_ You will try to perform a simple optimisation using a grid search\n",
    "\n",
    "For convenience, we will be using the `scikit-learn` `MLPClassifier` as our base class, but the same principles apply to just about any ML model constructed in any framework. Just as in the examples in the lecture, we will restrict the hyperparameter space to just two dimensions:\n",
    "\n",
    "* the number of hidden layers, `nb_layers`, and\n",
    "* the number of nodes per hidden layer, `nb_nodes_per_layer`, which is taken to be the same for all hidden layers for simplicity.\n",
    "\n",
    "Since the `scikit-learn` neural network classifier class doesn't support these two hyperparameters by default, provided is a simple wrapper class, that works exactly like `MLPClassifier`, it just takes the two parameters above as arguments in the constructor. Don't worry about understanding it in detail. This allows us to call "
   ]
  },
  {
   "cell_type": "code",
   "execution_count": null,
   "metadata": {},
   "outputs": [],
   "source": [
    "class MLPClassifierWrapper(MLPClassifier):\n",
    "    \"\"\"\n",
    "    Wrapper around `sklearn.neural_network.MLPClassifier` with a convenient set \n",
    "    of properties (nb_layers and nb_nodes_per_layer) suitable for hyperparameter \n",
    "    optimisation exercises.\n",
    "    \n",
    "    Arguments:\n",
    "        nb_layers: Integer, number of hidden layers\n",
    "        nb_nodes_per_layer: Number of nodes per hidden layer, taken to be the \n",
    "            same for all for convenience.\n",
    "    \"\"\"\n",
    "\n",
    "    def __init__ (self, nb_layers=1, nb_nodes_per_layer=100, **kwargs):\n",
    "        \n",
    "        # Member variables\n",
    "        self._nb_layers = nb_layers\n",
    "        self._nb_nodes_per_layer = nb_nodes_per_layer  \n",
    "        \n",
    "        # Call base class (`MLPClassifier`) constructor\n",
    "        super(MLPClassifierWrapper, self).__init__(**kwargs)\n",
    "        \n",
    "        # Trigger `_set_architecture`\n",
    "        self._set_architecture()\n",
    "        return\n",
    "\n",
    "    @property\n",
    "    def nb_layers(self):\n",
    "        return self._nb_layers\n",
    "    \n",
    "    @property\n",
    "    def nb_nodes_per_layer(self):\n",
    "        return self._nb_nodes_per_layer \n",
    "\n",
    "    @nb_layers.setter\n",
    "    def nb_layers(self, value):\n",
    "        self._nb_layers = value\n",
    "        self._set_architecture()\n",
    "        return\n",
    "    \n",
    "    @nb_nodes_per_layer.setter\n",
    "    def nb_nodes_per_layer(self, value):\n",
    "        self._nb_nodes_per_layer = value\n",
    "        self._set_architecture()\n",
    "        return\n",
    "    \n",
    "    def _set_architecture (self):\n",
    "        \"\"\"\n",
    "        Sets the `hidden_layer_sizes` parameter of the base `MLPClassifier` \n",
    "        class, based on the two custom parameters we have chosen.\n",
    "        \"\"\"\n",
    "        \n",
    "        self.hidden_layer_sizes = tuple([self._nb_nodes_per_layer for _ in range(self._nb_layers)])\n",
    "        return\n",
    "    pass"
   ]
  },
  {
   "cell_type": "markdown",
   "metadata": {},
   "source": [
    "---"
   ]
  },
  {
   "cell_type": "markdown",
   "metadata": {},
   "source": [
    "#### 16. Perform a grid search (1 mark)\n",
    "\n",
    "- Construct a python `dict` called `param_grid` which specifies the hyperparameter configurations to try for each parameter dimension. That is, it should have\n",
    "    - `\"nb_layers\"` and `\"nb_nodes_per_layer\"` as keys, and\n",
    "    - lists of integers as values, corresponding to the values of each parameter you want to try out (_e.g._ [1, 2, ...])\n",
    "- Choose a reasonable set of values for each parameter; about a handful for each.\n",
    "- Use the `GridSearchCV` class to perform _**3**_**-fold** cross validation (CV) optimisation of the validation **accuracy**\n",
    "    - Hint: You can use the `n_jobs=...` argument to enable multi-processing, thereby speeding up the optimisation, at the expense of reproducibility.\n",
    "- The base classifier should be an instance of `MLPClassifierWrapper` set to train for **100 epochs**.\n",
    "- Present the results:\n",
    "    - Print the best parameter configuration found. GridSearchCV has a public member which stores this. Read doc.\n",
    "    - Print the mean and standard deviation of the test scores for the best configuration found. (_Hint:_ These can be found in the `.cv_results_` attribute)\n",
    "    - Plot the optimisation results using the `plot.optimisation` method.\n",
    "- Discuss the results. What would happen if the best result is foundon the edge of the parameter grid?"
   ]
  }
 ],
 "metadata": {
  "kernelspec": {
   "display_name": "Python 3 (ipykernel)",
   "language": "python",
   "name": "python3"
  },
  "language_info": {
   "codemirror_mode": {
    "name": "ipython",
    "version": 3
   },
   "file_extension": ".py",
   "mimetype": "text/x-python",
   "name": "python",
   "nbconvert_exporter": "python",
   "pygments_lexer": "ipython3",
   "version": "3.7.10"
  }
 },
 "nbformat": 4,
 "nbformat_minor": 2
}
