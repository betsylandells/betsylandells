{
 "cells": [
  {
   "cell_type": "markdown",
   "id": "c21bab77",
   "metadata": {},
   "source": [
    "### Checkpoint 6"
   ]
  },
  {
   "cell_type": "code",
   "execution_count": 96,
   "id": "8305a9e8",
   "metadata": {},
   "outputs": [],
   "source": [
    "from matplotlib import pyplot as plt\n",
    "%matplotlib inline\n",
    "import numpy as np\n",
    "import time\n",
    "from scipy import integrate\n",
    "import scipy\n",
    "import scipy.stats"
   ]
  },
  {
   "cell_type": "code",
   "execution_count": 97,
   "id": "b7a4b0d0",
   "metadata": {},
   "outputs": [],
   "source": [
    "from iminuit import Minuit"
   ]
  },
  {
   "cell_type": "code",
   "execution_count": 32,
   "id": "af00fe8e",
   "metadata": {},
   "outputs": [],
   "source": [
    "DATA = np.loadtxt('exp.txt')"
   ]
  },
  {
   "cell_type": "markdown",
   "id": "3b8a27f5",
   "metadata": {},
   "source": [
    "### Part 1"
   ]
  },
  {
   "cell_type": "code",
   "execution_count": 287,
   "id": "12f1e8f9",
   "metadata": {},
   "outputs": [
    {
     "data": {
      "image/png": "[encoded data removed]",
      "text/plain": [
       "<Figure size 432x288 with 1 Axes>"
      ]
     },
     "metadata": {
      "needs_background": "light"
     },
     "output_type": "display_data"
    }
   ],
   "source": [
    "#print histogram of 10,000 decay times, in 100 bins\n",
    "#normalize the histogram with density=True\n",
    "N, bins, _ = plt.hist(DATA,bins=100,density=True,color='orange')\n",
    "plt.show()"
   ]
  },
  {
   "cell_type": "code",
   "execution_count": 288,
   "id": "035ddcb3",
   "metadata": {},
   "outputs": [],
   "source": [
    "#Implement a maximum likelihood fit to these data to determine the lifetime and its error"
   ]
  },
  {
   "cell_type": "code",
   "execution_count": 331,
   "id": "4c12c845",
   "metadata": {},
   "outputs": [],
   "source": [
    "#define exponential decay function which is normalized between 0 and 10\n",
    "def func1(t,tau):\n",
    "    xmin=0\n",
    "    xmax=10\n",
    "    return np.exp(-t/tau) * 1/(tau*(np.exp(-xmin/tau) -  np.exp(-xmax/tau)))"
   ]
  },
  {
   "cell_type": "markdown",
   "id": "29646718",
   "metadata": {},
   "source": [
    "#### Using SCIPY.MINIMIZE"
   ]
  },
  {
   "cell_type": "code",
   "execution_count": 332,
   "id": "dab77350",
   "metadata": {},
   "outputs": [],
   "source": [
    "#define a negative log likelihood function\n",
    "def NLL(args, func, data):\n",
    "    \"\"\"Negative log likelihood\"\"\"\n",
    "    #sum of (log(function))\n",
    "    return - np.sum(np.log(func(data, *args)))"
   ]
  },
  {
   "cell_type": "code",
   "execution_count": 333,
   "id": "f3ed0d99",
   "metadata": {},
   "outputs": [],
   "source": [
    "#minimize the negative log likelihood using scipy, give x0 a guess that isnt the exact answer, so it keeps finding optimal value\n",
    "#i.e. set tau = 1\n",
    "result = scipy.optimize.minimize(NLL, args = (func1, DATA), x0 = 1, method = \"L-BFGS-B\")"
   ]
  },
  {
   "cell_type": "code",
   "execution_count": 334,
   "id": "908092c6",
   "metadata": {},
   "outputs": [],
   "source": [
    "#the tau guess is given by res.x\n",
    "tau_guess = result.x\n",
    "#the errors are calculated by the hess matrix\n",
    "HESS_INV = scipy.optimize.minimize(NLL,args=(func1,DATA),x0=1).hess_inv\n",
    "#from documentation: '.hess_inv' returned by the fit is the covariance matrix describing the Gaussian approximation of LL\n",
    "#the parameter errors are the root of the diag elements of hess_inv\n",
    "errs = np.sqrt(np.diag(HESS_INV))"
   ]
  },
  {
   "cell_type": "code",
   "execution_count": 335,
   "id": "e90744d1",
   "metadata": {},
   "outputs": [
    {
     "data": {
      "text/plain": [
       "(array([2.20434418]), array([0.02502716]))"
      ]
     },
     "execution_count": 335,
     "metadata": {},
     "output_type": "execute_result"
    }
   ],
   "source": [
    "#tau is given as 2.204 microseconds, close to the true value of 2.2\n",
    "tau_guess, errs "
   ]
  },
  {
   "cell_type": "markdown",
   "id": "36cb4eb2",
   "metadata": {},
   "source": [
    "### Using Miniut"
   ]
  },
  {
   "cell_type": "code",
   "execution_count": 361,
   "id": "a602949d",
   "metadata": {},
   "outputs": [],
   "source": [
    "def get_NLL(tau): \n",
    "    xmin = 0\n",
    "    xmax = 10\n",
    "    #generate the mean, mu, by calculating rate equation for the different times in dataset\n",
    "    mu = func1(DATA,tau) \n",
    "    #generate the log using the calculated mean\n",
    "    LL = np.log(mu)\n",
    "    #negative log likely hood is the negative of the sum over all log values\n",
    "    NLL = -np.sum(LL)\n",
    "    return NLL"
   ]
  },
  {
   "cell_type": "code",
   "execution_count": 377,
   "id": "f2c85c8c",
   "metadata": {},
   "outputs": [],
   "source": [
    "get_NLL.errordef = Minuit.LIKELIHOOD #this is 0.5 \n",
    "#use the Minuit module, guess again for tau=1\n",
    "m = Minuit(get_NLL, tau = 1.)"
   ]
  },
  {
   "cell_type": "code",
   "execution_count": 378,
   "id": "ccea2168",
   "metadata": {},
   "outputs": [
    {
     "data": {
      "text/html": [
       "<table>\n",
       "    <tr>\n",
       "        <th colspan=\"5\" style=\"text-align:center\" title=\"Minimizer\"> Migrad </th>\n",
       "    </tr>\n",
       "    <tr>\n",
       "        <td colspan=\"2\" style=\"text-align:left\" title=\"Minimum value of function\"> FCN = 1.731e+04 </td>\n",
       "        <td colspan=\"3\" style=\"text-align:center\" title=\"No. of function evaluations in last call and total number\"> Nfcn = 29 </td>\n",
       "    </tr>\n",
       "    <tr>\n",
       "        <td colspan=\"2\" style=\"text-align:left\" title=\"Estimated distance to minimum and goal\"> EDM = 1.06e-06 (Goal: 0.0001) </td>\n",
       "        <td colspan=\"3\" style=\"text-align:center\" title=\"No. of gradient evaluations in last call and total number\">  </td>\n",
       "    </tr>\n",
       "    <tr>\n",
       "        <td colspan=\"2\" style=\"text-align:center;background-color:#92CCA6;color:black\"> Valid Minimum </td>\n",
       "        <td colspan=\"3\" style=\"text-align:center;background-color:#92CCA6;color:black\"> No Parameters at limit </td>\n",
       "    </tr>\n",
       "    <tr>\n",
       "        <td colspan=\"2\" style=\"text-align:center;background-color:#92CCA6;color:black\"> Below EDM threshold (goal x 10) </td>\n",
       "        <td colspan=\"3\" style=\"text-align:center;background-color:#92CCA6;color:black\"> Below call limit </td>\n",
       "    </tr>\n",
       "    <tr>\n",
       "        <td style=\"text-align:center;background-color:#92CCA6;color:black\"> Covariance </td>\n",
       "        <td style=\"text-align:center;background-color:#92CCA6;color:black\"> Hesse ok </td>\n",
       "        <td style=\"text-align:center;background-color:#92CCA6;color:black\" title=\"Is covariance matrix accurate?\"> Accurate </td>\n",
       "        <td style=\"text-align:center;background-color:#92CCA6;color:black\" title=\"Is covariance matrix positive definite?\"> Pos. def. </td>\n",
       "        <td style=\"text-align:center;background-color:#92CCA6;color:black\" title=\"Was positive definiteness enforced by Minuit?\"> Not forced </td>\n",
       "    </tr>\n",
       "</table><table>\n",
       "    <tr>\n",
       "        <td></td>\n",
       "        <th title=\"Variable name\"> Name </th>\n",
       "        <th title=\"Value of parameter\"> Value </th>\n",
       "        <th title=\"Hesse error\"> Hesse Error </th>\n",
       "        <th title=\"Minos lower error\"> Minos Error- </th>\n",
       "        <th title=\"Minos upper error\"> Minos Error+ </th>\n",
       "        <th title=\"Lower limit of the parameter\"> Limit- </th>\n",
       "        <th title=\"Upper limit of the parameter\"> Limit+ </th>\n",
       "        <th title=\"Is the parameter fixed in the fit\"> Fixed </th>\n",
       "    </tr>\n",
       "    <tr>\n",
       "        <th> 0 </th>\n",
       "        <td> tau </td>\n",
       "        <td> 2.204 </td>\n",
       "        <td> 0.025 </td>\n",
       "        <td>  </td>\n",
       "        <td>  </td>\n",
       "        <td>  </td>\n",
       "        <td>  </td>\n",
       "        <td>  </td>\n",
       "    </tr>\n",
       "</table><table>\n",
       "    <tr>\n",
       "        <td></td>\n",
       "        <th> tau </th>\n",
       "    </tr>\n",
       "    <tr>\n",
       "        <th> tau </th>\n",
       "        <td> 0.000627 </td>\n",
       "    </tr>\n",
       "</table>"
      ],
      "text/plain": [
       "┌─────────────────────────────────────────────────────────────────────────┐\n",
       "│                                Migrad                                   │\n",
       "├──────────────────────────────────┬──────────────────────────────────────┤\n",
       "│ FCN = 1.731e+04                  │              Nfcn = 29               │\n",
       "│ EDM = 1.06e-06 (Goal: 0.0001)    │                                      │\n",
       "├──────────────────────────────────┼──────────────────────────────────────┤\n",
       "│          Valid Minimum           │        No Parameters at limit        │\n",
       "├──────────────────────────────────┼──────────────────────────────────────┤\n",
       "│ Below EDM threshold (goal x 10)  │           Below call limit           │\n",
       "├───────────────┬──────────────────┼───────────┬─────────────┬────────────┤\n",
       "│  Covariance   │     Hesse ok     │ Accurate  │  Pos. def.  │ Not forced │\n",
       "└───────────────┴──────────────────┴───────────┴─────────────┴────────────┘\n",
       "┌───┬──────┬───────────┬───────────┬────────────┬────────────┬─────────┬─────────┬───────┐\n",
       "│   │ Name │   Value   │ Hesse Err │ Minos Err- │ Minos Err+ │ Limit-  │ Limit+  │ Fixed │\n",
       "├───┼──────┼───────────┼───────────┼────────────┼────────────┼─────────┼─────────┼───────┤\n",
       "│ 0 │ tau  │   2.204   │   0.025   │            │            │         │         │       │\n",
       "└───┴──────┴───────────┴───────────┴────────────┴────────────┴─────────┴─────────┴───────┘\n",
       "┌─────┬──────────┐\n",
       "│     │      tau │\n",
       "├─────┼──────────┤\n",
       "│ tau │ 0.000627 │\n",
       "└─────┴──────────┘"
      ]
     },
     "execution_count": 378,
     "metadata": {},
     "output_type": "execute_result"
    }
   ],
   "source": [
    "#minimization given by minuit\n",
    "m.migrad()"
   ]
  },
  {
   "cell_type": "code",
   "execution_count": 364,
   "id": "210c1281",
   "metadata": {
    "scrolled": true
   },
   "outputs": [
    {
     "name": "stdout",
     "output_type": "stream",
     "text": [
      "<ErrorView tau=0.025042335479675486>\n"
     ]
    }
   ],
   "source": [
    "#print the errors given by minuit\n",
    "print(m.errors)"
   ]
  },
  {
   "cell_type": "code",
   "execution_count": 365,
   "id": "8cf04f21",
   "metadata": {},
   "outputs": [],
   "source": [
    "#generate function with parametrs given by minuit\n",
    "t = np.linspace(0,10,1000)\n",
    "y1 = func1(t, 2.204)"
   ]
  },
  {
   "cell_type": "code",
   "execution_count": 366,
   "id": "296626c7",
   "metadata": {},
   "outputs": [
    {
     "data": {
      "image/png": "[encoded data removed]",
      "text/plain": [
       "<Figure size 432x288 with 1 Axes>"
      ]
     },
     "metadata": {
      "needs_background": "light"
     },
     "output_type": "display_data"
    }
   ],
   "source": [
    "#overlay plot of function given by minuit and the histogram of real data\n",
    "plt.plot(t,y1)\n",
    "N, bins, _ = plt.hist(DATA,bins=100,density=True,color='orange')\n",
    "plt.show()"
   ]
  },
  {
   "cell_type": "markdown",
   "id": "ba9d808d",
   "metadata": {},
   "source": [
    "### Part 2"
   ]
  },
  {
   "cell_type": "code",
   "execution_count": 367,
   "id": "f3a77a8b",
   "metadata": {},
   "outputs": [],
   "source": [
    "DATA2 = np.loadtxt('expresonance.txt')"
   ]
  },
  {
   "cell_type": "code",
   "execution_count": 368,
   "id": "b7c32a1a",
   "metadata": {},
   "outputs": [
    {
     "data": {
      "image/png": "[encoded data removed]",
      "text/plain": [
       "<Figure size 432x288 with 1 Axes>"
      ]
     },
     "metadata": {
      "needs_background": "light"
     },
     "output_type": "display_data"
    }
   ],
   "source": [
    "#print histogram of decay times including background and signal, in 100 bins\n",
    "#normalize the histogram with density=True\n",
    "N, bins, _ = plt.hist(DATA2,bins=100,density=True,color='orange')\n",
    "plt.show()"
   ]
  },
  {
   "cell_type": "code",
   "execution_count": 369,
   "id": "0059310e",
   "metadata": {},
   "outputs": [],
   "source": [
    "from scipy import integrate"
   ]
  },
  {
   "cell_type": "code",
   "execution_count": 370,
   "id": "b607d6fe",
   "metadata": {},
   "outputs": [],
   "source": [
    "def func2(t, lifetime, gauss_mu, frac):\n",
    "    \n",
    "    xmin = 0\n",
    "    xmax = 10\n",
    "    #width of gauss signal\n",
    "    sigma = 0.2\n",
    "\n",
    "    #background given as normalized exponential decay\n",
    "    BKG = np.exp(-t/lifetime) * 1/(lifetime*(np.exp(-xmin/lifetime) -  np.exp(-xmax/lifetime)))\n",
    "    #signal given as normalised gaussian with mean 'gauss_mu' and standard deviation 'sigma'\n",
    "    GAUSS = 1/(np.sqrt(2*np.pi)*sigma) * np.exp(-0.5*(t-gauss_mu)**2/sigma**2)\n",
    "    \n",
    "    #returns composite function fraction of background + (1-fraction) of signal\n",
    "    return frac*BKG + (1-frac)*GAUSS"
   ]
  },
  {
   "cell_type": "code",
   "execution_count": 371,
   "id": "d7ef2a60",
   "metadata": {},
   "outputs": [],
   "source": [
    "def get_NLL2(lifetime, gauss_mu, frac): \n",
    "    xmin = 0\n",
    "    xmax = 10\n",
    "    #generate the mean, mu\n",
    "    mu = func2(DATA2, lifetime, gauss_mu, frac)\n",
    "    #make sure that if mean is less than 10-4, return 10-4, so that there are no negative errors\n",
    "    mu[mu<1e-4] = 1e-4\n",
    "    #generate the log using the calculated mean\n",
    "    LL = np.log(mu)\n",
    "    #negative log likely hood is the negative of the sum over all log pmfs\n",
    "    NLL = -np.sum(LL)\n",
    "    return NLL"
   ]
  },
  {
   "cell_type": "code",
   "execution_count": 372,
   "id": "d8c0fbc7",
   "metadata": {},
   "outputs": [],
   "source": [
    "#set error of NLL to 0.5\n",
    "get_NLL2.errordef = Minuit.LIKELIHOOD\n",
    "#give guesses for lifetime, gaussian mean and fraction\n",
    "m = Minuit(get_NLL2, lifetime = 3.0, gauss_mu = 2.5, frac = 0.8)"
   ]
  },
  {
   "cell_type": "code",
   "execution_count": 373,
   "id": "4cb15cae",
   "metadata": {},
   "outputs": [
    {
     "data": {
      "text/html": [
       "<table>\n",
       "    <tr>\n",
       "        <th colspan=\"5\" style=\"text-align:center\" title=\"Minimizer\"> Migrad </th>\n",
       "    </tr>\n",
       "    <tr>\n",
       "        <td colspan=\"2\" style=\"text-align:left\" title=\"Minimum value of function\"> FCN = 2.102e+04 </td>\n",
       "        <td colspan=\"3\" style=\"text-align:center\" title=\"No. of function evaluations in last call and total number\"> Nfcn = 88 </td>\n",
       "    </tr>\n",
       "    <tr>\n",
       "        <td colspan=\"2\" style=\"text-align:left\" title=\"Estimated distance to minimum and goal\"> EDM = 3.97e-06 (Goal: 0.0001) </td>\n",
       "        <td colspan=\"3\" style=\"text-align:center\" title=\"No. of gradient evaluations in last call and total number\">  </td>\n",
       "    </tr>\n",
       "    <tr>\n",
       "        <td colspan=\"2\" style=\"text-align:center;background-color:#92CCA6;color:black\"> Valid Minimum </td>\n",
       "        <td colspan=\"3\" style=\"text-align:center;background-color:#92CCA6;color:black\"> No Parameters at limit </td>\n",
       "    </tr>\n",
       "    <tr>\n",
       "        <td colspan=\"2\" style=\"text-align:center;background-color:#92CCA6;color:black\"> Below EDM threshold (goal x 10) </td>\n",
       "        <td colspan=\"3\" style=\"text-align:center;background-color:#92CCA6;color:black\"> Below call limit </td>\n",
       "    </tr>\n",
       "    <tr>\n",
       "        <td style=\"text-align:center;background-color:#92CCA6;color:black\"> Covariance </td>\n",
       "        <td style=\"text-align:center;background-color:#92CCA6;color:black\"> Hesse ok </td>\n",
       "        <td style=\"text-align:center;background-color:#92CCA6;color:black\" title=\"Is covariance matrix accurate?\"> Accurate </td>\n",
       "        <td style=\"text-align:center;background-color:#92CCA6;color:black\" title=\"Is covariance matrix positive definite?\"> Pos. def. </td>\n",
       "        <td style=\"text-align:center;background-color:#92CCA6;color:black\" title=\"Was positive definiteness enforced by Minuit?\"> Not forced </td>\n",
       "    </tr>\n",
       "</table><table>\n",
       "    <tr>\n",
       "        <td></td>\n",
       "        <th title=\"Variable name\"> Name </th>\n",
       "        <th title=\"Value of parameter\"> Value </th>\n",
       "        <th title=\"Hesse error\"> Hesse Error </th>\n",
       "        <th title=\"Minos lower error\"> Minos Error- </th>\n",
       "        <th title=\"Minos upper error\"> Minos Error+ </th>\n",
       "        <th title=\"Lower limit of the parameter\"> Limit- </th>\n",
       "        <th title=\"Upper limit of the parameter\"> Limit+ </th>\n",
       "        <th title=\"Is the parameter fixed in the fit\"> Fixed </th>\n",
       "    </tr>\n",
       "    <tr>\n",
       "        <th> 0 </th>\n",
       "        <td> lifetime </td>\n",
       "        <td> 5.04 </td>\n",
       "        <td> 0.10 </td>\n",
       "        <td>  </td>\n",
       "        <td>  </td>\n",
       "        <td>  </td>\n",
       "        <td>  </td>\n",
       "        <td>  </td>\n",
       "    </tr>\n",
       "    <tr>\n",
       "        <th> 1 </th>\n",
       "        <td> gauss_mu </td>\n",
       "        <td> 2.500 </td>\n",
       "        <td> 0.012 </td>\n",
       "        <td>  </td>\n",
       "        <td>  </td>\n",
       "        <td>  </td>\n",
       "        <td>  </td>\n",
       "        <td>  </td>\n",
       "    </tr>\n",
       "    <tr>\n",
       "        <th> 2 </th>\n",
       "        <td> frac </td>\n",
       "        <td> 0.903 </td>\n",
       "        <td> 0.005 </td>\n",
       "        <td>  </td>\n",
       "        <td>  </td>\n",
       "        <td>  </td>\n",
       "        <td>  </td>\n",
       "        <td>  </td>\n",
       "    </tr>\n",
       "</table><table>\n",
       "    <tr>\n",
       "        <td></td>\n",
       "        <th> lifetime </th>\n",
       "        <th> gauss_mu </th>\n",
       "        <th> frac </th>\n",
       "    </tr>\n",
       "    <tr>\n",
       "        <th> lifetime </th>\n",
       "        <td> 0.0105 </td>\n",
       "        <td style=\"background-color:rgb(246,246,250);color:black\"> -4.18e-05 <strong>(-0.035)</strong> </td>\n",
       "        <td style=\"background-color:rgb(237,237,250);color:black\"> -4.49e-05 <strong>(-0.097)</strong> </td>\n",
       "    </tr>\n",
       "    <tr>\n",
       "        <th> gauss_mu </th>\n",
       "        <td style=\"background-color:rgb(246,246,250);color:black\"> -4.18e-05 <strong>(-0.035)</strong> </td>\n",
       "        <td> 0.000139 </td>\n",
       "        <td style=\"background-color:rgb(250,248,248);color:black\"> 8.43e-07 <strong>(0.016)</strong> </td>\n",
       "    </tr>\n",
       "    <tr>\n",
       "        <th> frac </th>\n",
       "        <td style=\"background-color:rgb(237,237,250);color:black\"> -4.49e-05 <strong>(-0.097)</strong> </td>\n",
       "        <td style=\"background-color:rgb(250,248,248);color:black\"> 8.43e-07 <strong>(0.016)</strong> </td>\n",
       "        <td> 2.03e-05 </td>\n",
       "    </tr>\n",
       "</table>"
      ],
      "text/plain": [
       "┌─────────────────────────────────────────────────────────────────────────┐\n",
       "│                                Migrad                                   │\n",
       "├──────────────────────────────────┬──────────────────────────────────────┤\n",
       "│ FCN = 2.102e+04                  │              Nfcn = 88               │\n",
       "│ EDM = 3.97e-06 (Goal: 0.0001)    │                                      │\n",
       "├──────────────────────────────────┼──────────────────────────────────────┤\n",
       "│          Valid Minimum           │        No Parameters at limit        │\n",
       "├──────────────────────────────────┼──────────────────────────────────────┤\n",
       "│ Below EDM threshold (goal x 10)  │           Below call limit           │\n",
       "├───────────────┬──────────────────┼───────────┬─────────────┬────────────┤\n",
       "│  Covariance   │     Hesse ok     │ Accurate  │  Pos. def.  │ Not forced │\n",
       "└───────────────┴──────────────────┴───────────┴─────────────┴────────────┘\n",
       "┌───┬──────────┬───────────┬───────────┬────────────┬────────────┬─────────┬─────────┬───────┐\n",
       "│   │ Name     │   Value   │ Hesse Err │ Minos Err- │ Minos Err+ │ Limit-  │ Limit+  │ Fixed │\n",
       "├───┼──────────┼───────────┼───────────┼────────────┼────────────┼─────────┼─────────┼───────┤\n",
       "│ 0 │ lifetime │   5.04    │   0.10    │            │            │         │         │       │\n",
       "│ 1 │ gauss_mu │   2.500   │   0.012   │            │            │         │         │       │\n",
       "│ 2 │ frac     │   0.903   │   0.005   │            │            │         │         │       │\n",
       "└───┴──────────┴───────────┴───────────┴────────────┴────────────┴─────────┴─────────┴───────┘\n",
       "┌──────────┬───────────────────────────────┐\n",
       "│          │  lifetime  gauss_mu      frac │\n",
       "├──────────┼───────────────────────────────┤\n",
       "│ lifetime │    0.0105 -4.18e-05 -4.49e-05 │\n",
       "│ gauss_mu │ -4.18e-05  0.000139  8.43e-07 │\n",
       "│     frac │ -4.49e-05  8.43e-07  2.03e-05 │\n",
       "└──────────┴───────────────────────────────┘"
      ]
     },
     "execution_count": 373,
     "metadata": {},
     "output_type": "execute_result"
    }
   ],
   "source": [
    "#get minimizer\n",
    "m.migrad()"
   ]
  },
  {
   "cell_type": "code",
   "execution_count": 374,
   "id": "a13c3c4d",
   "metadata": {},
   "outputs": [],
   "source": [
    "#generate function with parametrs given by minuit\n",
    "t = np.linspace(0,10,1000)\n",
    "y = func2(t, 5.04, 2.500, 0.903)"
   ]
  },
  {
   "cell_type": "code",
   "execution_count": 375,
   "id": "fbb4024b",
   "metadata": {},
   "outputs": [
    {
     "data": {
      "image/png": "[encoded data removed]",
      "text/plain": [
       "<Figure size 432x288 with 1 Axes>"
      ]
     },
     "metadata": {
      "needs_background": "light"
     },
     "output_type": "display_data"
    }
   ],
   "source": [
    "#overlay plot of function given by minuit and the histogram of real data\n",
    "plt.plot(t,y)\n",
    "plt.hist(DATA2,bins=100,density=True,color='orange')\n",
    "plt.show()"
   ]
  },
  {
   "cell_type": "code",
   "execution_count": 376,
   "id": "dbe609e0",
   "metadata": {},
   "outputs": [
    {
     "data": {
      "text/plain": [
       "<ErrorView lifetime=0.10269588580422455 gauss_mu=0.011786586701152822 frac=0.004506502513652584>"
      ]
     },
     "execution_count": 376,
     "metadata": {},
     "output_type": "execute_result"
    }
   ],
   "source": [
    "#print the errors given by minuit\n",
    "m.errors"
   ]
  }
 ],
 "metadata": {
  "kernelspec": {
   "display_name": "Python 3 (ipykernel)",
   "language": "python",
   "name": "python3"
  },
  "language_info": {
   "codemirror_mode": {
    "name": "ipython",
    "version": 3
   },
   "file_extension": ".py",
   "mimetype": "text/x-python",
   "name": "python",
   "nbconvert_exporter": "python",
   "pygments_lexer": "ipython3",
   "version": "3.7.10"
  }
 },
 "nbformat": 4,
 "nbformat_minor": 5
}
