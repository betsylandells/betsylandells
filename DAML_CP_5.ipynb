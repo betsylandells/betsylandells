{
 "cells": [
  {
   "cell_type": "code",
   "execution_count": 144,
   "id": "56b4a867",
   "metadata": {},
   "outputs": [],
   "source": [
    "import scipy"
   ]
  },
  {
   "cell_type": "code",
   "execution_count": 1,
   "id": "32bccc93",
   "metadata": {},
   "outputs": [],
   "source": [
    "import numpy as np\n",
    "import matplotlib.pyplot as plt\n",
    "from scipy import integrate\n",
    "from scipy.special import erfinv"
   ]
  },
  {
   "cell_type": "markdown",
   "id": "89768557",
   "metadata": {},
   "source": [
    "### Task 1"
   ]
  },
  {
   "cell_type": "code",
   "execution_count": 2,
   "id": "b6beeb45",
   "metadata": {},
   "outputs": [],
   "source": [
    "# background parameters\n",
    "XMIN = 0.\n",
    "XMAX = 20.\n",
    "intercept = 20.\n",
    "slope = -1.\n",
    "# signal parameters\n",
    "mean = 10.\n",
    "sigma = 0.5\n",
    "# chose number of bins that is appropriate for the size of the statistics sample\n",
    "NBINS = 100\n",
    "\n",
    "#create a linear class: the background\n",
    "class Linear:\n",
    "    #initialises the class: takes intercept, slope, Xmax, Xmin \n",
    "    def __init__(self, intercept, slope, XMIN, XMAX):\n",
    "            self.intercept = intercept\n",
    "            self.slope = slope\n",
    "            self.lolimit = XMIN\n",
    "            self.hilimit = XMAX\n",
    "            self.maxval = XMAX\n",
    "            #initialises an empty mass array to be appended\n",
    "            self.mass = []\n",
    "\n",
    "    # Evaluate method (un-normalised) generates the line\n",
    "    def evaluate(self , t):\n",
    "        #mx + c\n",
    "        return self.intercept + self.slope * t\n",
    "    def next(self):\n",
    "        doLoop = True\n",
    "        while(doLoop ):\n",
    "        # start with uniform random number in [min , max)\n",
    "            x = np.random.uniform(self.lolimit , self.hilimit)\n",
    "            #get y1 values from a*x + b\n",
    "            y1 = self.evaluate(x)\n",
    "            #get y2 values from a uniform distribution\n",
    "            y2 = np.random.uniform(0, self.maxval)\n",
    "            #box method that selects x values when uniform distribution values (y2) is less than the linear distribution (y1)\n",
    "            if (y2 < y1):\n",
    "                filtered_x = x\n",
    "                self.mass.append(filtered_x)\n",
    "                return filtered_x\n",
    "    \n",
    "    \n",
    "#creating a Gauss class: the signal\n",
    "class Gauss:\n",
    "    #takes in arguments of the mean and standard deviation of the signal\n",
    "    def __init__(self, mean, sigma):\n",
    "        #initialises an empty mass array to be appended\n",
    "        self.mass = []\n",
    "        self.mean = mean\n",
    "        self.sigma = sigma\n",
    "        \n",
    "    def next1(self):\n",
    "        doLoop = True\n",
    "        while(doLoop ):\n",
    "            #generates normal distribution\n",
    "            x = np.random.normal(self.mean, self.sigma)\n",
    "            filtered_x = x\n",
    "            self.mass.append(filtered_x)\n",
    "            return filtered_x\n",
    "    \n",
    "    def integral(self):\n",
    "        #mu is the number of values\n",
    "        mu = 10000\n",
    "        sigma = np.sqrt(mu)\n",
    "        #gaussian equation\n",
    "        gauss = lambda x: 1/(np.sqrt(2*np.pi)*sigma) * np.exp(-0.5*(x-mu)**2/sigma**2)\n",
    "        #integration of 0 to mu plus ten sigma, i.e. up to a really high number (not infinity as this throws up errors)\n",
    "        #this is used to normalise the distribution\n",
    "        int1,err1 = integrate.quad(gauss, 0, mu+10*sigma)\n",
    "        #integration of values beyond the data given up to infinity\n",
    "        int2,err2= integrate.quad(gauss, 10300, np.inf)\n",
    "        return int1,int2\n",
    "    \n",
    "    def integral2(self):\n",
    "        #λ = 5,000 and k ≥5,000 + 300 = 5,300\n",
    "        #new mu is now 5000 (50% of the values)\n",
    "        mu = 5000\n",
    "        sigma = np.sqrt(mu)\n",
    "        #gaussian equation\n",
    "        gauss = lambda x: 1/(np.sqrt(2*np.pi)*sigma) * np.exp(-0.5*(x-mu)**2/sigma**2)\n",
    "        #integration of 0 to mu plus ten sigma, i.e. up to a really high number (not infinity as this throws up errors)\n",
    "        #this is used to normalise the distribution\n",
    "        int1,err1 = integrate.quad(gauss, 0, mu+10*sigma)\n",
    "        #integration of values beyond the data (5300) given up to infinity\n",
    "        int2,err2= integrate.quad(gauss, 5300, np.inf)\n",
    "        return int1,int2"
   ]
  },
  {
   "cell_type": "code",
   "execution_count": 3,
   "id": "ed33c087",
   "metadata": {},
   "outputs": [],
   "source": [
    "#create class with both signal and background distributions\n",
    "class SignalWithBackground:\n",
    "    \n",
    "    def __init__(self, mean , sigma , sig_fraction , intercept , slope , XMIN , XMAX):\n",
    "        #initializing input values\n",
    "        self.mean = mean\n",
    "        self.sigma = sigma\n",
    "        #include a signal fraction needed to determine the gaussian peak\n",
    "        self.sig_fraction = sig_fraction\n",
    "        self.intercept = intercept\n",
    "        self.slope = slope\n",
    "        self.min = XMIN\n",
    "        self.max = XMAX\n",
    "        self.maxval = XMAX\n",
    "        #initialise empty lists for mass (all data), mass_sig (signal data) and mass_bgd (background data)\n",
    "        self.mass = []\n",
    "        self.mass_sig = []\n",
    "        self.mass_bgd = []\n",
    "        #generate the background from the Linear class\n",
    "        self.background = Linear(self.intercept, self.slope, self.min, self.max)\n",
    "        #generate the signal from the Gauss class\n",
    "        self.signal = Gauss(self.mean, self.sigma)\n",
    "        \n",
    "        \n",
    "    def next(self):\n",
    "        #q is a uniform distribution of numbers from 0 to 1\n",
    "        q = np.random.uniform ()\n",
    "        if( q < self.sig_fraction ):\n",
    "            # if q is less than the signal fraction, we take x from the signal distribution\n",
    "            filtered_x = self.signal.next1()\n",
    "            self.mass_sig.append(filtered_x)\n",
    "        else:\n",
    "            # if q is greater than the signal fraction, we will take x from the background distribuion\n",
    "            filtered_x = self.background.next()\n",
    "            self.mass_bgd.append(filtered_x)\n",
    "        self.mass.append(filtered_x)\n",
    "        return filtered_x"
   ]
  },
  {
   "cell_type": "code",
   "execution_count": 145,
   "id": "013788f0",
   "metadata": {},
   "outputs": [],
   "source": [
    "# Main code to generate and plot a single experiment\n",
    "def singleToy(nevents_sig = 300, nevents_bgd = 10000):\n",
    "    #signal fraction is signal events over the total number of events\n",
    "    sig_fraction = nevents_sig /( nevents_bgd + nevents_sig)\n",
    "    #Create the probability distribution function\n",
    "    pdf = SignalWithBackground(mean , sigma , sig_fraction , intercept , slope , XMIN , XMAX )\n",
    "    #loop over total number of events, for each iteration, get x value from total distribution (SignalWithBackground.next())\n",
    "    for i in range( nevents_sig + nevents_bgd ): pdf.next()\n",
    "        \n",
    "    # retrieve the mass values for signal, background and their total\n",
    "    data = pdf.mass\n",
    "    sig_data = pdf.mass_sig\n",
    "    bgd_data = pdf.mass_bgd\n",
    "    # plot things on same page\n",
    "    myRange = (XMIN , XMAX)\n",
    "    fig , axs = plt.subplots (3,1, sharex='col',figsize = (15,15))\n",
    "    axs [0]. set_title(\"Signal distribution (\" + str(len(sig_data )) + \" entries)\")\n",
    "    axs [1]. set_title(\"Background distribution (\" + str(len(bgd_data )) + \" entries)\")\n",
    "    axs [2]. set_title(\"Total distribution (\" + str(len(data)) + \" entries)\")\n",
    "    axs [2]. set_xlabel('X')\n",
    "    axs [0]. hist(sig_data , bins=NBINS , range=myRange)\n",
    "    axs [1]. hist(bgd_data , bins = NBINS)\n",
    "    axs [2]. hist(data , bins = NBINS)\n",
    "    fig.tight_layout ()\n",
    "    plt.savefig('Example1.pdf')"
   ]
  },
  {
   "cell_type": "code",
   "execution_count": 146,
   "id": "f886a6c3",
   "metadata": {},
   "outputs": [
    {
     "data": {
      "image/png": "[encoded data removed]",
      "text/plain": [
       "<Figure size 1080x1080 with 3 Axes>"
      ]
     },
     "metadata": {
      "needs_background": "light"
     },
     "output_type": "display_data"
    }
   ],
   "source": [
    "#print out histograms for 300 signal events and 10000 background events\n",
    "singleToy(nevents_sig = 300, nevents_bgd = 10000)"
   ]
  },
  {
   "cell_type": "code",
   "execution_count": 5,
   "id": "b96a7fa0",
   "metadata": {},
   "outputs": [
    {
     "data": {
      "image/png": "[encoded data removed]",
      "text/plain": [
       "<Figure size 1080x1080 with 3 Axes>"
      ]
     },
     "metadata": {
      "needs_background": "light"
     },
     "output_type": "display_data"
    }
   ],
   "source": [
    "#print out histograms for 1000 signal events and 10000 background events\n",
    "singleToy(nevents_sig = 1000, nevents_bgd = 10000)"
   ]
  },
  {
   "cell_type": "markdown",
   "id": "a238edb1",
   "metadata": {},
   "source": [
    "### Task 2"
   ]
  },
  {
   "cell_type": "markdown",
   "id": "1ae9096a",
   "metadata": {},
   "source": [
    "'Calculate the probability that a background-only process with λ = 10, 000 can fluctuate\n",
    "to give k ≥ 10, 300. The fastest way to do this is to employ the previously coded Gaussian\n",
    "class, by adding an integral() method, which can be easily implemented with method\n",
    "scipy.integrate.quad. You will need to take the ratio of two such integrals.'"
   ]
  },
  {
   "cell_type": "markdown",
   "id": "4bdbb035",
   "metadata": {},
   "source": [
    "to do this, I added an integral() function to my Gauss class:\n",
    "\n",
    "\n",
    "    ` def integral(self):\n",
    "        #mu is the number of values\n",
    "        mu = 10000\n",
    "        sigma = np.sqrt(mu)\n",
    "        #gaussian equation\n",
    "        gauss = lambda x: 1/(np.sqrt(2*np.pi)*sigma) * np.exp(-0.5*(x-mu)**2/sigma**2)\n",
    "        #integration of 0 to mu plus ten sigma, i.e. up to a really high number (not infinity as this throws up errors)\n",
    "        #this is used to normalise the distribution\n",
    "        int1,err1 = integrate.quad(gauss, 0, mu+10*sigma)\n",
    "        #integration of values beyond the data given up to infinity\n",
    "        int2,err2= integrate.quad(gauss, 10300, np.inf)\n",
    "        return int1,int2`"
   ]
  },
  {
   "cell_type": "markdown",
   "id": "0fe8744e",
   "metadata": {},
   "source": [
    "Here, I generate two integrals, one from 0 to mu+10(sigma), where there are essentially 0 data points. Using infinity did not work and this is a similar approach. This integral is expected to give a probability of 1, as it is the sum of all probabilities over the distribution.\n",
    "\n",
    "The other integral is the probability that data lies above 10300, we expect this to be a very small probability"
   ]
  },
  {
   "cell_type": "code",
   "execution_count": 148,
   "id": "189a7cb3",
   "metadata": {},
   "outputs": [],
   "source": [
    "I = Gauss(mean, sigma)\n",
    "total, above = I.integral()"
   ]
  },
  {
   "cell_type": "code",
   "execution_count": 149,
   "id": "6651db60",
   "metadata": {},
   "outputs": [
    {
     "name": "stdout",
     "output_type": "stream",
     "text": [
      "0.9999999999999993 0.00134989803199694\n"
     ]
    }
   ],
   "source": [
    "#as expected, the total area under the probability distribution curve is ~1\n",
    "#and the total probability of outliers above 10300 is small ~0.0013\n",
    "print(total,above)"
   ]
  },
  {
   "cell_type": "code",
   "execution_count": 152,
   "id": "cc285308",
   "metadata": {},
   "outputs": [
    {
     "data": {
      "text/plain": [
       "0.0013498980319969409"
      ]
     },
     "execution_count": 152,
     "metadata": {},
     "output_type": "execute_result"
    }
   ],
   "source": [
    "#the p value is a measure of the probability that an observed difference could have occurred just by random chance\n",
    "#the p value is essentially the same as the integral of values greater than 10300 as it is just this normalized by 1\n",
    "#the low p value means that this signal was very unlikely to be random statistical fluctuation - great statistical significance\n",
    "pvalue = above/total\n",
    "pvalue"
   ]
  },
  {
   "cell_type": "code",
   "execution_count": 9,
   "id": "c2a6b504",
   "metadata": {},
   "outputs": [],
   "source": [
    "#the Z value, also given by the number of sigmas is given by the formula:\n",
    "n_sigmas = erfinv (1 - pvalue) * np.sqrt (2)"
   ]
  },
  {
   "cell_type": "code",
   "execution_count": 10,
   "id": "c08b8bd6",
   "metadata": {},
   "outputs": [
    {
     "data": {
      "text/plain": [
       "3.2051549205206973"
      ]
     },
     "execution_count": 10,
     "metadata": {},
     "output_type": "execute_result"
    }
   ],
   "source": [
    "#Z value is 3.2 sigma - this is how much it differentiates from the mean - meaning it is statistically significant and not\n",
    "#just a part of the background\n",
    "n_sigmas"
   ]
  },
  {
   "cell_type": "markdown",
   "id": "ae2aa1d4",
   "metadata": {},
   "source": [
    "### Task 3"
   ]
  },
  {
   "cell_type": "markdown",
   "id": "abff322a",
   "metadata": {},
   "source": [
    "First, confirm that the number of (expected) background events in the 5 < x < 15\n",
    "subregion is 50%."
   ]
  },
  {
   "cell_type": "code",
   "execution_count": 11,
   "id": "13fe3b7a",
   "metadata": {},
   "outputs": [],
   "source": [
    "#editting singleToy function to print values from 5<x<15\n",
    "def singleToy2(nevents_sig = 300, nevents_bgd = 10000):\n",
    "    sig_fraction = nevents_sig /( nevents_bgd + nevents_sig)\n",
    "    #Create the pdf\n",
    "    pdf = SignalWithBackground(mean , sigma , sig_fraction , intercept , slope , XMIN , XMAX )\n",
    "    for i in range( nevents_sig + nevents_bgd ): pdf.next()\n",
    "        \n",
    "    # retrieve the mass values for signal , background and their sum\n",
    "    data = pdf.mass\n",
    "    sig_data = pdf.mass_sig\n",
    "    bgd_data = pdf.mass_bgd\n",
    "    #make an array so background data can be indexed\n",
    "    data1 = np.array(bgd_data)\n",
    "    #get values greater than 5\n",
    "    data2 = data1[data1>5]\n",
    "    #get values greater than 5 and less than 15\n",
    "    data3 = data2[data2<15]\n",
    "    \n",
    "    \n",
    "    # plot things on same page\n",
    "    myRange = (XMIN , XMAX)\n",
    "    fig , axs = plt.subplots (4,1, sharex='col',figsize = (15,15))\n",
    "    axs [0]. set_title(\"Signal distribution (\" + str(len(sig_data )) + \" entries)\")\n",
    "    axs [1]. set_title(\"Background distribution (\" + str(len(bgd_data )) + \" entries)\")\n",
    "    axs [2]. set_title(\"Total distribution (\" + str(len(data)) + \" entries)\")\n",
    "    axs [3]. set_title(\"50% background distribution (\" + str(len(data3)) + \" entries)\")\n",
    "    axs [3]. set_xlabel('X')\n",
    "    axs [0]. hist(sig_data , bins=NBINS , range=myRange)\n",
    "    axs [1]. hist(bgd_data , bins = NBINS)\n",
    "    axs [2]. hist(data , bins = NBINS)\n",
    "    axs [3]. hist(data3 , bins = NBINS)\n",
    "\n",
    "    fig.tight_layout ()\n",
    "    plt.savefig('Example1.pdf')"
   ]
  },
  {
   "cell_type": "code",
   "execution_count": 12,
   "id": "9ad8197c",
   "metadata": {},
   "outputs": [
    {
     "data": {
      "image/png": "[encoded data removed]",
      "text/plain": [
       "<Figure size 1080x1080 with 4 Axes>"
      ]
     },
     "metadata": {
      "needs_background": "light"
     },
     "output_type": "display_data"
    }
   ],
   "source": [
    "singleToy2(nevents_sig = 1000, nevents_bgd = 10000)"
   ]
  },
  {
   "cell_type": "code",
   "execution_count": 13,
   "id": "39af54d7",
   "metadata": {},
   "outputs": [],
   "source": [
    "#define new function just to generate background distribution array\n",
    "def data(nevents_sig = 300, nevents_bgd = 10000):\n",
    "    sig_fraction = nevents_sig /( nevents_bgd + nevents_sig)\n",
    "    #Create the pdf\n",
    "    pdf = SignalWithBackground(mean , sigma , sig_fraction , intercept , slope , XMIN , XMAX )\n",
    "    for i in range( nevents_sig + nevents_bgd ): pdf.next()\n",
    "    bgd_data = pdf.mass_bgd\n",
    "    return bgd_data"
   ]
  },
  {
   "cell_type": "code",
   "execution_count": 14,
   "id": "02f1e7f4",
   "metadata": {},
   "outputs": [],
   "source": [
    "bgd_data = data(nevents_sig = 300, nevents_bgd = 10000)"
   ]
  },
  {
   "cell_type": "code",
   "execution_count": 15,
   "id": "93b8d1fa",
   "metadata": {},
   "outputs": [
    {
     "name": "stdout",
     "output_type": "stream",
     "text": [
      "amount of data between 5<x<15: 4945\n"
     ]
    }
   ],
   "source": [
    "#make an array so background data can be indexed\n",
    "data1 = np.array(bgd_data)\n",
    "#get values greater than 5\n",
    "data2 = data1[data1>5]\n",
    "#get values greater than 5 and less than 15\n",
    "data3 = data2[data2<15]\n",
    "print('amount of data between 5<x<15:',len(data3))"
   ]
  },
  {
   "cell_type": "markdown",
   "id": "bb68c993",
   "metadata": {},
   "source": [
    "'Calculate the p-value and the Z-score as in the previous problem\n",
    "for the updated λ and k values.'"
   ]
  },
  {
   "cell_type": "markdown",
   "id": "30b40a1d",
   "metadata": {},
   "source": [
    "To get the p values and Z scores for the new data, I define a new integral function in the Gauss class, `integral2()`. This does the same as before but integrates the values above 5300 instead of 10300. This gives a small probability, as we expect the signal to lie well within this value."
   ]
  },
  {
   "cell_type": "code",
   "execution_count": 154,
   "id": "0469b988",
   "metadata": {},
   "outputs": [],
   "source": [
    "I = Gauss(mean, sigma)\n",
    "#get integral function from .integral2() within the Gauss class\n",
    "total, above = I.integral2()"
   ]
  },
  {
   "cell_type": "code",
   "execution_count": 155,
   "id": "280ac8e2",
   "metadata": {},
   "outputs": [
    {
     "name": "stdout",
     "output_type": "stream",
     "text": [
      "1.0000000000000018 1.1045248513590354e-05\n"
     ]
    }
   ],
   "source": [
    "print(total,above)"
   ]
  },
  {
   "cell_type": "code",
   "execution_count": 159,
   "id": "5a6c9c67",
   "metadata": {},
   "outputs": [
    {
     "data": {
      "text/plain": [
       "1.1045248513590334e-05"
      ]
     },
     "execution_count": 159,
     "metadata": {},
     "output_type": "execute_result"
    }
   ],
   "source": [
    "#p value is the values above 5300 normalised by total integral (~1)\n",
    "pvalue = above/total\n",
    "pvalue"
   ]
  },
  {
   "cell_type": "code",
   "execution_count": 157,
   "id": "249db621",
   "metadata": {},
   "outputs": [
    {
     "name": "stdout",
     "output_type": "stream",
     "text": [
      "4.39562892080614\n"
     ]
    }
   ],
   "source": [
    "#Z score given by number of sigmas is given as:\n",
    "n_sigmas = erfinv (1 - pvalue) * np.sqrt (2)\n",
    "print(n_sigmas)"
   ]
  },
  {
   "cell_type": "markdown",
   "id": "2fac1d77",
   "metadata": {},
   "source": [
    "The p value is less and the Z score is greater for this fraction of data. This shows that there is greater statistical significance of the signal in this region compared to the background. Since we know the signal lies within the 5<x<15 region, the deviation is more significant. It is easier to distinguish our signal from the background here as we have reduced the range."
   ]
  },
  {
   "cell_type": "markdown",
   "id": "e8b998c7",
   "metadata": {},
   "source": [
    "## Task 4"
   ]
  },
  {
   "cell_type": "markdown",
   "id": "d9db6934",
   "metadata": {},
   "source": [
    "'Find how much better a model including a Gaussian signal (H1) describes the distribution\n",
    "compared to the background-only linear model (H0)'"
   ]
  },
  {
   "cell_type": "code",
   "execution_count": 161,
   "id": "f4b6387f",
   "metadata": {},
   "outputs": [],
   "source": [
    "# Main code to generate and plot a single experiment\n",
    "def task4(nevents_sig = None, nevents_bgd = None):\n",
    "    XMIN = 0.\n",
    "    XMAX = 20.\n",
    "    intercept = 20.\n",
    "    slope = -1.\n",
    "    sig_fraction = nevents_sig /( nevents_bgd + nevents_sig)\n",
    "    #Create the pdf\n",
    "    pdf = SignalWithBackground(mean , sigma , sig_fraction , intercept , slope , XMIN , XMAX )\n",
    "    for i in range( nevents_sig + nevents_bgd ): pdf.next()\n",
    "        \n",
    "    # retrieve the mass values for signal , background and their sum\n",
    "    data = pdf.mass\n",
    "    sig_data = pdf.mass_sig\n",
    "    bgd_data = pdf.mass_bgd\n",
    "    return data,sig_data,bgd_data"
   ]
  },
  {
   "cell_type": "code",
   "execution_count": 162,
   "id": "72df9462",
   "metadata": {},
   "outputs": [],
   "source": [
    "#decrease the population of signal events to 150\n",
    "data,sig_data,bgd_data = task4(nevents_sig = 150, nevents_bgd = 10000)"
   ]
  },
  {
   "cell_type": "code",
   "execution_count": 165,
   "id": "a19a147d",
   "metadata": {},
   "outputs": [],
   "source": [
    "## Repeated ##\n",
    "# background parameters\n",
    "XMIN = 0.\n",
    "XMAX = 20.\n",
    "b = 20.\n",
    "a = -1."
   ]
  },
  {
   "cell_type": "code",
   "execution_count": 164,
   "id": "35aa61ce",
   "metadata": {},
   "outputs": [
    {
     "data": {
      "image/png": "[encoded data removed]",
      "text/plain": [
       "<Figure size 432x288 with 1 Axes>"
      ]
     },
     "metadata": {
      "needs_background": "light"
     },
     "output_type": "display_data"
    }
   ],
   "source": [
    "#get number of bins, bin edges and histogram\n",
    "n,bins,_ = plt.hist(data,bins = 100)\n",
    "#find centre of bins with a loop\n",
    "centers = []\n",
    "for i in range(len(bins)-1):\n",
    "    centers.append(0.5*(bins[i]+bins[i+1]))"
   ]
  },
  {
   "cell_type": "code",
   "execution_count": 130,
   "id": "685186b5",
   "metadata": {},
   "outputs": [],
   "source": [
    "#function that generates the line with given parameters slope and intercept y = ax + b\n",
    "def linear(centers, a, b):\n",
    "    return a*centers + b\n",
    "\n",
    "#function that normalises the linear data\n",
    "def linear_norm(centers, a, b):\n",
    "    #integrate returns two values Int, Err so it is indexed at [0]\n",
    "    norm = integrate.quad(linear, XMIN, XMAX, args=(a,b))[0]\n",
    "    #return linear function divided by normalization value\n",
    "    return linear(centers, a, b)/norm\n",
    " \n",
    "#function that generates the signal    \n",
    "def signal(centers, a, b, frac):\n",
    "    #using unchanged mu and sigma\n",
    "    mu = 10\n",
    "    sigma = 0.5\n",
    "    #gaussian equation\n",
    "    gauss = lambda x: 1/(np.sqrt(2*np.pi)*sigma) * np.exp(-0.5*(x-mu)**2/sigma**2)\n",
    "    #total signal is the gaussian * some fraction plus the linear background * (1-fraction)\n",
    "    signal = gauss(centers) * frac + linear_norm(centers,a,b)*(1-frac)\n",
    "    return signal\n",
    "\n",
    "#function calculating chi squared fit of linear distribution\n",
    "def chi_2(params):\n",
    "    #needs to take in one argument 'params' for minimizer\n",
    "    a, b = params\n",
    "    # number of observed events = the number of events from the histogram\n",
    "    n_obs = n\n",
    "    #initialize chi squared value\n",
    "    chi_2 = 0\n",
    "    #total events = 10000 back ground events + 150 signal events\n",
    "    n_tot = 10150\n",
    "    #iterate over x values (centre of histogram bins)\n",
    "    for i in range(len(centers)):\n",
    "        #bin width is bin edge minus previous bin edge\n",
    "        bin_width = bins[i+1]-bins[i]\n",
    "        #no of predicted events is the probability of background events (x_background value times bin width) * total no. events\n",
    "        n_pred = linear_norm(centers[i], a, b)*bin_width*n_tot\n",
    "        #if statement to prevent division by 0 in the log - make ~0 values equal to 0.001\n",
    "        if n_pred < 1e-3:\n",
    "            n_pred = 1e-3\n",
    "        #get the chi squared which is the sum of this equation given in the notes given as:\n",
    "        chi_2 += 2  * (n_pred - n_obs[i] + n_obs[i]*np.log(n_obs[i]/n_pred))\n",
    "        #return the chi squared value for the H0 hypothesis (i.e. no signal, just background)\n",
    "    return chi_2\n",
    "\n",
    "\n",
    "def chi_2_sig(params):\n",
    "    #needs to take in one argument 'params' for minimizer - slope, intercept and signal fraction\n",
    "    a, b, frac = params\n",
    "    #as above:\n",
    "    n_obs = n\n",
    "    chi_2_sig = 0\n",
    "    n_tot = 10150\n",
    "    for i in range(len(centers)):\n",
    "        bin_width = bins[i+1]-bins[i]\n",
    "        #no of predicted events is the probability of signal events (x_signal value times the bin width) * total no of events\n",
    "        n_pred = signal(centers[i], a, b, frac)*bin_width*n_tot\n",
    "        if n_pred < 1e-3:\n",
    "            n_pred = 1e-3\n",
    "        #get the chi squared value for the H1 hypothesis (i.e. the signal included)\n",
    "        chi_2_sig += 2  * (n_pred - n_obs[i] + n_obs[i]*np.log(n_obs[i]/n_pred))\n",
    "    return chi_2_sig"
   ]
  },
  {
   "cell_type": "code",
   "execution_count": 131,
   "id": "df6c3f1c",
   "metadata": {},
   "outputs": [
    {
     "data": {
      "text/plain": [
       "166.9464381163022"
      ]
     },
     "execution_count": 131,
     "metadata": {},
     "output_type": "execute_result"
    }
   ],
   "source": [
    "#chi squared value for the background with given global parameters a = -1, b= 20\n",
    "chi_2((a, b))"
   ]
  },
  {
   "cell_type": "code",
   "execution_count": 132,
   "id": "a92bacde",
   "metadata": {},
   "outputs": [],
   "source": [
    "frac = 0.015"
   ]
  },
  {
   "cell_type": "code",
   "execution_count": 133,
   "id": "87f97f5e",
   "metadata": {},
   "outputs": [
    {
     "data": {
      "text/plain": [
       "140.98399981784257"
      ]
     },
     "execution_count": 133,
     "metadata": {},
     "output_type": "execute_result"
    }
   ],
   "source": [
    "#chi squared value for the signal with given global parameters a = -1, b= 20, fraction = 0.015\n",
    "chi_2_sig((a, b, frac))"
   ]
  },
  {
   "cell_type": "code",
   "execution_count": 135,
   "id": "66093a57",
   "metadata": {},
   "outputs": [],
   "source": [
    "from scipy.stats import chi2"
   ]
  },
  {
   "cell_type": "code",
   "execution_count": 140,
   "id": "6d0cfa2b",
   "metadata": {},
   "outputs": [],
   "source": [
    "#minimize the linear chi squared function\n",
    "#powell method works well\n",
    "#guess a and b to be not exactly the correct answers (otherwise minimizer may get confused at already recieving correct values)\n",
    "h0 = scipy.optimize.minimize(chi_2,x0=[-0.5,15], method=\"powell\")"
   ]
  },
  {
   "cell_type": "code",
   "execution_count": 141,
   "id": "96770846",
   "metadata": {},
   "outputs": [],
   "source": [
    "#minimize the signal chi squared function\n",
    "h1 = scipy.optimize.minimize(chi_2_sig,x0=[-0.5,15,0.02], method=\"powell\")"
   ]
  },
  {
   "cell_type": "code",
   "execution_count": 142,
   "id": "1399a2e7",
   "metadata": {},
   "outputs": [],
   "source": [
    "#difference between the chi squared values for H0 and H1 hypotheses\n",
    "D = h0.fun - h1.fun\n",
    "#degrees of freedom (extra degree of freedom is the signal fraction in H1)\n",
    "dof = 1\n",
    "#get the p value difference\n",
    "p_val_diff = 1-chi2.cdf(D,dof)\n",
    "#get the Z score\n",
    "Z = erfinv (1 - p_val_diff) * np.sqrt (2)"
   ]
  },
  {
   "cell_type": "code",
   "execution_count": 143,
   "id": "d9f391c5",
   "metadata": {},
   "outputs": [
    {
     "data": {
      "text/plain": [
       "5.111771448631165"
      ]
     },
     "execution_count": 143,
     "metadata": {},
     "output_type": "execute_result"
    }
   ],
   "source": [
    "Z"
   ]
  },
  {
   "cell_type": "markdown",
   "id": "e754bcfa",
   "metadata": {},
   "source": [
    "The Z score here is around 5 sigma. We are comparing the hypothesis that it is just background versus a specified signal, i.e. that it is not just chance that the fit works. Here 5 sigma suggests that the H1 successfully describes the signal and can be distinguished between H0 which fits the background."
   ]
  },
  {
   "cell_type": "code",
   "execution_count": null,
   "id": "d87782d2",
   "metadata": {},
   "outputs": [],
   "source": []
  }
 ],
 "metadata": {
  "kernelspec": {
   "display_name": "Python 3 (ipykernel)",
   "language": "python",
   "name": "python3"
  },
  "language_info": {
   "codemirror_mode": {
    "name": "ipython",
    "version": 3
   },
   "file_extension": ".py",
   "mimetype": "text/x-python",
   "name": "python",
   "nbconvert_exporter": "python",
   "pygments_lexer": "ipython3",
   "version": "3.7.10"
  }
 },
 "nbformat": 4,
 "nbformat_minor": 5
}
