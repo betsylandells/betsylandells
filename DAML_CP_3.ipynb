{
 "cells": [
  {
   "cell_type": "markdown",
   "metadata": {},
   "source": [
    "# Checkpoint 3: Variational Autoencoder & Generative and adversarial models\n",
    "---\n",
    "*Responsible:* Guillermo Hamity (<ghamity@ed.ac.uk>)\n",
    "\n",
    "\n",
    "Quickdraw was an interesting dataset but requires quite a lot of CPU to get decent results. We discussed a relatively good solution to the problem in the Lecture, but it is quite CPU intensive.\n",
    "\n",
    "In order to make life a little easier in terms of training time, in this checkpoint exercise we will work with the MNIST dataset of hand-written digits. This time, though, we won't be classifying existing images, we will be generating new ones with generative models. \n",
    "\n",
    "- Exersice 1 and 2 we will build and use a Variational Autoencoder\n",
    "- Exersice 3 we will use a Generative Adeverserial Network\n",
    "\n",
    "\n",
    "These exercises build quite heavily on the ones in CP2. The network structure that worked on quickdraw should translate pretty well to MNIST, and hopefully perform better. You may be able to reuse some of your work, or you can look at my proposed solutions from last time for inspiration.\n",
    "\n",
    "\n",
    "### Notes on assessment\n",
    "* Try and calculate the answers to the exercises provided. If you are unable to complete the question, describe which approach you _would_ have taken to solve the problem\n",
    "* Code must be understandable and reproducible. Before grading the notebook kernel **may** be restarted and re-run, so make sure that your code can run from start to finish without any (unintentional) errors\n",
    "* If you are unsure on how to proceed please **ask one of the TAs** during the workshop\n",
    "- Notebooks should be submitted by **10am on Friday 29 November 2020** \n",
    "- This CP exercise sheet is divided into **3 sections** giving a maximum of **10 marks** in total:\n",
    "\n",
    "| <p align='left'> Title                        | <p align='left'> Exercise nos. | <p align='center'> Number of marks |\n",
    "| ------------------------------------------------------ | --------------------- | ------------------ |\n",
    "| <p align='left'> 1. Build VAE                          | <p align='left'> 1–3  | <p align='left'> 4 |\n",
    "| <p align='left'> 2. Compile and train a VAE            | <p align='left'> 4–6  | <p align='left'> 4 | \n",
    "| <p align='left'> 3. Generative adversarial network     | <p align='left'> 7–9  | <p align='left'> 2 |\n",
    "| <p align='left'> **Total**                             |                       | <p align='left'> **10** |"
   ]
  },
  {
   "cell_type": "markdown",
   "metadata": {},
   "source": [
    "## Preamble\n",
    "---"
   ]
  },
  {
   "cell_type": "code",
   "execution_count": 59,
   "metadata": {},
   "outputs": [],
   "source": [
    "# Standard import(s)\n",
    "import numpy as np\n",
    "import tensorflow as tf\n",
    "import matplotlib.pyplot as plt"
   ]
  },
  {
   "cell_type": "code",
   "execution_count": 2,
   "metadata": {},
   "outputs": [],
   "source": [
    "# Keras import(s)\n",
    "from tensorflow.python.keras.utils.vis_utils import plot_model\n",
    "from tensorflow.python.keras.models import Model, Sequential\n",
    "from tensorflow.python.keras.layers import Input, Dense, Dropout, Flatten, Reshape, Conv2D, Conv2DTranspose, Concatenate, Lambda,BatchNormalization, UpSampling2D\n",
    "from tensorflow.python.keras import backend as K\n",
    "from tensorflow.python.keras.losses import binary_crossentropy\n",
    "from tensorflow.python.keras.layers.advanced_activations import LeakyReLU\n",
    "from tensorflow.python.keras.backend import set_image_data_format\n",
    "from tensorflow.keras.optimizers import Adam\n",
    "from tensorflow.python.framework.ops import disable_eager_execution\n",
    "disable_eager_execution()\n",
    "set_image_data_format('channels_last')  # Images are formatted as (N, N, 1), with colour-channels last\n",
    "\n"
   ]
  },
  {
   "cell_type": "markdown",
   "metadata": {},
   "source": [
    "## Data preprocessing\n",
    "---\n",
    "\n",
    "First, we'll load in the MNIST dataset from TensorFlow, which has already been split into training and testing parts for us."
   ]
  },
  {
   "cell_type": "code",
   "execution_count": 3,
   "metadata": {},
   "outputs": [
    {
     "name": "stdout",
     "output_type": "stream",
     "text": [
      "Downloading data from https://storage.googleapis.com/tensorflow/tf-keras-datasets/mnist.npz\n",
      "11493376/11490434 [==============================] - 25s 2us/step\n",
      "Number of training examples: 60000\n",
      "Number of testing  examples: 10000\n",
      "Number of target classes:    10\n",
      "Max. input before scaling: 255\n",
      "Image shape:  (28, 28, 1)\n"
     ]
    }
   ],
   "source": [
    "# Load in MNIST dataset \n",
    "(X_train, y_train), (X_test, y_test) = tf.keras.datasets.mnist.load_data()\n",
    "\n",
    "# Get numbers\n",
    "nb_train   = X_train.shape[0]\n",
    "nb_test    = X_test .shape[0]\n",
    "nb_classes = y_train.max() + 1\n",
    "print(f\"Number of training examples: {nb_train}\")\n",
    "print(f\"Number of testing  examples: {nb_test}\")\n",
    "print(f\"Number of target classes:    {nb_classes}\")\n",
    "\n",
    "# Reshape inputs to (N,N,1), i.e. have one colour dimension\n",
    "X_train = X_train[..., np.newaxis]\n",
    "X_test  = X_test [..., np.newaxis]\n",
    "\n",
    "# Standardise inputs\n",
    "print(\"Max. input before scaling: {}\".format(X_train.max()))\n",
    "X_train = X_train / 255.\n",
    "X_test  = X_test  / 255.\n",
    "\n",
    "# Get image shape\n",
    "shape = X_train.shape[1:]\n",
    "print(f\"Image shape:  {shape}\")\n",
    "\n",
    "# Shuffle (dataset is pre-shuffled, but still)\n",
    "ix_train = np.random.permutation(nb_train)\n",
    "ix_test  = np.random.permutation(nb_test)\n",
    "\n",
    "X_train = X_train[ix_train]\n",
    "y_train = y_train[ix_train]\n",
    "\n",
    "X_test  = X_test [ix_test]\n",
    "y_test  = y_test [ix_test]\n"
   ]
  },
  {
   "cell_type": "markdown",
   "metadata": {},
   "source": [
    "The image below shows labels and images associated to them. They are in our standard (28,28,1) image format, as we had in quickdraw."
   ]
  },
  {
   "cell_type": "code",
   "execution_count": 4,
   "metadata": {
    "scrolled": true
   },
   "outputs": [
    {
     "data": {
      "image/png": "[encoded data removed]",
      "text/plain": [
       "<Figure size 720x720 with 25 Axes>"
      ]
     },
     "metadata": {},
     "output_type": "display_data"
    },
    {
     "name": "stdout",
     "output_type": "stream",
     "text": [
      "label marks [2 5 3 1 6 8 7 7 5 9 2 8 0 7 1 7 8 4 5 4 5 5 4 2 7]\n"
     ]
    }
   ],
   "source": [
    "nb_show = 25\n",
    "plt.figure(figsize=(10,10))\n",
    "for i in range(nb_show):\n",
    "    plt.subplot(5,5,i+1)\n",
    "    plt.xticks([])\n",
    "    plt.yticks([])\n",
    "    plt.grid(False)\n",
    "    plt.imshow(X_train[i], cmap=plt.cm.binary)\n",
    "    plt.xlabel(y_train[i])\n",
    "plt.show()\n",
    "print(\"label marks\",y_train[:nb_show])"
   ]
  },
  {
   "cell_type": "markdown",
   "metadata": {},
   "source": [
    "## Variational auto-encoder (VAE) utilities\n",
    "---\n",
    "Below, I am providing you with some utility methods for training VAEs. This is done to minimsie the overhead in getting you up and running and training cool neural networks."
   ]
  },
  {
   "cell_type": "markdown",
   "metadata": {},
   "source": [
    "The first function implements the crucial element for _variational_ auto-encoders: The random sampling in the latent space. The `sampling` function below takes one argument, which is assumed to be a list with two element: the means and the logarithm of the variances, respectively, of the latent probability density function (p.d.f.) for a given image example. The function then samples random numbers, and scales them such that they are effectively drawn from a p.d.f. with means and standard deviations as given by `args`. These sampled coordinates in the latent space are then returned."
   ]
  },
  {
   "cell_type": "code",
   "execution_count": 33,
   "metadata": {},
   "outputs": [],
   "source": [
    "def sampling (args):\n",
    "\n",
    "  # Unpack arguments\n",
    "  z_mean, z_log_var = args\n",
    "\n",
    "  # Get shape of random noise to sample\n",
    "  epsilon = K.random_normal(shape=K.shape(z_mean))\n",
    "\n",
    "  # Return samples from latent space p.d.f.\n",
    "  return z_mean + K.exp(0.5 * z_log_var) * epsilon"
   ]
  },
  {
   "cell_type": "markdown",
   "metadata": {},
   "source": [
    "# Build a VAE (4 marks)"
   ]
  },
  {
   "cell_type": "markdown",
   "metadata": {},
   "source": [
    "#### 1. Build the encoder of the VAE (1.5 mark)"
   ]
  },
  {
   "cell_type": "markdown",
   "metadata": {},
   "source": [
    "Build an encoder. We will train for 50 epoches so a relatively fast NN may be desiriable. Here you have some freedom but some example structure is given:\n",
    "- the input layer has the dimension of the shape\n",
    "- Flat the input layer (either with or without convolution beforehand)\n",
    "    - The `1 2 4 8 16` convolution example worked well for me, but is a bit slower.\n",
    "- add a few hidden Dense layer (with relu activation function) with 256 dimension of hidden nodes\n",
    "- Add the 2 special layers:\n",
    "    * `z_mean` contains the means of the latent space p.d.f. for a given image, and\n",
    "    * `z_log_var` contains the logarithm of the assocated variances. \n",
    "- Pass these 2 layers into a layer `z` that just apply the `sampling` method above. Note: the sampling method is used to perform the reparametrization trick. `Lambda` has to be used to ensure the gradients to be computed (see Lecture example) \n",
    "- Output the 3 layers (z_mean, z_log_var and z)\n",
    "- build the encoder model with the `Model` method. \n",
    "    - If you used convolution and pooling make sure you complient this with Upsampleling and ConvolutionTranspose. \n",
    "    - A good structure here is to invert the stucture of the encoder, e.g. `16 8 4 2 1`."
   ]
  },
  {
   "cell_type": "code",
   "execution_count": 65,
   "metadata": {},
   "outputs": [],
   "source": [
    "intermediate_dim =256\n",
    "latent_dim = 2"
   ]
  },
  {
   "cell_type": "code",
   "execution_count": 155,
   "metadata": {},
   "outputs": [],
   "source": [
    "#input layer is an input with shape of the image\n",
    "visible = Input(shape=(28,28,1))\n",
    "#flatten the visible layer\n",
    "flat = Flatten()(visible)\n",
    "#hidden layer of 256 nodes and activation relu\n",
    "hidden1 = Dense(intermediate_dim, activation='relu')(flat)\n",
    "#second hidden layer of 256 nodes and actiavtion relu\n",
    "hidden2 = Dense(intermediate_dim, activation='relu')(hidden1)\n",
    "#mean and variance layers both passed into the previous layer\n",
    "z_mean = Dense(latent_dim, name='z_mean')(hidden2)\n",
    "z_log_var = Dense(latent_dim, name='z_log_var')(hidden2)"
   ]
  },
  {
   "cell_type": "code",
   "execution_count": 156,
   "metadata": {},
   "outputs": [],
   "source": [
    "#passing mean and variance to new layer z\n",
    "z = Lambda(sampling, output_shape=(latent_dim,), name='z')([z_mean, z_log_var])"
   ]
  },
  {
   "cell_type": "code",
   "execution_count": 158,
   "metadata": {},
   "outputs": [
    {
     "name": "stdout",
     "output_type": "stream",
     "text": [
      "Model: \"encoder\"\n",
      "__________________________________________________________________________________________________\n",
      "Layer (type)                    Output Shape         Param #     Connected to                     \n",
      "==================================================================================================\n",
      "input_54 (InputLayer)           [(None, 28, 28, 1)]  0                                            \n",
      "__________________________________________________________________________________________________\n",
      "flatten_26 (Flatten)            (None, 784)          0           input_54[0][0]                   \n",
      "__________________________________________________________________________________________________\n",
      "dense_73 (Dense)                (None, 256)          200960      flatten_26[0][0]                 \n",
      "__________________________________________________________________________________________________\n",
      "dense_74 (Dense)                (None, 256)          65792       dense_73[0][0]                   \n",
      "__________________________________________________________________________________________________\n",
      "z_mean (Dense)                  (None, 2)            514         dense_74[0][0]                   \n",
      "__________________________________________________________________________________________________\n",
      "z_log_var (Dense)               (None, 2)            514         dense_74[0][0]                   \n",
      "__________________________________________________________________________________________________\n",
      "z (Lambda)                      (None, 2)            0           z_mean[0][0]                     \n",
      "                                                                 z_log_var[0][0]                  \n",
      "==================================================================================================\n",
      "Total params: 267,780\n",
      "Trainable params: 267,780\n",
      "Non-trainable params: 0\n",
      "__________________________________________________________________________________________________\n"
     ]
    }
   ],
   "source": [
    "#make encoder with input layer the images, the output layer mean,var and z\n",
    "encoder = Model(visible, [z_mean, z_log_var, z], name='encoder')\n",
    "#generate the summary to look at layer structure\n",
    "encoder.summary()"
   ]
  },
  {
   "cell_type": "markdown",
   "metadata": {},
   "source": [
    "#### 2. Build the decoder of the VAE (1.5 mark)"
   ]
  },
  {
   "cell_type": "markdown",
   "metadata": {},
   "source": [
    "Build a decoder:\n",
    "- the input layer has the latent space 2\n",
    "- Apply 2 hidden Dense layers with dimension 256 (same number as in the encoder) and relu activation function\n",
    "- Output sigmoid activation function such that it ends up with the same shape as the original image, with pixel intensities in the range $[0, 1]$.\n",
    "    - use as dimension of this layer `np.prod(shape)`, where shape is the latent space.\n",
    "- then reshape the output to the original image shape with `Reshape` method. This step is needed to bring back the data from shape (latent_dim, ) into some shape that can be reshaped into the output shape of the last layer of our encoder.\n",
    "- build the decoder model with the `Model` method"
   ]
  },
  {
   "cell_type": "code",
   "execution_count": 171,
   "metadata": {},
   "outputs": [
    {
     "data": {
      "text/plain": [
       "(28, 28, 1)"
      ]
     },
     "execution_count": 171,
     "metadata": {},
     "output_type": "execute_result"
    }
   ],
   "source": [
    "#check dimensions of variable 'shape'  \n",
    "shape"
   ]
  },
  {
   "cell_type": "code",
   "execution_count": 172,
   "metadata": {},
   "outputs": [],
   "source": [
    "#create decoder\n",
    "#input has shape of latent dimensions ,2, as given by output of encoder\n",
    "dec_input = Input(shape=(latent_dim, ))\n",
    "#two dense layers (same as encoder) of 256 nodes, relu activation function\n",
    "x = Dense(intermediate_dim, activation='relu')(dec_input)\n",
    "x = Dense(intermediate_dim, activation='relu')(x)\n",
    "#output of dense layer of shape and sigmoid activation for binary classification\n",
    "output = Dense(np.prod(shape),activation='sigmoid')(x)\n",
    "#reshape output to image dims\n",
    "output = Reshape((28,28,1))(output)"
   ]
  },
  {
   "cell_type": "code",
   "execution_count": 173,
   "metadata": {},
   "outputs": [
    {
     "data": {
      "text/plain": [
       "2"
      ]
     },
     "execution_count": 173,
     "metadata": {},
     "output_type": "execute_result"
    }
   ],
   "source": [
    "latent_dim"
   ]
  },
  {
   "cell_type": "code",
   "execution_count": 174,
   "metadata": {},
   "outputs": [
    {
     "name": "stdout",
     "output_type": "stream",
     "text": [
      "Model: \"decoder\"\n",
      "_________________________________________________________________\n",
      "Layer (type)                 Output Shape              Param #   \n",
      "=================================================================\n",
      "input_56 (InputLayer)        [(None, 2)]               0         \n",
      "_________________________________________________________________\n",
      "dense_78 (Dense)             (None, 256)               768       \n",
      "_________________________________________________________________\n",
      "dense_79 (Dense)             (None, 256)               65792     \n",
      "_________________________________________________________________\n",
      "dense_80 (Dense)             (None, 784)               201488    \n",
      "_________________________________________________________________\n",
      "reshape_11 (Reshape)         (None, 28, 28, 1)         0         \n",
      "=================================================================\n",
      "Total params: 268,048\n",
      "Trainable params: 268,048\n",
      "Non-trainable params: 0\n",
      "_________________________________________________________________\n"
     ]
    }
   ],
   "source": [
    "#generate decoder with 2 dim input and 28,28,1 output\n",
    "decoder = Model(dec_input, output, name='decoder')\n",
    "decoder.summary()"
   ]
  },
  {
   "cell_type": "markdown",
   "metadata": {},
   "source": [
    "#### 3. Build the VAE model (1 mark)"
   ]
  },
  {
   "cell_type": "markdown",
   "metadata": {},
   "source": [
    "Then, we can connect the encoder and the decoder. \n",
    "- Build the VAE model using `Model` method using `i` (encoder) and `o` (decoder)\n",
    "- plot the model with the `plot_model` method"
   ]
  },
  {
   "cell_type": "code",
   "execution_count": 175,
   "metadata": {},
   "outputs": [],
   "source": [
    "## Chain together to get VAE\n",
    "i = encoder.inputs\n",
    "if len(i) == 1:\n",
    " i = i[0]\n",
    " pass\n",
    "z = encoder(i)[2]\n",
    "o = decoder(z)"
   ]
  },
  {
   "cell_type": "code",
   "execution_count": 176,
   "metadata": {},
   "outputs": [
    {
     "name": "stdout",
     "output_type": "stream",
     "text": [
      "Model: \"VAE\"\n",
      "_________________________________________________________________\n",
      "Layer (type)                 Output Shape              Param #   \n",
      "=================================================================\n",
      "input_54 (InputLayer)        [(None, 28, 28, 1)]       0         \n",
      "_________________________________________________________________\n",
      "encoder (Model)              [(None, 2), (None, 2), (N 267780    \n",
      "_________________________________________________________________\n",
      "decoder (Model)              (None, 28, 28, 1)         268048    \n",
      "=================================================================\n",
      "Total params: 535,828\n",
      "Trainable params: 535,828\n",
      "Non-trainable params: 0\n",
      "_________________________________________________________________\n"
     ]
    }
   ],
   "source": [
    "#generate variational auto encoder which takes in the encoder and outputs the decoder\n",
    "vae = Model(inputs=i, outputs=o, name='VAE')\n",
    "vae.summary()"
   ]
  },
  {
   "cell_type": "markdown",
   "metadata": {},
   "source": [
    "# Compile and train the VAE model (3 marks)"
   ]
  },
  {
   "cell_type": "markdown",
   "metadata": {},
   "source": [
    "The `compile_vae` methods compiles the VAE model passed as the sole argument. The method computes\n",
    "\n",
    "1. the image reconstruction loss (`reco_loss`), as well as\n",
    "2. the Kullback-Leibler (KL) loss (`kl_loss`) for the latent space p.d.f.\n",
    "\n",
    "The first loss measures how well the VAE is doing at reconstructing the input images; the second loss quantifies how continuous the latent representation is. The two losses are then summed (and added as separate metrics for monitoring), and the VAE model is compiled with the Adam optimiser."
   ]
  },
  {
   "cell_type": "code",
   "execution_count": 177,
   "metadata": {},
   "outputs": [],
   "source": [
    "def compile_vae (vae):\n",
    "\n",
    "    # Get the latent p.d.f. mean and log-variance output layers from VAE encoder\n",
    "    encoder   = vae.get_layer('encoder')\n",
    "    z_log_var = encoder.get_layer('z_log_var').output\n",
    "    z_mean    = encoder.get_layer('z_mean').output\n",
    "\n",
    "    # Define reconstruction loss\n",
    "    def reco_loss (y_true, y_pred):\n",
    "        # Use binary cross-entropy loss\n",
    "        reco_loss_value = binary_crossentropy(y_true, y_pred) # Averages over axis=-1\n",
    "        reco_loss_value = K.sum(reco_loss_value, axis=(1,2))\n",
    "        return reco_loss_value\n",
    "\n",
    "    # Define Kullback-Leibler loss with reference to encoder output layers\n",
    "    def kl_loss (y_true, y_pred):\n",
    "        kl_loss_value = 0.5 * (K.square(z_mean) + K.exp(z_log_var) - 1. - z_log_var)\n",
    "        kl_loss_value = K.sum(kl_loss_value, axis=-1)\n",
    "        return kl_loss_value\n",
    "\n",
    "    # Define VAE loss\n",
    "    def vae_loss (y_true, y_pred):\n",
    "        return reco_loss(y_true, y_pred) + kl_loss(y_true, y_pred)\n",
    "\n",
    "    vae.compile(optimizer='adam', loss=vae_loss, metrics=[reco_loss, kl_loss])\n",
    "    return"
   ]
  },
  {
   "cell_type": "markdown",
   "metadata": {},
   "source": [
    "#### 4. Construct, compile, and train a VAE using the methods provided above (1 mark)\n",
    "\n",
    "* Display the model using the `plot_model(vae, show_shapes=True)` method, to validate that it looks as expected.\n",
    "* Compile the model.\n",
    "* Plot the all of the loss histories in `vae.history.history`. Use a suitable fraction of training data for validation\n",
    "* train for 50 epochs"
   ]
  },
  {
   "cell_type": "code",
   "execution_count": 178,
   "metadata": {},
   "outputs": [
    {
     "data": {
      "image/png": "[encoded data removed]",
      "text/plain": [
       "<IPython.core.display.Image object>"
      ]
     },
     "execution_count": 178,
     "metadata": {},
     "output_type": "execute_result"
    }
   ],
   "source": [
    "#display varational autoencoder structure\n",
    "plot_model(vae, show_shapes=True)"
   ]
  },
  {
   "cell_type": "code",
   "execution_count": 179,
   "metadata": {},
   "outputs": [],
   "source": [
    "# Define parameters\n",
    "latent_dim =  2\n",
    "nb_epochs  =  50\n",
    "batch_size = 128"
   ]
  },
  {
   "cell_type": "code",
   "execution_count": 180,
   "metadata": {},
   "outputs": [],
   "source": [
    "#compile variational autoencoder\n",
    "compile_vae(vae)"
   ]
  },
  {
   "cell_type": "code",
   "execution_count": 385,
   "metadata": {
    "scrolled": false
   },
   "outputs": [
    {
     "name": "stdout",
     "output_type": "stream",
     "text": [
      "Train on 48000 samples, validate on 12000 samples\n",
      "Epoch 1/50\n",
      "48000/48000 [==============================] - 8s 161us/sample - loss: 136.2527 - reco_loss: 129.3136 - kl_loss: 6.9391 - val_loss: 138.0236 - val_reco_loss: 131.1239 - val_kl_loss: 6.8996\n",
      "Epoch 2/50\n",
      "48000/48000 [==============================] - 6s 129us/sample - loss: 135.7807 - reco_loss: 128.8093 - kl_loss: 6.9713 - val_loss: 138.1064 - val_reco_loss: 131.1255 - val_kl_loss: 6.9809\n",
      "Epoch 3/50\n",
      "48000/48000 [==============================] - 6s 128us/sample - loss: 135.7013 - reco_loss: 128.7287 - kl_loss: 6.9726 - val_loss: 138.4641 - val_reco_loss: 131.4890 - val_kl_loss: 6.9750\n",
      "Epoch 4/50\n",
      "48000/48000 [==============================] - 6s 117us/sample - loss: 135.5444 - reco_loss: 128.5808 - kl_loss: 6.9636 - val_loss: 138.1130 - val_reco_loss: 131.1546 - val_kl_loss: 6.9584\n",
      "Epoch 5/50\n",
      "48000/48000 [==============================] - 6s 123us/sample - loss: 135.5163 - reco_loss: 128.5370 - kl_loss: 6.9793 - val_loss: 138.1909 - val_reco_loss: 131.1750 - val_kl_loss: 7.0158\n",
      "Epoch 6/50\n",
      "48000/48000 [==============================] - 6s 115us/sample - loss: 135.5249 - reco_loss: 128.5291 - kl_loss: 6.9958 - val_loss: 137.8953 - val_reco_loss: 130.9161 - val_kl_loss: 6.9792\n",
      "Epoch 7/50\n",
      "48000/48000 [==============================] - 6s 125us/sample - loss: 135.4783 - reco_loss: 128.4928 - kl_loss: 6.9854 - val_loss: 137.9559 - val_reco_loss: 131.0201 - val_kl_loss: 6.9357\n",
      "Epoch 8/50\n",
      "48000/48000 [==============================] - 6s 124us/sample - loss: 135.4319 - reco_loss: 128.4457 - kl_loss: 6.9862 - val_loss: 138.0495 - val_reco_loss: 131.0414 - val_kl_loss: 7.0081\n",
      "Epoch 9/50\n",
      "48000/48000 [==============================] - 6s 119us/sample - loss: 135.4393 - reco_loss: 128.4502 - kl_loss: 6.9891 - val_loss: 138.0777 - val_reco_loss: 131.1389 - val_kl_loss: 6.9388\n",
      "Epoch 10/50\n",
      "48000/48000 [==============================] - 6s 126us/sample - loss: 135.2579 - reco_loss: 128.2602 - kl_loss: 6.9977 - val_loss: 138.1461 - val_reco_loss: 131.1120 - val_kl_loss: 7.0340\n",
      "Epoch 11/50\n",
      "48000/48000 [==============================] - 6s 128us/sample - loss: 135.3411 - reco_loss: 128.3337 - kl_loss: 7.0074 - val_loss: 138.2290 - val_reco_loss: 131.2254 - val_kl_loss: 7.0036\n",
      "Epoch 12/50\n",
      "48000/48000 [==============================] - 6s 119us/sample - loss: 135.1929 - reco_loss: 128.1938 - kl_loss: 6.9992 - val_loss: 138.3574 - val_reco_loss: 131.3384 - val_kl_loss: 7.0191\n",
      "Epoch 13/50\n",
      "48000/48000 [==============================] - 6s 122us/sample - loss: 135.2925 - reco_loss: 128.2672 - kl_loss: 7.0254 - val_loss: 138.3953 - val_reco_loss: 131.3422 - val_kl_loss: 7.0531\n",
      "Epoch 14/50\n",
      "48000/48000 [==============================] - 6s 128us/sample - loss: 135.1552 - reco_loss: 128.1030 - kl_loss: 7.0522 - val_loss: 138.2387 - val_reco_loss: 131.1621 - val_kl_loss: 7.0765\n",
      "Epoch 15/50\n",
      "48000/48000 [==============================] - 6s 129us/sample - loss: 134.9480 - reco_loss: 127.9237 - kl_loss: 7.0243 - val_loss: 138.0142 - val_reco_loss: 130.9780 - val_kl_loss: 7.0362\n",
      "Epoch 16/50\n",
      "48000/48000 [==============================] - 6s 128us/sample - loss: 135.1998 - reco_loss: 128.1561 - kl_loss: 7.0438 - val_loss: 138.3935 - val_reco_loss: 131.4577 - val_kl_loss: 6.9358\n",
      "Epoch 17/50\n",
      "48000/48000 [==============================] - 6s 128us/sample - loss: 135.1705 - reco_loss: 128.1285 - kl_loss: 7.0420 - val_loss: 138.4222 - val_reco_loss: 131.4391 - val_kl_loss: 6.9831\n",
      "Epoch 18/50\n",
      "48000/48000 [==============================] - 6s 127us/sample - loss: 135.2503 - reco_loss: 128.2098 - kl_loss: 7.0405 - val_loss: 137.9380 - val_reco_loss: 130.9109 - val_kl_loss: 7.0271\n",
      "Epoch 19/50\n",
      "48000/48000 [==============================] - 6s 129us/sample - loss: 135.1391 - reco_loss: 128.0932 - kl_loss: 7.0459 - val_loss: 137.9516 - val_reco_loss: 130.9835 - val_kl_loss: 6.9681\n",
      "Epoch 20/50\n",
      "48000/48000 [==============================] - 6s 130us/sample - loss: 135.0817 - reco_loss: 128.0505 - kl_loss: 7.0312 - val_loss: 138.3765 - val_reco_loss: 131.2895 - val_kl_loss: 7.0870\n",
      "Epoch 21/50\n",
      "48000/48000 [==============================] - 6s 123us/sample - loss: 135.1468 - reco_loss: 128.1002 - kl_loss: 7.0466 - val_loss: 138.3790 - val_reco_loss: 131.3142 - val_kl_loss: 7.0648\n",
      "Epoch 22/50\n",
      "48000/48000 [==============================] - 6s 115us/sample - loss: 135.0967 - reco_loss: 128.0437 - kl_loss: 7.0530 - val_loss: 138.0284 - val_reco_loss: 131.0813 - val_kl_loss: 6.9471\n",
      "Epoch 23/50\n",
      "48000/48000 [==============================] - 6s 123us/sample - loss: 134.8903 - reco_loss: 127.8230 - kl_loss: 7.0673 - val_loss: 137.9094 - val_reco_loss: 130.8568 - val_kl_loss: 7.0526\n",
      "Epoch 24/50\n",
      "48000/48000 [==============================] - 6s 126us/sample - loss: 134.5745 - reco_loss: 127.4938 - kl_loss: 7.0807 - val_loss: 137.6796 - val_reco_loss: 130.6909 - val_kl_loss: 6.9887\n",
      "Epoch 25/50\n",
      "48000/48000 [==============================] - 6s 119us/sample - loss: 134.4818 - reco_loss: 127.4075 - kl_loss: 7.0744 - val_loss: 137.9723 - val_reco_loss: 130.8883 - val_kl_loss: 7.0840\n",
      "Epoch 26/50\n",
      "48000/48000 [==============================] - 6s 125us/sample - loss: 134.5490 - reco_loss: 127.4694 - kl_loss: 7.0796 - val_loss: 137.6929 - val_reco_loss: 130.7746 - val_kl_loss: 6.9182\n",
      "Epoch 27/50\n",
      "48000/48000 [==============================] - 6s 124us/sample - loss: 134.5503 - reco_loss: 127.4825 - kl_loss: 7.0677 - val_loss: 138.2301 - val_reco_loss: 131.0205 - val_kl_loss: 7.2096\n",
      "Epoch 28/50\n",
      "48000/48000 [==============================] - 6s 118us/sample - loss: 134.7987 - reco_loss: 127.7194 - kl_loss: 7.0793 - val_loss: 138.1477 - val_reco_loss: 131.0834 - val_kl_loss: 7.0643\n",
      "Epoch 29/50\n",
      "48000/48000 [==============================] - 6s 127us/sample - loss: 135.5585 - reco_loss: 128.4910 - kl_loss: 7.0676 - val_loss: 138.0846 - val_reco_loss: 131.0768 - val_kl_loss: 7.0078\n",
      "Epoch 30/50\n",
      "48000/48000 [==============================] - 6s 127us/sample - loss: 135.0984 - reco_loss: 128.0428 - kl_loss: 7.0556 - val_loss: 138.0026 - val_reco_loss: 131.0361 - val_kl_loss: 6.9664\n",
      "Epoch 31/50\n",
      "48000/48000 [==============================] - 6s 127us/sample - loss: 134.7867 - reco_loss: 127.7293 - kl_loss: 7.0574 - val_loss: 137.5939 - val_reco_loss: 130.5291 - val_kl_loss: 7.0648\n",
      "Epoch 32/50\n",
      "48000/48000 [==============================] - 6s 127us/sample - loss: 134.5138 - reco_loss: 127.4363 - kl_loss: 7.0776 - val_loss: 137.5818 - val_reco_loss: 130.4406 - val_kl_loss: 7.1413\n",
      "Epoch 33/50\n",
      "48000/48000 [==============================] - 6s 127us/sample - loss: 134.5189 - reco_loss: 127.4298 - kl_loss: 7.0891 - val_loss: 137.8239 - val_reco_loss: 130.7218 - val_kl_loss: 7.1021\n",
      "Epoch 34/50\n",
      "48000/48000 [==============================] - 6s 123us/sample - loss: 134.4614 - reco_loss: 127.3836 - kl_loss: 7.0777 - val_loss: 138.3278 - val_reco_loss: 131.2968 - val_kl_loss: 7.0310\n",
      "Epoch 35/50\n",
      "48000/48000 [==============================] - 6s 126us/sample - loss: 134.7502 - reco_loss: 127.6718 - kl_loss: 7.0784 - val_loss: 138.1866 - val_reco_loss: 131.1096 - val_kl_loss: 7.0770\n",
      "Epoch 36/50\n",
      "48000/48000 [==============================] - 6s 126us/sample - loss: 134.4700 - reco_loss: 127.3883 - kl_loss: 7.0817 - val_loss: 137.8404 - val_reco_loss: 130.7396 - val_kl_loss: 7.1008\n",
      "Epoch 37/50\n",
      "48000/48000 [==============================] - 6s 119us/sample - loss: 134.6718 - reco_loss: 127.5671 - kl_loss: 7.1047 - val_loss: 138.0011 - val_reco_loss: 130.8802 - val_kl_loss: 7.1209\n",
      "Epoch 38/50\n",
      "48000/48000 [==============================] - 6s 121us/sample - loss: 134.3340 - reco_loss: 127.2305 - kl_loss: 7.1034 - val_loss: 137.8225 - val_reco_loss: 130.7682 - val_kl_loss: 7.0543\n",
      "Epoch 39/50\n",
      "48000/48000 [==============================] - 6s 122us/sample - loss: 134.2107 - reco_loss: 127.1169 - kl_loss: 7.0938 - val_loss: 137.8630 - val_reco_loss: 130.8052 - val_kl_loss: 7.0578\n",
      "Epoch 40/50\n",
      "48000/48000 [==============================] - 6s 116us/sample - loss: 134.2232 - reco_loss: 127.1033 - kl_loss: 7.1200 - val_loss: 137.7064 - val_reco_loss: 130.5779 - val_kl_loss: 7.1286\n",
      "Epoch 41/50\n",
      "48000/48000 [==============================] - 6s 124us/sample - loss: 134.1782 - reco_loss: 127.0701 - kl_loss: 7.1081 - val_loss: 137.8008 - val_reco_loss: 130.6999 - val_kl_loss: 7.1009\n",
      "Epoch 42/50\n",
      "48000/48000 [==============================] - 6s 125us/sample - loss: 133.9591 - reco_loss: 126.8493 - kl_loss: 7.1097 - val_loss: 137.4981 - val_reco_loss: 130.4005 - val_kl_loss: 7.0975\n",
      "Epoch 43/50\n",
      "48000/48000 [==============================] - 6s 123us/sample - loss: 134.0704 - reco_loss: 126.9471 - kl_loss: 7.1233 - val_loss: 137.7652 - val_reco_loss: 130.6893 - val_kl_loss: 7.0760\n",
      "Epoch 44/50\n",
      "48000/48000 [==============================] - 6s 122us/sample - loss: 133.9435 - reco_loss: 126.8368 - kl_loss: 7.1067 - val_loss: 138.1820 - val_reco_loss: 131.1280 - val_kl_loss: 7.0540\n",
      "Epoch 45/50\n",
      "48000/48000 [==============================] - 6s 115us/sample - loss: 134.5297 - reco_loss: 127.4075 - kl_loss: 7.1221 - val_loss: 137.8210 - val_reco_loss: 130.6646 - val_kl_loss: 7.1563\n",
      "Epoch 46/50\n",
      "48000/48000 [==============================] - 6s 124us/sample - loss: 134.2952 - reco_loss: 127.1760 - kl_loss: 7.1193 - val_loss: 138.0149 - val_reco_loss: 130.9366 - val_kl_loss: 7.0783\n",
      "Epoch 47/50\n",
      "48000/48000 [==============================] - 6s 126us/sample - loss: 134.0246 - reco_loss: 126.9081 - kl_loss: 7.1165 - val_loss: 137.8005 - val_reco_loss: 130.7269 - val_kl_loss: 7.0736\n",
      "Epoch 48/50\n",
      "48000/48000 [==============================] - 5s 112us/sample - loss: 133.9488 - reco_loss: 126.8234 - kl_loss: 7.1254 - val_loss: 138.0349 - val_reco_loss: 130.9107 - val_kl_loss: 7.1243\n",
      "Epoch 49/50\n",
      "48000/48000 [==============================] - 6s 125us/sample - loss: 134.0251 - reco_loss: 126.8894 - kl_loss: 7.1357 - val_loss: 137.7621 - val_reco_loss: 130.6900 - val_kl_loss: 7.0720\n",
      "Epoch 50/50\n",
      "48000/48000 [==============================] - 6s 122us/sample - loss: 133.9283 - reco_loss: 126.7949 - kl_loss: 7.1334 - val_loss: 137.6903 - val_reco_loss: 130.5592 - val_kl_loss: 7.1311\n"
     ]
    }
   ],
   "source": [
    "#train model using 20% for validation\n",
    "history_vae = vae.fit(X_train,X_train, batch_size=128, epochs=50, shuffle=True,validation_split=0.2);"
   ]
  },
  {
   "cell_type": "code",
   "execution_count": 386,
   "metadata": {
    "scrolled": false
   },
   "outputs": [
    {
     "data": {
      "text/plain": [
       "<matplotlib.legend.Legend at 0x2d4c67c4e08>"
      ]
     },
     "execution_count": 386,
     "metadata": {},
     "output_type": "execute_result"
    },
    {
     "data": {
      "image/png": "[encoded data removed]",
      "text/plain": [
       "<Figure size 432x288 with 1 Axes>"
      ]
     },
     "metadata": {
      "needs_background": "light"
     },
     "output_type": "display_data"
    }
   ],
   "source": [
    "#get the loss functions: loss, validation loss, reconstruction loss and KL loss\n",
    "loss = history_vae.history['loss']\n",
    "val_loss = history_vae.history['val_loss']\n",
    "reco_loss = history_vae.history['reco_loss']\n",
    "kl_loss = history_vae.history['kl_loss']\n",
    "\n",
    "#plot all loss types\n",
    "plt.plot(loss,label='loss')\n",
    "plt.plot(kl_loss,label='kl loss')\n",
    "plt.plot(reco_loss,label='reco loss')\n",
    "plt.plot(val_loss,label='validation loss')\n",
    "plt.legend()"
   ]
  },
  {
   "cell_type": "markdown",
   "metadata": {},
   "source": [
    "#### 5. Predict the test digits into the 2D laten space (1 mark)\n",
    "\n",
    "- Use the encoder to predict images into the laten space\n",
    "- Make a scatter plot per digit (use masking, see our first ML Lecture 2) and include a legend\n",
    "- Include a grid.\n",
    "- Discuss the results. Why do you think some digits overlap, and why are some clearly seperated? "
   ]
  },
  {
   "cell_type": "code",
   "execution_count": 369,
   "metadata": {},
   "outputs": [],
   "source": [
    "#get images from encoder\n",
    "y_pred = encoder.predict(X_test)"
   ]
  },
  {
   "cell_type": "code",
   "execution_count": 370,
   "metadata": {},
   "outputs": [
    {
     "data": {
      "text/plain": [
       "array([[ 2.1068072 , -1.5502877 ],\n",
       "       [-0.34769598, -0.3976433 ],\n",
       "       [-1.9364189 , -1.3690429 ],\n",
       "       ...,\n",
       "       [-0.46202594,  1.4904482 ],\n",
       "       [-0.11130825, -3.2511532 ],\n",
       "       [ 0.6610011 , -0.6592203 ]], dtype=float32)"
      ]
     },
     "execution_count": 370,
     "metadata": {},
     "output_type": "execute_result"
    }
   ],
   "source": [
    "#check indexing of images\n",
    "y_pred[0]"
   ]
  },
  {
   "cell_type": "code",
   "execution_count": 371,
   "metadata": {},
   "outputs": [
    {
     "data": {
      "text/plain": [
       "array([5, 6, 0, ..., 9, 0, 8], dtype=uint8)"
      ]
     },
     "execution_count": 371,
     "metadata": {},
     "output_type": "execute_result"
    }
   ],
   "source": [
    "#check format of y test labels\n",
    "y_test"
   ]
  },
  {
   "cell_type": "code",
   "execution_count": 372,
   "metadata": {},
   "outputs": [
    {
     "data": {
      "text/plain": [
       "array([ True, False, False, ..., False, False, False])"
      ]
     },
     "execution_count": 372,
     "metadata": {},
     "output_type": "execute_result"
    }
   ],
   "source": [
    "#test how to assign boolean mask\n",
    "5 == y_test"
   ]
  },
  {
   "cell_type": "code",
   "execution_count": 412,
   "metadata": {},
   "outputs": [
    {
     "data": {
      "text/plain": [
       "<matplotlib.legend.Legend at 0x2d4c8485d48>"
      ]
     },
     "execution_count": 412,
     "metadata": {},
     "output_type": "execute_result"
    },
    {
     "data": {
      "image/png": "[encoded data removed]",
      "text/plain": [
       "<Figure size 432x288 with 1 Axes>"
      ]
     },
     "metadata": {
      "needs_background": "light"
     },
     "output_type": "display_data"
    }
   ],
   "source": [
    "#generate the figure\n",
    "fig, ax = plt.subplots()\n",
    "#for loop for the range of numbers\n",
    "for num in range(10):\n",
    "    #Generate the mask for when the number is the same as the label\n",
    "    mask = num == y_test\n",
    "    #apply mask to the predicted images for two different features: [mask,0] and [mask,1]\n",
    "    y_true_1 = y_pred[0][mask,0]\n",
    "    y_true_2 = y_pred[0][mask,1]\n",
    "    #plot the two images with the mask applied against eachother\n",
    "    ax.scatter(y_true_1,y_true_2,label=str(num),s=10)\n",
    "ax.grid()\n",
    "ax.legend()"
   ]
  },
  {
   "cell_type": "markdown",
   "metadata": {},
   "source": [
    "### MY COMMENTS\n",
    "\n",
    "\n",
    "---\n",
    "\n",
    "\n",
    "This scatter plot compares the numbers against eachother for the latent space. As you can see, the model is quite good at seperating some numbers, such as 1 (orange), 0 (blue), 7 (grey), and less successful at distinguishing between 9 (cyan), and 4 (purple). 8 (lime) and 5 (brown) are close to eachother, which can be explained by the similar features such as the lower right curve on both, also 5 and 3 (red) are similar due to their similar curvature.  "
   ]
  },
  {
   "cell_type": "markdown",
   "metadata": {},
   "source": [
    "#### 6. Generate samples across the latent space of the VAE (2 marks)\n",
    "\n",
    "* Define an equally-spaced set of $\\boldsymbol{N \\approx 10}$ **points** along each of the two latent dimensions, that you want to sample (_e.g._ using the `np.linspace` method in the range $(-2,2)$). You can play around with this range in order to focus on areas you personally think might be interesting (look at your grid plot above).\n",
    "* Convert these into a grid of pairs of coordinates using the `np.meshgrid` method.\n",
    "* Define an $(N^{2}, 2)$ array, and fill it with all of these pairs of latent space coordinates (you'll need to `flatten` the two outputs from `np.meshgrid`).\n",
    "* Get the decoder predictions (_i.e._ the generated images) for this set of $N^{2}$ coordinates in the latent space.\n",
    "* Display them in a grid, _e.g._ using the `plt.imshow` method.\n",
    "* Discuss the results."
   ]
  },
  {
   "cell_type": "code",
   "execution_count": 340,
   "metadata": {},
   "outputs": [],
   "source": [
    "#generate mesh grid from -2 to 2 in two dimensions for ten samples\n",
    "Xgrid, Ygrid = np.meshgrid(np.linspace(-2,2,10),np.linspace(-2,2,10))"
   ]
  },
  {
   "cell_type": "code",
   "execution_count": 342,
   "metadata": {},
   "outputs": [],
   "source": [
    "#flatten the mesh grid outputs\n",
    "X_flat = Xgrid.flatten()\n",
    "Y_flat = Ygrid.flatten()\n",
    "#form a grid of 0s for N^2 (10^2 = 100) entries, in 2 dimensions, x and y dimensions\n",
    "grid = np.zeros((10**2,2))\n",
    "#change all the rows in first column to the x values\n",
    "grid[:,0] = X_flat\n",
    "#change all the rows in second column to the y values\n",
    "grid[:,1] = Y_flat\n",
    "#this gives pairs of (x,y) coordinates"
   ]
  },
  {
   "cell_type": "code",
   "execution_count": 413,
   "metadata": {},
   "outputs": [
    {
     "data": {
      "text/plain": [
       "array([[-2.        , -2.        ],\n",
       "       [-1.55555556, -2.        ],\n",
       "       [-1.11111111, -2.        ],\n",
       "       [-0.66666667, -2.        ],\n",
       "       [-0.22222222, -2.        ],\n",
       "       [ 0.22222222, -2.        ],\n",
       "       [ 0.66666667, -2.        ],\n",
       "       [ 1.11111111, -2.        ],\n",
       "       [ 1.55555556, -2.        ],\n",
       "       [ 2.        , -2.        ],\n",
       "       [-2.        , -1.55555556],\n",
       "       [-1.55555556, -1.55555556],\n",
       "       [-1.11111111, -1.55555556],\n",
       "       [-0.66666667, -1.55555556],\n",
       "       [-0.22222222, -1.55555556],\n",
       "       [ 0.22222222, -1.55555556],\n",
       "       [ 0.66666667, -1.55555556],\n",
       "       [ 1.11111111, -1.55555556],\n",
       "       [ 1.55555556, -1.55555556],\n",
       "       [ 2.        , -1.55555556],\n",
       "       [-2.        , -1.11111111],\n",
       "       [-1.55555556, -1.11111111],\n",
       "       [-1.11111111, -1.11111111],\n",
       "       [-0.66666667, -1.11111111],\n",
       "       [-0.22222222, -1.11111111],\n",
       "       [ 0.22222222, -1.11111111],\n",
       "       [ 0.66666667, -1.11111111],\n",
       "       [ 1.11111111, -1.11111111],\n",
       "       [ 1.55555556, -1.11111111],\n",
       "       [ 2.        , -1.11111111],\n",
       "       [-2.        , -0.66666667],\n",
       "       [-1.55555556, -0.66666667],\n",
       "       [-1.11111111, -0.66666667],\n",
       "       [-0.66666667, -0.66666667],\n",
       "       [-0.22222222, -0.66666667],\n",
       "       [ 0.22222222, -0.66666667],\n",
       "       [ 0.66666667, -0.66666667],\n",
       "       [ 1.11111111, -0.66666667],\n",
       "       [ 1.55555556, -0.66666667],\n",
       "       [ 2.        , -0.66666667],\n",
       "       [-2.        , -0.22222222],\n",
       "       [-1.55555556, -0.22222222],\n",
       "       [-1.11111111, -0.22222222],\n",
       "       [-0.66666667, -0.22222222],\n",
       "       [-0.22222222, -0.22222222],\n",
       "       [ 0.22222222, -0.22222222],\n",
       "       [ 0.66666667, -0.22222222],\n",
       "       [ 1.11111111, -0.22222222],\n",
       "       [ 1.55555556, -0.22222222],\n",
       "       [ 2.        , -0.22222222],\n",
       "       [-2.        ,  0.22222222],\n",
       "       [-1.55555556,  0.22222222],\n",
       "       [-1.11111111,  0.22222222],\n",
       "       [-0.66666667,  0.22222222],\n",
       "       [-0.22222222,  0.22222222],\n",
       "       [ 0.22222222,  0.22222222],\n",
       "       [ 0.66666667,  0.22222222],\n",
       "       [ 1.11111111,  0.22222222],\n",
       "       [ 1.55555556,  0.22222222],\n",
       "       [ 2.        ,  0.22222222],\n",
       "       [-2.        ,  0.66666667],\n",
       "       [-1.55555556,  0.66666667],\n",
       "       [-1.11111111,  0.66666667],\n",
       "       [-0.66666667,  0.66666667],\n",
       "       [-0.22222222,  0.66666667],\n",
       "       [ 0.22222222,  0.66666667],\n",
       "       [ 0.66666667,  0.66666667],\n",
       "       [ 1.11111111,  0.66666667],\n",
       "       [ 1.55555556,  0.66666667],\n",
       "       [ 2.        ,  0.66666667],\n",
       "       [-2.        ,  1.11111111],\n",
       "       [-1.55555556,  1.11111111],\n",
       "       [-1.11111111,  1.11111111],\n",
       "       [-0.66666667,  1.11111111],\n",
       "       [-0.22222222,  1.11111111],\n",
       "       [ 0.22222222,  1.11111111],\n",
       "       [ 0.66666667,  1.11111111],\n",
       "       [ 1.11111111,  1.11111111],\n",
       "       [ 1.55555556,  1.11111111],\n",
       "       [ 2.        ,  1.11111111],\n",
       "       [-2.        ,  1.55555556],\n",
       "       [-1.55555556,  1.55555556],\n",
       "       [-1.11111111,  1.55555556],\n",
       "       [-0.66666667,  1.55555556],\n",
       "       [-0.22222222,  1.55555556],\n",
       "       [ 0.22222222,  1.55555556],\n",
       "       [ 0.66666667,  1.55555556],\n",
       "       [ 1.11111111,  1.55555556],\n",
       "       [ 1.55555556,  1.55555556],\n",
       "       [ 2.        ,  1.55555556],\n",
       "       [-2.        ,  2.        ],\n",
       "       [-1.55555556,  2.        ],\n",
       "       [-1.11111111,  2.        ],\n",
       "       [-0.66666667,  2.        ],\n",
       "       [-0.22222222,  2.        ],\n",
       "       [ 0.22222222,  2.        ],\n",
       "       [ 0.66666667,  2.        ],\n",
       "       [ 1.11111111,  2.        ],\n",
       "       [ 1.55555556,  2.        ],\n",
       "       [ 2.        ,  2.        ]])"
      ]
     },
     "execution_count": 413,
     "metadata": {},
     "output_type": "execute_result"
    }
   ],
   "source": [
    "#check grid\n",
    "grid"
   ]
  },
  {
   "cell_type": "code",
   "execution_count": 343,
   "metadata": {},
   "outputs": [],
   "source": [
    "#get predicted images from decoder\n",
    "dec_pred = decoder.predict(grid)"
   ]
  },
  {
   "cell_type": "code",
   "execution_count": 384,
   "metadata": {},
   "outputs": [
    {
     "data": {
      "image/png": "[encoded data removed]",
      "text/plain": [
       "<Figure size 432x360 with 100 Axes>"
      ]
     },
     "metadata": {
      "needs_background": "light"
     },
     "output_type": "display_data"
    }
   ],
   "source": [
    "#show the 100 images in N^2 latent space in 10x10 subplots\n",
    "figs, axs = plt.subplots(10, 10,figsize=(6,5))\n",
    "count = 0\n",
    "for i in range(10):\n",
    "    for j in range(10):\n",
    "        #plot decoded predicted image for values 1 to 100\n",
    "        img = dec_pred[count]\n",
    "        axs[i,j].imshow(img,cmap=plt.cm.binary)\n",
    "        count += 1\n",
    "        axs[i,j].set_axis_off()\n",
    "\n",
    "plt.subplots_adjust(hspace=0.8)\n",
    "plt.show()"
   ]
  },
  {
   "cell_type": "markdown",
   "metadata": {},
   "source": [
    "_Indicative answer:_ This figure shows us that:\n",
    "        \n",
    "Using VAEs, we're able to generate new images that look like the original ones. That's a pretty big thing, and something we couldn't do with a standard (non-variational) auto-encoder.\n"
   ]
  },
  {
   "cell_type": "markdown",
   "metadata": {},
   "source": [
    "# Generative Adversarial networks (2 marks)"
   ]
  },
  {
   "cell_type": "markdown",
   "metadata": {},
   "source": [
    "Putting together a GAN by yourself is a big task and outside the scope of what we can cover.\n",
    "\n",
    "Instead here we provide the building blocks for creating the GAN on the MNIST dataset. Your task is to go through individual components and show your understanding. The source material can be found [here](https://machinelearningmastery.com/how-to-develop-a-generative-adversarial-network-for-an-mnist-handwritten-digits-from-scratch-in-keras/) with ample explenations, so think of it as a short literature review, the point being to get you to engage with the material.\n",
    "\n",
    "\n",
    "**Suggestion**: you could choose to answer the question in the same markdown block they are asked. Make the answer distiguishable by for example using a seperator by typing `---` on a new line.\n",
    "\n",
    "\n",
    "\n",
    "#### 7. Discuss components of generative adverserial NN (0.5 marks)\n",
    "\n",
    "\n"
   ]
  },
  {
   "cell_type": "code",
   "execution_count": 349,
   "metadata": {},
   "outputs": [],
   "source": [
    "# all imports needed from here\n",
    "from numpy import expand_dims\n",
    "from numpy import zeros\n",
    "from numpy import ones\n",
    "from numpy import vstack\n",
    "from numpy.random import randn\n",
    "from numpy.random import randint\n",
    "from tensorflow.python.keras.datasets.mnist import load_data\n",
    "from tensorflow.keras.optimizers import Adam\n",
    "from tensorflow.python.keras.models import Sequential\n",
    "from tensorflow.python.keras.layers import Dense\n",
    "from tensorflow.python.keras.layers import Reshape\n",
    "from tensorflow.python.keras.layers import Flatten\n",
    "from tensorflow.python.keras.layers import Conv2D\n",
    "from tensorflow.python.keras.layers import Conv2DTranspose\n",
    "from tensorflow.python.keras.layers import LeakyReLU\n",
    "from tensorflow.python.keras.layers import Dropout\n",
    "from matplotlib import pyplot"
   ]
  },
  {
   "cell_type": "markdown",
   "metadata": {},
   "source": [
    "---\n",
    "\n",
    "- Defined is the discriminator model using the `Sequential` keras function\n",
    "    - What is the purpose of the discriminator?\n",
    "    - Discuss the structure. What are the LeakyReLU and Dropout layers?\n",
    "    - Why is binary crossentropy used as the loss function?"
   ]
  },
  {
   "cell_type": "markdown",
   "metadata": {},
   "source": [
    "---\n",
    "### MY ANSWERS\n",
    "1. A discriminator identifes fake data from real data. the fake data is produced by the generator and the real data is the input images. it is trained on both the real and fake data and its role is to distinguish between them by assigning a probability as to wether its fake (0) or real(1). the generator is trained via the discriminator.\n",
    "\n",
    "\n",
    "2. Structure: instead of pooling, convolution layers are used for downsampling. the dropout layers (dropout of 40%) remove the nodes between the layers, in order to prevent over-fitting and memorization. The activation function used in each layer is a leaky ReLU. The leaky relu function is linear regression, however unlike relu it doesn't let nodes die for values less than 0, it gives a very small value instead of 0 for negative values. this means the nodes do not die and are updated, so stops you loosing variables. the output function is `sigmoid`, this assigns a scalar value of the probability of how real the image is nearer to 0 means more probability of fake, and closer to 1 is closer to real, which is what we need the discriminator to do.\n",
    "\n",
    "\n",
    "3. binary cross entropy is used as the loss function of the discriminator as the discriminator wants to identify fake data, thus they want to compare the fake data and real data against eachother, one is trying to maximise the probability (1) and one is trying to minimize the probability (0). the loss function of the discriminator trains the generator and so this loss function is necessary so that the generator can improve its fake data by looking at the binary cross entropy, how close it is to fake/true. cross-entropy is the default loss function to use for binary classification problems, as it has target values 1 and 0.\n",
    "\n"
   ]
  },
  {
   "cell_type": "code",
   "execution_count": 350,
   "metadata": {},
   "outputs": [],
   "source": [
    "# define the standalone discriminator model\n",
    "def define_discriminator(in_shape=(28,28,1)):\n",
    "\tmodel = Sequential()\n",
    "\tmodel.add(Conv2D(64, (3,3), strides=(2, 2), padding='same', input_shape=in_shape))\n",
    "\tmodel.add(LeakyReLU(alpha=0.2))\n",
    "\tmodel.add(Dropout(0.4))\n",
    "\tmodel.add(Conv2D(64, (3,3), strides=(2, 2), padding='same'))\n",
    "\tmodel.add(LeakyReLU(alpha=0.2))\n",
    "\tmodel.add(Dropout(0.4))\n",
    "\tmodel.add(Flatten())\n",
    "\tmodel.add(Dense(1, activation='sigmoid'))\n",
    "\t# compile model\n",
    "\topt = Adam(lr=0.0002, beta_1=0.5)\n",
    "\tmodel.compile(loss='binary_crossentropy', optimizer=opt, metrics=['accuracy'])\n",
    "\treturn model"
   ]
  },
  {
   "cell_type": "code",
   "execution_count": 351,
   "metadata": {},
   "outputs": [
    {
     "name": "stdout",
     "output_type": "stream",
     "text": [
      "Model: \"sequential\"\n",
      "_________________________________________________________________\n",
      "Layer (type)                 Output Shape              Param #   \n",
      "=================================================================\n",
      "conv2d_63 (Conv2D)           (None, 14, 14, 64)        640       \n",
      "_________________________________________________________________\n",
      "leaky_re_lu (LeakyReLU)      (None, 14, 14, 64)        0         \n",
      "_________________________________________________________________\n",
      "dropout (Dropout)            (None, 14, 14, 64)        0         \n",
      "_________________________________________________________________\n",
      "conv2d_64 (Conv2D)           (None, 7, 7, 64)          36928     \n",
      "_________________________________________________________________\n",
      "leaky_re_lu_1 (LeakyReLU)    (None, 7, 7, 64)          0         \n",
      "_________________________________________________________________\n",
      "dropout_1 (Dropout)          (None, 7, 7, 64)          0         \n",
      "_________________________________________________________________\n",
      "flatten_27 (Flatten)         (None, 3136)              0         \n",
      "_________________________________________________________________\n",
      "dense_81 (Dense)             (None, 1)                 3137      \n",
      "=================================================================\n",
      "Total params: 40,705\n",
      "Trainable params: 40,705\n",
      "Non-trainable params: 0\n",
      "_________________________________________________________________\n"
     ]
    },
    {
     "data": {
      "image/png": "[encoded data removed]",
      "text/plain": [
       "<IPython.core.display.Image object>"
      ]
     },
     "execution_count": 351,
     "metadata": {},
     "output_type": "execute_result"
    }
   ],
   "source": [
    "# create the discriminator\n",
    "d_model = define_discriminator()\n",
    "d_model.summary()\n",
    "plot_model(d_model)"
   ]
  },
  {
   "cell_type": "markdown",
   "metadata": {},
   "source": [
    "---\n",
    "- Defined is the generator model\n",
    "    - What is used as input to the generative model?\n",
    "    - What is the Conv2DTranspose layer used for?\n",
    "    - Why is sigmoid used as the activation function?"
   ]
  },
  {
   "cell_type": "markdown",
   "metadata": {},
   "source": [
    "### MY ANSWERS\n",
    "---\n",
    "1. The input, `model.add(Dense(n_nodes, input_dim=latent_dim))`, is a dense layer with dimensions the same as the latent dimensions (2) with 7x7 pixels per filter with 128 filters, so a total of 6272 nodes. This is for a batch size of 128 and 7x7 image. This input takes in noise and turns it into a fake image.\n",
    "\n",
    "\n",
    "2. The `Conv2DTranpose` layer is the inverse of the convolution, used to generate a fake image is generated from noise (dense layer with leaky relu) which upsamples the data. it also learns which is the best upsampling to use, unlike `Upsampling2d`.\n",
    "\n",
    "\n",
    "3. The output of the sigmoid at the last layer produces the fake image. Sigmoid is for binary classification probability (0,1), which allows us to use binary cross entropy loss and class the images as real or fake"
   ]
  },
  {
   "cell_type": "code",
   "execution_count": 352,
   "metadata": {},
   "outputs": [],
   "source": [
    "# define the standalone generator model\n",
    "def define_generator(latent_dim):\n",
    "\tmodel = Sequential()\n",
    "\t# foundation for 7x7 image\n",
    "\tn_nodes = 128 * 7 * 7\n",
    "\tmodel.add(Dense(n_nodes, input_dim=latent_dim))\n",
    "\tmodel.add(LeakyReLU(alpha=0.2))\n",
    "\tmodel.add(Reshape((7, 7, 128)))\n",
    "\t# upsample to 14x14\n",
    "\tmodel.add(Conv2DTranspose(128, (4,4), strides=(2,2), padding='same'))\n",
    "\tmodel.add(LeakyReLU(alpha=0.2))\n",
    "\t# upsample to 28x28\n",
    "\tmodel.add(Conv2DTranspose(128, (4,4), strides=(2,2), padding='same'))\n",
    "\tmodel.add(LeakyReLU(alpha=0.2))\n",
    "\tmodel.add(Conv2D(1, (7,7), activation='sigmoid', padding='same'))\n",
    "\treturn model\n",
    " "
   ]
  },
  {
   "cell_type": "code",
   "execution_count": 353,
   "metadata": {},
   "outputs": [
    {
     "name": "stdout",
     "output_type": "stream",
     "text": [
      "Model: \"sequential_1\"\n",
      "_________________________________________________________________\n",
      "Layer (type)                 Output Shape              Param #   \n",
      "=================================================================\n",
      "dense_82 (Dense)             (None, 6272)              633472    \n",
      "_________________________________________________________________\n",
      "leaky_re_lu_2 (LeakyReLU)    (None, 6272)              0         \n",
      "_________________________________________________________________\n",
      "reshape_12 (Reshape)         (None, 7, 7, 128)         0         \n",
      "_________________________________________________________________\n",
      "conv2d_transpose_6 (Conv2DTr (None, 14, 14, 128)       262272    \n",
      "_________________________________________________________________\n",
      "leaky_re_lu_3 (LeakyReLU)    (None, 14, 14, 128)       0         \n",
      "_________________________________________________________________\n",
      "conv2d_transpose_7 (Conv2DTr (None, 28, 28, 128)       262272    \n",
      "_________________________________________________________________\n",
      "leaky_re_lu_4 (LeakyReLU)    (None, 28, 28, 128)       0         \n",
      "_________________________________________________________________\n",
      "conv2d_65 (Conv2D)           (None, 28, 28, 1)         6273      \n",
      "=================================================================\n",
      "Total params: 1,164,289\n",
      "Trainable params: 1,164,289\n",
      "Non-trainable params: 0\n",
      "_________________________________________________________________\n"
     ]
    },
    {
     "data": {
      "image/png": "[encoded data removed]",
      "text/plain": [
       "<IPython.core.display.Image object>"
      ]
     },
     "execution_count": 353,
     "metadata": {},
     "output_type": "execute_result"
    }
   ],
   "source": [
    "# size of the latent space\n",
    "latent_dim = 100\n",
    "# create the generator\n",
    "g_model = define_generator(latent_dim)\n",
    "g_model.summary()\n",
    "plot_model(g_model)"
   ]
  },
  {
   "cell_type": "markdown",
   "metadata": {},
   "source": [
    "---\n",
    "- We define the GAN model as a sequence of both generator and discriminator\n",
    "    - Explain the order of the sequence, and the flow of input to output, through the generator and discriminator\n",
    "    - Notice the discriminator is not trainable in the gan model. Can you think of why that might be? This may become clear when we discuss the training loop."
   ]
  },
  {
   "cell_type": "markdown",
   "metadata": {},
   "source": [
    "### MY ANSWERS\n",
    "---\n",
    "1. The sequence of the GAN is first the generator, and then the discriminator. the generator takes in noise in a dense layer for 7x7 image, which is then upsampled to a 14x14 image, which is then finally upsampled and reshaped to image dimensions 28x28. The output is one node which uses the sigmoid function, giving 1 and 0 to determining real or fake images. The generated 28x28 image is fed into the discriminator along with the real images. The discriminator then takes in this 28x28 image, applies convolution, applies leaky relu to assign 1 and 0 to the next layers, drops out some of the nodes to prevent over fitting. This is then repeated and the images are then flattened and returns a  true or false (real / fake) probability using sigmoid function.\n",
    "\n",
    "\n",
    "2. The discrimator is not trainable as you do not want it to learn the fake data. If it did learn the fake data, it would not be able to distinguish between the true data, as anything it was then fed it would label as fake. As we want it to distinguish between real and fake with increasing accuracy, we make it untrainable in the GAN model. "
   ]
  },
  {
   "cell_type": "code",
   "execution_count": 354,
   "metadata": {},
   "outputs": [],
   "source": [
    "# define the combined generator and discriminator model, for updating the generator\n",
    "def define_gan(g_model, d_model):\n",
    "\t# make weights in the discriminator not trainable\n",
    "\td_model.trainable = False\n",
    "\t# connect them\n",
    "\tmodel = Sequential()\n",
    "\t# add generator\n",
    "\tmodel.add(g_model)\n",
    "\t# add the discriminator\n",
    "\tmodel.add(d_model)\n",
    "\t# compile model\n",
    "\topt = Adam(lr=0.0002, beta_1=0.5)\n",
    "\tmodel.compile(loss='binary_crossentropy', optimizer=opt)\n",
    "\treturn model"
   ]
  },
  {
   "cell_type": "code",
   "execution_count": 355,
   "metadata": {},
   "outputs": [
    {
     "name": "stdout",
     "output_type": "stream",
     "text": [
      "Model: \"sequential_2\"\n",
      "_________________________________________________________________\n",
      "Layer (type)                 Output Shape              Param #   \n",
      "=================================================================\n",
      "sequential_1 (Sequential)    (None, 28, 28, 1)         1164289   \n",
      "_________________________________________________________________\n",
      "sequential (Sequential)      (None, 1)                 40705     \n",
      "=================================================================\n",
      "Total params: 1,204,994\n",
      "Trainable params: 1,164,289\n",
      "Non-trainable params: 40,705\n",
      "_________________________________________________________________\n"
     ]
    },
    {
     "data": {
      "image/png": "[encoded data removed]",
      "text/plain": [
       "<IPython.core.display.Image object>"
      ]
     },
     "execution_count": 355,
     "metadata": {},
     "output_type": "execute_result"
    }
   ],
   "source": [
    "# create the gan\n",
    "gan_model = define_gan(g_model, d_model)\n",
    "gan_model.summary()\n",
    "plot_model(gan_model)"
   ]
  },
  {
   "cell_type": "markdown",
   "metadata": {},
   "source": [
    "---\n",
    "##### 8. Discuss the training datasets (0.5 marks)"
   ]
  },
  {
   "cell_type": "markdown",
   "metadata": {},
   "source": [
    "- Given are real mnist datasets. \n",
    "- `load_real_samples` prepares mnist\n",
    "- `generate_real_samples` allows us to select a subset of data for barch training\n",
    "    - what is this data used for?\n",
    "    - what is the `y = ones((n_samples, 1))` varible used for?"
   ]
  },
  {
   "cell_type": "markdown",
   "metadata": {},
   "source": [
    "### MY ANSWERS\n",
    "\n",
    "---\n",
    "\n",
    "1. `generate_real_samples` is a small random batch of the dataset, small batches are used here to compare to the fake data. it is small as it is noisy so allows for training and random so there is no bias in the data. \n",
    "\n",
    "\n",
    "\n",
    "2. the `y = ones((n_samples,1))` is a `[Nx1]` array of ones, where N is the number of images. the ones are the 'real' class labels as this is the real data, in the dimensions of the number of images so that each image has a class label '1' because they're real"
   ]
  },
  {
   "cell_type": "code",
   "execution_count": 356,
   "metadata": {},
   "outputs": [],
   "source": [
    "# load and prepare mnist training images\n",
    "def load_real_samples():\n",
    "\t# load mnist dataset\n",
    "\t(trainX, _), (_, _) = load_data()\n",
    "\t# expand to 3d, e.g. add channels dimension\n",
    "\tX = expand_dims(trainX, axis=-1)\n",
    "\t# convert from unsigned ints to floats\n",
    "\tX = X.astype('float32')\n",
    "\t# scale from [0,255] to [0,1]\n",
    "\tX = X / 255.0\n",
    "\treturn X\n",
    " \n",
    "# select real samples\n",
    "def generate_real_samples(dataset, n_samples):\n",
    "\t# choose random instances\n",
    "\tix = randint(0, dataset.shape[0], n_samples)\n",
    "\t# retrieve selected images\n",
    "\tX = dataset[ix]\n",
    "\ty = ones((n_samples, 1))\n",
    "\treturn X, y\n",
    " "
   ]
  },
  {
   "cell_type": "markdown",
   "metadata": {},
   "source": [
    "---\n",
    "- Given are functions to generate random numbers from laten space\n",
    "    - use `generate_fake_samples` to create a single random image propegated through the generator. Discuss the result."
   ]
  },
  {
   "cell_type": "code",
   "execution_count": 357,
   "metadata": {},
   "outputs": [],
   "source": [
    "# generate points in latent space as input for the generator\n",
    "def generate_latent_points(latent_dim, n_samples):\n",
    "\t# generate points in the latent space\n",
    "\tx_input = randn(latent_dim * n_samples)\n",
    "\t# reshape into a batch of inputs for the network\n",
    "\tx_input = x_input.reshape(n_samples, latent_dim)\n",
    "\treturn x_input\n",
    " \n",
    "# use the generator to generate n fake examples, with class labels\n",
    "def generate_fake_samples(g_model, latent_dim, n_samples):\n",
    "\t# generate points in latent space\n",
    "\tx_input = generate_latent_points(latent_dim, n_samples)\n",
    "\t# predict outputs\n",
    "\tX = g_model.predict(x_input)\n",
    "\t# create 'fake' class labels (0)\n",
    "\ty = zeros((n_samples, 1))\n",
    "\treturn X, y"
   ]
  },
  {
   "cell_type": "code",
   "execution_count": 397,
   "metadata": {},
   "outputs": [],
   "source": [
    "X,y = generate_fake_samples(g_model, latent_dim, 1)"
   ]
  },
  {
   "cell_type": "code",
   "execution_count": 406,
   "metadata": {},
   "outputs": [
    {
     "data": {
      "text/plain": [
       "<matplotlib.image.AxesImage at 0x2d4c8e83548>"
      ]
     },
     "execution_count": 406,
     "metadata": {},
     "output_type": "execute_result"
    },
    {
     "data": {
      "image/png": "[encoded data removed]",
      "text/plain": [
       "<Figure size 432x288 with 1 Axes>"
      ]
     },
     "metadata": {
      "needs_background": "light"
     },
     "output_type": "display_data"
    }
   ],
   "source": [
    "plt.imshow(X[0,:,:,:],cmap=plt.cm.binary)"
   ]
  },
  {
   "cell_type": "markdown",
   "metadata": {},
   "source": [
    "---\n",
    "COMMENT:\n",
    "I trained the model in **Q9** before running this cell to save time, therefore it is trained and tries to look like an element of the dataset however it should just be noise. It should have noise with no visible structure if the generator isn't trained."
   ]
  },
  {
   "cell_type": "markdown",
   "metadata": {},
   "source": [
    "---\n",
    "Some functions for saving GAN models and output images"
   ]
  },
  {
   "cell_type": "code",
   "execution_count": 358,
   "metadata": {},
   "outputs": [],
   "source": [
    "# create and save a plot of generated images (reversed grayscale)\n",
    "def save_plot(examples, epoch, n=10):\n",
    "\t# plot images\n",
    "\tfor i in range(n * n):\n",
    "\t\t# define subplot\n",
    "\t\tpyplot.subplot(n, n, 1 + i)\n",
    "\t\t# turn off axis\n",
    "\t\tpyplot.axis('off')\n",
    "\t\t# plot raw pixel data\n",
    "\t\tpyplot.imshow(examples[i, :, :, 0], cmap='gray_r')\n",
    "\t# save plot to file\n",
    "\tfilename = 'generated_plot_e%03d.png' % (epoch+1)\n",
    "\tpyplot.savefig(filename)\n",
    "\tpyplot.close()\n",
    "# evaluate the discriminator, plot generated images, save generator model\n",
    "\n",
    "def summarize_performance(epoch, g_model, d_model, dataset, latent_dim, n_samples=100):\n",
    "\t# prepare real samples\n",
    "\tX_real, y_real = generate_real_samples(dataset, n_samples)\n",
    "\t# evaluate discriminator on real examples\n",
    "\t_, acc_real = d_model.evaluate(X_real, y_real, verbose=0)\n",
    "\t# prepare fake examples\n",
    "\tx_fake, y_fake = generate_fake_samples(g_model, latent_dim, n_samples)\n",
    "\t# evaluate discriminator on fake examples\n",
    "\t_, acc_fake = d_model.evaluate(x_fake, y_fake, verbose=0)\n",
    "\t# summarize discriminator performance\n",
    "\tprint('>Accuracy real: %.0f%%, fake: %.0f%%' % (acc_real*100, acc_fake*100))\n",
    "\t# save plot\n",
    "\tsave_plot(x_fake, epoch)\n",
    "\t# save the generator model tile file\n",
    "\tfilename = 'generator_model_%03d.h5' % (epoch + 1)\n",
    "\tg_model.save(filename) "
   ]
  },
  {
   "cell_type": "markdown",
   "metadata": {},
   "source": [
    "#### 9 Training the GANs (1 marks)\n",
    "\n",
    "The GAN training sequnce is done in batches of data per epoch. Because the generator weights cannot be updated in the standard way, this is done iteratively in a loop. \n",
    "\n",
    "\n",
    "- Discuss the lines within the `j` loop. Explain how the generator and discriminator are trained in this context. "
   ]
  },
  {
   "cell_type": "markdown",
   "metadata": {},
   "source": [
    "### MY ANSWERS\n",
    "\n",
    "---\n",
    "\n",
    "Firstly, a number of real random samples are selected and the same number of fake data is generated by generator. a training set is generated by mixing the real and fake data. The discriminator is trained on this batch and its weights updated. Points are generated in the latent space as a input for the generator. The random points are fed to the generator to create fake samples. Inverted labels are generated for the fake samples, so that they are labeled as True/1. This list of trues goes into the loss calculation so that it can calculate the error. Then the generator is updated using the loss of the discriminator to generate better fake images - they train against eachother so the fake data looks more real and therefore the discriminator becomes more accurate distinguishing between the two. "
   ]
  },
  {
   "cell_type": "code",
   "execution_count": 359,
   "metadata": {},
   "outputs": [],
   "source": [
    "# train the generator and discriminator\n",
    "def train(g_model, d_model, gan_model, dataset, latent_dim, n_epochs=5, n_batch=256):\n",
    "\tbat_per_epo = int(dataset.shape[0] / n_batch)\n",
    "\thalf_batch = int(n_batch / 2)\n",
    "\t# manually enumerate epochs\n",
    "\tfor i in range(n_epochs):\n",
    "\t\t# enumerate batches over the training set\n",
    "\t\tfor j in range(bat_per_epo):\n",
    "\t\t\t# get randomly selected 'real' samples\n",
    "\t\t\tX_real, y_real = generate_real_samples(dataset, half_batch)\n",
    "\t\t\t# generate 'fake' examples\n",
    "\t\t\tX_fake, y_fake = generate_fake_samples(g_model, latent_dim, half_batch)\n",
    "\t\t\t# create training set for the discriminator\n",
    "\t\t\tX, y = vstack((X_real, X_fake)), vstack((y_real, y_fake))\n",
    "\t\t\t# update discriminator model weights\n",
    "\t\t\td_loss, _ = d_model.train_on_batch(X, y)\n",
    "\t\t\t# prepare points in latent space as input for the generator\n",
    "\t\t\tX_gan = generate_latent_points(latent_dim, n_batch)\n",
    "\t\t\t# create inverted labels for the fake samples\n",
    "\t\t\ty_gan = ones((n_batch, 1))\n",
    "\t\t\t# update the generator via the discriminator's error\n",
    "\t\t\tg_loss = gan_model.train_on_batch(X_gan, y_gan)\n",
    "\t\t\t# summarize loss on this batch\n",
    "\t\t\tprint('>%d, %d/%d, d=%.3f, g=%.3f' % (i+1, j+1, bat_per_epo, d_loss, g_loss))\n",
    "\t\t# evaluate the model performance, sometimes\n",
    "\t\tif (i+1) % 2 == 0:\n",
    "\t\t\tsummarize_performance(i, g_model, d_model, dataset, latent_dim)\n",
    " "
   ]
  },
  {
   "cell_type": "markdown",
   "metadata": {},
   "source": [
    "- Train the GAN model. \n",
    "    - This takes a very long time, so I would recommend aiming for 3 epochs and checking the figures that are generated (saved locally). They won't be good, but you will get some idea already that we don't have random noise\n",
    "    - Discuss the print out. How do the loss functions change over time?\n",
    "    - Generate some images with your new number generator and plot them. \n",
    "    - Feel free to try for more epoches (if you insist!). If you have some hours to waste, 10 should start showing some good digits, and by 50 you should get some good results."
   ]
  },
  {
   "cell_type": "code",
   "execution_count": 388,
   "metadata": {},
   "outputs": [
    {
     "name": "stdout",
     "output_type": "stream",
     "text": [
      "WARNING:tensorflow:Discrepancy between trainable weights and collected trainable weights, did you set `model.trainable` without calling `model.compile` after ?\n",
      ">1, 1/234, d=0.731, g=0.628\n",
      ">1, 2/234, d=0.723, g=0.652\n",
      ">1, 3/234, d=0.712, g=0.672\n",
      ">1, 4/234, d=0.703, g=0.697\n",
      ">1, 5/234, d=0.693, g=0.718\n",
      ">1, 6/234, d=0.680, g=0.745\n",
      ">1, 7/234, d=0.669, g=0.770\n",
      ">1, 8/234, d=0.665, g=0.790\n",
      ">1, 9/234, d=0.659, g=0.809\n",
      ">1, 10/234, d=0.651, g=0.825\n",
      ">1, 11/234, d=0.650, g=0.842\n",
      ">1, 12/234, d=0.642, g=0.850\n",
      ">1, 13/234, d=0.641, g=0.849\n",
      ">1, 14/234, d=0.645, g=0.838\n",
      ">1, 15/234, d=0.642, g=0.825\n",
      ">1, 16/234, d=0.647, g=0.804\n",
      ">1, 17/234, d=0.651, g=0.782\n",
      ">1, 18/234, d=0.648, g=0.761\n",
      ">1, 19/234, d=0.653, g=0.744\n",
      ">1, 20/234, d=0.653, g=0.729\n",
      ">1, 21/234, d=0.651, g=0.717\n",
      ">1, 22/234, d=0.642, g=0.709\n",
      ">1, 23/234, d=0.639, g=0.704\n",
      ">1, 24/234, d=0.634, g=0.701\n",
      ">1, 25/234, d=0.625, g=0.700\n",
      ">1, 26/234, d=0.616, g=0.698\n",
      ">1, 27/234, d=0.607, g=0.698\n",
      ">1, 28/234, d=0.598, g=0.699\n",
      ">1, 29/234, d=0.590, g=0.700\n",
      ">1, 30/234, d=0.582, g=0.701\n",
      ">1, 31/234, d=0.567, g=0.701\n",
      ">1, 32/234, d=0.564, g=0.702\n",
      ">1, 33/234, d=0.543, g=0.704\n",
      ">1, 34/234, d=0.541, g=0.704\n",
      ">1, 35/234, d=0.531, g=0.705\n",
      ">1, 36/234, d=0.513, g=0.707\n",
      ">1, 37/234, d=0.503, g=0.708\n",
      ">1, 38/234, d=0.499, g=0.710\n",
      ">1, 39/234, d=0.481, g=0.711\n",
      ">1, 40/234, d=0.473, g=0.713\n",
      ">1, 41/234, d=0.466, g=0.714\n",
      ">1, 42/234, d=0.450, g=0.715\n",
      ">1, 43/234, d=0.446, g=0.717\n",
      ">1, 44/234, d=0.442, g=0.718\n",
      ">1, 45/234, d=0.435, g=0.720\n",
      ">1, 46/234, d=0.422, g=0.722\n",
      ">1, 47/234, d=0.420, g=0.724\n",
      ">1, 48/234, d=0.406, g=0.727\n",
      ">1, 49/234, d=0.405, g=0.728\n",
      ">1, 50/234, d=0.404, g=0.731\n",
      ">1, 51/234, d=0.391, g=0.733\n",
      ">1, 52/234, d=0.390, g=0.736\n",
      ">1, 53/234, d=0.382, g=0.739\n",
      ">1, 54/234, d=0.377, g=0.743\n",
      ">1, 55/234, d=0.371, g=0.746\n",
      ">1, 56/234, d=0.369, g=0.749\n",
      ">1, 57/234, d=0.362, g=0.755\n",
      ">1, 58/234, d=0.360, g=0.758\n",
      ">1, 59/234, d=0.358, g=0.763\n",
      ">1, 60/234, d=0.351, g=0.769\n",
      ">1, 61/234, d=0.347, g=0.775\n",
      ">1, 62/234, d=0.344, g=0.780\n",
      ">1, 63/234, d=0.341, g=0.788\n",
      ">1, 64/234, d=0.337, g=0.793\n",
      ">1, 65/234, d=0.333, g=0.802\n",
      ">1, 66/234, d=0.327, g=0.812\n",
      ">1, 67/234, d=0.321, g=0.821\n",
      ">1, 68/234, d=0.322, g=0.831\n",
      ">1, 69/234, d=0.308, g=0.841\n",
      ">1, 70/234, d=0.310, g=0.854\n",
      ">1, 71/234, d=0.304, g=0.867\n",
      ">1, 72/234, d=0.292, g=0.880\n",
      ">1, 73/234, d=0.289, g=0.896\n",
      ">1, 74/234, d=0.289, g=0.911\n",
      ">1, 75/234, d=0.279, g=0.929\n",
      ">1, 76/234, d=0.272, g=0.949\n",
      ">1, 77/234, d=0.265, g=0.967\n",
      ">1, 78/234, d=0.260, g=0.989\n",
      ">1, 79/234, d=0.253, g=1.012\n",
      ">1, 80/234, d=0.243, g=1.039\n",
      ">1, 81/234, d=0.239, g=1.064\n",
      ">1, 82/234, d=0.230, g=1.090\n",
      ">1, 83/234, d=0.222, g=1.122\n",
      ">1, 84/234, d=0.220, g=1.154\n",
      ">1, 85/234, d=0.211, g=1.186\n",
      ">1, 86/234, d=0.199, g=1.220\n",
      ">1, 87/234, d=0.194, g=1.257\n",
      ">1, 88/234, d=0.185, g=1.297\n",
      ">1, 89/234, d=0.180, g=1.333\n",
      ">1, 90/234, d=0.171, g=1.377\n",
      ">1, 91/234, d=0.166, g=1.415\n",
      ">1, 92/234, d=0.157, g=1.456\n",
      ">1, 93/234, d=0.152, g=1.500\n",
      ">1, 94/234, d=0.145, g=1.555\n",
      ">1, 95/234, d=0.137, g=1.594\n",
      ">1, 96/234, d=0.133, g=1.643\n",
      ">1, 97/234, d=0.121, g=1.694\n",
      ">1, 98/234, d=0.117, g=1.741\n",
      ">1, 99/234, d=0.118, g=1.801\n",
      ">1, 100/234, d=0.110, g=1.835\n",
      ">1, 101/234, d=0.112, g=1.878\n",
      ">1, 102/234, d=0.100, g=1.931\n",
      ">1, 103/234, d=0.091, g=1.982\n",
      ">1, 104/234, d=0.086, g=2.025\n",
      ">1, 105/234, d=0.087, g=2.089\n",
      ">1, 106/234, d=0.083, g=2.124\n",
      ">1, 107/234, d=0.075, g=2.183\n",
      ">1, 108/234, d=0.076, g=2.224\n",
      ">1, 109/234, d=0.070, g=2.268\n",
      ">1, 110/234, d=0.068, g=2.315\n",
      ">1, 111/234, d=0.066, g=2.373\n",
      ">1, 112/234, d=0.060, g=2.412\n",
      ">1, 113/234, d=0.065, g=2.454\n",
      ">1, 114/234, d=0.054, g=2.493\n",
      ">1, 115/234, d=0.054, g=2.556\n",
      ">1, 116/234, d=0.053, g=2.589\n",
      ">1, 117/234, d=0.051, g=2.621\n",
      ">1, 118/234, d=0.043, g=2.675\n",
      ">1, 119/234, d=0.054, g=2.708\n",
      ">1, 120/234, d=0.046, g=2.751\n",
      ">1, 121/234, d=0.046, g=2.788\n",
      ">1, 122/234, d=0.042, g=2.827\n",
      ">1, 123/234, d=0.046, g=2.864\n",
      ">1, 124/234, d=0.040, g=2.893\n",
      ">1, 125/234, d=0.037, g=2.939\n",
      ">1, 126/234, d=0.037, g=2.956\n",
      ">1, 127/234, d=0.037, g=2.998\n",
      ">1, 128/234, d=0.031, g=3.028\n",
      ">1, 129/234, d=0.035, g=3.077\n",
      ">1, 130/234, d=0.034, g=3.092\n",
      ">1, 131/234, d=0.036, g=3.127\n",
      ">1, 132/234, d=0.030, g=3.165\n",
      ">1, 133/234, d=0.030, g=3.199\n",
      ">1, 134/234, d=0.028, g=3.219\n",
      ">1, 135/234, d=0.035, g=3.251\n",
      ">1, 136/234, d=0.031, g=3.277\n",
      ">1, 137/234, d=0.026, g=3.293\n",
      ">1, 138/234, d=0.024, g=3.332\n",
      ">1, 139/234, d=0.024, g=3.354\n",
      ">1, 140/234, d=0.022, g=3.379\n",
      ">1, 141/234, d=0.023, g=3.422\n",
      ">1, 142/234, d=0.023, g=3.447\n",
      ">1, 143/234, d=0.024, g=3.483\n",
      ">1, 144/234, d=0.022, g=3.511\n",
      ">1, 145/234, d=0.020, g=3.528\n",
      ">1, 146/234, d=0.023, g=3.572\n",
      ">1, 147/234, d=0.020, g=3.566\n",
      ">1, 148/234, d=0.022, g=3.584\n",
      ">1, 149/234, d=0.021, g=3.553\n",
      ">1, 150/234, d=0.023, g=3.376\n",
      ">1, 151/234, d=0.238, g=2.131\n",
      ">1, 152/234, d=4.730, g=0.003\n",
      ">1, 153/234, d=5.622, g=0.001\n",
      ">1, 154/234, d=4.203, g=0.014\n",
      ">1, 155/234, d=2.603, g=0.282\n",
      ">1, 156/234, d=1.436, g=1.515\n",
      ">1, 157/234, d=0.867, g=2.721\n",
      ">1, 158/234, d=0.723, g=3.358\n",
      ">1, 159/234, d=0.604, g=3.265\n",
      ">1, 160/234, d=0.536, g=2.782\n",
      ">1, 161/234, d=0.400, g=2.221\n",
      ">1, 162/234, d=0.353, g=2.040\n",
      ">1, 163/234, d=0.302, g=1.807\n",
      ">1, 164/234, d=0.336, g=1.828\n",
      ">1, 165/234, d=0.383, g=1.855\n",
      ">1, 166/234, d=0.318, g=1.826\n",
      ">1, 167/234, d=0.355, g=1.817\n",
      ">1, 168/234, d=0.326, g=1.768\n",
      ">1, 169/234, d=0.333, g=1.929\n",
      ">1, 170/234, d=0.317, g=1.880\n",
      ">1, 171/234, d=0.326, g=1.829\n",
      ">1, 172/234, d=0.330, g=1.751\n",
      ">1, 173/234, d=0.309, g=1.738\n",
      ">1, 174/234, d=0.312, g=1.874\n",
      ">1, 175/234, d=0.360, g=1.902\n",
      ">1, 176/234, d=0.324, g=1.799\n",
      ">1, 177/234, d=0.336, g=1.893\n",
      ">1, 178/234, d=0.307, g=1.894\n",
      ">1, 179/234, d=0.344, g=1.855\n",
      ">1, 180/234, d=0.294, g=1.776\n",
      ">1, 181/234, d=0.315, g=1.697\n",
      ">1, 182/234, d=0.339, g=1.682\n",
      ">1, 183/234, d=0.312, g=1.621\n",
      ">1, 184/234, d=0.339, g=1.638\n",
      ">1, 185/234, d=0.340, g=1.552\n",
      ">1, 186/234, d=0.361, g=1.567\n",
      ">1, 187/234, d=0.330, g=1.524\n",
      ">1, 188/234, d=0.360, g=1.568\n",
      ">1, 189/234, d=0.388, g=1.531\n",
      ">1, 190/234, d=0.380, g=1.439\n",
      ">1, 191/234, d=0.385, g=1.401\n",
      ">1, 192/234, d=0.369, g=1.441\n",
      ">1, 193/234, d=0.359, g=1.385\n",
      ">1, 194/234, d=0.388, g=1.383\n",
      ">1, 195/234, d=0.373, g=1.378\n",
      ">1, 196/234, d=0.392, g=1.381\n",
      ">1, 197/234, d=0.367, g=1.396\n",
      ">1, 198/234, d=0.380, g=1.386\n",
      ">1, 199/234, d=0.356, g=1.411\n",
      ">1, 200/234, d=0.369, g=1.430\n",
      ">1, 201/234, d=0.355, g=1.413\n",
      ">1, 202/234, d=0.351, g=1.492\n",
      ">1, 203/234, d=0.313, g=1.521\n",
      ">1, 204/234, d=0.355, g=1.556\n",
      ">1, 205/234, d=0.304, g=1.565\n",
      ">1, 206/234, d=0.359, g=1.567\n",
      ">1, 207/234, d=0.283, g=1.644\n",
      ">1, 208/234, d=0.294, g=1.662\n",
      ">1, 209/234, d=0.272, g=1.730\n",
      ">1, 210/234, d=0.262, g=1.726\n",
      ">1, 211/234, d=0.263, g=1.717\n",
      ">1, 212/234, d=0.241, g=1.721\n",
      ">1, 213/234, d=0.222, g=1.821\n",
      ">1, 214/234, d=0.222, g=1.832\n",
      ">1, 215/234, d=0.237, g=1.864\n",
      ">1, 216/234, d=0.221, g=1.847\n",
      ">1, 217/234, d=0.218, g=1.887\n",
      ">1, 218/234, d=0.214, g=1.873\n",
      ">1, 219/234, d=0.196, g=1.902\n",
      ">1, 220/234, d=0.190, g=1.921\n",
      ">1, 221/234, d=0.170, g=1.982\n",
      ">1, 222/234, d=0.177, g=2.056\n",
      ">1, 223/234, d=0.176, g=2.051\n",
      ">1, 224/234, d=0.182, g=2.058\n",
      ">1, 225/234, d=0.152, g=2.082\n",
      ">1, 226/234, d=0.150, g=2.154\n",
      ">1, 227/234, d=0.148, g=2.106\n",
      ">1, 228/234, d=0.147, g=2.128\n",
      ">1, 229/234, d=0.155, g=2.114\n",
      ">1, 230/234, d=0.153, g=2.138\n",
      ">1, 231/234, d=0.148, g=2.168\n",
      ">1, 232/234, d=0.143, g=2.068\n",
      ">1, 233/234, d=0.183, g=1.710\n",
      ">1, 234/234, d=0.208, g=1.494\n",
      ">2, 1/234, d=0.223, g=1.516\n",
      ">2, 2/234, d=0.216, g=1.548\n",
      ">2, 3/234, d=0.216, g=1.614\n",
      ">2, 4/234, d=0.196, g=1.699\n",
      ">2, 5/234, d=0.193, g=1.686\n",
      ">2, 6/234, d=0.190, g=1.739\n",
      ">2, 7/234, d=0.195, g=1.777\n",
      ">2, 8/234, d=0.183, g=1.796\n",
      ">2, 9/234, d=0.201, g=1.753\n",
      ">2, 10/234, d=0.192, g=1.803\n",
      ">2, 11/234, d=0.165, g=1.759\n",
      ">2, 12/234, d=0.173, g=1.750\n",
      ">2, 13/234, d=0.232, g=1.693\n",
      ">2, 14/234, d=0.206, g=1.885\n",
      ">2, 15/234, d=0.226, g=1.810\n",
      ">2, 16/234, d=0.221, g=1.806\n",
      ">2, 17/234, d=0.265, g=1.695\n",
      ">2, 18/234, d=0.296, g=1.821\n",
      ">2, 19/234, d=0.348, g=1.673\n",
      ">2, 20/234, d=0.492, g=1.420\n",
      ">2, 21/234, d=0.779, g=1.141\n",
      ">2, 22/234, d=1.589, g=0.391\n",
      ">2, 23/234, d=2.020, g=0.547\n",
      ">2, 24/234, d=1.497, g=1.430\n",
      ">2, 25/234, d=1.701, g=0.943\n",
      ">2, 26/234, d=1.729, g=0.677\n",
      ">2, 27/234, d=1.760, g=0.510\n",
      ">2, 28/234, d=1.713, g=0.350\n",
      ">2, 29/234, d=1.746, g=0.346\n",
      ">2, 30/234, d=1.673, g=0.381\n",
      ">2, 31/234, d=1.569, g=0.416\n",
      ">2, 32/234, d=1.429, g=0.487\n",
      ">2, 33/234, d=1.420, g=0.507\n",
      ">2, 34/234, d=1.298, g=0.555\n",
      ">2, 35/234, d=1.256, g=0.549\n",
      ">2, 36/234, d=1.249, g=0.579\n",
      ">2, 37/234, d=1.205, g=0.581\n",
      ">2, 38/234, d=1.103, g=0.628\n",
      ">2, 39/234, d=1.042, g=0.652\n",
      ">2, 40/234, d=1.039, g=0.679\n",
      ">2, 41/234, d=0.969, g=0.685\n",
      ">2, 42/234, d=0.931, g=0.703\n",
      ">2, 43/234, d=0.913, g=0.750\n",
      ">2, 44/234, d=0.913, g=0.759\n",
      ">2, 45/234, d=0.872, g=0.745\n",
      ">2, 46/234, d=0.846, g=0.769\n",
      ">2, 47/234, d=0.839, g=0.794\n",
      ">2, 48/234, d=0.830, g=0.839\n",
      ">2, 49/234, d=0.788, g=0.867\n",
      ">2, 50/234, d=0.756, g=0.886\n",
      ">2, 51/234, d=0.758, g=0.901\n",
      ">2, 52/234, d=0.714, g=0.936\n",
      ">2, 53/234, d=0.711, g=0.919\n",
      ">2, 54/234, d=0.725, g=0.943\n",
      ">2, 55/234, d=0.672, g=0.869\n",
      ">2, 56/234, d=0.718, g=0.946\n",
      ">2, 57/234, d=0.716, g=1.054\n",
      ">2, 58/234, d=0.718, g=1.006\n",
      ">2, 59/234, d=0.686, g=1.040\n",
      ">2, 60/234, d=0.705, g=1.003\n",
      ">2, 61/234, d=0.698, g=0.986\n",
      ">2, 62/234, d=0.742, g=0.947\n",
      ">2, 63/234, d=0.796, g=0.975\n",
      ">2, 64/234, d=0.745, g=0.956\n",
      ">2, 65/234, d=0.792, g=0.926\n",
      ">2, 66/234, d=0.784, g=0.941\n",
      ">2, 67/234, d=0.823, g=0.968\n",
      ">2, 68/234, d=0.805, g=1.043\n",
      ">2, 69/234, d=0.783, g=1.056\n",
      ">2, 70/234, d=0.770, g=1.171\n",
      ">2, 71/234, d=0.785, g=1.097\n",
      ">2, 72/234, d=0.767, g=1.070\n",
      ">2, 73/234, d=0.752, g=1.121\n",
      ">2, 74/234, d=0.754, g=1.053\n",
      ">2, 75/234, d=0.704, g=1.021\n",
      ">2, 76/234, d=0.730, g=1.054\n",
      ">2, 77/234, d=0.695, g=1.096\n",
      ">2, 78/234, d=0.673, g=1.103\n",
      ">2, 79/234, d=0.662, g=1.088\n",
      ">2, 80/234, d=0.682, g=1.044\n",
      ">2, 81/234, d=0.710, g=0.972\n",
      ">2, 82/234, d=0.670, g=0.973\n",
      ">2, 83/234, d=0.681, g=0.978\n",
      ">2, 84/234, d=0.676, g=0.954\n",
      ">2, 85/234, d=0.666, g=0.964\n",
      ">2, 86/234, d=0.667, g=0.965\n",
      ">2, 87/234, d=0.648, g=0.952\n",
      ">2, 88/234, d=0.677, g=0.947\n",
      ">2, 89/234, d=0.640, g=0.959\n",
      ">2, 90/234, d=0.664, g=0.945\n",
      ">2, 91/234, d=0.645, g=0.933\n",
      ">2, 92/234, d=0.642, g=0.952\n",
      ">2, 93/234, d=0.629, g=0.950\n",
      ">2, 94/234, d=0.669, g=0.931\n",
      ">2, 95/234, d=0.671, g=0.950\n",
      ">2, 96/234, d=0.681, g=0.930\n",
      ">2, 97/234, d=0.658, g=0.926\n",
      ">2, 98/234, d=0.683, g=0.928\n",
      ">2, 99/234, d=0.669, g=0.942\n",
      ">2, 100/234, d=0.662, g=0.941\n",
      ">2, 101/234, d=0.667, g=0.900\n",
      ">2, 102/234, d=0.658, g=0.913\n",
      ">2, 103/234, d=0.682, g=0.913\n",
      ">2, 104/234, d=0.665, g=0.920\n",
      ">2, 105/234, d=0.690, g=0.908\n",
      ">2, 106/234, d=0.684, g=0.890\n",
      ">2, 107/234, d=0.676, g=0.847\n",
      ">2, 108/234, d=0.680, g=0.851\n",
      ">2, 109/234, d=0.675, g=0.848\n",
      ">2, 110/234, d=0.663, g=0.861\n",
      ">2, 111/234, d=0.659, g=0.834\n",
      ">2, 112/234, d=0.671, g=0.846\n",
      ">2, 113/234, d=0.666, g=0.853\n",
      ">2, 114/234, d=0.648, g=0.851\n",
      ">2, 115/234, d=0.659, g=0.832\n",
      ">2, 116/234, d=0.655, g=0.818\n",
      ">2, 117/234, d=0.641, g=0.817\n",
      ">2, 118/234, d=0.657, g=0.772\n",
      ">2, 119/234, d=0.633, g=0.774\n",
      ">2, 120/234, d=0.640, g=0.753\n",
      ">2, 121/234, d=0.654, g=0.750\n",
      ">2, 122/234, d=0.624, g=0.731\n",
      ">2, 123/234, d=0.648, g=0.758\n",
      ">2, 124/234, d=0.605, g=0.749\n",
      ">2, 125/234, d=0.626, g=0.750\n",
      ">2, 126/234, d=0.616, g=0.727\n",
      ">2, 127/234, d=0.629, g=0.752\n",
      ">2, 128/234, d=0.606, g=0.739\n",
      ">2, 129/234, d=0.602, g=0.749\n",
      ">2, 130/234, d=0.623, g=0.725\n",
      ">2, 131/234, d=0.595, g=0.762\n",
      ">2, 132/234, d=0.618, g=0.747\n",
      ">2, 133/234, d=0.605, g=0.758\n",
      ">2, 134/234, d=0.608, g=0.775\n",
      ">2, 135/234, d=0.601, g=0.760\n",
      ">2, 136/234, d=0.631, g=0.739\n",
      ">2, 137/234, d=0.619, g=0.749\n",
      ">2, 138/234, d=0.621, g=0.767\n",
      ">2, 139/234, d=0.612, g=0.779\n",
      ">2, 140/234, d=0.619, g=0.774\n",
      ">2, 141/234, d=0.644, g=0.782\n",
      ">2, 142/234, d=0.640, g=0.797\n",
      ">2, 143/234, d=0.633, g=0.800\n",
      ">2, 144/234, d=0.672, g=0.760\n",
      ">2, 145/234, d=0.649, g=0.783\n",
      ">2, 146/234, d=0.643, g=0.744\n",
      ">2, 147/234, d=0.694, g=0.732\n",
      ">2, 148/234, d=0.666, g=0.776\n",
      ">2, 149/234, d=0.668, g=0.768\n",
      ">2, 150/234, d=0.696, g=0.767\n",
      ">2, 151/234, d=0.669, g=0.774\n",
      ">2, 152/234, d=0.659, g=0.767\n",
      ">2, 153/234, d=0.685, g=0.731\n",
      ">2, 154/234, d=0.690, g=0.728\n",
      ">2, 155/234, d=0.721, g=0.739\n",
      ">2, 156/234, d=0.688, g=0.764\n",
      ">2, 157/234, d=0.704, g=0.773\n",
      ">2, 158/234, d=0.659, g=0.755\n",
      ">2, 159/234, d=0.697, g=0.758\n",
      ">2, 160/234, d=0.721, g=0.746\n",
      ">2, 161/234, d=0.725, g=0.736\n",
      ">2, 162/234, d=0.674, g=0.714\n",
      ">2, 163/234, d=0.721, g=0.734\n",
      ">2, 164/234, d=0.694, g=0.763\n",
      ">2, 165/234, d=0.691, g=0.766\n",
      ">2, 166/234, d=0.696, g=0.787\n",
      ">2, 167/234, d=0.723, g=0.794\n",
      ">2, 168/234, d=0.705, g=0.794\n",
      ">2, 169/234, d=0.726, g=0.797\n",
      ">2, 170/234, d=0.680, g=0.802\n",
      ">2, 171/234, d=0.709, g=0.806\n",
      ">2, 172/234, d=0.688, g=0.804\n",
      ">2, 173/234, d=0.707, g=0.849\n",
      ">2, 174/234, d=0.709, g=0.853\n",
      ">2, 175/234, d=0.676, g=0.859\n",
      ">2, 176/234, d=0.697, g=0.884\n",
      ">2, 177/234, d=0.643, g=0.869\n",
      ">2, 178/234, d=0.661, g=0.827\n",
      ">2, 179/234, d=0.631, g=0.837\n",
      ">2, 180/234, d=0.622, g=0.853\n",
      ">2, 181/234, d=0.643, g=0.845\n",
      ">2, 182/234, d=0.636, g=0.827\n",
      ">2, 183/234, d=0.616, g=0.846\n",
      ">2, 184/234, d=0.603, g=0.862\n",
      ">2, 185/234, d=0.618, g=0.848\n",
      ">2, 186/234, d=0.603, g=0.901\n",
      ">2, 187/234, d=0.619, g=0.911\n",
      ">2, 188/234, d=0.593, g=0.923\n",
      ">2, 189/234, d=0.583, g=0.911\n",
      ">2, 190/234, d=0.591, g=0.928\n",
      ">2, 191/234, d=0.572, g=0.908\n",
      ">2, 192/234, d=0.590, g=0.931\n",
      ">2, 193/234, d=0.558, g=0.912\n",
      ">2, 194/234, d=0.579, g=0.902\n",
      ">2, 195/234, d=0.567, g=0.916\n",
      ">2, 196/234, d=0.565, g=0.929\n",
      ">2, 197/234, d=0.586, g=0.942\n",
      ">2, 198/234, d=0.586, g=0.935\n",
      ">2, 199/234, d=0.558, g=0.949\n",
      ">2, 200/234, d=0.577, g=0.922\n",
      ">2, 201/234, d=0.562, g=0.926\n",
      ">2, 202/234, d=0.597, g=0.896\n",
      ">2, 203/234, d=0.569, g=0.928\n",
      ">2, 204/234, d=0.589, g=0.914\n",
      ">2, 205/234, d=0.590, g=0.909\n",
      ">2, 206/234, d=0.603, g=0.886\n",
      ">2, 207/234, d=0.595, g=0.864\n",
      ">2, 208/234, d=0.621, g=0.935\n",
      ">2, 209/234, d=0.619, g=0.909\n",
      ">2, 210/234, d=0.593, g=0.878\n",
      ">2, 211/234, d=0.633, g=0.940\n",
      ">2, 212/234, d=0.612, g=0.912\n",
      ">2, 213/234, d=0.622, g=0.882\n",
      ">2, 214/234, d=0.654, g=0.871\n",
      ">2, 215/234, d=0.617, g=0.907\n",
      ">2, 216/234, d=0.636, g=0.841\n",
      ">2, 217/234, d=0.627, g=0.875\n",
      ">2, 218/234, d=0.653, g=0.863\n",
      ">2, 219/234, d=0.654, g=0.873\n",
      ">2, 220/234, d=0.657, g=0.825\n",
      ">2, 221/234, d=0.665, g=0.857\n",
      ">2, 222/234, d=0.621, g=0.833\n",
      ">2, 223/234, d=0.668, g=0.835\n",
      ">2, 224/234, d=0.659, g=0.848\n",
      ">2, 225/234, d=0.653, g=0.876\n",
      ">2, 226/234, d=0.674, g=0.831\n",
      ">2, 227/234, d=0.674, g=0.851\n",
      ">2, 228/234, d=0.692, g=0.830\n",
      ">2, 229/234, d=0.662, g=0.808\n",
      ">2, 230/234, d=0.635, g=0.764\n",
      ">2, 231/234, d=0.652, g=0.795\n",
      ">2, 232/234, d=0.677, g=0.794\n",
      ">2, 233/234, d=0.673, g=0.754\n",
      ">2, 234/234, d=0.683, g=0.773\n",
      ">Accuracy real: 65%, fake: 58%\n",
      ">3, 1/234, d=0.669, g=0.784\n",
      ">3, 2/234, d=0.679, g=0.757\n",
      ">3, 3/234, d=0.678, g=0.745\n",
      ">3, 4/234, d=0.671, g=0.736\n",
      ">3, 5/234, d=0.695, g=0.694\n",
      ">3, 6/234, d=0.669, g=0.701\n",
      ">3, 7/234, d=0.703, g=0.669\n",
      ">3, 8/234, d=0.707, g=0.709\n",
      ">3, 9/234, d=0.710, g=0.719\n",
      ">3, 10/234, d=0.706, g=0.684\n",
      ">3, 11/234, d=0.746, g=0.686\n",
      ">3, 12/234, d=0.712, g=0.704\n",
      ">3, 13/234, d=0.703, g=0.683\n",
      ">3, 14/234, d=0.688, g=0.699\n",
      ">3, 15/234, d=0.737, g=0.731\n",
      ">3, 16/234, d=0.705, g=0.734\n",
      ">3, 17/234, d=0.704, g=0.715\n",
      ">3, 18/234, d=0.716, g=0.706\n",
      ">3, 19/234, d=0.704, g=0.759\n",
      ">3, 20/234, d=0.728, g=0.703\n",
      ">3, 21/234, d=0.722, g=0.690\n",
      ">3, 22/234, d=0.723, g=0.716\n",
      ">3, 23/234, d=0.720, g=0.684\n",
      ">3, 24/234, d=0.726, g=0.688\n",
      ">3, 25/234, d=0.689, g=0.690\n",
      ">3, 26/234, d=0.700, g=0.695\n",
      ">3, 27/234, d=0.708, g=0.714\n",
      ">3, 28/234, d=0.683, g=0.715\n",
      ">3, 29/234, d=0.703, g=0.691\n",
      ">3, 30/234, d=0.731, g=0.697\n",
      ">3, 31/234, d=0.712, g=0.736\n",
      ">3, 32/234, d=0.699, g=0.764\n",
      ">3, 33/234, d=0.691, g=0.771\n",
      ">3, 34/234, d=0.689, g=0.784\n",
      ">3, 35/234, d=0.701, g=0.775\n",
      ">3, 36/234, d=0.705, g=0.764\n",
      ">3, 37/234, d=0.696, g=0.775\n",
      ">3, 38/234, d=0.665, g=0.773\n",
      ">3, 39/234, d=0.713, g=0.773\n",
      ">3, 40/234, d=0.700, g=0.766\n",
      ">3, 41/234, d=0.691, g=0.798\n",
      ">3, 42/234, d=0.718, g=0.791\n",
      ">3, 43/234, d=0.700, g=0.789\n",
      ">3, 44/234, d=0.680, g=0.812\n",
      ">3, 45/234, d=0.694, g=0.799\n",
      ">3, 46/234, d=0.708, g=0.804\n",
      ">3, 47/234, d=0.670, g=0.775\n",
      ">3, 48/234, d=0.678, g=0.805\n",
      ">3, 49/234, d=0.707, g=0.806\n",
      ">3, 50/234, d=0.696, g=0.784\n",
      ">3, 51/234, d=0.725, g=0.768\n",
      ">3, 52/234, d=0.720, g=0.792\n",
      ">3, 53/234, d=0.734, g=0.743\n",
      ">3, 54/234, d=0.717, g=0.747\n",
      ">3, 55/234, d=0.705, g=0.760\n",
      ">3, 56/234, d=0.718, g=0.743\n",
      ">3, 57/234, d=0.713, g=0.709\n",
      ">3, 58/234, d=0.751, g=0.741\n",
      ">3, 59/234, d=0.739, g=0.761\n",
      ">3, 60/234, d=0.730, g=0.722\n",
      ">3, 61/234, d=0.794, g=0.748\n",
      ">3, 62/234, d=0.780, g=0.764\n",
      ">3, 63/234, d=0.755, g=0.707\n",
      ">3, 64/234, d=0.772, g=0.713\n",
      ">3, 65/234, d=0.807, g=0.719\n",
      ">3, 66/234, d=0.795, g=0.691\n",
      ">3, 67/234, d=0.786, g=0.713\n",
      ">3, 68/234, d=0.812, g=0.665\n",
      ">3, 69/234, d=0.800, g=0.722\n",
      ">3, 70/234, d=0.821, g=0.683\n",
      ">3, 71/234, d=0.798, g=0.699\n",
      ">3, 72/234, d=0.835, g=0.692\n",
      ">3, 73/234, d=0.793, g=0.669\n",
      ">3, 74/234, d=0.796, g=0.700\n",
      ">3, 75/234, d=0.830, g=0.708\n",
      ">3, 76/234, d=0.799, g=0.690\n",
      ">3, 77/234, d=0.783, g=0.725\n",
      ">3, 78/234, d=0.805, g=0.750\n",
      ">3, 79/234, d=0.781, g=0.753\n",
      ">3, 80/234, d=0.777, g=0.758\n",
      ">3, 81/234, d=0.754, g=0.770\n",
      ">3, 82/234, d=0.728, g=0.760\n",
      ">3, 83/234, d=0.762, g=0.766\n",
      ">3, 84/234, d=0.757, g=0.743\n",
      ">3, 85/234, d=0.704, g=0.737\n",
      ">3, 86/234, d=0.719, g=0.760\n",
      ">3, 87/234, d=0.712, g=0.754\n",
      ">3, 88/234, d=0.679, g=0.794\n",
      ">3, 89/234, d=0.674, g=0.781\n",
      ">3, 90/234, d=0.687, g=0.784\n",
      ">3, 91/234, d=0.652, g=0.787\n",
      ">3, 92/234, d=0.640, g=0.784\n",
      ">3, 93/234, d=0.638, g=0.765\n",
      ">3, 94/234, d=0.629, g=0.739\n",
      ">3, 95/234, d=0.632, g=0.774\n",
      ">3, 96/234, d=0.616, g=0.766\n",
      ">3, 97/234, d=0.610, g=0.781\n",
      ">3, 98/234, d=0.610, g=0.785\n",
      ">3, 99/234, d=0.604, g=0.813\n",
      ">3, 100/234, d=0.629, g=0.791\n",
      ">3, 101/234, d=0.613, g=0.774\n",
      ">3, 102/234, d=0.623, g=0.791\n",
      ">3, 103/234, d=0.609, g=0.767\n",
      ">3, 104/234, d=0.610, g=0.810\n",
      ">3, 105/234, d=0.636, g=0.799\n",
      ">3, 106/234, d=0.616, g=0.801\n",
      ">3, 107/234, d=0.632, g=0.807\n",
      ">3, 108/234, d=0.645, g=0.824\n",
      ">3, 109/234, d=0.654, g=0.789\n",
      ">3, 110/234, d=0.670, g=0.821\n",
      ">3, 111/234, d=0.649, g=0.852\n",
      ">3, 112/234, d=0.652, g=0.822\n",
      ">3, 113/234, d=0.688, g=0.814\n",
      ">3, 114/234, d=0.676, g=0.850\n",
      ">3, 115/234, d=0.699, g=0.814\n",
      ">3, 116/234, d=0.673, g=0.815\n",
      ">3, 117/234, d=0.683, g=0.816\n",
      ">3, 118/234, d=0.680, g=0.843\n",
      ">3, 119/234, d=0.696, g=0.810\n",
      ">3, 120/234, d=0.685, g=0.829\n",
      ">3, 121/234, d=0.723, g=0.860\n",
      ">3, 122/234, d=0.702, g=0.834\n",
      ">3, 123/234, d=0.684, g=0.807\n",
      ">3, 124/234, d=0.696, g=0.776\n",
      ">3, 125/234, d=0.711, g=0.800\n",
      ">3, 126/234, d=0.712, g=0.765\n",
      ">3, 127/234, d=0.710, g=0.776\n",
      ">3, 128/234, d=0.733, g=0.760\n",
      ">3, 129/234, d=0.716, g=0.745\n",
      ">3, 130/234, d=0.726, g=0.742\n",
      ">3, 131/234, d=0.726, g=0.734\n",
      ">3, 132/234, d=0.739, g=0.707\n",
      ">3, 133/234, d=0.729, g=0.713\n",
      ">3, 134/234, d=0.736, g=0.692\n",
      ">3, 135/234, d=0.757, g=0.690\n",
      ">3, 136/234, d=0.742, g=0.710\n",
      ">3, 137/234, d=0.745, g=0.680\n",
      ">3, 138/234, d=0.762, g=0.670\n",
      ">3, 139/234, d=0.746, g=0.694\n",
      ">3, 140/234, d=0.792, g=0.659\n",
      ">3, 141/234, d=0.752, g=0.674\n",
      ">3, 142/234, d=0.782, g=0.675\n",
      ">3, 143/234, d=0.761, g=0.667\n",
      ">3, 144/234, d=0.780, g=0.678\n",
      ">3, 145/234, d=0.771, g=0.648\n",
      ">3, 146/234, d=0.790, g=0.669\n",
      ">3, 147/234, d=0.790, g=0.663\n",
      ">3, 148/234, d=0.759, g=0.670\n",
      ">3, 149/234, d=0.780, g=0.707\n",
      ">3, 150/234, d=0.785, g=0.658\n",
      ">3, 151/234, d=0.785, g=0.659\n",
      ">3, 152/234, d=0.790, g=0.672\n",
      ">3, 153/234, d=0.772, g=0.671\n",
      ">3, 154/234, d=0.795, g=0.645\n",
      ">3, 155/234, d=0.767, g=0.649\n",
      ">3, 156/234, d=0.798, g=0.651\n",
      ">3, 157/234, d=0.793, g=0.669\n",
      ">3, 158/234, d=0.795, g=0.661\n",
      ">3, 159/234, d=0.745, g=0.651\n",
      ">3, 160/234, d=0.787, g=0.664\n",
      ">3, 161/234, d=0.766, g=0.641\n",
      ">3, 162/234, d=0.774, g=0.649\n",
      ">3, 163/234, d=0.767, g=0.676\n",
      ">3, 164/234, d=0.770, g=0.662\n",
      ">3, 165/234, d=0.756, g=0.678\n",
      ">3, 166/234, d=0.741, g=0.672\n",
      ">3, 167/234, d=0.741, g=0.673\n",
      ">3, 168/234, d=0.730, g=0.674\n",
      ">3, 169/234, d=0.746, g=0.663\n",
      ">3, 170/234, d=0.723, g=0.706\n",
      ">3, 171/234, d=0.708, g=0.711\n",
      ">3, 172/234, d=0.727, g=0.684\n",
      ">3, 173/234, d=0.697, g=0.708\n",
      ">3, 174/234, d=0.694, g=0.708\n",
      ">3, 175/234, d=0.679, g=0.712\n",
      ">3, 176/234, d=0.666, g=0.742\n",
      ">3, 177/234, d=0.668, g=0.715\n",
      ">3, 178/234, d=0.651, g=0.730\n",
      ">3, 179/234, d=0.640, g=0.743\n",
      ">3, 180/234, d=0.655, g=0.755\n",
      ">3, 181/234, d=0.660, g=0.771\n",
      ">3, 182/234, d=0.632, g=0.737\n",
      ">3, 183/234, d=0.605, g=0.763\n",
      ">3, 184/234, d=0.620, g=0.754\n",
      ">3, 185/234, d=0.629, g=0.761\n",
      ">3, 186/234, d=0.621, g=0.755\n",
      ">3, 187/234, d=0.629, g=0.758\n",
      ">3, 188/234, d=0.656, g=0.786\n",
      ">3, 189/234, d=0.628, g=0.761\n",
      ">3, 190/234, d=0.634, g=0.757\n",
      ">3, 191/234, d=0.668, g=0.778\n",
      ">3, 192/234, d=0.671, g=0.774\n",
      ">3, 193/234, d=0.656, g=0.766\n",
      ">3, 194/234, d=0.662, g=0.811\n",
      ">3, 195/234, d=0.666, g=0.811\n",
      ">3, 196/234, d=0.665, g=0.813\n",
      ">3, 197/234, d=0.687, g=0.816\n",
      ">3, 198/234, d=0.675, g=0.796\n",
      ">3, 199/234, d=0.669, g=0.774\n",
      ">3, 200/234, d=0.667, g=0.776\n",
      ">3, 201/234, d=0.667, g=0.768\n",
      ">3, 202/234, d=0.688, g=0.761\n",
      ">3, 203/234, d=0.696, g=0.740\n",
      ">3, 204/234, d=0.688, g=0.731\n",
      ">3, 205/234, d=0.689, g=0.739\n",
      ">3, 206/234, d=0.703, g=0.741\n",
      ">3, 207/234, d=0.693, g=0.714\n",
      ">3, 208/234, d=0.697, g=0.705\n",
      ">3, 209/234, d=0.699, g=0.712\n",
      ">3, 210/234, d=0.724, g=0.708\n",
      ">3, 211/234, d=0.713, g=0.729\n",
      ">3, 212/234, d=0.690, g=0.727\n",
      ">3, 213/234, d=0.696, g=0.726\n",
      ">3, 214/234, d=0.700, g=0.714\n",
      ">3, 215/234, d=0.717, g=0.705\n",
      ">3, 216/234, d=0.706, g=0.681\n",
      ">3, 217/234, d=0.719, g=0.710\n",
      ">3, 218/234, d=0.712, g=0.667\n",
      ">3, 219/234, d=0.705, g=0.693\n",
      ">3, 220/234, d=0.710, g=0.675\n",
      ">3, 221/234, d=0.710, g=0.690\n",
      ">3, 222/234, d=0.714, g=0.704\n",
      ">3, 223/234, d=0.719, g=0.691\n",
      ">3, 224/234, d=0.707, g=0.704\n",
      ">3, 225/234, d=0.706, g=0.702\n",
      ">3, 226/234, d=0.719, g=0.720\n",
      ">3, 227/234, d=0.725, g=0.720\n",
      ">3, 228/234, d=0.732, g=0.734\n",
      ">3, 229/234, d=0.718, g=0.735\n",
      ">3, 230/234, d=0.742, g=0.726\n",
      ">3, 231/234, d=0.728, g=0.723\n",
      ">3, 232/234, d=0.729, g=0.704\n",
      ">3, 233/234, d=0.738, g=0.702\n",
      ">3, 234/234, d=0.732, g=0.680\n"
     ]
    }
   ],
   "source": [
    "# load image data\n",
    "dataset = load_real_samples()\n",
    "# train model\n",
    "train(g_model, d_model, gan_model, dataset, latent_dim,n_epochs=3)"
   ]
  },
  {
   "cell_type": "code",
   "execution_count": 403,
   "metadata": {},
   "outputs": [],
   "source": [
    "X,y = generate_fake_samples(g_model, latent_dim, 3)"
   ]
  },
  {
   "cell_type": "code",
   "execution_count": 408,
   "metadata": {},
   "outputs": [
    {
     "data": {
      "image/png": "[encoded data removed]",
      "text/plain": [
       "<Figure size 720x720 with 3 Axes>"
      ]
     },
     "metadata": {},
     "output_type": "display_data"
    }
   ],
   "source": [
    "fig = plt.figure(figsize=(10,10))\n",
    "for i in range(3):\n",
    "    fig.add_subplot(1,3,i+1)\n",
    "    plt.xticks([])\n",
    "    plt.yticks([])\n",
    "    plt.grid(False)\n",
    "    plt.imshow(X[i],cmap=plt.cm.binary)\n",
    "plt.show()"
   ]
  },
  {
   "cell_type": "markdown",
   "metadata": {},
   "source": [
    "### MY ANSWERS - IMAGES\n",
    "--- \n",
    "\n",
    "These images are given by the generator after being fed random noise. Now that the model has been trained, the generator converts the random noise into images that look more like the real data set (hand drawn numbers), unlike the images generated when it has **not** been trained, which are random pixels of noise."
   ]
  },
  {
   "cell_type": "markdown",
   "metadata": {},
   "source": [
    "### MY ANSWERS - LOSS \n",
    "---\n",
    "\n",
    "The loss of the generator and the discriminator oscillate over time: as one decreases in loss the other increases. This is because they're competing with eachother and training eachother. As the generator gets better and the generators loss decreases, the real/fake is harder to distinguish by the discriminator so its loss increases etc. However as the loss increases, the discrimator will learn better, which then leads to the low loss in discriminator and high loss in the generator. The two train eachother so whilst they oscillate with large amplitude initially, the difference starts to stabilise with more epochs. In epoch 3, the difference in loss between the generator and discriminator is a lot smaller and stable, they both have losses around 0.7. "
   ]
  },
  {
   "cell_type": "code",
   "execution_count": null,
   "metadata": {},
   "outputs": [],
   "source": []
  }
 ],
 "metadata": {
  "kernelspec": {
   "display_name": "Python 3 (ipykernel)",
   "language": "python",
   "name": "python3"
  },
  "language_info": {
   "codemirror_mode": {
    "name": "ipython",
    "version": 3
   },
   "file_extension": ".py",
   "mimetype": "text/x-python",
   "name": "python",
   "nbconvert_exporter": "python",
   "pygments_lexer": "ipython3",
   "version": "3.7.10"
  }
 },
 "nbformat": 4,
 "nbformat_minor": 2
}
