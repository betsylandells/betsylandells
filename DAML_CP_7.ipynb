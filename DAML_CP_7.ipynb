{
 "cells": [
  {
   "cell_type": "markdown",
   "id": "58adf349",
   "metadata": {},
   "source": [
    "# Checkpoint 7"
   ]
  },
  {
   "cell_type": "code",
   "execution_count": 752,
   "id": "c982d805",
   "metadata": {},
   "outputs": [],
   "source": [
    "from matplotlib import pyplot as plt\n",
    "%matplotlib inline\n",
    "import numpy as np\n",
    "import time\n",
    "from scipy import integrate\n",
    "import scipy\n",
    "import scipy.stats"
   ]
  },
  {
   "cell_type": "code",
   "execution_count": 753,
   "id": "264e462c",
   "metadata": {},
   "outputs": [],
   "source": [
    "from iminuit import Minuit"
   ]
  },
  {
   "cell_type": "code",
   "execution_count": 754,
   "id": "53840d24",
   "metadata": {},
   "outputs": [],
   "source": [
    "DATA = np.loadtxt('datafile-expresonance.txt')"
   ]
  },
  {
   "cell_type": "code",
   "execution_count": 757,
   "id": "96d8b1b3",
   "metadata": {},
   "outputs": [
    {
     "data": {
      "image/png": "[encoded data removed]",
      "text/plain": [
       "<Figure size 432x288 with 1 Axes>"
      ]
     },
     "metadata": {
      "needs_background": "light"
     },
     "output_type": "display_data"
    }
   ],
   "source": [
    "#print histogram of decay times including background and signal, in 100 bins\n",
    "#normalize the histogram with density=True\n",
    "N, bins, _ = plt.hist(DATA,bins=100,density=True)\n",
    "plt.title('A histogram showing the mass signal of a detected particle and background')\n",
    "plt.show()"
   ]
  },
  {
   "cell_type": "markdown",
   "id": "2575a52b",
   "metadata": {},
   "source": [
    "## Part 1 - Exponential background"
   ]
  },
  {
   "cell_type": "markdown",
   "id": "220b4c27",
   "metadata": {},
   "source": [
    "- Fit the given data with an exponential-background model $\\begin{equation} F(x) = e^{-x/A} \\end{equation}$ to determine the best fit parameters for F, the fraction of the signal, A, the exponential decay constant and M, the mass of the particle in the signal"
   ]
  },
  {
   "cell_type": "code",
   "execution_count": 657,
   "id": "45d29539",
   "metadata": {},
   "outputs": [],
   "source": [
    "def func(m, A, M, F):\n",
    "    \n",
    "    \"\"\"A function which returns a composite function of a gaussian signal and an exponential background\"\"\"\n",
    "    \n",
    "    #x limits\n",
    "    xmin = 0\n",
    "    xmax = 10\n",
    "    \n",
    "    #width of gauss signal\n",
    "    sigma = 0.2\n",
    "\n",
    "    #background given as normalized exponential decay\n",
    "    BKG = np.exp(-m/A) * 1/(A*(np.exp(-xmin/A) -  np.exp(-xmax/A)))\n",
    "    \n",
    "    #signal given as normalised gaussian with mean 'gauss_mu' and standard deviation 'sigma'\n",
    "    GAUSS = 1/(np.sqrt(2*np.pi)*sigma) * np.exp(-0.5*(m-M)**2/sigma**2)\n",
    "    \n",
    "    #returns composite function fraction of background + (1-fraction) of signal\n",
    "    return F*BKG + (1-F)*GAUSS"
   ]
  },
  {
   "cell_type": "code",
   "execution_count": 658,
   "id": "38da9a34",
   "metadata": {},
   "outputs": [],
   "source": [
    "def get_NLL(A, M, F): \n",
    "    \n",
    "    \"\"\"A function which generates the negative log likelihood of the composite function\"\"\"\n",
    "    \n",
    "    #generate the mean, mu\n",
    "    mu = func(DATA, A, M, F)\n",
    "    \n",
    "    #make sure that if mean is less than 10-4, return 10-4, so that there are no negative errors\n",
    "    mu[mu<1e-4] = 1e-4\n",
    "    \n",
    "    #generate the log using the calculated mean\n",
    "    LL = np.log(mu)\n",
    "    \n",
    "    #negative log likely hood is the negative of the sum over all log pmfs\n",
    "    NLL = -np.sum(LL)\n",
    "    \n",
    "    return NLL"
   ]
  },
  {
   "cell_type": "code",
   "execution_count": 659,
   "id": "5739a083",
   "metadata": {},
   "outputs": [],
   "source": [
    "#set error of NLL to 0.5\n",
    "get_NLL.errordef = 0.5 \n",
    "\n",
    "#give guesses for lifetime, gaussian mean and fraction\n",
    "m_exp = Minuit(get_NLL, A = 4, M = 2, F = 0.9)"
   ]
  },
  {
   "cell_type": "code",
   "execution_count": 660,
   "id": "f91f028f",
   "metadata": {},
   "outputs": [
    {
     "data": {
      "text/html": [
       "<table>\n",
       "    <tr>\n",
       "        <th colspan=\"5\" style=\"text-align:center\" title=\"Minimizer\"> Migrad </th>\n",
       "    </tr>\n",
       "    <tr>\n",
       "        <td colspan=\"2\" style=\"text-align:left\" title=\"Minimum value of function\"> FCN = 2.146e+05 </td>\n",
       "        <td colspan=\"3\" style=\"text-align:center\" title=\"No. of function evaluations in last call and total number\"> Nfcn = 103 </td>\n",
       "    </tr>\n",
       "    <tr>\n",
       "        <td colspan=\"2\" style=\"text-align:left\" title=\"Estimated distance to minimum and goal\"> EDM = 1.46e-06 (Goal: 0.0001) </td>\n",
       "        <td colspan=\"3\" style=\"text-align:center\" title=\"No. of gradient evaluations in last call and total number\">  </td>\n",
       "    </tr>\n",
       "    <tr>\n",
       "        <td colspan=\"2\" style=\"text-align:center;background-color:#92CCA6;color:black\"> Valid Minimum </td>\n",
       "        <td colspan=\"3\" style=\"text-align:center;background-color:#92CCA6;color:black\"> No Parameters at limit </td>\n",
       "    </tr>\n",
       "    <tr>\n",
       "        <td colspan=\"2\" style=\"text-align:center;background-color:#92CCA6;color:black\"> Below EDM threshold (goal x 10) </td>\n",
       "        <td colspan=\"3\" style=\"text-align:center;background-color:#92CCA6;color:black\"> Below call limit </td>\n",
       "    </tr>\n",
       "    <tr>\n",
       "        <td style=\"text-align:center;background-color:#92CCA6;color:black\"> Covariance </td>\n",
       "        <td style=\"text-align:center;background-color:#92CCA6;color:black\"> Hesse ok </td>\n",
       "        <td style=\"text-align:center;background-color:#92CCA6;color:black\" title=\"Is covariance matrix accurate?\"> Accurate </td>\n",
       "        <td style=\"text-align:center;background-color:#92CCA6;color:black\" title=\"Is covariance matrix positive definite?\"> Pos. def. </td>\n",
       "        <td style=\"text-align:center;background-color:#92CCA6;color:black\" title=\"Was positive definiteness enforced by Minuit?\"> Not forced </td>\n",
       "    </tr>\n",
       "</table><table>\n",
       "    <tr>\n",
       "        <td></td>\n",
       "        <th title=\"Variable name\"> Name </th>\n",
       "        <th title=\"Value of parameter\"> Value </th>\n",
       "        <th title=\"Hesse error\"> Hesse Error </th>\n",
       "        <th title=\"Minos lower error\"> Minos Error- </th>\n",
       "        <th title=\"Minos upper error\"> Minos Error+ </th>\n",
       "        <th title=\"Lower limit of the parameter\"> Limit- </th>\n",
       "        <th title=\"Upper limit of the parameter\"> Limit+ </th>\n",
       "        <th title=\"Is the parameter fixed in the fit\"> Fixed </th>\n",
       "    </tr>\n",
       "    <tr>\n",
       "        <th> 0 </th>\n",
       "        <td> A </td>\n",
       "        <td> 5.008 </td>\n",
       "        <td> 0.031 </td>\n",
       "        <td>  </td>\n",
       "        <td>  </td>\n",
       "        <td>  </td>\n",
       "        <td>  </td>\n",
       "        <td>  </td>\n",
       "    </tr>\n",
       "    <tr>\n",
       "        <th> 1 </th>\n",
       "        <td> M </td>\n",
       "        <td> 2.499 </td>\n",
       "        <td> 0.015 </td>\n",
       "        <td>  </td>\n",
       "        <td>  </td>\n",
       "        <td>  </td>\n",
       "        <td>  </td>\n",
       "        <td>  </td>\n",
       "    </tr>\n",
       "    <tr>\n",
       "        <th> 2 </th>\n",
       "        <td> F </td>\n",
       "        <td> 0.9796 </td>\n",
       "        <td> 0.0012 </td>\n",
       "        <td>  </td>\n",
       "        <td>  </td>\n",
       "        <td>  </td>\n",
       "        <td>  </td>\n",
       "        <td>  </td>\n",
       "    </tr>\n",
       "</table><table>\n",
       "    <tr>\n",
       "        <td></td>\n",
       "        <th> A </th>\n",
       "        <th> M </th>\n",
       "        <th> F </th>\n",
       "    </tr>\n",
       "    <tr>\n",
       "        <th> A </th>\n",
       "        <td> 0.000945 </td>\n",
       "        <td style=\"background-color:rgb(245,245,250);color:black\"> -1.7e-05 <strong>(-0.038)</strong> </td>\n",
       "        <td style=\"background-color:rgb(235,235,250);color:black\"> -4.01e-06 <strong>(-0.113)</strong> </td>\n",
       "    </tr>\n",
       "    <tr>\n",
       "        <th> M </th>\n",
       "        <td style=\"background-color:rgb(245,245,250);color:black\"> -1.7e-05 <strong>(-0.038)</strong> </td>\n",
       "        <td> 0.000212 </td>\n",
       "        <td style=\"background-color:rgb(250,244,244);color:black\"> 7e-07 <strong>(0.042)</strong> </td>\n",
       "    </tr>\n",
       "    <tr>\n",
       "        <th> F </th>\n",
       "        <td style=\"background-color:rgb(235,235,250);color:black\"> -4.01e-06 <strong>(-0.113)</strong> </td>\n",
       "        <td style=\"background-color:rgb(250,244,244);color:black\"> 7e-07 <strong>(0.042)</strong> </td>\n",
       "        <td> 1.33e-06 </td>\n",
       "    </tr>\n",
       "</table>"
      ],
      "text/plain": [
       "┌─────────────────────────────────────────────────────────────────────────┐\n",
       "│                                Migrad                                   │\n",
       "├──────────────────────────────────┬──────────────────────────────────────┤\n",
       "│ FCN = 2.146e+05                  │              Nfcn = 103              │\n",
       "│ EDM = 1.46e-06 (Goal: 0.0001)    │                                      │\n",
       "├──────────────────────────────────┼──────────────────────────────────────┤\n",
       "│          Valid Minimum           │        No Parameters at limit        │\n",
       "├──────────────────────────────────┼──────────────────────────────────────┤\n",
       "│ Below EDM threshold (goal x 10)  │           Below call limit           │\n",
       "├───────────────┬──────────────────┼───────────┬─────────────┬────────────┤\n",
       "│  Covariance   │     Hesse ok     │ Accurate  │  Pos. def.  │ Not forced │\n",
       "└───────────────┴──────────────────┴───────────┴─────────────┴────────────┘\n",
       "┌───┬──────┬───────────┬───────────┬────────────┬────────────┬─────────┬─────────┬───────┐\n",
       "│   │ Name │   Value   │ Hesse Err │ Minos Err- │ Minos Err+ │ Limit-  │ Limit+  │ Fixed │\n",
       "├───┼──────┼───────────┼───────────┼────────────┼────────────┼─────────┼─────────┼───────┤\n",
       "│ 0 │ A    │   5.008   │   0.031   │            │            │         │         │       │\n",
       "│ 1 │ M    │   2.499   │   0.015   │            │            │         │         │       │\n",
       "│ 2 │ F    │  0.9796   │  0.0012   │            │            │         │         │       │\n",
       "└───┴──────┴───────────┴───────────┴────────────┴────────────┴─────────┴─────────┴───────┘\n",
       "┌───┬───────────────────────────────┐\n",
       "│   │         A         M         F │\n",
       "├───┼───────────────────────────────┤\n",
       "│ A │  0.000945  -1.7e-05 -4.01e-06 │\n",
       "│ M │  -1.7e-05  0.000212     7e-07 │\n",
       "│ F │ -4.01e-06     7e-07  1.33e-06 │\n",
       "└───┴───────────────────────────────┘"
      ]
     },
     "execution_count": 660,
     "metadata": {},
     "output_type": "execute_result"
    }
   ],
   "source": [
    "#get minimizer\n",
    "m_exp.migrad()"
   ]
  },
  {
   "cell_type": "code",
   "execution_count": 750,
   "id": "db7a05aa",
   "metadata": {},
   "outputs": [
    {
     "data": {
      "text/plain": [
       "0.014569836952350233"
      ]
     },
     "execution_count": 750,
     "metadata": {},
     "output_type": "execute_result"
    }
   ],
   "source": [
    "#print the statistical error of the mass given by minuit\n",
    "Estat_exp = m_exp.errors[1]\n",
    "Estat_exp"
   ]
  },
  {
   "cell_type": "code",
   "execution_count": 663,
   "id": "c97c8fd2",
   "metadata": {},
   "outputs": [],
   "source": [
    "#generate function with parametrs given by minuit\n",
    "t = np.linspace(0,10,1000)\n",
    "y_exp = func(t, 5.008, 2.499, 0.9796)"
   ]
  },
  {
   "cell_type": "code",
   "execution_count": 664,
   "id": "8d3ddb08",
   "metadata": {},
   "outputs": [
    {
     "data": {
      "image/png": "[encoded data removed]",
      "text/plain": [
       "<Figure size 432x288 with 1 Axes>"
      ]
     },
     "metadata": {
      "needs_background": "light"
     },
     "output_type": "display_data"
    }
   ],
   "source": [
    "#fit optimized function to data\n",
    "plt.plot(t,y_exp)\n",
    "plt.hist(DATA,bins=100,color='pink',density=True)\n",
    "plt.title('Mass data fitted with an exponential background');"
   ]
  },
  {
   "cell_type": "markdown",
   "id": "eda101de",
   "metadata": {},
   "source": [
    "The parameters with central value V and their statistical errors are given by the following: **$V \\pm E_{stat}$:** $\\newline$\n",
    "**A = $5.008 \\pm 0.031$**\n",
    "\n",
    "**M = $2.499 \\pm 0.015$**\n",
    "\n",
    "**F = $0.9796 \\pm 0.0012$**\n"
   ]
  },
  {
   "cell_type": "markdown",
   "id": "e4cabbf9",
   "metadata": {},
   "source": [
    "Fitting the background to an exponential gives us a mass value of $2.499 \\pm 0.015$, where $ \\pm 0.015$ is the statistical error. Plotting the optimized function on the real data shows the agreement between the two, suggesting that the exponential model of the background is accurate. We can also see this accuracy from how close the given mass, 2.499, is to the true value, 2.5."
   ]
  },
  {
   "cell_type": "markdown",
   "id": "d630de9e",
   "metadata": {},
   "source": [
    "## Part 2 - Polynomial background"
   ]
  },
  {
   "cell_type": "markdown",
   "id": "651a4bea",
   "metadata": {},
   "source": [
    "- Determine a systematic error on the mean of the Gaussian (M) by the “shift” method by fitting the given data with an polynomial-background model $\\begin{equation} F(x) = a + bx + cx^2 \\end{equation}$. \n",
    "- Determine the best fit parameters for F, the fraction of the signal, b and c the second order polynomial constants amd again M, the mass of the particle in the signal."
   ]
  },
  {
   "cell_type": "code",
   "execution_count": 666,
   "id": "c47730ed",
   "metadata": {},
   "outputs": [],
   "source": [
    "def func2(m, b, c, M, F):\n",
    "    \n",
    "    \"\"\"A function which returns a composite function of a gaussian signal and an second order polynomial background\"\"\"\n",
    "    \n",
    "    #x limits\n",
    "    xmin = 0\n",
    "    xmax = 10\n",
    "    \n",
    "    #width of gauss signal\n",
    "    sigma = 0.2\n",
    "\n",
    "    #background given as normalized 2nd degree polynomial\n",
    "    a=1\n",
    "    BKG = (a + b*m + c*m**2)/(xmax + b*xmax**2/2 + c*xmax**3/3)#\n",
    "    \n",
    "    #signal given as normalised gaussian with mean 'gauss_mu' and standard deviation 'sigma'\n",
    "    GAUSS = 1/(np.sqrt(2*np.pi)*sigma) * np.exp(-0.5*(m-M)**2/sigma**2)\n",
    "    \n",
    "    #returns composite function fraction of background + (1-fraction) of signal\n",
    "    return F*BKG + (1-F)*GAUSS"
   ]
  },
  {
   "cell_type": "code",
   "execution_count": 667,
   "id": "9758b821",
   "metadata": {},
   "outputs": [],
   "source": [
    "def get_NLL2(b, c, M, F): \n",
    "    \n",
    "    \"\"\"A function which generates the negative log likelihood of the composite function\"\"\"\n",
    "\n",
    "    #generate the mean, mu\n",
    "    mu = func2(DATA, b, c, M, F)\n",
    "    \n",
    "    #make sure that if mean is less than 10-4, return 10-4, so that there are no negative errors\n",
    "    mu[mu<1e-4] = 1e-4\n",
    "    \n",
    "    #generate the log using the calculated mean\n",
    "    LL = np.log(mu)\n",
    "    \n",
    "    #negative log likely hood is the negative of the sum over all log pmfs\n",
    "    NLL = -np.sum(LL)\n",
    "    \n",
    "    return NLL"
   ]
  },
  {
   "cell_type": "code",
   "execution_count": 668,
   "id": "f8ddc31d",
   "metadata": {},
   "outputs": [],
   "source": [
    "#set error of NLL to 0.5\n",
    "get_NLL2.errordef = 0.5\n",
    "\n",
    "#give guesses for lifetime, gaussian mean and fraction\n",
    "m_poly = Minuit(get_NLL2, b = -0.016, c = 0.007, M = 2.5, F = 0.98)"
   ]
  },
  {
   "cell_type": "code",
   "execution_count": 669,
   "id": "cd405972",
   "metadata": {},
   "outputs": [
    {
     "data": {
      "text/html": [
       "<table>\n",
       "    <tr>\n",
       "        <th colspan=\"5\" style=\"text-align:center\" title=\"Minimizer\"> Migrad </th>\n",
       "    </tr>\n",
       "    <tr>\n",
       "        <td colspan=\"2\" style=\"text-align:left\" title=\"Minimum value of function\"> FCN = 2.146e+05 </td>\n",
       "        <td colspan=\"3\" style=\"text-align:center\" title=\"No. of function evaluations in last call and total number\"> Nfcn = 132 </td>\n",
       "    </tr>\n",
       "    <tr>\n",
       "        <td colspan=\"2\" style=\"text-align:left\" title=\"Estimated distance to minimum and goal\"> EDM = 1.45e-06 (Goal: 0.0001) </td>\n",
       "        <td colspan=\"3\" style=\"text-align:center\" title=\"No. of gradient evaluations in last call and total number\">  </td>\n",
       "    </tr>\n",
       "    <tr>\n",
       "        <td colspan=\"2\" style=\"text-align:center;background-color:#92CCA6;color:black\"> Valid Minimum </td>\n",
       "        <td colspan=\"3\" style=\"text-align:center;background-color:#92CCA6;color:black\"> No Parameters at limit </td>\n",
       "    </tr>\n",
       "    <tr>\n",
       "        <td colspan=\"2\" style=\"text-align:center;background-color:#92CCA6;color:black\"> Below EDM threshold (goal x 10) </td>\n",
       "        <td colspan=\"3\" style=\"text-align:center;background-color:#92CCA6;color:black\"> Below call limit </td>\n",
       "    </tr>\n",
       "    <tr>\n",
       "        <td style=\"text-align:center;background-color:#92CCA6;color:black\"> Covariance </td>\n",
       "        <td style=\"text-align:center;background-color:#92CCA6;color:black\"> Hesse ok </td>\n",
       "        <td style=\"text-align:center;background-color:#92CCA6;color:black\" title=\"Is covariance matrix accurate?\"> Accurate </td>\n",
       "        <td style=\"text-align:center;background-color:#92CCA6;color:black\" title=\"Is covariance matrix positive definite?\"> Pos. def. </td>\n",
       "        <td style=\"text-align:center;background-color:#92CCA6;color:black\" title=\"Was positive definiteness enforced by Minuit?\"> Not forced </td>\n",
       "    </tr>\n",
       "</table><table>\n",
       "    <tr>\n",
       "        <td></td>\n",
       "        <th title=\"Variable name\"> Name </th>\n",
       "        <th title=\"Value of parameter\"> Value </th>\n",
       "        <th title=\"Hesse error\"> Hesse Error </th>\n",
       "        <th title=\"Minos lower error\"> Minos Error- </th>\n",
       "        <th title=\"Minos upper error\"> Minos Error+ </th>\n",
       "        <th title=\"Lower limit of the parameter\"> Limit- </th>\n",
       "        <th title=\"Upper limit of the parameter\"> Limit+ </th>\n",
       "        <th title=\"Is the parameter fixed in the fit\"> Fixed </th>\n",
       "    </tr>\n",
       "    <tr>\n",
       "        <th> 0 </th>\n",
       "        <td> b </td>\n",
       "        <td> -0.1578 </td>\n",
       "        <td> 0.0011 </td>\n",
       "        <td>  </td>\n",
       "        <td>  </td>\n",
       "        <td>  </td>\n",
       "        <td>  </td>\n",
       "        <td>  </td>\n",
       "    </tr>\n",
       "    <tr>\n",
       "        <th> 1 </th>\n",
       "        <td> c </td>\n",
       "        <td> 7.30e-3 </td>\n",
       "        <td> 0.12e-3 </td>\n",
       "        <td>  </td>\n",
       "        <td>  </td>\n",
       "        <td>  </td>\n",
       "        <td>  </td>\n",
       "        <td>  </td>\n",
       "    </tr>\n",
       "    <tr>\n",
       "        <th> 2 </th>\n",
       "        <td> M </td>\n",
       "        <td> 2.494 </td>\n",
       "        <td> 0.016 </td>\n",
       "        <td>  </td>\n",
       "        <td>  </td>\n",
       "        <td>  </td>\n",
       "        <td>  </td>\n",
       "        <td>  </td>\n",
       "    </tr>\n",
       "    <tr>\n",
       "        <th> 3 </th>\n",
       "        <td> F </td>\n",
       "        <td> 0.9820 </td>\n",
       "        <td> 0.0012 </td>\n",
       "        <td>  </td>\n",
       "        <td>  </td>\n",
       "        <td>  </td>\n",
       "        <td>  </td>\n",
       "        <td>  </td>\n",
       "    </tr>\n",
       "</table><table>\n",
       "    <tr>\n",
       "        <td></td>\n",
       "        <th> b </th>\n",
       "        <th> c </th>\n",
       "        <th> M </th>\n",
       "        <th> F </th>\n",
       "    </tr>\n",
       "    <tr>\n",
       "        <th> b </th>\n",
       "        <td> 1.14e-06 </td>\n",
       "        <td style=\"background-color:rgb(123,123,250);color:black\"> -1.23e-07 <strong>(-0.978)</strong> </td>\n",
       "        <td style=\"background-color:rgb(246,246,250);color:black\"> -5.72e-07 <strong>(-0.034)</strong> </td>\n",
       "        <td style=\"background-color:rgb(246,246,250);color:black\"> -3.44e-08 <strong>(-0.028)</strong> </td>\n",
       "    </tr>\n",
       "    <tr>\n",
       "        <th> c </th>\n",
       "        <td style=\"background-color:rgb(123,123,250);color:black\"> -1.23e-07 <strong>(-0.978)</strong> </td>\n",
       "        <td> 1.4e-08 </td>\n",
       "        <td style=\"background-color:rgb(250,245,245);color:black\"> 5.72e-08 <strong>(0.031)</strong> </td>\n",
       "        <td style=\"background-color:rgb(249,249,250);color:black\"> -6.66e-10 <strong>(-0.005)</strong> </td>\n",
       "    </tr>\n",
       "    <tr>\n",
       "        <th> M </th>\n",
       "        <td style=\"background-color:rgb(246,246,250);color:black\"> -5.72e-07 <strong>(-0.034)</strong> </td>\n",
       "        <td style=\"background-color:rgb(250,245,245);color:black\"> 5.72e-08 <strong>(0.031)</strong> </td>\n",
       "        <td> 0.000244 </td>\n",
       "        <td style=\"background-color:rgb(250,244,244);color:black\"> 7.04e-07 <strong>(0.039)</strong> </td>\n",
       "    </tr>\n",
       "    <tr>\n",
       "        <th> F </th>\n",
       "        <td style=\"background-color:rgb(246,246,250);color:black\"> -3.44e-08 <strong>(-0.028)</strong> </td>\n",
       "        <td style=\"background-color:rgb(249,249,250);color:black\"> -6.66e-10 <strong>(-0.005)</strong> </td>\n",
       "        <td style=\"background-color:rgb(250,244,244);color:black\"> 7.04e-07 <strong>(0.039)</strong> </td>\n",
       "        <td> 1.35e-06 </td>\n",
       "    </tr>\n",
       "</table>"
      ],
      "text/plain": [
       "┌─────────────────────────────────────────────────────────────────────────┐\n",
       "│                                Migrad                                   │\n",
       "├──────────────────────────────────┬──────────────────────────────────────┤\n",
       "│ FCN = 2.146e+05                  │              Nfcn = 132              │\n",
       "│ EDM = 1.45e-06 (Goal: 0.0001)    │                                      │\n",
       "├──────────────────────────────────┼──────────────────────────────────────┤\n",
       "│          Valid Minimum           │        No Parameters at limit        │\n",
       "├──────────────────────────────────┼──────────────────────────────────────┤\n",
       "│ Below EDM threshold (goal x 10)  │           Below call limit           │\n",
       "├───────────────┬──────────────────┼───────────┬─────────────┬────────────┤\n",
       "│  Covariance   │     Hesse ok     │ Accurate  │  Pos. def.  │ Not forced │\n",
       "└───────────────┴──────────────────┴───────────┴─────────────┴────────────┘\n",
       "┌───┬──────┬───────────┬───────────┬────────────┬────────────┬─────────┬─────────┬───────┐\n",
       "│   │ Name │   Value   │ Hesse Err │ Minos Err- │ Minos Err+ │ Limit-  │ Limit+  │ Fixed │\n",
       "├───┼──────┼───────────┼───────────┼────────────┼────────────┼─────────┼─────────┼───────┤\n",
       "│ 0 │ b    │  -0.1578  │  0.0011   │            │            │         │         │       │\n",
       "│ 1 │ c    │  7.30e-3  │  0.12e-3  │            │            │         │         │       │\n",
       "│ 2 │ M    │   2.494   │   0.016   │            │            │         │         │       │\n",
       "│ 3 │ F    │  0.9820   │  0.0012   │            │            │         │         │       │\n",
       "└───┴──────┴───────────┴───────────┴────────────┴────────────┴─────────┴─────────┴───────┘\n",
       "┌───┬─────────────────────────────────────────┐\n",
       "│   │         b         c         M         F │\n",
       "├───┼─────────────────────────────────────────┤\n",
       "│ b │  1.14e-06 -1.23e-07 -5.72e-07 -3.44e-08 │\n",
       "│ c │ -1.23e-07   1.4e-08  5.72e-08 -6.66e-10 │\n",
       "│ M │ -5.72e-07  5.72e-08  0.000244  7.04e-07 │\n",
       "│ F │ -3.44e-08 -6.66e-10  7.04e-07  1.35e-06 │\n",
       "└───┴─────────────────────────────────────────┘"
      ]
     },
     "execution_count": 669,
     "metadata": {},
     "output_type": "execute_result"
    }
   ],
   "source": [
    "#get minimizer\n",
    "m_poly.migrad()"
   ]
  },
  {
   "cell_type": "code",
   "execution_count": 670,
   "id": "801f0f08",
   "metadata": {},
   "outputs": [],
   "source": [
    "#generate function with parameters given by minuit\n",
    "y_poly = func2(t, -0.1578, 7.30e-3, 2.494, 0.9820)"
   ]
  },
  {
   "cell_type": "code",
   "execution_count": 671,
   "id": "9e663ac2",
   "metadata": {},
   "outputs": [
    {
     "data": {
      "image/png": "[encoded data removed]",
      "text/plain": [
       "<Figure size 432x288 with 1 Axes>"
      ]
     },
     "metadata": {
      "needs_background": "light"
     },
     "output_type": "display_data"
    }
   ],
   "source": [
    "plt.plot(t,y_poly)\n",
    "plt.hist(DATA,bins=100,density=True)\n",
    "plt.title('Mass data fitted with a second order polynomial background');"
   ]
  },
  {
   "cell_type": "markdown",
   "id": "ebfe6dda",
   "metadata": {},
   "source": [
    "The parameters with central value V and their statistical errors are given by the following: **$V \\pm E_{stat}$:** $\\newline$\n",
    "**b = $-0.1578 \\pm 0.0011$**\n",
    "\n",
    "**c = $7.30\\times10^{-3} \\pm 0.12\\times10^{-3}$**\n",
    "\n",
    "**M = $2.494 \\pm 0.016$**\n",
    "\n",
    "**F = $0.9820 \\pm 0.0012$**\n"
   ]
  },
  {
   "cell_type": "markdown",
   "id": "9557dbe7",
   "metadata": {},
   "source": [
    "Fitting the background to a second order polynomial gives us a mass value of $2.494 \\pm 0.016$ where $\\pm 0.016$ is the statistical error. This is relatively close to the true mass value (2.5) but not as close as the exponential fit of the model (2.499) which is expected as we can see the exponential model fits almost perfectly and the polynomial is a less accurate approximation."
   ]
  },
  {
   "cell_type": "markdown",
   "id": "e5549975",
   "metadata": {},
   "source": [
    "### Systematic Errors"
   ]
  },
  {
   "cell_type": "markdown",
   "id": "fc2098b1",
   "metadata": {},
   "source": [
    "#### Systematic error: Method 1 "
   ]
  },
  {
   "cell_type": "markdown",
   "id": "707e75fc",
   "metadata": {},
   "source": [
    "Shift is the difference in the mean generated by the fit on the exponential background and the mean generated by the fit of the\n",
    "polynomial background, as the systematic error takes into account the uncertainty of experiment (e.g we do not know what the\n",
    "background looks like). We run the minimization for M equal to the central value plus the statistical error, and then for M equal to the central value minus the statistical error, and take the average. The systematic error is then the difference between this value of $M_{\\text{poly}}$ and the value given by the exponential model $M_{\\text{exp}}$."
   ]
  },
  {
   "cell_type": "code",
   "execution_count": 672,
   "id": "472123a9",
   "metadata": {},
   "outputs": [],
   "source": [
    "#shift method: taking M to be V + E_stat, M = 2.494 + 0.016\n",
    "m1 = Minuit(get_NLL2, b = -0.016, c = 0.007, M = (2.494 + 0.016), F = 0.98)"
   ]
  },
  {
   "cell_type": "code",
   "execution_count": 673,
   "id": "b0c8c67d",
   "metadata": {},
   "outputs": [
    {
     "data": {
      "text/html": [
       "<table>\n",
       "    <tr>\n",
       "        <th colspan=\"5\" style=\"text-align:center\" title=\"Minimizer\"> Migrad </th>\n",
       "    </tr>\n",
       "    <tr>\n",
       "        <td colspan=\"2\" style=\"text-align:left\" title=\"Minimum value of function\"> FCN = 2.146e+05 </td>\n",
       "        <td colspan=\"3\" style=\"text-align:center\" title=\"No. of function evaluations in last call and total number\"> Nfcn = 131 </td>\n",
       "    </tr>\n",
       "    <tr>\n",
       "        <td colspan=\"2\" style=\"text-align:left\" title=\"Estimated distance to minimum and goal\"> EDM = 1.1e-06 (Goal: 0.0001) </td>\n",
       "        <td colspan=\"3\" style=\"text-align:center\" title=\"No. of gradient evaluations in last call and total number\">  </td>\n",
       "    </tr>\n",
       "    <tr>\n",
       "        <td colspan=\"2\" style=\"text-align:center;background-color:#92CCA6;color:black\"> Valid Minimum </td>\n",
       "        <td colspan=\"3\" style=\"text-align:center;background-color:#92CCA6;color:black\"> No Parameters at limit </td>\n",
       "    </tr>\n",
       "    <tr>\n",
       "        <td colspan=\"2\" style=\"text-align:center;background-color:#92CCA6;color:black\"> Below EDM threshold (goal x 10) </td>\n",
       "        <td colspan=\"3\" style=\"text-align:center;background-color:#92CCA6;color:black\"> Below call limit </td>\n",
       "    </tr>\n",
       "    <tr>\n",
       "        <td style=\"text-align:center;background-color:#92CCA6;color:black\"> Covariance </td>\n",
       "        <td style=\"text-align:center;background-color:#92CCA6;color:black\"> Hesse ok </td>\n",
       "        <td style=\"text-align:center;background-color:#92CCA6;color:black\" title=\"Is covariance matrix accurate?\"> Accurate </td>\n",
       "        <td style=\"text-align:center;background-color:#92CCA6;color:black\" title=\"Is covariance matrix positive definite?\"> Pos. def. </td>\n",
       "        <td style=\"text-align:center;background-color:#92CCA6;color:black\" title=\"Was positive definiteness enforced by Minuit?\"> Not forced </td>\n",
       "    </tr>\n",
       "</table><table>\n",
       "    <tr>\n",
       "        <td></td>\n",
       "        <th title=\"Variable name\"> Name </th>\n",
       "        <th title=\"Value of parameter\"> Value </th>\n",
       "        <th title=\"Hesse error\"> Hesse Error </th>\n",
       "        <th title=\"Minos lower error\"> Minos Error- </th>\n",
       "        <th title=\"Minos upper error\"> Minos Error+ </th>\n",
       "        <th title=\"Lower limit of the parameter\"> Limit- </th>\n",
       "        <th title=\"Upper limit of the parameter\"> Limit+ </th>\n",
       "        <th title=\"Is the parameter fixed in the fit\"> Fixed </th>\n",
       "    </tr>\n",
       "    <tr>\n",
       "        <th> 0 </th>\n",
       "        <td> b </td>\n",
       "        <td> -0.1578 </td>\n",
       "        <td> 0.0011 </td>\n",
       "        <td>  </td>\n",
       "        <td>  </td>\n",
       "        <td>  </td>\n",
       "        <td>  </td>\n",
       "        <td>  </td>\n",
       "    </tr>\n",
       "    <tr>\n",
       "        <th> 1 </th>\n",
       "        <td> c </td>\n",
       "        <td> 7.30e-3 </td>\n",
       "        <td> 0.12e-3 </td>\n",
       "        <td>  </td>\n",
       "        <td>  </td>\n",
       "        <td>  </td>\n",
       "        <td>  </td>\n",
       "        <td>  </td>\n",
       "    </tr>\n",
       "    <tr>\n",
       "        <th> 2 </th>\n",
       "        <td> M </td>\n",
       "        <td> 2.494 </td>\n",
       "        <td> 0.016 </td>\n",
       "        <td>  </td>\n",
       "        <td>  </td>\n",
       "        <td>  </td>\n",
       "        <td>  </td>\n",
       "        <td>  </td>\n",
       "    </tr>\n",
       "    <tr>\n",
       "        <th> 3 </th>\n",
       "        <td> F </td>\n",
       "        <td> 0.9820 </td>\n",
       "        <td> 0.0012 </td>\n",
       "        <td>  </td>\n",
       "        <td>  </td>\n",
       "        <td>  </td>\n",
       "        <td>  </td>\n",
       "        <td>  </td>\n",
       "    </tr>\n",
       "</table><table>\n",
       "    <tr>\n",
       "        <td></td>\n",
       "        <th> b </th>\n",
       "        <th> c </th>\n",
       "        <th> M </th>\n",
       "        <th> F </th>\n",
       "    </tr>\n",
       "    <tr>\n",
       "        <th> b </th>\n",
       "        <td> 1.14e-06 </td>\n",
       "        <td style=\"background-color:rgb(123,123,250);color:black\"> -1.23e-07 <strong>(-0.978)</strong> </td>\n",
       "        <td style=\"background-color:rgb(246,246,250);color:black\"> -5.72e-07 <strong>(-0.034)</strong> </td>\n",
       "        <td style=\"background-color:rgb(246,246,250);color:black\"> -3.44e-08 <strong>(-0.028)</strong> </td>\n",
       "    </tr>\n",
       "    <tr>\n",
       "        <th> c </th>\n",
       "        <td style=\"background-color:rgb(123,123,250);color:black\"> -1.23e-07 <strong>(-0.978)</strong> </td>\n",
       "        <td> 1.4e-08 </td>\n",
       "        <td style=\"background-color:rgb(250,245,245);color:black\"> 5.72e-08 <strong>(0.031)</strong> </td>\n",
       "        <td style=\"background-color:rgb(249,249,250);color:black\"> -6.66e-10 <strong>(-0.005)</strong> </td>\n",
       "    </tr>\n",
       "    <tr>\n",
       "        <th> M </th>\n",
       "        <td style=\"background-color:rgb(246,246,250);color:black\"> -5.72e-07 <strong>(-0.034)</strong> </td>\n",
       "        <td style=\"background-color:rgb(250,245,245);color:black\"> 5.72e-08 <strong>(0.031)</strong> </td>\n",
       "        <td> 0.000244 </td>\n",
       "        <td style=\"background-color:rgb(250,244,244);color:black\"> 7.03e-07 <strong>(0.039)</strong> </td>\n",
       "    </tr>\n",
       "    <tr>\n",
       "        <th> F </th>\n",
       "        <td style=\"background-color:rgb(246,246,250);color:black\"> -3.44e-08 <strong>(-0.028)</strong> </td>\n",
       "        <td style=\"background-color:rgb(249,249,250);color:black\"> -6.66e-10 <strong>(-0.005)</strong> </td>\n",
       "        <td style=\"background-color:rgb(250,244,244);color:black\"> 7.03e-07 <strong>(0.039)</strong> </td>\n",
       "        <td> 1.35e-06 </td>\n",
       "    </tr>\n",
       "</table>"
      ],
      "text/plain": [
       "┌─────────────────────────────────────────────────────────────────────────┐\n",
       "│                                Migrad                                   │\n",
       "├──────────────────────────────────┬──────────────────────────────────────┤\n",
       "│ FCN = 2.146e+05                  │              Nfcn = 131              │\n",
       "│ EDM = 1.1e-06 (Goal: 0.0001)     │                                      │\n",
       "├──────────────────────────────────┼──────────────────────────────────────┤\n",
       "│          Valid Minimum           │        No Parameters at limit        │\n",
       "├──────────────────────────────────┼──────────────────────────────────────┤\n",
       "│ Below EDM threshold (goal x 10)  │           Below call limit           │\n",
       "├───────────────┬──────────────────┼───────────┬─────────────┬────────────┤\n",
       "│  Covariance   │     Hesse ok     │ Accurate  │  Pos. def.  │ Not forced │\n",
       "└───────────────┴──────────────────┴───────────┴─────────────┴────────────┘\n",
       "┌───┬──────┬───────────┬───────────┬────────────┬────────────┬─────────┬─────────┬───────┐\n",
       "│   │ Name │   Value   │ Hesse Err │ Minos Err- │ Minos Err+ │ Limit-  │ Limit+  │ Fixed │\n",
       "├───┼──────┼───────────┼───────────┼────────────┼────────────┼─────────┼─────────┼───────┤\n",
       "│ 0 │ b    │  -0.1578  │  0.0011   │            │            │         │         │       │\n",
       "│ 1 │ c    │  7.30e-3  │  0.12e-3  │            │            │         │         │       │\n",
       "│ 2 │ M    │   2.494   │   0.016   │            │            │         │         │       │\n",
       "│ 3 │ F    │  0.9820   │  0.0012   │            │            │         │         │       │\n",
       "└───┴──────┴───────────┴───────────┴────────────┴────────────┴─────────┴─────────┴───────┘\n",
       "┌───┬─────────────────────────────────────────┐\n",
       "│   │         b         c         M         F │\n",
       "├───┼─────────────────────────────────────────┤\n",
       "│ b │  1.14e-06 -1.23e-07 -5.72e-07 -3.44e-08 │\n",
       "│ c │ -1.23e-07   1.4e-08  5.72e-08 -6.66e-10 │\n",
       "│ M │ -5.72e-07  5.72e-08  0.000244  7.03e-07 │\n",
       "│ F │ -3.44e-08 -6.66e-10  7.03e-07  1.35e-06 │\n",
       "└───┴─────────────────────────────────────────┘"
      ]
     },
     "execution_count": 673,
     "metadata": {},
     "output_type": "execute_result"
    }
   ],
   "source": [
    "m1.migrad()"
   ]
  },
  {
   "cell_type": "code",
   "execution_count": 677,
   "id": "4b5d8534",
   "metadata": {},
   "outputs": [],
   "source": [
    "#shift method: taking M to be V - E_stat, M = 2.494 - 0.016\n",
    "m2 = Minuit(get_NLL2, b = -0.016, c = 0.007, M = (2.494 - 0.016), F = 0.98)"
   ]
  },
  {
   "cell_type": "code",
   "execution_count": 678,
   "id": "dc34dd95",
   "metadata": {},
   "outputs": [
    {
     "data": {
      "text/html": [
       "<table>\n",
       "    <tr>\n",
       "        <th colspan=\"5\" style=\"text-align:center\" title=\"Minimizer\"> Migrad </th>\n",
       "    </tr>\n",
       "    <tr>\n",
       "        <td colspan=\"2\" style=\"text-align:left\" title=\"Minimum value of function\"> FCN = 2.146e+05 </td>\n",
       "        <td colspan=\"3\" style=\"text-align:center\" title=\"No. of function evaluations in last call and total number\"> Nfcn = 100 </td>\n",
       "    </tr>\n",
       "    <tr>\n",
       "        <td colspan=\"2\" style=\"text-align:left\" title=\"Estimated distance to minimum and goal\"> EDM = 1.08e-07 (Goal: 0.0001) </td>\n",
       "        <td colspan=\"3\" style=\"text-align:center\" title=\"No. of gradient evaluations in last call and total number\">  </td>\n",
       "    </tr>\n",
       "    <tr>\n",
       "        <td colspan=\"2\" style=\"text-align:center;background-color:#92CCA6;color:black\"> Valid Minimum </td>\n",
       "        <td colspan=\"3\" style=\"text-align:center;background-color:#92CCA6;color:black\"> No Parameters at limit </td>\n",
       "    </tr>\n",
       "    <tr>\n",
       "        <td colspan=\"2\" style=\"text-align:center;background-color:#92CCA6;color:black\"> Below EDM threshold (goal x 10) </td>\n",
       "        <td colspan=\"3\" style=\"text-align:center;background-color:#92CCA6;color:black\"> Below call limit </td>\n",
       "    </tr>\n",
       "    <tr>\n",
       "        <td style=\"text-align:center;background-color:#92CCA6;color:black\"> Covariance </td>\n",
       "        <td style=\"text-align:center;background-color:#92CCA6;color:black\"> Hesse ok </td>\n",
       "        <td style=\"text-align:center;background-color:#92CCA6;color:black\" title=\"Is covariance matrix accurate?\"> Accurate </td>\n",
       "        <td style=\"text-align:center;background-color:#92CCA6;color:black\" title=\"Is covariance matrix positive definite?\"> Pos. def. </td>\n",
       "        <td style=\"text-align:center;background-color:#92CCA6;color:black\" title=\"Was positive definiteness enforced by Minuit?\"> Not forced </td>\n",
       "    </tr>\n",
       "</table><table>\n",
       "    <tr>\n",
       "        <td></td>\n",
       "        <th title=\"Variable name\"> Name </th>\n",
       "        <th title=\"Value of parameter\"> Value </th>\n",
       "        <th title=\"Hesse error\"> Hesse Error </th>\n",
       "        <th title=\"Minos lower error\"> Minos Error- </th>\n",
       "        <th title=\"Minos upper error\"> Minos Error+ </th>\n",
       "        <th title=\"Lower limit of the parameter\"> Limit- </th>\n",
       "        <th title=\"Upper limit of the parameter\"> Limit+ </th>\n",
       "        <th title=\"Is the parameter fixed in the fit\"> Fixed </th>\n",
       "    </tr>\n",
       "    <tr>\n",
       "        <th> 0 </th>\n",
       "        <td> b </td>\n",
       "        <td> -0.1578 </td>\n",
       "        <td> 0.0014 </td>\n",
       "        <td>  </td>\n",
       "        <td>  </td>\n",
       "        <td>  </td>\n",
       "        <td>  </td>\n",
       "        <td>  </td>\n",
       "    </tr>\n",
       "    <tr>\n",
       "        <th> 1 </th>\n",
       "        <td> c </td>\n",
       "        <td> 7.30e-3 </td>\n",
       "        <td> 0.15e-3 </td>\n",
       "        <td>  </td>\n",
       "        <td>  </td>\n",
       "        <td>  </td>\n",
       "        <td>  </td>\n",
       "        <td>  </td>\n",
       "    </tr>\n",
       "    <tr>\n",
       "        <th> 2 </th>\n",
       "        <td> M </td>\n",
       "        <td> 2.494 </td>\n",
       "        <td> 0.016 </td>\n",
       "        <td>  </td>\n",
       "        <td>  </td>\n",
       "        <td>  </td>\n",
       "        <td>  </td>\n",
       "        <td>  </td>\n",
       "    </tr>\n",
       "    <tr>\n",
       "        <th> 3 </th>\n",
       "        <td> F </td>\n",
       "        <td> 0.9820 </td>\n",
       "        <td> 0.0012 </td>\n",
       "        <td>  </td>\n",
       "        <td>  </td>\n",
       "        <td>  </td>\n",
       "        <td>  </td>\n",
       "        <td>  </td>\n",
       "    </tr>\n",
       "</table><table>\n",
       "    <tr>\n",
       "        <td></td>\n",
       "        <th> b </th>\n",
       "        <th> c </th>\n",
       "        <th> M </th>\n",
       "        <th> F </th>\n",
       "    </tr>\n",
       "    <tr>\n",
       "        <th> b </th>\n",
       "        <td> 1.89e-06 </td>\n",
       "        <td style=\"background-color:rgb(122,122,250);color:black\"> -2.07e-07 <strong>(-0.987)</strong> </td>\n",
       "        <td style=\"background-color:rgb(244,244,250);color:black\"> -1.03e-06 <strong>(-0.048)</strong> </td>\n",
       "        <td style=\"background-color:rgb(247,247,250);color:black\"> -3.44e-08 <strong>(-0.021)</strong> </td>\n",
       "    </tr>\n",
       "    <tr>\n",
       "        <th> c </th>\n",
       "        <td style=\"background-color:rgb(122,122,250);color:black\"> -2.07e-07 <strong>(-0.987)</strong> </td>\n",
       "        <td> 2.33e-08 </td>\n",
       "        <td style=\"background-color:rgb(250,243,243);color:black\"> 1.08e-07 <strong>(0.045)</strong> </td>\n",
       "        <td style=\"background-color:rgb(249,249,250);color:black\"> -7.78e-10 <strong>(-0.004)</strong> </td>\n",
       "    </tr>\n",
       "    <tr>\n",
       "        <th> M </th>\n",
       "        <td style=\"background-color:rgb(244,244,250);color:black\"> -1.03e-06 <strong>(-0.048)</strong> </td>\n",
       "        <td style=\"background-color:rgb(250,243,243);color:black\"> 1.08e-07 <strong>(0.045)</strong> </td>\n",
       "        <td> 0.000246 </td>\n",
       "        <td style=\"background-color:rgb(250,245,245);color:black\"> 6.57e-07 <strong>(0.036)</strong> </td>\n",
       "    </tr>\n",
       "    <tr>\n",
       "        <th> F </th>\n",
       "        <td style=\"background-color:rgb(247,247,250);color:black\"> -3.44e-08 <strong>(-0.021)</strong> </td>\n",
       "        <td style=\"background-color:rgb(249,249,250);color:black\"> -7.78e-10 <strong>(-0.004)</strong> </td>\n",
       "        <td style=\"background-color:rgb(250,245,245);color:black\"> 6.57e-07 <strong>(0.036)</strong> </td>\n",
       "        <td> 1.36e-06 </td>\n",
       "    </tr>\n",
       "</table>"
      ],
      "text/plain": [
       "┌─────────────────────────────────────────────────────────────────────────┐\n",
       "│                                Migrad                                   │\n",
       "├──────────────────────────────────┬──────────────────────────────────────┤\n",
       "│ FCN = 2.146e+05                  │              Nfcn = 100              │\n",
       "│ EDM = 1.08e-07 (Goal: 0.0001)    │                                      │\n",
       "├──────────────────────────────────┼──────────────────────────────────────┤\n",
       "│          Valid Minimum           │        No Parameters at limit        │\n",
       "├──────────────────────────────────┼──────────────────────────────────────┤\n",
       "│ Below EDM threshold (goal x 10)  │           Below call limit           │\n",
       "├───────────────┬──────────────────┼───────────┬─────────────┬────────────┤\n",
       "│  Covariance   │     Hesse ok     │ Accurate  │  Pos. def.  │ Not forced │\n",
       "└───────────────┴──────────────────┴───────────┴─────────────┴────────────┘\n",
       "┌───┬──────┬───────────┬───────────┬────────────┬────────────┬─────────┬─────────┬───────┐\n",
       "│   │ Name │   Value   │ Hesse Err │ Minos Err- │ Minos Err+ │ Limit-  │ Limit+  │ Fixed │\n",
       "├───┼──────┼───────────┼───────────┼────────────┼────────────┼─────────┼─────────┼───────┤\n",
       "│ 0 │ b    │  -0.1578  │  0.0014   │            │            │         │         │       │\n",
       "│ 1 │ c    │  7.30e-3  │  0.15e-3  │            │            │         │         │       │\n",
       "│ 2 │ M    │   2.494   │   0.016   │            │            │         │         │       │\n",
       "│ 3 │ F    │  0.9820   │  0.0012   │            │            │         │         │       │\n",
       "└───┴──────┴───────────┴───────────┴────────────┴────────────┴─────────┴─────────┴───────┘\n",
       "┌───┬─────────────────────────────────────────┐\n",
       "│   │         b         c         M         F │\n",
       "├───┼─────────────────────────────────────────┤\n",
       "│ b │  1.89e-06 -2.07e-07 -1.03e-06 -3.44e-08 │\n",
       "│ c │ -2.07e-07  2.33e-08  1.08e-07 -7.78e-10 │\n",
       "│ M │ -1.03e-06  1.08e-07  0.000246  6.57e-07 │\n",
       "│ F │ -3.44e-08 -7.78e-10  6.57e-07  1.36e-06 │\n",
       "└───┴─────────────────────────────────────────┘"
      ]
     },
     "execution_count": 678,
     "metadata": {},
     "output_type": "execute_result"
    }
   ],
   "source": [
    "m2.migrad()"
   ]
  },
  {
   "cell_type": "code",
   "execution_count": 758,
   "id": "12348aab",
   "metadata": {},
   "outputs": [],
   "source": [
    "#shift is difference between central values generated by the two models\n",
    "#calculate the shift for M + Err and M - Err\n",
    "shift1 = m_exp.values[1]-m1.values[2]\n",
    "shift2 = m_exp.values[1]-m2.values[2]"
   ]
  },
  {
   "cell_type": "code",
   "execution_count": 737,
   "id": "f65e0aca",
   "metadata": {},
   "outputs": [
    {
     "name": "stdout",
     "output_type": "stream",
     "text": [
      "E_syst = 0.004226683247484209\n",
      "E_stat = 0.015625812492444626\n"
     ]
    }
   ],
   "source": [
    "#taking systematic error as the average of the two shifts\n",
    "Esyst_poly = (shift1+shift2)/2\n",
    "#getting statistical error from minuit optimizer\n",
    "Estat_poly = m_poly.errors[2]\n",
    "\n",
    "print('E_syst =',Esyst_poly)\n",
    "print('E_stat =',Estat_poly)"
   ]
  },
  {
   "cell_type": "markdown",
   "id": "d61e6161",
   "metadata": {},
   "source": [
    "We may have imperfect knowledge of our background model, so we have systematic error due to this, as we don't know if the background takes an exponential or polynomial form. We therefore calculate the systematic error by looking at the shift in mass means due to the modelling of different backgrounds. We compare the polynomial background to the exponential background and observe the effect this has on the mass value. Since we cannot be sure, we must account for some systematic error due to the modelling choice. Systematic error in mass M due to background is **$E_{\\text{bgd}} = E_{\\text{syst}} = \\pm 0.0042$**"
   ]
  },
  {
   "cell_type": "markdown",
   "id": "acdb21d6",
   "metadata": {},
   "source": [
    "The value of M with statistical and systematic errors is given by $\\text{Value} \\pm E_{stat} \\pm E_{syst}:$\n",
    "\n",
    "$\\text{M}_{\\text{poly}} = 2.494 \\pm 0.0156 \\pm 0.00422 \\newline$"
   ]
  },
  {
   "cell_type": "markdown",
   "id": "522cf078",
   "metadata": {},
   "source": [
    "Using $E_{tot} = \\sqrt{( E_{stat}^2 + E_{syst}^2 )}$, we calculate total error by adding in quadrature"
   ]
  },
  {
   "cell_type": "code",
   "execution_count": 739,
   "id": "cb264021",
   "metadata": {},
   "outputs": [
    {
     "name": "stdout",
     "output_type": "stream",
     "text": [
      "E_tot = 0.01618736752296686\n"
     ]
    }
   ],
   "source": [
    "Etot_poly = np.sqrt(Estat_poly**2 + Esyst_poly**2)\n",
    "print('E_tot =',Etot_poly)"
   ]
  },
  {
   "cell_type": "markdown",
   "id": "ce4155f5",
   "metadata": {},
   "source": [
    "The value of M with total errors is given by $\\text{Value} \\pm E_{tot}:$\n",
    "\n",
    "$\\text{M}_{\\text{poly}} = 2.494 \\pm 0.016$"
   ]
  },
  {
   "cell_type": "markdown",
   "id": "077fc0fd",
   "metadata": {},
   "source": [
    "#### Systematic error: Method 2"
   ]
  },
  {
   "cell_type": "code",
   "execution_count": 685,
   "id": "8bbb544a",
   "metadata": {},
   "outputs": [],
   "source": [
    "from scipy import stats"
   ]
  },
  {
   "cell_type": "code",
   "execution_count": 691,
   "id": "575672cf",
   "metadata": {},
   "outputs": [],
   "source": [
    "count = 0\n",
    "shift_poly = []\n",
    "#create a while loop to run 100 iterations\n",
    "while count<100:\n",
    "    \n",
    "    #Pick random values of G_rand from a Gaussian distribution centred on M with width of error E_stat\n",
    "    G_rand = np.random.normal(loc=m_poly.values[2], scale=m_poly.errors[2])\n",
    "    \n",
    "    #Re-run the fit with each G_rand and measure the set of shifts it induces on the best fit physics parameters. \n",
    "    m_rand_poly = Minuit(get_NLL2, b = -0.016, c = 0.007, M = G_rand, F = 0.98)\n",
    "    m_rand_poly.migrad()\n",
    "    \n",
    "    #Append these Shift values to a list\n",
    "    shift_poly.append(m_exp.values[1]-m_rand_poly.values[2])\n",
    "    \n",
    "    count +=1"
   ]
  },
  {
   "cell_type": "code",
   "execution_count": 762,
   "id": "2b39f92c",
   "metadata": {},
   "outputs": [
    {
     "data": {
      "image/png": "[encoded data removed]",
      "text/plain": [
       "<Figure size 432x288 with 1 Axes>"
      ]
     },
     "metadata": {
      "needs_background": "light"
     },
     "output_type": "display_data"
    }
   ],
   "source": [
    "plt.hist(shift_poly,bins=30,color='darkorange');\n",
    "plt.title('A histogram showing shifts of the central value M')\n",
    "plt.show()"
   ]
  },
  {
   "cell_type": "code",
   "execution_count": 693,
   "id": "1bba113e",
   "metadata": {},
   "outputs": [
    {
     "name": "stdout",
     "output_type": "stream",
     "text": [
      "mean and standard deviation are 0.004215825408882417 and 2.3401271785363023e-05 respectively\n"
     ]
    }
   ],
   "source": [
    "#fitting histogram to gaussian\n",
    "mu,std = stats.norm.fit(shift_poly, loc=0, scale=1) \n",
    "print('mean and standard deviation are', mu, 'and', std,'respectively')"
   ]
  },
  {
   "cell_type": "markdown",
   "id": "861a810c",
   "metadata": {},
   "source": [
    "Method 2 generates a (skewered) Gaussian, centered on the systematic error. Method 2 is a more accurate version of method 1, using random values taken from a gaussian distribution of mean value and statistical error generated by the minuit minimization. This generates a narrow gaussian, when a narrow gaussian is generated instead of a wide gaussian, the systematic error is taken to be the mean, which we can see here agrees with Method 1. Doing many iterations cancels out any large errors due to an error in minimization (if G_random happens to be at the extremeties) and so gives a more accurate value of the systematic error. The value of the systematic error is given as $\\text{E}_{\\text{syst}} = \\pm 0.0042$."
   ]
  },
  {
   "cell_type": "markdown",
   "id": "89d523f0",
   "metadata": {},
   "source": [
    "## Part 3 - Linear background"
   ]
  },
  {
   "cell_type": "code",
   "execution_count": 700,
   "id": "dcf258ac",
   "metadata": {},
   "outputs": [],
   "source": [
    "def func3(m, b, M, F):\n",
    "    \n",
    "    \"\"\"A function which returns a composite function of a gaussian signal and a linear background\"\"\"\n",
    "   \n",
    "    #x limits\n",
    "    xmin = 0\n",
    "    xmax = 10\n",
    "    \n",
    "    #width of gauss signal\n",
    "    sigma = 0.2\n",
    "\n",
    "    #background given as normalized straight line\n",
    "    a=1\n",
    "    BKG = (a + b*m) / (xmax + b*xmax**2/2)\n",
    "    \n",
    "    #signal given as normalised gaussian with mean 'gauss_mu' and standard deviation 'sigma'\n",
    "    GAUSS = 1/(np.sqrt(2*np.pi)*sigma) * np.exp(-0.5*(m-M)**2/sigma**2)\n",
    "    \n",
    "    #returns composite function fraction of background + (1-fraction) of signal\n",
    "    return F*BKG + (1-F)*GAUSS"
   ]
  },
  {
   "cell_type": "code",
   "execution_count": 701,
   "id": "9bfb41e1",
   "metadata": {},
   "outputs": [],
   "source": [
    "def get_NLL3(b, M, F): \n",
    "    \n",
    "    \"\"\"A function which generates the negative log likelihood of the composite function\"\"\"\n",
    "\n",
    "    #generate the mean, mu\n",
    "    mu = func3(DATA, b, M, F)\n",
    "    \n",
    "    #make sure that if mean is less than 10-4, return 10-4, so that there are no negative errors\n",
    "    mu[mu<1e-4] = 1e-4\n",
    "    \n",
    "    #generate the log using the calculated mean\n",
    "    LL = np.log(mu)\n",
    "    \n",
    "    #negative log likely hood is the negative of the sum over all log pmfs\n",
    "    NLL = -np.sum(LL)\n",
    "    \n",
    "    return NLL"
   ]
  },
  {
   "cell_type": "code",
   "execution_count": 702,
   "id": "7ce1efcb",
   "metadata": {},
   "outputs": [],
   "source": [
    "#set error of NLL to 0.5\n",
    "get_NLL3.errordef = 0.5\n",
    "#give guesses for lifetime, gaussian mean and fraction\n",
    "m_lin = Minuit(get_NLL3, b = -0.09, M = 2.5, F = 0.98)"
   ]
  },
  {
   "cell_type": "code",
   "execution_count": 703,
   "id": "b4106ac1",
   "metadata": {},
   "outputs": [
    {
     "data": {
      "text/html": [
       "<table>\n",
       "    <tr>\n",
       "        <th colspan=\"5\" style=\"text-align:center\" title=\"Minimizer\"> Migrad </th>\n",
       "    </tr>\n",
       "    <tr>\n",
       "        <td colspan=\"2\" style=\"text-align:left\" title=\"Minimum value of function\"> FCN = 2.155e+05 </td>\n",
       "        <td colspan=\"3\" style=\"text-align:center\" title=\"No. of function evaluations in last call and total number\"> Nfcn = 50 </td>\n",
       "    </tr>\n",
       "    <tr>\n",
       "        <td colspan=\"2\" style=\"text-align:left\" title=\"Estimated distance to minimum and goal\"> EDM = 3.95e-06 (Goal: 0.0001) </td>\n",
       "        <td colspan=\"3\" style=\"text-align:center\" title=\"No. of gradient evaluations in last call and total number\">  </td>\n",
       "    </tr>\n",
       "    <tr>\n",
       "        <td colspan=\"2\" style=\"text-align:center;background-color:#92CCA6;color:black\"> Valid Minimum </td>\n",
       "        <td colspan=\"3\" style=\"text-align:center;background-color:#92CCA6;color:black\"> No Parameters at limit </td>\n",
       "    </tr>\n",
       "    <tr>\n",
       "        <td colspan=\"2\" style=\"text-align:center;background-color:#92CCA6;color:black\"> Below EDM threshold (goal x 10) </td>\n",
       "        <td colspan=\"3\" style=\"text-align:center;background-color:#92CCA6;color:black\"> Below call limit </td>\n",
       "    </tr>\n",
       "    <tr>\n",
       "        <td style=\"text-align:center;background-color:#92CCA6;color:black\"> Covariance </td>\n",
       "        <td style=\"text-align:center;background-color:#92CCA6;color:black\"> Hesse ok </td>\n",
       "        <td style=\"text-align:center;background-color:#92CCA6;color:black\" title=\"Is covariance matrix accurate?\"> Accurate </td>\n",
       "        <td style=\"text-align:center;background-color:#92CCA6;color:black\" title=\"Is covariance matrix positive definite?\"> Pos. def. </td>\n",
       "        <td style=\"text-align:center;background-color:#92CCA6;color:black\" title=\"Was positive definiteness enforced by Minuit?\"> Not forced </td>\n",
       "    </tr>\n",
       "</table><table>\n",
       "    <tr>\n",
       "        <td></td>\n",
       "        <th title=\"Variable name\"> Name </th>\n",
       "        <th title=\"Value of parameter\"> Value </th>\n",
       "        <th title=\"Hesse error\"> Hesse Error </th>\n",
       "        <th title=\"Minos lower error\"> Minos Error- </th>\n",
       "        <th title=\"Minos upper error\"> Minos Error+ </th>\n",
       "        <th title=\"Lower limit of the parameter\"> Limit- </th>\n",
       "        <th title=\"Upper limit of the parameter\"> Limit+ </th>\n",
       "        <th title=\"Is the parameter fixed in the fit\"> Fixed </th>\n",
       "    </tr>\n",
       "    <tr>\n",
       "        <th> 0 </th>\n",
       "        <td> b </td>\n",
       "        <td> -90.41e-3 </td>\n",
       "        <td> 0.22e-3 </td>\n",
       "        <td>  </td>\n",
       "        <td>  </td>\n",
       "        <td>  </td>\n",
       "        <td>  </td>\n",
       "        <td>  </td>\n",
       "    </tr>\n",
       "    <tr>\n",
       "        <th> 1 </th>\n",
       "        <td> M </td>\n",
       "        <td> 2.465 </td>\n",
       "        <td> 0.015 </td>\n",
       "        <td>  </td>\n",
       "        <td>  </td>\n",
       "        <td>  </td>\n",
       "        <td>  </td>\n",
       "        <td>  </td>\n",
       "    </tr>\n",
       "    <tr>\n",
       "        <th> 2 </th>\n",
       "        <td> F </td>\n",
       "        <td> 0.9801 </td>\n",
       "        <td> 0.0012 </td>\n",
       "        <td>  </td>\n",
       "        <td>  </td>\n",
       "        <td>  </td>\n",
       "        <td>  </td>\n",
       "        <td>  </td>\n",
       "    </tr>\n",
       "</table><table>\n",
       "    <tr>\n",
       "        <td></td>\n",
       "        <th> b </th>\n",
       "        <th> M </th>\n",
       "        <th> F </th>\n",
       "    </tr>\n",
       "    <tr>\n",
       "        <th> b </th>\n",
       "        <td> 4.97e-08 </td>\n",
       "        <td style=\"background-color:rgb(248,248,250);color:black\"> -5.11e-08 <strong>(-0.015)</strong> </td>\n",
       "        <td style=\"background-color:rgb(233,233,250);color:black\"> -3.36e-08 <strong>(-0.130)</strong> </td>\n",
       "    </tr>\n",
       "    <tr>\n",
       "        <th> M </th>\n",
       "        <td style=\"background-color:rgb(248,248,250);color:black\"> -5.11e-08 <strong>(-0.015)</strong> </td>\n",
       "        <td> 0.000229 </td>\n",
       "        <td style=\"background-color:rgb(250,245,245);color:black\"> 6.04e-07 <strong>(0.034)</strong> </td>\n",
       "    </tr>\n",
       "    <tr>\n",
       "        <th> F </th>\n",
       "        <td style=\"background-color:rgb(233,233,250);color:black\"> -3.36e-08 <strong>(-0.130)</strong> </td>\n",
       "        <td style=\"background-color:rgb(250,245,245);color:black\"> 6.04e-07 <strong>(0.034)</strong> </td>\n",
       "        <td> 1.35e-06 </td>\n",
       "    </tr>\n",
       "</table>"
      ],
      "text/plain": [
       "┌─────────────────────────────────────────────────────────────────────────┐\n",
       "│                                Migrad                                   │\n",
       "├──────────────────────────────────┬──────────────────────────────────────┤\n",
       "│ FCN = 2.155e+05                  │              Nfcn = 50               │\n",
       "│ EDM = 3.95e-06 (Goal: 0.0001)    │                                      │\n",
       "├──────────────────────────────────┼──────────────────────────────────────┤\n",
       "│          Valid Minimum           │        No Parameters at limit        │\n",
       "├──────────────────────────────────┼──────────────────────────────────────┤\n",
       "│ Below EDM threshold (goal x 10)  │           Below call limit           │\n",
       "├───────────────┬──────────────────┼───────────┬─────────────┬────────────┤\n",
       "│  Covariance   │     Hesse ok     │ Accurate  │  Pos. def.  │ Not forced │\n",
       "└───────────────┴──────────────────┴───────────┴─────────────┴────────────┘\n",
       "┌───┬──────┬───────────┬───────────┬────────────┬────────────┬─────────┬─────────┬───────┐\n",
       "│   │ Name │   Value   │ Hesse Err │ Minos Err- │ Minos Err+ │ Limit-  │ Limit+  │ Fixed │\n",
       "├───┼──────┼───────────┼───────────┼────────────┼────────────┼─────────┼─────────┼───────┤\n",
       "│ 0 │ b    │ -90.41e-3 │  0.22e-3  │            │            │         │         │       │\n",
       "│ 1 │ M    │   2.465   │   0.015   │            │            │         │         │       │\n",
       "│ 2 │ F    │  0.9801   │  0.0012   │            │            │         │         │       │\n",
       "└───┴──────┴───────────┴───────────┴────────────┴────────────┴─────────┴─────────┴───────┘\n",
       "┌───┬───────────────────────────────┐\n",
       "│   │         b         M         F │\n",
       "├───┼───────────────────────────────┤\n",
       "│ b │  4.97e-08 -5.11e-08 -3.36e-08 │\n",
       "│ M │ -5.11e-08  0.000229  6.04e-07 │\n",
       "│ F │ -3.36e-08  6.04e-07  1.35e-06 │\n",
       "└───┴───────────────────────────────┘"
      ]
     },
     "execution_count": 703,
     "metadata": {},
     "output_type": "execute_result"
    }
   ],
   "source": [
    "m_lin.migrad()"
   ]
  },
  {
   "cell_type": "code",
   "execution_count": 704,
   "id": "1667705c",
   "metadata": {},
   "outputs": [],
   "source": [
    "#generate optimized function using minuits parameters\n",
    "y_lin = func3(t, -90.41e-3, 2.465, 0.9801)"
   ]
  },
  {
   "cell_type": "code",
   "execution_count": 705,
   "id": "550cd0d6",
   "metadata": {},
   "outputs": [
    {
     "data": {
      "image/png": "[encoded data removed]",
      "text/plain": [
       "<Figure size 432x288 with 1 Axes>"
      ]
     },
     "metadata": {
      "needs_background": "light"
     },
     "output_type": "display_data"
    }
   ],
   "source": [
    "plt.plot(t,y_lin)\n",
    "plt.hist(DATA,bins=100,density=True,color='cyan')\n",
    "plt.title('Data fitted with a linear background');"
   ]
  },
  {
   "cell_type": "markdown",
   "id": "24cbd0f6",
   "metadata": {},
   "source": [
    "Fitting the background to a straight line gives us a mass value of $2.456 \\pm 0.015$, where $\\pm 0.015$ is the statistical error. We expect the mean of the mass value (2.456) to be off from the expected value (2.5) as we can clearly see this approximation does not fit the histogram of data very well. "
   ]
  },
  {
   "cell_type": "markdown",
   "id": "1072fc43",
   "metadata": {},
   "source": [
    "### Systematic errors"
   ]
  },
  {
   "cell_type": "markdown",
   "id": "fe8fa4ae",
   "metadata": {},
   "source": [
    "#### Systematic error: Method 1"
   ]
  },
  {
   "cell_type": "code",
   "execution_count": 706,
   "id": "a0ab15d9",
   "metadata": {},
   "outputs": [
    {
     "data": {
      "text/html": [
       "<table>\n",
       "    <tr>\n",
       "        <th colspan=\"5\" style=\"text-align:center\" title=\"Minimizer\"> Migrad </th>\n",
       "    </tr>\n",
       "    <tr>\n",
       "        <td colspan=\"2\" style=\"text-align:left\" title=\"Minimum value of function\"> FCN = 2.155e+05 </td>\n",
       "        <td colspan=\"3\" style=\"text-align:center\" title=\"No. of function evaluations in last call and total number\"> Nfcn = 58 </td>\n",
       "    </tr>\n",
       "    <tr>\n",
       "        <td colspan=\"2\" style=\"text-align:left\" title=\"Estimated distance to minimum and goal\"> EDM = 1.1e-07 (Goal: 0.0001) </td>\n",
       "        <td colspan=\"3\" style=\"text-align:center\" title=\"No. of gradient evaluations in last call and total number\">  </td>\n",
       "    </tr>\n",
       "    <tr>\n",
       "        <td colspan=\"2\" style=\"text-align:center;background-color:#92CCA6;color:black\"> Valid Minimum </td>\n",
       "        <td colspan=\"3\" style=\"text-align:center;background-color:#92CCA6;color:black\"> No Parameters at limit </td>\n",
       "    </tr>\n",
       "    <tr>\n",
       "        <td colspan=\"2\" style=\"text-align:center;background-color:#92CCA6;color:black\"> Below EDM threshold (goal x 10) </td>\n",
       "        <td colspan=\"3\" style=\"text-align:center;background-color:#92CCA6;color:black\"> Below call limit </td>\n",
       "    </tr>\n",
       "    <tr>\n",
       "        <td style=\"text-align:center;background-color:#92CCA6;color:black\"> Covariance </td>\n",
       "        <td style=\"text-align:center;background-color:#92CCA6;color:black\"> Hesse ok </td>\n",
       "        <td style=\"text-align:center;background-color:#92CCA6;color:black\" title=\"Is covariance matrix accurate?\"> Accurate </td>\n",
       "        <td style=\"text-align:center;background-color:#92CCA6;color:black\" title=\"Is covariance matrix positive definite?\"> Pos. def. </td>\n",
       "        <td style=\"text-align:center;background-color:#92CCA6;color:black\" title=\"Was positive definiteness enforced by Minuit?\"> Not forced </td>\n",
       "    </tr>\n",
       "</table><table>\n",
       "    <tr>\n",
       "        <td></td>\n",
       "        <th title=\"Variable name\"> Name </th>\n",
       "        <th title=\"Value of parameter\"> Value </th>\n",
       "        <th title=\"Hesse error\"> Hesse Error </th>\n",
       "        <th title=\"Minos lower error\"> Minos Error- </th>\n",
       "        <th title=\"Minos upper error\"> Minos Error+ </th>\n",
       "        <th title=\"Lower limit of the parameter\"> Limit- </th>\n",
       "        <th title=\"Upper limit of the parameter\"> Limit+ </th>\n",
       "        <th title=\"Is the parameter fixed in the fit\"> Fixed </th>\n",
       "    </tr>\n",
       "    <tr>\n",
       "        <th> 0 </th>\n",
       "        <td> b </td>\n",
       "        <td> -90.40e-3 </td>\n",
       "        <td> 0.22e-3 </td>\n",
       "        <td>  </td>\n",
       "        <td>  </td>\n",
       "        <td>  </td>\n",
       "        <td>  </td>\n",
       "        <td>  </td>\n",
       "    </tr>\n",
       "    <tr>\n",
       "        <th> 1 </th>\n",
       "        <td> M </td>\n",
       "        <td> 2.465 </td>\n",
       "        <td> 0.015 </td>\n",
       "        <td>  </td>\n",
       "        <td>  </td>\n",
       "        <td>  </td>\n",
       "        <td>  </td>\n",
       "        <td>  </td>\n",
       "    </tr>\n",
       "    <tr>\n",
       "        <th> 2 </th>\n",
       "        <td> F </td>\n",
       "        <td> 0.9801 </td>\n",
       "        <td> 0.0012 </td>\n",
       "        <td>  </td>\n",
       "        <td>  </td>\n",
       "        <td>  </td>\n",
       "        <td>  </td>\n",
       "        <td>  </td>\n",
       "    </tr>\n",
       "</table><table>\n",
       "    <tr>\n",
       "        <td></td>\n",
       "        <th> b </th>\n",
       "        <th> M </th>\n",
       "        <th> F </th>\n",
       "    </tr>\n",
       "    <tr>\n",
       "        <th> b </th>\n",
       "        <td> 4.97e-08 </td>\n",
       "        <td style=\"background-color:rgb(248,248,250);color:black\"> -5.11e-08 <strong>(-0.015)</strong> </td>\n",
       "        <td style=\"background-color:rgb(233,233,250);color:black\"> -3.36e-08 <strong>(-0.130)</strong> </td>\n",
       "    </tr>\n",
       "    <tr>\n",
       "        <th> M </th>\n",
       "        <td style=\"background-color:rgb(248,248,250);color:black\"> -5.11e-08 <strong>(-0.015)</strong> </td>\n",
       "        <td> 0.000229 </td>\n",
       "        <td style=\"background-color:rgb(250,245,245);color:black\"> 6.03e-07 <strong>(0.034)</strong> </td>\n",
       "    </tr>\n",
       "    <tr>\n",
       "        <th> F </th>\n",
       "        <td style=\"background-color:rgb(233,233,250);color:black\"> -3.36e-08 <strong>(-0.130)</strong> </td>\n",
       "        <td style=\"background-color:rgb(250,245,245);color:black\"> 6.03e-07 <strong>(0.034)</strong> </td>\n",
       "        <td> 1.35e-06 </td>\n",
       "    </tr>\n",
       "</table>"
      ],
      "text/plain": [
       "┌─────────────────────────────────────────────────────────────────────────┐\n",
       "│                                Migrad                                   │\n",
       "├──────────────────────────────────┬──────────────────────────────────────┤\n",
       "│ FCN = 2.155e+05                  │              Nfcn = 58               │\n",
       "│ EDM = 1.1e-07 (Goal: 0.0001)     │                                      │\n",
       "├──────────────────────────────────┼──────────────────────────────────────┤\n",
       "│          Valid Minimum           │        No Parameters at limit        │\n",
       "├──────────────────────────────────┼──────────────────────────────────────┤\n",
       "│ Below EDM threshold (goal x 10)  │           Below call limit           │\n",
       "├───────────────┬──────────────────┼───────────┬─────────────┬────────────┤\n",
       "│  Covariance   │     Hesse ok     │ Accurate  │  Pos. def.  │ Not forced │\n",
       "└───────────────┴──────────────────┴───────────┴─────────────┴────────────┘\n",
       "┌───┬──────┬───────────┬───────────┬────────────┬────────────┬─────────┬─────────┬───────┐\n",
       "│   │ Name │   Value   │ Hesse Err │ Minos Err- │ Minos Err+ │ Limit-  │ Limit+  │ Fixed │\n",
       "├───┼──────┼───────────┼───────────┼────────────┼────────────┼─────────┼─────────┼───────┤\n",
       "│ 0 │ b    │ -90.40e-3 │  0.22e-3  │            │            │         │         │       │\n",
       "│ 1 │ M    │   2.465   │   0.015   │            │            │         │         │       │\n",
       "│ 2 │ F    │  0.9801   │  0.0012   │            │            │         │         │       │\n",
       "└───┴──────┴───────────┴───────────┴────────────┴────────────┴─────────┴─────────┴───────┘\n",
       "┌───┬───────────────────────────────┐\n",
       "│   │         b         M         F │\n",
       "├───┼───────────────────────────────┤\n",
       "│ b │  4.97e-08 -5.11e-08 -3.36e-08 │\n",
       "│ M │ -5.11e-08  0.000229  6.03e-07 │\n",
       "│ F │ -3.36e-08  6.03e-07  1.35e-06 │\n",
       "└───┴───────────────────────────────┘"
      ]
     },
     "execution_count": 706,
     "metadata": {},
     "output_type": "execute_result"
    }
   ],
   "source": [
    "#taking M to be 2.456 + 0.015\n",
    "m_lin1 = Minuit(get_NLL3, b = -0.09, M = (2.456 + 0.015), F = 0.98)\n",
    "m_lin1.migrad()"
   ]
  },
  {
   "cell_type": "code",
   "execution_count": 707,
   "id": "6263f4c0",
   "metadata": {},
   "outputs": [
    {
     "data": {
      "text/html": [
       "<table>\n",
       "    <tr>\n",
       "        <th colspan=\"5\" style=\"text-align:center\" title=\"Minimizer\"> Migrad </th>\n",
       "    </tr>\n",
       "    <tr>\n",
       "        <td colspan=\"2\" style=\"text-align:left\" title=\"Minimum value of function\"> FCN = 2.155e+05 </td>\n",
       "        <td colspan=\"3\" style=\"text-align:center\" title=\"No. of function evaluations in last call and total number\"> Nfcn = 56 </td>\n",
       "    </tr>\n",
       "    <tr>\n",
       "        <td colspan=\"2\" style=\"text-align:left\" title=\"Estimated distance to minimum and goal\"> EDM = 7.55e-07 (Goal: 0.0001) </td>\n",
       "        <td colspan=\"3\" style=\"text-align:center\" title=\"No. of gradient evaluations in last call and total number\">  </td>\n",
       "    </tr>\n",
       "    <tr>\n",
       "        <td colspan=\"2\" style=\"text-align:center;background-color:#92CCA6;color:black\"> Valid Minimum </td>\n",
       "        <td colspan=\"3\" style=\"text-align:center;background-color:#92CCA6;color:black\"> No Parameters at limit </td>\n",
       "    </tr>\n",
       "    <tr>\n",
       "        <td colspan=\"2\" style=\"text-align:center;background-color:#92CCA6;color:black\"> Below EDM threshold (goal x 10) </td>\n",
       "        <td colspan=\"3\" style=\"text-align:center;background-color:#92CCA6;color:black\"> Below call limit </td>\n",
       "    </tr>\n",
       "    <tr>\n",
       "        <td style=\"text-align:center;background-color:#92CCA6;color:black\"> Covariance </td>\n",
       "        <td style=\"text-align:center;background-color:#92CCA6;color:black\"> Hesse ok </td>\n",
       "        <td style=\"text-align:center;background-color:#92CCA6;color:black\" title=\"Is covariance matrix accurate?\"> Accurate </td>\n",
       "        <td style=\"text-align:center;background-color:#92CCA6;color:black\" title=\"Is covariance matrix positive definite?\"> Pos. def. </td>\n",
       "        <td style=\"text-align:center;background-color:#92CCA6;color:black\" title=\"Was positive definiteness enforced by Minuit?\"> Not forced </td>\n",
       "    </tr>\n",
       "</table><table>\n",
       "    <tr>\n",
       "        <td></td>\n",
       "        <th title=\"Variable name\"> Name </th>\n",
       "        <th title=\"Value of parameter\"> Value </th>\n",
       "        <th title=\"Hesse error\"> Hesse Error </th>\n",
       "        <th title=\"Minos lower error\"> Minos Error- </th>\n",
       "        <th title=\"Minos upper error\"> Minos Error+ </th>\n",
       "        <th title=\"Lower limit of the parameter\"> Limit- </th>\n",
       "        <th title=\"Upper limit of the parameter\"> Limit+ </th>\n",
       "        <th title=\"Is the parameter fixed in the fit\"> Fixed </th>\n",
       "    </tr>\n",
       "    <tr>\n",
       "        <th> 0 </th>\n",
       "        <td> b </td>\n",
       "        <td> -90.40e-3 </td>\n",
       "        <td> 0.22e-3 </td>\n",
       "        <td>  </td>\n",
       "        <td>  </td>\n",
       "        <td>  </td>\n",
       "        <td>  </td>\n",
       "        <td>  </td>\n",
       "    </tr>\n",
       "    <tr>\n",
       "        <th> 1 </th>\n",
       "        <td> M </td>\n",
       "        <td> 2.465 </td>\n",
       "        <td> 0.015 </td>\n",
       "        <td>  </td>\n",
       "        <td>  </td>\n",
       "        <td>  </td>\n",
       "        <td>  </td>\n",
       "        <td>  </td>\n",
       "    </tr>\n",
       "    <tr>\n",
       "        <th> 2 </th>\n",
       "        <td> F </td>\n",
       "        <td> 0.9801 </td>\n",
       "        <td> 0.0012 </td>\n",
       "        <td>  </td>\n",
       "        <td>  </td>\n",
       "        <td>  </td>\n",
       "        <td>  </td>\n",
       "        <td>  </td>\n",
       "    </tr>\n",
       "</table><table>\n",
       "    <tr>\n",
       "        <td></td>\n",
       "        <th> b </th>\n",
       "        <th> M </th>\n",
       "        <th> F </th>\n",
       "    </tr>\n",
       "    <tr>\n",
       "        <th> b </th>\n",
       "        <td> 4.97e-08 </td>\n",
       "        <td style=\"background-color:rgb(248,248,250);color:black\"> -5.11e-08 <strong>(-0.015)</strong> </td>\n",
       "        <td style=\"background-color:rgb(233,233,250);color:black\"> -3.36e-08 <strong>(-0.130)</strong> </td>\n",
       "    </tr>\n",
       "    <tr>\n",
       "        <th> M </th>\n",
       "        <td style=\"background-color:rgb(248,248,250);color:black\"> -5.11e-08 <strong>(-0.015)</strong> </td>\n",
       "        <td> 0.000229 </td>\n",
       "        <td style=\"background-color:rgb(250,245,245);color:black\"> 6.03e-07 <strong>(0.034)</strong> </td>\n",
       "    </tr>\n",
       "    <tr>\n",
       "        <th> F </th>\n",
       "        <td style=\"background-color:rgb(233,233,250);color:black\"> -3.36e-08 <strong>(-0.130)</strong> </td>\n",
       "        <td style=\"background-color:rgb(250,245,245);color:black\"> 6.03e-07 <strong>(0.034)</strong> </td>\n",
       "        <td> 1.35e-06 </td>\n",
       "    </tr>\n",
       "</table>"
      ],
      "text/plain": [
       "┌─────────────────────────────────────────────────────────────────────────┐\n",
       "│                                Migrad                                   │\n",
       "├──────────────────────────────────┬──────────────────────────────────────┤\n",
       "│ FCN = 2.155e+05                  │              Nfcn = 56               │\n",
       "│ EDM = 7.55e-07 (Goal: 0.0001)    │                                      │\n",
       "├──────────────────────────────────┼──────────────────────────────────────┤\n",
       "│          Valid Minimum           │        No Parameters at limit        │\n",
       "├──────────────────────────────────┼──────────────────────────────────────┤\n",
       "│ Below EDM threshold (goal x 10)  │           Below call limit           │\n",
       "├───────────────┬──────────────────┼───────────┬─────────────┬────────────┤\n",
       "│  Covariance   │     Hesse ok     │ Accurate  │  Pos. def.  │ Not forced │\n",
       "└───────────────┴──────────────────┴───────────┴─────────────┴────────────┘\n",
       "┌───┬──────┬───────────┬───────────┬────────────┬────────────┬─────────┬─────────┬───────┐\n",
       "│   │ Name │   Value   │ Hesse Err │ Minos Err- │ Minos Err+ │ Limit-  │ Limit+  │ Fixed │\n",
       "├───┼──────┼───────────┼───────────┼────────────┼────────────┼─────────┼─────────┼───────┤\n",
       "│ 0 │ b    │ -90.40e-3 │  0.22e-3  │            │            │         │         │       │\n",
       "│ 1 │ M    │   2.465   │   0.015   │            │            │         │         │       │\n",
       "│ 2 │ F    │  0.9801   │  0.0012   │            │            │         │         │       │\n",
       "└───┴──────┴───────────┴───────────┴────────────┴────────────┴─────────┴─────────┴───────┘\n",
       "┌───┬───────────────────────────────┐\n",
       "│   │         b         M         F │\n",
       "├───┼───────────────────────────────┤\n",
       "│ b │  4.97e-08 -5.11e-08 -3.36e-08 │\n",
       "│ M │ -5.11e-08  0.000229  6.03e-07 │\n",
       "│ F │ -3.36e-08  6.03e-07  1.35e-06 │\n",
       "└───┴───────────────────────────────┘"
      ]
     },
     "execution_count": 707,
     "metadata": {},
     "output_type": "execute_result"
    }
   ],
   "source": [
    "#taking M to be 2.456 - 0.015\n",
    "m_lin2 = Minuit(get_NLL3, b = -0.09, M = (2.456 - 0.015), F = 0.98)\n",
    "m_lin2.migrad()"
   ]
  },
  {
   "cell_type": "code",
   "execution_count": 708,
   "id": "e544f49a",
   "metadata": {},
   "outputs": [],
   "source": [
    "#calculate shift of central value from exponential to linear\n",
    "shift_lin1 = m_exp.values[1]-m_lin1.values[1]\n",
    "shift_lin2 = m_exp.values[1]-m_lin2.values[1]"
   ]
  },
  {
   "cell_type": "code",
   "execution_count": 710,
   "id": "a00bf1d1",
   "metadata": {},
   "outputs": [
    {
     "name": "stdout",
     "output_type": "stream",
     "text": [
      "0.03315005887905342\n"
     ]
    }
   ],
   "source": [
    "#get average of + and - shifts\n",
    "print((shift_lin1+shift_lin2)/2)"
   ]
  },
  {
   "cell_type": "markdown",
   "id": "4c71fb70",
   "metadata": {},
   "source": [
    "The systematic error given by the linear fit is $\\text{E}_{\\text{syst}} = \\pm \\text{0.033}$. This is taken from the shift in the mass mean M, by comparing M from the exponential background fit and M from the linear background fit. We expect the systematic error to be much larger than that of the polynomial as it clearly does not fit as well."
   ]
  },
  {
   "cell_type": "markdown",
   "id": "3bc47ecf",
   "metadata": {},
   "source": [
    "#### Systematic error: Method 2"
   ]
  },
  {
   "cell_type": "code",
   "execution_count": 716,
   "id": "8c55be3b",
   "metadata": {},
   "outputs": [],
   "source": [
    "count = 0\n",
    "shift_lin = []\n",
    "while count<100:\n",
    "    \n",
    "    #Pick random values of Gr from a Gaussian distribution centred on G with width EG\n",
    "    G_rand_lin = np.random.normal(loc=m_lin.values[1], scale=m_lin.errors[1])\n",
    "    \n",
    "    #Re-run the fit with each G_rand and measure the set of shifts it induces on the best fit physics parameters. \n",
    "    m_rand_lin = Minuit(get_NLL3, b = -0.09, M = G_rand_lin, F = 0.98)\n",
    "    m_rand_lin.migrad()\n",
    "    \n",
    "    #append to shift list\n",
    "    shift_lin.append(m_exp.values[1]-m_rand_lin.values[1])\n",
    "    count +=1"
   ]
  },
  {
   "cell_type": "code",
   "execution_count": 764,
   "id": "260afd42",
   "metadata": {},
   "outputs": [
    {
     "data": {
      "image/png": "[encoded data removed]",
      "text/plain": [
       "<Figure size 432x288 with 1 Axes>"
      ]
     },
     "metadata": {
      "needs_background": "light"
     },
     "output_type": "display_data"
    }
   ],
   "source": [
    "plt.hist(shift_lin,bins=30,color='cyan');\n",
    "plt.title('A histogram showing shifts of the central value M')\n",
    "plt.show()"
   ]
  },
  {
   "cell_type": "code",
   "execution_count": 718,
   "id": "d6f126b9",
   "metadata": {},
   "outputs": [
    {
     "name": "stdout",
     "output_type": "stream",
     "text": [
      "mean and standard deviation are 0.03315777176277114 and 2.659040824991017e-05 respectively\n"
     ]
    }
   ],
   "source": [
    "#fitting histogram to gaussian\n",
    "mu,std = stats.norm.fit(shift_lin, loc=0, scale=1) \n",
    "print('mean and standard deviation are', mu, 'and', std,'respectively')"
   ]
  },
  {
   "cell_type": "code",
   "execution_count": 742,
   "id": "acf05c40",
   "metadata": {},
   "outputs": [
    {
     "name": "stdout",
     "output_type": "stream",
     "text": [
      "E_syst = 0.03315005887905342\n",
      "E_stat = 0.015138099766547652\n"
     ]
    }
   ],
   "source": [
    "#statistical error\n",
    "Estat_lin = m_lin.errors[1]\n",
    "\n",
    "#systematic error\n",
    "Esyst_lin = (shift_lin1+shift_lin2)/2\n",
    "\n",
    "print('E_syst =',Esyst_lin)\n",
    "print('E_stat =',Estat_lin)"
   ]
  },
  {
   "cell_type": "markdown",
   "id": "548f1192",
   "metadata": {},
   "source": [
    "Again method 2 generates a narrow gaussian, where the mean of this gaussian is taken to be the systematic error, which we can see here again agrees with Method 1. The systematic error given by the linear fit is $\\text{E}_{\\text{syst}} = \\pm \\text{0.033}$ and the statistical error $\\pm 0.015$. "
   ]
  },
  {
   "cell_type": "markdown",
   "id": "aa4e92f5",
   "metadata": {},
   "source": [
    "The value of M with statistical and systematic errors is given by $\\text{Value} \\pm E_{stat} \\pm E_{syst}:$\n",
    "\n",
    "$\\text{M}_{\\text{lin}} = 2.456 \\pm 0.015 \\pm 0.033 \\newline$"
   ]
  },
  {
   "cell_type": "markdown",
   "id": "16ea0eff",
   "metadata": {},
   "source": [
    "Using $E_{tot} = \\sqrt{( E_{stat}^2 + E_{syst}^2 )}$, we calculate total error by adding in quadrature"
   ]
  },
  {
   "cell_type": "code",
   "execution_count": 743,
   "id": "f26c46fd",
   "metadata": {},
   "outputs": [
    {
     "name": "stdout",
     "output_type": "stream",
     "text": [
      "E_tot = 0.0364429481275412\n"
     ]
    }
   ],
   "source": [
    "Etot_lin = np.sqrt(Estat_lin**2 + Esyst_lin**2)\n",
    "print('E_tot =',Etot_lin)"
   ]
  },
  {
   "cell_type": "markdown",
   "id": "10362511",
   "metadata": {},
   "source": [
    "The value of M with total errors is given by $\\text{Value} \\pm E_{tot}:$\n",
    "\n",
    "$\\text{M}_{\\text{lin}} = 2.456 \\pm 0.036$"
   ]
  },
  {
   "cell_type": "code",
   "execution_count": 766,
   "id": "e5120146",
   "metadata": {},
   "outputs": [
    {
     "name": "stdout",
     "output_type": "stream",
     "text": [
      "Statistical errors: 0.015625812492444626 0.015138099766547652 0.014569836952350233\n",
      "Systematic errors: 0.004226683247484209 0.03315005887905342\n"
     ]
    }
   ],
   "source": [
    "#get statistical errors of each model\n",
    "print('Statistical errors:',Estat_poly,Estat_lin,Estat_exp)\n",
    "\n",
    "#get systematic errors of each model\n",
    "print('Systematic errors:',Esyst_poly,Esyst_lin)"
   ]
  },
  {
   "cell_type": "markdown",
   "id": "6b420824",
   "metadata": {},
   "source": [
    "As expected, the best most accurate mean was given by the exponential model (2.499), then the second degree polynomial (2.494) and lastly the linear model (2.456), where the true value was 2.5. The statistical errors are very similar for all three models as this is due to the minimization, for which the same method has been used each time. The systematic error is larger for linear than the polynomial, as the linear model differentiates the most from the true fit. This (incorrect) assumption of the background results in a skew in the mean of the signal, and thus generates a larger systematic error as the nature of the background's shape is unknown.\n"
   ]
  }
 ],
 "metadata": {
  "kernelspec": {
   "display_name": "Python 3 (ipykernel)",
   "language": "python",
   "name": "python3"
  },
  "language_info": {
   "codemirror_mode": {
    "name": "ipython",
    "version": 3
   },
   "file_extension": ".py",
   "mimetype": "text/x-python",
   "name": "python",
   "nbconvert_exporter": "python",
   "pygments_lexer": "ipython3",
   "version": "3.7.10"
  }
 },
 "nbformat": 4,
 "nbformat_minor": 5
}
