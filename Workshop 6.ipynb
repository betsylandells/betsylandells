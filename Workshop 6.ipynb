{
 "cells": [
  {
   "cell_type": "markdown",
   "id": "9074ef7b",
   "metadata": {
    "deletable": false,
    "editable": false,
    "nbgrader": {
     "cell_type": "markdown",
     "checksum": "cda377e24f430c2f3b2317a2aece8e32",
     "grade": false,
     "grade_id": "cell-c2a14891e4142abb",
     "locked": true,
     "schema_version": 3,
     "solution": false,
     "task": false
    }
   },
   "source": [
    "# Numerical Recipes Workshop 6\n",
    "\n",
    "Week 1Nov - 6 Nov 2021\n",
    "\n",
    "**Please submit your notebook via Noteable by the Friday 6pm. \n",
    " \n",
    "**IMPORTANT!** Before submitting your notebook, clear the output by clicking *Restart & Clear Output* from the *Kernel* menu. If you do not do this, the file size of your notebook will be very large.\n",
    "\n",
    "### Learning Objectives\n",
    "\n",
    "* Curve fitting \n",
    "* Least square fitting\n",
    "* Linear regression \n",
    "* Maximum likelihood modeling\n",
    "\n",
    "Please complete the workshop notebook before beginning on the checkpoint. **The workshop notebooks demonstrate everything you need to complete the checkpoints.**"
   ]
  },
  {
   "cell_type": "code",
   "execution_count": 1,
   "id": "7e908cb1",
   "metadata": {},
   "outputs": [],
   "source": [
    "import numpy as np\n",
    "import matplotlib.pyplot as plt\n",
    "import scipy.optimize as scopt\n",
    "import scipy.linalg\n",
    "import scipy.stats\n",
    "%matplotlib inline"
   ]
  },
  {
   "cell_type": "markdown",
   "id": "3f6c2a96",
   "metadata": {
    "deletable": false,
    "editable": false,
    "nbgrader": {
     "cell_type": "markdown",
     "checksum": "8936cb682b11dfcdd406d63ef24ad454",
     "grade": false,
     "grade_id": "cell-1e4d523efde4b41a",
     "locked": true,
     "schema_version": 3,
     "solution": false,
     "task": false
    }
   },
   "source": [
    "# Curve fitting \n",
    "\n",
    "The curve fitting is usually done by optimizing the chi-square statistic which is is the sum\n",
    " of squares of residuals between the data and the model normalized by the errors\n",
    "    \n",
    "In python the simplest way to do that is with  `scipy.optimize.curve_fit`\n",
    "\n",
    "Here we are going to fit the data with the model \n",
    "$$y = p_0 + p_1  x + exp(p_2  x) + p_3  arctan(p_4*x)$$\n",
    "Lets first generate the data"
   ]
  },
  {
   "cell_type": "code",
   "execution_count": 2,
   "id": "f7adfb9b",
   "metadata": {
    "deletable": false,
    "editable": false,
    "nbgrader": {
     "cell_type": "code",
     "checksum": "399d072326f154064af4d3df9f7af548",
     "grade": false,
     "grade_id": "cell-00af23d81f91637b",
     "locked": true,
     "schema_version": 3,
     "solution": false,
     "task": false
    }
   },
   "outputs": [
    {
     "data": {
      "text/plain": [
       "<ErrorbarContainer object of 3 artists>"
      ]
     },
     "execution_count": 2,
     "metadata": {},
     "output_type": "execute_result"
    },
    {
     "data": {
      "image/png": "[encoded data removed]",
      "text/plain": [
       "<Figure size 432x288 with 1 Axes>"
      ]
     },
     "metadata": {
      "needs_background": "light"
     },
     "output_type": "display_data"
    }
   ],
   "source": [
    "# true value of our parameters \n",
    "ptrue = [6, 1, .5, 3, 4]\n",
    "\n",
    "rng = np.random.default_rng(323)\n",
    "def gendata(N):\n",
    "    xs = rng.uniform(-4, 4, N)\n",
    "    errs = rng.uniform(.2,1,N)\n",
    "    ytrue = ptrue[0] + ptrue[1] * xs + np.exp(ptrue[2] * xs) - np.arctan(ptrue[3]*xs) \n",
    "    ys = ytrue + np.random.normal(size=N)*errs\n",
    "    return xs, ys, errs\n",
    "\n",
    "X, Y, E = gendata(100)\n",
    "plt.errorbar(X, Y, E, fmt='.')\n"
   ]
  },
  {
   "cell_type": "markdown",
   "id": "4a86e27c",
   "metadata": {
    "deletable": false,
    "editable": false,
    "nbgrader": {
     "cell_type": "markdown",
     "checksum": "47c515063bb6ac9469bc0306f6af9c90",
     "grade": false,
     "grade_id": "cell-bcf3b7fc6f2d8cb2",
     "locked": true,
     "schema_version": 3,
     "solution": false,
     "task": false
    }
   },
   "source": [
    "# Challenge\n",
    "\n",
    "Fit the data using curve_fit(). Make sure to provide the uncertainties on Y as well \n",
    "as the starting point of the fit. \n",
    "\n",
    "Check that you extract parameter values that are close to ptrue.\n",
    "\n",
    "Verify the impact of specifying different starting points p0. For example try to start from point [10,10,10,10] and see \n",
    "the impact of that.\n",
    "\n",
    "The curve_fit also returns the covariance matrix on the measured parameters which is the measure of uncertainties and correlations between measured parameters. Use the `np.sqrt(np.diag(cov))` to extra the standard deviation (uncertainties) vector for the parameters."
   ]
  },
  {
   "cell_type": "code",
   "execution_count": 24,
   "id": "267081e8",
   "metadata": {
    "deletable": false,
    "nbgrader": {
     "cell_type": "code",
     "checksum": "0b325ff9afa8b3af1c97f098692075bd",
     "grade": true,
     "grade_id": "cell-3e49413c232c2ff7",
     "locked": false,
     "points": 0,
     "schema_version": 3,
     "solution": true,
     "task": false
    }
   },
   "outputs": [
    {
     "data": {
      "text/plain": [
       "array([0.05481487, 0.00833475, 0.00341513, 0.74547341])"
      ]
     },
     "execution_count": 24,
     "metadata": {},
     "output_type": "execute_result"
    }
   ],
   "source": [
    "def modelfunc(xdata, p0, p1, p2, p3,):\n",
    "    return p0 + p1 * xdata + np.exp(p2*xdata) - np.arctan(p3*xdata) \n",
    "# YOUR CODE HERE\n",
    "curvefit = scipy.optimize.curve_fit(modelfunc, X, Y, sigma=E,p0=[1,1,1,1])\n",
    "curvefit[0]\n",
    "np.abs(curvefit[0]-ptrue[:-1])"
   ]
  },
  {
   "cell_type": "code",
   "execution_count": 15,
   "id": "medieval-controversy",
   "metadata": {},
   "outputs": [
    {
     "data": {
      "text/plain": [
       "array([5.91696446e+00, 1.04283769e+00, 5.10442067e-01, 8.31737012e+14])"
      ]
     },
     "execution_count": 15,
     "metadata": {},
     "output_type": "execute_result"
    }
   ],
   "source": [
    "curvefit = scipy.optimize.curve_fit(modelfunc, X, Y, sigma=E,p0=[10,10,10,10])\n",
    "curvefit[0]"
   ]
  },
  {
   "cell_type": "markdown",
   "id": "013958c3",
   "metadata": {
    "deletable": false,
    "editable": false,
    "nbgrader": {
     "cell_type": "markdown",
     "checksum": "e0fc07b751aa7df8890256f8efa8084f",
     "grade": false,
     "grade_id": "cell-47761ec364632900",
     "locked": true,
     "schema_version": 3,
     "solution": false,
     "task": false
    }
   },
   "source": [
    "# Least-squares fit\n",
    "\n",
    "While the curve_fit is a convenient method of fitting 1D curves \n",
    "\n",
    "a more generic fitting routine is `scipy.optimize.least_squares` that optimizes the sum of squares of values returned by your function. \n",
    "\n",
    "https://docs.scipy.org/doc/scipy/reference/generated/scipy.optimize.least_squares.html\n",
    "\n",
    "The `scipy.optimize.least_squares` expects a function that takes parameters as a vector and then returns the vector of deviations between data and model \n",
    "\n",
    "```\n",
    "def func(p, ... ):\n",
    "    return (data-model)/err\n",
    "```\n",
    "\n",
    "The `least_squares` then minimizes the sum of squares of all the values returned by this function.\n",
    "\n",
    "### Challenge\n",
    "\n",
    "Fit the same parametric model to the data we obtained before by using least_squares() routine."
   ]
  },
  {
   "cell_type": "code",
   "execution_count": 52,
   "id": "4c885213",
   "metadata": {
    "deletable": false,
    "nbgrader": {
     "cell_type": "code",
     "checksum": "a2b7a5c57f4f62c36fc1c24ec51aa50e",
     "grade": true,
     "grade_id": "cell-46bee2e195bdf2e9",
     "locked": false,
     "points": 0,
     "schema_version": 3,
     "solution": true,
     "task": false
    }
   },
   "outputs": [
    {
     "data": {
      "text/plain": [
       "array([ 1.67991169e-01,  1.71590738e+00, -9.12876581e-05,  9.71765599e+00])"
      ]
     },
     "execution_count": 52,
     "metadata": {},
     "output_type": "execute_result"
    }
   ],
   "source": [
    "def modelfunc2(p, x, y, err):\n",
    "    model = p[0] + p[1] * x + np.exp(p[2] * x) - np.arctan(p[3] * x)\n",
    "    resid = (y-model)/err\n",
    "    return resid\n",
    "f = modelfunc2(ptrue,X,Y,E)\n",
    "# YOUR CODE HERE\n",
    "least_squares = scipy.optimize.least_squares(modelfunc2,[1,1,1,1],args=(X,Y,E))\n",
    "least_squares.x"
   ]
  },
  {
   "cell_type": "markdown",
   "id": "2ba1703f",
   "metadata": {
    "deletable": false,
    "editable": false,
    "nbgrader": {
     "cell_type": "markdown",
     "checksum": "048dd8984f9e61487e0f6c7caa6585f2",
     "grade": false,
     "grade_id": "cell-68a3a833a4d13876",
     "locked": true,
     "schema_version": 3,
     "solution": false,
     "task": false
    }
   },
   "source": [
    "# Linear regression \n",
    "\n",
    "\n",
    "A large range of models are linear in their parameteters, for example the models fitting the data by polynomials\n",
    "\n",
    "$$ y = p_0 + p_1  x + p_2  x^2 + p_3 x ^3$$\n",
    "\n",
    "It is important that although the model itself is not linear, it is linear with respect to the parameters $p_i$. \n",
    "That allows us to more efficiently fit it using for example `scipy.linalg.lstsq` https://docs.scipy.org/doc/scipy/reference/generated/scipy.linalg.lstsq.html which is the procedure that does *NOT* requires iteratively minimizing a function. \n",
    "\n",
    "## Challenge\n",
    "\n",
    "To fit using the lstsq we need to construct the design matrix A and the data vector D. \n",
    "\n",
    "Remember that the design matrix is such a matrix that the model vector $M$ could be written as\n",
    "$$ M = A p $$\n",
    "\n",
    "where p is the vector of parameters. \n",
    "\n",
    "With the design matrix and data vector the `lstsq` routine will find the parameter vector minimizing $||D-Ap||^2$ where ||.|| is the norm (or Euclidean length) operator.\n",
    "\n",
    "First lets generate the data using 3rd order polynomial"
   ]
  },
  {
   "cell_type": "code",
   "execution_count": 111,
   "id": "e1ddf691",
   "metadata": {},
   "outputs": [
    {
     "data": {
      "text/plain": [
       "<ErrorbarContainer object of 3 artists>"
      ]
     },
     "execution_count": 111,
     "metadata": {},
     "output_type": "execute_result"
    },
    {
     "data": {
      "image/png": "[encoded data removed]",
      "text/plain": [
       "<Figure size 432x288 with 1 Axes>"
      ]
     },
     "metadata": {
      "needs_background": "light"
     },
     "output_type": "display_data"
    }
   ],
   "source": [
    "ptrue = [5, 2, -.1, -.01]\n",
    "rst = np.random.default_rng(434)\n",
    "def gendata(N):\n",
    "    xs = rst.uniform(-10, 10, N)\n",
    "    ys = ptrue[0] + ptrue[1] * xs + ptrue[2]*xs**2 + ptrue[3]*xs**3\n",
    "    errs = rst.uniform(1,3,N)\n",
    "    ys = ys + rst.normal(size=N) * errs\n",
    "    return xs, ys, errs\n",
    "\n",
    "X, Y, E = gendata(100)\n",
    "plt.errorbar(X, Y, E, fmt='.')"
   ]
  },
  {
   "cell_type": "markdown",
   "id": "be199026",
   "metadata": {
    "deletable": false,
    "editable": false,
    "nbgrader": {
     "cell_type": "markdown",
     "checksum": "9939134b84d0edd19835bdeeeca8faf6",
     "grade": false,
     "grade_id": "cell-c00d91ac65e14a86",
     "locked": true,
     "schema_version": 3,
     "solution": false,
     "task": false
    }
   },
   "source": [
    "Now you need to write the function that does the linear regression fitting below. \n",
    "\n",
    "\n",
    "You need to construct the design matrix A which should be the matrix with the size (N,4) where N is the number of \n",
    "datapoints. First we'll construct it ignoring the uncertainties. \n",
    "\n",
    "Your function should return the best fit parameter vector and the sum of squares of deviations. \n",
    "(notice that `lstsq` returns the array of deviations for the best fit)"
   ]
  },
  {
   "cell_type": "code",
   "execution_count": 114,
   "id": "92f21d32",
   "metadata": {
    "deletable": false,
    "nbgrader": {
     "cell_type": "code",
     "checksum": "75fc0b6824fd6d4733431d95490bbb98",
     "grade": true,
     "grade_id": "cell-93fd18bd5c9bfb0f",
     "locked": false,
     "points": 0,
     "schema_version": 3,
     "solution": true,
     "task": false
    }
   },
   "outputs": [
    {
     "name": "stdout",
     "output_type": "stream",
     "text": [
      "(array([ 4.72254255,  1.94792993, -0.09925599, -0.00879029]), 377.1154229136162)\n"
     ]
    }
   ],
   "source": [
    "def fit_linmodel(X, Y):\n",
    "    N = len(X)\n",
    "    M = np.zeros((N, 4)) # design matrix\n",
    "    # YOUR CODE HERE\n",
    "    for i in range(4):\n",
    "        M[:,i] = X**i \n",
    "    val = scipy.linalg.lstsq(M, Y)\n",
    "    p = val[0]\n",
    "    res = val[1]\n",
    "    \n",
    "    return p, res\n",
    "print (fit_linmodel(X,Y))\n",
    "\n",
    "# check that we got reasonably close to the true params\n",
    "assert(np.all(np.abs(fit_linmodel(X, Y) [0]-ptrue) < 10**(-0.5*np.arange(4))))"
   ]
  },
  {
   "cell_type": "code",
   "execution_count": 122,
   "id": "industrial-satin",
   "metadata": {},
   "outputs": [],
   "source": [
    "x = np.linspace(-10,10,100)\n",
    "def poly(x,p0,p1,p2,p3):\n",
    "    return p0 + p1*x + p2*x**2 + p3*x**3\n",
    "    "
   ]
  },
  {
   "cell_type": "code",
   "execution_count": 128,
   "id": "graphic-growing",
   "metadata": {},
   "outputs": [
    {
     "data": {
      "image/png": "[encoded data removed]",
      "text/plain": [
       "<Figure size 432x288 with 1 Axes>"
      ]
     },
     "metadata": {
      "needs_background": "light"
     },
     "output_type": "display_data"
    }
   ],
   "source": [
    "p = fit_linmodel(X, Y)[0]\n",
    "_ = plt.plot(X, Y, '.', label='Original data', markersize=10)\n",
    "_ = plt.plot(x, poly(x, p[0], p[1], p[2], p[3],), 'r', label='Fitted line')\n",
    "_ = plt.legend()\n",
    "plt.show()"
   ]
  },
  {
   "cell_type": "markdown",
   "id": "f8da35ae",
   "metadata": {
    "deletable": false,
    "editable": false,
    "nbgrader": {
     "cell_type": "markdown",
     "checksum": "98ce2e7c44d79579cf43f463f340374a",
     "grade": false,
     "grade_id": "cell-0fc9656a1fbf67dd",
     "locked": true,
     "schema_version": 3,
     "solution": false,
     "task": false
    }
   },
   "source": [
    "# Regression with uncertainties\n",
    "\n",
    "Now lets take into account the uncertainties in the fit. To do that we we'll need to divide the\n",
    "data vector by errors and the design matrix by the errors. Then we'll run the lstsq as before. \n",
    "\n",
    "Update the fit_linmodel code below. Fit the data and overplot the bestfit model on top of the data"
   ]
  },
  {
   "cell_type": "code",
   "execution_count": 70,
   "id": "bigger-writing",
   "metadata": {},
   "outputs": [
    {
     "data": {
      "text/plain": [
       "(100,)"
      ]
     },
     "execution_count": 70,
     "metadata": {},
     "output_type": "execute_result"
    }
   ],
   "source": [
    "np.shape(E)"
   ]
  },
  {
   "cell_type": "code",
   "execution_count": 129,
   "id": "2ca10fab",
   "metadata": {
    "deletable": false,
    "nbgrader": {
     "cell_type": "code",
     "checksum": "65ca84f0349434bcf620c3de92d3a102",
     "grade": true,
     "grade_id": "cell-b8c17296a17c701a",
     "locked": false,
     "points": 0,
     "schema_version": 3,
     "solution": true,
     "task": false
    }
   },
   "outputs": [],
   "source": [
    "def fit_linmodel_with_errors(X, Y, E):\n",
    "    # YOUR CODE HERE\n",
    "    N = len(X)\n",
    "    M = np.zeros((N, 4)) # design matrix\n",
    "    # YOUR CODE HERE\n",
    "    for i in range(4):\n",
    "        M[:,i] = X**i/E\n",
    "    Y_tilda = Y/E\n",
    "    return scipy.linalg.lstsq(M, Y_tilda)\n",
    "fit_linmodel_with_errors(X, Y, E)\n",
    "assert(np.all(np.abs(fit_linmodel_with_errors(X, Y,E) [0]-ptrue) < 10**(-0.5*np.arange(4))))"
   ]
  },
  {
   "cell_type": "code",
   "execution_count": 130,
   "id": "aerial-religion",
   "metadata": {},
   "outputs": [
    {
     "data": {
      "text/plain": [
       "array([ 4.88848503,  2.00904226, -0.10037387, -0.0098182 ])"
      ]
     },
     "execution_count": 130,
     "metadata": {},
     "output_type": "execute_result"
    }
   ],
   "source": [
    "p = fit_linmodel_with_errors(X, Y, E)[0]\n",
    "p"
   ]
  },
  {
   "cell_type": "code",
   "execution_count": 131,
   "id": "authorized-accuracy",
   "metadata": {},
   "outputs": [
    {
     "data": {
      "image/png": "[encoded data removed]",
      "text/plain": [
       "<Figure size 432x288 with 1 Axes>"
      ]
     },
     "metadata": {
      "needs_background": "light"
     },
     "output_type": "display_data"
    }
   ],
   "source": [
    "p = fit_linmodel_with_errors(X, Y, E)[0]\n",
    "_ = plt.plot(X, Y, '.', label='Original data', markersize=10)\n",
    "_ = plt.plot(x, poly(x, p[0], p[1], p[2], p[3],), 'r', label='Fitted line')\n",
    "_ = plt.legend()\n",
    "plt.show()"
   ]
  },
  {
   "cell_type": "markdown",
   "id": "df5267df",
   "metadata": {
    "deletable": false,
    "editable": false,
    "nbgrader": {
     "cell_type": "markdown",
     "checksum": "a7966f5c32a19973dac4c6b59a4bd043",
     "grade": false,
     "grade_id": "cell-5e32295b2bcca154",
     "locked": true,
     "schema_version": 3,
     "solution": false,
     "task": false
    }
   },
   "source": [
    "# Model comparison \n",
    "\n",
    "How can we use the results to decide which model fits better ? \n",
    "For example if we are fitting polynomial models but we don't know what is the order of the polynomial. \n",
    "\n",
    "Use the code developed above to plot the best chi-square of the fit vs degree of the polinomial \n",
    "for 1st, 2nd and 3rd degree. \n",
    "\n",
    "You should see that the chi-square of the 3rd degree fit is much better, indicating that this our preferred model for the data. \n",
    "\n",
    "If you continue to increase the degree you will notice that the chi-squares will continue decreasing but much more slowly. In fact when the number of parameters is drastically different between different models, we often use chi-square + 2 * the number of parameters as our metric https://en.wikipedia.org/wiki/Akaike_information_criterion . This penalizes the models that have too many parameters but provide only marginal improvement in chi-square."
   ]
  },
  {
   "cell_type": "code",
   "execution_count": 132,
   "id": "05cfbbb1",
   "metadata": {
    "deletable": false,
    "nbgrader": {
     "cell_type": "code",
     "checksum": "3acb44cad024b3d9820bd2d7147b63c0",
     "grade": true,
     "grade_id": "cell-5cb6418ccf1a3931",
     "locked": false,
     "points": 0,
     "schema_version": 3,
     "solution": true,
     "task": false
    }
   },
   "outputs": [],
   "source": [
    "def fit_linmodel_ndeg(X, Y, E, ndeg):\n",
    "    \"\"\" Fit the data Y with uncertainties E \n",
    "    by a polynomial model with ndeg degrees\n",
    "    \"\"\"\n",
    "    N = len(X)\n",
    "    M = np.zeros((N, ndeg)) # design matrix\n",
    "    # YOUR CODE HERE\n",
    "    for i in range(ndeg):\n",
    "        M[:,i] = X**i/E\n",
    "    Y_tilda = Y/E\n",
    "    val = scipy.linalg.lstsq(M, Y_tilda)\n",
    "    p = val[0]\n",
    "    res = val[1]\n",
    "    return p, res"
   ]
  },
  {
   "cell_type": "code",
   "execution_count": 140,
   "id": "adjusted-walnut",
   "metadata": {},
   "outputs": [
    {
     "data": {
      "image/png": "[encoded data removed]",
      "text/plain": [
       "<Figure size 432x288 with 1 Axes>"
      ]
     },
     "metadata": {
      "needs_background": "light"
     },
     "output_type": "display_data"
    }
   ],
   "source": [
    "p = fit_linmodel_ndeg(X, Y, E, 4)[0]\n",
    "_ = plt.plot(X, Y, '.', label='Original data', markersize=10)\n",
    "_ = plt.plot(x, poly(x, p[0], p[1], p[2], p[3]), 'r', label='Fitted line')"
   ]
  },
  {
   "cell_type": "code",
   "execution_count": 142,
   "id": "manufactured-arctic",
   "metadata": {},
   "outputs": [
    {
     "data": {
      "image/png": "[encoded data removed]",
      "text/plain": [
       "<Figure size 432x288 with 1 Axes>"
      ]
     },
     "metadata": {
      "needs_background": "light"
     },
     "output_type": "display_data"
    }
   ],
   "source": [
    "p = fit_linmodel_ndeg(X, Y, E, 8)[0]\n",
    "_ = plt.plot(X, Y, '.', label='Original data', markersize=10)\n",
    "_ = plt.plot(x, poly(x, p[0], p[1], p[2], p[3]), 'r', label='Fitted line')"
   ]
  },
  {
   "cell_type": "markdown",
   "id": "e618e55c",
   "metadata": {
    "deletable": false,
    "editable": false,
    "nbgrader": {
     "cell_type": "markdown",
     "checksum": "91e7e18851ea89cb0d190993964699af",
     "grade": false,
     "grade_id": "cell-01b9f4d5c12c8b78",
     "locked": true,
     "schema_version": 3,
     "solution": false,
     "task": false
    }
   },
   "source": [
    "# Maximum likelihood fit\n",
    "\n",
    "Here we will look at a couple of problems and will code the maximum likelihood (ML) solution. \n",
    "\n",
    "The key point for any ML fit is to write the likelihood function correctly. \n",
    "\n",
    "Usually the likelihood function will look like this \n",
    "\n",
    "\n",
    "```\n",
    "def like(p, dataa, datab, ..):\n",
    "    \n",
    "    return -loglike\n",
    "    \n",
    "```\n",
    "\n",
    "It will take the vector of parameters p, various data and will return the minus log-likelihood\n",
    "\n",
    "This log-likelihood can then be optimized by `scipy.optimize.minimize`"
   ]
  },
  {
   "cell_type": "markdown",
   "id": "8c5ff524",
   "metadata": {
    "deletable": false,
    "editable": false,
    "nbgrader": {
     "cell_type": "markdown",
     "checksum": "571cb7b8ec66f30a9699aa8f7b1a173c",
     "grade": false,
     "grade_id": "cell-e1b047ccae2599ed",
     "locked": true,
     "schema_version": 3,
     "solution": false,
     "task": false
    }
   },
   "source": [
    "# Fitting an exponential distribution of arrival times \n",
    "\n",
    "First let's code the problem from the lecture where our data is the set of arrival times (from some beta-decay experiment for example). \n",
    "\n",
    "And we are trying to model those arrival times by the exponential distribution.\n",
    "\n",
    "$$P(t|\\tau) = \\frac{1}{\\tau} \\exp(-\\frac{t}{\\tau})$$\n",
    "\n",
    "The log-likelihood function will be the sum of  $\\log(P(t_i|\\tau)$ over all the data-points"
   ]
  },
  {
   "cell_type": "code",
   "execution_count": 144,
   "id": "d8bc1061",
   "metadata": {},
   "outputs": [
    {
     "name": "stdout",
     "output_type": "stream",
     "text": [
      "here are the optimization results\n",
      "      fun: 335.903138892476\n",
      " hess_inv: array([[1.11937883]])\n",
      "      jac: array([-3.81469727e-06])\n",
      "  message: 'Optimization terminated successfully.'\n",
      "     nfev: 30\n",
      "      nit: 14\n",
      "     njev: 15\n",
      "   status: 0\n",
      "  success: True\n",
      "        x: array([10.58069868])\n",
      "our best fit tau is [10.58069868] the true one is  10\n"
     ]
    },
    {
     "data": {
      "image/png": "[encoded data removed]",
      "text/plain": [
       "<Figure size 432x288 with 1 Axes>"
      ]
     },
     "metadata": {
      "needs_background": "light"
     },
     "output_type": "display_data"
    }
   ],
   "source": [
    "tau_true = 10\n",
    "\n",
    "def gendata(N):\n",
    "    \"\"\" Return the times from the exponential distribution \"\"\"\n",
    "    return scipy.stats.expon(scale=tau_true).rvs(N)\n",
    "\n",
    "TOBS = gendata(100)\n",
    "\n",
    "plt.hist(TOBS)\n",
    "\n",
    "def like(p, TOBS):\n",
    "    \"\"\"\n",
    "    return the -loglikelihood summed over all the data\n",
    "    \"\"\"\n",
    "    \n",
    "    tau = p[0]\n",
    "    \n",
    "    # This is the probability density of each data point under the exponential model\n",
    "    log_pdf = np.log(1 / tau * np.exp(-TOBS / tau))\n",
    "    \n",
    "    loglike =  log_pdf.sum()\n",
    "       \n",
    "    return -loglike\n",
    "\n",
    "print ('here are the optimization results')\n",
    "res = scipy.optimize.minimize(like,[1],args=(TOBS))\n",
    "print (res)\n",
    "\n",
    "print ('our best fit tau is' ,res.x, 'the true one is ', tau_true)\n"
   ]
  },
  {
   "cell_type": "markdown",
   "id": "balanced-toronto",
   "metadata": {
    "deletable": false,
    "editable": false,
    "nbgrader": {
     "cell_type": "markdown",
     "checksum": "5e3414145a7663ae3307f5a5f99af943",
     "grade": false,
     "grade_id": "cell-2e7b4a49370d9751",
     "locked": true,
     "schema_version": 3,
     "solution": false,
     "task": false
    }
   },
   "source": [
    "### Challenge\n",
    "Now use the maximum-likelihood approach and plot how the recovered parameter depends on \n",
    "the number of datapoints in the data (from 3 to 10000).\n",
    "Doe the measurement of tau converge to the true value as we get more data ? "
   ]
  },
  {
   "cell_type": "code",
   "execution_count": 150,
   "id": "human-zimbabwe",
   "metadata": {
    "deletable": false,
    "nbgrader": {
     "cell_type": "code",
     "checksum": "d5f054e32f395cbb79146a44cb640a5f",
     "grade": true,
     "grade_id": "cell-56583afc6427ce9a",
     "locked": false,
     "points": 0,
     "schema_version": 3,
     "solution": true,
     "task": false
    }
   },
   "outputs": [
    {
     "data": {
      "text/plain": [
       "[<matplotlib.lines.Line2D at 0x7f546d3e4580>]"
      ]
     },
     "execution_count": 150,
     "metadata": {},
     "output_type": "execute_result"
    },
    {
     "data": {
      "image/png": "[encoded data removed]",
      "text/plain": [
       "<Figure size 432x288 with 1 Axes>"
      ]
     },
     "metadata": {
      "needs_background": "light"
     },
     "output_type": "display_data"
    }
   ],
   "source": [
    "# YOUR CODE HERE\n",
    "x = []\n",
    "for N in range(3,1000):\n",
    "    TOBS = gendata(N)\n",
    "    res = scipy.optimize.minimize(like,[1],args=(TOBS))\n",
    "    x.append(res.x)\n",
    "plt.plot(x)    "
   ]
  },
  {
   "cell_type": "markdown",
   "id": "a0709e03",
   "metadata": {
    "deletable": false,
    "editable": false,
    "nbgrader": {
     "cell_type": "markdown",
     "checksum": "7234561881a14d444c0281b942e96acf",
     "grade": false,
     "grade_id": "cell-b9a48dac74c52c89",
     "locked": true,
     "schema_version": 3,
     "solution": false,
     "task": false
    }
   },
   "source": [
    "# Modeling a 2D distribution of points \n",
    "\n",
    "Now lets fit a 2d problem from the lecture. \n",
    "\n",
    "Here we are modeling the distribution of particles on the detector by a Normal distribution \n",
    "\n",
    "$$P(x,y | c_x, c_y ,s_x,s_y) = \\frac{1}{2\\pi s_x s_y} \\exp\\left(-\\frac{1}{2}\\frac{(x-c_x)^2}{s_x^2}-\\frac{1}{2}\\frac{(y-c_y)^2}{s_y^2}\\right)$$"
   ]
  },
  {
   "cell_type": "code",
   "execution_count": 156,
   "id": "038d1741",
   "metadata": {},
   "outputs": [
    {
     "data": {
      "text/plain": [
       "(-3.0, 15.0)"
      ]
     },
     "execution_count": 156,
     "metadata": {},
     "output_type": "execute_result"
    },
    {
     "data": {
      "image/png": "[encoded data removed]",
      "text/plain": [
       "<Figure size 432x288 with 1 Axes>"
      ]
     },
     "metadata": {
      "needs_background": "light"
     },
     "output_type": "display_data"
    }
   ],
   "source": [
    "c_xtrue=5,\n",
    "c_ytrue=2,\n",
    "s_xtrue=2,\n",
    "s_ytrue=.6,\n",
    "\n",
    "def gendata(N):\n",
    "    xs = np.random.normal(c_xtrue,s_xtrue,N)\n",
    "    ys = np.random.normal(c_ytrue,s_ytrue,N)\n",
    "    return xs,ys\n",
    "\n",
    "X,Y= gendata(200)\n",
    "plt.plot(X, Y, '.')\n",
    "plt.xlim(-3, 15)\n",
    "plt.ylim(-3, 15)\n"
   ]
  },
  {
   "cell_type": "markdown",
   "id": "fd631c96",
   "metadata": {
    "deletable": false,
    "editable": false,
    "nbgrader": {
     "cell_type": "markdown",
     "checksum": "c0c19a0ecd4dfaea862d1561f07252a0",
     "grade": false,
     "grade_id": "cell-9c1bb73efea31de7",
     "locked": true,
     "schema_version": 3,
     "solution": false,
     "task": false
    }
   },
   "source": [
    "# Challenge \n",
    "\n",
    "Write the likelihood function for this data \n",
    "and fit the best values of c_x, c_y, s_x, s_y using the maximum likelihood approach. \n",
    "\n",
    "Remember the log-likelihood function should be the sume of log-probabilities for each data-point in your data.\n",
    "\n",
    "Hint: Instead of writing log(exp(-SOMETHING)), it is better to just write -SOMETHING \n",
    "\n",
    "When you run the fit you may notice that you get a NaN results. \n",
    "This is caused by the fact that if you evaluate your model for negative s_x that will lead to log(negative numbers). \n",
    "To prevent this you may want to put in your function the code like: \n",
    "```\n",
    "if not np.isfinite(loglike):\n",
    "    return 1e10\n",
    "```\n",
    "which will basically return a very large value if the loglikelihod function is not finite.\n",
    "\n",
    "Alternatively you can also use the Nelder-mead optimization instead of BFGS\n"
   ]
  },
  {
   "cell_type": "code",
   "execution_count": 226,
   "id": "7058509c",
   "metadata": {
    "deletable": false,
    "nbgrader": {
     "cell_type": "code",
     "checksum": "5beb35acd8beed04a1152489b1753e8d",
     "grade": true,
     "grade_id": "cell-cd81d0b25babb234",
     "locked": false,
     "points": 0,
     "schema_version": 3,
     "solution": true,
     "task": false
    }
   },
   "outputs": [],
   "source": [
    "def like(p, x, y):\n",
    "    \"\"\" Our likelihood function takes as input a parameter vector \n",
    "    and the data (x,y)\n",
    "    \"\"\"\n",
    "    c_x, c_y, s_x, s_y=p\n",
    "    log_pdf = np.log(1 / 2*np.pi*s_x*s_y) + (-0.5*(x-c_x)**2/s_x**2) + (-0.5*(y-c_y)**2/s_y**2)\n",
    "    loglike =  log_pdf.sum()\n",
    "    if not np.isfinite(loglike):\n",
    "        return 1e10\n",
    "    return -loglike"
   ]
  },
  {
   "cell_type": "code",
   "execution_count": 227,
   "id": "practical-spank",
   "metadata": {},
   "outputs": [
    {
     "data": {
      "text/plain": [
       "array([  -429099.44258636, -36490134.32017791,   5859070.82833156,\n",
       "        38884303.76219723])"
      ]
     },
     "execution_count": 227,
     "metadata": {},
     "output_type": "execute_result"
    }
   ],
   "source": [
    "res = scipy.optimize.minimize(like,x0=(1,1,1,1),args=(X,Y))\n",
    "res.x"
   ]
  },
  {
   "cell_type": "markdown",
   "id": "complicated-shield",
   "metadata": {
    "deletable": false,
    "editable": false,
    "nbgrader": {
     "cell_type": "markdown",
     "checksum": "eb5cc2bf502811d3e73faf8ae3119255",
     "grade": false,
     "grade_id": "cell-4f2febce2e4c08b7",
     "locked": true,
     "schema_version": 3,
     "solution": false,
     "task": false
    }
   },
   "source": [
    "# Uncertainties from the maximum likelihood fit\n",
    "\n",
    "To determine the uncertainties on the model parameters we need to determine the \n",
    "matrix of second derivatives (or Hessian) of the log-likelihood function\n",
    "\n",
    "To do that there is a nice package numdifftools https://numdifftools.readthedocs.io/en/latest/tutorials/getting_started.html"
   ]
  },
  {
   "cell_type": "code",
   "execution_count": 221,
   "id": "12c9f32b",
   "metadata": {
    "deletable": false,
    "editable": false,
    "nbgrader": {
     "cell_type": "code",
     "checksum": "8f4d39f1c4b0f2a0bad1563f6f059848",
     "grade": false,
     "grade_id": "cell-90405b0838137609",
     "locked": true,
     "schema_version": 3,
     "solution": false,
     "task": false
    }
   },
   "outputs": [
    {
     "name": "stdout",
     "output_type": "stream",
     "text": [
      "Requirement already satisfied: numdifftools in /opt/conda/lib/python3.9/site-packages (0.9.40)\n",
      "Requirement already satisfied: numpy>=1.9 in /opt/conda/lib/python3.9/site-packages (from numdifftools) (1.21.1)\n",
      "Requirement already satisfied: statsmodels>=0.6 in /opt/conda/lib/python3.9/site-packages (from numdifftools) (0.12.2)\n",
      "Requirement already satisfied: scipy>=0.8 in /opt/conda/lib/python3.9/site-packages (from numdifftools) (1.7.0)\n",
      "Requirement already satisfied: algopy>=0.4 in /opt/conda/lib/python3.9/site-packages (from numdifftools) (0.5.7)\n",
      "Requirement already satisfied: pandas>=0.21 in /opt/conda/lib/python3.9/site-packages (from statsmodels>=0.6->numdifftools) (1.3.1)\n",
      "Requirement already satisfied: patsy>=0.5 in /opt/conda/lib/python3.9/site-packages (from statsmodels>=0.6->numdifftools) (0.5.1)\n",
      "Requirement already satisfied: python-dateutil>=2.7.3 in /opt/conda/lib/python3.9/site-packages (from pandas>=0.21->statsmodels>=0.6->numdifftools) (2.8.1)\n",
      "Requirement already satisfied: pytz>=2017.3 in /opt/conda/lib/python3.9/site-packages (from pandas>=0.21->statsmodels>=0.6->numdifftools) (2021.1)\n",
      "Requirement already satisfied: six in /opt/conda/lib/python3.9/site-packages (from patsy>=0.5->statsmodels>=0.6->numdifftools) (1.15.0)\n"
     ]
    }
   ],
   "source": [
    "# We can install additional packages using a pip command\n",
    "!pip install numdifftools"
   ]
  },
  {
   "cell_type": "code",
   "execution_count": 184,
   "id": "cd70e614",
   "metadata": {
    "deletable": false,
    "editable": false,
    "nbgrader": {
     "cell_type": "code",
     "checksum": "dc1050ef658bc2166168c5f08195c942",
     "grade": false,
     "grade_id": "cell-2c7970154d7c49b1",
     "locked": true,
     "schema_version": 3,
     "solution": false,
     "task": false
    }
   },
   "outputs": [],
   "source": [
    "import numdifftools"
   ]
  },
  {
   "cell_type": "markdown",
   "id": "a50623c1",
   "metadata": {
    "deletable": false,
    "editable": false,
    "nbgrader": {
     "cell_type": "markdown",
     "checksum": "008321987d013bf25e51b0ba3febe251",
     "grade": false,
     "grade_id": "cell-276ddc30cf69d8ff",
     "locked": true,
     "schema_version": 3,
     "solution": false,
     "task": false
    }
   },
   "source": [
    "Here I demonstrate how we can determine the Hessian matrix (i.e. matrix of second derivatives) of the function\n",
    "$$f(x) = x_0^2+ 3 x_1^2 + 4 x_2^4$$\n",
    "at the location X=[0,0,0]\n",
    "It should be equal to \n",
    "$$\\begin{pmatrix}\n",
    "2 & 0 & 0\\\\\n",
    "0 & 6 & 0\\\\\n",
    "0 & 0 & 0\\\\\n",
    "\\end{pmatrix}\n",
    "$$"
   ]
  },
  {
   "cell_type": "code",
   "execution_count": 222,
   "id": "91258f57",
   "metadata": {},
   "outputs": [
    {
     "name": "stdout",
     "output_type": "stream",
     "text": [
      "[[2.00000000e+00 0.00000000e+00 0.00000000e+00]\n",
      " [0.00000000e+00 6.00000000e+00 0.00000000e+00]\n",
      " [0.00000000e+00 0.00000000e+00 4.73106403e-19]]\n"
     ]
    }
   ],
   "source": [
    "def testfunc(p):\n",
    "    return p[0]**2 + 3*p[1]**2 + 4*p[2]**4\n",
    "\n",
    "HH = numdifftools.Hessian(testfunc)\n",
    "print (HH([0, 0, 0]))"
   ]
  },
  {
   "cell_type": "markdown",
   "id": "4e26fbde",
   "metadata": {
    "deletable": false,
    "editable": false,
    "nbgrader": {
     "cell_type": "markdown",
     "checksum": "010edf10e4b233442e67046af8cb63a3",
     "grade": false,
     "grade_id": "cell-75675b2844b5061b",
     "locked": true,
     "schema_version": 3,
     "solution": false,
     "task": false
    }
   },
   "source": [
    "Now use the `numdifftools` module to determine the Hessian matrix of the likelihood function in the minimum. To get the uncertainties you need to invert the matrix (`scipy.linalg.inv`), extract the diagonal from it and take the square root of that."
   ]
  },
  {
   "cell_type": "code",
   "execution_count": 223,
   "id": "animal-chemical",
   "metadata": {},
   "outputs": [],
   "source": [
    "inverse = scipy.linalg.inv(HH([0,0,0]))"
   ]
  },
  {
   "cell_type": "code",
   "execution_count": 224,
   "id": "d54db925",
   "metadata": {
    "deletable": false,
    "nbgrader": {
     "cell_type": "code",
     "checksum": "ddbc1802de93eb3e4f5a4d0efb03baf2",
     "grade": true,
     "grade_id": "cell-c812e225a277a163",
     "locked": false,
     "points": 0,
     "schema_version": 3,
     "solution": true,
     "task": false
    }
   },
   "outputs": [
    {
     "name": "stdout",
     "output_type": "stream",
     "text": [
      "[  -429099.44258636 -36490134.32017791   5859070.82833156\n",
      "  38884303.76219723]\n"
     ]
    }
   ],
   "source": [
    "res = scipy.optimize.minimize(like, [1, 1, 1, 1], args=(X,Y))\n",
    "# YOUR CODE HERE\n",
    "print(res.x)"
   ]
  },
  {
   "cell_type": "code",
   "execution_count": 225,
   "id": "marked-record",
   "metadata": {},
   "outputs": [
    {
     "ename": "LinAlgError",
     "evalue": "singular matrix",
     "output_type": "error",
     "traceback": [
      "\u001b[0;31m---------------------------------------------------------------------------\u001b[0m",
      "\u001b[0;31mLinAlgError\u001b[0m                               Traceback (most recent call last)",
      "\u001b[0;32m<ipython-input-225-97ca91e55787>\u001b[0m in \u001b[0;36m<module>\u001b[0;34m\u001b[0m\n\u001b[0;32m----> 1\u001b[0;31m \u001b[0minverse\u001b[0m \u001b[0;34m=\u001b[0m \u001b[0mscipy\u001b[0m\u001b[0;34m.\u001b[0m\u001b[0mlinalg\u001b[0m\u001b[0;34m.\u001b[0m\u001b[0minv\u001b[0m\u001b[0;34m(\u001b[0m\u001b[0mHH\u001b[0m\u001b[0;34m(\u001b[0m\u001b[0mres\u001b[0m\u001b[0;34m.\u001b[0m\u001b[0mx\u001b[0m\u001b[0;34m)\u001b[0m\u001b[0;34m)\u001b[0m\u001b[0;34m\u001b[0m\u001b[0;34m\u001b[0m\u001b[0m\n\u001b[0m",
      "\u001b[0;32m/opt/conda/lib/python3.9/site-packages/scipy/linalg/basic.py\u001b[0m in \u001b[0;36minv\u001b[0;34m(a, overwrite_a, check_finite)\u001b[0m\n\u001b[1;32m    966\u001b[0m         \u001b[0minv_a\u001b[0m\u001b[0;34m,\u001b[0m \u001b[0minfo\u001b[0m \u001b[0;34m=\u001b[0m \u001b[0mgetri\u001b[0m\u001b[0;34m(\u001b[0m\u001b[0mlu\u001b[0m\u001b[0;34m,\u001b[0m \u001b[0mpiv\u001b[0m\u001b[0;34m,\u001b[0m \u001b[0mlwork\u001b[0m\u001b[0;34m=\u001b[0m\u001b[0mlwork\u001b[0m\u001b[0;34m,\u001b[0m \u001b[0moverwrite_lu\u001b[0m\u001b[0;34m=\u001b[0m\u001b[0;36m1\u001b[0m\u001b[0;34m)\u001b[0m\u001b[0;34m\u001b[0m\u001b[0;34m\u001b[0m\u001b[0m\n\u001b[1;32m    967\u001b[0m     \u001b[0;32mif\u001b[0m \u001b[0minfo\u001b[0m \u001b[0;34m>\u001b[0m \u001b[0;36m0\u001b[0m\u001b[0;34m:\u001b[0m\u001b[0;34m\u001b[0m\u001b[0;34m\u001b[0m\u001b[0m\n\u001b[0;32m--> 968\u001b[0;31m         \u001b[0;32mraise\u001b[0m \u001b[0mLinAlgError\u001b[0m\u001b[0;34m(\u001b[0m\u001b[0;34m\"singular matrix\"\u001b[0m\u001b[0;34m)\u001b[0m\u001b[0;34m\u001b[0m\u001b[0;34m\u001b[0m\u001b[0m\n\u001b[0m\u001b[1;32m    969\u001b[0m     \u001b[0;32mif\u001b[0m \u001b[0minfo\u001b[0m \u001b[0;34m<\u001b[0m \u001b[0;36m0\u001b[0m\u001b[0;34m:\u001b[0m\u001b[0;34m\u001b[0m\u001b[0;34m\u001b[0m\u001b[0m\n\u001b[1;32m    970\u001b[0m         raise ValueError('illegal value in %d-th argument of internal '\n",
      "\u001b[0;31mLinAlgError\u001b[0m: singular matrix"
     ]
    }
   ],
   "source": [
    "inverse = scipy.linalg.inv(HH(res.x))"
   ]
  },
  {
   "cell_type": "markdown",
   "id": "earlier-custody",
   "metadata": {
    "deletable": false,
    "editable": false,
    "nbgrader": {
     "cell_type": "markdown",
     "checksum": "33b18742c0acc6d469bc56b94913638f",
     "grade": false,
     "grade_id": "cell-13d66ee1f429a59e",
     "locked": true,
     "schema_version": 3,
     "solution": false,
     "task": false
    }
   },
   "source": [
    "# Diming light source problem\n",
    "\n",
    "You are observing a faint distant object that is becoming fainter and fainter in time. \n",
    "\n",
    "Your detector recorded the number of photonos coming from the source when observed for 50 seconds\n",
    "\n",
    "`\n",
    "NPHOT = [95, 72, 65, 52, 57, 35, 24, 26, 16, 22, 13, 15, 12,  9,  7,  4,  9,\n",
    "        2,  2,  0,  3,  3,  0,  0,  0,  0,  0,  0,  2,  0,  0,  0,  0,  0,\n",
    "        0,  0,  0,  0,  0,  0,  0,  0,  0,  0,  0,  0,  0,  0,  0,  0]\n",
    "`\n",
    "\n",
    "in time intervals of 1 second.\n",
    "You believe that the source brightness is decaying with time as $N_0 \\exp(-t/\\tau)$.\n",
    "\n",
    "Assuming that the number of photons coming in each interval can be described by Poisson \n",
    "distribution with the rate parameter described by $N_0 \\exp(-t/\\tau)$, write the likelihood and estimate the parameter tau. \n",
    "\n",
    "Your log-likelihood function need to sum over all 50 observations. And remember that you can \n",
    "use `scipy.stats.poisson` and it's `pmf` method to estimate the likelihood of each observation\n",
    "\n",
    "Your model will need to have two parameters $N_0$ and $\\tau$"
   ]
  },
  {
   "cell_type": "code",
   "execution_count": null,
   "id": "placed-parade",
   "metadata": {},
   "outputs": [],
   "source": [
    "NPHOT = [95, 72, 65, 52, 57, 35, 24, 26, 16, 22, 13, 15, 12,  9,  7,  4,  9,\n",
    "        2,  2,  0,  3,  3,  0,  0,  0,  0,  0,  0,  2,  0,  0,  0,  0,  0,\n",
    "        0,  0,  0,  0,  0,  0,  0,  0,  0,  0,  0,  0,  0,  0,  0,  0]\n",
    "plt.plot(NPHOT,'.')"
   ]
  },
  {
   "cell_type": "markdown",
   "id": "protected-address",
   "metadata": {
    "deletable": false,
    "editable": false,
    "nbgrader": {
     "cell_type": "markdown",
     "checksum": "89249080007520c87634bc9bdd3c89f5",
     "grade": false,
     "grade_id": "cell-9caa821b3d590a47",
     "locked": true,
     "schema_version": 3,
     "solution": false,
     "task": false
    }
   },
   "source": [
    "# Challenge\n",
    "\n",
    "Write the likelihood and find the best value of $\\tau$. Overplot your best model on top of the data. "
   ]
  },
  {
   "cell_type": "code",
   "execution_count": null,
   "id": "animal-heart",
   "metadata": {
    "deletable": false,
    "nbgrader": {
     "cell_type": "code",
     "checksum": "24b16aff7ccb502843fa9303d475a303",
     "grade": true,
     "grade_id": "cell-810fd4383a127393",
     "locked": false,
     "points": 0,
     "schema_version": 3,
     "solution": true,
     "task": false
    }
   },
   "outputs": [],
   "source": [
    "def like(p, nphot):\n",
    "    n0, tau = p\n",
    "    # YOUR CODE HERE\n",
    "    raise NotImplementedError()"
   ]
  },
  {
   "cell_type": "code",
   "execution_count": null,
   "id": "gorgeous-reflection",
   "metadata": {},
   "outputs": [],
   "source": []
  }
 ],
 "metadata": {
  "kernelspec": {
   "display_name": "Python 3 (ipykernel)",
   "language": "python",
   "name": "python3"
  },
  "language_info": {
   "codemirror_mode": {
    "name": "ipython",
    "version": 3
   },
   "file_extension": ".py",
   "mimetype": "text/x-python",
   "name": "python",
   "nbconvert_exporter": "python",
   "pygments_lexer": "ipython3",
   "version": "3.9.2"
  }
 },
 "nbformat": 4,
 "nbformat_minor": 5
}
