{
 "cells": [
  {
   "cell_type": "markdown",
   "id": "annoying-brunswick",
   "metadata": {
    "deletable": false,
    "editable": false,
    "nbgrader": {
     "cell_type": "markdown",
     "checksum": "95a9cccd97685f94da1195b880e0bd1c",
     "grade": false,
     "grade_id": "cell-7e6c8bd6940b47c7",
     "locked": true,
     "schema_version": 3,
     "solution": false,
     "task": false
    }
   },
   "source": [
    "# Checkpoint 1\n",
    "\n",
    "**Due: Tuesday, 19 October, 2021 at 11:00am BST**\n",
    "\n",
    "Total points: 100\n",
    "\n",
    "### Read This First\n",
    "1. Use the constants provided in the cells. Do not use your own constants.\n",
    "\n",
    "2. Wherever you see `raise NotImplementedError()`, remove that line and put your code there.\n",
    "\n",
    "3. Put the code that produces the output for a given task in the cell indicated. You are welcome to add as many cells as you like for imports, function definitions, variables, etc.\n",
    "\n",
    "4. Your notebook must run correctly when executed once from start to finish. Your notebook will be graded based on how it runs, not how it looks when you submit it. To test this, go to the *Kernel* menu and select *Restart & Run All*.\n",
    "\n",
    "5. Once you are happy with it, clear the output by selecting *Restart & Clear Output* from the *Kernel* menu.\n",
    "\n",
    "6. Submit through Noteable."
   ]
  },
  {
   "cell_type": "code",
   "execution_count": 1,
   "id": "extreme-moses",
   "metadata": {},
   "outputs": [],
   "source": [
    "from matplotlib import pyplot as plt\n",
    "%matplotlib inline\n",
    "import numpy as np\n",
    "import time"
   ]
  },
  {
   "cell_type": "code",
   "execution_count": 2,
   "id": "faced-stylus",
   "metadata": {},
   "outputs": [],
   "source": [
    "plt.rcParams['figure.figsize'] = (10, 6)\n",
    "plt.rcParams['font.size'] = 14"
   ]
  },
  {
   "cell_type": "markdown",
   "id": "eb38b78a",
   "metadata": {
    "deletable": false,
    "editable": false,
    "nbgrader": {
     "cell_type": "markdown",
     "checksum": "2ea21e98a1f12c1b3dcdbf448267a7d0",
     "grade": false,
     "grade_id": "cell-be0f30ea8f875921",
     "locked": true,
     "schema_version": 3,
     "solution": false,
     "task": false
    }
   },
   "source": [
    "# Problem 1 - 20 points\n",
    "\n",
    "## Interpolation\n",
    "You are given an array of x and y measurements that you need to interpolate on new locations.\n",
    "\n",
    "The file data.txt is a text file that contains two arrays of Xs and Ys in two rows that need to be interpolated. The file test.txt is a text file that contains an array of X values on which you need to evaluate the interpolated function.\n",
    "\n",
    "You will need to do the interpolation by chosing the best interpolation technique among linear interpolation, cubic splines and smoothing splines with different values of smoothing parameters.\n",
    "\n",
    "You need to write the code that\n",
    "\n",
    "selects the best among different interpolation methods for a provided dataset\n",
    "returns array of the results of evaluating the best interpolation method on test dataset\n",
    "The resulting array will be then checked to provide the mean square error with respect to true values of  ∑𝑖1𝑁(𝑦𝑖𝑛𝑡𝑒𝑟𝑝,𝑖−𝑦𝑡𝑟𝑢𝑒,𝑖)2<0.1  on the test dataset."
   ]
  },
  {
   "cell_type": "code",
   "execution_count": 3,
   "id": "expanded-bathroom",
   "metadata": {},
   "outputs": [],
   "source": [
    "import scipy.interpolate"
   ]
  },
  {
   "cell_type": "code",
   "execution_count": 4,
   "id": "formed-shoulder",
   "metadata": {},
   "outputs": [],
   "source": [
    "### PREPARING THE DATA SET"
   ]
  },
  {
   "cell_type": "code",
   "execution_count": 5,
   "id": "optical-found",
   "metadata": {},
   "outputs": [],
   "source": [
    "data = np.loadtxt('data.txt')\n",
    "xtest = np.loadtxt('test.txt')"
   ]
  },
  {
   "cell_type": "code",
   "execution_count": 6,
   "id": "opposite-magic",
   "metadata": {},
   "outputs": [],
   "source": [
    "xdata,ydata = data[0],data[1]"
   ]
  },
  {
   "cell_type": "code",
   "execution_count": 7,
   "id": "ethical-genome",
   "metadata": {},
   "outputs": [],
   "source": [
    "zipped = zip(xdata,ydata)"
   ]
  },
  {
   "cell_type": "code",
   "execution_count": 8,
   "id": "round-rogers",
   "metadata": {},
   "outputs": [],
   "source": [
    "#sort data with respect to increasing x, with x still coupled to its respective y values\n",
    "data_sort = sorted(zipped, key=lambda x: x[0])"
   ]
  },
  {
   "cell_type": "code",
   "execution_count": 9,
   "id": "center-acting",
   "metadata": {},
   "outputs": [],
   "source": [
    "from sklearn.model_selection import train_test_split\n",
    "import sklearn"
   ]
  },
  {
   "cell_type": "code",
   "execution_count": 10,
   "id": "driving-dictionary",
   "metadata": {},
   "outputs": [],
   "source": [
    "### CHOOSING THE BEST INTERPOLATION"
   ]
  },
  {
   "cell_type": "code",
   "execution_count": 11,
   "id": "electric-guitar",
   "metadata": {},
   "outputs": [],
   "source": [
    "def solve_task1(data_sort,xtest):\n",
    "    #create test 30% and training 70%\n",
    "    train,test = train_test_split(data_sort, train_size=0.7) \n",
    "    \n",
    "    xTRAIN,yTRAIN = zip(*train)\n",
    "    xTEST,yTEST = zip(*test)\n",
    "    \n",
    "    #interpolate\n",
    "    #linear interpolation\n",
    "    Int_1d = scipy.interpolate.interp1d(xTRAIN, yTRAIN, fill_value='extrapolate', axis=0, kind='linear', assume_sorted=False)\n",
    "    mse_1d = np.sum((Int_1d(xTEST) - yTEST)**2)/len(xTEST)\n",
    "    \n",
    "    #sorting the data set with respect to x so that x is increasing for interpolation (train_test_split reshuffles data)\n",
    "    Train1 = zip(xTRAIN,yTRAIN)\n",
    "    Zipped1 = sorted(Train1, key=lambda x: x[0])\n",
    "    xTRAIN1,yTRAIN1 = zip(*Zipped1)\n",
    "    \n",
    "    #smoothing spline s=0.2\n",
    "    Int_smooth2 = scipy.interpolate.UnivariateSpline(xTRAIN1, yTRAIN1, s=0.2)\n",
    "    mse_smooth2 = np.mean((Int_smooth2(xTEST) - yTEST)**2)\n",
    "    #smoothing spline s=0.7\n",
    "    Int_smooth7 = scipy.interpolate.UnivariateSpline(xTRAIN1, yTRAIN1, s=0.7)\n",
    "    mse_smooth7 = np.mean((Int_smooth7(xTEST) - yTEST)**2)\n",
    "    #smoothing spline s=1\n",
    "    Int_smooth1 = scipy.interpolate.UnivariateSpline(xTRAIN1, yTRAIN1, s=1)\n",
    "    mse_smooth1 = np.mean((Int_smooth1(xTEST) - yTEST)**2)\n",
    "    \n",
    "    #cubic spline\n",
    "    Int_cubic = scipy.interpolate.CubicSpline(xTRAIN1, yTRAIN1)\n",
    "    mse_cubic = np.mean((Int_cubic(xTEST) - yTEST)**2)\n",
    "    \n",
    "    #choose method with smallest mean squared error\n",
    "    Int = [Int_1d,Int_smooth2,Int_smooth7,Int_smooth1,Int_cubic]\n",
    "    MSE = [mse_1d,mse_smooth2,mse_smooth7,mse_smooth1,mse_cubic]\n",
    "    best_Int = Int[MSE.index(min(MSE))]\n",
    "    y_predict = best_Int(xtest)\n",
    "    \n",
    "    return y_predict"
   ]
  },
  {
   "cell_type": "code",
   "execution_count": 12,
   "id": "0430ec16",
   "metadata": {
    "deletable": false,
    "nbgrader": {
     "cell_type": "code",
     "checksum": "b67df89d1cdf222fc3ad91d82464fd67",
     "grade": false,
     "grade_id": "p1-answer",
     "locked": false,
     "schema_version": 3,
     "solution": true,
     "task": false
    }
   },
   "outputs": [
    {
     "data": {
      "text/plain": [
       "array([230.65049963, 149.12649411, 275.63846194, 151.93071063,\n",
       "       319.27944572, 161.56691684, 253.84536063, 218.87190957,\n",
       "       176.94854369, 203.06346117, 124.4458001 , 197.14449856,\n",
       "       242.79753139, 308.73920642, 296.49331218,  45.85459119,\n",
       "       203.00118172, 147.83107547, 323.31597366, 161.88275542,\n",
       "       187.09760111, 309.28017258, 250.45590503, 222.19500465,\n",
       "       185.88760518, 207.78217193, 185.47271261, 294.30029767,\n",
       "        61.99332665,  81.7643106 , 197.35203596, 192.10564608,\n",
       "       266.70415273, 168.91068889,  28.87942408, 289.11463833,\n",
       "       157.14662334,  34.54353143, 275.44239873, 126.76680295,\n",
       "        29.2785152 , 103.82906461, 149.55178506, 196.42350708,\n",
       "       320.7918562 , 168.74116507, 169.85064352, 311.78910643,\n",
       "       147.56544203])"
      ]
     },
     "execution_count": 12,
     "metadata": {},
     "output_type": "execute_result"
    }
   ],
   "source": [
    "y_interp = solve_task1(data_sort,xtest)\n",
    "y_interp"
   ]
  },
  {
   "cell_type": "markdown",
   "id": "fitting-collaboration",
   "metadata": {
    "deletable": false,
    "editable": false,
    "nbgrader": {
     "cell_type": "markdown",
     "checksum": "3ca88332f0c742cd8cfde4b64b449168",
     "grade": false,
     "grade_id": "cell-73904f7eb0cf0357",
     "locked": true,
     "schema_version": 3,
     "solution": false,
     "task": false
    }
   },
   "source": [
    "We will add tests to the cell below when grading."
   ]
  },
  {
   "cell_type": "code",
   "execution_count": 13,
   "id": "orange-incidence",
   "metadata": {
    "deletable": false,
    "editable": false,
    "nbgrader": {
     "cell_type": "code",
     "checksum": "22fc9690b7cce79b1122cc782c6ed2cc",
     "grade": true,
     "grade_id": "p1-test",
     "locked": true,
     "points": 0,
     "schema_version": 3,
     "solution": false,
     "task": false
    }
   },
   "outputs": [
    {
     "name": "stdout",
     "output_type": "stream",
     "text": [
      "Testing, testing...\n"
     ]
    }
   ],
   "source": [
    "# This function will be tested with this \n",
    "# assert ( np.mean((solve_task1()- YTRUE )**2) < 0.1)\n",
    "\n",
    "print (\"Testing, testing...\")\n"
   ]
  },
  {
   "cell_type": "markdown",
   "id": "appropriate-arrival",
   "metadata": {
    "deletable": false,
    "editable": false,
    "nbgrader": {
     "cell_type": "markdown",
     "checksum": "b075c149ec43e524f6a96eea68bf5706",
     "grade": false,
     "grade_id": "cell-6b2a06078effc715",
     "locked": true,
     "schema_version": 3,
     "solution": false,
     "task": false
    }
   },
   "source": [
    "# Problem 2 - 80 points\n",
    "\n",
    "This problem is divided into 5 tasks, worth the following number of points:\n",
    "\n",
    "1. 20 points\n",
    "2. 15 points\n",
    "3. 15 points\n",
    "4. 20 points\n",
    "5. 10 points\n",
    "\n",
    "## The 1D Time-independent Schrödinger equation\n",
    "\n",
    "In one dimension, the time-independent Schrödinger equation is given by\n",
    "\n",
    "$\n",
    "\\large\n",
    "\\begin{align}\n",
    "\\mathbf{H}\\ \\mathbf{\\Psi} = E\\ \\mathbf{\\Psi}\n",
    "\\end{align}\n",
    "$,\n",
    "\n",
    "where $\\mathbf{H}$ is the Hamiltonian. Here, $E$ and $\\mathbf{\\Psi}$ are the eigenvectors and eigenvalues of $\\mathbf{H}$, respectively. The Hamiltonian is expressed as\n",
    "\n",
    "$\n",
    "\\Large\n",
    "\\begin{align}\n",
    "H = -\\frac{\\hbar^2}{2m} \\nabla^2 + V(r),\n",
    "\\end{align}\n",
    "$\n",
    "\n",
    "where $V(r)$ is the electric potential energy, given by\n",
    "\n",
    "$\n",
    "\\Large\n",
    "\\begin{align}\n",
    "V(r) = -\\frac{e^{2}}{4 \\pi \\epsilon_{0} r}.\n",
    "\\end{align}\n",
    "$\n",
    "\n",
    "In matrix form, the Schrödinger equation is solved for N equally spaced values of r, such that r goes from ($r_{max}$/N) to $r_{max}$, where $r_{max} \\sim 1.5$ nm is a sensible choice. To turn the Schrödinger equation into a matrix, $\\textbf{V(r)}$ should be a diagonal matrix with the values of the potential at each r along the diagonal.\n",
    "\n",
    "For this problem, the constants for the above equations have been defined for you in the cell below. Please use these for your calculations.\n",
    "* $\\frac{\\hbar^{2}}{2m} = 0.0380998\\ nm^{2} eV$ (called `c1` below)\n",
    "* $\\frac{e^{2}}{4 \\pi \\epsilon_{0}} = 1.43996\\ nm\\ eV$ (called `c2` below)\n",
    "* $r_{0} = 0.0529177\\ nm$ (the Bhor radius, called `r0` below)\n",
    "* Planck constant $h = 6.62606896\\times10^{-34} J s$ (`h`)\n",
    "* Speed of light $c = 299792458\\ m/s$ (`c`)"
   ]
  },
  {
   "cell_type": "code",
   "execution_count": 14,
   "id": "frank-davis",
   "metadata": {},
   "outputs": [],
   "source": [
    "# Constants (use these)\n",
    "c1 = 0.0380998 # nm^2 eV\n",
    "c2 = 1.43996 # nm eV\n",
    "r0 = 0.0529177 # nm\n",
    "h  = 6.62606896e-34 # J s\n",
    "c  = 299792458. # m/s\n",
    "hc = 1239.8419 # eV nm"
   ]
  },
  {
   "cell_type": "markdown",
   "id": "happy-methodology",
   "metadata": {
    "deletable": false,
    "editable": false,
    "nbgrader": {
     "cell_type": "markdown",
     "checksum": "91a247e03dd8f6401f1a320e4dd1fd5c",
     "grade": false,
     "grade_id": "cell-268fb1e71c1478e4",
     "locked": true,
     "schema_version": 3,
     "solution": false,
     "task": false
    }
   },
   "source": [
    "# Task 1 - 20 points\n",
    "\n",
    "For this task, you will create the matrix representing $\\mathbf{H}$ and find the two lowest eigenvalues. These correspond to the two lowest energy levels of the Hydrogen atom.\n",
    "\n",
    "In the constants defined above, the theoretical values for the first two energy levels are given by\n",
    "\n",
    "$\n",
    "\\Large\n",
    "\\begin{align}\n",
    "e_{n} = \\frac{c_2}{2 r_0 n^2},\n",
    "\\end{align}\n",
    "$\n",
    "\n",
    "where $r_{0}$ is the Bhor radius, given by\n",
    "\n",
    "$\n",
    "\\Large\n",
    "\\begin{align}\n",
    "r_{0} = \\frac{4 \\pi \\epsilon_{0} \\hbar^{2}}{m e^{2}}.\n",
    "\\end{align}\n",
    "$\n",
    "\n",
    "In the cells below, write a function that creates a matrix representing the Hamiltonian and returns the two lowest eigenvalues. This function should take a single argument, N, for the size of the matrix.\n",
    "\n",
    "Use your function to determine the minimum value of N (within a factor of 2) required to compute the two lowest energy levels to within 0.05\\% of the theoretical values? Print the values of the two energy levels and the error for each, where the error is $abs((E_{calc} - E_{theo}) / E_{theo})$. $E_{calc}$ is the calculated value and $E_{theo}$ is the theoretical value."
   ]
  },
  {
   "cell_type": "code",
   "execution_count": 15,
   "id": "senior-memory",
   "metadata": {},
   "outputs": [],
   "source": [
    "from scipy import sparse\n",
    "from scipy.sparse import linalg as splinalg\n",
    "from scipy.sparse.linalg import eigs\n",
    "from numpy import linalg"
   ]
  },
  {
   "cell_type": "code",
   "execution_count": 16,
   "id": "breathing-ethics",
   "metadata": {},
   "outputs": [
    {
     "name": "stdout",
     "output_type": "stream",
     "text": [
      "13.605655574599803 3.4014138936499507\n"
     ]
    }
   ],
   "source": [
    "#theoretical values\n",
    "e1_theo = c2/(2*r0)\n",
    "e2_theo = c2/(2*r0*4)\n",
    "print(e1_theo,e2_theo)"
   ]
  },
  {
   "cell_type": "code",
   "execution_count": 17,
   "id": "individual-coverage",
   "metadata": {
    "deletable": false,
    "nbgrader": {
     "cell_type": "code",
     "checksum": "e87b1dd5ee5f2abdad0b56b410ec1114",
     "grade": false,
     "grade_id": "p2t1-answer",
     "locked": false,
     "schema_version": 3,
     "solution": true,
     "task": false
    }
   },
   "outputs": [],
   "source": [
    "# YOUR CODE HERE\n",
    "def calculate_potential(r):\n",
    "    potential = (c2 / r)\n",
    "    potential_term = sparse.diags((potential))\n",
    "    return potential_term"
   ]
  },
  {
   "cell_type": "code",
   "execution_count": 18,
   "id": "married-penny",
   "metadata": {},
   "outputs": [],
   "source": [
    "def calculate_laplace(N,r):\n",
    "    #step size\n",
    "    h = r[1] - r[0]\n",
    "     \n",
    "    main = -2.0 / h**2 * np.ones(N)     \n",
    "    off_diag  =  1.0 / h**2 * np.ones(N - 1)\n",
    "    laplace_term = sparse.diags([main, off_diag, off_diag], (0, -1, 1))\n",
    "    return laplace_term"
   ]
  },
  {
   "cell_type": "code",
   "execution_count": 19,
   "id": "boolean-person",
   "metadata": {},
   "outputs": [],
   "source": [
    "def calculate_energies(N):\n",
    "    r = np.linspace(1.5, 0.0, N, endpoint=False)\n",
    "    laplace_term =   calculate_laplace(N,r)\n",
    "    potential_term = calculate_potential(r)\n",
    "    #H = -c1 L + V(r) \n",
    "    H = -c1 * (laplace_term) - potential_term\n",
    "    eigenvalues, eigenvectors = eigs(H, k=30, which='SM')\n",
    "    eigenvalues = np.abs(np.real(np.sort(eigenvalues)))\n",
    "    return eigenvalues[0:2]"
   ]
  },
  {
   "cell_type": "code",
   "execution_count": 20,
   "id": "fresh-healthcare",
   "metadata": {},
   "outputs": [],
   "source": [
    "def find_N_min(e1,e2):\n",
    "    #found error of 0.0005 to roughly lie between N=600 and N=700 to decrease computation time\n",
    "    N = np.arange(600,700,2)\n",
    "    i = 0\n",
    "    e1_err = 1\n",
    "    e2_err = 1\n",
    "    #e1 error is greater so we use this in while loop\n",
    "    #while the error is bigger than desired, continue calculating energies for increasing N\n",
    "    while e1_err > 0.0005:\n",
    "        i += 1\n",
    "        e1_calc, e2_calc = calculate_energies(N[i])\n",
    "        e1_err = np.abs((e1_calc - e1_theo)/e1_theo)\n",
    "        e2_err = np.abs((e2_calc - e2_theo)/e2_theo)\n",
    "    return N[i]"
   ]
  },
  {
   "cell_type": "code",
   "execution_count": 21,
   "id": "decent-paint",
   "metadata": {},
   "outputs": [
    {
     "name": "stdout",
     "output_type": "stream",
     "text": [
      "636\n"
     ]
    }
   ],
   "source": [
    "N_min = find_N_min(e1_theo,e2_theo)\n",
    "print(N_min)"
   ]
  },
  {
   "cell_type": "code",
   "execution_count": 22,
   "id": "aquatic-genre",
   "metadata": {},
   "outputs": [],
   "source": [
    "e1_calc, e2_calc = calculate_energies(N_min)"
   ]
  },
  {
   "cell_type": "code",
   "execution_count": 23,
   "id": "documented-answer",
   "metadata": {},
   "outputs": [
    {
     "name": "stdout",
     "output_type": "stream",
     "text": [
      "error 1: 0.0004991039698457444 \n",
      "error 2: 0.00012723084053521607\n"
     ]
    }
   ],
   "source": [
    "e1_err = np.abs((e1_calc - e1_theo)/e1_theo)\n",
    "e2_err = np.abs((e2_calc - e2_theo)/e2_theo)\n",
    "print('error 1:', e1_err,'\\n' 'error 2:', e2_err)"
   ]
  },
  {
   "cell_type": "markdown",
   "id": "piano-flashing",
   "metadata": {
    "deletable": false,
    "editable": false,
    "nbgrader": {
     "cell_type": "markdown",
     "checksum": "11b0860d6597ef0c318f7c0afff1fa32",
     "grade": false,
     "grade_id": "cell-c1ac14c82e6bbffe",
     "locked": true,
     "schema_version": 3,
     "solution": false,
     "task": false
    }
   },
   "source": [
    "## Task 2 - 15 points\n",
    "\n",
    "Now, imagine the Coulomb law has a minor modification to it, and is now given by:\n",
    "\n",
    "$\n",
    "\\Large\n",
    "\\begin{align}\n",
    "F(r) = -\\frac{e^{2}}{4 \\pi \\epsilon_{0} r^{2}} \\left( \\frac{r}{r_{0}} \\right)^{\\alpha},\n",
    "\\end{align}\n",
    "$\n",
    "\n",
    "where $\\alpha = 0.01$ and $r_{0}$ is the Bhor radius, given by:\n",
    "\n",
    "$\n",
    "\\Large\n",
    "\\begin{align}\n",
    "r_{0} = \\frac{4 \\pi \\epsilon_{0} \\hbar^{2}}{m e^{2}}.\n",
    "\\end{align}\n",
    "$\n",
    "\n",
    "The electric potential is given by:\n",
    "\n",
    "$\n",
    "\\Large\n",
    "\\begin{align}\n",
    "V(r) = \\int_{r}^{\\infty} F(r^{\\prime}) dr^{\\prime}\n",
    "\\end{align}\n",
    "$\n",
    "\n",
    "Using the constants defined previously, write a function to calculate V(r) using the modified Coulomb law by numerically integrating the equation above. This function need only accept a single value of radius and not an entire array. Your function must agree with the analytical value to within $10^{-5}$ eV.\n",
    "\n",
    "Your function should go in the cell below using the template for `potential_numerical`.\n",
    "\n",
    "In another cell, make a plot of V(r) over the range of r values used in Task 1. Remember to label axes and give units."
   ]
  },
  {
   "cell_type": "code",
   "execution_count": 24,
   "id": "studied-header",
   "metadata": {},
   "outputs": [],
   "source": [
    "from scipy import integrate"
   ]
  },
  {
   "cell_type": "code",
   "execution_count": 25,
   "id": "stunning-institute",
   "metadata": {
    "deletable": false,
    "nbgrader": {
     "cell_type": "code",
     "checksum": "4d52cec8ae58d94a6e020c8c5fc1d2c3",
     "grade": false,
     "grade_id": "p2t2-answer",
     "locked": false,
     "schema_version": 3,
     "solution": true,
     "task": false
    }
   },
   "outputs": [],
   "source": [
    "alpha = 0.01"
   ]
  },
  {
   "cell_type": "code",
   "execution_count": 26,
   "id": "environmental-collector",
   "metadata": {},
   "outputs": [],
   "source": [
    "def potential_numerical(r, alpha):\n",
    "    #lambda function to create F(r)\n",
    "    F = lambda r: -c2/r**2 * (r/r0)**alpha\n",
    "    #integrate using scipy.quad\n",
    "    I = integrate.quad(F, r, np.inf)\n",
    "    x,err = I\n",
    "    return x"
   ]
  },
  {
   "cell_type": "markdown",
   "id": "female-methodology",
   "metadata": {
    "deletable": false,
    "editable": false,
    "nbgrader": {
     "cell_type": "markdown",
     "checksum": "bd30d690274cad5f6a29d6295448f9fe",
     "grade": false,
     "grade_id": "cell-c74656c6ee48b39e",
     "locked": true,
     "schema_version": 3,
     "solution": false,
     "task": false
    }
   },
   "source": [
    "The cell below will test your function for a few values of radius."
   ]
  },
  {
   "cell_type": "code",
   "execution_count": 27,
   "id": "known-stations",
   "metadata": {
    "deletable": false,
    "editable": false,
    "nbgrader": {
     "cell_type": "code",
     "checksum": "d35fbd28772bfd93f9785dc8ea3bd619",
     "grade": true,
     "grade_id": "p2t2-test",
     "locked": true,
     "points": 0,
     "schema_version": 3,
     "solution": false,
     "task": false
    }
   },
   "outputs": [],
   "source": [
    "def potential_exact(r, alpha):\n",
    "    return c2*np.power(r,alpha-1)*np.power(r0,-alpha) / (alpha-1)\n",
    "\n",
    "for my_r in np.linspace(0.01, 1, 100):\n",
    "    diff = abs(potential_numerical(my_r, 0.01) - potential_exact(my_r, 0.01))\n",
    "    assert(diff <= 1e-5)"
   ]
  },
  {
   "cell_type": "markdown",
   "id": "mechanical-polls",
   "metadata": {
    "deletable": false,
    "editable": false,
    "nbgrader": {
     "cell_type": "markdown",
     "checksum": "42d5815be4020709219ea0381c001931",
     "grade": false,
     "grade_id": "cell-484fe07f737ba396",
     "locked": true,
     "schema_version": 3,
     "solution": false,
     "task": false
    }
   },
   "source": [
    "Plot V(r) in the cell below."
   ]
  },
  {
   "cell_type": "code",
   "execution_count": 28,
   "id": "orange-robert",
   "metadata": {
    "deletable": false,
    "nbgrader": {
     "cell_type": "code",
     "checksum": "56bf09fd2364d6f3778647ec3a0fb3f9",
     "grade": false,
     "grade_id": "p2t2-plot",
     "locked": false,
     "schema_version": 3,
     "solution": true,
     "task": false
    }
   },
   "outputs": [],
   "source": [
    "# Plot V(r) here!\n",
    "r_max = 1.5\n",
    "rs = np.linspace(0.01,r_max,1000,endpoint=False)\n",
    "V = []\n",
    "#for loop to calculate values of v for r to r_max\n",
    "for r in rs:\n",
    "    I = potential_numerical(r,alpha)\n",
    "    V.append(I)"
   ]
  },
  {
   "cell_type": "code",
   "execution_count": 29,
   "id": "reduced-vitamin",
   "metadata": {},
   "outputs": [
    {
     "data": {
      "image/png": "[encoded data removed]",
      "text/plain": [
       "<Figure size 720x432 with 1 Axes>"
      ]
     },
     "metadata": {
      "needs_background": "light"
     },
     "output_type": "display_data"
    }
   ],
   "source": [
    "plt.plot(rs,V)\n",
    "plt.xlabel('radius /nm')\n",
    "plt.ylabel('Potential V(r) /eV');"
   ]
  },
  {
   "cell_type": "markdown",
   "id": "iraqi-sweden",
   "metadata": {
    "deletable": false,
    "editable": false,
    "nbgrader": {
     "cell_type": "markdown",
     "checksum": "b76b4b9089b88ca6f7df4a3f9221ca0c",
     "grade": false,
     "grade_id": "cell-51caa9b5ace2e178",
     "locked": true,
     "schema_version": 3,
     "solution": false,
     "task": false
    }
   },
   "source": [
    "## Task 3 - 15 points\n",
    "\n",
    "Write a function to calculate the first 2 energy levels (eigenvalues of $H$) for $\\alpha = 0.01$ and print out the values in eV. The values must be accurate to 0.01 eV. Use the function template `calculate_energy_levels_modified` below for your function. It is fine to call functions you've already written. \n",
    "\n",
    "In the cell after, plot the difference $\\Delta E$ between the two energy levels as a function of $\\alpha$ for $\\alpha = 0, 0.01$. Remember to label the axes."
   ]
  },
  {
   "cell_type": "code",
   "execution_count": 30,
   "id": "incorporate-antarctica",
   "metadata": {
    "deletable": false,
    "nbgrader": {
     "cell_type": "code",
     "checksum": "1566f0a77e906c40459ba04a4fa7f95a",
     "grade": false,
     "grade_id": "p2t3-answer",
     "locked": false,
     "schema_version": 3,
     "solution": true,
     "task": false
    }
   },
   "outputs": [],
   "source": [
    "#this is calculate_energy_modified but the checking function from the computer calls it calculate_energy_levels so renamed it\n",
    "def calculate_energy_levels(N,alpha): \n",
    "# YOUR CODE HERE\n",
    "    r_max = 1.5\n",
    "    rs = np.linspace(1.5, 0.0, N, endpoint=False)\n",
    "    #list of potentials using numerical potential function\n",
    "    V = []\n",
    "    for r in rs:\n",
    "        I = potential_numerical(r,alpha)\n",
    "        V.append(I)\n",
    "    #diagonalise list into matrix\n",
    "    V_mtrx = np.diag(V)\n",
    "    potential_term = V_mtrx\n",
    "\n",
    "    #use laplace function\n",
    "    laplace_term =   calculate_laplace(N,rs)\n",
    "    #calculate energy levels using linalg.eigs()\n",
    "    H = -c1 * (laplace_term) + potential_term\n",
    "    eigenvalues, eigenvectors = eigs(H, k=30, which='SM')\n",
    "    eigenvalues = np.real(np.sort(eigenvalues))\n",
    "    return eigenvalues[0:2]"
   ]
  },
  {
   "cell_type": "code",
   "execution_count": 31,
   "id": "chemical-progress",
   "metadata": {},
   "outputs": [],
   "source": [
    "E1,E2 = calculate_energy_levels(N_min,alpha)"
   ]
  },
  {
   "cell_type": "code",
   "execution_count": 32,
   "id": "banned-cradle",
   "metadata": {},
   "outputs": [
    {
     "data": {
      "text/plain": [
       "(-13.801374976294108, -3.534264998824361)"
      ]
     },
     "execution_count": 32,
     "metadata": {},
     "output_type": "execute_result"
    }
   ],
   "source": [
    "E1,E2"
   ]
  },
  {
   "cell_type": "markdown",
   "id": "universal-joining",
   "metadata": {
    "deletable": false,
    "editable": false,
    "nbgrader": {
     "cell_type": "markdown",
     "checksum": "af2c8383193c38fb3c7f82c7085f3c86",
     "grade": false,
     "grade_id": "cell-210704ac6f4c83e7",
     "locked": true,
     "schema_version": 3,
     "solution": false,
     "task": false
    }
   },
   "source": [
    "The cell below will test your function against the correct values."
   ]
  },
  {
   "cell_type": "code",
   "execution_count": 33,
   "id": "welsh-salvation",
   "metadata": {
    "deletable": false,
    "editable": false,
    "nbgrader": {
     "cell_type": "code",
     "checksum": "e370af493227f94b62704f0b922f6fcb",
     "grade": true,
     "grade_id": "p2t3-test",
     "locked": true,
     "points": 0,
     "schema_version": 3,
     "solution": false,
     "task": false
    }
   },
   "outputs": [
    {
     "name": "stdout",
     "output_type": "stream",
     "text": [
      "Err1 = 0.00016541838666054982, Err2 = 3.5621880451357177e-05\n"
     ]
    }
   ],
   "source": [
    "N = 1024\n",
    "E1, E2 = calculate_energy_levels(N, alpha=0.01)\n",
    "E1_th, E2_th = -13.807387841665346, -3.5346025272551795\n",
    "Err1 = abs((E1 - E1_th) / E1_th)\n",
    "Err2 = abs((E2 - E2_th) / E2_th)\n",
    "print (f\"{Err1 = }, {Err2 = }\")\n",
    "assert Err1 < 5e-4\n",
    "assert Err2 < 5e-4"
   ]
  },
  {
   "cell_type": "markdown",
   "id": "tracked-nation",
   "metadata": {
    "deletable": false,
    "editable": false,
    "nbgrader": {
     "cell_type": "markdown",
     "checksum": "a810a756c3652313db6100ada7066804",
     "grade": false,
     "grade_id": "cell-936bf792ceef031b",
     "locked": true,
     "schema_version": 3,
     "solution": false,
     "task": false
    }
   },
   "source": [
    "In the cell below, make the plot of $\\Delta E$ vs. $\\alpha$ as instructed above."
   ]
  },
  {
   "cell_type": "code",
   "execution_count": 34,
   "id": "secure-breakdown",
   "metadata": {
    "deletable": false,
    "nbgrader": {
     "cell_type": "code",
     "checksum": "84aa6f9312979323b057cd11c96edc71",
     "grade": false,
     "grade_id": "p2t3-plot",
     "locked": false,
     "schema_version": 3,
     "solution": true,
     "task": false
    }
   },
   "outputs": [
    {
     "data": {
      "image/png": "[encoded data removed]",
      "text/plain": [
       "<Figure size 720x432 with 1 Axes>"
      ]
     },
     "metadata": {
      "needs_background": "light"
     },
     "output_type": "display_data"
    }
   ],
   "source": [
    "# YOUR CODE HERE\n",
    "E1,E2 = calculate_energy_levels(N_min,0.01)\n",
    "#calculate delta E for alpha=0.01\n",
    "E_del = np.abs(E1-E2)\n",
    "\n",
    "#calculate delta E for alpha=0\n",
    "E3,E4 = calculate_energy_levels(N_min,0)\n",
    "E_del2 = np.abs(E3-E4)\n",
    "#plot delta E and alpha\n",
    "dels = [E_del, E_del2]\n",
    "alphas = [0.01,0]\n",
    "plt.plot(alphas,dels)\n",
    "plt.xlabel('alpha')\n",
    "plt.ylabel('Energy change');"
   ]
  },
  {
   "cell_type": "markdown",
   "id": "white-newport",
   "metadata": {
    "deletable": false,
    "editable": false,
    "nbgrader": {
     "cell_type": "markdown",
     "checksum": "3c43358270165de72c778bc575a7292d",
     "grade": false,
     "grade_id": "cell-5cb872bbd2dc8c06",
     "locked": true,
     "schema_version": 3,
     "solution": false,
     "task": false
    }
   },
   "source": [
    "## Task 4 - 20 points\n",
    "\n",
    "The transition between the 1st and 2nd states is known as the Lyman-$\\alpha$ transition. The photon emitted by this transition will have a wavelength, $\\lambda$, given by\n",
    "\n",
    "$\n",
    "\\Large\n",
    "\\begin{align}\n",
    "\\lambda = \\frac{hc}{\\Delta E}.\n",
    "\\end{align}\n",
    "$\n",
    "\n",
    "Imagine the wavelength of this transition has been measured as $\\lambda = 121.5 \\pm 0.1$ nm. What is the maximum value of $\\alpha > 0$ consistent with this measurement (i.e., the largest $\\alpha$ such that the predicted and measured wavelengths differ by less than 0.1 nm)?\n",
    "\n",
    "Using the template `find_alpha_max`, write a function that performs the above calculation and returns the value of $\\alpha_{max}$. Your value for $\\alpha_{max}$ should be within 1% of the correct answer."
   ]
  },
  {
   "cell_type": "code",
   "execution_count": 35,
   "id": "sixth-devices",
   "metadata": {},
   "outputs": [
    {
     "data": {
      "text/plain": [
       "1.217437324254777e-07"
      ]
     },
     "execution_count": 35,
     "metadata": {},
     "output_type": "execute_result"
    }
   ],
   "source": [
    "#finding lambda at alpha=0 to initialise it before loop\n",
    "E1,E2 = calculate_energy_levels(N_min,0)\n",
    "E_del = np.abs(E1-E2)\n",
    "wavelength = h*c/(E_del*1.6e-19)\n",
    "wavelength"
   ]
  },
  {
   "cell_type": "code",
   "execution_count": 36,
   "id": "inappropriate-depth",
   "metadata": {
    "deletable": false,
    "nbgrader": {
     "cell_type": "code",
     "checksum": "9b5e5df0ada7feae010cb7634e95befb",
     "grade": false,
     "grade_id": "p2t4-answer",
     "locked": false,
     "schema_version": 3,
     "solution": true,
     "task": false
    }
   },
   "outputs": [],
   "source": [
    "def find_alpha_max():\n",
    "    # YOUR CODE HERE\n",
    "    i = 0\n",
    "    wavelength = 1.2174373242547493e-07\n",
    "    alphas = np.linspace(0,1,10000) #small increments of alpha for accuracy\n",
    "    \n",
    "    #create a while loop to calculate wavelengths using function, until tolerance is reached\n",
    "    #take lower limit to give max alpha\n",
    "    while np.abs(121.4e-9 - wavelength) > 0.1e-9: \n",
    "        i += 1\n",
    "        E1,E2 = calculate_energy_levels(N_min,alphas[i])\n",
    "        E_del = np.abs(E1-E2)\n",
    "        wavelength = h*c/(E_del*1.6e-19)\n",
    "    \n",
    "    return alphas[i], wavelength"
   ]
  },
  {
   "cell_type": "markdown",
   "id": "several-observation",
   "metadata": {
    "deletable": false,
    "editable": false,
    "nbgrader": {
     "cell_type": "markdown",
     "checksum": "029d9bb4ad970a0f3b58166038c981a4",
     "grade": false,
     "grade_id": "cell-12251fe279fb41cb",
     "locked": true,
     "schema_version": 3,
     "solution": false,
     "task": false
    }
   },
   "source": [
    "The cell below will run your function. You will not be told the correct answer."
   ]
  },
  {
   "cell_type": "code",
   "execution_count": 37,
   "id": "curious-limit",
   "metadata": {
    "deletable": false,
    "editable": false,
    "nbgrader": {
     "cell_type": "code",
     "checksum": "8967ce8a95ea408dc7dd43bb3154f106",
     "grade": true,
     "grade_id": "p2t4-test",
     "locked": true,
     "points": 0,
     "schema_version": 3,
     "solution": false,
     "task": false
    }
   },
   "outputs": [
    {
     "name": "stdout",
     "output_type": "stream",
     "text": [
      "alpha_max = (0.0030003000300030005, 1.2149831348037612e-07).\n"
     ]
    }
   ],
   "source": [
    "amax = find_alpha_max()\n",
    "print (f\"alpha_max = {amax}.\")"
   ]
  },
  {
   "cell_type": "markdown",
   "id": "respiratory-nickname",
   "metadata": {
    "deletable": false,
    "editable": false,
    "nbgrader": {
     "cell_type": "markdown",
     "checksum": "8c427e3cc4396532e582db4fa871d3e6",
     "grade": false,
     "grade_id": "cell-79ad889c43725b88",
     "locked": true,
     "schema_version": 3,
     "solution": false,
     "task": false
    }
   },
   "source": [
    "## Task 5 - 10 points\n",
    "\n",
    "Knowing the shape of the matrix for of $\\textbf{H}$, is it possible to greatly increase the accuracy of the energy level calculation without a significant increase in computation time? In the cell below, write a function to compute the first two energy levels using the original (unmodified) potential. Your function should run in 15 seconds or less and compute the first two energy levels each to within an accuracy of $5\\times10^{-6}$."
   ]
  },
  {
   "cell_type": "code",
   "execution_count": 38,
   "id": "loaded-detective",
   "metadata": {
    "deletable": false,
    "nbgrader": {
     "cell_type": "code",
     "checksum": "eb0ea8a77bee6538ed6e282f3593c6f8",
     "grade": false,
     "grade_id": "p2t5-answer",
     "locked": false,
     "schema_version": 3,
     "solution": true,
     "task": false
    }
   },
   "outputs": [],
   "source": [
    "def calculate_energy_levels_super():\n",
    "    #to increase accuracy, increase N - for an accuracy of 5E-6, value of N is approx = 10050\n",
    "    N = 10050 \n",
    "    r = np.linspace(1.5, 0.0, N, endpoint=False)\n",
    "    laplace_term =   calculate_laplace(N,r)\n",
    "    potential_term = calculate_potential(r)\n",
    "     \n",
    "    H = -c1 * (laplace_term) - potential_term\n",
    "    #to decrease speed:\n",
    "    #1. reduce k to only compute 2 eigenvals\n",
    "    #2. Find eigenvalues near sigma using shift-invert mode\n",
    "    eigenvalues, eigenvectors = eigs(H, k=2, sigma=-8) \n",
    "    eigenvalues = (np.real(np.sort(eigenvalues)))\n",
    "    \n",
    "    return eigenvalues[0:2]"
   ]
  },
  {
   "cell_type": "code",
   "execution_count": 39,
   "id": "statistical-validity",
   "metadata": {
    "deletable": false,
    "editable": false,
    "nbgrader": {
     "cell_type": "code",
     "checksum": "9ef37861d20b1722978a1fa5ec9b7b72",
     "grade": true,
     "grade_id": "p2t5-test",
     "locked": true,
     "points": 0,
     "schema_version": 3,
     "solution": false,
     "task": false
    }
   },
   "outputs": [
    {
     "name": "stdout",
     "output_type": "stream",
     "text": [
      "Calculation took 0.1886146068572998 seconds.\n",
      "Err1 = 4.990196878456062e-06, Err2 = 3.6138414946457783e-06.\n"
     ]
    }
   ],
   "source": [
    "t1 = time.time()\n",
    "my_e1, my_e2 = calculate_energy_levels_super()\n",
    "t2 = time.time()\n",
    "print (f\"Calculation took {t2-t1} seconds.\")\n",
    "\n",
    "e1_th = -c2 / (2 * r0)\n",
    "e2_th = e1_th / 4\n",
    "\n",
    "er1 = abs((my_e1 - e1_th) / e1_th)\n",
    "er2 = abs((my_e2 - e2_th) / e2_th)\n",
    "print (f\"Err1 = {er1}, Err2 = {er2}.\")"
   ]
  },
  {
   "cell_type": "code",
   "execution_count": null,
   "id": "partial-mambo",
   "metadata": {},
   "outputs": [],
   "source": []
  }
 ],
 "metadata": {
  "kernelspec": {
   "display_name": "Python 3 (ipykernel)",
   "language": "python",
   "name": "python3"
  },
  "language_info": {
   "codemirror_mode": {
    "name": "ipython",
    "version": 3
   },
   "file_extension": ".py",
   "mimetype": "text/x-python",
   "name": "python",
   "nbconvert_exporter": "python",
   "pygments_lexer": "ipython3",
   "version": "3.9.2"
  }
 },
 "nbformat": 4,
 "nbformat_minor": 5
}
