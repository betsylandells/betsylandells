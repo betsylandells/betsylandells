{
 "cells": [
  {
   "cell_type": "markdown",
   "metadata": {
    "deletable": false,
    "editable": false,
    "nbgrader": {
     "cell_type": "markdown",
     "checksum": "e32e74c7ed3247caad90be08189e7518",
     "grade": false,
     "grade_id": "cell-d7446457cde001b4",
     "locked": true,
     "schema_version": 3,
     "solution": false
    }
   },
   "source": [
    "# Numerical Recipes Workshop 3\n",
    "For the week of 11 October to 15 October, 2021\n",
    "\n",
    "**Please submit your notebook via Noteable by 6:00pm BST on Friday, 15 October.**\n",
    "\n",
    "**Before submitting your notebook, clear the output by clicking *Restart & Clear Output* from the *Kernel* menu.**\n",
    "\n",
    "### Learning Objectives\n",
    "- Integration\n",
    "- Root finding for nonlinear equations"
   ]
  },
  {
   "cell_type": "code",
   "execution_count": 1,
   "metadata": {},
   "outputs": [],
   "source": [
    "from matplotlib import pyplot as plt\n",
    "%matplotlib inline\n",
    "import numpy as np"
   ]
  },
  {
   "cell_type": "code",
   "execution_count": 2,
   "metadata": {},
   "outputs": [],
   "source": [
    "plt.rcParams['figure.figsize'] = (10, 6)\n",
    "plt.rcParams['font.size'] = 14"
   ]
  },
  {
   "cell_type": "markdown",
   "metadata": {
    "deletable": false,
    "editable": false,
    "nbgrader": {
     "cell_type": "markdown",
     "checksum": "8925f9bb9e78e495b180872f2ba51408",
     "grade": false,
     "grade_id": "cell-a17cde168ad15fd3",
     "locked": true,
     "schema_version": 3,
     "solution": false,
     "task": false
    }
   },
   "source": [
    "## Integration\n",
    "Simple integration/summation can be done with basic array operations:\n",
    "* `np.sum` - sum\n",
    "* `np.cumsum` - cumulative sum\n",
    "\n",
    "The SciPy [integrate](https://docs.scipy.org/doc/scipy/reference/tutorial/integrate.html) module (`scipy.integrate`) has several useful functions for computing integrals."
   ]
  },
  {
   "cell_type": "code",
   "execution_count": 3,
   "metadata": {},
   "outputs": [],
   "source": [
    "from scipy import integrate"
   ]
  },
  {
   "cell_type": "markdown",
   "metadata": {
    "deletable": false,
    "editable": false,
    "nbgrader": {
     "cell_type": "markdown",
     "checksum": "2d5850e02cf885320881016043695d5e",
     "grade": false,
     "grade_id": "cell-955115f24f4271f8",
     "locked": true,
     "schema_version": 3,
     "solution": false,
     "task": false
    }
   },
   "source": [
    "### Integrate This\n",
    "\n",
    "In the exercises below, we will implement a few different integration methods and experiment with their SciPy analogs.\n",
    "\n",
    "You will integrate the following function:\n",
    "\n",
    "$\n",
    "\\Large\n",
    "\\begin{align}\n",
    "f(x) = cos(2x) + \\frac{x}{2} + 1\n",
    "\\end{align}\n",
    "$\n",
    "\n",
    "whose integral is\n",
    "\n",
    "$\n",
    "\\Large\n",
    "\\begin{align}\n",
    "\\int f(x) dx = \\frac{sin(2x)}{2} + \\frac{x^2}{4} + x + C\n",
    "\\end{align}\n",
    "$"
   ]
  },
  {
   "cell_type": "code",
   "execution_count": 4,
   "metadata": {
    "deletable": false,
    "editable": false,
    "nbgrader": {
     "cell_type": "code",
     "checksum": "09b572355ae7d2d80e789a201af2fc15",
     "grade": false,
     "grade_id": "cell-c4839d4fb3101798",
     "locked": true,
     "schema_version": 3,
     "solution": false,
     "task": false
    }
   },
   "outputs": [],
   "source": [
    "def my_function(x):\n",
    "    return np.cos(2*x) + x/2 + 1\n",
    "\n",
    "def my_int_function(x):\n",
    "    return np.sin(2*x)/2 + x**2/4 + x"
   ]
  },
  {
   "cell_type": "markdown",
   "metadata": {
    "deletable": false,
    "editable": false,
    "nbgrader": {
     "cell_type": "markdown",
     "checksum": "2e35824adb71d6b3f22fbe3874671188",
     "grade": false,
     "grade_id": "cell-1dab45cf087fd98a",
     "locked": true,
     "schema_version": 3,
     "solution": false,
     "task": false
    }
   },
   "source": [
    "### Trapezoid Rule\n",
    "\n",
    "For a function, f(x), evaluated at N evenly spaced points from x = a to b, the Trapezoid Rule approximation to the integral of f(x), is given by\n",
    "\n",
    "$\n",
    "\\Large\n",
    "\\begin{align}\n",
    "I \\simeq h \\left( \\frac{1}{2}f_0 + f_1 + \\ldots + f_{N-2} + \\frac{1}{2}f_{N-1} \\right),\n",
    "\\end{align}\n",
    "$\n",
    "\n",
    "where\n",
    "\n",
    "$\n",
    "\\Large\n",
    "\\begin{align}\n",
    "h = \\frac{b - a}{N - 1}.\n",
    "\\end{align}\n",
    "$\n",
    "\n",
    "In the cell below (after the definition of `my_x`), compute the integral of f(x) over the range [0, 3] using the trapezoid rule. Use the variables `my_x` and `my_dx` defined below. Compare with the [SciPy implementation](https://docs.scipy.org/doc/scipy/reference/generated/scipy.integrate.trapz.html) and analytical result."
   ]
  },
  {
   "cell_type": "code",
   "execution_count": 5,
   "metadata": {},
   "outputs": [],
   "source": [
    "my_x = np.linspace(0, 3, 101)\n",
    "my_dx = (my_x[-1] - my_x[0]) / (my_x.size - 1)"
   ]
  },
  {
   "cell_type": "code",
   "execution_count": 6,
   "metadata": {
    "deletable": false,
    "nbgrader": {
     "cell_type": "code",
     "checksum": "533aea5bd694938c2379c27d81843f6c",
     "grade": false,
     "grade_id": "cell-c0fe4535a19d2493",
     "locked": false,
     "schema_version": 3,
     "solution": true,
     "task": false
    }
   },
   "outputs": [
    {
     "data": {
      "text/plain": [
       "5.110334165740222"
      ]
     },
     "execution_count": 6,
     "metadata": {},
     "output_type": "execute_result"
    }
   ],
   "source": [
    "# Remove the line that says \"raise NotImplementedError\"\n",
    "# YOUR CODE HERE\n",
    "y = my_function(my_x)\n",
    "y_right = y[-1] # right endpoints\n",
    "y_left = y[0] # left endpoints\n",
    "T_end = (my_dx/2) * np.sum(y_right + y_left)\n",
    "T_mid = my_dx*np.sum(y[1:-1])\n",
    "I_num = T_end + T_mid\n",
    "I_num"
   ]
  },
  {
   "cell_type": "code",
   "execution_count": 7,
   "metadata": {},
   "outputs": [
    {
     "data": {
      "text/plain": [
       "5.1103341657402215"
      ]
     },
     "execution_count": 7,
     "metadata": {},
     "output_type": "execute_result"
    }
   ],
   "source": [
    "#analytical\n",
    "#I = np.sum(my_int_function(my_x))\n",
    "#scipy\n",
    "I = integrate.trapz(y, x=None, dx=my_dx)\n",
    "I"
   ]
  },
  {
   "cell_type": "markdown",
   "metadata": {
    "deletable": false,
    "editable": false,
    "nbgrader": {
     "cell_type": "markdown",
     "checksum": "c121e20c5807aa126a3fd24aaadd5ccc",
     "grade": false,
     "grade_id": "cell-f790685309a0e07a",
     "locked": true,
     "schema_version": 3,
     "solution": false,
     "task": false
    }
   },
   "source": [
    "In the cell below, repeat the trapezoid rule integration for varying N, e.g., from ~10 to ~1000 and plot the error as a function of N. For this exercise, define the error as the absolute value of the difference between analytical and numerical results."
   ]
  },
  {
   "cell_type": "code",
   "execution_count": 8,
   "metadata": {},
   "outputs": [],
   "source": [
    "def my_trapz(y,my_dx):\n",
    "    y_right = y[-1] # right endpoints\n",
    "    y_left = y[0] # left endpoints\n",
    "    T_end = (my_dx/2) * (y_right + y_left)\n",
    "    T_mid = my_dx*np.sum(y[1:-1])\n",
    "    I_num = T_end + T_mid\n",
    "    return I_num"
   ]
  },
  {
   "cell_type": "code",
   "execution_count": 123,
   "metadata": {},
   "outputs": [
    {
     "data": {
      "text/plain": [
       "5.110292250900537"
      ]
     },
     "execution_count": 123,
     "metadata": {},
     "output_type": "execute_result"
    }
   ],
   "source": [
    "I_exct = my_int_function(3) - my_int_function(0)\n",
    "I_exct"
   ]
  },
  {
   "cell_type": "code",
   "execution_count": 124,
   "metadata": {},
   "outputs": [],
   "source": [
    "N = [10,100,1000]\n",
    "error = []\n",
    "for n in N:\n",
    "    my_x = np.linspace(0, 3, n)\n",
    "    my_dx = (my_x[-1] - my_x[0]) / (n - 1)\n",
    "    y = my_function(my_x)\n",
    "    I_num = my_trapz(y, my_dx)\n",
    "    err = np.abs(I_exct - I_num)\n",
    "    error.append(err)"
   ]
  },
  {
   "cell_type": "code",
   "execution_count": 125,
   "metadata": {},
   "outputs": [
    {
     "data": {
      "image/png": "[encoded data removed]",
      "text/plain": [
       "<Figure size 720x432 with 1 Axes>"
      ]
     },
     "metadata": {
      "needs_background": "light"
     },
     "output_type": "display_data"
    }
   ],
   "source": [
    "plt.loglog(N,error);\n",
    "plt.xlabel('log(N)')\n",
    "plt.ylabel('log(error)');"
   ]
  },
  {
   "cell_type": "markdown",
   "metadata": {
    "deletable": false,
    "editable": false,
    "nbgrader": {
     "cell_type": "markdown",
     "checksum": "cdff5b69c3013630f38e424e263bd9fa",
     "grade": false,
     "grade_id": "cell-3c130c41351e0df2",
     "locked": true,
     "schema_version": 3,
     "solution": false,
     "task": false
    }
   },
   "source": [
    "### Simpson's Rule\n",
    "\n",
    "For a function, f(x), evaluated at N evenly spaced points from x = a to b, the Simpson's Rule approximation to the integral of f(x), is given by\n",
    "\n",
    "$\n",
    "\\large\n",
    "\\begin{align}\n",
    "I \\simeq h \\left( \\frac{1}{3}f_0 + \\frac{4}{3}f_1 + \\frac{2}{3}f_2 + \\frac{4}{3}f_3 + \\frac{2}{3}f_4 + \\ldots + \\frac{2}{3}f_{N-3} + \\frac{4}{3}f_{N-2} + \\frac{1}{3}f_{N-1} \\right).\n",
    "\\end{align}\n",
    "$\n",
    "\n",
    "In the cell below, compute the same integral as you did previously using Simpson's Rule and compare with the [SciPy implementation](https://docs.scipy.org/doc/scipy/reference/generated/scipy.integrate.simps.html). Can you do this without loops by using array slicing?"
   ]
  },
  {
   "cell_type": "code",
   "execution_count": 12,
   "metadata": {
    "deletable": false,
    "nbgrader": {
     "cell_type": "code",
     "checksum": "4bfced02df02933924dcfdd9d43eabe9",
     "grade": false,
     "grade_id": "cell-2d8c48023e7e9343",
     "locked": false,
     "schema_version": 3,
     "solution": true,
     "task": false
    }
   },
   "outputs": [],
   "source": [
    "# Remove the line that says \"raise NotImplementedError\"\n",
    "# YOUR CODE HERE\n",
    "my_x = np.linspace(0, 3, 101)\n",
    "my_dx = (my_x[-1] - my_x[0]) / (my_x.size - 1)\n",
    "y = my_function(my_x)"
   ]
  },
  {
   "cell_type": "code",
   "execution_count": 13,
   "metadata": {},
   "outputs": [],
   "source": [
    "def my_simps(y,my_dx):\n",
    "    y_odd = y[1:-1:2]\n",
    "    y_even = y[2:-1:2]\n",
    "    y_right = y[-1] # right endpoints\n",
    "    y_left = y[0] # left endpoints\n",
    "    T_end = (1/3) * (y_right + y_left)\n",
    "    T_odd = (4/3) * np.sum(y_odd)\n",
    "    T_even = (2/3) * np.sum(y_even)\n",
    "    I = my_dx * (T_end + T_odd + T_even)\n",
    "    return I"
   ]
  },
  {
   "cell_type": "markdown",
   "metadata": {
    "deletable": false,
    "editable": false,
    "nbgrader": {
     "cell_type": "markdown",
     "checksum": "f30c967bdc1270e4bcd8987bd3706f16",
     "grade": false,
     "grade_id": "cell-897193a28d891188",
     "locked": true,
     "schema_version": 3,
     "solution": false,
     "task": false
    }
   },
   "source": [
    "Now, compute the error for Simpson's rule as a function of N. Make a plot and compare with the Trapezoid Rule.\n",
    "\n",
    "**Note: to perform optimally, Simpson's Rule requires an odd number of points.**"
   ]
  },
  {
   "cell_type": "code",
   "execution_count": 14,
   "metadata": {
    "deletable": false,
    "nbgrader": {
     "cell_type": "code",
     "checksum": "9752b1417ca59340c34142463ac15fe2",
     "grade": false,
     "grade_id": "cell-bf6dc98bc07f25c7",
     "locked": false,
     "schema_version": 3,
     "solution": true,
     "task": false
    }
   },
   "outputs": [],
   "source": [
    "# Remove the line that says \"raise NotImplementedError\"\n",
    "# YOUR CODE HERE\n",
    "N = [10,100,1000,10000,100000]\n",
    "error = []\n",
    "for n in N:\n",
    "    my_x = np.linspace(0, 3, n)\n",
    "    my_dx = (my_x[-1] - my_x[0]) / (n-1)\n",
    "    y = my_function(my_x)\n",
    "    I_num = my_simps(y, my_dx)\n",
    "    err = np.abs(I_exct - I_num)\n",
    "    error.append(err)"
   ]
  },
  {
   "cell_type": "code",
   "execution_count": 122,
   "metadata": {
    "deletable": false,
    "nbgrader": {
     "cell_type": "code",
     "checksum": "171bc38e983ecd6a42fbbd6da762273b",
     "grade": false,
     "grade_id": "cell-20c9e84f2c397d8a",
     "locked": false,
     "schema_version": 3,
     "solution": true,
     "task": false
    }
   },
   "outputs": [
    {
     "data": {
      "text/plain": [
       "Text(0, 0.5, 'log(error)')"
      ]
     },
     "execution_count": 122,
     "metadata": {},
     "output_type": "execute_result"
    },
    {
     "data": {
      "image/png": "[encoded data removed]",
      "text/plain": [
       "<Figure size 720x432 with 1 Axes>"
      ]
     },
     "metadata": {
      "needs_background": "light"
     },
     "output_type": "display_data"
    }
   ],
   "source": [
    "plt.loglog(N,error)\n",
    "plt.xlabel('log(N)')\n",
    "plt.ylabel('log(error)');"
   ]
  },
  {
   "cell_type": "markdown",
   "metadata": {
    "deletable": false,
    "editable": false,
    "nbgrader": {
     "cell_type": "markdown",
     "checksum": "3e199085329445ae99fed99f444db2bf",
     "grade": false,
     "grade_id": "cell-96c2670c80a45b1f",
     "locked": true,
     "schema_version": 3,
     "solution": false,
     "task": false
    }
   },
   "source": [
    "### SciPy `quad` function\n",
    "\n",
    "The [SciPy quad function](https://docs.scipy.org/doc/scipy/reference/generated/scipy.integrate.quad.html#scipy.integrate.quad) has several nice features, like accepting a function, the ability to integrate to infinity, and estimating its own error. In the cell below, use `quad` to perform the same integration. No demonstration has been given on purpose. Use the documentation available at the link in this cell. Part of this challenge is learning from existing documentation only."
   ]
  },
  {
   "cell_type": "code",
   "execution_count": 16,
   "metadata": {
    "deletable": false,
    "nbgrader": {
     "cell_type": "code",
     "checksum": "c0971c2c301e2b44f64a6f257165293e",
     "grade": false,
     "grade_id": "cell-cd43c95b483fa3bc",
     "locked": false,
     "schema_version": 3,
     "solution": true,
     "task": false
    }
   },
   "outputs": [
    {
     "data": {
      "text/plain": [
       "(5.110292250900538, 5.6735641195132945e-14)"
      ]
     },
     "execution_count": 16,
     "metadata": {},
     "output_type": "execute_result"
    }
   ],
   "source": [
    "# Remove the line that says \"raise NotImplementedError\"\n",
    "# YOUR CODE HERE\n",
    "a = my_x[0]\n",
    "b = my_x[-1]\n",
    "y = lambda x: my_function(x)\n",
    "integrate.quad(y, a, b)"
   ]
  },
  {
   "cell_type": "markdown",
   "metadata": {
    "deletable": false,
    "editable": false,
    "nbgrader": {
     "cell_type": "markdown",
     "checksum": "8c46f5ad8d4ad292a03e69132d4567a5",
     "grade": false,
     "grade_id": "cell-96a41f2c4cd85e44",
     "locked": true,
     "schema_version": 3,
     "solution": false
    }
   },
   "source": [
    "## Root Finding - a practical example\n",
    "\n",
    "This section will introduce you to a practical example of root finding for a non-linear equation.\n",
    "\n",
    "### The temperature of interstellar dust grains\n",
    "\n",
    "Understanding the nature of interstellar dust grains is vital to many areas of astronomy, from star formation to measuring the cosmic microwave background (CMB). Many observed properties of interstellar dust are derived from knowing its temperature. In general, dust is well mixed with the gas in the interstellar medium (ISM), but the two are rarely at the same temperature.\n",
    "\n",
    "The timescales for dust-related processes are very short, so the dust temperature can be calculated by assuming it is in thermal equilibrium at all times (i.e., $de/dt = 0$). Then, one only needs to balance the various heating and cooling processes, i.e., to find the root of the energy loss equation:\n",
    "\n",
    "$\n",
    "\\begin{align}\n",
    "\\large\n",
    "\\frac{de}{dt} = \\Gamma(T_{dust}) - \\Lambda(T_{dust}),\n",
    "\\end{align}\n",
    "$\n",
    "\n",
    "where $\\Gamma$ and $\\Lambda$ are the dust heating and cooling rates, respectively.\n",
    "\n",
    "Including the relevant heating and cooling processes, this becomes\n",
    "\n",
    "$\n",
    "\\begin{align}\n",
    "\\large\n",
    "\\frac{de}{dt} = 4 \\sigma T_{CMB}^{4} \\kappa_{gr} +\n",
    "\\Gamma_{isrf} + \\Lambda_{gas/grain}(T_{dust}, T_{gas}, n_{H}) - 4 \\sigma T_{dust}^{4} \\kappa_{gr},\n",
    "\\end{align}\n",
    "$\n",
    "\n",
    "where $\\sigma$ is the Stefan-Boltzmann constant, $T_{CMB}$ is the temperature of the CMB, $\\kappa_{gr}$ is the dust opacity, $\\Gamma_{isrf}$ is the heating from the instellar radiation field, and $\\Lambda_{gas/grain}$ is the rate of heat exchange via collisions between the gas and dust. The first term represents heating from the CMB, the second is heating from nearby stars, the third term transfers heat from the hotter to the cooler matter, and the final term is the cooling of the dust by thermal radiation.\n",
    "\n",
    "The opacity of the dust can be approximated by the piece-wise power-law:\n",
    "\n",
    "$\n",
    "\\begin{align}\n",
    "\\large\n",
    "\\kappa_{gr}(T_{dust}) \\propto \\left\\{ \\begin{array}{ll}\n",
    "T_{dust}^{2} & , T_{dust} < 200 K,\\\\\n",
    "\\textrm{constant} & , 200\\ K < T_{dust} < 1500\\ K,\\\\\n",
    "T_{dust}^{-12} & , T_{dust} > 1500\\ K.\n",
    "\\end{array} \\right.\n",
    "\\end{align}\n",
    "$\n",
    "\n",
    "The gas/grain heat transfer rate is given by:\n",
    "\n",
    "$\n",
    "\\begin{align}\n",
    "\\large\n",
    "\\Lambda_{gas/grain} = 7.2\\times10^{-8} n_{H}\n",
    "\\left(\\frac{T_{gas}}{1000 K}\\right)^{\\frac{1}{2}} (1 - 0.8 e^{-75/T_{gas}}) (T_{gas} - T_{dust})\\ [erg/s/g],\n",
    "\\end{align}\n",
    "$\n",
    "\n",
    "where $n_{H}$ is the number density of the gas.\n",
    "\n",
    "### Calculating dust temperatures with root finding\n",
    "\n",
    "The above equations have been coded below with the full heat balance equation (i.e., the equation for $de/dt$) implemented as the `gamma_grain` function. Do `help(gamma_grain)` to see how it can be called.\n",
    "\n",
    "Assuming a constant gas temperature, $T_{gas}$ and gas density, $n_{H}$, calculate the dust temperature, $T_{dust}$, using bisection, the secand method, and the Scipy implementation of [Brent's method](https://docs.scipy.org/doc/scipy/reference/generated/scipy.optimize.brentq.html#scipy.optimize.brentq). You will implement your own bisection and secant methods. Count the number of steps to reach a solution.\n",
    "\n",
    "In the `gamma_grain` function, use the default values for the interstellar radiation field, `isrf`, and redshift, `z`. You are welcome to experiment with different values in your own time."
   ]
  },
  {
   "cell_type": "code",
   "execution_count": 17,
   "metadata": {
    "deletable": false,
    "editable": false,
    "nbgrader": {
     "cell_type": "code",
     "checksum": "4fc65350ff072d254c77f04b60a04c61",
     "grade": false,
     "grade_id": "cell-635536ecf8abb20c",
     "locked": true,
     "schema_version": 3,
     "solution": false
    }
   },
   "outputs": [],
   "source": [
    "mh = 1.673735e-24 # g\n",
    "# Stefan-Boltzmann constant\n",
    "sigma_b = 5.670373e-5 # erg cm^−2 s^−1 K^−4\n",
    "\n",
    "def gas_grain(Tgas):\n",
    "    \"\"\"\n",
    "    Return gas/grain heat transfer rate coefficient.\n",
    "    \"\"\"\n",
    "\n",
    "    grain_coef = 1.2e-31 * 1.0e3**-0.5 / mh\n",
    "    gasgra = grain_coef * Tgas**0.5 * \\\n",
    "        (1.0 - (0.8 * np.exp(-75.0 / Tgas)))\n",
    "    return gasgra\n",
    "\n",
    "def kappa_grain(Tdust):\n",
    "    \"\"\"\n",
    "    Return grain mean opacity.\n",
    "    \"\"\"\n",
    "\n",
    "    kgr1   = 4.0e-4\n",
    "    kgr200 = 16.0\n",
    "    T_subl = 1500.\n",
    "\n",
    "    Tdust = np.asarray(Tdust)\n",
    "    kgr = np.zeros(Tdust.size)\n",
    "\n",
    "    f1 = Tdust < 200\n",
    "    if f1.any():\n",
    "        kgr[f1] = kgr1 * Tdust[f1]**2\n",
    "\n",
    "    kgr[(Tdust >= 200) & (Tdust < T_subl)] = kgr200\n",
    "\n",
    "    f2 = Tdust >= T_subl\n",
    "    if f2.any():\n",
    "        kgr[f2] = kgr200 * (Tdust[f2] / T_subl)**-12\n",
    "    \n",
    "    return kgr\n",
    "\n",
    "def gamma_isrf():\n",
    "    \"\"\"\n",
    "    Interstellar radiation field heating rate coefficient.\n",
    "    \"\"\"\n",
    "\n",
    "    return 4.154682e-22 / mh\n",
    "\n",
    "def gamma_grain(Tdust, Tgas, nh, isrf=1.7, z=0):\n",
    "    \"\"\"\n",
    "    Return the grain heating rate.\n",
    "    \n",
    "    Parameters\n",
    "    ----------\n",
    "    \n",
    "    Tdust : float\n",
    "        dust temperature in K\n",
    "    Tgas : float\n",
    "        gas temperature in K\n",
    "    nh : float\n",
    "        Hydrogen number density in cm^-3\n",
    "    isrf : float, optional\n",
    "        interstellar radiation field strengh in Habing units\n",
    "        default: 1.7 (typical for local interstellar medium)\n",
    "    z : float, optional\n",
    "        current redshift, used to set the temperature of the\n",
    "        Cosmic Microwave Background.\n",
    "        default: 0\n",
    "    \"\"\"\n",
    "\n",
    "    TCMB = 2.73 * (1 + z)\n",
    "    my_isrf = isrf * gamma_isrf()\n",
    "\n",
    "    return my_isrf + \\\n",
    "        4 * sigma_b * kappa_grain(Tdust) * (TCMB**4 - Tdust**4) + \\\n",
    "        (gas_grain(Tgas) * nh * (Tgas - Tdust))"
   ]
  },
  {
   "cell_type": "markdown",
   "metadata": {
    "deletable": false,
    "editable": false,
    "nbgrader": {
     "cell_type": "markdown",
     "checksum": "f7258b3cf9e7daee69638a1dbdcb84de",
     "grade": false,
     "grade_id": "cell-2e2f2a43f0118770",
     "locked": true,
     "schema_version": 3,
     "solution": false,
     "task": false
    }
   },
   "source": [
    "### Physical conditions of the gas\n",
    "\n",
    "Use the values in the cell below for the temperature of the gas, $T_{gas}$, the hydrogen number density, $n_{H}$, and the CMB temperature, $T_{CMB}$."
   ]
  },
  {
   "cell_type": "code",
   "execution_count": 18,
   "metadata": {},
   "outputs": [],
   "source": [
    "### Tgas and nh values\n",
    "Tgas = 100 # K\n",
    "nh = 1e3 # cm^-3\n",
    "TCMB = 2.73"
   ]
  },
  {
   "cell_type": "markdown",
   "metadata": {
    "deletable": false,
    "editable": false,
    "nbgrader": {
     "cell_type": "markdown",
     "checksum": "e23c65726e3255a5ad3bfa94e8d25622",
     "grade": false,
     "grade_id": "cell-2d3d4396b403d160",
     "locked": true,
     "schema_version": 3,
     "solution": false
    }
   },
   "source": [
    "### Bisection\n",
    "Implement the bisection method to calculate $T_{dust}$ for a relative tolerance of $10^{-4}$, where the relative tolerance is given by:\n",
    "\n",
    "$\n",
    "\\begin{align}\n",
    "rtol = \\left|\\frac{val_{new} - val_{old}}{val_{old}}\\right|.\n",
    "\\end{align}\n",
    "$\n",
    "\n",
    "A sensible initial bound is $[T_{CMB}, T_{gas}]$, where $T_{CMB} = 2.73 K$ in the local Universe."
   ]
  },
  {
   "cell_type": "code",
   "execution_count": 65,
   "metadata": {},
   "outputs": [],
   "source": [
    "def bisect(Tgas, nh, a, b, TOL):\n",
    "    step = 1\n",
    "    while np.abs((b-a)/a) > TOL:\n",
    "        m = (a+b)/2\n",
    "        if gamma_grain(a,Tgas,nh)*gamma_grain(m,Tgas,nh) < 0:\n",
    "            a = a\n",
    "            b = m\n",
    "        else:\n",
    "            a = m\n",
    "            b = b\n",
    "        step += 1\n",
    "    m = (a+b)/2\n",
    "    return m, step"
   ]
  },
  {
   "cell_type": "code",
   "execution_count": 138,
   "metadata": {},
   "outputs": [],
   "source": [
    "tol = 1e-4"
   ]
  },
  {
   "cell_type": "code",
   "execution_count": 67,
   "metadata": {},
   "outputs": [
    {
     "data": {
      "text/plain": [
       "(40.855221099853516, 16)"
      ]
     },
     "execution_count": 67,
     "metadata": {},
     "output_type": "execute_result"
    }
   ],
   "source": [
    "bisect(Tgas, nh, TCMB, Tgas, tol)"
   ]
  },
  {
   "cell_type": "code",
   "execution_count": null,
   "metadata": {
    "deletable": false,
    "editable": false,
    "nbgrader": {
     "cell_type": "code",
     "checksum": "a0338cb6bc934d64108fb7db7614ee65",
     "grade": true,
     "grade_id": "cell-20fca59a9ebf4e30",
     "locked": true,
     "points": 0,
     "schema_version": 3,
     "solution": false,
     "task": false
    }
   },
   "outputs": [],
   "source": []
  },
  {
   "cell_type": "markdown",
   "metadata": {
    "deletable": false,
    "editable": false,
    "nbgrader": {
     "cell_type": "markdown",
     "checksum": "48254c532a29966863c78204c21a24d9",
     "grade": false,
     "grade_id": "cell-5addc25aee365bac",
     "locked": true,
     "schema_version": 3,
     "solution": false,
     "task": false
    }
   },
   "source": [
    "### Secant Method\n",
    "\n",
    "Implement the secant method for the same tolerance and initial guesses."
   ]
  },
  {
   "cell_type": "code",
   "execution_count": null,
   "metadata": {
    "deletable": false,
    "editable": false,
    "nbgrader": {
     "cell_type": "code",
     "checksum": "8f8456e0e845497eaaa4ef6a56885fb9",
     "grade": true,
     "grade_id": "cell-82d84ac0be52bddf",
     "locked": true,
     "points": 0,
     "schema_version": 3,
     "solution": false,
     "task": false
    }
   },
   "outputs": [],
   "source": []
  },
  {
   "cell_type": "code",
   "execution_count": 144,
   "metadata": {},
   "outputs": [],
   "source": [
    "def secant(Tgas, nh, x0, x1, TOL):\n",
    "    step = 1\n",
    "    while np.abs((x1-x0)/x0) > TOL:\n",
    "        x2 = x1 - gamma_grain(x1,Tgas,nh) * ((x1-x0)/(gamma_grain(x1,Tgas,nh)- gamma_grain(x0,Tgas,nh))) \n",
    "        x0 = x1\n",
    "        x1 = x2\n",
    "        step += 1\n",
    "    x2 = x1 - gamma_grain(x1,Tgas,nh) * ((x1-x0)/(gamma_grain(x1,Tgas,nh)- gamma_grain(x0,Tgas,nh))) \n",
    "    return(x2,step)"
   ]
  },
  {
   "cell_type": "code",
   "execution_count": 145,
   "metadata": {},
   "outputs": [
    {
     "data": {
      "text/plain": [
       "(array([29918650.21264512]), 6)"
      ]
     },
     "execution_count": 145,
     "metadata": {},
     "output_type": "execute_result"
    }
   ],
   "source": [
    "secant(Tgas, nh, TCMB, Tgas, tol) #not sure why this isnt working"
   ]
  },
  {
   "cell_type": "code",
   "execution_count": 191,
   "metadata": {},
   "outputs": [],
   "source": [
    "def secant(Tgas, nh, x1, x2, tol):\n",
    "    n = 0; xm = 0; x0 = 0; c = 0;\n",
    "    while np.abs((x2 - x1)) > tol:\n",
    "        # calculate the intermediate value\n",
    "        x0 = ((x1 * gamma_grain(x2,Tgas,nh) - x2 * gamma_grain(x1,Tgas,nh)) / (gamma_grain(x2,Tgas,nh) - gamma_grain(x1,Tgas,nh)));\n",
    "        # update the value of interval\n",
    "        x1 = x2\n",
    "        x2 = x0\n",
    "        # update number of iteration\n",
    "        n += 1\n",
    "    xm = ((x1 * gamma_grain(x2,Tgas,nh) - x2 * gamma_grain(x1,Tgas,nh)) / (gamma_grain(x2,Tgas,nh) - gamma_grain(x1,Tgas,nh)));\n",
    "    return xm, n"
   ]
  },
  {
   "cell_type": "code",
   "execution_count": 192,
   "metadata": {},
   "outputs": [
    {
     "data": {
      "text/plain": [
       "(array([29918650.21264512]), 6)"
      ]
     },
     "execution_count": 192,
     "metadata": {},
     "output_type": "execute_result"
    }
   ],
   "source": [
    "secant(Tgas, nh, TCMB, Tgas, tol)"
   ]
  },
  {
   "cell_type": "markdown",
   "metadata": {
    "deletable": false,
    "editable": false,
    "nbgrader": {
     "cell_type": "markdown",
     "checksum": "f9586e056220faa7f53ec48c2ea44cd9",
     "grade": false,
     "grade_id": "cell-7646bf81d9fdc2d2",
     "locked": true,
     "schema_version": 3,
     "solution": false,
     "task": false
    }
   },
   "source": [
    "### Further Discussion\n",
    "Many experienced the behavior that the secant method arrived at a solution of millions of K when starting with an initial guess of $T = T_{CMB}$. Run the cell below to produce a plot of $de/dt$ vs. $T.$\n",
    "\n",
    "As the plot illustrates, this is because de/dt is very flat at low temperatures, causing the first iteration to overshoot. For this reason, it is often necessary to place sanity checks on the calculation, for example, mandating that the solution stay within the initial bounds of [TCMB, Tgas]. This also demonstrates the value of trying to visualize the data to gain insight into how to solve the problem."
   ]
  },
  {
   "cell_type": "code",
   "execution_count": 52,
   "metadata": {},
   "outputs": [],
   "source": [
    "nH = nh"
   ]
  },
  {
   "cell_type": "code",
   "execution_count": 53,
   "metadata": {
    "deletable": false,
    "editable": false,
    "nbgrader": {
     "cell_type": "code",
     "checksum": "df973067f8b0974bb895c094c7f41add",
     "grade": false,
     "grade_id": "cell-7e65d604e036bbe5",
     "locked": true,
     "schema_version": 3,
     "solution": false,
     "task": false
    }
   },
   "outputs": [
    {
     "data": {
      "image/png": "[encoded data removed]",
      "text/plain": [
       "<Figure size 720x432 with 1 Axes>"
      ]
     },
     "metadata": {
      "needs_background": "light"
     },
     "output_type": "display_data"
    }
   ],
   "source": [
    "my_T_vals = np.linspace(TCMB, Tgas, 200)\n",
    "my_gamma = gamma_grain(my_T_vals, Tgas, nH)\n",
    "\n",
    "plt.semilogy(my_T_vals, my_gamma, color='k', label='positive')\n",
    "plt.semilogy(my_T_vals, -my_gamma, linestyle='--', color='k', label='negative')\n",
    "plt.xlabel('T [K]')\n",
    "plt.ylabel('de/dt')\n",
    "plt.legend()\n",
    "plt.show()"
   ]
  },
  {
   "cell_type": "markdown",
   "metadata": {
    "deletable": false,
    "editable": false,
    "nbgrader": {
     "cell_type": "markdown",
     "checksum": "dab522087e8c3f6beeaf0a51a67dcf35",
     "grade": false,
     "grade_id": "cell-efd9f692c3deb68e",
     "locked": true,
     "schema_version": 3,
     "solution": false,
     "task": false
    }
   },
   "source": [
    "### Brent's Method\n",
    "\n",
    "Use [Brent's method](https://docs.scipy.org/doc/scipy/reference/generated/scipy.optimize.brentq.html#scipy.optimize.brentq) to calculate $T_{dust}$.\n",
    "\n",
    "As a bonus, try calculating $T_{dust}$ for a range of $n_{H}$ from $1\\ cm^{-3}$ to $10^{13} cm^{-3}$ and plotting $T_{dust}$ vs. $n_{H}$."
   ]
  },
  {
   "cell_type": "code",
   "execution_count": 54,
   "metadata": {},
   "outputs": [],
   "source": [
    "import scipy.optimize as opt"
   ]
  },
  {
   "cell_type": "code",
   "execution_count": null,
   "metadata": {
    "deletable": false,
    "editable": false,
    "nbgrader": {
     "cell_type": "code",
     "checksum": "6fb946f51b2996992e4aa8e6a3c9f281",
     "grade": true,
     "grade_id": "cell-0ad0d45279c27b69",
     "locked": true,
     "points": 0,
     "schema_version": 3,
     "solution": false,
     "task": false
    }
   },
   "outputs": [],
   "source": []
  },
  {
   "cell_type": "code",
   "execution_count": 88,
   "metadata": {},
   "outputs": [],
   "source": [
    "def gamma_ans(x):\n",
    "    return gamma_grain(x,Tgas,nh)"
   ]
  },
  {
   "cell_type": "code",
   "execution_count": 90,
   "metadata": {},
   "outputs": [
    {
     "data": {
      "text/plain": [
       "40.85667182448289"
      ]
     },
     "execution_count": 90,
     "metadata": {},
     "output_type": "execute_result"
    }
   ],
   "source": [
    "root = opt.brentq(gamma_ans, TCMB, Tgas)\n",
    "root"
   ]
  },
  {
   "cell_type": "code",
   "execution_count": 97,
   "metadata": {
    "deletable": false,
    "editable": false,
    "nbgrader": {
     "cell_type": "code",
     "checksum": "3fd6242e7be3321d74778cb5b7485bdb",
     "grade": true,
     "grade_id": "cell-49381c61867b3577",
     "locked": true,
     "points": 0,
     "schema_version": 3,
     "solution": false,
     "task": false
    }
   },
   "outputs": [],
   "source": [
    "# Try a range of nH values.\n",
    "nH = np.logspace(0, 13, 100)\n"
   ]
  },
  {
   "cell_type": "code",
   "execution_count": 102,
   "metadata": {},
   "outputs": [
    {
     "data": {
      "image/png": "[encoded data removed]",
      "text/plain": [
       "<Figure size 720x432 with 1 Axes>"
      ]
     },
     "metadata": {
      "needs_background": "light"
     },
     "output_type": "display_data"
    }
   ],
   "source": [
    "roots = []\n",
    "for n in nH:\n",
    "    def gamma_ans(x):\n",
    "        return gamma_grain(x,Tgas,n)\n",
    "    root = opt.brentq(gamma_ans, TCMB, Tgas)\n",
    "    roots.append(root)\n",
    "plt.loglog(nH,roots)\n",
    "plt.xlabel('log(nH)')\n",
    "plt.ylabel('log(T_dust)');"
   ]
  },
  {
   "cell_type": "markdown",
   "metadata": {
    "deletable": false,
    "editable": false,
    "nbgrader": {
     "cell_type": "markdown",
     "checksum": "e8c64ed3057546814b1f4f11ab6acef6",
     "grade": false,
     "grade_id": "cell-7f97386ecabac572",
     "locked": true,
     "schema_version": 3,
     "solution": false,
     "task": false
    }
   },
   "source": [
    "### Physical Explanation\n",
    "The dust is heated by the cosmic microwave background (CMB), the interstellar radiation field (ISRF), and collisions with the gas. At low densities, the heating is dominated by the ISRF (the CMB is always sub-dominant here). Collisions with the gas are rare because the density is low. As the density increases, collisions are more common and heat is transferred efficiently from the gas into the dust. At high enough densities, they become fully coupled."
   ]
  }
 ],
 "metadata": {
  "kernelspec": {
   "display_name": "Python 3 (ipykernel)",
   "language": "python",
   "name": "python3"
  },
  "language_info": {
   "codemirror_mode": {
    "name": "ipython",
    "version": 3
   },
   "file_extension": ".py",
   "mimetype": "text/x-python",
   "name": "python",
   "nbconvert_exporter": "python",
   "pygments_lexer": "ipython3",
   "version": "3.9.2"
  }
 },
 "nbformat": 4,
 "nbformat_minor": 2
}
