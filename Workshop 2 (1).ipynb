{
 "cells": [
  {
   "cell_type": "markdown",
   "metadata": {
    "deletable": false,
    "editable": false,
    "nbgrader": {
     "cell_type": "markdown",
     "checksum": "cbcc617dc21d92bc3e1dfbf612595ee3",
     "grade": false,
     "grade_id": "cell-d7446457cde001b4",
     "locked": true,
     "schema_version": 3,
     "solution": false
    }
   },
   "source": [
    "# Numerical Recipes Workshop 2\n",
    "\n",
    "For the week of 4 October to 8 October, 2021\n",
    "\n",
    "**Please submit your notebook via Noteable by Friday, 8 October by 6:00pm BST. Don't forget to clear the output first.**\n",
    "\n",
    "### Learning Objectives\n",
    "- Working with complex numbers\n",
    "- Matrix operations\n",
    "- Matrix solving\n",
    "- Computing eigenvalues and eigenvectors\n",
    "- Discretizing differential equations\n",
    "\n",
    "**Note, wherever you see `raise NotImplementedError()`, you should delete that line and put your code there.**"
   ]
  },
  {
   "cell_type": "code",
   "execution_count": 1,
   "metadata": {},
   "outputs": [],
   "source": [
    "from matplotlib import pyplot as plt\n",
    "%matplotlib inline\n",
    "import numpy as np\n",
    "import time"
   ]
  },
  {
   "cell_type": "code",
   "execution_count": 2,
   "metadata": {},
   "outputs": [],
   "source": [
    "plt.rcParams['figure.figsize'] = (10, 6)\n",
    "plt.rcParams['font.size'] = 14"
   ]
  },
  {
   "cell_type": "markdown",
   "metadata": {
    "deletable": false,
    "editable": false,
    "nbgrader": {
     "cell_type": "markdown",
     "checksum": "5d1b44cbabe4a38afcd4c42e92045578",
     "grade": false,
     "grade_id": "cell-41b97d2f9c49a4a5",
     "locked": true,
     "schema_version": 3,
     "solution": false,
     "task": false
    }
   },
   "source": [
    "## Complex Numbers\n",
    "\n",
    "Complex numbers of the form $a + bi$ (where $i = \\sqrt{-1}$) are natively supported by the `complex` type in Python. Complex numbers can be expressed just as above, only with the letter $j$ substituted for $i$. Try the following below:\n",
    "\n",
    "```\n",
    "x = 5 + 4j\n",
    "print (x)\n",
    "print (type(x))\n",
    "```"
   ]
  },
  {
   "cell_type": "code",
   "execution_count": 3,
   "metadata": {
    "deletable": false,
    "nbgrader": {
     "cell_type": "code",
     "checksum": "3964ea2abe720b9bf1b425d266e41b45",
     "grade": false,
     "grade_id": "cell-e2ec4823fdd370af",
     "locked": false,
     "schema_version": 3,
     "solution": true,
     "task": false
    }
   },
   "outputs": [
    {
     "name": "stdout",
     "output_type": "stream",
     "text": [
      "(5+4j)\n",
      "<class 'complex'>\n"
     ]
    }
   ],
   "source": [
    "# YOUR CODE HERE\n",
    "x = 5 + 4j\n",
    "print (x)\n",
    "print (type(x))"
   ]
  },
  {
   "cell_type": "markdown",
   "metadata": {
    "deletable": false,
    "editable": false,
    "nbgrader": {
     "cell_type": "markdown",
     "checksum": "d4286f08ed67858a30b15fe7782fd87d",
     "grade": false,
     "grade_id": "cell-c22ea4df1941cea9",
     "locked": true,
     "schema_version": 3,
     "solution": false,
     "task": false
    }
   },
   "source": [
    "The `complex` type has attributes, `real` and `imag`, to access the real and imaginary components. It also has a `conjugate` class method to compute the complex conjugate. Below, print out the real and imaginary components of `x` and its complex conjugate.\n",
    "\n",
    "Hint, for an object `x`, an attribute `y` is accessed as `x.y` and a method `z` is access (or called, to be exact) as `x.z()`."
   ]
  },
  {
   "cell_type": "code",
   "execution_count": 4,
   "metadata": {
    "deletable": false,
    "nbgrader": {
     "cell_type": "code",
     "checksum": "5e09ba5a3d524b0fe74dc0e9e802e923",
     "grade": false,
     "grade_id": "cell-f513d961d5e4ab00",
     "locked": false,
     "schema_version": 3,
     "solution": true,
     "task": false
    }
   },
   "outputs": [
    {
     "name": "stdout",
     "output_type": "stream",
     "text": [
      "5.0\n",
      "4.0\n",
      "(5-4j)\n"
     ]
    }
   ],
   "source": [
    "# YOUR CODE HERE\n",
    "print(x.real)\n",
    "print(x.imag)\n",
    "print(x.conjugate())"
   ]
  },
  {
   "cell_type": "markdown",
   "metadata": {
    "deletable": false,
    "editable": false,
    "nbgrader": {
     "cell_type": "markdown",
     "checksum": "8479ad06ed5a52b553d3cf9ef4dfd41c",
     "grade": false,
     "grade_id": "cell-6326a564ed161e3b",
     "locked": true,
     "schema_version": 3,
     "solution": false,
     "task": false
    }
   },
   "source": [
    "### Complex Arrays\n",
    "\n",
    "NumPy also has support for arrays of complex numbers. A complex array can be created in a very similar way. Try the following below. Note that it is not enough to say `j*np.array(...)`. One must use `1j`.\n",
    "\n",
    "```\n",
    "x = np.arange(10) + 1j*np.arange(10)\n",
    "```\n",
    "\n",
    "The `conj` class method can be used to compute the complex conjugate of the array. The array also has `real` and `imag` attributes. Arithmetic operations on complex arrays work the same as normal numeric arrays. Now you know!"
   ]
  },
  {
   "cell_type": "code",
   "execution_count": 5,
   "metadata": {
    "deletable": false,
    "nbgrader": {
     "cell_type": "code",
     "checksum": "901eef80fa60cbaaa2b163f2d785d070",
     "grade": false,
     "grade_id": "cell-4b74f26a0eb8c067",
     "locked": false,
     "schema_version": 3,
     "solution": true,
     "task": false
    }
   },
   "outputs": [
    {
     "name": "stdout",
     "output_type": "stream",
     "text": [
      "[0.+0.j 1.+1.j 2.+2.j 3.+3.j 4.+4.j 5.+5.j 6.+6.j 7.+7.j 8.+8.j 9.+9.j]\n",
      "[0.-0.j 1.-1.j 2.-2.j 3.-3.j 4.-4.j 5.-5.j 6.-6.j 7.-7.j 8.-8.j 9.-9.j]\n"
     ]
    }
   ],
   "source": [
    "# YOUR CODE HERE\n",
    "x = np.arange(10) + 1j*np.arange(10)\n",
    "print(x)\n",
    "print(x.conjugate())"
   ]
  },
  {
   "cell_type": "markdown",
   "metadata": {
    "deletable": false,
    "editable": false,
    "nbgrader": {
     "cell_type": "markdown",
     "checksum": "baef4dcabd108cdba439b0b0123bc2ed",
     "grade": false,
     "grade_id": "cell-3109c05067619b61",
     "locked": true,
     "schema_version": 3,
     "solution": false,
     "task": false
    }
   },
   "source": [
    "Remember in math class (Americans just call it \"math\", not \"maths\") when they told you that $e^{i \\omega t} = \\cos{\\omega t} + i \\sin{\\omega t}$ and you were like, \"Come on, no way!\" Well, now's your chance to prove it to yourself (or prove those math teachers wrong once and for all).\n",
    "\n",
    "In the cell below, make a plot of the real and imaginary components of $f(t) = e^{i \\omega t}$, where $\\omega = 1$, over the range $t = 0$ to $4\\pi$. Add axes labels and a legend."
   ]
  },
  {
   "cell_type": "code",
   "execution_count": 6,
   "metadata": {
    "deletable": false,
    "nbgrader": {
     "cell_type": "code",
     "checksum": "c9588ee57dce0fdc9b35798e24edef79",
     "grade": false,
     "grade_id": "cell-2242ae7cce342939",
     "locked": false,
     "schema_version": 3,
     "solution": true,
     "task": false
    }
   },
   "outputs": [
    {
     "data": {
      "image/png": "[encoded data removed]",
      "text/plain": [
       "<Figure size 720x432 with 1 Axes>"
      ]
     },
     "metadata": {
      "needs_background": "light"
     },
     "output_type": "display_data"
    }
   ],
   "source": [
    "# YOUR CODE HERE\n",
    "omega = 1\n",
    "t = np.linspace(0,(4*np.pi))\n",
    "f = np.exp(1j*omega*t)\n",
    "plt.plot(t,f.real,label='real')\n",
    "plt.plot(t,f.imag,label='imaginary')\n",
    "plt.legend()\n",
    "plt.xlabel('time');\n",
    "plt.ylabel('f(t)');"
   ]
  },
  {
   "cell_type": "markdown",
   "metadata": {
    "deletable": false,
    "editable": false,
    "nbgrader": {
     "cell_type": "markdown",
     "checksum": "3cd1b1b96cef2bf64a070dd827561da2",
     "grade": false,
     "grade_id": "cell-b15ac5f2210c127c",
     "locked": true,
     "schema_version": 3,
     "solution": false,
     "task": false
    }
   },
   "source": [
    "##  Working with Matrices\n",
    "\n",
    "The recommended way to work with matrices is to define them as regular NumPy arrays. Multidimensional arrays come with built-in functions for doing things like transposes, matrix multiplication, and getting values along the diagonal.\n",
    "\n",
    "In the cell, we make two 5x5 arrays, a and b, filled with random values. Use them to try out the following operations:\n",
    "- get the transpose of an array by accessing its `T` attribute (e.g., `a.T` for matrix a).\n",
    "- print the values along the diagonal using the `diagonal` class method (e.g., `a.diagonal()` for matrix a).\n",
    "- perform the matrix multiplication of $a \\times b$ using the `@` operator (i.e., `a @ b`). Alternatively, one can do `np.dot(a, b)`. Compare this to what you get when you simply do `a * b`.\n",
    "\n",
    "**Note, your random values will be different from those of your neighbors.**"
   ]
  },
  {
   "cell_type": "code",
   "execution_count": 7,
   "metadata": {
    "deletable": false,
    "nbgrader": {
     "cell_type": "code",
     "checksum": "423b39b89ad02c4973f08dcc88b98b73",
     "grade": false,
     "grade_id": "cell-523bad4c85d4ea06",
     "locked": false,
     "schema_version": 3,
     "solution": true,
     "task": false
    }
   },
   "outputs": [
    {
     "name": "stdout",
     "output_type": "stream",
     "text": [
      "[[2.11158334e-01 7.76089437e-01 5.44944522e-02 2.11945727e-03\n",
      "  1.68958424e-01]\n",
      " [4.34126702e-02 3.46931209e-01 3.80606412e-01 3.34626654e-01\n",
      "  2.48112656e-01]\n",
      " [7.46105961e-01 5.46151334e-02 6.62732809e-01 5.21109170e-01\n",
      "  1.58133627e-02]\n",
      " [4.27877673e-01 5.97725456e-02 1.14298702e-01 4.38089274e-02\n",
      "  1.99463706e-02]\n",
      " [2.98263425e-01 1.20476952e-03 2.74076564e-02 3.99092194e-04\n",
      "  1.23194122e-02]]\n"
     ]
    }
   ],
   "source": [
    "N = 5\n",
    "a = np.random.random((N, N))\n",
    "b = np.random.random((N, N))\n",
    "# YOUR CODE HERE\n",
    "\n",
    "#print(a.T);\n",
    "#print(a.diagonal())\n",
    "#print(a@b)\n",
    "#print(np.dot(a,b))\n",
    "print(a*b) #multiplies them piecewise"
   ]
  },
  {
   "cell_type": "markdown",
   "metadata": {
    "deletable": false,
    "editable": false,
    "nbgrader": {
     "cell_type": "markdown",
     "checksum": "e8c9526ad621e10e68219278e8fabeac",
     "grade": false,
     "grade_id": "cell-b4670547d8cfa9ce",
     "locked": true,
     "schema_version": 3,
     "solution": false,
     "task": false
    }
   },
   "source": [
    "## Matrix Solving\n",
    "\n",
    "The [scipy.linalg](https://docs.scipy.org/doc/scipy/reference/linalg.html) module has functionality for solving matrix equations of the form\n",
    "\n",
    "$\n",
    "\\Large\n",
    "\\begin{align}\n",
    "\\mathbf{A} x = \\mathbf{b}\n",
    "\\end{align}\n",
    "$\n",
    "\n",
    "Below, we set matrices, $\\mathbf{A}$ and $\\mathbf{b}$. Use [solve](https://docs.scipy.org/doc/scipy/reference/generated/scipy.linalg.solve.html#scipy.linalg.solve) to compute $x$ and confirm that it is a correct solution to the equation.\n",
    "\n",
    "We'll use the `time.time` function to time how long it takes."
   ]
  },
  {
   "cell_type": "code",
   "execution_count": 3,
   "metadata": {},
   "outputs": [],
   "source": [
    "from scipy import linalg"
   ]
  },
  {
   "cell_type": "code",
   "execution_count": 9,
   "metadata": {
    "deletable": false,
    "nbgrader": {
     "cell_type": "code",
     "checksum": "b809050730b5297ab269629aabaa0006",
     "grade": false,
     "grade_id": "cell-494629e073a8ba52",
     "locked": false,
     "schema_version": 3,
     "solution": true,
     "task": false
    }
   },
   "outputs": [
    {
     "name": "stdout",
     "output_type": "stream",
     "text": [
      "That took 0.0006415843963623047 seconds.\n"
     ]
    }
   ],
   "source": [
    "N = 5\n",
    "a = np.random.random((N, N))\n",
    "b = np.random.random((N, 1))\n",
    "t1 = time.time()\n",
    "# YOUR CODE HERE\n",
    "x = linalg.solve(a,b)\n",
    "t2 = time.time()\n",
    "print (f\"That took {t2-t1} seconds.\")"
   ]
  },
  {
   "cell_type": "markdown",
   "metadata": {
    "deletable": false,
    "editable": false,
    "nbgrader": {
     "cell_type": "markdown",
     "checksum": "59f19e533c6ba6d140fecd936b5cb393",
     "grade": false,
     "grade_id": "cell-02a05406bc4878cb",
     "locked": true,
     "schema_version": 3,
     "solution": false,
     "task": false
    }
   },
   "source": [
    "### How well does it scale?\n",
    "\n",
    "In the cell below, repeat the steps above for matrices of increasing size to estimate how well the `solve` function scales for dense matrices. Start at N = 100 and increase up to ~10000 or so by doubling N each time. Compute the time taken to call `solve`. Store values in a list and make a plot of N vs. t. Can you estimate the scaling by eye from the plot?"
   ]
  },
  {
   "cell_type": "code",
   "execution_count": 10,
   "metadata": {
    "deletable": false,
    "nbgrader": {
     "cell_type": "code",
     "checksum": "f2d2181e6c2fc9e9670c36a9d3b6736a",
     "grade": false,
     "grade_id": "cell-8910fb26319901c7",
     "locked": false,
     "schema_version": 3,
     "solution": true,
     "task": false
    }
   },
   "outputs": [],
   "source": [
    "# YOUR CODE HERE\n",
    "N = 100\n",
    "size = []\n",
    "timediff = []\n",
    "while N < 6000:\n",
    "    size.append(N)\n",
    "    a = np.random.random((N, N))\n",
    "    b = np.random.random((N, 1))\n",
    "    t1 = time.time()\n",
    "    linalg.solve(a,b)\n",
    "    t2 = time.time()\n",
    "    td = t2-t1\n",
    "    timediff.append(td)\n",
    "    N = N + N"
   ]
  },
  {
   "cell_type": "code",
   "execution_count": 11,
   "metadata": {},
   "outputs": [
    {
     "data": {
      "image/png": "[encoded data removed]",
      "text/plain": [
       "<Figure size 720x432 with 1 Axes>"
      ]
     },
     "metadata": {
      "needs_background": "light"
     },
     "output_type": "display_data"
    }
   ],
   "source": [
    "plt.plot(size,timediff)\n",
    "plt.xlabel('size (N x N)');\n",
    "plt.ylabel('time (s)');"
   ]
  },
  {
   "cell_type": "markdown",
   "metadata": {
    "deletable": false,
    "editable": false,
    "nbgrader": {
     "cell_type": "markdown",
     "checksum": "ccb6726725ba27ccab6af3962ab95347",
     "grade": false,
     "grade_id": "cell-535ab0d1700a1bb7",
     "locked": true,
     "schema_version": 3,
     "solution": false
    }
   },
   "source": [
    "## Computing Eigenvalues\n",
    "\n",
    "The [scipy.linalg](https://docs.scipy.org/doc/scipy/reference/linalg.html) library also contains a number of useful  functions for calculating eigenvalue and eigenvectors. Most relevantly, the [scipy.linalg.eig](https://docs.scipy.org/doc/scipy/reference/generated/scipy.linalg.eig.html#scipy.linalg.eig) function can be used for computing the eigenvalues and eigenvectors of a general, square matrix.\n",
    "\n",
    "As a reminder, the eigen-equation is\n",
    "\n",
    "$\n",
    "\\large\n",
    "\\begin{align}\n",
    "A \\mathbf{X} = \\lambda \\mathbf{X}\n",
    "\\end{align}\n",
    "$\n",
    "\n",
    "where $\\lambda$ are the eigenvalues and  $\\mathbf{X}$ are the eigenvectors.\n",
    "\n",
    "In the cell below, compute the eigenvalues and eigenvectors for a 5x5 matrix of random values. Then, confirm that these eigenvectors and eigenvalues satisfy the eigen-equation.\n",
    "\n",
    "Specifically, check that the following has been satisfied:\n",
    "\n",
    "$\n",
    "\\large\n",
    "\\begin{align}\n",
    "A \\mathbf{X} - \\lambda \\mathbf{X} = 0\n",
    "\\end{align}\n",
    "$\n",
    "\n",
    "Note, the values should be close, but not exactly zero."
   ]
  },
  {
   "cell_type": "code",
   "execution_count": 12,
   "metadata": {
    "deletable": false,
    "nbgrader": {
     "cell_type": "code",
     "checksum": "5f0d793d9b04dc7fc454886409605dfe",
     "grade": false,
     "grade_id": "cell-8fe75daffe50859b",
     "locked": false,
     "schema_version": 3,
     "solution": true,
     "task": false
    }
   },
   "outputs": [
    {
     "data": {
      "text/plain": [
       "array([[ 1.33226763e-15+0.00000000e+00j,  1.80411242e-16+1.38777878e-17j,\n",
       "         1.80411242e-16-1.38777878e-17j, -5.55111512e-17+1.11022302e-16j,\n",
       "        -5.55111512e-17-1.11022302e-16j],\n",
       "       [-1.33226763e-15+0.00000000e+00j, -2.77555756e-17+2.22044605e-16j,\n",
       "        -2.77555756e-17-2.22044605e-16j,  2.01227923e-16+2.01227923e-16j,\n",
       "         2.01227923e-16-2.01227923e-16j],\n",
       "       [ 6.66133815e-16+0.00000000e+00j,  4.09394740e-16+3.81639165e-17j,\n",
       "         4.09394740e-16-3.81639165e-17j,  0.00000000e+00+2.22044605e-16j,\n",
       "         0.00000000e+00-2.22044605e-16j],\n",
       "       [ 2.22044605e-16+0.00000000e+00j,  9.54097912e-17-1.80411242e-16j,\n",
       "         9.54097912e-17+1.80411242e-16j, -3.67761377e-16-5.55111512e-17j,\n",
       "        -3.67761377e-16+5.55111512e-17j],\n",
       "       [-6.66133815e-16+0.00000000e+00j,  1.44957830e-16-8.32667268e-17j,\n",
       "         1.44957830e-16+8.32667268e-17j, -4.99600361e-16+1.66533454e-16j,\n",
       "        -4.99600361e-16-1.66533454e-16j]])"
      ]
     },
     "execution_count": 12,
     "metadata": {},
     "output_type": "execute_result"
    }
   ],
   "source": [
    "N = 5\n",
    "a = np.random.random((N, N))\n",
    "# YOUR CODE HERE\n",
    "eigval, eigvec = linalg.eig(a)\n",
    "a@eigvec - eigval*eigvec"
   ]
  },
  {
   "cell_type": "markdown",
   "metadata": {
    "deletable": false,
    "editable": false,
    "nbgrader": {
     "cell_type": "markdown",
     "checksum": "d67ab9a74d0848e1052afbd22899bab0",
     "grade": false,
     "grade_id": "cell-34ee09cd489e60d5",
     "locked": true,
     "schema_version": 3,
     "solution": false,
     "task": false
    }
   },
   "source": [
    "### Fun with symmetric matrices\n",
    "\n",
    "Symmetric matrices (where `x[i,j] == x[j,i]`) have an interesting property where a histogram of all eigenvalues looks like a semi-circle. Let's demonstrate this.\n",
    "\n",
    "#### Creating a symmetric matrix\n",
    "\n",
    "A symmetric matrix of random values can be created in the following way:\n",
    "1. Create a random NxN array of random values as we have done previously.\n",
    "2. Add to that matrix its tranpose. Verify the symmetry of the matrix by checking `(x == x.T).all()`.\n",
    "\n",
    "Next, do some additional normalization to limit the range of the eigenvalues.\n",
    "\n",
    "```\n",
    "x -= x.mean()\n",
    "x /= np.sqrt(N)\n",
    "```\n",
    "\n",
    "Below, create the symmetric matrix and calculate its eigenvalues. Use the code below to plot a histogram of the eigenvalues.\n",
    "```\n",
    "hist, bins = np.histogram(evals.real, bins=50, density=True)\n",
    "\n",
    "plt.bar(bins[:-1], hist, width=(bins[1]-bins[0]))\n",
    "plt.show()\n",
    "```\n",
    "\n",
    "Start with a value of N~100 and increase until you get a nice circular shape. Break this activity up into multiple cells to make it easier to follow."
   ]
  },
  {
   "cell_type": "code",
   "execution_count": 13,
   "metadata": {
    "deletable": false,
    "nbgrader": {
     "cell_type": "code",
     "checksum": "b1a18e8e9a3577cf697082fa3c4e259f",
     "grade": false,
     "grade_id": "cell-63a5d424832736e0",
     "locked": false,
     "schema_version": 3,
     "solution": true,
     "task": false
    }
   },
   "outputs": [],
   "source": [
    "# Create matrix\n",
    "N = 5000\n",
    "a = np.random.random((N, N))\n",
    "a = a + a.T"
   ]
  },
  {
   "cell_type": "code",
   "execution_count": 14,
   "metadata": {},
   "outputs": [
    {
     "name": "stdout",
     "output_type": "stream",
     "text": [
      "True\n"
     ]
    }
   ],
   "source": [
    "#check symmetry\n",
    "print((a == a.T).all())"
   ]
  },
  {
   "cell_type": "code",
   "execution_count": 15,
   "metadata": {},
   "outputs": [],
   "source": [
    "#normalisation\n",
    "a -= a.mean()\n",
    "a /= np.sqrt(N)"
   ]
  },
  {
   "cell_type": "code",
   "execution_count": null,
   "metadata": {},
   "outputs": [],
   "source": [
    "eigval, eigvec = linalg.eig(a)"
   ]
  },
  {
   "cell_type": "code",
   "execution_count": null,
   "metadata": {},
   "outputs": [],
   "source": [
    "hist, bins = np.histogram(eigval.real, bins=50, density=True)\n",
    "\n",
    "plt.bar(bins[:-1], hist, width=(bins[1]-bins[0]))\n",
    "plt.show()"
   ]
  },
  {
   "cell_type": "markdown",
   "metadata": {
    "deletable": false,
    "editable": false,
    "nbgrader": {
     "cell_type": "markdown",
     "checksum": "12ad24cb7eefafbbbb114db03aab86c6",
     "grade": false,
     "grade_id": "cell-b40f35c2216b884f",
     "locked": true,
     "schema_version": 3,
     "solution": false,
     "task": false
    }
   },
   "source": [
    "## Sparse Matrices\n",
    "\n",
    "Notice how the computation time increases when calculating eigenvalues for larger matrices. The memory usage is also rising. However, sparse matrices are mostly filled with zeros. Hence, they can be stored in various compressed formats to decrease the amount of memory and computation required. The [scipy.sparse](https://docs.scipy.org/doc/scipy/reference/sparse.html) module provides functionality for creating and operating on sparse matrices. In particular, the [scipy.sparse.linalg](https://docs.scipy.org/doc/scipy/reference/sparse.linalg.html#module-scipy.sparse.linalg) module provides optimized routines for computations with sparse matrices."
   ]
  },
  {
   "cell_type": "markdown",
   "metadata": {
    "deletable": false,
    "editable": false,
    "nbgrader": {
     "cell_type": "markdown",
     "checksum": "7b6ce253960ae154fc69853fd73412a3",
     "grade": false,
     "grade_id": "cell-2257336ffdcf9ae2",
     "locked": true,
     "schema_version": 3,
     "solution": false
    }
   },
   "source": [
    "### The Laplace Operator\n",
    "\n",
    "The continuous Laplace operator, $\\mathop{}\\!\\mathbin\\bigtriangleup$, is defined as\n",
    "\n",
    "$\n",
    "\\Large\n",
    "\\begin{align}\n",
    "\\mathop{}\\!\\mathbin\\bigtriangleup f(x) = \\nabla^2 f(x) = \\nabla \\cdot \\nabla f = \\frac{\\partial^2 f}{\\partial x^2}\n",
    "\\end{align}\n",
    "$\n",
    "\n",
    "For a set of discreet points, $x$, with separation, $h$, (i.e., x$_n = n h$), the above equation can be discretized as\n",
    "\n",
    "$\n",
    "\\Large\n",
    "\\begin{align}\n",
    "\\mathop{}\\!\\mathbin\\bigtriangleup f(x) = \\frac{f(x+h) - 2 f(x) + f(x-h)}{h^2}\n",
    "\\end{align}\n",
    "$\n",
    "\n",
    "In matrix form, $\\mathop{}\\!\\mathbin\\bigtriangleup$ becomes\n",
    "\n",
    "$\n",
    "\\Large\n",
    "\\begin{align}\n",
    "\\mathop{}\\!\\mathbin\\bigtriangleup = \\frac{1}{h^2}\n",
    "\\begin{pmatrix}\n",
    "-2     &      1 &  0     & \\cdots & \\cdots & \\cdots \\\\\n",
    "1      &     -2 &      1 &      0 & \\cdots & \\cdots \\\\\n",
    "0      &      1 &     -2 &      1 &      0 & \\cdots \\\\\n",
    "\\vdots & \\ddots & \\ddots & \\ddots & \\ddots & \\ddots \\\\\n",
    "\\vdots & \\vdots & 0      &      1 &     -2 &      1 \\\\\n",
    "\\vdots & \\vdots & \\vdots &      0 &      1 &     -2 \\\\\n",
    "\\end{pmatrix}\n",
    "\\end{align}\n",
    "$\n",
    "\n",
    "In the cell below, use the [diags](https://docs.scipy.org/doc/scipy/reference/generated/scipy.sparse.diags.html) function from the SciPy sparse module to create a 5x5 version of the Laplace operator."
   ]
  },
  {
   "cell_type": "code",
   "execution_count": 4,
   "metadata": {},
   "outputs": [],
   "source": [
    "from scipy import sparse\n",
    "from scipy.sparse import linalg as splinalg"
   ]
  },
  {
   "cell_type": "code",
   "execution_count": 5,
   "metadata": {},
   "outputs": [],
   "source": [
    "N = 5\n",
    "x = np.ones(N-1)\n",
    "y = -2*np.ones(N)\n",
    "diagonals = [x, y, x]"
   ]
  },
  {
   "cell_type": "code",
   "execution_count": 6,
   "metadata": {},
   "outputs": [],
   "source": [
    "L = sparse.diags(diagonals, [-1, 0, 1], shape=(N,N)).toarray()"
   ]
  },
  {
   "cell_type": "markdown",
   "metadata": {
    "deletable": false,
    "editable": false,
    "nbgrader": {
     "cell_type": "markdown",
     "checksum": "a931b5f21fa18ca276fd3fddfbd33955",
     "grade": false,
     "grade_id": "cell-a85cf3f8cbca404e",
     "locked": true,
     "schema_version": 3,
     "solution": false,
     "task": false
    }
   },
   "source": [
    "The matrix you create will have a `toarray` function associated with it (i.e., `x.toarray()` for a matrix `x`). Use this to verify that your matrix has been created properly."
   ]
  },
  {
   "cell_type": "code",
   "execution_count": 7,
   "metadata": {
    "deletable": false,
    "nbgrader": {
     "cell_type": "code",
     "checksum": "33c32a8763b19626fe0c9608173ef8e0",
     "grade": false,
     "grade_id": "cell-e6b72460d4a8123d",
     "locked": false,
     "schema_version": 3,
     "solution": true,
     "task": false
    }
   },
   "outputs": [
    {
     "name": "stdout",
     "output_type": "stream",
     "text": [
      "[[-2.  1.  0.  0.  0.]\n",
      " [ 1. -2.  1.  0.  0.]\n",
      " [ 0.  1. -2.  1.  0.]\n",
      " [ 0.  0.  1. -2.  1.]\n",
      " [ 0.  0.  0.  1. -2.]]\n"
     ]
    }
   ],
   "source": [
    "# YOUR CODE HERE\n",
    "print(L)"
   ]
  },
  {
   "cell_type": "markdown",
   "metadata": {
    "deletable": false,
    "editable": false,
    "nbgrader": {
     "cell_type": "markdown",
     "checksum": "f96bcc67373bc35c1324a27d1a1b143a",
     "grade": false,
     "grade_id": "cell-a4549697ddb38a43",
     "locked": true,
     "schema_version": 3,
     "solution": false
    }
   },
   "source": [
    "Now, create the same matrix for N = 1000 (i.e., 1000x1000). Use the [eigsh](https://docs.scipy.org/doc/scipy/reference/generated/scipy.sparse.linalg.eigsh.html) function to compute the 10 \"largest magnitude\" eigenvalues. Compare the lowest of these to the theoretical value of $2 (cos(\\frac{\\pi N}{N+1}) - 1)$."
   ]
  },
  {
   "cell_type": "code",
   "execution_count": 8,
   "metadata": {
    "deletable": false,
    "nbgrader": {
     "cell_type": "code",
     "checksum": "d74188d566a362c6fbcf6c65abccc2fe",
     "grade": false,
     "grade_id": "cell-40ce841584e159b0",
     "locked": false,
     "schema_version": 3,
     "solution": true,
     "task": false
    }
   },
   "outputs": [],
   "source": [
    "# YOUR CODE HERE\n",
    "N = 1000\n",
    "x = np.ones(N-1)\n",
    "y = -2*np.ones(N)\n",
    "diagonals = [x, y, x]\n",
    "L = sparse.diags(diagonals, [-1, 0, 1], shape=(N,N)).toarray()"
   ]
  },
  {
   "cell_type": "code",
   "execution_count": 9,
   "metadata": {},
   "outputs": [],
   "source": [
    "w,v = splinalg.eigsh(L,k=10)"
   ]
  },
  {
   "cell_type": "code",
   "execution_count": 10,
   "metadata": {
    "deletable": false,
    "nbgrader": {
     "cell_type": "code",
     "checksum": "8c6c10e6c3facf1d96ff2fc3c4345122",
     "grade": false,
     "grade_id": "cell-2a35ebaa4d08bac2",
     "locked": false,
     "schema_version": 3,
     "solution": true,
     "task": false
    }
   },
   "outputs": [],
   "source": [
    "w_theory = 2*(np.cos(np.pi*N/(N+1))-1)"
   ]
  },
  {
   "cell_type": "code",
   "execution_count": 11,
   "metadata": {},
   "outputs": [
    {
     "data": {
      "text/plain": [
       "(array([-3.99999015, -3.9999606 , -3.99991135, -3.9998424 , -3.99975376,\n",
       "        -3.99964541, -3.99951737, -3.99936964, -3.99920221, -3.99901509]),\n",
       " -3.999990150113323)"
      ]
     },
     "execution_count": 11,
     "metadata": {},
     "output_type": "execute_result"
    }
   ],
   "source": [
    "w, w_theory"
   ]
  },
  {
   "cell_type": "markdown",
   "metadata": {
    "deletable": false,
    "editable": false,
    "nbgrader": {
     "cell_type": "markdown",
     "checksum": "ed2e56f6f6681082e02e4624c9663a6f",
     "grade": false,
     "grade_id": "cell-981959ef196beac5",
     "locked": true,
     "schema_version": 3,
     "solution": false,
     "task": false
    }
   },
   "source": [
    "## Springs and springs and springs...\n",
    "\n",
    "Imagine a system of masses connected by springs. If we take $m$ to be the individual masses and $k$ to be the spring coefficient for the connecting springs, then the equation of motion for the masses in the middle looks like:\n",
    "\n",
    "$\n",
    "\\Large\n",
    "\\begin{align}\n",
    "m \\frac{d^2 \\xi_i}{dt^2} = k (\\xi_{i+1} - \\xi_i) + k (\\xi_{i-1} - \\xi_i)\n",
    "\\end{align}\n",
    "$\n",
    "\n",
    "$\\xi_{i}$ represents the distance of mass $i$ from its position of rest. The first and last masses are described by:\n",
    "\n",
    "$\n",
    "\\Large\n",
    "\\begin{align}\n",
    "m \\frac{d^2 \\xi_0}{dt^2} = k (\\xi_1 - \\xi_0) + F_0\n",
    "\\end{align}\n",
    "$\n",
    "\n",
    "$\n",
    "\\Large\n",
    "\\begin{align}\n",
    "m \\frac{d^2 \\xi_{N-1}}{dt^2} = k (\\xi_{N-2} - \\xi_{N-1}) + F_{N-1}\n",
    "\\end{align}\n",
    "$\n",
    "\n",
    "Here, $F_0$ and $F_{N-1}$ are external forces applied to the left and right masses.\n",
    "\n",
    "Suppose we set the force on the right side to 0 and apply a sinusoidal force on the left mass that can be described by the real component of:\n",
    "\n",
    "$\n",
    "\\Large\n",
    "\\begin{align}\n",
    "F_0 = C e^{i \\omega t}\n",
    "\\end{align}\n",
    "$\n",
    "\n",
    "The result is that all masses will oscillate with a constant frequency, $\\omega$, but with an amplitude, $x_i$, that will vary for each mass such that the solution is:\n",
    "\n",
    "$\n",
    "\\Large\n",
    "\\begin{align}\n",
    "\\xi_i(t) = x_i(t) e^{i \\omega t}\n",
    "\\end{align}\n",
    "$\n",
    "\n",
    "This yields the following system of equations.\n",
    "\n",
    "$\n",
    "\\Large\n",
    "\\begin{align}\n",
    "-m \\omega^2 x_0 = k (x_1 - x_0) + C\n",
    "\\end{align}\n",
    "$\n",
    "\n",
    "$\n",
    "\\Large\n",
    "\\begin{align}\n",
    "-m \\omega^2 x_i = k (x_{i-1} - x_{i}) + k (x_{i-1} - x_i)\n",
    "\\end{align}\n",
    "$\n",
    "\n",
    "$\n",
    "\\Large\n",
    "\\begin{align}\n",
    "-m \\omega^2 x_{N-1} = k (x_{N-2} - x_{N-1})\n",
    "\\end{align}\n",
    "$\n",
    "\n",
    "If we then make the following substitution, $\\alpha = 2k - m \\omega^2$, the system of equations reduces to:\n",
    "\n",
    "$\n",
    "\\Large\n",
    "\\begin{align}\n",
    "(\\alpha - k) x_0 - k x_1 = C\n",
    "\\end{align}\n",
    "$\n",
    "\n",
    "$\n",
    "\\Large\n",
    "\\begin{align}\n",
    "\\alpha x_i - k x_{i-1} - k x_{i+1} = 0\n",
    "\\end{align}\n",
    "$\n",
    "\n",
    "$\n",
    "\\Large\n",
    "\\begin{align}\n",
    "(\\alpha - k) x_{N-1} - k x_{N-2} = 0\n",
    "\\end{align}\n",
    "$\n",
    "\n",
    "Using the values defined below for the constants, express the above system of equations in matrix form. Then, solve the system for $x$ and make a plot $x$ vs. $i$.\n",
    "\n",
    "Bonus challenge: increase N to something much larger and try solving for $x$ with a more efficient method (maybe something from the sparse module or another specialized solver function). Can you find a method that scales better than a conventional solve?"
   ]
  },
  {
   "cell_type": "code",
   "execution_count": 12,
   "metadata": {},
   "outputs": [],
   "source": [
    "m = 1 # mass\n",
    "k = 6 # spring constant\n",
    "w = 2 # oscillator frequency\n",
    "a = 2*k - m*w**2\n",
    "C = 1 # forcing amplitude\n",
    "\n",
    "N = 100"
   ]
  },
  {
   "cell_type": "code",
   "execution_count": 13,
   "metadata": {},
   "outputs": [],
   "source": [
    "x = -k*np.ones(N-1)\n",
    "y = a*np.ones(N)\n",
    "diagonals = [x, y, x]\n",
    "A = sparse.diags(diagonals, [-1, 0, 1], shape=(N,N)).toarray()\n",
    "A[0,0] = a-k\n",
    "A[N-1,N-1] = a-k"
   ]
  },
  {
   "cell_type": "code",
   "execution_count": 14,
   "metadata": {},
   "outputs": [
    {
     "data": {
      "text/plain": [
       "array([[ 2., -6.,  0., ...,  0.,  0.,  0.],\n",
       "       [-6.,  8., -6., ...,  0.,  0.,  0.],\n",
       "       [ 0., -6.,  8., ...,  0.,  0.,  0.],\n",
       "       ...,\n",
       "       [ 0.,  0.,  0., ...,  8., -6.,  0.],\n",
       "       [ 0.,  0.,  0., ..., -6.,  8., -6.],\n",
       "       [ 0.,  0.,  0., ...,  0., -6.,  2.]])"
      ]
     },
     "execution_count": 14,
     "metadata": {},
     "output_type": "execute_result"
    }
   ],
   "source": [
    "A"
   ]
  },
  {
   "cell_type": "code",
   "execution_count": 15,
   "metadata": {},
   "outputs": [],
   "source": [
    "b = np.zeros(N)\n",
    "b[0] = C"
   ]
  },
  {
   "cell_type": "code",
   "execution_count": 16,
   "metadata": {},
   "outputs": [],
   "source": [
    "x = linalg.solve(A,b)"
   ]
  },
  {
   "cell_type": "code",
   "execution_count": 17,
   "metadata": {},
   "outputs": [
    {
     "data": {
      "image/png": "[encoded data removed]",
      "text/plain": [
       "<Figure size 720x432 with 1 Axes>"
      ]
     },
     "metadata": {
      "needs_background": "light"
     },
     "output_type": "display_data"
    }
   ],
   "source": [
    "plt.plot(x,'-.')\n",
    "plt.xlabel('index');\n",
    "plt.ylabel('position');"
   ]
  },
  {
   "cell_type": "code",
   "execution_count": 18,
   "metadata": {
    "deletable": false,
    "nbgrader": {
     "cell_type": "code",
     "checksum": "76fc31411cb7b2fe07b9f9eaa6b7d4c3",
     "grade": false,
     "grade_id": "cell-0aac67cffd10856e",
     "locked": false,
     "schema_version": 3,
     "solution": true,
     "task": false
    }
   },
   "outputs": [],
   "source": [
    "#bonusq\n",
    "N = 1000\n",
    "x = -k*np.ones(N-1)\n",
    "y = a*np.ones(N)\n",
    "y[0] = a-k\n",
    "y[N-1] = a-k\n",
    "diagonals = [x, y, x]\n",
    "A = sparse.diags(diagonals, [-1, 0, 1], shape=(N,N))"
   ]
  },
  {
   "cell_type": "code",
   "execution_count": 19,
   "metadata": {},
   "outputs": [],
   "source": [
    "b = np.zeros(N)\n",
    "b[0] = C"
   ]
  },
  {
   "cell_type": "code",
   "execution_count": 22,
   "metadata": {},
   "outputs": [
    {
     "name": "stdout",
     "output_type": "stream",
     "text": [
      "  (1, 0)\t-6.0\n",
      "  (2, 1)\t-6.0\n",
      "  (3, 2)\t-6.0\n",
      "  (4, 3)\t-6.0\n",
      "  (5, 4)\t-6.0\n",
      "  (6, 5)\t-6.0\n",
      "  (7, 6)\t-6.0\n",
      "  (8, 7)\t-6.0\n",
      "  (9, 8)\t-6.0\n",
      "  (10, 9)\t-6.0\n",
      "  (11, 10)\t-6.0\n",
      "  (12, 11)\t-6.0\n",
      "  (13, 12)\t-6.0\n",
      "  (14, 13)\t-6.0\n",
      "  (15, 14)\t-6.0\n",
      "  (16, 15)\t-6.0\n",
      "  (17, 16)\t-6.0\n",
      "  (18, 17)\t-6.0\n",
      "  (19, 18)\t-6.0\n",
      "  (20, 19)\t-6.0\n",
      "  (21, 20)\t-6.0\n",
      "  (22, 21)\t-6.0\n",
      "  (23, 22)\t-6.0\n",
      "  (24, 23)\t-6.0\n",
      "  (25, 24)\t-6.0\n",
      "  :\t:\n",
      "  (974, 975)\t-6.0\n",
      "  (975, 976)\t-6.0\n",
      "  (976, 977)\t-6.0\n",
      "  (977, 978)\t-6.0\n",
      "  (978, 979)\t-6.0\n",
      "  (979, 980)\t-6.0\n",
      "  (980, 981)\t-6.0\n",
      "  (981, 982)\t-6.0\n",
      "  (982, 983)\t-6.0\n",
      "  (983, 984)\t-6.0\n",
      "  (984, 985)\t-6.0\n",
      "  (985, 986)\t-6.0\n",
      "  (986, 987)\t-6.0\n",
      "  (987, 988)\t-6.0\n",
      "  (988, 989)\t-6.0\n",
      "  (989, 990)\t-6.0\n",
      "  (990, 991)\t-6.0\n",
      "  (991, 992)\t-6.0\n",
      "  (992, 993)\t-6.0\n",
      "  (993, 994)\t-6.0\n",
      "  (994, 995)\t-6.0\n",
      "  (995, 996)\t-6.0\n",
      "  (996, 997)\t-6.0\n",
      "  (997, 998)\t-6.0\n",
      "  (998, 999)\t-6.0\n"
     ]
    }
   ],
   "source": [
    "print(A)"
   ]
  },
  {
   "cell_type": "code",
   "execution_count": 20,
   "metadata": {},
   "outputs": [
    {
     "name": "stderr",
     "output_type": "stream",
     "text": [
      "/opt/conda/lib/python3.9/site-packages/scipy/sparse/linalg/dsolve/linsolve.py:144: SparseEfficiencyWarning: spsolve requires A be CSC or CSR matrix format\n",
      "  warn('spsolve requires A be CSC or CSR matrix format',\n"
     ]
    }
   ],
   "source": [
    "x = splinalg.spsolve(A, b)"
   ]
  },
  {
   "cell_type": "code",
   "execution_count": null,
   "metadata": {},
   "outputs": [],
   "source": []
  },
  {
   "cell_type": "code",
   "execution_count": null,
   "metadata": {},
   "outputs": [],
   "source": []
  }
 ],
 "metadata": {
  "kernelspec": {
   "display_name": "Python 3 (ipykernel)",
   "language": "python",
   "name": "python3"
  },
  "language_info": {
   "codemirror_mode": {
    "name": "ipython",
    "version": 3
   },
   "file_extension": ".py",
   "mimetype": "text/x-python",
   "name": "python",
   "nbconvert_exporter": "python",
   "pygments_lexer": "ipython3",
   "version": "3.9.2"
  }
 },
 "nbformat": 4,
 "nbformat_minor": 2
}
