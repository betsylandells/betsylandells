{
 "cells": [
  {
   "cell_type": "markdown",
   "metadata": {},
   "source": [
    "# Checkpoint 1: Neural networks and deep learning\n",
    "---\n",
    "*Responsible:* Guillermo Hamity (<ghamity@ed.ac.uk>)\n",
    "\n",
    "In this checkpoint exercise, we will use neural networks to predict the **type** of weather *given* the available ground observations. You will be using observation data from **June 2019** across all UK Met Office weather stations.\n",
    "\n",
    "### Notes on the Dataset\n",
    "* You will be using weather observation data from the UK Met Office Datapoint service\n",
    "* Ground observations are made hourly at weather stations across the length of the UK \n",
    "* The data sample covers data from June 2019\n",
    "* Data collections for each day starts at 6.30pm. All observation data is listed in one day blocks\n",
    "* The time value column refers to the number of minutes after midnight \n",
    "* `Null` values for some features are expected (e.g. Wind Gust)\n",
    "* Data import and preparation is already provided \n",
    "\n",
    "\n",
    "This week, I am not providing example notebooks like `lecture2.ipynb` and `data-science-tools.ipynb` for Unit 2, though these may still be useful to you. Instead, I am **providing the imports for all of the modules and classes that you should need.** Think of these as LEGO blocks; you have the ones you need but may look up how to \"assemble\" them.\n",
    "\n",
    "### Notes on assessment\n",
    "* Try and calculate the answers to the exercises provided. If you are unable to complete the question, describe which approach you _would_ have taken to solve the problem\n",
    "* Code must be understandable and reproducible. Before grading the notebook kernel **may** be restarted and re-run, so make sure that your code can run from start to finish without any (unintentional) errors\n",
    "* If you are unsure on how to proceed please **ask one of the TAs** during the workshop\n",
    "- Notebooks should be submitted by **10am on Friday 9 October 2021** \n",
    "- This CP exercise sheet is divided into **6 sections**, corresponding to parts of the lecture, giving a maximum of **10 marks** in total:\n",
    "\n",
    "| <p align='left'> Title                         | <p align='left'> Exercise nos. | <p align='left'> Number of marks |\n",
    "| ------------------------------------- | ----- | --- |\n",
    "| <p align='left'> 1. Conceptual questions               | <p align='left'>  1–5  | <p align='left'> 2.5 |\n",
    "| <p align='left'> 2. Data preprocessing and RandomForest                | <p align='left'>  6–9  | <p align='left'> 2.5 |\n",
    "| <p align='left'> 3. Neural networks in `scikit-learn`  | <p align='left'>  10–11 | <p align='left'> 1.5 | \n",
    "| <p align='left'> 4. Neural networks in `Keras`         | <p align='left'> 12–13 | <p align='left'> 2 |\n",
    "| <p align='left'> 5. Regularisation                     | <p align='left'> 14–15 | <p align='left'> 1.5 |\n",
    "| <p align='left'> 6. Bonus: Hyperparameter optimisation | <p align='left'> 16 | <p align='left'> 1.0 (\\*bonus\\*) |\n",
    "| <p align='left'> **Total** | | <p align='left'> **10 + 1** |\n",
    "\n",
    "- The total number of marks allocated for this CP is 10,\n",
    "    - 1 additional mark can be given (maximimally up to 10 marks in total) for \"bonus\" exercise on hyperparameter optimisation. If you are pressed for time, focus on the first five sections; those are the core ones.\n",
    "    - Half marks may be deducted for code legibility (i.e. very difficult to tell what you are doing), or for badly formated plots (i.e. no legends, axis labels etc.). The TAs will use their discression for this so comment code when applicable and keep relevant information in your plots.\n",
    "\n",
    "_Note:_ You can suppress double-printing of plots from the `plot` module by either _(a)_ adding a semicolon after the function call (_i.e._ `plot.<method>(...);`), or _(b)_ by capturing the return `pyplot.Figure` object as a variable (_i.e._ `fig = plot.<method>(...)`)."
   ]
  },
  {
   "cell_type": "markdown",
   "metadata": {},
   "source": [
    "## Preamble"
   ]
  },
  {
   "cell_type": "code",
   "execution_count": 1,
   "metadata": {},
   "outputs": [
    {
     "name": "stderr",
     "output_type": "stream",
     "text": [
      "2021-10-19 09:59:52.975956: I tensorflow/core/platform/cpu_feature_guard.cc:142] This TensorFlow binary is optimized with oneAPI Deep Neural Network Library (oneDNN) to use the following CPU instructions in performance-critical operations:  SSE4.1 SSE4.2 AVX AVX2 FMA\n",
      "To enable them in other operations, rebuild TensorFlow with the appropriate compiler flags.\n"
     ]
    }
   ],
   "source": [
    "# Standard import(s)\n",
    "import numpy as np\n",
    "import pandas as pd\n",
    "import random as rn\n",
    "import sklearn\n",
    "import tensorflow as tf\n",
    "import matplotlib.pyplot as plt\n",
    "import seaborn as sns\n",
    "import os\n",
    "%matplotlib inline\n",
    "\n",
    "# Suppress unnecessary ConvergenceWarnings and DeprecationWarnings\n",
    "import warnings\n",
    "from sklearn.exceptions import ConvergenceWarning\n",
    "warnings.filterwarnings(action='ignore', category=ConvergenceWarning)\n",
    "warnings.filterwarnings(action='ignore', category=DeprecationWarning)\n",
    "\n",
    "# Set a random seed variable to make workbook reproducible\n",
    "seed=5\n",
    "np.random.seed(seed)\n",
    "rn.seed(seed)\n",
    "os.environ['PYTHONHASHSEED']=str(seed)\n",
    "tf.compat.v1.set_random_seed(seed)\n",
    "\n",
    "# Switch off multi-threading for TensorFlow\n",
    "from tensorflow.python.keras import backend as K\n",
    "config = tf.compat.v1.ConfigProto(intra_op_parallelism_threads=1,\n",
    "                                  inter_op_parallelism_threads=1)\n",
    "sess = tf.compat.v1.Session(graph=tf.compat.v1.get_default_graph(), config=config)\n",
    "K.set_session(sess)"
   ]
  },
  {
   "cell_type": "code",
   "execution_count": 2,
   "metadata": {},
   "outputs": [
    {
     "data": {
      "text/html": [
       "<div>\n",
       "<style scoped>\n",
       "    .dataframe tbody tr th:only-of-type {\n",
       "        vertical-align: middle;\n",
       "    }\n",
       "\n",
       "    .dataframe tbody tr th {\n",
       "        vertical-align: top;\n",
       "    }\n",
       "\n",
       "    .dataframe thead th {\n",
       "        text-align: right;\n",
       "    }\n",
       "</style>\n",
       "<table border=\"1\" class=\"dataframe\">\n",
       "  <thead>\n",
       "    <tr style=\"text-align: right;\">\n",
       "      <th></th>\n",
       "      <th>StationID</th>\n",
       "      <th>StationName</th>\n",
       "      <th>Elevation</th>\n",
       "      <th>Latitude</th>\n",
       "      <th>Longitude</th>\n",
       "      <th>Date</th>\n",
       "      <th>Time</th>\n",
       "      <th>Gust</th>\n",
       "      <th>Temperature</th>\n",
       "      <th>Visibility</th>\n",
       "      <th>WindDirection</th>\n",
       "      <th>WindSpeed</th>\n",
       "      <th>Pressure</th>\n",
       "      <th>PressureTrend</th>\n",
       "      <th>DewPoint</th>\n",
       "      <th>Humidity</th>\n",
       "      <th>Type</th>\n",
       "    </tr>\n",
       "  </thead>\n",
       "  <tbody>\n",
       "    <tr>\n",
       "      <th>0</th>\n",
       "      <td>3002</td>\n",
       "      <td>BALTASOUND</td>\n",
       "      <td>15.0</td>\n",
       "      <td>60.749</td>\n",
       "      <td>-0.854</td>\n",
       "      <td>2018-05-31</td>\n",
       "      <td>1020</td>\n",
       "      <td>NaN</td>\n",
       "      <td>16.1</td>\n",
       "      <td>30000.0</td>\n",
       "      <td>E</td>\n",
       "      <td>8.0</td>\n",
       "      <td>1019.0</td>\n",
       "      <td>F</td>\n",
       "      <td>11.6</td>\n",
       "      <td>74.5</td>\n",
       "      <td>0</td>\n",
       "    </tr>\n",
       "    <tr>\n",
       "      <th>1</th>\n",
       "      <td>3002</td>\n",
       "      <td>BALTASOUND</td>\n",
       "      <td>15.0</td>\n",
       "      <td>60.749</td>\n",
       "      <td>-0.854</td>\n",
       "      <td>2018-05-31</td>\n",
       "      <td>1080</td>\n",
       "      <td>NaN</td>\n",
       "      <td>14.9</td>\n",
       "      <td>22000.0</td>\n",
       "      <td>E</td>\n",
       "      <td>8.0</td>\n",
       "      <td>1019.0</td>\n",
       "      <td>F</td>\n",
       "      <td>11.8</td>\n",
       "      <td>81.5</td>\n",
       "      <td>0</td>\n",
       "    </tr>\n",
       "    <tr>\n",
       "      <th>2</th>\n",
       "      <td>3002</td>\n",
       "      <td>BALTASOUND</td>\n",
       "      <td>15.0</td>\n",
       "      <td>60.749</td>\n",
       "      <td>-0.854</td>\n",
       "      <td>2018-05-31</td>\n",
       "      <td>1140</td>\n",
       "      <td>NaN</td>\n",
       "      <td>14.0</td>\n",
       "      <td>14000.0</td>\n",
       "      <td>E</td>\n",
       "      <td>6.0</td>\n",
       "      <td>1018.0</td>\n",
       "      <td>F</td>\n",
       "      <td>11.6</td>\n",
       "      <td>85.4</td>\n",
       "      <td>0</td>\n",
       "    </tr>\n",
       "    <tr>\n",
       "      <th>3</th>\n",
       "      <td>3002</td>\n",
       "      <td>BALTASOUND</td>\n",
       "      <td>15.0</td>\n",
       "      <td>60.749</td>\n",
       "      <td>-0.854</td>\n",
       "      <td>2018-05-31</td>\n",
       "      <td>1200</td>\n",
       "      <td>NaN</td>\n",
       "      <td>12.9</td>\n",
       "      <td>12000.0</td>\n",
       "      <td>ENE</td>\n",
       "      <td>2.0</td>\n",
       "      <td>1019.0</td>\n",
       "      <td>R</td>\n",
       "      <td>11.0</td>\n",
       "      <td>88.1</td>\n",
       "      <td>0</td>\n",
       "    </tr>\n",
       "    <tr>\n",
       "      <th>4</th>\n",
       "      <td>3002</td>\n",
       "      <td>BALTASOUND</td>\n",
       "      <td>15.0</td>\n",
       "      <td>60.749</td>\n",
       "      <td>-0.854</td>\n",
       "      <td>2018-05-31</td>\n",
       "      <td>1260</td>\n",
       "      <td>NaN</td>\n",
       "      <td>12.0</td>\n",
       "      <td>9000.0</td>\n",
       "      <td>E</td>\n",
       "      <td>2.0</td>\n",
       "      <td>1019.0</td>\n",
       "      <td>R</td>\n",
       "      <td>10.9</td>\n",
       "      <td>92.9</td>\n",
       "      <td>1</td>\n",
       "    </tr>\n",
       "  </tbody>\n",
       "</table>\n",
       "</div>"
      ],
      "text/plain": [
       "   StationID StationName  Elevation  Latitude  Longitude        Date  Time  \\\n",
       "0       3002  BALTASOUND       15.0    60.749     -0.854  2018-05-31  1020   \n",
       "1       3002  BALTASOUND       15.0    60.749     -0.854  2018-05-31  1080   \n",
       "2       3002  BALTASOUND       15.0    60.749     -0.854  2018-05-31  1140   \n",
       "3       3002  BALTASOUND       15.0    60.749     -0.854  2018-05-31  1200   \n",
       "4       3002  BALTASOUND       15.0    60.749     -0.854  2018-05-31  1260   \n",
       "\n",
       "   Gust  Temperature  Visibility WindDirection  WindSpeed  Pressure  \\\n",
       "0   NaN         16.1     30000.0             E        8.0    1019.0   \n",
       "1   NaN         14.9     22000.0             E        8.0    1019.0   \n",
       "2   NaN         14.0     14000.0             E        6.0    1018.0   \n",
       "3   NaN         12.9     12000.0           ENE        2.0    1019.0   \n",
       "4   NaN         12.0      9000.0             E        2.0    1019.0   \n",
       "\n",
       "  PressureTrend  DewPoint  Humidity  Type  \n",
       "0             F      11.6      74.5     0  \n",
       "1             F      11.8      81.5     0  \n",
       "2             F      11.6      85.4     0  \n",
       "3             R      11.0      88.1     0  \n",
       "4             R      10.9      92.9     1  "
      ]
     },
     "execution_count": 2,
     "metadata": {},
     "output_type": "execute_result"
    }
   ],
   "source": [
    "# Load in the prepared weather data\n",
    "obs = pd.read_csv('weather.csv')\n",
    "obs.head()"
   ]
  },
  {
   "cell_type": "code",
   "execution_count": 3,
   "metadata": {},
   "outputs": [
    {
     "data": {
      "text/plain": [
       "(106553, 17)"
      ]
     },
     "execution_count": 3,
     "metadata": {},
     "output_type": "execute_result"
    }
   ],
   "source": [
    "obs.shape"
   ]
  },
  {
   "cell_type": "code",
   "execution_count": 4,
   "metadata": {},
   "outputs": [
    {
     "data": {
      "text/html": [
       "<div>\n",
       "<style scoped>\n",
       "    .dataframe tbody tr th:only-of-type {\n",
       "        vertical-align: middle;\n",
       "    }\n",
       "\n",
       "    .dataframe tbody tr th {\n",
       "        vertical-align: top;\n",
       "    }\n",
       "\n",
       "    .dataframe thead th {\n",
       "        text-align: right;\n",
       "    }\n",
       "</style>\n",
       "<table border=\"1\" class=\"dataframe\">\n",
       "  <thead>\n",
       "    <tr style=\"text-align: right;\">\n",
       "      <th></th>\n",
       "      <th>StationID</th>\n",
       "      <th>Elevation</th>\n",
       "      <th>Latitude</th>\n",
       "      <th>Longitude</th>\n",
       "      <th>Time</th>\n",
       "      <th>Gust</th>\n",
       "      <th>Temperature</th>\n",
       "      <th>Visibility</th>\n",
       "      <th>WindSpeed</th>\n",
       "      <th>Pressure</th>\n",
       "      <th>DewPoint</th>\n",
       "      <th>Humidity</th>\n",
       "      <th>Type</th>\n",
       "    </tr>\n",
       "  </thead>\n",
       "  <tbody>\n",
       "    <tr>\n",
       "      <th>count</th>\n",
       "      <td>106553.000000</td>\n",
       "      <td>106553.000000</td>\n",
       "      <td>106553.000000</td>\n",
       "      <td>106553.000000</td>\n",
       "      <td>106553.000000</td>\n",
       "      <td>7703.000000</td>\n",
       "      <td>106442.000000</td>\n",
       "      <td>92662.000000</td>\n",
       "      <td>102060.000000</td>\n",
       "      <td>99530.000000</td>\n",
       "      <td>106402.000000</td>\n",
       "      <td>106397.000000</td>\n",
       "      <td>106553.00000</td>\n",
       "    </tr>\n",
       "    <tr>\n",
       "      <th>mean</th>\n",
       "      <td>6147.845636</td>\n",
       "      <td>114.466594</td>\n",
       "      <td>53.673022</td>\n",
       "      <td>-2.829034</td>\n",
       "      <td>702.914418</td>\n",
       "      <td>33.043749</td>\n",
       "      <td>14.958912</td>\n",
       "      <td>25698.164404</td>\n",
       "      <td>8.999510</td>\n",
       "      <td>1018.748337</td>\n",
       "      <td>10.348008</td>\n",
       "      <td>76.185240</td>\n",
       "      <td>0.99603</td>\n",
       "    </tr>\n",
       "    <tr>\n",
       "      <th>std</th>\n",
       "      <td>15821.503845</td>\n",
       "      <td>171.669120</td>\n",
       "      <td>2.466079</td>\n",
       "      <td>2.269594</td>\n",
       "      <td>412.057262</td>\n",
       "      <td>13.424855</td>\n",
       "      <td>4.294516</td>\n",
       "      <td>14263.873943</td>\n",
       "      <td>6.087882</td>\n",
       "      <td>6.327468</td>\n",
       "      <td>3.120565</td>\n",
       "      <td>17.208653</td>\n",
       "      <td>0.92971</td>\n",
       "    </tr>\n",
       "    <tr>\n",
       "      <th>min</th>\n",
       "      <td>3002.000000</td>\n",
       "      <td>2.000000</td>\n",
       "      <td>49.207900</td>\n",
       "      <td>-10.250000</td>\n",
       "      <td>0.000000</td>\n",
       "      <td>0.000000</td>\n",
       "      <td>-1.200000</td>\n",
       "      <td>20.000000</td>\n",
       "      <td>0.000000</td>\n",
       "      <td>976.000000</td>\n",
       "      <td>-28.200000</td>\n",
       "      <td>0.800000</td>\n",
       "      <td>0.00000</td>\n",
       "    </tr>\n",
       "    <tr>\n",
       "      <th>25%</th>\n",
       "      <td>3204.000000</td>\n",
       "      <td>20.000000</td>\n",
       "      <td>51.565000</td>\n",
       "      <td>-4.149000</td>\n",
       "      <td>360.000000</td>\n",
       "      <td>29.000000</td>\n",
       "      <td>12.000000</td>\n",
       "      <td>14000.000000</td>\n",
       "      <td>5.000000</td>\n",
       "      <td>1015.000000</td>\n",
       "      <td>8.400000</td>\n",
       "      <td>65.300000</td>\n",
       "      <td>0.00000</td>\n",
       "    </tr>\n",
       "    <tr>\n",
       "      <th>50%</th>\n",
       "      <td>3414.000000</td>\n",
       "      <td>65.000000</td>\n",
       "      <td>53.175000</td>\n",
       "      <td>-2.663000</td>\n",
       "      <td>720.000000</td>\n",
       "      <td>32.000000</td>\n",
       "      <td>14.500000</td>\n",
       "      <td>25000.000000</td>\n",
       "      <td>8.000000</td>\n",
       "      <td>1018.000000</td>\n",
       "      <td>10.500000</td>\n",
       "      <td>79.200000</td>\n",
       "      <td>1.00000</td>\n",
       "    </tr>\n",
       "    <tr>\n",
       "      <th>75%</th>\n",
       "      <td>3769.000000</td>\n",
       "      <td>132.000000</td>\n",
       "      <td>55.285000</td>\n",
       "      <td>-1.097000</td>\n",
       "      <td>1020.000000</td>\n",
       "      <td>39.000000</td>\n",
       "      <td>17.500000</td>\n",
       "      <td>35000.000000</td>\n",
       "      <td>11.000000</td>\n",
       "      <td>1024.000000</td>\n",
       "      <td>12.500000</td>\n",
       "      <td>90.000000</td>\n",
       "      <td>1.00000</td>\n",
       "    </tr>\n",
       "    <tr>\n",
       "      <th>max</th>\n",
       "      <td>99142.000000</td>\n",
       "      <td>1245.000000</td>\n",
       "      <td>60.749000</td>\n",
       "      <td>1.348000</td>\n",
       "      <td>1380.000000</td>\n",
       "      <td>105.000000</td>\n",
       "      <td>31.600000</td>\n",
       "      <td>75000.000000</td>\n",
       "      <td>81.000000</td>\n",
       "      <td>1036.000000</td>\n",
       "      <td>22.700000</td>\n",
       "      <td>100.000000</td>\n",
       "      <td>3.00000</td>\n",
       "    </tr>\n",
       "  </tbody>\n",
       "</table>\n",
       "</div>"
      ],
      "text/plain": [
       "           StationID      Elevation       Latitude      Longitude  \\\n",
       "count  106553.000000  106553.000000  106553.000000  106553.000000   \n",
       "mean     6147.845636     114.466594      53.673022      -2.829034   \n",
       "std     15821.503845     171.669120       2.466079       2.269594   \n",
       "min      3002.000000       2.000000      49.207900     -10.250000   \n",
       "25%      3204.000000      20.000000      51.565000      -4.149000   \n",
       "50%      3414.000000      65.000000      53.175000      -2.663000   \n",
       "75%      3769.000000     132.000000      55.285000      -1.097000   \n",
       "max     99142.000000    1245.000000      60.749000       1.348000   \n",
       "\n",
       "                Time         Gust    Temperature    Visibility      WindSpeed  \\\n",
       "count  106553.000000  7703.000000  106442.000000  92662.000000  102060.000000   \n",
       "mean      702.914418    33.043749      14.958912  25698.164404       8.999510   \n",
       "std       412.057262    13.424855       4.294516  14263.873943       6.087882   \n",
       "min         0.000000     0.000000      -1.200000     20.000000       0.000000   \n",
       "25%       360.000000    29.000000      12.000000  14000.000000       5.000000   \n",
       "50%       720.000000    32.000000      14.500000  25000.000000       8.000000   \n",
       "75%      1020.000000    39.000000      17.500000  35000.000000      11.000000   \n",
       "max      1380.000000   105.000000      31.600000  75000.000000      81.000000   \n",
       "\n",
       "           Pressure       DewPoint       Humidity          Type  \n",
       "count  99530.000000  106402.000000  106397.000000  106553.00000  \n",
       "mean    1018.748337      10.348008      76.185240       0.99603  \n",
       "std        6.327468       3.120565      17.208653       0.92971  \n",
       "min      976.000000     -28.200000       0.800000       0.00000  \n",
       "25%     1015.000000       8.400000      65.300000       0.00000  \n",
       "50%     1018.000000      10.500000      79.200000       1.00000  \n",
       "75%     1024.000000      12.500000      90.000000       1.00000  \n",
       "max     1036.000000      22.700000     100.000000       3.00000  "
      ]
     },
     "execution_count": 4,
     "metadata": {},
     "output_type": "execute_result"
    }
   ],
   "source": [
    "obs.describe()"
   ]
  },
  {
   "cell_type": "markdown",
   "metadata": {},
   "source": [
    "For this exercise we will use **8** input features (provided) and clean the data:"
   ]
  },
  {
   "cell_type": "code",
   "execution_count": 5,
   "metadata": {},
   "outputs": [],
   "source": [
    "# Define 8 input feature variables, 1 target variable data, and names of the 3 weather types\n",
    "features = ['Latitude', 'Elevation', 'Temperature', 'Visibility', 'WindSpeed', 'Pressure', 'Humidity', 'WindDirection']\n",
    "output   = ['Type']\n",
    "wtype    = ['Clear', 'Cloudy', 'Precip']"
   ]
  },
  {
   "cell_type": "markdown",
   "metadata": {},
   "source": [
    "Define derived dataset containing only the relevant columns and rows."
   ]
  },
  {
   "cell_type": "code",
   "execution_count": 6,
   "metadata": {},
   "outputs": [
    {
     "data": {
      "text/plain": [
       "(86313, 9)"
      ]
     },
     "execution_count": 6,
     "metadata": {},
     "output_type": "execute_result"
    }
   ],
   "source": [
    "# Reduce to feature and type columns\n",
    "dataset = obs[features + output]\n",
    "\n",
    "# Drop duplicates and null values \n",
    "dataset = dataset.drop_duplicates().dropna()\n",
    "\n",
    "# Drop unrecorded weather type\n",
    "dataset = dataset[dataset.Type != 3]\n",
    "\n",
    "# Check shape \n",
    "dataset.shape"
   ]
  },
  {
   "cell_type": "markdown",
   "metadata": {},
   "source": [
    "## 1. Conceptual questions (2.5 Marks)\n",
    "---\n",
    "This section covers **5** exercises on conceptual understanding of neural networks."
   ]
  },
  {
   "cell_type": "markdown",
   "metadata": {},
   "source": [
    "#### 1. Which are the most used activation functions and why do we (typically) need non-linear activation functions in neural networks? (0.5 mark)"
   ]
  },
  {
   "cell_type": "markdown",
   "metadata": {},
   "source": [
    "Indicative answer: the most used activation functions are: sigmoid, tanh, reLu and softmax. Hidden layers become useless if we use linear activation functions. This because the composition of linear functions is itself a linear function. The activation function does the non-linear transformation to the input making it capable to learn and perform more complex tasks. Deep learning algorithms perform feature extraction and deep combination simultaneously and are able to find the best subset of features."
   ]
  },
  {
   "cell_type": "markdown",
   "metadata": {},
   "source": [
    "#### 2. Why do we need deep neural networks and which are the main differences between deep and shallow learning? (0.5 Mark)"
   ]
  },
  {
   "cell_type": "markdown",
   "metadata": {},
   "source": [
    "Indicative answer: deep learning algorithms have a higher level of learning capability wrt simple shallow networks. The network does not simply learn to predict an output Y given an input X, but it also understands basic features of the input. The neural network is able to make abstractions of the features of the input and to make predictions based on those characteristics. This level of abstraction is missing in other ML algorithms."
   ]
  },
  {
   "cell_type": "markdown",
   "metadata": {},
   "source": [
    "#### 3. Discuss the Bias-variance trade-off and its relation to underfitting and overfitting of a model. Which are the caractheristics of an ideal model?  (0.5 mark)"
   ]
  },
  {
   "cell_type": "markdown",
   "metadata": {},
   "source": [
    "Indicative answer: Bias-variance trade off is a fundamental principle for understanding the generalization of predictive learning models. In case of underfitting a model has a high bias and a low variance. In this case the model has insufficient capability/flexibility and is not able to learn relevant structures of the dataset. In case of Overfitting a model has a low bias and high variance. In this case the model has too much flexibility/complexity and learns random structures in the dataset that doesn't represents a generalization. An ideal model has a low variance and a low bias, it has sufficient capability and flexibility and is able to learn the relevant structures of a dataset.\n"
   ]
  },
  {
   "cell_type": "markdown",
   "metadata": {},
   "source": [
    "#### 4. Given a neural network with 4 input nodes, 2 layers with 5 nodes each, and 1 output node, what is the total number of free (trainable) parameters in the network? Does it matter which activation function(s) are used?  (0.5 mark)"
   ]
  },
  {
   "cell_type": "markdown",
   "metadata": {},
   "source": [
    "_Intentionally verbose answer:_ To spell out the weight matrices of this network, we'll write it as: \n",
    "\n",
    "\\begin{align}\n",
    "    4 \\xrightarrow{\\textbf{W}_{1}} 5 \\xrightarrow{\\textbf{W}_{2}} 5 \\xrightarrow{\\textbf{W}_{3}} 1\n",
    "\\end{align}\n",
    "\n",
    "The weight matrices have the following number of elements:\n",
    "\n",
    "- $\\textbf{W}_{1}: (4 + 1) \\times 5 = 25$\n",
    "- $\\textbf{W}_{2}: (5 + 1) \\times 5 = 30$\n",
    "- $\\textbf{W}_{3}: (5 + 1) \\times 1 = \\;\\,6$\n",
    "\n",
    "Where the $+1$ for each matrix is due to each layer's **bias node**. This means that the network has a total of $25 + 30 + 6 = \\textbf{61}$ trainable parameters.\n",
    "\n",
    "Finally, most standard activation function (ReLU, sigmoid, tanh) don't have any trainable parameters, so in most cases the choice of activation function wouldn't affect the above result. **However**, there exist more exotic activation functons such as \"parametrised ReLU\" which _does_ have trainable parameters."
   ]
  },
  {
   "cell_type": "code",
   "execution_count": 7,
   "metadata": {},
   "outputs": [
    {
     "name": "stdout",
     "output_type": "stream",
     "text": [
      "Model: \"model\"\n",
      "_________________________________________________________________\n",
      "Layer (type)                 Output Shape              Param #   \n",
      "=================================================================\n",
      "input_1 (InputLayer)         [(None, 4)]               0         \n",
      "_________________________________________________________________\n",
      "dense (Dense)                (None, 5)                 25        \n",
      "_________________________________________________________________\n",
      "dense_1 (Dense)              (None, 5)                 30        \n",
      "_________________________________________________________________\n",
      "dense_2 (Dense)              (None, 1)                 6         \n",
      "=================================================================\n",
      "Total params: 61\n",
      "Trainable params: 61\n",
      "Non-trainable params: 0\n",
      "_________________________________________________________________\n"
     ]
    }
   ],
   "source": [
    "# To check our answer:\n",
    "from tensorflow.python.keras.models import Model\n",
    "from tensorflow.python.keras.layers import Input, Dense\n",
    "i = Input(shape=(4,))\n",
    "x = Dense(5)(i)\n",
    "x = Dense(5)(x)\n",
    "o = Dense(1)(x)\n",
    "Model(i,o).summary()"
   ]
  },
  {
   "cell_type": "markdown",
   "metadata": {},
   "source": [
    "#### 5. What are appropriate choice for _(a)_ the number of output nodes and _(b)_ output activation function(s) for each of the following tasks, and why? (0.5 mark)"
   ]
  },
  {
   "cell_type": "markdown",
   "metadata": {},
   "source": [
    "1. Regression of the $x$, $y$, and $z$ coordinates of a single particle in an arbitrary coordinate system\n",
    "2. Regression of particle energy of a single particle\n",
    "3. Classification of two processes (signal vs. background)\n",
    "4. Classification among *N* classes (dog vs. cat vs. fish vs. ...)"
   ]
  },
  {
   "cell_type": "markdown",
   "metadata": {},
   "source": [
    "_Indicative answers:_ \n",
    "1. **3** output nodes (one for each coordinate), and **no** activation (since the coordinates can _a priori_ take on any values).\n",
    "2. **1** output node (the energy), and **ReLU**, **softplus**, or similar activation that maps onto $\\mathbb{R}_{+}$.\n",
    "3. **1** output node, and **sigmoid** activaton to have predictions $\\in (0,1)$. (Alternatively, this may equivalently be considered a special case of point 4. below.)\n",
    "4. _**N**_ output nodes, and **softmax** activation to have predictions $\\in (0,1)$ which sum to 1 (_i.e._ probabilities)."
   ]
  },
  {
   "cell_type": "markdown",
   "metadata": {},
   "source": [
    "## 2. Data preprocessing and RTs (2.5 mark)\n",
    "---\n",
    "This section covers **4** exercises on data preparation, feature standardisation, and dataset splitting."
   ]
  },
  {
   "cell_type": "code",
   "execution_count": 8,
   "metadata": {},
   "outputs": [],
   "source": [
    "# Relevant import(s) for this section\n",
    "from sklearn import tree\n",
    "from sklearn.tree import DecisionTreeClassifier, plot_tree\n",
    "from sklearn.tree import export_graphviz\n",
    "from sklearn.model_selection import train_test_split # Import train_test_split function\n",
    "from sklearn import metrics # Import scikit-learn metrics module for accuracy calculation\n",
    "from sklearn import preprocessing # Import preprocessing for String-Int conversion\n",
    "from sklearn.compose import ColumnTransformer\n",
    "from sklearn.preprocessing import OneHotEncoder, StandardScaler, MinMaxScaler\n",
    "from sklearn.model_selection import train_test_split"
   ]
  },
  {
   "cell_type": "markdown",
   "metadata": {},
   "source": [
    "---\n",
    "**_Comment on target format and one-hot encoding:_** By default, the target column (`Type`) contains one integer (0, 1, or 2) for each example, the integer specifying one of three possible types of weather. However, for doing multi-class classification (which this is), we want our neural network to have one output node per class (_i.e._ 3 output nodes in this case), such that the activation of each output node is interpreted as the likelihood for a given sample being of the type in question. Therefore, the target should also be a 3-element vector for each sample; this vector should be all zeros, except for a $1$ at the index corresponding to the type in question. This is called **one-hot encoding**, and a few examples are shown below:\n",
    "\n",
    "- type = 0 $\\to$ one-hot = $[1, 0, 0]$ for 3 classes\n",
    "- type = 1 $\\to$ one-hot = $[0, 1, 0]$ for 3 classes\n",
    "- type = 2 $\\to$ one-hot = $[0, 0, 1]$ for 3 classes\n",
    "\n",
    "This is the target towards which a neural network classifier is trained: That is, ideally, for an example of type 0, the network will output a large activation ($\\approx 1$) on the first output node (interpreted as a large likelihood for the first weather type), and very small activations ($\\ll 1$) on the two other output nodes (intepreted as small likelihoods for the two other weather types); and so on.\n",
    "\n",
    "The same type of one-hot encoding can be performed for any number of target classes $N_{c}$, which just results in $N_{c}$-element target vectors with a single non-zero entry each.\n",
    "\n",
    "To be user friendly, however, `scikit-learn` allows us to use integer targets for multi-class classification — it does the one-hot encoding for us \"under the hood.\" Similarly, `keras`, _can_ also allow us to use integer targets for multi-class classification, provided we use the appropropriate loss (`sparse_categorical_crossentropy`). Otherwise (if we use `categorical_crossentropy` loss), it expects one-hot encoded targets. Which approach you choose is up to you — but now you know what goes on.\n",
    "\n",
    "---"
   ]
  },
  {
   "cell_type": "code",
   "execution_count": null,
   "metadata": {},
   "outputs": [],
   "source": []
  },
  {
   "cell_type": "markdown",
   "metadata": {},
   "source": [
    "#### 6. Prepare the feature and target arrays (0.5 mark)\n",
    "- Randomly sample **3,500** observations per weather type (**10,500** observations in total) from `dataset` into a new `pandas.DataFrame`; call it `sample`.\n",
    "- One-hot encode the **wind direction** variable (_i.e._ $N$ to $[1, 0, \\ldots, 0]$, $NNE$ to $[0, 1, \\ldots, 0]$, _etc._ ), to allow us to input it to the neural network. The exact order of the encoding (_i.e._ which direction corresponds to which index) doesn't matter. *Hint:*\n",
    "  - *Either:* Use the scikit-learn `ColumnTransformer` with the `OneHotEncoder` applied to the `WindDirection` column, and let the remainder of the features pass through un-transformed.\n",
    "  - *Or:* Use the `OneHotEncoder` class directly on the `WindDirection` column (use `sparse=False` in the `OneHotEncoder` constructor), and then concatenate with a `numpy.array` containing the remaining features.\n",
    "- Define `numpy.arrays` named `X` and `y` containing the training features (the 7 unmodified ones plus the one-hot encoded wind directions) and target, respectively.\n",
    "- Argue whether the shapes of `X` and `y` are as expected/as they should be."
   ]
  },
  {
   "cell_type": "code",
   "execution_count": 9,
   "metadata": {},
   "outputs": [],
   "source": [
    "sample = dataset.groupby('Type').sample(3500,random_state=101)"
   ]
  },
  {
   "cell_type": "code",
   "execution_count": 10,
   "metadata": {},
   "outputs": [
    {
     "data": {
      "text/plain": [
       "1    52747\n",
       "0    29917\n",
       "2     3649\n",
       "Name: Type, dtype: int64"
      ]
     },
     "execution_count": 10,
     "metadata": {},
     "output_type": "execute_result"
    }
   ],
   "source": [
    "dataset[\"Type\"].value_counts()\n"
   ]
  },
  {
   "cell_type": "code",
   "execution_count": 11,
   "metadata": {},
   "outputs": [],
   "source": [
    "# Method 1\n",
    "# --------\n",
    "# One-hot encode `WindDirection` column; let others pass through\n",
    "ct = ColumnTransformer([(\"OneHot\", OneHotEncoder(), ['WindDirection']),], remainder=\"passthrough\")\n",
    "# Define numpy arrays\n",
    "X = ct.fit_transform(sample[features])\n",
    "y = sample[output].values"
   ]
  },
  {
   "cell_type": "code",
   "execution_count": 12,
   "metadata": {},
   "outputs": [],
   "source": [
    "# Method 2\n",
    "# --------\n",
    "# One-hot encode `WindDirection column\n",
    "wdEncoded = OneHotEncoder(sparse=False).fit_transform(sample[['WindDirection']])\n",
    "# Define numpy arrays\n",
    "X = np.concatenate((wdEncoded, sample[[f for f in features if f != 'WindDirection']].values), axis=1)\n",
    "y = sample[output].values"
   ]
  },
  {
   "cell_type": "code",
   "execution_count": 13,
   "metadata": {},
   "outputs": [
    {
     "name": "stdout",
     "output_type": "stream",
     "text": [
      "Transformed X has 23 columns: 7 from features minus WindDirection, and 16 from the HotEncoding\n"
     ]
    }
   ],
   "source": [
    "print(\"Transformed X has {} columns: {} from features minus WindDirection, and {} from the HotEncoding\".format(X.shape[1], sample[features].shape[1]-1, sample[\"WindDirection\"].unique().shape[0]))"
   ]
  },
  {
   "cell_type": "code",
   "execution_count": 14,
   "metadata": {},
   "outputs": [
    {
     "data": {
      "text/plain": [
       "array([[  52.242,   99.   ,    9.1  , ...,    3.   , 1023.   ,   80.1  ],\n",
       "       [  49.44 ,  101.   ,   19.9  , ...,   21.   , 1018.   ,   66.   ],\n",
       "       [  52.242,   99.   ,   25.4  , ...,    8.   , 1025.   ,   41.1  ],\n",
       "       ...,\n",
       "       [  54.721,  225.   ,   14.8  , ...,   11.   , 1011.   ,  100.   ],\n",
       "       [  55.05 ,  285.   ,   12.2  , ...,   25.   , 1004.   ,   91.1  ],\n",
       "       [  51.149,   91.   ,   12.8  , ...,    9.   , 1017.   ,   91.1  ]])"
      ]
     },
     "execution_count": 14,
     "metadata": {},
     "output_type": "execute_result"
    }
   ],
   "source": [
    "np.array(sample[[f for f in features if f != 'WindDirection']])"
   ]
  },
  {
   "cell_type": "code",
   "execution_count": 15,
   "metadata": {},
   "outputs": [
    {
     "data": {
      "text/plain": [
       "numpy.ndarray"
      ]
     },
     "execution_count": 15,
     "metadata": {},
     "output_type": "execute_result"
    }
   ],
   "source": [
    "type(X)"
   ]
  },
  {
   "cell_type": "markdown",
   "metadata": {},
   "source": [
    "_Indicative answer:_ The **7** un-transformed feautures plus the **16** transformed wind direction give **23** features in total. With **1** target value (the weather type), and **3 x 3,500 = 10,500** samples each, the two arrays have the expected shapes."
   ]
  },
  {
   "cell_type": "markdown",
   "metadata": {},
   "source": [
    "#### 7. Train a Random Forest and evaluate the performance (1 mark)\n",
    "\n",
    "Decision trees work well with a mixture of features (of different scales, and bot binary and continuos), so we will train a random forest to do the job of categorisation.\n",
    "\n",
    "You are given the train test split:"
   ]
  },
  {
   "cell_type": "code",
   "execution_count": 16,
   "metadata": {},
   "outputs": [
    {
     "name": "stdout",
     "output_type": "stream",
     "text": [
      "(7350, 23) (3150, 23)\n"
     ]
    }
   ],
   "source": [
    "#Import random fosets and confusion matrix metric\n",
    "from sklearn.ensemble import RandomForestClassifier\n",
    "from sklearn.metrics import confusion_matrix\n",
    "\n",
    "# split dataset into training set and test set\n",
    "x_train, x_test, y_train, y_test = train_test_split(X, y, test_size=0.3, random_state=1) # 70% training and 30% test\n",
    "print(x_train.shape,x_test.shape)"
   ]
  },
  {
   "cell_type": "markdown",
   "metadata": {},
   "source": [
    "1. Train a RandomForestClassifier with 1000 estimators, `gini` seperation criteria, and max depth 4.\n",
    "2. Check the overal accuaracy on the testing set"
   ]
  },
  {
   "cell_type": "code",
   "execution_count": 17,
   "metadata": {},
   "outputs": [
    {
     "name": "stderr",
     "output_type": "stream",
     "text": [
      "/home/guillermo/miniconda/envs/daml/lib/python3.7/site-packages/ipykernel_launcher.py:3: DataConversionWarning: A column-vector y was passed when a 1d array was expected. Please change the shape of y to (n_samples,), for example using ravel().\n",
      "  This is separate from the ipykernel package so we can avoid doing imports until\n"
     ]
    },
    {
     "name": "stdout",
     "output_type": "stream",
     "text": [
      "Overall accuracy: 66.7%\n"
     ]
    }
   ],
   "source": [
    "# Fit a random forest classifier\n",
    "rf = RandomForestClassifier(n_estimators=1000, criterion = 'gini', max_depth=4,random_state=1)\n",
    "rf.fit(x_train, y_train)\n",
    "print(\"Overall accuracy: {:.1f}%\".format(rf.score(x_test, y_test)*100))"
   ]
  },
  {
   "cell_type": "markdown",
   "metadata": {},
   "source": [
    "3. Use the confusion_matrix method to return the confusion matrix normalised over the true lables, i.e. sum over rows should sum to 100%. Use the given colormap to plot the confusion matrix in a heatmap.\n",
    "    - Define the axis tick names to represent Clear, Cloudy or Precip\n",
    "    - Use suitable x and y axis labels\n",
    "    \n",
    "4. What are the true positive rates for clear, cloudy and perp? What is the probability that rain is forcast given that the day is clear?\n",
    "5. Which features does the random forest deem the most important?"
   ]
  },
  {
   "cell_type": "code",
   "execution_count": 18,
   "metadata": {},
   "outputs": [
    {
     "data": {
      "image/png": "[encoded data removed]",
      "text/plain": [
       "<Figure size 720x720 with 2 Axes>"
      ]
     },
     "metadata": {
      "needs_background": "light"
     },
     "output_type": "display_data"
    }
   ],
   "source": [
    "cm   = confusion_matrix(y_test, rf.predict(x_test),normalize=\"true\")\n",
    "\n",
    "# Use the following courmap in as the cmap parameter of sns.heatmap:\n",
    "colormap = sns.diverging_palette(220, 10, as_cmap=True)\n",
    "\n",
    "fig, ax = plt.subplots(figsize=(10, 10))\n",
    "# Generate Heat Map, allow annotations and place floats in map\n",
    "sns.heatmap(cm , cmap=colormap, annot=True, fmt=\".2f\")\n",
    "ax.set_xticklabels(\n",
    "    wtype,\n",
    "    rotation=45,\n",
    "    horizontalalignment='right'\n",
    ");\n",
    "ax.set_xlabel('Classified Label')\n",
    "ax.set_ylabel('True Label')\n",
    "ax.set_yticklabels(wtype);\n",
    "plt.show()"
   ]
  },
  {
   "cell_type": "markdown",
   "metadata": {},
   "source": [
    "_answer_: \n",
    "- True positives: 72% (clear), 47% (cloudy), 81% (Prec). \n",
    "- There is a 6% chance that we predict rain on a sunny day."
   ]
  },
  {
   "cell_type": "code",
   "execution_count": 19,
   "metadata": {},
   "outputs": [
    {
     "data": {
      "text/plain": [
       "<sklearn.metrics._plot.confusion_matrix.ConfusionMatrixDisplay at 0x7f3258357d90>"
      ]
     },
     "execution_count": 19,
     "metadata": {},
     "output_type": "execute_result"
    },
    {
     "data": {
      "image/png": "[encoded data removed]",
      "text/plain": [
       "<Figure size 432x288 with 2 Axes>"
      ]
     },
     "metadata": {
      "needs_background": "light"
     },
     "output_type": "display_data"
    }
   ],
   "source": [
    "from sklearn.metrics import plot_confusion_matrix\n",
    "plot_confusion_matrix (rf,x_test,y_test,normalize=\"true\")"
   ]
  },
  {
   "cell_type": "code",
   "execution_count": 20,
   "metadata": {},
   "outputs": [
    {
     "data": {
      "text/plain": [
       "([<matplotlib.axis.YTick at 0x7f31a41eff10>,\n",
       "  <matplotlib.axis.YTick at 0x7f31a41d9a10>,\n",
       "  <matplotlib.axis.YTick at 0x7f31a41d54d0>,\n",
       "  <matplotlib.axis.YTick at 0x7f31a419b2d0>,\n",
       "  <matplotlib.axis.YTick at 0x7f31a419b3d0>,\n",
       "  <matplotlib.axis.YTick at 0x7f31a41b0150>,\n",
       "  <matplotlib.axis.YTick at 0x7f31a41b0250>,\n",
       "  <matplotlib.axis.YTick at 0x7f31a41a6190>,\n",
       "  <matplotlib.axis.YTick at 0x7f31a419bad0>,\n",
       "  <matplotlib.axis.YTick at 0x7f31a41b0390>,\n",
       "  <matplotlib.axis.YTick at 0x7f31a41a6810>,\n",
       "  <matplotlib.axis.YTick at 0x7f31a4190110>,\n",
       "  <matplotlib.axis.YTick at 0x7f31a4190650>,\n",
       "  <matplotlib.axis.YTick at 0x7f31a4190750>,\n",
       "  <matplotlib.axis.YTick at 0x7f31a4190610>,\n",
       "  <matplotlib.axis.YTick at 0x7f31a41a6490>,\n",
       "  <matplotlib.axis.YTick at 0x7f31a4179650>,\n",
       "  <matplotlib.axis.YTick at 0x7f31a4179190>,\n",
       "  <matplotlib.axis.YTick at 0x7f31a4101150>,\n",
       "  <matplotlib.axis.YTick at 0x7f31a4101250>,\n",
       "  <matplotlib.axis.YTick at 0x7f31a4109150>,\n",
       "  <matplotlib.axis.YTick at 0x7f31a4101790>,\n",
       "  <matplotlib.axis.YTick at 0x7f31a4179c90>],\n",
       " [Text(0, 0, '0'),\n",
       "  Text(0, 1, '1'),\n",
       "  Text(0, 2, '2'),\n",
       "  Text(0, 3, '3'),\n",
       "  Text(0, 4, '4'),\n",
       "  Text(0, 5, '5'),\n",
       "  Text(0, 6, '6'),\n",
       "  Text(0, 7, '7'),\n",
       "  Text(0, 8, '8'),\n",
       "  Text(0, 9, '9'),\n",
       "  Text(0, 10, '10'),\n",
       "  Text(0, 11, '11'),\n",
       "  Text(0, 12, '12'),\n",
       "  Text(0, 13, '13'),\n",
       "  Text(0, 14, '14'),\n",
       "  Text(0, 15, '15'),\n",
       "  Text(0, 16, 'Latitude'),\n",
       "  Text(0, 17, 'Elevation'),\n",
       "  Text(0, 18, 'Temperature'),\n",
       "  Text(0, 19, 'Visibility'),\n",
       "  Text(0, 20, 'WindSpeed'),\n",
       "  Text(0, 21, 'Pressure'),\n",
       "  Text(0, 22, 'Humidity')])"
      ]
     },
     "execution_count": 20,
     "metadata": {},
     "output_type": "execute_result"
    },
    {
     "data": {
      "image/png": "[encoded data removed]",
      "text/plain": [
       "<Figure size 432x288 with 1 Axes>"
      ]
     },
     "metadata": {
      "needs_background": "light"
     },
     "output_type": "display_data"
    }
   ],
   "source": [
    "# Given plotting example for feature importance\n",
    "plt.barh(range(23), rf.feature_importances_)\n",
    "plt.yticks(range(23), list(range(16))+features[:-1])"
   ]
  },
  {
   "cell_type": "markdown",
   "metadata": {},
   "source": [
    "#### 8. Standardise the relevant features (0.5 mark)\n",
    "\n",
    "_Note:_ You shouldn't standardise the one-hot encoded wind directions; they already have the desired format. Perform a sanity check to make sure that the resulting features have the expected distributional properties (mean and standard deviation; or minimum and maximum value).\n",
    "- Hint:\n",
    "\n",
    "    - Use the scikit-learn `StandardScaler`\n",
    "    - Or use the scikit-learn `MinMaxScaler`\n",
    "\n",
    "- Perform a sanity check to make sure that the resulting features have the expected distributional properties (mean and standard deviation; or minimum and maximum value).\n",
    "    - The number of columns should match, and depending on the choice of standardisation, the last 7 columns should either have:\n",
    "      - (Using `StandardScaler`) means = 0 and standard deviations = 1; or\n",
    "      - (Using `MinMaxScaler`) min = 0, max = 1"
   ]
  },
  {
   "cell_type": "code",
   "execution_count": 21,
   "metadata": {},
   "outputs": [
    {
     "name": "stdout",
     "output_type": "stream",
     "text": [
      "Checking feature standardisation:\n",
      "   1/11: µ ± σ =  0.07 ± 0.26 | min, max = [ 0.00,  1.00]\n",
      "   2/11: µ ± σ =  0.08 ± 0.26 | min, max = [ 0.00,  1.00]\n",
      "   3/11: µ ± σ =  0.04 ± 0.19 | min, max = [ 0.00,  1.00]\n",
      "   4/11: µ ± σ =  0.07 ± 0.26 | min, max = [ 0.00,  1.00]\n",
      "   5/11: µ ± σ =  0.08 ± 0.28 | min, max = [ 0.00,  1.00]\n",
      "   6/11: µ ± σ =  0.06 ± 0.24 | min, max = [ 0.00,  1.00]\n",
      "   7/11: µ ± σ =  0.04 ± 0.20 | min, max = [ 0.00,  1.00]\n",
      "   8/11: µ ± σ =  0.04 ± 0.20 | min, max = [ 0.00,  1.00]\n",
      "   9/11: µ ± σ =  0.07 ± 0.26 | min, max = [ 0.00,  1.00]\n",
      "  10/11: µ ± σ =  0.03 ± 0.17 | min, max = [ 0.00,  1.00]\n",
      "  11/11: µ ± σ =  0.03 ± 0.18 | min, max = [ 0.00,  1.00]\n",
      "  12/11: µ ± σ =  0.07 ± 0.26 | min, max = [ 0.00,  1.00]\n",
      "  13/11: µ ± σ =  0.08 ± 0.27 | min, max = [ 0.00,  1.00]\n",
      "  14/11: µ ± σ =  0.10 ± 0.30 | min, max = [ 0.00,  1.00]\n",
      "  15/11: µ ± σ =  0.04 ± 0.21 | min, max = [ 0.00,  1.00]\n",
      "  16/11: µ ± σ =  0.09 ± 0.28 | min, max = [ 0.00,  1.00]\n",
      "(Above: One Hot Encoded features)\n",
      "–-----------------------------\n",
      "(Below: Remaining, Standardised features)\n",
      "  17/11: µ ± σ =  0.00 ± 1.00 | min, max = [-1.83,  2.76]\n",
      "  18/11: µ ± σ = -0.00 ± 1.00 | min, max = [-1.04,  3.05]\n",
      "  19/11: µ ± σ = -0.00 ± 1.00 | min, max = [-3.16,  3.98]\n",
      "  20/11: µ ± σ =  0.00 ± 1.00 | min, max = [-1.48,  3.62]\n",
      "  21/11: µ ± σ = -0.00 ± 1.00 | min, max = [-1.50,  6.26]\n",
      "  22/11: µ ± σ = -0.00 ± 1.00 | min, max = [-5.41,  2.46]\n",
      "  23/11: µ ± σ = -0.00 ± 1.00 | min, max = [-3.67,  1.19]\n"
     ]
    }
   ],
   "source": [
    "# Method 1\n",
    "# --------\n",
    "X[:,16:] = StandardScaler().fit_transform(X[:,16:])\n",
    "\n",
    "# Method 2\n",
    "# --------\n",
    "#X[:,16:] = MinMaxScaler().fit_transform(X[:,16:])\n",
    "\n",
    "# Sanity check of feature standardisation. \n",
    "print(\"Checking feature standardisation:\")\n",
    "for ix, (mean, std, xmin, xmax) in enumerate(zip(X.mean(axis=0), X.std(axis=0), X.min(axis=0), X.max(axis=0)), start=1):\n",
    "    print(u\"  {:2d}/11: µ ± σ = {:-5.2f} ± {:4.2f} | min, max = [{:-5.2f}, {:-5.2f}]\".format(ix, mean, std, xmin, xmax))\n",
    "    if ix == 16:\n",
    "        print(\"(Above: One Hot Encoded features)\")\n",
    "        print(\"–-----------------------------\")\n",
    "        print(\"(Below: Remaining, Standardised features)\")\n",
    "        pass\n",
    "    pass\n",
    "\n"
   ]
  },
  {
   "cell_type": "markdown",
   "metadata": {},
   "source": [
    "#### 9. Split the dataset into a training and a testing part (0.5 marks)\n",
    "\n",
    "Reserve **30%** of data for testing. Check whether the resulting arrays have the expected shapes."
   ]
  },
  {
   "cell_type": "code",
   "execution_count": 22,
   "metadata": {},
   "outputs": [
    {
     "name": "stdout",
     "output_type": "stream",
     "text": [
      "(10500, 23) (7350, 23) (3150, 23) | (10500, 1) (7350, 1) (3150, 1)\n"
     ]
    }
   ],
   "source": [
    "# Perform train/test split \n",
    "X_train, X_test, y_train, y_test = train_test_split(X, y, test_size=0.3)\n",
    "\n",
    "# Print shapes\n",
    "print (X.shape, X_train.shape, X_test.shape, \"|\", y.shape, y_train.shape, y_test.shape)"
   ]
  },
  {
   "cell_type": "markdown",
   "metadata": {},
   "source": [
    "## 3. Neural networks in `scikit-learn` (1.5 mark)\n",
    "---\n",
    "This section covers **2** exercises on constructing and training neural networks using the `scikit-learn` library, as well as evaluating neural network performance. `scikit-learn` provide many, very easy to use ML algorithms, including neural networks. These are called `MLPClassifier` (MLP = multi-layer perceptron; a historic name for densely connected, feed-forward neural networks) when used for classification, and `MLPRegressor` when used for regression. We will focus on the former for now."
   ]
  },
  {
   "cell_type": "code",
   "execution_count": 23,
   "metadata": {},
   "outputs": [],
   "source": [
    "# Relevant import(s) for this section\n",
    "from sklearn.neural_network import MLPClassifier\n"
   ]
  },
  {
   "cell_type": "markdown",
   "metadata": {},
   "source": [
    "#### 10. Construct and train a neural network  (1 mark)\n",
    "\n",
    "- Create an `MLPClassifier` which\n",
    "    - has **1 hidden layer of 50 neurons** \n",
    "    - has **no regularization term**\n",
    "    - trains for a maximum of **100 epochs** \n",
    "    - uses a batch size of **32**\n",
    "- Fit the classifier using the standard `.fit()` member method.\n",
    "- Plot the loss function value as a function of number of epochs (0.5 of mark).\n",
    "  You can access the loss history through the `.loss_curve_` attribute of the `MLPClassifier` instance. "
   ]
  },
  {
   "cell_type": "code",
   "execution_count": 24,
   "metadata": {},
   "outputs": [
    {
     "data": {
      "text/plain": [
       "MLPClassifier(batch_size=32, hidden_layer_sizes=(50,), max_iter=100)"
      ]
     },
     "execution_count": 24,
     "metadata": {},
     "output_type": "execute_result"
    }
   ],
   "source": [
    "clf = MLPClassifier(max_iter=100, hidden_layer_sizes=(50,), batch_size=32, verbose=False)\n",
    "clf.fit(X_train, y_train.ravel())"
   ]
  },
  {
   "cell_type": "code",
   "execution_count": 25,
   "metadata": {},
   "outputs": [
    {
     "data": {
      "image/png": "[encoded data removed]",
      "text/plain": [
       "<Figure size 432x288 with 1 Axes>"
      ]
     },
     "metadata": {
      "needs_background": "light"
     },
     "output_type": "display_data"
    }
   ],
   "source": [
    "plt.plot(clf.loss_curve_)\n",
    "plt.xlabel('Number of training epochs')\n",
    "plt.ylabel('Training loss');"
   ]
  },
  {
   "cell_type": "markdown",
   "metadata": {},
   "source": [
    "#### 11. Performance evaluation (0.5 mark)\n",
    "\n",
    "- Using the testing dataset: \n",
    "    - Compute the overall accuracy for the classifier using the `MLPClassifier`'s `.score()` member method for both testing and training datasets.\n",
    "    - Compute the confusion matrix (normalised in true labels), and plot it \n",
    "- Discuss the results"
   ]
  },
  {
   "cell_type": "code",
   "execution_count": 26,
   "metadata": {},
   "outputs": [
    {
     "name": "stdout",
     "output_type": "stream",
     "text": [
      "Overall test accuracy: 71.0%\n",
      "Overall train accuracy: 76.0%\n"
     ]
    }
   ],
   "source": [
    "cm   = confusion_matrix(y_test, clf.predict(X_test),normalize=\"true\")\n",
    "sk_test_acc  = clf.score(X_test, y_test)\n",
    "sk_train_acc  = clf.score(X_train, y_train)\n",
    "print(\"Overall test accuracy: {:.1f}%\".format(sk_test_acc * 100.))\n",
    "print(\"Overall train accuracy: {:.1f}%\".format(sk_train_acc * 100.))"
   ]
  },
  {
   "cell_type": "code",
   "execution_count": 27,
   "metadata": {},
   "outputs": [
    {
     "data": {
      "image/png": "[encoded data removed]",
      "text/plain": [
       "<Figure size 720x720 with 2 Axes>"
      ]
     },
     "metadata": {
      "needs_background": "light"
     },
     "output_type": "display_data"
    }
   ],
   "source": [
    "fig, ax = plt.subplots(figsize=(10, 10))\n",
    "# Generate Heat Map, allow annotations and place floats in map\n",
    "sns.heatmap(cm , cmap=colormap, annot=True, fmt=\".2f\")\n",
    "ax.set_xticklabels(\n",
    "    wtype,\n",
    "    rotation=45,\n",
    "    horizontalalignment='right'\n",
    ");\n",
    "ax.set_xlabel('Classified Label')\n",
    "ax.set_ylabel('True Label')\n",
    "ax.set_yticklabels(wtype);\n",
    "plt.show()"
   ]
  },
  {
   "cell_type": "markdown",
   "metadata": {},
   "source": [
    "_Indicative answer:_ The overall accuracy by random guess would be $1/3 = 33\\%$ (given a balanced sample of 3 classes). An accuracy of $\\approx 70\\%$ therefore seems very reasonable (although it is hard to gauge absolute numbers like this without a basis for reference). The confusion matrics show that the majority of testing examples fall along the diagonal, _i.e._ they are correctly classified. Furthermore, the accuracy for classifying the \"edge weather types\" ('clear' and 'precipitation') is higher than the accuracy for classifying cloudy weather. Similarly, the one-off diagonal entries are far more populated than then two-off diagonal entries. Both of these suggest that it is harder to distinguish between 'clear' and 'cloudy' and between 'cloudy' and 'precipitation' than it is to distinguish between 'clear' and 'precipitation' — which makes a lot of sense!"
   ]
  },
  {
   "cell_type": "markdown",
   "metadata": {},
   "source": [
    "## 4. Neural networks in `Keras` (2 marks)\n",
    "---\n",
    "This section covers **2** exercises on constructing and training neural networks using the `Keras` library. `scikit-learn` is very easy to use, but libraries like `Keras` provide a lot more flexibility, which is why we will be using these extensively in the last two units of the _'Data science tools and machine learning'_ track."
   ]
  },
  {
   "cell_type": "code",
   "execution_count": 28,
   "metadata": {},
   "outputs": [],
   "source": [
    "# Relevant import(s) for this section\n",
    "from tensorflow.python.keras.models import Model\n",
    "from tensorflow.python.keras.layers import Input, Dense"
   ]
  },
  {
   "cell_type": "markdown",
   "metadata": {},
   "source": [
    "#### 12. Construct a neural network in `Keras` (1 mark)\n",
    "\n",
    "- Create a `keras.Model` using the **Keras functional API**. The network should have:\n",
    "    - An input layer with the same number of nodes as the number of features in `X`.\n",
    "    - A single, densely connected hidden layer with **50 nodes** equipped with **ReLU activation**.\n",
    "    - A densely connected output layer with **3 nodes** (the number of types of weather we're classifying) equipped with **softmax activation**.\n",
    "- Compile the model the using the **Adam optimiser**, add `'accuracy'` as metric, and use either:\n",
    "    - `categorical_crossentropy` loss, if you have one-hot encoded the targets `y`, or\n",
    "    - `sparse_categorical_crossentropy` loss if you hare using integer-valued targets.\n",
    "- Use the `.summary()` member method to print an overview of the model you have created, explain the output."
   ]
  },
  {
   "cell_type": "code",
   "execution_count": 29,
   "metadata": {
    "scrolled": true
   },
   "outputs": [],
   "source": [
    "i = Input(shape=(23,))\n",
    "x = Dense(50, activation='relu')(i)\n",
    "o = Dense(3, activation='softmax')(x)\n",
    "mdl = Model(i, o)\n",
    "\n",
    "mdl.compile('adam', loss='sparse_categorical_crossentropy', metrics=['accuracy'])"
   ]
  },
  {
   "cell_type": "code",
   "execution_count": 30,
   "metadata": {},
   "outputs": [
    {
     "name": "stdout",
     "output_type": "stream",
     "text": [
      "Model: \"model_1\"\n",
      "_________________________________________________________________\n",
      "Layer (type)                 Output Shape              Param #   \n",
      "=================================================================\n",
      "input_2 (InputLayer)         [(None, 23)]              0         \n",
      "_________________________________________________________________\n",
      "dense_3 (Dense)              (None, 50)                1200      \n",
      "_________________________________________________________________\n",
      "dense_4 (Dense)              (None, 3)                 153       \n",
      "=================================================================\n",
      "Total params: 1,353\n",
      "Trainable params: 1,353\n",
      "Non-trainable params: 0\n",
      "_________________________________________________________________\n"
     ]
    }
   ],
   "source": [
    "mdl.summary()"
   ]
  },
  {
   "cell_type": "markdown",
   "metadata": {},
   "source": [
    "#### 13. Train a `Keras` neural network (1 mark)\n",
    "\n",
    "- Use the `.fit()` member method to train the network on the **training dataset** for **100 epochs** with a **batch size of 32**. Use **20% of the data for validation** and make sure to have `Keras` **shuffle** the training data between epochs. Save the fit history by doing `history_mld = .....`\n",
    "- Print the classification accuracy using the `.evaluate()` member method, for both the training and testing dataset. Comment on the results.\n",
    "- Plot val_loss and loss functions from the fit history. On the same plot, plot the sklearn curve from the excercise above. Note the sklearn NN does not provide a complementary validation loss history, so only plot the training loss.\n",
    "- Comment on the results of the overall accuracy compared to the scikit-learn method."
   ]
  },
  {
   "cell_type": "code",
   "execution_count": 31,
   "metadata": {},
   "outputs": [
    {
     "name": "stderr",
     "output_type": "stream",
     "text": [
      "2021-10-14 15:40:06.668872: I tensorflow/compiler/mlir/mlir_graph_optimization_pass.cc:116] None of the MLIR optimization passes are enabled (registered 2)\n",
      "2021-10-14 15:40:06.687443: I tensorflow/core/platform/profile_utils/cpu_utils.cc:112] CPU Frequency: 2599990000 Hz\n"
     ]
    },
    {
     "name": "stdout",
     "output_type": "stream",
     "text": [
      "Epoch 1/100\n",
      "184/184 [==============================] - 1s 2ms/step - loss: 0.9850 - accuracy: 0.5081 - val_loss: 0.7606 - val_accuracy: 0.6408\n",
      "Epoch 2/100\n",
      "184/184 [==============================] - 0s 710us/step - loss: 0.7570 - accuracy: 0.6480 - val_loss: 0.7084 - val_accuracy: 0.6762\n",
      "Epoch 3/100\n",
      "184/184 [==============================] - 0s 693us/step - loss: 0.6986 - accuracy: 0.6859 - val_loss: 0.6941 - val_accuracy: 0.6837\n",
      "Epoch 4/100\n",
      "184/184 [==============================] - 0s 661us/step - loss: 0.6764 - accuracy: 0.6951 - val_loss: 0.6843 - val_accuracy: 0.6837\n",
      "Epoch 5/100\n",
      "184/184 [==============================] - 0s 699us/step - loss: 0.6815 - accuracy: 0.6924 - val_loss: 0.6791 - val_accuracy: 0.6816\n",
      "Epoch 6/100\n",
      "184/184 [==============================] - 0s 706us/step - loss: 0.6705 - accuracy: 0.6953 - val_loss: 0.6752 - val_accuracy: 0.6864\n",
      "Epoch 7/100\n",
      "184/184 [==============================] - 0s 687us/step - loss: 0.6553 - accuracy: 0.7066 - val_loss: 0.6704 - val_accuracy: 0.6884\n",
      "Epoch 8/100\n",
      "184/184 [==============================] - 0s 677us/step - loss: 0.6596 - accuracy: 0.7023 - val_loss: 0.6703 - val_accuracy: 0.6844\n",
      "Epoch 9/100\n",
      "184/184 [==============================] - 0s 676us/step - loss: 0.6613 - accuracy: 0.7091 - val_loss: 0.6659 - val_accuracy: 0.6912\n",
      "Epoch 10/100\n",
      "184/184 [==============================] - 0s 667us/step - loss: 0.6505 - accuracy: 0.6985 - val_loss: 0.6633 - val_accuracy: 0.6905\n",
      "Epoch 11/100\n",
      "184/184 [==============================] - 0s 713us/step - loss: 0.6650 - accuracy: 0.6975 - val_loss: 0.6650 - val_accuracy: 0.6898\n",
      "Epoch 12/100\n",
      "184/184 [==============================] - 0s 692us/step - loss: 0.6516 - accuracy: 0.7102 - val_loss: 0.6640 - val_accuracy: 0.6884\n",
      "Epoch 13/100\n",
      "184/184 [==============================] - 0s 679us/step - loss: 0.6394 - accuracy: 0.7089 - val_loss: 0.6629 - val_accuracy: 0.6898\n",
      "Epoch 14/100\n",
      "184/184 [==============================] - 0s 688us/step - loss: 0.6389 - accuracy: 0.7138 - val_loss: 0.6605 - val_accuracy: 0.6932\n",
      "Epoch 15/100\n",
      "184/184 [==============================] - 0s 667us/step - loss: 0.6375 - accuracy: 0.7211 - val_loss: 0.6640 - val_accuracy: 0.6912\n",
      "Epoch 16/100\n",
      "184/184 [==============================] - 0s 719us/step - loss: 0.6480 - accuracy: 0.7039 - val_loss: 0.6620 - val_accuracy: 0.6918\n",
      "Epoch 17/100\n",
      "184/184 [==============================] - 0s 692us/step - loss: 0.6472 - accuracy: 0.7121 - val_loss: 0.6621 - val_accuracy: 0.6918\n",
      "Epoch 18/100\n",
      "184/184 [==============================] - 0s 669us/step - loss: 0.6333 - accuracy: 0.7171 - val_loss: 0.6655 - val_accuracy: 0.6905\n",
      "Epoch 19/100\n",
      "184/184 [==============================] - 0s 691us/step - loss: 0.6222 - accuracy: 0.7238 - val_loss: 0.6586 - val_accuracy: 0.6952\n",
      "Epoch 20/100\n",
      "184/184 [==============================] - 0s 717us/step - loss: 0.6304 - accuracy: 0.7172 - val_loss: 0.6594 - val_accuracy: 0.6946\n",
      "Epoch 21/100\n",
      "184/184 [==============================] - 0s 721us/step - loss: 0.6274 - accuracy: 0.7237 - val_loss: 0.6576 - val_accuracy: 0.6980\n",
      "Epoch 22/100\n",
      "184/184 [==============================] - 0s 680us/step - loss: 0.6253 - accuracy: 0.7253 - val_loss: 0.6624 - val_accuracy: 0.6973\n",
      "Epoch 23/100\n",
      "184/184 [==============================] - 0s 727us/step - loss: 0.6258 - accuracy: 0.7213 - val_loss: 0.6587 - val_accuracy: 0.6980\n",
      "Epoch 24/100\n",
      "184/184 [==============================] - 0s 703us/step - loss: 0.6204 - accuracy: 0.7222 - val_loss: 0.6623 - val_accuracy: 0.6966\n",
      "Epoch 25/100\n",
      "184/184 [==============================] - 0s 691us/step - loss: 0.6247 - accuracy: 0.7241 - val_loss: 0.6580 - val_accuracy: 0.6912\n",
      "Epoch 26/100\n",
      "184/184 [==============================] - 0s 693us/step - loss: 0.6189 - accuracy: 0.7159 - val_loss: 0.6581 - val_accuracy: 0.6939\n",
      "Epoch 27/100\n",
      "184/184 [==============================] - 0s 707us/step - loss: 0.6139 - accuracy: 0.7261 - val_loss: 0.6577 - val_accuracy: 0.6952\n",
      "Epoch 28/100\n",
      "184/184 [==============================] - 0s 676us/step - loss: 0.6248 - accuracy: 0.7267 - val_loss: 0.6572 - val_accuracy: 0.6939\n",
      "Epoch 29/100\n",
      "184/184 [==============================] - 0s 712us/step - loss: 0.6217 - accuracy: 0.7205 - val_loss: 0.6629 - val_accuracy: 0.6912\n",
      "Epoch 30/100\n",
      "184/184 [==============================] - 0s 701us/step - loss: 0.6228 - accuracy: 0.7214 - val_loss: 0.6611 - val_accuracy: 0.6946\n",
      "Epoch 31/100\n",
      "184/184 [==============================] - 0s 694us/step - loss: 0.6290 - accuracy: 0.7222 - val_loss: 0.6594 - val_accuracy: 0.6925\n",
      "Epoch 32/100\n",
      "184/184 [==============================] - 0s 655us/step - loss: 0.6272 - accuracy: 0.7222 - val_loss: 0.6611 - val_accuracy: 0.6905\n",
      "Epoch 33/100\n",
      "184/184 [==============================] - 0s 677us/step - loss: 0.6170 - accuracy: 0.7285 - val_loss: 0.6605 - val_accuracy: 0.6932\n",
      "Epoch 34/100\n",
      "184/184 [==============================] - 0s 696us/step - loss: 0.6149 - accuracy: 0.7265 - val_loss: 0.6606 - val_accuracy: 0.6932\n",
      "Epoch 35/100\n",
      "184/184 [==============================] - 0s 665us/step - loss: 0.6110 - accuracy: 0.7333 - val_loss: 0.6626 - val_accuracy: 0.6993\n",
      "Epoch 36/100\n",
      "184/184 [==============================] - 0s 735us/step - loss: 0.6206 - accuracy: 0.7239 - val_loss: 0.6609 - val_accuracy: 0.6939\n",
      "Epoch 37/100\n",
      "184/184 [==============================] - 0s 682us/step - loss: 0.6143 - accuracy: 0.7232 - val_loss: 0.6578 - val_accuracy: 0.6980\n",
      "Epoch 38/100\n",
      "184/184 [==============================] - 0s 698us/step - loss: 0.6029 - accuracy: 0.7320 - val_loss: 0.6584 - val_accuracy: 0.6966\n",
      "Epoch 39/100\n",
      "184/184 [==============================] - 0s 681us/step - loss: 0.6150 - accuracy: 0.7286 - val_loss: 0.6577 - val_accuracy: 0.6986\n",
      "Epoch 40/100\n",
      "184/184 [==============================] - 0s 695us/step - loss: 0.6073 - accuracy: 0.7315 - val_loss: 0.6583 - val_accuracy: 0.6939\n",
      "Epoch 41/100\n",
      "184/184 [==============================] - 0s 703us/step - loss: 0.6144 - accuracy: 0.7231 - val_loss: 0.6577 - val_accuracy: 0.6952\n",
      "Epoch 42/100\n",
      "184/184 [==============================] - 0s 700us/step - loss: 0.6167 - accuracy: 0.7325 - val_loss: 0.6614 - val_accuracy: 0.6925\n",
      "Epoch 43/100\n",
      "184/184 [==============================] - 0s 691us/step - loss: 0.6199 - accuracy: 0.7301 - val_loss: 0.6612 - val_accuracy: 0.6959\n",
      "Epoch 44/100\n",
      "184/184 [==============================] - 0s 694us/step - loss: 0.5905 - accuracy: 0.7419 - val_loss: 0.6562 - val_accuracy: 0.6946\n",
      "Epoch 45/100\n",
      "184/184 [==============================] - 0s 702us/step - loss: 0.6195 - accuracy: 0.7301 - val_loss: 0.6543 - val_accuracy: 0.7014\n",
      "Epoch 46/100\n",
      "184/184 [==============================] - 0s 710us/step - loss: 0.6029 - accuracy: 0.7265 - val_loss: 0.6554 - val_accuracy: 0.7014\n",
      "Epoch 47/100\n",
      "184/184 [==============================] - 0s 677us/step - loss: 0.5995 - accuracy: 0.7372 - val_loss: 0.6576 - val_accuracy: 0.6980\n",
      "Epoch 48/100\n",
      "184/184 [==============================] - 0s 684us/step - loss: 0.6033 - accuracy: 0.7382 - val_loss: 0.6602 - val_accuracy: 0.7000\n",
      "Epoch 49/100\n",
      "184/184 [==============================] - 0s 674us/step - loss: 0.6125 - accuracy: 0.7317 - val_loss: 0.6589 - val_accuracy: 0.6952\n",
      "Epoch 50/100\n",
      "184/184 [==============================] - 0s 687us/step - loss: 0.5984 - accuracy: 0.7388 - val_loss: 0.6567 - val_accuracy: 0.6980\n",
      "Epoch 51/100\n",
      "184/184 [==============================] - 0s 707us/step - loss: 0.5900 - accuracy: 0.7472 - val_loss: 0.6605 - val_accuracy: 0.6986\n",
      "Epoch 52/100\n",
      "184/184 [==============================] - 0s 691us/step - loss: 0.6053 - accuracy: 0.7323 - val_loss: 0.6615 - val_accuracy: 0.6932\n",
      "Epoch 53/100\n",
      "184/184 [==============================] - 0s 683us/step - loss: 0.5998 - accuracy: 0.7315 - val_loss: 0.6591 - val_accuracy: 0.6986\n",
      "Epoch 54/100\n",
      "184/184 [==============================] - 0s 704us/step - loss: 0.5924 - accuracy: 0.7458 - val_loss: 0.6624 - val_accuracy: 0.6973\n",
      "Epoch 55/100\n",
      "184/184 [==============================] - 0s 707us/step - loss: 0.5853 - accuracy: 0.7394 - val_loss: 0.6635 - val_accuracy: 0.6925\n",
      "Epoch 56/100\n",
      "184/184 [==============================] - 0s 708us/step - loss: 0.5983 - accuracy: 0.7386 - val_loss: 0.6621 - val_accuracy: 0.7000\n",
      "Epoch 57/100\n",
      "184/184 [==============================] - 0s 723us/step - loss: 0.5954 - accuracy: 0.7357 - val_loss: 0.6630 - val_accuracy: 0.6973\n",
      "Epoch 58/100\n",
      "184/184 [==============================] - 0s 700us/step - loss: 0.5922 - accuracy: 0.7435 - val_loss: 0.6613 - val_accuracy: 0.7027\n",
      "Epoch 59/100\n",
      "184/184 [==============================] - 0s 687us/step - loss: 0.5927 - accuracy: 0.7381 - val_loss: 0.6576 - val_accuracy: 0.6980\n",
      "Epoch 60/100\n",
      "184/184 [==============================] - 0s 681us/step - loss: 0.5865 - accuracy: 0.7394 - val_loss: 0.6639 - val_accuracy: 0.6939\n",
      "Epoch 61/100\n",
      "184/184 [==============================] - 0s 719us/step - loss: 0.5864 - accuracy: 0.7435 - val_loss: 0.6624 - val_accuracy: 0.7048\n",
      "Epoch 62/100\n",
      "184/184 [==============================] - 0s 674us/step - loss: 0.5886 - accuracy: 0.7457 - val_loss: 0.6607 - val_accuracy: 0.7000\n",
      "Epoch 63/100\n",
      "184/184 [==============================] - 0s 698us/step - loss: 0.5929 - accuracy: 0.7373 - val_loss: 0.6641 - val_accuracy: 0.6980\n",
      "Epoch 64/100\n",
      "184/184 [==============================] - 0s 688us/step - loss: 0.5939 - accuracy: 0.7353 - val_loss: 0.6614 - val_accuracy: 0.7054\n",
      "Epoch 65/100\n",
      "184/184 [==============================] - 0s 661us/step - loss: 0.5993 - accuracy: 0.7392 - val_loss: 0.6632 - val_accuracy: 0.7000\n",
      "Epoch 66/100\n",
      "184/184 [==============================] - 0s 707us/step - loss: 0.5941 - accuracy: 0.7406 - val_loss: 0.6624 - val_accuracy: 0.6939\n",
      "Epoch 67/100\n",
      "184/184 [==============================] - 0s 710us/step - loss: 0.5811 - accuracy: 0.7485 - val_loss: 0.6636 - val_accuracy: 0.7020\n",
      "Epoch 68/100\n",
      "184/184 [==============================] - 0s 727us/step - loss: 0.6092 - accuracy: 0.7382 - val_loss: 0.6648 - val_accuracy: 0.7041\n",
      "Epoch 69/100\n",
      "184/184 [==============================] - 0s 711us/step - loss: 0.5623 - accuracy: 0.7504 - val_loss: 0.6617 - val_accuracy: 0.7048\n",
      "Epoch 70/100\n",
      "184/184 [==============================] - 0s 704us/step - loss: 0.5839 - accuracy: 0.7483 - val_loss: 0.6642 - val_accuracy: 0.6973\n",
      "Epoch 71/100\n",
      "184/184 [==============================] - 0s 748us/step - loss: 0.5916 - accuracy: 0.7379 - val_loss: 0.6636 - val_accuracy: 0.7020\n",
      "Epoch 72/100\n",
      "184/184 [==============================] - 0s 803us/step - loss: 0.5919 - accuracy: 0.7449 - val_loss: 0.6649 - val_accuracy: 0.6993\n",
      "Epoch 73/100\n",
      "184/184 [==============================] - 0s 791us/step - loss: 0.5858 - accuracy: 0.7420 - val_loss: 0.6610 - val_accuracy: 0.6986\n",
      "Epoch 74/100\n",
      "184/184 [==============================] - 0s 685us/step - loss: 0.5821 - accuracy: 0.7550 - val_loss: 0.6646 - val_accuracy: 0.6966\n",
      "Epoch 75/100\n",
      "184/184 [==============================] - 0s 710us/step - loss: 0.5716 - accuracy: 0.7570 - val_loss: 0.6664 - val_accuracy: 0.6993\n",
      "Epoch 76/100\n",
      "184/184 [==============================] - 0s 702us/step - loss: 0.5872 - accuracy: 0.7449 - val_loss: 0.6618 - val_accuracy: 0.6973\n",
      "Epoch 77/100\n",
      "184/184 [==============================] - 0s 686us/step - loss: 0.5944 - accuracy: 0.7399 - val_loss: 0.6646 - val_accuracy: 0.7000\n",
      "Epoch 78/100\n",
      "184/184 [==============================] - 0s 668us/step - loss: 0.5625 - accuracy: 0.7608 - val_loss: 0.6654 - val_accuracy: 0.7007\n",
      "Epoch 79/100\n",
      "184/184 [==============================] - 0s 681us/step - loss: 0.5863 - accuracy: 0.7420 - val_loss: 0.6613 - val_accuracy: 0.7020\n",
      "Epoch 80/100\n",
      "184/184 [==============================] - 0s 703us/step - loss: 0.5846 - accuracy: 0.7462 - val_loss: 0.6644 - val_accuracy: 0.7000\n",
      "Epoch 81/100\n",
      "184/184 [==============================] - 0s 708us/step - loss: 0.5652 - accuracy: 0.7539 - val_loss: 0.6641 - val_accuracy: 0.7000\n",
      "Epoch 82/100\n",
      "184/184 [==============================] - 0s 698us/step - loss: 0.5829 - accuracy: 0.7430 - val_loss: 0.6668 - val_accuracy: 0.7007\n",
      "Epoch 83/100\n",
      "184/184 [==============================] - 0s 652us/step - loss: 0.5824 - accuracy: 0.7487 - val_loss: 0.6652 - val_accuracy: 0.6993\n",
      "Epoch 84/100\n",
      "184/184 [==============================] - 0s 708us/step - loss: 0.5717 - accuracy: 0.7509 - val_loss: 0.6691 - val_accuracy: 0.6952\n",
      "Epoch 85/100\n",
      "184/184 [==============================] - 0s 701us/step - loss: 0.5773 - accuracy: 0.7490 - val_loss: 0.6643 - val_accuracy: 0.7061\n",
      "Epoch 86/100\n",
      "184/184 [==============================] - 0s 683us/step - loss: 0.5712 - accuracy: 0.7533 - val_loss: 0.6683 - val_accuracy: 0.7034\n",
      "Epoch 87/100\n",
      "184/184 [==============================] - 0s 682us/step - loss: 0.5783 - accuracy: 0.7524 - val_loss: 0.6652 - val_accuracy: 0.7061\n",
      "Epoch 88/100\n",
      "184/184 [==============================] - 0s 680us/step - loss: 0.5825 - accuracy: 0.7537 - val_loss: 0.6653 - val_accuracy: 0.6993\n",
      "Epoch 89/100\n",
      "184/184 [==============================] - 0s 671us/step - loss: 0.5690 - accuracy: 0.7529 - val_loss: 0.6683 - val_accuracy: 0.7034\n",
      "Epoch 90/100\n",
      "184/184 [==============================] - 0s 689us/step - loss: 0.5680 - accuracy: 0.7579 - val_loss: 0.6706 - val_accuracy: 0.6966\n",
      "Epoch 91/100\n",
      "184/184 [==============================] - 0s 724us/step - loss: 0.5735 - accuracy: 0.7508 - val_loss: 0.6688 - val_accuracy: 0.7034\n",
      "Epoch 92/100\n",
      "184/184 [==============================] - 0s 681us/step - loss: 0.5649 - accuracy: 0.7529 - val_loss: 0.6664 - val_accuracy: 0.7061\n",
      "Epoch 93/100\n",
      "184/184 [==============================] - 0s 693us/step - loss: 0.5716 - accuracy: 0.7495 - val_loss: 0.6665 - val_accuracy: 0.6973\n",
      "Epoch 94/100\n",
      "184/184 [==============================] - 0s 699us/step - loss: 0.5691 - accuracy: 0.7554 - val_loss: 0.6647 - val_accuracy: 0.7034\n",
      "Epoch 95/100\n",
      "184/184 [==============================] - 0s 693us/step - loss: 0.5787 - accuracy: 0.7548 - val_loss: 0.6732 - val_accuracy: 0.7007\n",
      "Epoch 96/100\n",
      "184/184 [==============================] - 0s 681us/step - loss: 0.5803 - accuracy: 0.7491 - val_loss: 0.6657 - val_accuracy: 0.7014\n",
      "Epoch 97/100\n",
      "184/184 [==============================] - 0s 679us/step - loss: 0.5584 - accuracy: 0.7545 - val_loss: 0.6644 - val_accuracy: 0.7027\n",
      "Epoch 98/100\n",
      "184/184 [==============================] - 0s 680us/step - loss: 0.5630 - accuracy: 0.7537 - val_loss: 0.6742 - val_accuracy: 0.6959\n",
      "Epoch 99/100\n",
      "184/184 [==============================] - 0s 686us/step - loss: 0.5588 - accuracy: 0.7526 - val_loss: 0.6656 - val_accuracy: 0.7007\n",
      "Epoch 100/100\n",
      "184/184 [==============================] - 0s 688us/step - loss: 0.5763 - accuracy: 0.7448 - val_loss: 0.6685 - val_accuracy: 0.6973\n"
     ]
    }
   ],
   "source": [
    "history_mdl = mdl.fit(X_train, y_train, epochs=100, batch_size=32, shuffle=True, validation_split=0.2)"
   ]
  },
  {
   "cell_type": "code",
   "execution_count": 32,
   "metadata": {},
   "outputs": [
    {
     "data": {
      "text/plain": [
       "((7350, 23), 183.75)"
      ]
     },
     "execution_count": 32,
     "metadata": {},
     "output_type": "execute_result"
    }
   ],
   "source": [
    "X_train.shape, X_train.shape[0]*.8/32"
   ]
  },
  {
   "cell_type": "code",
   "execution_count": 36,
   "metadata": {},
   "outputs": [
    {
     "data": {
      "text/plain": [
       "array([2, 0, 0, ..., 1, 0, 2])"
      ]
     },
     "execution_count": 36,
     "metadata": {},
     "output_type": "execute_result"
    }
   ],
   "source": [
    "mdl.predict(X_test).argmax(axis=-1)"
   ]
  },
  {
   "cell_type": "code",
   "execution_count": 33,
   "metadata": {},
   "outputs": [
    {
     "name": "stdout",
     "output_type": "stream",
     "text": [
      "Accuracy: 74.7% (train) vs 76.0 (sklearn)\n",
      "Accuracy: 70.0% (test) 71.0 (sklearn)\n"
     ]
    }
   ],
   "source": [
    "print(\"Accuracy: {:.1f}% (train) vs {:.1f} (sklearn)\".format(mdl.evaluate(X_train, y_train, verbose=False)[1] * 100.,sk_train_acc*100))\n",
    "print(\"Accuracy: {:.1f}% (test) {:.1f} (sklearn)\" .format(mdl.evaluate(X_test,  y_test,  verbose=False)[1] * 100.,sk_test_acc*100))"
   ]
  },
  {
   "cell_type": "code",
   "execution_count": 34,
   "metadata": {},
   "outputs": [
    {
     "data": {
      "image/png": "[encoded data removed]",
      "text/plain": [
       "<Figure size 432x288 with 1 Axes>"
      ]
     },
     "metadata": {
      "needs_background": "light"
     },
     "output_type": "display_data"
    }
   ],
   "source": [
    "# mdl loss\n",
    "plt.plot(history_mdl.history['loss'])\n",
    "plt.plot(history_mdl.history['val_loss'],linestyle='dashed')\n",
    "plt.plot(clf.loss_curve_)\n",
    "plt.title('model loss')\n",
    "plt.ylabel('loss function')\n",
    "plt.xlabel('epoch')\n",
    "plt.legend(['mdl train', 'mdl test', \"sklearn train\"], loc='upper right')\n",
    "plt.show()"
   ]
  },
  {
   "cell_type": "markdown",
   "metadata": {},
   "source": [
    "_Answer_: The accuracy on the testing dataset similar ( around 1%) as for the similar classifier constructed in scikit-learn. This means that, unrusprisingly, it doesn't matter which library is used to construct a neural network; if the definitions are the same, the performance will be as well. Both NN show some degree of overtraining \n",
    "\n",
    "_not marked_: The residual differences are due to the different ways that the libraries initialise their weights, hence each RNN starts from different initial conditions."
   ]
  },
  {
   "cell_type": "markdown",
   "metadata": {},
   "source": [
    "## 5. Regularisation (1.5 marks)\n",
    "---\n",
    "This section covers **2** exercises on the impact of weight regularisaton. Note that $L_{1}$- and $L_{2}$-regularisation may also be applied to the activation of intermediate layers. Also, a similar regularising effect could be achieved using **dropout** regularisation, which you are encouraged to try out, but which we won't study in this CP exercise."
   ]
  },
  {
   "cell_type": "code",
   "execution_count": 33,
   "metadata": {},
   "outputs": [],
   "source": [
    "# Relevant import(s) for this section\n",
    "from tensorflow.python.keras.regularizers import l1_l2"
   ]
  },
  {
   "cell_type": "markdown",
   "metadata": {},
   "source": [
    "#### 14. Define `Keras` model factory method (0.5 mark)\n",
    "\n",
    "- Define a python function called `big_model_fn` which takes the followng three arguments:\n",
    "    - `l1`: A float specifying the $L_{1}$ regularisation factor (default value: 0)\n",
    "    - `l2`: A float specifying the $L_{2}$ regularisation factor (default value: 0)\n",
    "    - `name`: A string, specifying the name of the model (default value: None)\n",
    "- Indside the function, you should:\n",
    "    - Construct a `Keras` model using the functional API, which has:\n",
    "        - An input layer with the same number of nodes as the number of features in `X`.\n",
    "        - **Two** densely connected hidden layer with **100 nodes** each, both equipped with **ReLU activation**.\n",
    "        - Both hidden layers should be subject to kernel regularisation (_i.e._ weight regularisation) with the regularisation factors specified as an input.\n",
    "        - A densely connected output layer with **3 nodes** (the number of types of weather we're classifying) equipped with **softmax activation**.\n",
    "        - A name given by the corresponding argument.\n",
    "    - Compile the model in the same way as in **Exercise 14.**\n",
    "- The function should return the compiled `Keras` model. \n",
    "\n",
    "The method will provide a convenient way of constructing and compiling a number of \"big\"/deep `Keras` models which differ only by their regularisation and name."
   ]
  },
  {
   "cell_type": "code",
   "execution_count": 34,
   "metadata": {
    "scrolled": true
   },
   "outputs": [],
   "source": [
    "def big_model_fn (l1=0, l2=0, name=None):\n",
    "    reg = l1_l2(l1=l1, l2=l2)\n",
    "\n",
    "    i = Input(shape=(23,))\n",
    "    x = Dense(30, activation='relu', kernel_regularizer=reg)(i)\n",
    "    x = Dense(30, activation='relu', kernel_regularizer=reg)(x)\n",
    "    o = Dense(  3, activation='softmax')(x)\n",
    "    m = Model(i, o, name=name)\n",
    "\n",
    "    m.compile('adam', loss='sparse_categorical_crossentropy', metrics=['accuracy'])\n",
    "    return m"
   ]
  },
  {
   "cell_type": "markdown",
   "metadata": {},
   "source": [
    "#### 15. Train \"big\" models with and without regularisation (1 mark)\n",
    "\n",
    "- Construct three \"big\" model using the factory method:\n",
    "     - One with default parameters\n",
    "     - One with `l1=0.0003` and  `name='Big model (L1-regularised)'`\n",
    "     - One with `l2=0.003`  and `name='Big model (L2-regularised)'`\n",
    "- Train each one as in **Exercise 15.**\n",
    "- Compare first the loss history of the un-regularised \"big\" model to that of the small model from **Exercise 15** using the `plot.loss()` method.\n",
    "- Then, compare the loss histories of all three \"big\" models with that of the small model.\n",
    "- Plot the loss and val loss of all 4 models and discuss the results. Target these points:\n",
    "    - Compare the performance of deep vs shallow models on the testing sets\n",
    "    - Compare the level of ovetraining (training vs testing loss)\n",
    "    - Note: Don't be alarmed if the shallow network performs slightly better that the deeper ones, this is dataset dependant."
   ]
  },
  {
   "cell_type": "code",
   "execution_count": 35,
   "metadata": {},
   "outputs": [],
   "source": [
    "bigmodel    = big_model_fn()\n",
    "bigmodel_L1 = big_model_fn(l1=0.0003, name='model_L1')\n",
    "bigmodel_L2 = big_model_fn(l2=0.003,  name='model_L2')"
   ]
  },
  {
   "cell_type": "markdown",
   "metadata": {},
   "source": []
  },
  {
   "cell_type": "code",
   "execution_count": 36,
   "metadata": {},
   "outputs": [
    {
     "name": "stdout",
     "output_type": "stream",
     "text": [
      "Epoch 1/100\n",
      "184/184 [==============================] - 1s 1ms/step - loss: 0.9231 - accuracy: 0.5434 - val_loss: 0.7135 - val_accuracy: 0.6660\n",
      "Epoch 2/100\n",
      "184/184 [==============================] - 0s 704us/step - loss: 0.7227 - accuracy: 0.6628 - val_loss: 0.6826 - val_accuracy: 0.6878\n",
      "Epoch 3/100\n",
      "184/184 [==============================] - 0s 679us/step - loss: 0.6799 - accuracy: 0.6943 - val_loss: 0.6738 - val_accuracy: 0.6925\n",
      "Epoch 4/100\n",
      "184/184 [==============================] - 0s 691us/step - loss: 0.6636 - accuracy: 0.6976 - val_loss: 0.6723 - val_accuracy: 0.6912\n",
      "Epoch 5/100\n",
      "184/184 [==============================] - 0s 714us/step - loss: 0.6678 - accuracy: 0.6967 - val_loss: 0.6641 - val_accuracy: 0.7014\n",
      "Epoch 6/100\n",
      "184/184 [==============================] - 0s 753us/step - loss: 0.6532 - accuracy: 0.7024 - val_loss: 0.6592 - val_accuracy: 0.7075\n",
      "Epoch 7/100\n",
      "184/184 [==============================] - 0s 696us/step - loss: 0.6389 - accuracy: 0.7147 - val_loss: 0.6562 - val_accuracy: 0.7054\n",
      "Epoch 8/100\n",
      "184/184 [==============================] - 0s 702us/step - loss: 0.6425 - accuracy: 0.7137 - val_loss: 0.6599 - val_accuracy: 0.7048\n",
      "Epoch 9/100\n",
      "184/184 [==============================] - 0s 714us/step - loss: 0.6443 - accuracy: 0.7090 - val_loss: 0.6566 - val_accuracy: 0.7020\n",
      "Epoch 10/100\n",
      "184/184 [==============================] - 0s 711us/step - loss: 0.6323 - accuracy: 0.7118 - val_loss: 0.6554 - val_accuracy: 0.7007\n",
      "Epoch 11/100\n",
      "184/184 [==============================] - 0s 706us/step - loss: 0.6490 - accuracy: 0.7098 - val_loss: 0.6638 - val_accuracy: 0.6986\n",
      "Epoch 12/100\n",
      "184/184 [==============================] - 0s 741us/step - loss: 0.6301 - accuracy: 0.7223 - val_loss: 0.6587 - val_accuracy: 0.6993\n",
      "Epoch 13/100\n",
      "184/184 [==============================] - 0s 711us/step - loss: 0.6189 - accuracy: 0.7273 - val_loss: 0.6567 - val_accuracy: 0.7014\n",
      "Epoch 14/100\n",
      "184/184 [==============================] - 0s 699us/step - loss: 0.6202 - accuracy: 0.7229 - val_loss: 0.6563 - val_accuracy: 0.6986\n",
      "Epoch 15/100\n",
      "184/184 [==============================] - 0s 673us/step - loss: 0.6136 - accuracy: 0.7320 - val_loss: 0.6631 - val_accuracy: 0.7014\n",
      "Epoch 16/100\n",
      "184/184 [==============================] - 0s 700us/step - loss: 0.6283 - accuracy: 0.7194 - val_loss: 0.6612 - val_accuracy: 0.7034\n",
      "Epoch 17/100\n",
      "184/184 [==============================] - 0s 713us/step - loss: 0.6274 - accuracy: 0.7246 - val_loss: 0.6615 - val_accuracy: 0.6932\n",
      "Epoch 18/100\n",
      "184/184 [==============================] - 0s 782us/step - loss: 0.6150 - accuracy: 0.7287 - val_loss: 0.6707 - val_accuracy: 0.6966\n",
      "Epoch 19/100\n",
      "184/184 [==============================] - 0s 726us/step - loss: 0.6023 - accuracy: 0.7292 - val_loss: 0.6630 - val_accuracy: 0.6952\n",
      "Epoch 20/100\n",
      "184/184 [==============================] - 0s 680us/step - loss: 0.6070 - accuracy: 0.7283 - val_loss: 0.6635 - val_accuracy: 0.6993\n",
      "Epoch 21/100\n",
      "184/184 [==============================] - 0s 672us/step - loss: 0.6059 - accuracy: 0.7310 - val_loss: 0.6610 - val_accuracy: 0.6993\n",
      "Epoch 22/100\n",
      "184/184 [==============================] - 0s 733us/step - loss: 0.5948 - accuracy: 0.7370 - val_loss: 0.6717 - val_accuracy: 0.7007\n",
      "Epoch 23/100\n",
      "184/184 [==============================] - 0s 721us/step - loss: 0.6008 - accuracy: 0.7343 - val_loss: 0.6625 - val_accuracy: 0.7027\n",
      "Epoch 24/100\n",
      "184/184 [==============================] - 0s 719us/step - loss: 0.5891 - accuracy: 0.7368 - val_loss: 0.6668 - val_accuracy: 0.6980\n",
      "Epoch 25/100\n",
      "184/184 [==============================] - 0s 702us/step - loss: 0.5982 - accuracy: 0.7315 - val_loss: 0.6685 - val_accuracy: 0.6993\n",
      "Epoch 26/100\n",
      "184/184 [==============================] - 0s 713us/step - loss: 0.5938 - accuracy: 0.7305 - val_loss: 0.6636 - val_accuracy: 0.7034\n",
      "Epoch 27/100\n",
      "184/184 [==============================] - 0s 679us/step - loss: 0.5860 - accuracy: 0.7399 - val_loss: 0.6633 - val_accuracy: 0.7075\n",
      "Epoch 28/100\n",
      "184/184 [==============================] - 0s 694us/step - loss: 0.5933 - accuracy: 0.7391 - val_loss: 0.6683 - val_accuracy: 0.7000\n",
      "Epoch 29/100\n",
      "184/184 [==============================] - 0s 727us/step - loss: 0.5819 - accuracy: 0.7464 - val_loss: 0.6683 - val_accuracy: 0.6993\n",
      "Epoch 30/100\n",
      "184/184 [==============================] - 0s 715us/step - loss: 0.5929 - accuracy: 0.7400 - val_loss: 0.6780 - val_accuracy: 0.6918\n",
      "Epoch 31/100\n",
      "184/184 [==============================] - 0s 723us/step - loss: 0.5866 - accuracy: 0.7437 - val_loss: 0.6698 - val_accuracy: 0.6959\n",
      "Epoch 32/100\n",
      "184/184 [==============================] - 0s 716us/step - loss: 0.5946 - accuracy: 0.7354 - val_loss: 0.6722 - val_accuracy: 0.6946\n",
      "Epoch 33/100\n",
      "184/184 [==============================] - 0s 737us/step - loss: 0.5769 - accuracy: 0.7437 - val_loss: 0.6690 - val_accuracy: 0.7020\n",
      "Epoch 34/100\n",
      "184/184 [==============================] - 0s 679us/step - loss: 0.5762 - accuracy: 0.7471 - val_loss: 0.6695 - val_accuracy: 0.7041\n",
      "Epoch 35/100\n",
      "184/184 [==============================] - 0s 669us/step - loss: 0.5756 - accuracy: 0.7465 - val_loss: 0.6738 - val_accuracy: 0.6980\n",
      "Epoch 36/100\n",
      "184/184 [==============================] - 0s 744us/step - loss: 0.5818 - accuracy: 0.7343 - val_loss: 0.6699 - val_accuracy: 0.6918\n",
      "Epoch 37/100\n",
      "184/184 [==============================] - 0s 726us/step - loss: 0.5729 - accuracy: 0.7408 - val_loss: 0.6693 - val_accuracy: 0.7014\n",
      "Epoch 38/100\n",
      "184/184 [==============================] - 0s 706us/step - loss: 0.5687 - accuracy: 0.7490 - val_loss: 0.6741 - val_accuracy: 0.6912\n",
      "Epoch 39/100\n",
      "184/184 [==============================] - 0s 711us/step - loss: 0.5743 - accuracy: 0.7427 - val_loss: 0.6703 - val_accuracy: 0.6946\n",
      "Epoch 40/100\n",
      "184/184 [==============================] - 0s 709us/step - loss: 0.5640 - accuracy: 0.7502 - val_loss: 0.6744 - val_accuracy: 0.6966\n",
      "Epoch 41/100\n",
      "184/184 [==============================] - 0s 693us/step - loss: 0.5724 - accuracy: 0.7395 - val_loss: 0.6731 - val_accuracy: 0.6912\n",
      "Epoch 42/100\n",
      "184/184 [==============================] - 0s 714us/step - loss: 0.5740 - accuracy: 0.7513 - val_loss: 0.6767 - val_accuracy: 0.6905\n",
      "Epoch 43/100\n",
      "184/184 [==============================] - 0s 692us/step - loss: 0.5728 - accuracy: 0.7389 - val_loss: 0.6857 - val_accuracy: 0.6898\n",
      "Epoch 44/100\n",
      "184/184 [==============================] - 0s 756us/step - loss: 0.5459 - accuracy: 0.7642 - val_loss: 0.6764 - val_accuracy: 0.6884\n",
      "Epoch 45/100\n",
      "184/184 [==============================] - 0s 714us/step - loss: 0.5705 - accuracy: 0.7501 - val_loss: 0.6732 - val_accuracy: 0.6966\n",
      "Epoch 46/100\n",
      "184/184 [==============================] - 0s 710us/step - loss: 0.5533 - accuracy: 0.7572 - val_loss: 0.6777 - val_accuracy: 0.6912\n",
      "Epoch 47/100\n",
      "184/184 [==============================] - 0s 710us/step - loss: 0.5447 - accuracy: 0.7632 - val_loss: 0.6744 - val_accuracy: 0.6939\n",
      "Epoch 48/100\n",
      "184/184 [==============================] - 0s 699us/step - loss: 0.5565 - accuracy: 0.7525 - val_loss: 0.6787 - val_accuracy: 0.6925\n",
      "Epoch 49/100\n",
      "184/184 [==============================] - 0s 681us/step - loss: 0.5600 - accuracy: 0.7559 - val_loss: 0.6802 - val_accuracy: 0.6932\n",
      "Epoch 50/100\n",
      "184/184 [==============================] - 0s 712us/step - loss: 0.5467 - accuracy: 0.7605 - val_loss: 0.6827 - val_accuracy: 0.6891\n",
      "Epoch 51/100\n",
      "184/184 [==============================] - 0s 689us/step - loss: 0.5387 - accuracy: 0.7672 - val_loss: 0.6829 - val_accuracy: 0.6918\n",
      "Epoch 52/100\n",
      "184/184 [==============================] - 0s 691us/step - loss: 0.5485 - accuracy: 0.7547 - val_loss: 0.6947 - val_accuracy: 0.6837\n",
      "Epoch 53/100\n",
      "184/184 [==============================] - 0s 716us/step - loss: 0.5485 - accuracy: 0.7602 - val_loss: 0.6887 - val_accuracy: 0.6864\n",
      "Epoch 54/100\n",
      "184/184 [==============================] - 0s 710us/step - loss: 0.5420 - accuracy: 0.7585 - val_loss: 0.6894 - val_accuracy: 0.6823\n",
      "Epoch 55/100\n",
      "184/184 [==============================] - 0s 705us/step - loss: 0.5281 - accuracy: 0.7639 - val_loss: 0.7009 - val_accuracy: 0.6844\n",
      "Epoch 56/100\n",
      "184/184 [==============================] - 0s 702us/step - loss: 0.5393 - accuracy: 0.7670 - val_loss: 0.6902 - val_accuracy: 0.6898\n",
      "Epoch 57/100\n",
      "184/184 [==============================] - 0s 698us/step - loss: 0.5329 - accuracy: 0.7681 - val_loss: 0.6978 - val_accuracy: 0.6871\n",
      "Epoch 58/100\n",
      "184/184 [==============================] - 0s 699us/step - loss: 0.5286 - accuracy: 0.7664 - val_loss: 0.6932 - val_accuracy: 0.6810\n",
      "Epoch 59/100\n",
      "184/184 [==============================] - 0s 670us/step - loss: 0.5258 - accuracy: 0.7747 - val_loss: 0.6897 - val_accuracy: 0.6884\n",
      "Epoch 60/100\n",
      "184/184 [==============================] - 0s 636us/step - loss: 0.5203 - accuracy: 0.7677 - val_loss: 0.6951 - val_accuracy: 0.6864\n",
      "Epoch 61/100\n",
      "184/184 [==============================] - 0s 715us/step - loss: 0.5298 - accuracy: 0.7758 - val_loss: 0.6889 - val_accuracy: 0.6823\n",
      "Epoch 62/100\n",
      "184/184 [==============================] - 0s 756us/step - loss: 0.5260 - accuracy: 0.7711 - val_loss: 0.7029 - val_accuracy: 0.6803\n",
      "Epoch 63/100\n",
      "184/184 [==============================] - 0s 708us/step - loss: 0.5278 - accuracy: 0.7698 - val_loss: 0.6994 - val_accuracy: 0.6714\n",
      "Epoch 64/100\n",
      "184/184 [==============================] - 0s 696us/step - loss: 0.5342 - accuracy: 0.7610 - val_loss: 0.6949 - val_accuracy: 0.6776\n",
      "Epoch 65/100\n",
      "184/184 [==============================] - 0s 708us/step - loss: 0.5311 - accuracy: 0.7682 - val_loss: 0.6991 - val_accuracy: 0.6830\n",
      "Epoch 66/100\n",
      "184/184 [==============================] - 0s 728us/step - loss: 0.5300 - accuracy: 0.7725 - val_loss: 0.7062 - val_accuracy: 0.6782\n",
      "Epoch 67/100\n",
      "184/184 [==============================] - 0s 709us/step - loss: 0.5107 - accuracy: 0.7804 - val_loss: 0.6983 - val_accuracy: 0.6837\n",
      "Epoch 68/100\n",
      "184/184 [==============================] - 0s 718us/step - loss: 0.5364 - accuracy: 0.7595 - val_loss: 0.7056 - val_accuracy: 0.6748\n",
      "Epoch 69/100\n",
      "184/184 [==============================] - 0s 705us/step - loss: 0.4950 - accuracy: 0.7891 - val_loss: 0.6975 - val_accuracy: 0.6823\n",
      "Epoch 70/100\n",
      "184/184 [==============================] - 0s 732us/step - loss: 0.5132 - accuracy: 0.7769 - val_loss: 0.7037 - val_accuracy: 0.6755\n",
      "Epoch 71/100\n",
      "184/184 [==============================] - 0s 709us/step - loss: 0.5231 - accuracy: 0.7663 - val_loss: 0.7022 - val_accuracy: 0.6844\n",
      "Epoch 72/100\n",
      "184/184 [==============================] - 0s 685us/step - loss: 0.5210 - accuracy: 0.7732 - val_loss: 0.7043 - val_accuracy: 0.6810\n",
      "Epoch 73/100\n",
      "184/184 [==============================] - 0s 743us/step - loss: 0.5168 - accuracy: 0.7731 - val_loss: 0.7094 - val_accuracy: 0.6810\n",
      "Epoch 74/100\n",
      "184/184 [==============================] - 0s 738us/step - loss: 0.5156 - accuracy: 0.7733 - val_loss: 0.7082 - val_accuracy: 0.6755\n",
      "Epoch 75/100\n",
      "184/184 [==============================] - 0s 720us/step - loss: 0.4986 - accuracy: 0.7809 - val_loss: 0.7130 - val_accuracy: 0.6810\n",
      "Epoch 76/100\n",
      "184/184 [==============================] - 0s 685us/step - loss: 0.5106 - accuracy: 0.7759 - val_loss: 0.7113 - val_accuracy: 0.6782\n",
      "Epoch 77/100\n",
      "184/184 [==============================] - 0s 686us/step - loss: 0.5138 - accuracy: 0.7664 - val_loss: 0.7131 - val_accuracy: 0.6837\n",
      "Epoch 78/100\n",
      "184/184 [==============================] - 0s 727us/step - loss: 0.4862 - accuracy: 0.7914 - val_loss: 0.7165 - val_accuracy: 0.6741\n",
      "Epoch 79/100\n",
      "184/184 [==============================] - 0s 725us/step - loss: 0.5144 - accuracy: 0.7714 - val_loss: 0.7198 - val_accuracy: 0.6878\n",
      "Epoch 80/100\n",
      "184/184 [==============================] - 0s 725us/step - loss: 0.5128 - accuracy: 0.7765 - val_loss: 0.7216 - val_accuracy: 0.6701\n",
      "Epoch 81/100\n",
      "184/184 [==============================] - 0s 697us/step - loss: 0.4992 - accuracy: 0.7805 - val_loss: 0.7151 - val_accuracy: 0.6748\n",
      "Epoch 82/100\n",
      "184/184 [==============================] - 0s 728us/step - loss: 0.5107 - accuracy: 0.7693 - val_loss: 0.7304 - val_accuracy: 0.6735\n",
      "Epoch 83/100\n",
      "184/184 [==============================] - 0s 739us/step - loss: 0.5092 - accuracy: 0.7718 - val_loss: 0.7180 - val_accuracy: 0.6796\n",
      "Epoch 84/100\n",
      "184/184 [==============================] - 0s 691us/step - loss: 0.4918 - accuracy: 0.7805 - val_loss: 0.7436 - val_accuracy: 0.6633\n",
      "Epoch 85/100\n",
      "184/184 [==============================] - 0s 679us/step - loss: 0.5066 - accuracy: 0.7786 - val_loss: 0.7210 - val_accuracy: 0.6755\n",
      "Epoch 86/100\n",
      "184/184 [==============================] - 0s 714us/step - loss: 0.4960 - accuracy: 0.7820 - val_loss: 0.7230 - val_accuracy: 0.6850\n",
      "Epoch 87/100\n",
      "184/184 [==============================] - 0s 726us/step - loss: 0.4981 - accuracy: 0.7877 - val_loss: 0.7255 - val_accuracy: 0.6741\n",
      "Epoch 88/100\n",
      "184/184 [==============================] - 0s 699us/step - loss: 0.5092 - accuracy: 0.7759 - val_loss: 0.7231 - val_accuracy: 0.6789\n",
      "Epoch 89/100\n",
      "184/184 [==============================] - 0s 716us/step - loss: 0.4906 - accuracy: 0.7867 - val_loss: 0.7277 - val_accuracy: 0.6714\n",
      "Epoch 90/100\n",
      "184/184 [==============================] - 0s 721us/step - loss: 0.4898 - accuracy: 0.7914 - val_loss: 0.7358 - val_accuracy: 0.6769\n",
      "Epoch 91/100\n",
      "184/184 [==============================] - 0s 714us/step - loss: 0.4937 - accuracy: 0.7896 - val_loss: 0.7316 - val_accuracy: 0.6707\n",
      "Epoch 92/100\n",
      "184/184 [==============================] - 0s 731us/step - loss: 0.4876 - accuracy: 0.7877 - val_loss: 0.7382 - val_accuracy: 0.6687\n",
      "Epoch 93/100\n",
      "184/184 [==============================] - 0s 722us/step - loss: 0.5034 - accuracy: 0.7837 - val_loss: 0.7347 - val_accuracy: 0.6694\n",
      "Epoch 94/100\n",
      "184/184 [==============================] - 0s 730us/step - loss: 0.4859 - accuracy: 0.7868 - val_loss: 0.7352 - val_accuracy: 0.6680\n",
      "Epoch 95/100\n",
      "184/184 [==============================] - 0s 737us/step - loss: 0.5077 - accuracy: 0.7836 - val_loss: 0.7402 - val_accuracy: 0.6687\n",
      "Epoch 96/100\n",
      "184/184 [==============================] - 0s 693us/step - loss: 0.4930 - accuracy: 0.7911 - val_loss: 0.7338 - val_accuracy: 0.6701\n",
      "Epoch 97/100\n",
      "184/184 [==============================] - 0s 698us/step - loss: 0.4841 - accuracy: 0.7878 - val_loss: 0.7274 - val_accuracy: 0.6850\n",
      "Epoch 98/100\n",
      "184/184 [==============================] - 0s 692us/step - loss: 0.4883 - accuracy: 0.7852 - val_loss: 0.7500 - val_accuracy: 0.6612\n",
      "Epoch 99/100\n",
      "184/184 [==============================] - 0s 691us/step - loss: 0.4759 - accuracy: 0.7957 - val_loss: 0.7470 - val_accuracy: 0.6803\n",
      "Epoch 100/100\n",
      "184/184 [==============================] - 0s 715us/step - loss: 0.4985 - accuracy: 0.7826 - val_loss: 0.7416 - val_accuracy: 0.6769\n",
      "Epoch 1/100\n",
      "184/184 [==============================] - 0s 1ms/step - loss: 0.9938 - accuracy: 0.5460 - val_loss: 0.7909 - val_accuracy: 0.6782\n",
      "Epoch 2/100\n",
      "184/184 [==============================] - 0s 693us/step - loss: 0.7962 - accuracy: 0.6589 - val_loss: 0.7501 - val_accuracy: 0.7020\n",
      "Epoch 3/100\n",
      "184/184 [==============================] - 0s 664us/step - loss: 0.7437 - accuracy: 0.6860 - val_loss: 0.7430 - val_accuracy: 0.6884\n",
      "Epoch 4/100\n",
      "184/184 [==============================] - 0s 709us/step - loss: 0.7259 - accuracy: 0.7009 - val_loss: 0.7426 - val_accuracy: 0.6952\n",
      "Epoch 5/100\n",
      "184/184 [==============================] - 0s 744us/step - loss: 0.7315 - accuracy: 0.6942 - val_loss: 0.7284 - val_accuracy: 0.6959\n",
      "Epoch 6/100\n",
      "184/184 [==============================] - 0s 791us/step - loss: 0.7183 - accuracy: 0.7036 - val_loss: 0.7237 - val_accuracy: 0.7054\n",
      "Epoch 7/100\n",
      "184/184 [==============================] - 0s 692us/step - loss: 0.7032 - accuracy: 0.7013 - val_loss: 0.7205 - val_accuracy: 0.7007\n",
      "Epoch 8/100\n",
      "184/184 [==============================] - 0s 731us/step - loss: 0.7059 - accuracy: 0.7069 - val_loss: 0.7207 - val_accuracy: 0.7027\n",
      "Epoch 9/100\n",
      "184/184 [==============================] - 0s 697us/step - loss: 0.7083 - accuracy: 0.7103 - val_loss: 0.7184 - val_accuracy: 0.6993\n",
      "Epoch 10/100\n",
      "184/184 [==============================] - 0s 746us/step - loss: 0.6986 - accuracy: 0.7011 - val_loss: 0.7156 - val_accuracy: 0.7048\n",
      "Epoch 11/100\n",
      "184/184 [==============================] - 0s 716us/step - loss: 0.7106 - accuracy: 0.7025 - val_loss: 0.7228 - val_accuracy: 0.6898\n",
      "Epoch 12/100\n",
      "184/184 [==============================] - 0s 679us/step - loss: 0.6952 - accuracy: 0.7090 - val_loss: 0.7145 - val_accuracy: 0.6993\n",
      "Epoch 13/100\n"
     ]
    },
    {
     "name": "stdout",
     "output_type": "stream",
     "text": [
      "184/184 [==============================] - 0s 703us/step - loss: 0.6861 - accuracy: 0.7158 - val_loss: 0.7128 - val_accuracy: 0.6993\n",
      "Epoch 14/100\n",
      "184/184 [==============================] - 0s 727us/step - loss: 0.6863 - accuracy: 0.7078 - val_loss: 0.7119 - val_accuracy: 0.7048\n",
      "Epoch 15/100\n",
      "184/184 [==============================] - 0s 670us/step - loss: 0.6812 - accuracy: 0.7170 - val_loss: 0.7160 - val_accuracy: 0.6952\n",
      "Epoch 16/100\n",
      "184/184 [==============================] - 0s 662us/step - loss: 0.6949 - accuracy: 0.7028 - val_loss: 0.7118 - val_accuracy: 0.7054\n",
      "Epoch 17/100\n",
      "184/184 [==============================] - 0s 704us/step - loss: 0.6962 - accuracy: 0.7080 - val_loss: 0.7102 - val_accuracy: 0.6973\n",
      "Epoch 18/100\n",
      "184/184 [==============================] - 0s 665us/step - loss: 0.6769 - accuracy: 0.7211 - val_loss: 0.7225 - val_accuracy: 0.6884\n",
      "Epoch 19/100\n",
      "184/184 [==============================] - 0s 692us/step - loss: 0.6687 - accuracy: 0.7232 - val_loss: 0.7098 - val_accuracy: 0.6952\n",
      "Epoch 20/100\n",
      "184/184 [==============================] - 0s 682us/step - loss: 0.6762 - accuracy: 0.7184 - val_loss: 0.7095 - val_accuracy: 0.7048\n",
      "Epoch 21/100\n",
      "184/184 [==============================] - 0s 723us/step - loss: 0.6718 - accuracy: 0.7182 - val_loss: 0.7079 - val_accuracy: 0.6980\n",
      "Epoch 22/100\n",
      "184/184 [==============================] - 0s 706us/step - loss: 0.6699 - accuracy: 0.7222 - val_loss: 0.7159 - val_accuracy: 0.6905\n",
      "Epoch 23/100\n",
      "184/184 [==============================] - 0s 691us/step - loss: 0.6679 - accuracy: 0.7246 - val_loss: 0.7030 - val_accuracy: 0.7197\n",
      "Epoch 24/100\n",
      "184/184 [==============================] - 0s 705us/step - loss: 0.6616 - accuracy: 0.7227 - val_loss: 0.7122 - val_accuracy: 0.6980\n",
      "Epoch 25/100\n",
      "184/184 [==============================] - 0s 739us/step - loss: 0.6663 - accuracy: 0.7322 - val_loss: 0.7069 - val_accuracy: 0.7122\n",
      "Epoch 26/100\n",
      "184/184 [==============================] - 0s 716us/step - loss: 0.6608 - accuracy: 0.7188 - val_loss: 0.7040 - val_accuracy: 0.7054\n",
      "Epoch 27/100\n",
      "184/184 [==============================] - 0s 695us/step - loss: 0.6527 - accuracy: 0.7324 - val_loss: 0.7017 - val_accuracy: 0.7116\n",
      "Epoch 28/100\n",
      "184/184 [==============================] - 0s 698us/step - loss: 0.6644 - accuracy: 0.7257 - val_loss: 0.7021 - val_accuracy: 0.7102\n",
      "Epoch 29/100\n",
      "184/184 [==============================] - 0s 678us/step - loss: 0.6623 - accuracy: 0.7244 - val_loss: 0.7098 - val_accuracy: 0.7095\n",
      "Epoch 30/100\n",
      "184/184 [==============================] - 0s 728us/step - loss: 0.6645 - accuracy: 0.7245 - val_loss: 0.7172 - val_accuracy: 0.7027\n",
      "Epoch 31/100\n",
      "184/184 [==============================] - 0s 669us/step - loss: 0.6652 - accuracy: 0.7275 - val_loss: 0.7044 - val_accuracy: 0.7068\n",
      "Epoch 32/100\n",
      "184/184 [==============================] - 0s 679us/step - loss: 0.6699 - accuracy: 0.7244 - val_loss: 0.7062 - val_accuracy: 0.7082\n",
      "Epoch 33/100\n",
      "184/184 [==============================] - 0s 687us/step - loss: 0.6545 - accuracy: 0.7321 - val_loss: 0.7061 - val_accuracy: 0.7095\n",
      "Epoch 34/100\n",
      "184/184 [==============================] - 0s 686us/step - loss: 0.6544 - accuracy: 0.7360 - val_loss: 0.7094 - val_accuracy: 0.7129\n",
      "Epoch 35/100\n",
      "184/184 [==============================] - 0s 669us/step - loss: 0.6498 - accuracy: 0.7334 - val_loss: 0.7077 - val_accuracy: 0.7095\n",
      "Epoch 36/100\n",
      "184/184 [==============================] - 0s 769us/step - loss: 0.6592 - accuracy: 0.7319 - val_loss: 0.7050 - val_accuracy: 0.7150\n",
      "Epoch 37/100\n",
      "184/184 [==============================] - 0s 697us/step - loss: 0.6564 - accuracy: 0.7313 - val_loss: 0.7017 - val_accuracy: 0.7136\n",
      "Epoch 38/100\n",
      "184/184 [==============================] - 0s 664us/step - loss: 0.6406 - accuracy: 0.7381 - val_loss: 0.7083 - val_accuracy: 0.7068\n",
      "Epoch 39/100\n",
      "184/184 [==============================] - 0s 685us/step - loss: 0.6548 - accuracy: 0.7315 - val_loss: 0.7054 - val_accuracy: 0.7116\n",
      "Epoch 40/100\n",
      "184/184 [==============================] - 0s 721us/step - loss: 0.6441 - accuracy: 0.7398 - val_loss: 0.7056 - val_accuracy: 0.7054\n",
      "Epoch 41/100\n",
      "184/184 [==============================] - 0s 728us/step - loss: 0.6535 - accuracy: 0.7250 - val_loss: 0.7082 - val_accuracy: 0.7150\n",
      "Epoch 42/100\n",
      "184/184 [==============================] - 0s 695us/step - loss: 0.6534 - accuracy: 0.7403 - val_loss: 0.7122 - val_accuracy: 0.7054\n",
      "Epoch 43/100\n",
      "184/184 [==============================] - 0s 696us/step - loss: 0.6588 - accuracy: 0.7245 - val_loss: 0.7144 - val_accuracy: 0.7034\n",
      "Epoch 44/100\n",
      "184/184 [==============================] - 0s 679us/step - loss: 0.6267 - accuracy: 0.7421 - val_loss: 0.7044 - val_accuracy: 0.7095\n",
      "Epoch 45/100\n",
      "184/184 [==============================] - 0s 689us/step - loss: 0.6514 - accuracy: 0.7295 - val_loss: 0.7017 - val_accuracy: 0.7129\n",
      "Epoch 46/100\n",
      "184/184 [==============================] - 0s 696us/step - loss: 0.6352 - accuracy: 0.7419 - val_loss: 0.7048 - val_accuracy: 0.7088\n",
      "Epoch 47/100\n",
      "184/184 [==============================] - 0s 698us/step - loss: 0.6348 - accuracy: 0.7452 - val_loss: 0.7037 - val_accuracy: 0.7088\n",
      "Epoch 48/100\n",
      "184/184 [==============================] - 0s 686us/step - loss: 0.6372 - accuracy: 0.7442 - val_loss: 0.7074 - val_accuracy: 0.7061\n",
      "Epoch 49/100\n",
      "184/184 [==============================] - 0s 699us/step - loss: 0.6477 - accuracy: 0.7398 - val_loss: 0.7094 - val_accuracy: 0.7075\n",
      "Epoch 50/100\n",
      "184/184 [==============================] - 0s 691us/step - loss: 0.6287 - accuracy: 0.7460 - val_loss: 0.7048 - val_accuracy: 0.7150\n",
      "Epoch 51/100\n",
      "184/184 [==============================] - 0s 791us/step - loss: 0.6283 - accuracy: 0.7532 - val_loss: 0.7127 - val_accuracy: 0.7041\n",
      "Epoch 52/100\n",
      "184/184 [==============================] - 0s 707us/step - loss: 0.6383 - accuracy: 0.7344 - val_loss: 0.7109 - val_accuracy: 0.7068\n",
      "Epoch 53/100\n",
      "184/184 [==============================] - 0s 718us/step - loss: 0.6312 - accuracy: 0.7399 - val_loss: 0.7115 - val_accuracy: 0.7129\n",
      "Epoch 54/100\n",
      "184/184 [==============================] - 0s 674us/step - loss: 0.6257 - accuracy: 0.7451 - val_loss: 0.7202 - val_accuracy: 0.7061\n",
      "Epoch 55/100\n",
      "184/184 [==============================] - 0s 674us/step - loss: 0.6151 - accuracy: 0.7533 - val_loss: 0.7291 - val_accuracy: 0.6980\n",
      "Epoch 56/100\n",
      "184/184 [==============================] - 0s 703us/step - loss: 0.6289 - accuracy: 0.7531 - val_loss: 0.7187 - val_accuracy: 0.7048\n",
      "Epoch 57/100\n",
      "184/184 [==============================] - 0s 717us/step - loss: 0.6276 - accuracy: 0.7489 - val_loss: 0.7224 - val_accuracy: 0.7027\n",
      "Epoch 58/100\n",
      "184/184 [==============================] - 0s 723us/step - loss: 0.6259 - accuracy: 0.7455 - val_loss: 0.7120 - val_accuracy: 0.7109\n",
      "Epoch 59/100\n",
      "184/184 [==============================] - 0s 672us/step - loss: 0.6176 - accuracy: 0.7530 - val_loss: 0.7122 - val_accuracy: 0.7082\n",
      "Epoch 60/100\n",
      "184/184 [==============================] - 0s 768us/step - loss: 0.6087 - accuracy: 0.7560 - val_loss: 0.7194 - val_accuracy: 0.7048\n",
      "Epoch 61/100\n",
      "184/184 [==============================] - 0s 696us/step - loss: 0.6203 - accuracy: 0.7580 - val_loss: 0.7114 - val_accuracy: 0.7102\n",
      "Epoch 62/100\n",
      "184/184 [==============================] - 0s 742us/step - loss: 0.6143 - accuracy: 0.7580 - val_loss: 0.7229 - val_accuracy: 0.7000\n",
      "Epoch 63/100\n",
      "184/184 [==============================] - 0s 693us/step - loss: 0.6198 - accuracy: 0.7481 - val_loss: 0.7197 - val_accuracy: 0.7048\n",
      "Epoch 64/100\n",
      "184/184 [==============================] - 0s 677us/step - loss: 0.6203 - accuracy: 0.7515 - val_loss: 0.7193 - val_accuracy: 0.7041\n",
      "Epoch 65/100\n",
      "184/184 [==============================] - 0s 698us/step - loss: 0.6245 - accuracy: 0.7521 - val_loss: 0.7191 - val_accuracy: 0.7116\n",
      "Epoch 66/100\n",
      "184/184 [==============================] - 0s 697us/step - loss: 0.6235 - accuracy: 0.7442 - val_loss: 0.7289 - val_accuracy: 0.6959\n",
      "Epoch 67/100\n",
      "184/184 [==============================] - 0s 668us/step - loss: 0.6111 - accuracy: 0.7568 - val_loss: 0.7183 - val_accuracy: 0.7095\n",
      "Epoch 68/100\n",
      "184/184 [==============================] - 0s 680us/step - loss: 0.6331 - accuracy: 0.7465 - val_loss: 0.7210 - val_accuracy: 0.7014\n",
      "Epoch 69/100\n",
      "184/184 [==============================] - 0s 714us/step - loss: 0.5905 - accuracy: 0.7709 - val_loss: 0.7208 - val_accuracy: 0.7116\n",
      "Epoch 70/100\n",
      "184/184 [==============================] - 0s 720us/step - loss: 0.6081 - accuracy: 0.7590 - val_loss: 0.7219 - val_accuracy: 0.7048\n",
      "Epoch 71/100\n",
      "184/184 [==============================] - 0s 761us/step - loss: 0.6191 - accuracy: 0.7449 - val_loss: 0.7208 - val_accuracy: 0.7116\n",
      "Epoch 72/100\n",
      "184/184 [==============================] - 0s 775us/step - loss: 0.6188 - accuracy: 0.7537 - val_loss: 0.7214 - val_accuracy: 0.7082\n",
      "Epoch 73/100\n",
      "184/184 [==============================] - 0s 700us/step - loss: 0.6145 - accuracy: 0.7584 - val_loss: 0.7220 - val_accuracy: 0.7007\n",
      "Epoch 74/100\n",
      "184/184 [==============================] - 0s 692us/step - loss: 0.6064 - accuracy: 0.7682 - val_loss: 0.7243 - val_accuracy: 0.7048\n",
      "Epoch 75/100\n",
      "184/184 [==============================] - 0s 702us/step - loss: 0.5906 - accuracy: 0.7706 - val_loss: 0.7237 - val_accuracy: 0.7082\n",
      "Epoch 76/100\n",
      "184/184 [==============================] - 0s 680us/step - loss: 0.6114 - accuracy: 0.7619 - val_loss: 0.7235 - val_accuracy: 0.7027\n",
      "Epoch 77/100\n",
      "184/184 [==============================] - 0s 676us/step - loss: 0.6158 - accuracy: 0.7559 - val_loss: 0.7335 - val_accuracy: 0.6973\n",
      "Epoch 78/100\n",
      "184/184 [==============================] - 0s 686us/step - loss: 0.5893 - accuracy: 0.7727 - val_loss: 0.7297 - val_accuracy: 0.6993\n",
      "Epoch 79/100\n",
      "184/184 [==============================] - 0s 680us/step - loss: 0.6044 - accuracy: 0.7589 - val_loss: 0.7289 - val_accuracy: 0.7027\n",
      "Epoch 80/100\n",
      "184/184 [==============================] - 0s 688us/step - loss: 0.6079 - accuracy: 0.7609 - val_loss: 0.7266 - val_accuracy: 0.6946\n",
      "Epoch 81/100\n",
      "184/184 [==============================] - 0s 700us/step - loss: 0.5912 - accuracy: 0.7682 - val_loss: 0.7262 - val_accuracy: 0.7020\n",
      "Epoch 82/100\n",
      "184/184 [==============================] - 0s 748us/step - loss: 0.6036 - accuracy: 0.7594 - val_loss: 0.7349 - val_accuracy: 0.7020\n",
      "Epoch 83/100\n",
      "184/184 [==============================] - 0s 694us/step - loss: 0.6029 - accuracy: 0.7616 - val_loss: 0.7355 - val_accuracy: 0.6946\n",
      "Epoch 84/100\n",
      "184/184 [==============================] - 0s 690us/step - loss: 0.5926 - accuracy: 0.7693 - val_loss: 0.7346 - val_accuracy: 0.7014\n",
      "Epoch 85/100\n",
      "184/184 [==============================] - 0s 693us/step - loss: 0.5995 - accuracy: 0.7607 - val_loss: 0.7263 - val_accuracy: 0.7000\n",
      "Epoch 86/100\n",
      "184/184 [==============================] - 0s 715us/step - loss: 0.5962 - accuracy: 0.7694 - val_loss: 0.7348 - val_accuracy: 0.7007\n",
      "Epoch 87/100\n",
      "184/184 [==============================] - 0s 674us/step - loss: 0.5947 - accuracy: 0.7679 - val_loss: 0.7382 - val_accuracy: 0.6986\n",
      "Epoch 88/100\n",
      "184/184 [==============================] - 0s 662us/step - loss: 0.6026 - accuracy: 0.7614 - val_loss: 0.7284 - val_accuracy: 0.7068\n",
      "Epoch 89/100\n",
      "184/184 [==============================] - 0s 667us/step - loss: 0.5982 - accuracy: 0.7700 - val_loss: 0.7325 - val_accuracy: 0.7054\n",
      "Epoch 90/100\n",
      "184/184 [==============================] - 0s 698us/step - loss: 0.5910 - accuracy: 0.7716 - val_loss: 0.7441 - val_accuracy: 0.6952\n",
      "Epoch 91/100\n",
      "184/184 [==============================] - 0s 758us/step - loss: 0.5962 - accuracy: 0.7652 - val_loss: 0.7360 - val_accuracy: 0.6952\n",
      "Epoch 92/100\n",
      "184/184 [==============================] - 0s 664us/step - loss: 0.5846 - accuracy: 0.7681 - val_loss: 0.7362 - val_accuracy: 0.7041\n",
      "Epoch 93/100\n",
      "184/184 [==============================] - 0s 674us/step - loss: 0.5968 - accuracy: 0.7611 - val_loss: 0.7341 - val_accuracy: 0.7048\n",
      "Epoch 94/100\n",
      "184/184 [==============================] - 0s 707us/step - loss: 0.5923 - accuracy: 0.7670 - val_loss: 0.7360 - val_accuracy: 0.7054\n",
      "Epoch 95/100\n",
      "184/184 [==============================] - 0s 703us/step - loss: 0.6064 - accuracy: 0.7597 - val_loss: 0.7406 - val_accuracy: 0.6980\n",
      "Epoch 96/100\n",
      "184/184 [==============================] - 0s 688us/step - loss: 0.6045 - accuracy: 0.7606 - val_loss: 0.7341 - val_accuracy: 0.7048\n",
      "Epoch 97/100\n",
      "184/184 [==============================] - 0s 751us/step - loss: 0.5783 - accuracy: 0.7716 - val_loss: 0.7333 - val_accuracy: 0.7088\n",
      "Epoch 98/100\n",
      "184/184 [==============================] - 0s 710us/step - loss: 0.5826 - accuracy: 0.7742 - val_loss: 0.7517 - val_accuracy: 0.6980\n",
      "Epoch 99/100\n",
      "184/184 [==============================] - 0s 672us/step - loss: 0.5814 - accuracy: 0.7765 - val_loss: 0.7466 - val_accuracy: 0.6946\n",
      "Epoch 100/100\n",
      "184/184 [==============================] - 0s 673us/step - loss: 0.5962 - accuracy: 0.7684 - val_loss: 0.7419 - val_accuracy: 0.6932\n",
      "Epoch 1/100\n",
      "184/184 [==============================] - 0s 1ms/step - loss: 1.1289 - accuracy: 0.5080 - val_loss: 0.8517 - val_accuracy: 0.6687\n",
      "Epoch 2/100\n",
      "184/184 [==============================] - 0s 689us/step - loss: 0.8456 - accuracy: 0.6631 - val_loss: 0.7950 - val_accuracy: 0.6823\n",
      "Epoch 3/100\n",
      "184/184 [==============================] - 0s 681us/step - loss: 0.7841 - accuracy: 0.6830 - val_loss: 0.7723 - val_accuracy: 0.6694\n",
      "Epoch 4/100\n",
      "184/184 [==============================] - 0s 702us/step - loss: 0.7537 - accuracy: 0.6904 - val_loss: 0.7569 - val_accuracy: 0.6769\n",
      "Epoch 5/100\n",
      "184/184 [==============================] - 0s 715us/step - loss: 0.7501 - accuracy: 0.6887 - val_loss: 0.7377 - val_accuracy: 0.6918\n",
      "Epoch 6/100\n",
      "184/184 [==============================] - 0s 712us/step - loss: 0.7339 - accuracy: 0.6968 - val_loss: 0.7276 - val_accuracy: 0.6939\n",
      "Epoch 7/100\n",
      "184/184 [==============================] - 0s 735us/step - loss: 0.7143 - accuracy: 0.6964 - val_loss: 0.7210 - val_accuracy: 0.6986\n",
      "Epoch 8/100\n",
      "184/184 [==============================] - 0s 695us/step - loss: 0.7148 - accuracy: 0.6998 - val_loss: 0.7215 - val_accuracy: 0.6952\n",
      "Epoch 9/100\n",
      "184/184 [==============================] - 0s 690us/step - loss: 0.7154 - accuracy: 0.7009 - val_loss: 0.7150 - val_accuracy: 0.7000\n",
      "Epoch 10/100\n",
      "184/184 [==============================] - 0s 707us/step - loss: 0.7050 - accuracy: 0.6970 - val_loss: 0.7089 - val_accuracy: 0.7027\n",
      "Epoch 11/100\n",
      "184/184 [==============================] - 0s 702us/step - loss: 0.7146 - accuracy: 0.6950 - val_loss: 0.7161 - val_accuracy: 0.6884\n",
      "Epoch 12/100\n",
      "184/184 [==============================] - 0s 703us/step - loss: 0.7006 - accuracy: 0.7069 - val_loss: 0.7053 - val_accuracy: 0.6966\n",
      "Epoch 13/100\n",
      "184/184 [==============================] - 0s 689us/step - loss: 0.6906 - accuracy: 0.7075 - val_loss: 0.7022 - val_accuracy: 0.7007\n",
      "Epoch 14/100\n",
      "184/184 [==============================] - 0s 683us/step - loss: 0.6902 - accuracy: 0.7055 - val_loss: 0.7004 - val_accuracy: 0.7041\n",
      "Epoch 15/100\n",
      "184/184 [==============================] - 0s 733us/step - loss: 0.6870 - accuracy: 0.7107 - val_loss: 0.7030 - val_accuracy: 0.6966\n",
      "Epoch 16/100\n",
      "184/184 [==============================] - 0s 706us/step - loss: 0.6999 - accuracy: 0.6927 - val_loss: 0.6987 - val_accuracy: 0.7054\n",
      "Epoch 17/100\n",
      "184/184 [==============================] - 0s 716us/step - loss: 0.6986 - accuracy: 0.7009 - val_loss: 0.6970 - val_accuracy: 0.6932\n",
      "Epoch 18/100\n",
      "184/184 [==============================] - 0s 690us/step - loss: 0.6855 - accuracy: 0.7036 - val_loss: 0.7056 - val_accuracy: 0.6966\n",
      "Epoch 19/100\n",
      "184/184 [==============================] - 0s 691us/step - loss: 0.6727 - accuracy: 0.7139 - val_loss: 0.6945 - val_accuracy: 0.7041\n",
      "Epoch 20/100\n",
      "184/184 [==============================] - 0s 689us/step - loss: 0.6812 - accuracy: 0.7088 - val_loss: 0.6923 - val_accuracy: 0.7068\n",
      "Epoch 21/100\n",
      "184/184 [==============================] - 0s 723us/step - loss: 0.6767 - accuracy: 0.7148 - val_loss: 0.6928 - val_accuracy: 0.7014\n",
      "Epoch 22/100\n",
      "184/184 [==============================] - 0s 704us/step - loss: 0.6778 - accuracy: 0.7146 - val_loss: 0.7018 - val_accuracy: 0.6857\n",
      "Epoch 23/100\n",
      "184/184 [==============================] - 0s 721us/step - loss: 0.6747 - accuracy: 0.7110 - val_loss: 0.6902 - val_accuracy: 0.7082\n",
      "Epoch 24/100\n",
      "184/184 [==============================] - 0s 679us/step - loss: 0.6694 - accuracy: 0.7088 - val_loss: 0.6954 - val_accuracy: 0.6925\n",
      "Epoch 25/100\n"
     ]
    },
    {
     "name": "stdout",
     "output_type": "stream",
     "text": [
      "184/184 [==============================] - 0s 787us/step - loss: 0.6761 - accuracy: 0.7137 - val_loss: 0.6919 - val_accuracy: 0.7048\n",
      "Epoch 26/100\n",
      "184/184 [==============================] - 0s 779us/step - loss: 0.6751 - accuracy: 0.7048 - val_loss: 0.6877 - val_accuracy: 0.7068\n",
      "Epoch 27/100\n",
      "184/184 [==============================] - 0s 725us/step - loss: 0.6638 - accuracy: 0.7196 - val_loss: 0.6873 - val_accuracy: 0.7068\n",
      "Epoch 28/100\n",
      "184/184 [==============================] - 0s 701us/step - loss: 0.6767 - accuracy: 0.7092 - val_loss: 0.6876 - val_accuracy: 0.6993\n",
      "Epoch 29/100\n",
      "184/184 [==============================] - 0s 713us/step - loss: 0.6758 - accuracy: 0.7069 - val_loss: 0.6913 - val_accuracy: 0.6980\n",
      "Epoch 30/100\n",
      "184/184 [==============================] - 0s 709us/step - loss: 0.6720 - accuracy: 0.7138 - val_loss: 0.6946 - val_accuracy: 0.6980\n",
      "Epoch 31/100\n",
      "184/184 [==============================] - 0s 674us/step - loss: 0.6776 - accuracy: 0.7145 - val_loss: 0.6884 - val_accuracy: 0.7000\n",
      "Epoch 32/100\n",
      "184/184 [==============================] - 0s 694us/step - loss: 0.6777 - accuracy: 0.7184 - val_loss: 0.6867 - val_accuracy: 0.7082\n",
      "Epoch 33/100\n",
      "184/184 [==============================] - 0s 714us/step - loss: 0.6689 - accuracy: 0.7146 - val_loss: 0.6871 - val_accuracy: 0.7102\n",
      "Epoch 34/100\n",
      "184/184 [==============================] - 0s 770us/step - loss: 0.6628 - accuracy: 0.7221 - val_loss: 0.6875 - val_accuracy: 0.6980\n",
      "Epoch 35/100\n",
      "184/184 [==============================] - 0s 682us/step - loss: 0.6623 - accuracy: 0.7175 - val_loss: 0.6865 - val_accuracy: 0.7061\n",
      "Epoch 36/100\n",
      "184/184 [==============================] - 0s 759us/step - loss: 0.6718 - accuracy: 0.7105 - val_loss: 0.6827 - val_accuracy: 0.7088\n",
      "Epoch 37/100\n",
      "184/184 [==============================] - 0s 722us/step - loss: 0.6666 - accuracy: 0.7112 - val_loss: 0.6791 - val_accuracy: 0.7054\n",
      "Epoch 38/100\n",
      "184/184 [==============================] - 0s 787us/step - loss: 0.6570 - accuracy: 0.7165 - val_loss: 0.6857 - val_accuracy: 0.7000\n",
      "Epoch 39/100\n",
      "184/184 [==============================] - 0s 689us/step - loss: 0.6726 - accuracy: 0.7179 - val_loss: 0.6830 - val_accuracy: 0.7061\n",
      "Epoch 40/100\n",
      "184/184 [==============================] - 0s 719us/step - loss: 0.6615 - accuracy: 0.7140 - val_loss: 0.6828 - val_accuracy: 0.7061\n",
      "Epoch 41/100\n",
      "184/184 [==============================] - 0s 736us/step - loss: 0.6716 - accuracy: 0.7071 - val_loss: 0.6840 - val_accuracy: 0.7109\n",
      "Epoch 42/100\n",
      "184/184 [==============================] - 0s 709us/step - loss: 0.6714 - accuracy: 0.7173 - val_loss: 0.6848 - val_accuracy: 0.7007\n",
      "Epoch 43/100\n",
      "184/184 [==============================] - 0s 705us/step - loss: 0.6748 - accuracy: 0.7093 - val_loss: 0.6865 - val_accuracy: 0.7068\n",
      "Epoch 44/100\n",
      "184/184 [==============================] - 0s 759us/step - loss: 0.6443 - accuracy: 0.7247 - val_loss: 0.6787 - val_accuracy: 0.7129\n",
      "Epoch 45/100\n",
      "184/184 [==============================] - 0s 703us/step - loss: 0.6731 - accuracy: 0.7144 - val_loss: 0.6766 - val_accuracy: 0.7163\n",
      "Epoch 46/100\n",
      "184/184 [==============================] - 0s 679us/step - loss: 0.6596 - accuracy: 0.7098 - val_loss: 0.6787 - val_accuracy: 0.7163\n",
      "Epoch 47/100\n",
      "184/184 [==============================] - 0s 774us/step - loss: 0.6548 - accuracy: 0.7246 - val_loss: 0.6779 - val_accuracy: 0.7102\n",
      "Epoch 48/100\n",
      "184/184 [==============================] - 0s 772us/step - loss: 0.6582 - accuracy: 0.7140 - val_loss: 0.6788 - val_accuracy: 0.7129\n",
      "Epoch 49/100\n",
      "184/184 [==============================] - 0s 710us/step - loss: 0.6692 - accuracy: 0.7130 - val_loss: 0.6803 - val_accuracy: 0.7102\n",
      "Epoch 50/100\n",
      "184/184 [==============================] - 0s 696us/step - loss: 0.6510 - accuracy: 0.7242 - val_loss: 0.6791 - val_accuracy: 0.7068\n",
      "Epoch 51/100\n",
      "184/184 [==============================] - 0s 693us/step - loss: 0.6490 - accuracy: 0.7287 - val_loss: 0.6844 - val_accuracy: 0.6993\n",
      "Epoch 52/100\n",
      "184/184 [==============================] - 0s 711us/step - loss: 0.6610 - accuracy: 0.7156 - val_loss: 0.6842 - val_accuracy: 0.7007\n",
      "Epoch 53/100\n",
      "184/184 [==============================] - 0s 724us/step - loss: 0.6594 - accuracy: 0.7248 - val_loss: 0.6811 - val_accuracy: 0.7075\n",
      "Epoch 54/100\n",
      "184/184 [==============================] - 0s 698us/step - loss: 0.6494 - accuracy: 0.7243 - val_loss: 0.6856 - val_accuracy: 0.7061\n",
      "Epoch 55/100\n",
      "184/184 [==============================] - 0s 715us/step - loss: 0.6415 - accuracy: 0.7268 - val_loss: 0.6984 - val_accuracy: 0.6993\n",
      "Epoch 56/100\n",
      "184/184 [==============================] - 0s 710us/step - loss: 0.6522 - accuracy: 0.7236 - val_loss: 0.6797 - val_accuracy: 0.7116\n",
      "Epoch 57/100\n",
      "184/184 [==============================] - 0s 763us/step - loss: 0.6560 - accuracy: 0.7207 - val_loss: 0.6885 - val_accuracy: 0.7088\n",
      "Epoch 58/100\n",
      "184/184 [==============================] - 0s 705us/step - loss: 0.6500 - accuracy: 0.7260 - val_loss: 0.6787 - val_accuracy: 0.7075\n",
      "Epoch 59/100\n",
      "184/184 [==============================] - 0s 687us/step - loss: 0.6478 - accuracy: 0.7285 - val_loss: 0.6779 - val_accuracy: 0.7102\n",
      "Epoch 60/100\n",
      "184/184 [==============================] - 0s 714us/step - loss: 0.6427 - accuracy: 0.7230 - val_loss: 0.6844 - val_accuracy: 0.7068\n",
      "Epoch 61/100\n",
      "184/184 [==============================] - 0s 718us/step - loss: 0.6456 - accuracy: 0.7291 - val_loss: 0.6779 - val_accuracy: 0.7068\n",
      "Epoch 62/100\n",
      "184/184 [==============================] - 0s 759us/step - loss: 0.6451 - accuracy: 0.7295 - val_loss: 0.6840 - val_accuracy: 0.7000\n",
      "Epoch 63/100\n",
      "184/184 [==============================] - 0s 721us/step - loss: 0.6513 - accuracy: 0.7221 - val_loss: 0.6832 - val_accuracy: 0.7041\n",
      "Epoch 64/100\n",
      "184/184 [==============================] - 0s 670us/step - loss: 0.6515 - accuracy: 0.7223 - val_loss: 0.6785 - val_accuracy: 0.7061\n",
      "Epoch 65/100\n",
      "184/184 [==============================] - 0s 734us/step - loss: 0.6574 - accuracy: 0.7247 - val_loss: 0.6816 - val_accuracy: 0.7129\n",
      "Epoch 66/100\n",
      "184/184 [==============================] - 0s 715us/step - loss: 0.6554 - accuracy: 0.7199 - val_loss: 0.6886 - val_accuracy: 0.7041\n",
      "Epoch 67/100\n",
      "184/184 [==============================] - 0s 727us/step - loss: 0.6455 - accuracy: 0.7231 - val_loss: 0.6796 - val_accuracy: 0.7061\n",
      "Epoch 68/100\n",
      "184/184 [==============================] - 0s 729us/step - loss: 0.6673 - accuracy: 0.7091 - val_loss: 0.6800 - val_accuracy: 0.7095\n",
      "Epoch 69/100\n",
      "184/184 [==============================] - 0s 690us/step - loss: 0.6209 - accuracy: 0.7425 - val_loss: 0.6776 - val_accuracy: 0.7088\n",
      "Epoch 70/100\n",
      "184/184 [==============================] - 0s 720us/step - loss: 0.6414 - accuracy: 0.7292 - val_loss: 0.6805 - val_accuracy: 0.7020\n",
      "Epoch 71/100\n",
      "184/184 [==============================] - 0s 687us/step - loss: 0.6546 - accuracy: 0.7197 - val_loss: 0.6817 - val_accuracy: 0.7041\n",
      "Epoch 72/100\n",
      "184/184 [==============================] - 0s 683us/step - loss: 0.6521 - accuracy: 0.7247 - val_loss: 0.6778 - val_accuracy: 0.7102\n",
      "Epoch 73/100\n",
      "184/184 [==============================] - 0s 696us/step - loss: 0.6503 - accuracy: 0.7195 - val_loss: 0.6756 - val_accuracy: 0.7109\n",
      "Epoch 74/100\n",
      "184/184 [==============================] - 0s 683us/step - loss: 0.6435 - accuracy: 0.7310 - val_loss: 0.6807 - val_accuracy: 0.7034\n",
      "Epoch 75/100\n",
      "184/184 [==============================] - 0s 692us/step - loss: 0.6318 - accuracy: 0.7416 - val_loss: 0.6776 - val_accuracy: 0.7075\n",
      "Epoch 76/100\n",
      "184/184 [==============================] - 0s 692us/step - loss: 0.6458 - accuracy: 0.7282 - val_loss: 0.6774 - val_accuracy: 0.7054\n",
      "Epoch 77/100\n",
      "184/184 [==============================] - 0s 744us/step - loss: 0.6513 - accuracy: 0.7144 - val_loss: 0.6834 - val_accuracy: 0.6993\n",
      "Epoch 78/100\n",
      "184/184 [==============================] - 0s 700us/step - loss: 0.6247 - accuracy: 0.7428 - val_loss: 0.6815 - val_accuracy: 0.7048\n",
      "Epoch 79/100\n",
      "184/184 [==============================] - 0s 700us/step - loss: 0.6470 - accuracy: 0.7344 - val_loss: 0.6799 - val_accuracy: 0.7170\n",
      "Epoch 80/100\n",
      "184/184 [==============================] - 0s 758us/step - loss: 0.6495 - accuracy: 0.7279 - val_loss: 0.6824 - val_accuracy: 0.7007\n",
      "Epoch 81/100\n",
      "184/184 [==============================] - 0s 687us/step - loss: 0.6264 - accuracy: 0.7392 - val_loss: 0.6802 - val_accuracy: 0.7041\n",
      "Epoch 82/100\n",
      "184/184 [==============================] - 0s 688us/step - loss: 0.6433 - accuracy: 0.7195 - val_loss: 0.6866 - val_accuracy: 0.7034\n",
      "Epoch 83/100\n",
      "184/184 [==============================] - 0s 699us/step - loss: 0.6425 - accuracy: 0.7303 - val_loss: 0.6853 - val_accuracy: 0.7034\n",
      "Epoch 84/100\n",
      "184/184 [==============================] - 0s 740us/step - loss: 0.6277 - accuracy: 0.7339 - val_loss: 0.6876 - val_accuracy: 0.7068\n",
      "Epoch 85/100\n",
      "184/184 [==============================] - 0s 717us/step - loss: 0.6416 - accuracy: 0.7283 - val_loss: 0.6758 - val_accuracy: 0.7109\n",
      "Epoch 86/100\n",
      "184/184 [==============================] - 0s 704us/step - loss: 0.6364 - accuracy: 0.7332 - val_loss: 0.6823 - val_accuracy: 0.7095\n",
      "Epoch 87/100\n",
      "184/184 [==============================] - 0s 690us/step - loss: 0.6396 - accuracy: 0.7340 - val_loss: 0.6842 - val_accuracy: 0.7068\n",
      "Epoch 88/100\n",
      "184/184 [==============================] - 0s 687us/step - loss: 0.6447 - accuracy: 0.7318 - val_loss: 0.6791 - val_accuracy: 0.7075\n",
      "Epoch 89/100\n",
      "184/184 [==============================] - 0s 706us/step - loss: 0.6389 - accuracy: 0.7372 - val_loss: 0.6816 - val_accuracy: 0.7041\n",
      "Epoch 90/100\n",
      "184/184 [==============================] - 0s 693us/step - loss: 0.6348 - accuracy: 0.7352 - val_loss: 0.6909 - val_accuracy: 0.6986\n",
      "Epoch 91/100\n",
      "184/184 [==============================] - 0s 743us/step - loss: 0.6318 - accuracy: 0.7381 - val_loss: 0.6811 - val_accuracy: 0.7007\n",
      "Epoch 92/100\n",
      "184/184 [==============================] - 0s 703us/step - loss: 0.6291 - accuracy: 0.7355 - val_loss: 0.6811 - val_accuracy: 0.7041\n",
      "Epoch 93/100\n",
      "184/184 [==============================] - 0s 681us/step - loss: 0.6354 - accuracy: 0.7319 - val_loss: 0.6823 - val_accuracy: 0.7027\n",
      "Epoch 94/100\n",
      "184/184 [==============================] - 0s 678us/step - loss: 0.6302 - accuracy: 0.7394 - val_loss: 0.6827 - val_accuracy: 0.7102\n",
      "Epoch 95/100\n",
      "184/184 [==============================] - 0s 691us/step - loss: 0.6496 - accuracy: 0.7284 - val_loss: 0.6828 - val_accuracy: 0.7020\n",
      "Epoch 96/100\n",
      "184/184 [==============================] - 0s 690us/step - loss: 0.6471 - accuracy: 0.7277 - val_loss: 0.6779 - val_accuracy: 0.7082\n",
      "Epoch 97/100\n",
      "184/184 [==============================] - 0s 768us/step - loss: 0.6230 - accuracy: 0.7330 - val_loss: 0.6747 - val_accuracy: 0.7088\n",
      "Epoch 98/100\n",
      "184/184 [==============================] - 0s 698us/step - loss: 0.6286 - accuracy: 0.7361 - val_loss: 0.6927 - val_accuracy: 0.7048\n",
      "Epoch 99/100\n",
      "184/184 [==============================] - 0s 683us/step - loss: 0.6264 - accuracy: 0.7407 - val_loss: 0.6929 - val_accuracy: 0.7027\n",
      "Epoch 100/100\n",
      "184/184 [==============================] - 0s 690us/step - loss: 0.6428 - accuracy: 0.7306 - val_loss: 0.6794 - val_accuracy: 0.7109\n"
     ]
    }
   ],
   "source": [
    "history_bigmodel = bigmodel.fit(X_train, y_train, epochs=100, batch_size=32, validation_split=0.2)\n",
    "history_bigmodel_L1 = bigmodel_L1.fit(X_train, y_train, epochs=100, batch_size=32, validation_split=0.2)\n",
    "history_bigmodel_L2 = bigmodel_L2.fit(X_train, y_train, epochs=100, batch_size=32, validation_split=0.2)"
   ]
  },
  {
   "cell_type": "code",
   "execution_count": 37,
   "metadata": {},
   "outputs": [
    {
     "data": {
      "image/png": "[encoded data removed]",
      "text/plain": [
       "<Figure size 432x288 with 1 Axes>"
      ]
     },
     "metadata": {
      "needs_background": "light"
     },
     "output_type": "display_data"
    }
   ],
   "source": [
    "# big model vs mdl\n",
    "cols = [\"blue\",\"red\",\"orange\",\"green\"]\n",
    "labels = ['bigmodel','bigmodel_L1','bigmodel_L2', 'mdl']\n",
    "for i,mod in enumerate([history_bigmodel,history_bigmodel_L1,history_bigmodel_L2,history_mdl]):\n",
    "    plt.plot(mod.history[\"loss\"],color=cols[i],label=labels[i])\n",
    "    plt.plot(mod.history[\"val_loss\"],color=cols[i],label=\"{} val\".format(labels[i]),linestyle='dashed')\n",
    "plt.title('model loss')\n",
    "plt.ylabel('loss function')\n",
    "plt.xlabel('epoch')\n",
    "plt.legend(loc='upper right')\n",
    "plt.show()"
   ]
  },
  {
   "cell_type": "code",
   "execution_count": 38,
   "metadata": {},
   "outputs": [
    {
     "name": "stdout",
     "output_type": "stream",
     "text": [
      "mdl\n",
      "Accuracy: 74.7% (train)\n",
      "Accuracy: 70.0% (test)\n",
      "bigmodel\n",
      "Accuracy: 76.7% (train)\n",
      "Accuracy: 70.2% (test)\n",
      "bigmodel L1\n",
      "Accuracy: 76.0% (train)\n",
      "Accuracy: 71.3% (test)\n",
      "bigmodel L2\n",
      "Accuracy: 73.2% (train)\n",
      "Accuracy: 71.4% (test)\n"
     ]
    }
   ],
   "source": [
    "# Compute accuracies\n",
    "print(\"mdl\")\n",
    "print(\"Accuracy: {:.1f}% (train)\".format(mdl.evaluate(X_train, y_train, verbose=False)[1] * 100.))\n",
    "print(\"Accuracy: {:.1f}% (test)\" .format(mdl.evaluate(X_test,  y_test,  verbose=False)[1] * 100.))\n",
    "print(\"bigmodel\")\n",
    "print(\"Accuracy: {:.1f}% (train)\".format(bigmodel.evaluate(X_train, y_train, verbose=False)[1] * 100.))\n",
    "print(\"Accuracy: {:.1f}% (test)\" .format(bigmodel.evaluate(X_test,  y_test,  verbose=False)[1] * 100.))\n",
    "print(\"bigmodel L1\")\n",
    "print(\"Accuracy: {:.1f}% (train)\".format(bigmodel_L1.evaluate(X_train, y_train, verbose=False)[1] * 100.))\n",
    "print(\"Accuracy: {:.1f}% (test)\" .format(bigmodel_L1.evaluate(X_test,  y_test,  verbose=False)[1] * 100.))\n",
    "print(\"bigmodel L2\")\n",
    "print(\"Accuracy: {:.1f}% (train)\".format(bigmodel_L2.evaluate(X_train, y_train, verbose=False)[1] * 100.))\n",
    "print(\"Accuracy: {:.1f}% (test)\" .format(bigmodel_L2.evaluate(X_test,  y_test,  verbose=False)[1] * 100.))"
   ]
  },
  {
   "cell_type": "markdown",
   "metadata": {},
   "source": [
    "Indicative answer: The training accuracy for the un-regularised \"big\" model is much better than the training accuracies and losses for any of the other models. However, the testing accuracy is actually worse than the small model. This indicates that the big model is over-fitting the training data.\n",
    "\n",
    "By adding regularisation to the \"big\" model it is possible to mitigate the over-fitting. As a result, the 𝐿1- and 𝐿2-regularised \"big\" model actually reports a similar testing-accuracy than the small model. This shows that, using regularisation, it is possible to benefit from more complex model without succumbing to over-fitting.\n",
    "\n",
    "Note: In this datates it so happens that shallow datasets perform quite well, as will be seen in the grid search, so our hope to actually do better with the deep model diminished."
   ]
  },
  {
   "cell_type": "markdown",
   "metadata": {},
   "source": [
    "## 6. Bonus: Hyperparameter optimisation (1\\*bonus\\* mark)\n",
    "---"
   ]
  },
  {
   "cell_type": "markdown",
   "metadata": {},
   "source": [
    "This section covers **1** exercise on the on hyperparameter optimisation. "
   ]
  },
  {
   "cell_type": "code",
   "execution_count": 39,
   "metadata": {},
   "outputs": [],
   "source": [
    "# Relevant import(s) for this section\n",
    "from sklearn.model_selection import GridSearchCV, cross_val_score"
   ]
  },
  {
   "cell_type": "markdown",
   "metadata": {},
   "source": [
    "---\n",
    "_**Comment on simplified hyperparameter optimisation example:**_ You will try to perform a simple optimisation using a grid search\n",
    "\n",
    "For convenience, we will be using the `scikit-learn` `MLPClassifier` as our base class, but the same principles apply to just about any ML model constructed in any framework. Just as in the examples in the lecture, we will restrict the hyperparameter space to just two dimensions:\n",
    "\n",
    "* the number of hidden layers, `nb_layers`, and\n",
    "* the number of nodes per hidden layer, `nb_nodes_per_layer`, which is taken to be the same for all hidden layers for simplicity.\n",
    "\n",
    "Since the `scikit-learn` neural network classifier class doesn't support these two hyperparameters by default, provided is a simple wrapper class, that works exactly like `MLPClassifier`, it just takes the two parameters above as arguments in the constructor. Don't worry about understanding it in detail. This allows us to call "
   ]
  },
  {
   "cell_type": "code",
   "execution_count": 40,
   "metadata": {},
   "outputs": [],
   "source": [
    "class MLPClassifierWrapper(MLPClassifier):\n",
    "    \"\"\"\n",
    "    Wrapper around `sklearn.neural_network.MLPClassifier` with a convenient set \n",
    "    of properties (nb_layers and nb_nodes_per_layer) suitable for hyperparameter \n",
    "    optimisation exercises.\n",
    "    \n",
    "    Arguments:\n",
    "        nb_layers: Integer, number of hidden layers\n",
    "        nb_nodes_per_layer: Number of nodes per hidden layer, taken to be the \n",
    "            same for all for convenience.\n",
    "    \"\"\"\n",
    "\n",
    "    def __init__ (self, nb_layers=1, nb_nodes_per_layer=100, **kwargs):\n",
    "        \n",
    "        # Member variables\n",
    "        self._nb_layers = nb_layers\n",
    "        self._nb_nodes_per_layer = nb_nodes_per_layer  \n",
    "        \n",
    "        # Call base class (`MLPClassifier`) constructor\n",
    "        super(MLPClassifierWrapper, self).__init__(**kwargs)\n",
    "        \n",
    "        # Trigger `_set_architecture`\n",
    "        self._set_architecture()\n",
    "        return\n",
    "\n",
    "    @property\n",
    "    def nb_layers(self):\n",
    "        return self._nb_layers\n",
    "    \n",
    "    @property\n",
    "    def nb_nodes_per_layer(self):\n",
    "        return self._nb_nodes_per_layer \n",
    "\n",
    "    @nb_layers.setter\n",
    "    def nb_layers(self, value):\n",
    "        self._nb_layers = value\n",
    "        self._set_architecture()\n",
    "        return\n",
    "    \n",
    "    @nb_nodes_per_layer.setter\n",
    "    def nb_nodes_per_layer(self, value):\n",
    "        self._nb_nodes_per_layer = value\n",
    "        self._set_architecture()\n",
    "        return\n",
    "    \n",
    "    def _set_architecture (self):\n",
    "        \"\"\"\n",
    "        Sets the `hidden_layer_sizes` parameter of the base `MLPClassifier` \n",
    "        class, based on the two custom parameters we have chosen.\n",
    "        \"\"\"\n",
    "        \n",
    "        self.hidden_layer_sizes = tuple([self._nb_nodes_per_layer for _ in range(self._nb_layers)])\n",
    "        return\n",
    "    pass"
   ]
  },
  {
   "cell_type": "markdown",
   "metadata": {},
   "source": [
    "---"
   ]
  },
  {
   "cell_type": "markdown",
   "metadata": {},
   "source": [
    "#### 16. Perform a grid search (1 mark)\n",
    "\n",
    "- Construct a python `dict` called `param_grid` which specifies the hyperparameter configurations to try for each parameter dimension. That is, it should have\n",
    "    - `\"nb_layers\"` and `\"nb_nodes_per_layer\"` as keys, and\n",
    "    - lists of integers as values, corresponding to the values of each parameter you want to try out (_e.g._ [1, 2, ...])\n",
    "- Choose a reasonable set of values for each parameter; about a handful for each.\n",
    "- Use the `GridSearchCV` class to perform _**3**_**-fold** cross validation (CV) optimisation of the validation **accuracy**\n",
    "    - Hint: You can use the `n_jobs=...` argument to enable multi-processing, thereby speeding up the optimisation, at the expense of reproducibility.\n",
    "- The base classifier should be an instance of `MLPClassifierWrapper` set to train for **100 epochs**.\n",
    "- Present the results:\n",
    "    - Print the best parameter configuration found. GridSearchCV has a public member which stores this. Read doc.\n",
    "    - Print the mean and standard deviation of the test scores for the best configuration found. (_Hint:_ These can be found in the `.cv_results_` attribute)\n",
    "    - Plot the optimisation results using the `plot.optimisation` method.\n",
    "- Discuss the results. What would happen if the best result is foundon the edge of the parameter grid?"
   ]
  },
  {
   "cell_type": "code",
   "execution_count": 41,
   "metadata": {},
   "outputs": [],
   "source": [
    "param_grid = {'nb_layers' :          [1, 2, 4, 8], \n",
    "              'nb_nodes_per_layer' : [1, 2, 4, 8, 16, 32]}\n",
    "\n",
    "gridsearch = GridSearchCV(MLPClassifierWrapper(max_iter=100), param_grid, cv=3, scoring='accuracy', verbose=True, n_jobs=3)"
   ]
  },
  {
   "cell_type": "code",
   "execution_count": 42,
   "metadata": {},
   "outputs": [
    {
     "name": "stdout",
     "output_type": "stream",
     "text": [
      "Fitting 3 folds for each of 24 candidates, totalling 72 fits\n",
      "CPU times: user 3.29 s, sys: 34.7 ms, total: 3.32 s\n",
      "Wall time: 1min 14s\n"
     ]
    },
    {
     "data": {
      "text/plain": [
       "GridSearchCV(cv=3, estimator=MLPClassifierWrapper(), n_jobs=3,\n",
       "             param_grid={'nb_layers': [1, 2, 4, 8],\n",
       "                         'nb_nodes_per_layer': [1, 2, 4, 8, 16, 32]},\n",
       "             scoring='accuracy', verbose=True)"
      ]
     },
     "execution_count": 42,
     "metadata": {},
     "output_type": "execute_result"
    }
   ],
   "source": [
    "%%time\n",
    "gridsearch.fit(X_train, y_train.ravel())"
   ]
  },
  {
   "cell_type": "code",
   "execution_count": 43,
   "metadata": {},
   "outputs": [
    {
     "name": "stdout",
     "output_type": "stream",
     "text": [
      "{'nb_layers': 1, 'nb_nodes_per_layer': 32} --> Validation accuracy: 69.1% ± 0.4%\n"
     ]
    }
   ],
   "source": [
    "means = gridsearch.cv_results_['mean_test_score']\n",
    "stds  = gridsearch.cv_results_['std_test_score']\n",
    "ix    = gridsearch.best_index_\n",
    "print(gridsearch.best_params_, \"--> Validation accuracy: {:.1f}% ± {:.1f}%\".format(means[ix] * 100., stds[ix] * 100.))"
   ]
  },
  {
   "cell_type": "markdown",
   "metadata": {},
   "source": [
    "_Indicative answer_: The gridsearch finds a good configuration by performing a very regular scan. A best configuration is found, `nb_layers = 1` and `nb_nodes_per_layer = 16` (running on several cores will make this number non-reproducible, so expect variations). If the best configuration is found in the bulk of the search grid, we can conclude that we found a (close to) optimal configuration. However, if the best configuration is found on the edge of the grid, we would have no way of knowing if a better configuration could be found outside the chosen grid. In that case, we should probably extend the grid and re-do the hyperparameter optimisation.\n"
   ]
  },
  {
   "cell_type": "code",
   "execution_count": null,
   "metadata": {},
   "outputs": [],
   "source": []
  }
 ],
 "metadata": {
  "kernelspec": {
   "display_name": "Python 3 (ipykernel)",
   "language": "python",
   "name": "python3"
  },
  "language_info": {
   "codemirror_mode": {
    "name": "ipython",
    "version": 3
   },
   "file_extension": ".py",
   "mimetype": "text/x-python",
   "name": "python",
   "nbconvert_exporter": "python",
   "pygments_lexer": "ipython3",
   "version": "3.7.10"
  }
 },
 "nbformat": 4,
 "nbformat_minor": 2
}
