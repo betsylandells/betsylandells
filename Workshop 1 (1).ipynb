{
 "cells": [
  {
   "cell_type": "markdown",
   "metadata": {
    "deletable": false,
    "editable": false,
    "nbgrader": {
     "cell_type": "markdown",
     "checksum": "ede1eab7e0729baeb4028dede675d9f5",
     "grade": false,
     "grade_id": "cell-d539d4764d26a3c3",
     "locked": true,
     "schema_version": 3,
     "solution": false
    }
   },
   "source": [
    "## Numerical Recipes Workshop 1\n",
    "\n",
    "For the week of 27 September to 3 October, 2021\n",
    "\n",
    "**Please submit your notebook via Noteable by the end of the class\n",
    "\n",
    "**IMPORTANT!** Before submitting your notebook, clear the output by clicking *Restart & Clear Output* from the *Kernel* menu. If you do not do this, the file size of your notebook will be very large.\n",
    "\n",
    "### Learning Objectives\n",
    "- Refresh of Python basics and best practices\n",
    "- Integer and floating point precision\n",
    "- NumPy basics\n",
    "- Plotting with matplotlib\n",
    "    - basic plots\n",
    "    - multi-panel plots\n",
    "- Interpolation\n",
    "\n",
    "Please complete the workshop notebook before beginning on the checkpoint. **The workshop notebooks demonstrate everything you need to complete the checkpoints.**"
   ]
  },
  {
   "cell_type": "markdown",
   "metadata": {
    "deletable": false,
    "editable": false,
    "nbgrader": {
     "cell_type": "markdown",
     "checksum": "f5e3c7f4b6d665937cc626244424977d",
     "grade": false,
     "grade_id": "cell-145213474bac13bd",
     "locked": true,
     "schema_version": 3,
     "solution": false
    }
   },
   "source": [
    "## Documentation\n",
    "\n",
    "Below are links to documentation for the versions of modules on Noteable.\n",
    "\n",
    "* Python: https://docs.python.org/3.7/\n",
    "* NumPy: https://numpy.org/doc/1.19/\n",
    "* SciPy: https://docs.scipy.org/doc/scipy/reference/\n",
    "* matplotlib: https://matplotlib.org/3.2.2/index.html\n",
    "\n",
    "Advice: google is really helpful (e.g. \"numpy trapezoid rule\")"
   ]
  },
  {
   "cell_type": "markdown",
   "metadata": {
    "deletable": false,
    "editable": false,
    "nbgrader": {
     "cell_type": "markdown",
     "checksum": "a554213c206206d6109d1a5fc5861205",
     "grade": false,
     "grade_id": "cell-040323190d92ea45",
     "locked": true,
     "schema_version": 3,
     "solution": false
    }
   },
   "source": [
    "## Python/package Versions\n",
    "\n",
    "It's good to know what versions of Python and various packages you're using. Answers can be different or known bugs may exist in specific versions.\n",
    "\n",
    "Use sys package for Python version. Most external packages have a `__version__` attribute associated with the top level import."
   ]
  },
  {
   "cell_type": "code",
   "execution_count": 1,
   "metadata": {},
   "outputs": [
    {
     "name": "stdout",
     "output_type": "stream",
     "text": [
      "3.9.2 | packaged by conda-forge | (default, Feb 21 2021, 05:02:46) \n",
      "[GCC 9.3.0]\n",
      "1.7.0\n"
     ]
    }
   ],
   "source": [
    "# Python version\n",
    "import sys\n",
    "print(sys.version)\n",
    "# Scipy version\n",
    "import scipy\n",
    "print(scipy.__version__)\n",
    "# Try numpy and matplotlib"
   ]
  },
  {
   "cell_type": "markdown",
   "metadata": {
    "deletable": false,
    "editable": false,
    "nbgrader": {
     "cell_type": "markdown",
     "checksum": "8575191f188d6d7831b561d005cb8c5a",
     "grade": false,
     "grade_id": "cell-464564c5c460e773",
     "locked": true,
     "schema_version": 3,
     "solution": false
    }
   },
   "source": [
    "## The two most useful functions in Python\n",
    "* `dir` - list all names (variables, functions, etc) in the given scope, i.e., what's in here? Try the following:\n",
    "```\n",
    "# top level name space\n",
    "dir()\n",
    "x = 1\n",
    "dir()\n",
    "```\n",
    "```\n",
    "import sys\n",
    "# contents of the sys module\n",
    "dir(sys)\n",
    "```\n",
    "\n",
    "* `help` - show documentation for a function or object.\n",
    "```\n",
    "import numpy as np\n",
    "help(np.sum)\n",
    "```\n",
    "\n",
    "### Use `dir` to see what's in the NumPy module. Pick a random function and see what it does.\n",
    "\n",
    "### Challenge: create an array of values 0, 2, 4, ...18 with a shape of 2x5. Can you do it in a single line?\n",
    "The resulting array should be:\n",
    "```\n",
    "array([[ 0,  2,  4,  6,  8],\n",
    "       [10, 12, 14, 16, 18]])\n",
    "```\n",
    "Hint: check out the `arange` and `reshape` NumPy functions."
   ]
  },
  {
   "cell_type": "code",
   "execution_count": 2,
   "metadata": {
    "deletable": false,
    "editable": false,
    "nbgrader": {
     "cell_type": "code",
     "checksum": "e3a5d14b8a64fbc19604ea209745d346",
     "grade": true,
     "grade_id": "cell-1bf6dda9d609f137",
     "locked": true,
     "points": 0,
     "schema_version": 3,
     "solution": false,
     "task": false
    }
   },
   "outputs": [],
   "source": [
    "import numpy as np"
   ]
  },
  {
   "cell_type": "markdown",
   "metadata": {
    "deletable": false,
    "editable": false,
    "nbgrader": {
     "cell_type": "markdown",
     "checksum": "3ff8be65d03a1c4c9a11e70733ce15a6",
     "grade": false,
     "grade_id": "cell-a8fa2434d055758a",
     "locked": true,
     "schema_version": 3,
     "solution": false
    }
   },
   "source": [
    "## Best Practices\n",
    "\n",
    "* Put module imports at the top in the first code cell.\n",
    "* Rename modules to keep names short.\n",
    "```\n",
    "# Too long!\n",
    "import numpy\n",
    "x = numpy.arange(10)\n",
    "```\n",
    "```\n",
    "# Much better\n",
    "import numpy as np\n",
    "x = np.arange(10)\n",
    "```\n",
    "* Avoid `from MODULE import *`. Every available object will be in your namespace.\n",
    "```\n",
    "from scipy import *\n",
    "dir() # aaah!\n",
    "```\n",
    "* Be careful with variable names. Just about everything can be overwritten.\n",
    "```\n",
    "dir = 5\n",
    "dir()\n",
    "# The dir function is now lost. Doom.\n",
    "```\n",
    "* Use tab completion to recall function/object names. Start typing something and hit the [tab] key a couple times to bring up a menu of matching options. Use this in the terminal, too. Don't waste time typing long names.\n",
    "```\n",
    "np.su[tab][tab]\n",
    "```\n",
    "* **If things are getting messy,** restart the kernel using one of the *Restart* commands in the *Kernel* menu. This will reset your session, removing bad imports and extra variables.\n",
    "* **Cell taking too long to run?** From *Kernel* menu, click *Interrupt* to stop execution. Have a look at the traceback to see where the code was. This can give a hint as to why it's taking so long.\n",
    "* **Keep it neat.** Someone is most likely going to have to read your code someday. It should look nice, be clear, and conform to the style of code that was already there.\n",
    "* **Your notebook should always run correctly without running cells more than once or out of order.** You can check this by clicking *Restart & Run All* from the *Kernel* menu.\n",
    "\n",
    "### Plotting tips\n",
    "* add `%matplotlib inline` your import cell to get plots to show up in the notebook\n",
    "```\n",
    "from matplotlib import pyplot as plt\n",
    "%matplotlib inline\n",
    "```\n",
    "* add the following in a separate cell to make default plot and font sizes bigger\n",
    "```\n",
    "pyplot.rcParams['figure.figsize'] = (10, 6) # inches\n",
    "pyplot.rcParams['font.size'] = 14\n",
    "```"
   ]
  },
  {
   "cell_type": "markdown",
   "metadata": {
    "deletable": false,
    "editable": false,
    "nbgrader": {
     "cell_type": "markdown",
     "checksum": "a4bb4d7a7161e0566bfb68192774709d",
     "grade": false,
     "grade_id": "cell-73a6c541f603dddf",
     "locked": true,
     "schema_version": 3,
     "solution": false,
     "task": false
    }
   },
   "source": [
    "## More Best Practices: Organizing Your Code\n",
    "\n",
    "It is a good idea to split up your code between multiple cells such that each cell represents a single, logical step, e.g., a cell for module imports, defining a function, making a plot. This can be very helpful for debugging and reusing code."
   ]
  },
  {
   "cell_type": "markdown",
   "metadata": {
    "deletable": false,
    "editable": false,
    "nbgrader": {
     "cell_type": "markdown",
     "checksum": "0de7ff67e44f66fe2b325d92a7c8aa92",
     "grade": false,
     "grade_id": "cell-32d489c4c598d153",
     "locked": true,
     "schema_version": 3,
     "solution": false,
     "task": false
    }
   },
   "source": [
    "### Not great code organization\n",
    "\n",
    "The cell below does every step of the computation. If there are bugs anywhere in the cell, the whole cell won't run and debugging will be a pain. As well, imagine `my_function` takes a long time to calculate and you want tweak your plot over and over. You will be needlessly waiting for calculations to be done over and over again."
   ]
  },
  {
   "cell_type": "code",
   "execution_count": 3,
   "metadata": {},
   "outputs": [
    {
     "data": {
      "image/png": "[encoded data removed]",
      "text/plain": [
       "<Figure size 432x288 with 1 Axes>"
      ]
     },
     "metadata": {
      "needs_background": "light"
     },
     "output_type": "display_data"
    }
   ],
   "source": [
    "from matplotlib import pyplot as plt\n",
    "import numpy as np\n",
    "\n",
    "def my_function(x):\n",
    "    return x**2\n",
    "\n",
    "my_x = np.linspace(0, 10)\n",
    "my_y = my_function(my_x)\n",
    "\n",
    "plt.plot(my_x, my_y)\n",
    "plt.show()"
   ]
  },
  {
   "cell_type": "markdown",
   "metadata": {
    "deletable": false,
    "editable": false,
    "nbgrader": {
     "cell_type": "markdown",
     "checksum": "dae1ef4390f51ed4b6ccb4991db675ac",
     "grade": false,
     "grade_id": "cell-589a9e76c6fb53ff",
     "locked": true,
     "schema_version": 3,
     "solution": false,
     "task": false
    }
   },
   "source": [
    "### Better code organization\n",
    "\n",
    "Below, we break the same code up into cells for imports, function definitions, the main code execution, and plotting the result. If anything goes wrong, it is much easier to isolate the section that is broken. As well, if `my_function` takes a long time to run, we can re-run the plotting cell over and over without having to wait."
   ]
  },
  {
   "cell_type": "code",
   "execution_count": 4,
   "metadata": {},
   "outputs": [],
   "source": [
    "### imports\n",
    "from matplotlib import pyplot as plt\n",
    "import numpy as np"
   ]
  },
  {
   "cell_type": "code",
   "execution_count": 5,
   "metadata": {},
   "outputs": [],
   "source": [
    "### function definitions\n",
    "### one function per cell is a good idea\n",
    "def my_function(x):\n",
    "    return x**2"
   ]
  },
  {
   "cell_type": "code",
   "execution_count": 6,
   "metadata": {},
   "outputs": [],
   "source": [
    "### main code execution\n",
    "my_x = np.linspace(0, 10)\n",
    "my_y = my_function(my_x)"
   ]
  },
  {
   "cell_type": "code",
   "execution_count": 7,
   "metadata": {},
   "outputs": [
    {
     "data": {
      "image/png": "[encoded data removed]",
      "text/plain": [
       "<Figure size 432x288 with 1 Axes>"
      ]
     },
     "metadata": {
      "needs_background": "light"
     },
     "output_type": "display_data"
    }
   ],
   "source": [
    "### plotting results\n",
    "plt.plot(my_x, my_y)\n",
    "plt.show()"
   ]
  },
  {
   "cell_type": "markdown",
   "metadata": {
    "deletable": false,
    "editable": false,
    "nbgrader": {
     "cell_type": "markdown",
     "checksum": "d67a696126fccae3245c0021e1fb6221",
     "grade": false,
     "grade_id": "cell-cd5ddbc036063707",
     "locked": true,
     "schema_version": 3,
     "solution": false
    }
   },
   "source": [
    "# Activities"
   ]
  },
  {
   "cell_type": "markdown",
   "metadata": {
    "deletable": false,
    "editable": false,
    "nbgrader": {
     "cell_type": "markdown",
     "checksum": "bc25939b9c57e13ec2005c53e9a646c1",
     "grade": false,
     "grade_id": "cell-beb45e2516cbe3cf",
     "locked": true,
     "schema_version": 3,
     "solution": false
    }
   },
   "source": [
    "## Integer and floating point precision\n",
    "Not all programming languages have fancy [arbitrary precision integers](https://rushter.com/blog/python-integer-implementation/). NumPy arrays of integers and floats will have limited precision.\n",
    "\n",
    "#### Integer types\n",
    "* `np.int8`, `np.int16`, `np.int32`, `np.int64`\n",
    "* `np.uint8`, `np.uint16`, `np.uint32`, `np.uint64`\n",
    "\n",
    "#### Floating point types\n",
    "* `np.float16`, `np.float32`, `np.float64`, `np.float128`\n",
    "\n",
    "Use the `np.iinfo` (for ints) and `np.finfo` (for floats) commands to see the limitations of some of these variable types, i.e. what do you get from `np.iinfo(np.int32)`?"
   ]
  },
  {
   "cell_type": "code",
   "execution_count": 8,
   "metadata": {
    "deletable": false,
    "editable": false,
    "nbgrader": {
     "cell_type": "code",
     "checksum": "9965092d544efc2f1f916d5f9470ecb9",
     "grade": false,
     "grade_id": "cell-51b41d090c464ed0",
     "locked": true,
     "schema_version": 3,
     "solution": false
    }
   },
   "outputs": [],
   "source": [
    "import numpy as np"
   ]
  },
  {
   "cell_type": "markdown",
   "metadata": {
    "deletable": false,
    "editable": false,
    "nbgrader": {
     "cell_type": "markdown",
     "checksum": "73c87620273b989e30f4b443e59f68d0",
     "grade": false,
     "grade_id": "cell-5580f5f8c2915642",
     "locked": true,
     "schema_version": 3,
     "solution": false
    }
   },
   "source": [
    "See what happens when an upper or lower limit is exceeded. Try a few different types."
   ]
  },
  {
   "cell_type": "code",
   "execution_count": 9,
   "metadata": {},
   "outputs": [
    {
     "name": "stdout",
     "output_type": "stream",
     "text": [
      "[125 126 127]\n",
      "[126 127 128]\n"
     ]
    }
   ],
   "source": [
    "x = np.array([125, 126, 127], dtype=np.int64)\n",
    "print(x)\n",
    "x += 1\n",
    "print(x)"
   ]
  },
  {
   "cell_type": "markdown",
   "metadata": {
    "deletable": false,
    "editable": false,
    "nbgrader": {
     "cell_type": "markdown",
     "checksum": "b139c6fd37e9362c1966d9588a163426",
     "grade": false,
     "grade_id": "cell-683ddf9c918eb860",
     "locked": true,
     "schema_version": 3,
     "solution": false
    }
   },
   "source": [
    "Floating point numbers have limited resolution; they can only store accurately \n",
    "certain number of digits.\n",
    "Try to add different numbers 1E-2, 1E-3, ..., 1E-8 to the array below\n",
    "and see the effects when the addition stops being exact.\n",
    "Try to multiply the array below by (1 + x) where x are 1E-5 ,... 1E-8"
   ]
  },
  {
   "cell_type": "code",
   "execution_count": 10,
   "metadata": {
    "deletable": false,
    "editable": false,
    "nbgrader": {
     "cell_type": "code",
     "checksum": "ff5a5fb51f6633ce9f3097891f8aca06",
     "grade": true,
     "grade_id": "cell-8f2595c209ec9591",
     "locked": true,
     "points": 0,
     "schema_version": 3,
     "solution": false,
     "task": false
    }
   },
   "outputs": [
    {
     "name": "stdout",
     "output_type": "stream",
     "text": [
      "[1.e+03 1.e+02 1.e+01 1.e+00 1.e-01]\n",
      "[1.0000000e+03 1.0000000e+02 1.0000001e+01 1.0000010e+00 1.0000100e-01]\n",
      "The 1e-6 is preserved for values of 10, 1, and 0.1, but is lost for values 1000 and 100.\n",
      "\n",
      "[1.0000010e+03 1.0000009e+02 1.0000010e+01 1.0000010e+00 1.0000010e-01]\n",
      "The 1e-6 is preserved for all values since we are adding a fixed value relative to the array values.\n",
      "\n",
      "[1.00000012e+03 1.00000015e+02 1.00000010e+01 1.00000012e+00\n",
      " 1.00000016e-01]\n",
      "When we add a relative value less than 1e-7 to the array, there is a loss of precision and the addition is no longer exact.\n",
      "\n"
     ]
    }
   ],
   "source": [
    "y = np.array([1000, 100, 10, 1, 0.1], dtype=np.float32)\n",
    "print (y + 0)\n",
    "### BEGIN HIDDEN TEST\n",
    "print (y + 1e-6)\n",
    "print (\"The 1e-6 is preserved for values of 10, 1, and 0.1, but is lost for values 1000 and 100.\\n\")\n",
    "print (y * (1 + 1e-6))\n",
    "print (\"The 1e-6 is preserved for all values since we are adding a fixed value relative to the array values.\\n\")\n",
    "print (y * (1 + 1e-7))\n",
    "print (\"When we add a relative value less than 1e-7 to the array, there \"\n",
    "       \"is a loss of precision and the addition is no longer exact.\\n\")\n",
    "### END HIDDEN TEST"
   ]
  },
  {
   "cell_type": "markdown",
   "metadata": {},
   "source": [
    "You can learn what is a typical precision you will get by using `np.finfo` function"
   ]
  },
  {
   "cell_type": "code",
   "execution_count": 11,
   "metadata": {},
   "outputs": [
    {
     "name": "stdout",
     "output_type": "stream",
     "text": [
      "Machine parameters for float32\n",
      "---------------------------------------------------------------\n",
      "precision =   6   resolution = 1.0000000e-06\n",
      "machep =    -23   eps =        1.1920929e-07\n",
      "negep =     -24   epsneg =     5.9604645e-08\n",
      "minexp =   -126   tiny =       1.1754944e-38\n",
      "maxexp =    128   max =        3.4028235e+38\n",
      "nexp =        8   min =        -max\n",
      "---------------------------------------------------------------\n",
      "\n",
      "Machine parameters for float64\n",
      "---------------------------------------------------------------\n",
      "precision =  15   resolution = 1.0000000000000001e-15\n",
      "machep =    -52   eps =        2.2204460492503131e-16\n",
      "negep =     -53   epsneg =     1.1102230246251565e-16\n",
      "minexp =  -1022   tiny =       2.2250738585072014e-308\n",
      "maxexp =   1024   max =        1.7976931348623157e+308\n",
      "nexp =       11   min =        -max\n",
      "---------------------------------------------------------------\n",
      "\n"
     ]
    }
   ],
   "source": [
    "print(np.finfo('float32'))\n",
    "print(np.finfo('float64'))"
   ]
  },
  {
   "cell_type": "markdown",
   "metadata": {
    "deletable": false,
    "editable": false,
    "nbgrader": {
     "cell_type": "markdown",
     "checksum": "8df9217d0f81219af280acfc3e8a0936",
     "grade": false,
     "grade_id": "cell-63fea32361fb7d86",
     "locked": true,
     "schema_version": 3,
     "solution": false
    }
   },
   "source": [
    "## NumPy arrays: why bother?\n",
    "NumPy arrays can be manipulated all at once without having to explicitly iterate over each value. NumPy operations are also significantly faster."
   ]
  },
  {
   "cell_type": "code",
   "execution_count": 12,
   "metadata": {
    "deletable": false,
    "editable": false,
    "nbgrader": {
     "cell_type": "code",
     "checksum": "d9b1d61b07ec0f1daa0e0db06cd2de82",
     "grade": false,
     "grade_id": "cell-a8073cefe127bb09",
     "locked": true,
     "schema_version": 3,
     "solution": false
    }
   },
   "outputs": [],
   "source": [
    "import time"
   ]
  },
  {
   "cell_type": "code",
   "execution_count": 13,
   "metadata": {},
   "outputs": [
    {
     "name": "stdout",
     "output_type": "stream",
     "text": [
      "That took 1.850422 seconds.\n"
     ]
    }
   ],
   "source": [
    "# with lists\n",
    "t1 = time.time()\n",
    "\n",
    "z = list(range(10000000))\n",
    "for i in range(len(z)):\n",
    "    z[i] += 1\n",
    "\n",
    "t2 = time.time()\n",
    "print(\"That took %f seconds.\" % (t2-t1))"
   ]
  },
  {
   "cell_type": "code",
   "execution_count": 14,
   "metadata": {},
   "outputs": [
    {
     "name": "stdout",
     "output_type": "stream",
     "text": [
      "That took 0.072553 seconds.\n"
     ]
    }
   ],
   "source": [
    "# with arrays\n",
    "t1 = time.time()\n",
    "\n",
    "za = np.arange(10000000)\n",
    "za += 1\n",
    "\n",
    "t2 = time.time()\n",
    "print(\"That took %f seconds.\" % (t2-t1))"
   ]
  },
  {
   "cell_type": "markdown",
   "metadata": {
    "deletable": false,
    "editable": false,
    "nbgrader": {
     "cell_type": "markdown",
     "checksum": "fc27b580a9481cdb03e3ff855f53fe57",
     "grade": false,
     "grade_id": "cell-aa98c8f93415dae1",
     "locked": true,
     "schema_version": 3,
     "solution": false
    }
   },
   "source": [
    "### Some useful NumPy array generator functions.\n",
    "* `np.arange`\n",
    "* `np.linspace`\n",
    "* `np.logspace`\n",
    "* `np.ones`, `np.ones_like`\n",
    "* `np.zeros`, `np.zeros_like`\n",
    "* `np.mgrid`\n",
    "\n",
    "### Challenge: make the following array in one line:\n",
    "```\n",
    "array([1.e-02, 2.e-01, 3.e+00, 4.e+01, 5.e+02])\n",
    "```"
   ]
  },
  {
   "cell_type": "code",
   "execution_count": 15,
   "metadata": {
    "deletable": false,
    "nbgrader": {
     "cell_type": "code",
     "checksum": "83458f106768305b46681432e35eb200",
     "grade": false,
     "grade_id": "cell-ee208c94dae78f48",
     "locked": false,
     "schema_version": 3,
     "solution": true,
     "task": false
    }
   },
   "outputs": [
    {
     "data": {
      "text/plain": [
       "array([1.0e-02, 1.3e+00, 3.0e+00, 5.0e+02])"
      ]
     },
     "execution_count": 15,
     "metadata": {},
     "output_type": "execute_result"
    }
   ],
   "source": [
    "# YOUR CODE HERE\n",
    "np.array([1.e-2,2.3-1,3.e+0,5.e+2])"
   ]
  },
  {
   "cell_type": "markdown",
   "metadata": {},
   "source": [
    "### Challenge \n",
    "\n",
    "Make a 2d array of with 10 identical rows [0,1,2,3,4,5,6,7,8,9] using np.mgrid"
   ]
  },
  {
   "cell_type": "code",
   "execution_count": 16,
   "metadata": {
    "deletable": false,
    "nbgrader": {
     "cell_type": "code",
     "checksum": "89c8804e48f31a10910f3816bb75a718",
     "grade": false,
     "grade_id": "cell-6d49c56f9e0095c2",
     "locked": false,
     "schema_version": 3,
     "solution": true,
     "task": false
    }
   },
   "outputs": [
    {
     "data": {
      "text/plain": [
       "array([[0, 1, 2, 3, 4, 5, 6, 7, 8, 9],\n",
       "       [0, 1, 2, 3, 4, 5, 6, 7, 8, 9],\n",
       "       [0, 1, 2, 3, 4, 5, 6, 7, 8, 9],\n",
       "       [0, 1, 2, 3, 4, 5, 6, 7, 8, 9],\n",
       "       [0, 1, 2, 3, 4, 5, 6, 7, 8, 9],\n",
       "       [0, 1, 2, 3, 4, 5, 6, 7, 8, 9],\n",
       "       [0, 1, 2, 3, 4, 5, 6, 7, 8, 9],\n",
       "       [0, 1, 2, 3, 4, 5, 6, 7, 8, 9],\n",
       "       [0, 1, 2, 3, 4, 5, 6, 7, 8, 9],\n",
       "       [0, 1, 2, 3, 4, 5, 6, 7, 8, 9]])"
      ]
     },
     "execution_count": 16,
     "metadata": {},
     "output_type": "execute_result"
    }
   ],
   "source": [
    "# YOUR CODE HERE\n",
    "X,Y = np.mgrid[0:10,0:10];\n",
    "Y"
   ]
  },
  {
   "cell_type": "markdown",
   "metadata": {},
   "source": [
    "# Numpy Indexing\n",
    "\n",
    "Here lets look at the basics of numpy indexes. \n",
    "\n",
    "Lets start from an numpy array with elements [10, 20,30 , 40 .... 1010] \n",
    "\n",
    "Now use the numpy indexing and slicing https://numpy.org/doc/stable/reference/arrays.indexing.html \n",
    "to print\n",
    "\n",
    "\n",
    "* last element of an array\n",
    "* Every third element starting from the second one \n",
    "* Elements from tenth to twentith\n",
    "* Elements in reverse order\n",
    "* Every element\n",
    "\n",
    "Remember in numpy indices start from 0."
   ]
  },
  {
   "cell_type": "code",
   "execution_count": 17,
   "metadata": {
    "deletable": false,
    "nbgrader": {
     "cell_type": "code",
     "checksum": "15df8377519e532aff9d07ffd9d94446",
     "grade": false,
     "grade_id": "cell-db3670f0d1b6568f",
     "locked": false,
     "schema_version": 3,
     "solution": true,
     "task": false
    }
   },
   "outputs": [],
   "source": [
    "# YOUR CODE HERE\n",
    "A = np.arange(10,1020,10).tolist()\n",
    "A[-1]\n",
    "A_third = A[2:-1:3]"
   ]
  },
  {
   "cell_type": "markdown",
   "metadata": {},
   "source": [
    "You can always index an array with an array of integers to extract specific list of elements"
   ]
  },
  {
   "cell_type": "code",
   "execution_count": 18,
   "metadata": {},
   "outputs": [
    {
     "name": "stdout",
     "output_type": "stream",
     "text": [
      "[1.3 1.4]\n"
     ]
    }
   ],
   "source": [
    "### Main array\n",
    "x = np.array([1.1, 1.2, 1.3, 1.4, 1.5, 1.6])\n",
    "### Array of indices\n",
    "y = np.array([2,3])\n",
    "\n",
    "print(x[y])"
   ]
  },
  {
   "cell_type": "markdown",
   "metadata": {},
   "source": [
    "## Accessing subsets of arrays.\n",
    "You can use boolean arrays to index numpy arrays."
   ]
  },
  {
   "cell_type": "code",
   "execution_count": 19,
   "metadata": {},
   "outputs": [
    {
     "name": "stdout",
     "output_type": "stream",
     "text": [
      "the whole z array [ 0.          0.84147098  0.90929743  0.14112001 -0.7568025  -0.95892427\n",
      " -0.2794155   0.6569866   0.98935825  0.41211849]\n",
      "the boolean mask [ True  True False False False False False False False False]\n",
      "the subset where x+y<5 [0.         0.84147098]\n"
     ]
    }
   ],
   "source": [
    "x = np.arange(10)\n",
    "y = np.arange(10)**2\n",
    "z = np.sin(np.arange(10))\n",
    "\n",
    "print ('the whole z array', z)\n",
    "print ('the boolean mask', (x+y)<5)\n",
    "print ('the subset where x+y<5', z[(x+y)<5])"
   ]
  },
  {
   "cell_type": "markdown",
   "metadata": {},
   "source": [
    "# Multi-dimensional arrays \n",
    "\n",
    "You can construct them directly using `np.array`, `np.mgrid` or by using \n",
    "calculations with one dimensional arrays and broadcasting https://numpy.org/devdocs/user/basics.broadcasting.html\n",
    "\n",
    "Let's define an array with size of 10 x 20 where i,j-th element is sin(i+2*j)\n"
   ]
  },
  {
   "cell_type": "code",
   "execution_count": 20,
   "metadata": {},
   "outputs": [
    {
     "name": "stdout",
     "output_type": "stream",
     "text": [
      "[[ 0.          0.90929743 -0.7568025  -0.2794155   0.98935825 -0.54402111\n",
      "  -0.53657292  0.99060736 -0.28790332 -0.75098725  0.91294525 -0.00885131\n",
      "  -0.90557836  0.76255845  0.27090579 -0.98803162  0.55142668  0.52908269\n",
      "  -0.99177885  0.29636858]\n",
      " [ 0.84147098  0.14112001 -0.95892427  0.6569866   0.41211849 -0.99999021\n",
      "   0.42016704  0.65028784 -0.96139749  0.14987721  0.83665564 -0.8462204\n",
      "  -0.13235175  0.95637593 -0.66363388 -0.40403765  0.99991186 -0.42818267\n",
      "  -0.64353813  0.96379539]\n",
      " [ 0.90929743 -0.7568025  -0.2794155   0.98935825 -0.54402111 -0.53657292\n",
      "   0.99060736 -0.28790332 -0.75098725  0.91294525 -0.00885131 -0.90557836\n",
      "   0.76255845  0.27090579 -0.98803162  0.55142668  0.52908269 -0.99177885\n",
      "   0.29636858  0.74511316]\n",
      " [ 0.14112001 -0.95892427  0.6569866   0.41211849 -0.99999021  0.42016704\n",
      "   0.65028784 -0.96139749  0.14987721  0.83665564 -0.8462204  -0.13235175\n",
      "   0.95637593 -0.66363388 -0.40403765  0.99991186 -0.42818267 -0.64353813\n",
      "   0.96379539 -0.15862267]\n",
      " [-0.7568025  -0.2794155   0.98935825 -0.54402111 -0.53657292  0.99060736\n",
      "  -0.28790332 -0.75098725  0.91294525 -0.00885131 -0.90557836  0.76255845\n",
      "   0.27090579 -0.98803162  0.55142668  0.52908269 -0.99177885  0.29636858\n",
      "   0.74511316 -0.91652155]\n",
      " [-0.95892427  0.6569866   0.41211849 -0.99999021  0.42016704  0.65028784\n",
      "  -0.96139749  0.14987721  0.83665564 -0.8462204  -0.13235175  0.95637593\n",
      "  -0.66363388 -0.40403765  0.99991186 -0.42818267 -0.64353813  0.96379539\n",
      "  -0.15862267 -0.83177474]\n",
      " [-0.2794155   0.98935825 -0.54402111 -0.53657292  0.99060736 -0.28790332\n",
      "  -0.75098725  0.91294525 -0.00885131 -0.90557836  0.76255845  0.27090579\n",
      "  -0.98803162  0.55142668  0.52908269 -0.99177885  0.29636858  0.74511316\n",
      "  -0.91652155  0.01770193]\n",
      " [ 0.6569866   0.41211849 -0.99999021  0.42016704  0.65028784 -0.96139749\n",
      "   0.14987721  0.83665564 -0.8462204  -0.13235175  0.95637593 -0.66363388\n",
      "  -0.40403765  0.99991186 -0.42818267 -0.64353813  0.96379539 -0.15862267\n",
      "  -0.83177474  0.85090352]\n",
      " [ 0.98935825 -0.54402111 -0.53657292  0.99060736 -0.28790332 -0.75098725\n",
      "   0.91294525 -0.00885131 -0.90557836  0.76255845  0.27090579 -0.98803162\n",
      "   0.55142668  0.52908269 -0.99177885  0.29636858  0.74511316 -0.91652155\n",
      "   0.01770193  0.90178835]\n",
      " [ 0.41211849 -0.99999021  0.42016704  0.65028784 -0.96139749  0.14987721\n",
      "   0.83665564 -0.8462204  -0.13235175  0.95637593 -0.66363388 -0.40403765\n",
      "   0.99991186 -0.42818267 -0.64353813  0.96379539 -0.15862267 -0.83177474\n",
      "   0.85090352  0.12357312]]\n"
     ]
    }
   ],
   "source": [
    "I,J = np.mgrid[0:10,0:20]\n",
    "X = np.sin(I + 2*J)\n",
    "print (X)"
   ]
  },
  {
   "cell_type": "markdown",
   "metadata": {},
   "source": [
    "# Broadcasting\n",
    "\n",
    "Broadcasting is an important concept where you can do numpy operations\n",
    "with arrays of different shapes and then numpy will either automatically or \n",
    "with some 'guidance' will 'broadcast' smaller arrays to the shape of larger \n",
    "array."
   ]
  },
  {
   "cell_type": "markdown",
   "metadata": {},
   "source": [
    "#### range is numbers, arange is an array version of range (integers)"
   ]
  },
  {
   "cell_type": "markdown",
   "metadata": {},
   "source": [
    "Now let's try to construct an array using a broadcasting approach. \n",
    "\n",
    "If we want an array of 4x5 where i,j-th element is I^3 * J^2\n",
    "\n",
    "If we try this \n",
    "\n",
    "`\n",
    "x=np.arange(4)\n",
    "y=np.arange(5)\n",
    "x**3 * y**2\n",
    "`\n",
    "\n",
    "it will not work because we can't combine arrays of different lengths.\n"
   ]
  },
  {
   "cell_type": "code",
   "execution_count": 21,
   "metadata": {},
   "outputs": [],
   "source": [
    "x=np.arange(4)\n",
    "y=np.arange(5)"
   ]
  },
  {
   "cell_type": "markdown",
   "metadata": {},
   "source": [
    "However if you use a special syntax to introduce dimensions of size 1, you should be able to do it\n",
    "I.e. \n",
    "`x[:, np.newaxis]` will make an array with the shape (4,1)\n",
    "while the `y[np.newaxis, : ]` will make an array of shape (1,5) \n",
    "after that you should be able to multiply the arrays and that will make a 4x5 array."
   ]
  },
  {
   "cell_type": "code",
   "execution_count": 22,
   "metadata": {},
   "outputs": [
    {
     "name": "stdout",
     "output_type": "stream",
     "text": [
      "[[  0   0   0   0   0]\n",
      " [  0   1   4   9  16]\n",
      " [  0   8  32  72 128]\n",
      " [  0  27 108 243 432]]\n"
     ]
    }
   ],
   "source": [
    "print(x[:,np.newaxis]**3 * y[np.newaxis,:]**2)"
   ]
  },
  {
   "cell_type": "markdown",
   "metadata": {},
   "source": [
    "If we want to change the shape of the array arr, you can use arr.T to transpose it\n",
    "We can use arr.flatten() to convert an array to 1d \n",
    "We can use arr.shape to know the shape of the array"
   ]
  },
  {
   "cell_type": "code",
   "execution_count": 23,
   "metadata": {},
   "outputs": [
    {
     "name": "stdout",
     "output_type": "stream",
     "text": [
      "[[1 2]\n",
      " [3 4]\n",
      " [5 6]]\n",
      "Transposed array [[1 3 5]\n",
      " [2 4 6]]\n",
      "flattened array into 1d [1 2 3 4 5 6]\n",
      "the shape of the array (3, 2)\n"
     ]
    }
   ],
   "source": [
    "x = np.array([[1,2],[3,4],[5,6]])\n",
    "print(x)\n",
    "print('Transposed array', x.T)\n",
    "print('flattened array into 1d', x.flatten())\n",
    "print('the shape of the array', x.shape)\n"
   ]
  },
  {
   "cell_type": "markdown",
   "metadata": {},
   "source": [
    "We can also combine several arrays into a larger array\n"
   ]
  },
  {
   "cell_type": "code",
   "execution_count": 24,
   "metadata": {},
   "outputs": [
    {
     "name": "stdout",
     "output_type": "stream",
     "text": [
      "[[0 1 2 3 4]\n",
      " [0 1 2 3 4]]\n",
      "[0 1 2 3 4 0 1 2 3 4]\n"
     ]
    }
   ],
   "source": [
    "x = np.arange(5)\n",
    "y = np.arange(5)\n",
    "\n",
    "# this creates 2x5 array\n",
    "print (np.array([x,y]))\n",
    "# This creates 1x10 array\n",
    "print (np.concatenate((x,y)))"
   ]
  },
  {
   "cell_type": "markdown",
   "metadata": {
    "deletable": false,
    "editable": false,
    "nbgrader": {
     "cell_type": "markdown",
     "checksum": "3e9a6ec1b16b97afb95f5a96872e5202",
     "grade": false,
     "grade_id": "cell-d8dc969b6f18b558",
     "locked": true,
     "schema_version": 3,
     "solution": false
    }
   },
   "source": [
    "## Basic Plotting\n",
    "Basic plots can be made using high level commands imported from the `matplotlib.pyplot` module. Some basic plotting commands are given below (assuming the following import `from matplotlib import pyplot as plt`).\n",
    "\n",
    "Useful plotting commands:\n",
    "* `plt.plot`\n",
    "* `plt.semilogx`, `plt.semilogy`\n",
    "* `plt.loglog`\n",
    "* `plt.scatter`\n",
    "* `plt.xlim`, `plt.ylim`\n",
    "* `plt.xlabel`, `plt.ylabel`\n",
    "* `plt.legend`\n",
    "* `plt.title`\n",
    "* `plt.xscale`, `plt.yscale`\n",
    "* `plt.show`\n",
    "\n",
    "Use the `help` function for more information on each.\n",
    "\n",
    "See [here](https://matplotlib.org/api/pyplot_summary.html) for a list of all plotting commands.\n",
    "\n",
    "When making plots for checkpoints, always label the axes. Make them look nice."
   ]
  },
  {
   "cell_type": "markdown",
   "metadata": {
    "deletable": false,
    "editable": false,
    "nbgrader": {
     "cell_type": "markdown",
     "checksum": "003861fc3a8952e987e74e8df832946c",
     "grade": false,
     "grade_id": "cell-4d0b613332d24d26",
     "locked": true,
     "schema_version": 3,
     "solution": false
    }
   },
   "source": [
    "### Plotting a Gaussian distribution.\n",
    "\n",
    "A Gaussian distribution with mean, $\\mu$, and variance, $\\sigma^2$, takes the form:\n",
    "\n",
    "$\n",
    "\\begin{align}\n",
    "\\Large\n",
    "f(x) = \\frac{1}{\\sqrt{2\\pi\\sigma^{2}}} e^{-\\frac{(x - \\mu)^2}{2\\sigma^{2}}}\n",
    "\\end{align}\n",
    "$\n",
    "\n",
    "Make a plot of this function over the range [-5, 5] for a couple values of $\\mu$ and $\\sigma$ with appropriate labels and a legend. Hint, the `label` keyword can be given to the plotting commands to aid in making the legend. Try different combinations of linear and log-space plots.\n",
    "\n",
    "In the cell below, write a function that accepts an array of values, `x`, and returns an array representing the Gaussian evaluated for all points in `x`. Note, the text in between the `\"\"\"` marks is called a \"docstring\". See what happens when you do `help(my_gaussian)`."
   ]
  },
  {
   "cell_type": "code",
   "execution_count": 25,
   "metadata": {
    "deletable": false,
    "nbgrader": {
     "cell_type": "code",
     "checksum": "25bc909eaa99fb7b7350e8649ff8f7c3",
     "grade": false,
     "grade_id": "cell-60dc027608ded4c0",
     "locked": false,
     "schema_version": 3,
     "solution": true
    }
   },
   "outputs": [],
   "source": [
    "def my_gaussian(x, mu=0, sigma=1):\n",
    "    y = 1/np.sqrt(2*np.pi*sigma**2) * np.exp(-((x-mu)**2)/(2*sigma**2))\n",
    "    return y"
   ]
  },
  {
   "cell_type": "code",
   "execution_count": 26,
   "metadata": {},
   "outputs": [],
   "source": [
    "x = np.linspace(-5,5)"
   ]
  },
  {
   "cell_type": "code",
   "execution_count": 27,
   "metadata": {},
   "outputs": [],
   "source": [
    "y = my_gaussian(x,mu=0, sigma=1)"
   ]
  },
  {
   "cell_type": "markdown",
   "metadata": {},
   "source": [
    "### Test your function.\n",
    "\n",
    "Run the cell below to test your function with a few values."
   ]
  },
  {
   "cell_type": "code",
   "execution_count": 28,
   "metadata": {
    "deletable": false,
    "editable": false,
    "nbgrader": {
     "cell_type": "code",
     "checksum": "557ed7d7299f060af656950c8a83a59d",
     "grade": true,
     "grade_id": "cell-b2673774124214e2",
     "locked": true,
     "points": 0,
     "schema_version": 3,
     "solution": false
    }
   },
   "outputs": [],
   "source": [
    "assert (abs(my_gaussian(0) - 0.3989422804014327) < 1e-7)\n",
    "assert (abs(my_gaussian(1) - 0.24197072451914337) < 1e-7)"
   ]
  },
  {
   "cell_type": "code",
   "execution_count": 29,
   "metadata": {
    "deletable": false,
    "editable": false,
    "nbgrader": {
     "cell_type": "code",
     "checksum": "343f872315b9901e7ca1b0a24deea165",
     "grade": false,
     "grade_id": "cell-f2942bafb397f886",
     "locked": true,
     "schema_version": 3,
     "solution": false
    }
   },
   "outputs": [],
   "source": [
    "### Some matplotlib imports\n",
    "from matplotlib import pyplot as plt\n",
    "%matplotlib inline"
   ]
  },
  {
   "cell_type": "markdown",
   "metadata": {
    "deletable": false,
    "editable": false,
    "nbgrader": {
     "cell_type": "markdown",
     "checksum": "150075f82fe52893d3b01a2d87fdf8df",
     "grade": false,
     "grade_id": "cell-5050532b447f508d",
     "locked": true,
     "schema_version": 3,
     "solution": false,
     "task": false
    }
   },
   "source": [
    "### Set some plotting defaults.\n",
    "\n",
    "The lines below can be used to set some sensible defaults for all of your basic plots. You can put these at the top of a notebook."
   ]
  },
  {
   "cell_type": "code",
   "execution_count": 30,
   "metadata": {
    "deletable": false,
    "editable": false,
    "nbgrader": {
     "cell_type": "code",
     "checksum": "79de1e39e1b972ea265dc26d06d7dedb",
     "grade": false,
     "grade_id": "cell-3a6a2acc13602956",
     "locked": true,
     "schema_version": 3,
     "solution": false
    }
   },
   "outputs": [],
   "source": [
    "plt.rcParams['figure.figsize'] = (10, 6) # inches\n",
    "plt.rcParams['font.size'] = 14"
   ]
  },
  {
   "cell_type": "markdown",
   "metadata": {
    "deletable": false,
    "editable": false,
    "nbgrader": {
     "cell_type": "markdown",
     "checksum": "a679dad608e958f85ed2049052719aab",
     "grade": false,
     "grade_id": "cell-1a7f389de671ed31",
     "locked": true,
     "schema_version": 3,
     "solution": false,
     "task": false
    }
   },
   "source": [
    "### Plot the Gaussian distribution.\n",
    "\n",
    "In the cell below, plot a Gaussian with a `mu=5` and `sigma=2` for the range x = 0 to 10 with at least 100 points."
   ]
  },
  {
   "cell_type": "code",
   "execution_count": 31,
   "metadata": {
    "deletable": false,
    "nbgrader": {
     "cell_type": "code",
     "checksum": "1bd89b0924f697e05099109611f591f6",
     "grade": false,
     "grade_id": "cell-dc6a6ad75c5d8fc8",
     "locked": false,
     "schema_version": 3,
     "solution": true,
     "task": false
    }
   },
   "outputs": [
    {
     "data": {
      "text/plain": [
       "[<matplotlib.lines.Line2D at 0x7f78cf508cd0>]"
      ]
     },
     "execution_count": 31,
     "metadata": {},
     "output_type": "execute_result"
    },
    {
     "data": {
      "image/png": "[encoded data removed]",
      "text/plain": [
       "<Figure size 720x432 with 1 Axes>"
      ]
     },
     "metadata": {
      "needs_background": "light"
     },
     "output_type": "display_data"
    }
   ],
   "source": [
    "# YOUR CODE HERE\n",
    "x = np.linspace(0,10,100)\n",
    "y = my_gaussian(x,mu=5,sigma=2)\n",
    "plt.plot(x,y)"
   ]
  },
  {
   "cell_type": "markdown",
   "metadata": {},
   "source": [
    "## Two dimensional plots \n",
    "Lets show a two dimensional plot of the z=(x^2+y^2) function \n",
    "with color indicating the value of z\n",
    "\n",
    "This is done with the help of `plt.imshow` function\n",
    "\n",
    "Lets start by generating gridded data with the help of np.mgrid function\n",
    "\n",
    "You have to be careful of different conventions whether the first of two axes will be x \n",
    "or y!!"
   ]
  },
  {
   "cell_type": "code",
   "execution_count": 32,
   "metadata": {},
   "outputs": [],
   "source": [
    "# This is now the grid in x from 0 1 and y from 0 to 2 with steps of 0.1\n",
    "y, x = np.mgrid[0:2:0.1,0:1:.1]"
   ]
  },
  {
   "cell_type": "code",
   "execution_count": 33,
   "metadata": {},
   "outputs": [
    {
     "data": {
      "text/plain": [
       "<matplotlib.image.AxesImage at 0x7f78cf569c10>"
      ]
     },
     "execution_count": 33,
     "metadata": {},
     "output_type": "execute_result"
    },
    {
     "data": {
      "image/png": "[encoded data removed]",
      "text/plain": [
       "<Figure size 720x432 with 1 Axes>"
      ]
     },
     "metadata": {
      "needs_background": "light"
     },
     "output_type": "display_data"
    }
   ],
   "source": [
    "# This is our x\n",
    "plt.imshow(x)"
   ]
  },
  {
   "cell_type": "markdown",
   "metadata": {},
   "source": [
    "### Lets add a colour bar"
   ]
  },
  {
   "cell_type": "code",
   "execution_count": 34,
   "metadata": {},
   "outputs": [
    {
     "data": {
      "text/plain": [
       "<matplotlib.colorbar.Colorbar at 0x7f78e7686100>"
      ]
     },
     "execution_count": 34,
     "metadata": {},
     "output_type": "execute_result"
    },
    {
     "data": {
      "image/png": "[encoded data removed]",
      "text/plain": [
       "<Figure size 720x432 with 2 Axes>"
      ]
     },
     "metadata": {
      "needs_background": "light"
     },
     "output_type": "display_data"
    }
   ],
   "source": [
    "plt.imshow(x)\n",
    "plt.colorbar()"
   ]
  },
  {
   "cell_type": "markdown",
   "metadata": {},
   "source": [
    "## useful imshow options\n",
    "\n",
    "* aspect -- controls the aspect ratio\n",
    "* origin  can be 'lower' or 'upper' controls where the [0,0] elemnt array will \n",
    "be in the lower left or upper left corner\n",
    "* extent -- control the axis range "
   ]
  },
  {
   "cell_type": "code",
   "execution_count": 35,
   "metadata": {},
   "outputs": [
    {
     "data": {
      "text/plain": [
       "<matplotlib.image.AxesImage at 0x7f78e7635790>"
      ]
     },
     "execution_count": 35,
     "metadata": {},
     "output_type": "execute_result"
    },
    {
     "data": {
      "image/png": "[encoded data removed]",
      "text/plain": [
       "<Figure size 720x432 with 1 Axes>"
      ]
     },
     "metadata": {
      "needs_background": "light"
     },
     "output_type": "display_data"
    }
   ],
   "source": [
    "plt.imshow(x**2 + y**2,aspect='auto',extent=(0,2,0,1))"
   ]
  },
  {
   "cell_type": "markdown",
   "metadata": {
    "deletable": false,
    "editable": false,
    "nbgrader": {
     "cell_type": "markdown",
     "checksum": "c7e52b2bd03b9fbda09cceb6e2d3afc5",
     "grade": false,
     "grade_id": "cell-b0ff6290902e649a",
     "locked": true,
     "schema_version": 3,
     "solution": false,
     "task": false
    }
   },
   "source": [
    "# Interpolation\n"
   ]
  },
  {
   "cell_type": "markdown",
   "metadata": {
    "deletable": false,
    "editable": false,
    "nbgrader": {
     "cell_type": "markdown",
     "checksum": "81df0538b28ea55f1225b5d0f6552634",
     "grade": false,
     "grade_id": "cell-49cf2a7e4c2ec0bb",
     "locked": true,
     "schema_version": 3,
     "solution": false,
     "task": false
    }
   },
   "source": [
    "## Lets implement a simple version of the linear interpolation\n",
    "\n",
    "We will write a simple function that does linear interpolation from the lecture\n",
    "\n",
    "For this we will need two functions `np.argsort` that returns indices to sort the array\n",
    "and `np.searchsorted` that performs fast search in a sorted array"
   ]
  },
  {
   "cell_type": "code",
   "execution_count": 36,
   "metadata": {},
   "outputs": [],
   "source": [
    "import scipy.interpolate"
   ]
  },
  {
   "cell_type": "code",
   "execution_count": 37,
   "metadata": {
    "deletable": false,
    "nbgrader": {
     "cell_type": "code",
     "checksum": "fea59446ed2ea268993dee01e59a4a81",
     "grade": false,
     "grade_id": "cell-8d629e71bb30232a",
     "locked": false,
     "schema_version": 3,
     "solution": true,
     "task": false
    }
   },
   "outputs": [],
   "source": [
    "def lininterp(X, Y, Xnew):\n",
    "    \"\"\"\n",
    "    This function does linear interpolation of Y over X and evaluates on an array xnew\n",
    "    \"\"\"\n",
    "    ind = np.argsort(X)\n",
    "    # indices to sort the array of Xs\n",
    "# YOUR CODE HERE\n",
    "#interpolation formula from lecture notes\n",
    "    i = np.searchsorted(X,Xnew)\n",
    "    Ynew = Y[i-1] + (Y[i]-Y[i-1])/(X[i]-X[i-1]) * (Xnew - X[i-1])\n",
    "    return Ynew"
   ]
  },
  {
   "cell_type": "markdown",
   "metadata": {
    "deletable": false,
    "editable": false,
    "nbgrader": {
     "cell_type": "markdown",
     "checksum": "6b72b6563b7b18b0a961d216afe46111",
     "grade": false,
     "grade_id": "cell-ca93c9b949cbe17c",
     "locked": true,
     "schema_version": 3,
     "solution": false,
     "task": false
    }
   },
   "source": [
    "Now let's check our implementation"
   ]
  },
  {
   "cell_type": "code",
   "execution_count": 38,
   "metadata": {},
   "outputs": [
    {
     "name": "stdout",
     "output_type": "stream",
     "text": [
      "[ 7.5 27. ]\n"
     ]
    }
   ],
   "source": [
    "print ( lininterp(np.arange(10), np.arange(10)*3, np.array([2.5, 9])))"
   ]
  },
  {
   "cell_type": "markdown",
   "metadata": {},
   "source": [
    "How will the function behave if xnew is outside our interpolation range ? \n",
    "Modify the function to return edge values if the input is outside the range\n",
    "The functions `np.maximum`/`np.minimum` or `np.clip` can be useful "
   ]
  },
  {
   "cell_type": "code",
   "execution_count": 39,
   "metadata": {
    "deletable": false,
    "nbgrader": {
     "cell_type": "code",
     "checksum": "11b8e3e22711b29a392d7e2ad3a44173",
     "grade": false,
     "grade_id": "cell-e821d602f8e8dc94",
     "locked": false,
     "schema_version": 3,
     "solution": true,
     "task": false
    }
   },
   "outputs": [],
   "source": [
    "def lininterp_edge(X,Y, Xnew):\n",
    "    \"\"\"\n",
    "    This function does linear interpolation of Y over X and evaluates on an array xnew\n",
    "    \"\"\"\n",
    "# YOUR CODE HERE\n",
    "    ind = np.argsort(X)\n",
    "    Xnew_clip = np.clip(Xnew, min(X), max(X))\n",
    "    i = np.searchsorted(X,Xnew_clip)\n",
    "    Ynew = Y[i-1] + (Y[i]-Y[i-1])/(X[i]-X[i-1]) * (Xnew - X[i-1])\n",
    "    return Ynew"
   ]
  },
  {
   "cell_type": "markdown",
   "metadata": {},
   "source": [
    "Now let's compare our implementation with the one in python\n",
    "`scipy.interpolate.interp1d`"
   ]
  },
  {
   "cell_type": "code",
   "execution_count": 40,
   "metadata": {},
   "outputs": [
    {
     "data": {
      "text/plain": [
       "<matplotlib.legend.Legend at 0x7f78e62e2400>"
      ]
     },
     "execution_count": 40,
     "metadata": {},
     "output_type": "execute_result"
    },
    {
     "data": {
      "image/png": "[encoded data removed]",
      "text/plain": [
       "<Figure size 720x432 with 1 Axes>"
      ]
     },
     "metadata": {
      "needs_background": "light"
     },
     "output_type": "display_data"
    }
   ],
   "source": [
    "xs = np.arange(10)**1.2\n",
    "ys = np.sin(xs)\n",
    "xgrid = np.linspace(0,12)\n",
    "plt.plot(xs, ys)\n",
    "plt.plot(xgrid,lininterp_edge(xs,ys,xgrid), 'r', label='Our implementation')\n",
    "plt.plot(xgrid,scipy.interpolate.interp1d(xs,ys)(xgrid), 'b', label='scipy', alpha=0.3)\n",
    "plt.legend()"
   ]
  },
  {
   "cell_type": "markdown",
   "metadata": {},
   "source": [
    "# Spline interpolation\n",
    "Now Lets look at the at the cubic spline interpolations\n",
    "\n",
    "Those are implemented in `scipy.interpolate.CubicSpline`, `scipy.interpolate.UnivariateSpline` and others\n",
    "\n",
    "Lets create a simple Cubic interpolator between two arrays \n",
    "\n",
    "[1,2,3,4,5,6,7,8] and [1, sqrt(2), sqrt(3), sqrt(4), sqrt(5), sqrt(6), sqrt(7), sqrt(8)]"
   ]
  },
  {
   "cell_type": "code",
   "execution_count": 41,
   "metadata": {},
   "outputs": [],
   "source": [
    "x = np.arange(9) + 1\n",
    "y = np.sqrt(x)\n",
    "Int = scipy.interpolate.CubicSpline(x, y)"
   ]
  },
  {
   "cell_type": "markdown",
   "metadata": {},
   "source": [
    "Let's now plot the input data and overplot the spline evaluated on the grid from 1 to 8"
   ]
  },
  {
   "cell_type": "code",
   "execution_count": 42,
   "metadata": {
    "deletable": false,
    "nbgrader": {
     "cell_type": "code",
     "checksum": "47cc20878712db4c0c82b342520ceece",
     "grade": false,
     "grade_id": "cell-628d2a12ac40faf6",
     "locked": false,
     "schema_version": 3,
     "solution": true,
     "task": false
    }
   },
   "outputs": [
    {
     "data": {
      "text/plain": [
       "<matplotlib.legend.Legend at 0x7f78e6268640>"
      ]
     },
     "execution_count": 42,
     "metadata": {},
     "output_type": "execute_result"
    },
    {
     "data": {
      "image/png": "[encoded data removed]",
      "text/plain": [
       "<Figure size 720x432 with 1 Axes>"
      ]
     },
     "metadata": {
      "needs_background": "light"
     },
     "output_type": "display_data"
    }
   ],
   "source": [
    "# YOUR CODE HERE\n",
    "plt.plot(x, y,'.',label = 'data')\n",
    "plt.plot(x,(Int)(x), 'b', label='scipy')\n",
    "plt.legend()"
   ]
  },
  {
   "cell_type": "markdown",
   "metadata": {},
   "source": [
    "Lets compute the derivative of the interpolator using the .derivative method of the interpolator"
   ]
  },
  {
   "cell_type": "code",
   "execution_count": 43,
   "metadata": {
    "deletable": false,
    "nbgrader": {
     "cell_type": "code",
     "checksum": "6d0c4b7df4e3c4beedfd452add73c42a",
     "grade": false,
     "grade_id": "cell-f2acfb0237077747",
     "locked": false,
     "schema_version": 3,
     "solution": true,
     "task": false
    }
   },
   "outputs": [
    {
     "data": {
      "text/plain": [
       "<scipy.interpolate._cubic.CubicSpline at 0x7f78e62b0ae0>"
      ]
     },
     "execution_count": 43,
     "metadata": {},
     "output_type": "execute_result"
    }
   ],
   "source": [
    "# YOUR CODE HERE\n",
    "deriv = Int.derivative(nu=2)\n",
    "deriv"
   ]
  },
  {
   "cell_type": "code",
   "execution_count": 44,
   "metadata": {},
   "outputs": [
    {
     "data": {
      "text/plain": [
       "[<matplotlib.lines.Line2D at 0x7f78e77ed160>]"
      ]
     },
     "execution_count": 44,
     "metadata": {},
     "output_type": "execute_result"
    },
    {
     "data": {
      "image/png": "[encoded data removed]",
      "text/plain": [
       "<Figure size 720x432 with 1 Axes>"
      ]
     },
     "metadata": {
      "needs_background": "light"
     },
     "output_type": "display_data"
    }
   ],
   "source": [
    "plt.plot((deriv)(x),'y')"
   ]
  },
  {
   "cell_type": "markdown",
   "metadata": {},
   "source": [
    "# Smoothing splines\n",
    "\n",
    "Some interpolation methods allow interpolation function that does not go through \n",
    "all the data, but instead does additional smoothing.\n",
    "\n",
    "This can be done with `scipy.interpolate.UnivariateSpline`"
   ]
  },
  {
   "cell_type": "code",
   "execution_count": 45,
   "metadata": {},
   "outputs": [
    {
     "data": {
      "text/plain": [
       "Text(0.5, 1.0, 'Data')"
      ]
     },
     "execution_count": 45,
     "metadata": {},
     "output_type": "execute_result"
    },
    {
     "data": {
      "image/png": "[encoded data removed]",
      "text/plain": [
       "<Figure size 720x432 with 1 Axes>"
      ]
     },
     "metadata": {
      "needs_background": "light"
     },
     "output_type": "display_data"
    }
   ],
   "source": [
    "xdat1 = np.r_[1,2,3,4,5,6,7,8,9,10,11,12,13,14,15,16,17,18,19,20,21,22,23,24,25,26,27,28,29,30]\n",
    "ydat1 = np.r_[0.07,-0.26,0.96,1.37,1.42,0.53,0.16,-0.60,-0.53,-0.83,-0.93,0.00,-0.00,0.23,\n",
    "   1.30,0.84,0.63,0.92,0.47,0.50,-0.25,-0.80,-1.22,-1.08,-0.48,0.34,0.39,0.99,1.28,1.01]\n",
    "plt.plot(xdat1, ydat1, '.')\n",
    "plt.title('Data')"
   ]
  },
  {
   "cell_type": "markdown",
   "metadata": {},
   "source": [
    "Now trying smoothing splines with different smoothing parameter"
   ]
  },
  {
   "cell_type": "code",
   "execution_count": 46,
   "metadata": {},
   "outputs": [
    {
     "data": {
      "text/plain": [
       "<matplotlib.legend.Legend at 0x7f78e77ec250>"
      ]
     },
     "execution_count": 46,
     "metadata": {},
     "output_type": "execute_result"
    },
    {
     "data": {
      "image/png": "[encoded data removed]",
      "text/plain": [
       "<Figure size 720x432 with 1 Axes>"
      ]
     },
     "metadata": {
      "needs_background": "light"
     },
     "output_type": "display_data"
    }
   ],
   "source": [
    "xgrid = np.linspace(0,30,1000)\n",
    "plt.plot(xdat1, ydat1, '.')\n",
    "plt.plot(xgrid, scipy.interpolate.UnivariateSpline(xdat1, ydat1,s=1)(xgrid),label='Smoothing size 1')\n",
    "plt.plot(xgrid, scipy.interpolate.UnivariateSpline(xdat1, ydat1,s=.2)(xgrid),label='Smoothing size 0.2')\n",
    "plt.legend()"
   ]
  },
  {
   "cell_type": "markdown",
   "metadata": {},
   "source": [
    "## How can we decide which interpolation is better ? \n",
    "\n",
    "We can use the 'cross-validation' method\n",
    "We can split the data into two (or more) parts \n",
    "We can interpolate the over the first part and evaluate the square deviation over the second part."
   ]
  },
  {
   "cell_type": "code",
   "execution_count": 47,
   "metadata": {},
   "outputs": [
    {
     "name": "stdout",
     "output_type": "stream",
     "text": [
      "[False  True  True False  True  True False  True  True False  True  True\n",
      " False  True  True False  True  True False  True  True False  True  True\n",
      " False  True  True False  True  True]\n",
      "[ 2  3  5  6  8  9 11 12 14 15 17 18 20 21 23 24 26 27 29 30]\n",
      "[ 1  4  7 10 13 16 19 22 25 28]\n",
      "[ True False  True  True False  True  True False  True  True False  True\n",
      "  True False  True  True False  True  True False  True  True False  True\n",
      "  True False  True  True False  True]\n",
      "[ 1  3  4  6  7  9 10 12 13 15 16 18 19 21 22 24 25 27 28 30]\n",
      "[ 2  5  8 11 14 17 20 23 26 29]\n",
      "[ True  True False  True  True False  True  True False  True  True False\n",
      "  True  True False  True  True False  True  True False  True  True False\n",
      "  True  True False  True  True False]\n",
      "[ 1  2  4  5  7  8 10 11 13 14 16 17 19 20 22 23 25 26 28 29]\n",
      "[ 3  6  9 12 15 18 21 24 27 30]\n",
      "8.46765889570366\n"
     ]
    }
   ],
   "source": [
    "def evaluate_predictitions_spline(x, y):\n",
    "    \"\"\"\n",
    "    Here we test the predictive abilities of the spline \n",
    "    By splitting the data into 3 chunks and returning the \n",
    "    total square deviations for a given interpolator\n",
    "    \"\"\"\n",
    "    nsplit = 3 \n",
    "    N = len(x)\n",
    "    pos = np.arange(len(x))\n",
    "    ret = 0 \n",
    "    for i in range(nsplit):\n",
    "        testsubset = pos%nsplit ==i \n",
    "        fitsubset = ~testsubset \n",
    "        curx = x[fitsubset]\n",
    "        print(fitsubset)\n",
    "        print(curx)\n",
    "        cury = y[fitsubset]\n",
    "        testx = x[testsubset]\n",
    "        print(testx)\n",
    "        testy = y[testsubset]\n",
    "        #interpolate the over the first part\n",
    "        Int = scipy.interpolate.UnivariateSpline(curx, cury, s=.2)\n",
    "        #evaluate the square deviation over the second part\n",
    "        ret = ret + np.sum((Int(testx) - testy)**2)\n",
    "    return ret\n",
    "\n",
    "\n",
    "print (evaluate_predictitions_spline(xdat1,ydat1))"
   ]
  },
  {
   "cell_type": "code",
   "execution_count": 48,
   "metadata": {},
   "outputs": [],
   "source": [
    "xdata = (0.0,\n",
    " 0.011437481734488664,\n",
    " 0.287032703115897,\n",
    " 1.8288277344191806,\n",
    " 1.9366957870297075,\n",
    " 2.7387593197926163,\n",
    " 3.905478323288236,\n",
    " 4.995345894608716,\n",
    " 5.336254511708038,\n",
    " 8.504421136977792,\n",
    " 9.233859476879779,\n",
    " 9.83468338330501,\n",
    " 10.233442882782583,\n",
    " 10.322600657764202,\n",
    " 11.474597295337519,\n",
    " 13.002857211827767,\n",
    " 13.747470414623752,\n",
    " 13.927634725075855,\n",
    " 14.038693859523377,\n",
    " 14.672857490581015,\n",
    " 14.675589081711305,\n",
    " 16.53541971169328,\n",
    " 16.98304195645689,\n",
    " 18.62602113776709,\n",
    " 19.81014890848788,\n",
    " 20.445224973151742,\n",
    " 21.162811600005902,\n",
    " 23.70269802430277,\n",
    " 26.554665937222623,\n",
    " 26.99278917650261,\n",
    " 28.044399206440517,\n",
    " 28.777533858634875,\n",
    " 29.36141483736795,\n",
    " 30.233257263183976,\n",
    " 31.342417815924286,\n",
    " 31.551563100606295,\n",
    " 34.556072704304775,\n",
    " 34.776585974550656,\n",
    " 34.88983419778425,\n",
    " 39.67674742306699,\n",
    " 39.767683698553355,\n",
    " 40.81368027612812,\n",
    " 41.40559878195683,\n",
    " 41.417926952690266,\n",
    " 41.7022004702574,\n",
    " 41.730480236712694,\n",
    " 41.91945144032948,\n",
    " 42.11076250050522,\n",
    " 42.809118987129494,\n",
    " 44.78935261759052,\n",
    " 44.991213347994055,\n",
    " 49.15731592803383,\n",
    " 51.48891120583086,\n",
    " 53.316528497301704,\n",
    " 53.58964059155116,\n",
    " 53.88167340033569,\n",
    " 55.868982844575164,\n",
    " 57.36794866722859,\n",
    " 57.411760549201304,\n",
    " 57.83896143871318,\n",
    " 58.65550405019929,\n",
    " 58.93055369032842,\n",
    " 61.71449136207239,\n",
    " 62.16957202091218,\n",
    " 62.36722070556089,\n",
    " 66.3441497818448,\n",
    " 66.37946452197887,\n",
    " 67.04675101784022,\n",
    " 67.8835532939891,\n",
    " 68.52195003967594,\n",
    " 68.65009276815837,\n",
    " 69.18771139504733,\n",
    " 69.23226156693141,\n",
    " 69.44001577277452,\n",
    " 69.97583600209312,\n",
    " 72.0324493442158,\n",
    " 72.59979853504515,\n",
    " 74.81656543798394,\n",
    " 75.01443149449675,\n",
    " 75.08121031361556,\n",
    " 75.09424340273372,\n",
    " 78.92793284514885,\n",
    " 80.07445686755366,\n",
    " 80.73912887095238,\n",
    " 83.46256718973729,\n",
    " 87.63891522960382,\n",
    " 87.81174363909454,\n",
    " 87.8142503429413,\n",
    " 88.33060912058099,\n",
    " 89.46066635038473,\n",
    " 89.58862181960669,\n",
    " 90.33795205622538,\n",
    " 90.34019152878835,\n",
    " 90.85955030930955,\n",
    " 92.75085803960339,\n",
    " 94.45947559908133,\n",
    " 94.94892587070713,\n",
    " 95.7889530150502,\n",
    " 96.48400471483856,\n",
    " 96.82615757193975,\n",
    " 98.88610889064947,\n",
    " 100.0)"
   ]
  },
  {
   "cell_type": "code",
   "execution_count": 49,
   "metadata": {},
   "outputs": [
    {
     "ename": "TypeError",
     "evalue": "only integer scalar arrays can be converted to a scalar index",
     "output_type": "error",
     "traceback": [
      "\u001b[0;31m---------------------------------------------------------------------------\u001b[0m",
      "\u001b[0;31mTypeError\u001b[0m                                 Traceback (most recent call last)",
      "\u001b[0;32m<ipython-input-49-ab9da1d2f8fb>\u001b[0m in \u001b[0;36m<module>\u001b[0;34m\u001b[0m\n\u001b[0;32m----> 1\u001b[0;31m \u001b[0mprint\u001b[0m \u001b[0;34m(\u001b[0m\u001b[0mevaluate_predictitions_spline\u001b[0m\u001b[0;34m(\u001b[0m\u001b[0mxdata\u001b[0m\u001b[0;34m,\u001b[0m\u001b[0mydat1\u001b[0m\u001b[0;34m)\u001b[0m\u001b[0;34m)\u001b[0m\u001b[0;34m\u001b[0m\u001b[0;34m\u001b[0m\u001b[0m\n\u001b[0m",
      "\u001b[0;32m<ipython-input-47-b5201f4ae622>\u001b[0m in \u001b[0;36mevaluate_predictitions_spline\u001b[0;34m(x, y)\u001b[0m\n\u001b[1;32m     12\u001b[0m         \u001b[0mtestsubset\u001b[0m \u001b[0;34m=\u001b[0m \u001b[0mpos\u001b[0m\u001b[0;34m%\u001b[0m\u001b[0mnsplit\u001b[0m \u001b[0;34m==\u001b[0m\u001b[0mi\u001b[0m\u001b[0;34m\u001b[0m\u001b[0;34m\u001b[0m\u001b[0m\n\u001b[1;32m     13\u001b[0m         \u001b[0mfitsubset\u001b[0m \u001b[0;34m=\u001b[0m \u001b[0;34m~\u001b[0m\u001b[0mtestsubset\u001b[0m\u001b[0;34m\u001b[0m\u001b[0;34m\u001b[0m\u001b[0m\n\u001b[0;32m---> 14\u001b[0;31m         \u001b[0mcurx\u001b[0m \u001b[0;34m=\u001b[0m \u001b[0mx\u001b[0m\u001b[0;34m[\u001b[0m\u001b[0mfitsubset\u001b[0m\u001b[0;34m]\u001b[0m\u001b[0;34m\u001b[0m\u001b[0;34m\u001b[0m\u001b[0m\n\u001b[0m\u001b[1;32m     15\u001b[0m         \u001b[0mprint\u001b[0m\u001b[0;34m(\u001b[0m\u001b[0mfitsubset\u001b[0m\u001b[0;34m)\u001b[0m\u001b[0;34m\u001b[0m\u001b[0;34m\u001b[0m\u001b[0m\n\u001b[1;32m     16\u001b[0m         \u001b[0mprint\u001b[0m\u001b[0;34m(\u001b[0m\u001b[0mcurx\u001b[0m\u001b[0;34m)\u001b[0m\u001b[0;34m\u001b[0m\u001b[0;34m\u001b[0m\u001b[0m\n",
      "\u001b[0;31mTypeError\u001b[0m: only integer scalar arrays can be converted to a scalar index"
     ]
    }
   ],
   "source": [
    "print (evaluate_predictitions_spline(xdata,ydat1))"
   ]
  },
  {
   "cell_type": "code",
   "execution_count": 56,
   "metadata": {},
   "outputs": [
    {
     "name": "stdout",
     "output_type": "stream",
     "text": [
      "[False  True  True False  True  True False  True  True False  True  True\n",
      " False  True  True False  True  True False  True  True False  True  True\n",
      " False  True  True False  True  True]\n",
      "4.5244589429671676\n",
      "[ True False  True  True False  True  True False  True  True False  True\n",
      "  True False  True  True False  True  True False  True  True False  True\n",
      "  True False  True  True False  True]\n",
      "6.004554791063466\n",
      "[ True  True False  True  True False  True  True False  True  True False\n",
      "  True  True False  True  True False  True  True False  True  True False\n",
      "  True  True False  True  True False]\n",
      "8.570956295874117\n",
      "8.570956295874117\n"
     ]
    }
   ],
   "source": [
    "def evaluate_predictitions_spline(x, y):\n",
    "    \"\"\"\n",
    "    Here we test the predictive abilities of the spline \n",
    "    By splitting the data into 3 chunks and returning the \n",
    "    total square deviations for a given interpolator\n",
    "    \"\"\"\n",
    "    nsplit = 3 \n",
    "    N = len(x)\n",
    "    pos = np.arange(len(x))\n",
    "    ret = 0 \n",
    "    for i in range(nsplit):\n",
    "        testsubset = pos%nsplit ==i \n",
    "        fitsubset = ~testsubset \n",
    "        curx = x[fitsubset]\n",
    "        print(fitsubset)\n",
    "        cury = y[fitsubset]\n",
    "        testx = x[testsubset]\n",
    "        testy = y[testsubset]\n",
    "        #interpolate the over the first part\n",
    "        Int = scipy.interpolate.CubicSpline(curx, cury)\n",
    "        #evaluate the square deviation over the second part\n",
    "        ret = ret + np.sum((Int(testx) - testy)**2)\n",
    "        print(ret)\n",
    "    return ret\n",
    "\n",
    "\n",
    "print (evaluate_predictitions_spline(xdat1,ydat1))"
   ]
  },
  {
   "cell_type": "code",
   "execution_count": null,
   "metadata": {},
   "outputs": [],
   "source": []
  },
  {
   "cell_type": "code",
   "execution_count": null,
   "metadata": {},
   "outputs": [],
   "source": [
    "def evaluate_predictitions_spline(x, y):\n",
    "    \"\"\"\n",
    "    Here we test the predictive abilities of the spline \n",
    "    By splitting the data into 3 chunks and returning the \n",
    "    total square deviations for a given interpolator\n",
    "    \"\"\"\n",
    "    nsplit = 3 \n",
    "    N = len(x)\n",
    "    pos = np.arange(len(x))\n",
    "    ret = 0 \n",
    "    for i in range(nsplit):\n",
    "        testsubset = pos%nsplit ==i \n",
    "        fitsubset = ~testsubset \n",
    "        curx = x[fitsubset]\n",
    "        cury = y[fitsubset]\n",
    "        testx = x[testsubset]\n",
    "        testy = y[testsubset]\n",
    "        #interpolate the over the first part\n",
    "        Int = scipy.interpolate.interp1d(curx,cury,bounds_error=False,fill_value=-1)\n",
    "        #evaluate the square deviation over the second part\n",
    "        ret = ret + np.sum((Int(testx) - testy)**2)\n",
    "    return ret\n",
    "\n",
    "\n",
    "print (evaluate_predictitions_spline(xdat1,ydat1))"
   ]
  },
  {
   "cell_type": "code",
   "execution_count": null,
   "metadata": {},
   "outputs": [],
   "source": []
  },
  {
   "cell_type": "markdown",
   "metadata": {},
   "source": [
    "# Multivariate Interpolation"
   ]
  },
  {
   "cell_type": "markdown",
   "metadata": {},
   "source": [
    "Here we explore multi-variate interpolation.\n",
    "\n",
    "Importantly the interpolator classes accept two arguments, one is an array of  N-dimensional coordinates and another is 1-D array of values.\n",
    "\n",
    "For example \n",
    "\n",
    "`scipy.interpolate.LinearNDInterpolator(np.array([[1,3],[3,4],[1,2],[5,6]]), [13,14,15,16])`\n",
    "\n",
    "When passing input arrays to these interpolators you may need to reshape them "
   ]
  },
  {
   "cell_type": "markdown",
   "metadata": {},
   "source": [
    "For this test we define input data as an array defined on a grid of step 1 from 0 to 9 in x and y \n",
    "and `z = sin(x+y)`\n",
    "\n",
    "We then show the results of interpolation of z on a grid with the step of 0.1\n",
    "`scipy.interpolate.LinearNDInterpolator` and `scipy.interpolate.NearestNDInterpolator` and \n",
    "`scipy.interpolate.RbfInterpolator`"
   ]
  },
  {
   "cell_type": "code",
   "execution_count": null,
   "metadata": {},
   "outputs": [],
   "source": [
    "x,y = np.mgrid[:10,:10]\n",
    "z = np.sin(x+y)\n",
    "xgrid, ygrid = np.mgrid[:10:.1,:10:.1]\n",
    "\n",
    "plt.imshow(\n",
    "    scipy.interpolate.LinearNDInterpolator(np.array([x.flatten(),y.flatten()]).T,\n",
    "                                                  z.flatten())(xgrid,ygrid))\n"
   ]
  },
  {
   "cell_type": "markdown",
   "metadata": {},
   "source": [
    "# Challenge\n",
    "Now show the interpolation using NearestNDInterpolator"
   ]
  },
  {
   "cell_type": "code",
   "execution_count": null,
   "metadata": {},
   "outputs": [],
   "source": [
    "x,y = np.mgrid[:10,:10]\n",
    "z = np.sin(x+y)\n",
    "xgrid, ygrid = np.mgrid[:10:.1,:10:.1]# 2D grid for interpolation\n",
    "interp = scipy.interpolate.NearestNDInterpolator(list(zip(x.flatten(),y.flatten())), z.flatten())\n",
    "Z = interp(xgrid, ygrid)\n",
    "plt.pcolormesh(xgrid, ygrid, Z, shading='auto')\n",
    "plt.plot(x, y, \"ok\", label=\"input point\")\n",
    "plt.colorbar()\n",
    "plt.axis(\"equal\")\n",
    "plt.show()"
   ]
  },
  {
   "cell_type": "code",
   "execution_count": null,
   "metadata": {
    "deletable": false,
    "nbgrader": {
     "cell_type": "code",
     "checksum": "db27dc5734f310b43691899be5d5f20a",
     "grade": false,
     "grade_id": "cell-5214b6196a0ee810",
     "locked": false,
     "schema_version": 3,
     "solution": true,
     "task": false
    }
   },
   "outputs": [],
   "source": []
  },
  {
   "cell_type": "markdown",
   "metadata": {},
   "source": [
    "# Challenge\n",
    "\n",
    "Now show the interpolation using Radial basis function interpolator RBFInterpolator"
   ]
  },
  {
   "cell_type": "code",
   "execution_count": null,
   "metadata": {
    "deletable": false,
    "nbgrader": {
     "cell_type": "code",
     "checksum": "537b0bf486ebf3d382edb357034163a4",
     "grade": false,
     "grade_id": "cell-2013f215b717ffee",
     "locked": false,
     "schema_version": 3,
     "solution": true,
     "task": false
    }
   },
   "outputs": [],
   "source": [
    "# YOUR CODE HERE\n",
    "raise NotImplementedError()"
   ]
  },
  {
   "cell_type": "markdown",
   "metadata": {},
   "source": [
    "### You made it!\n",
    "\n",
    "Congratulations! Make sure to submit your notebook to get credit and don't forget to clear the output first."
   ]
  },
  {
   "cell_type": "code",
   "execution_count": null,
   "metadata": {},
   "outputs": [],
   "source": []
  }
 ],
 "metadata": {
  "kernelspec": {
   "display_name": "Python 3 (ipykernel)",
   "language": "python",
   "name": "python3"
  },
  "language_info": {
   "codemirror_mode": {
    "name": "ipython",
    "version": 3
   },
   "file_extension": ".py",
   "mimetype": "text/x-python",
   "name": "python",
   "nbconvert_exporter": "python",
   "pygments_lexer": "ipython3",
   "version": "3.9.2"
  }
 },
 "nbformat": 4,
 "nbformat_minor": 2
}
