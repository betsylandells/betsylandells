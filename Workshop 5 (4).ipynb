{
 "cells": [
  {
   "cell_type": "markdown",
   "id": "37f13dda",
   "metadata": {
    "deletable": false,
    "editable": false,
    "nbgrader": {
     "cell_type": "markdown",
     "checksum": "1fa658d8862e03b9dc93251652e9245b",
     "grade": false,
     "grade_id": "cell-4cf1d0297091fbc9",
     "locked": true,
     "schema_version": 3,
     "solution": false,
     "task": false
    }
   },
   "source": [
    "# Numerical Recipes Workshop 5\n",
    "\n",
    "Week 25 Oct - 29 Oct 2021\n",
    "**Please submit your notebook via Noteable by the Friday 6pm. \n",
    " \n",
    "**IMPORTANT!** Before submitting your notebook, clear the output by clicking *Restart & Clear Output* from the *Kernel* menu. If you do not do this, the file size of your notebook will be very large.\n",
    "\n",
    "### Learning Objectives\n",
    "\n",
    "* Generating random numbers\n",
    "* Generating points from probability distributions\n",
    "* Inverse CDF and rejection sampling methods\n",
    "* Monte-Carlo derivation of uncertainties.\n",
    "* Monte-Carlo integration\n",
    "\n",
    "Please complete the workshop notebook before beginning on the checkpoint. **The workshop notebooks demonstrate everything you need to complete the checkpoints.**\n",
    "\n",
    "The documentation relevant for the this workshop is here https://docs.scipy.org/doc/scipy/reference/optimize.html\n",
    "Random numbers and stuff"
   ]
  },
  {
   "cell_type": "markdown",
   "id": "4fd6c13f",
   "metadata": {
    "deletable": false,
    "editable": false,
    "nbgrader": {
     "cell_type": "markdown",
     "checksum": "9965f30420e3615cf9ed8c34d3d6a267",
     "grade": false,
     "grade_id": "cell-e9700ebe604f10e3",
     "locked": true,
     "schema_version": 3,
     "solution": false,
     "task": false
    }
   },
   "source": [
    "Here we are going to create a random generator.\n",
    "\n",
    "We are also going to use Python classes (https://docs.python.org/3/tutorial/classes.html ) for this. \n",
    "\n",
    "In python classes (or objects) are defined like that \n",
    "\n",
    "```\n",
    "class MyClass:\n",
    "    def __init__(self, a, b):\n",
    "        \"\"\" Here we initialize the class \"\"\" \n",
    "        self.a = a\n",
    "        self.b = b \n",
    "        ...\n",
    "     \n",
    "    def method1(self, a1, b1):\n",
    "        \"\"\" Here we define method1 that takes two arguments\n",
    "        ... \n",
    "      \n",
    "    def method2(self, a2):\n",
    "        \"\"\" Here we define method 2 that takes one argument \"\"\"\n",
    "        return self.a + a2\n",
    "       \n",
    "x = MyClass(2,3) # This will create initialize variable x as a class/object MyClass\n",
    "x.method1(44,55) \n",
    "x.method2(3)\n",
    "```\n",
    "where `__init__` is a special method that describes how the object of the class will be initialized.\n",
    "The point of classes is that they allow us to encapsulate the the state of objects and various methods \n",
    "that the object can provide.\n",
    "\n",
    "Now let's create a random number generator class for the linear congruent random number generator.\n"
   ]
  },
  {
   "cell_type": "code",
   "execution_count": 1,
   "id": "coral-limitation",
   "metadata": {},
   "outputs": [],
   "source": [
    "import numpy as np\n",
    "import matplotlib.pyplot as plt\n",
    "%matplotlib inline"
   ]
  },
  {
   "cell_type": "markdown",
   "id": "female-concept",
   "metadata": {},
   "source": [
    "Here we create the class LCGenerator that will at every iteration\n",
    "return the random number that is (ax+b) mod m where x is the previous number.\n",
    "\n",
    "Make sure to replace the zersos by the values of a,b,m from the lecture."
   ]
  },
  {
   "cell_type": "code",
   "execution_count": 33,
   "id": "75ba1157",
   "metadata": {
    "deletable": false,
    "nbgrader": {
     "cell_type": "code",
     "checksum": "0ccdfb60e886ad25452a591eda0045c2",
     "grade": false,
     "grade_id": "cell-cd557621e0504978",
     "locked": false,
     "schema_version": 3,
     "solution": true,
     "task": false
    }
   },
   "outputs": [
    {
     "name": "stdout",
     "output_type": "stream",
     "text": [
      "8396563004372\n"
     ]
    }
   ],
   "source": [
    "class LCGenerator:\n",
    "    def __init__(self, x0):\n",
    "        self.a = 25214903917 # Fill me with the number from the lecture\n",
    "        self.b = 11 # Fill me with the number from the lecture\n",
    "        self.m = np.power(2,48) # Fill me with the number from the lecture\n",
    "        self.x = x0\n",
    "    def get_random_value(self):\n",
    "        self.x = (self.a*self.x + self.b)%self.m\n",
    "        return self.x\n",
    "        \n",
    "mygen = LCGenerator(333)\n",
    "print (mygen.get_random_value())"
   ]
  },
  {
   "cell_type": "code",
   "execution_count": 35,
   "id": "friendly-liability",
   "metadata": {},
   "outputs": [
    {
     "name": "stderr",
     "output_type": "stream",
     "text": [
      "<ipython-input-33-3d7f8d65249c>:8: RuntimeWarning: overflow encountered in long_scalars\n",
      "  self.x = (self.a*self.x + self.b)%self.m\n"
     ]
    },
    {
     "data": {
      "text/plain": [
       "164197594839214"
      ]
     },
     "execution_count": 35,
     "metadata": {},
     "output_type": "execute_result"
    }
   ],
   "source": [
    "mygen.get_random_value()"
   ]
  },
  {
   "cell_type": "markdown",
   "id": "9da1be9c",
   "metadata": {
    "deletable": false,
    "editable": false,
    "nbgrader": {
     "cell_type": "markdown",
     "checksum": "bfdcdde831fc8bdc17d5c5f5af944783",
     "grade": false,
     "grade_id": "cell-95f6c94fac17f091",
     "locked": true,
     "schema_version": 3,
     "solution": false,
     "task": false
    }
   },
   "source": [
    "Now lets verify that the generator returns uniform integer numbers up to m. \n",
    "Generate 100000 random numbers and make a histogram.\n",
    "\n",
    "Use the same generator to generate 100000 uniformly distributed floating point values from 0 to 1. Make a histogram."
   ]
  },
  {
   "cell_type": "code",
   "execution_count": 44,
   "id": "11a3d2b5",
   "metadata": {
    "deletable": false,
    "nbgrader": {
     "cell_type": "code",
     "checksum": "b9216d21e66eb3310247f8f6db5d755d",
     "grade": false,
     "grade_id": "cell-a6c03212f443268a",
     "locked": false,
     "schema_version": 3,
     "solution": true,
     "task": false
    }
   },
   "outputs": [
    {
     "name": "stderr",
     "output_type": "stream",
     "text": [
      "<ipython-input-33-3d7f8d65249c>:8: RuntimeWarning: overflow encountered in long_scalars\n",
      "  self.x = (self.a*self.x + self.b)%self.m\n"
     ]
    }
   ],
   "source": [
    "# YOUR CODE HERE\n",
    "i = 0\n",
    "r = []\n",
    "for i in range(100000):\n",
    "    mygen.get_random_value()\n",
    "    i += 1\n",
    "    r.append(mygen.get_random_value())\n",
    "m = np.power(2,48)\n",
    "x = r/m"
   ]
  },
  {
   "cell_type": "code",
   "execution_count": 50,
   "id": "suffering-slovak",
   "metadata": {},
   "outputs": [
    {
     "data": {
      "image/png": "[encoded data removed]",
      "text/plain": [
       "<Figure size 432x288 with 1 Axes>"
      ]
     },
     "metadata": {
      "needs_background": "light"
     },
     "output_type": "display_data"
    }
   ],
   "source": [
    "_ = plt.hist(x,bins=1000)"
   ]
  },
  {
   "cell_type": "markdown",
   "id": "cff724fe",
   "metadata": {
    "deletable": false,
    "editable": false,
    "nbgrader": {
     "cell_type": "markdown",
     "checksum": "0c430f8715dd3490e68542f224ba8cf2",
     "grade": false,
     "grade_id": "cell-56b521c34d9ca358",
     "locked": true,
     "schema_version": 3,
     "solution": false,
     "task": false
    }
   },
   "source": [
    "# Generating random numbers with numpy\n",
    "The numpy random generation work in two different ways\n",
    "\n",
    "* You can explicitely construct random state (random generator) and use it to generate random numbers, so you have full control over numbers (new interface)\n",
    "* You can just use default methods of np.random.* which will initialize the internal generator from the system time. (old interface)"
   ]
  },
  {
   "cell_type": "markdown",
   "id": "69f708cd",
   "metadata": {
    "deletable": false,
    "editable": false,
    "nbgrader": {
     "cell_type": "markdown",
     "checksum": "a30af88e005fe053fd88f4cdabbcf448",
     "grade": false,
     "grade_id": "cell-f480d8d729956420",
     "locked": true,
     "schema_version": 3,
     "solution": false,
     "task": false
    }
   },
   "source": [
    "# New numpy random number generator interface\n",
    "\n",
    "To use the interface you create the random number generator by \n",
    "using  ( see https://numpy.org/doc/stable/reference/random/generator.html ) \n",
    "\n",
    "```\n",
    "rstate = np.random.default_rng(434343)\n",
    "# or\n",
    "rstate = np.random.default_rng()\n",
    "```\n",
    "\n",
    "If you don't specify the parameter for rng it means that the operating \n",
    "system random generator is used to initialize numpy random generator\n",
    "\n",
    "Now this rstate can be used to generate integers(), uniformly distributed numbers, normally distributed numbers\n",
    "\n",
    "## Challenge \n",
    " \n",
    "Use the rstate to \n",
    "* generate 10000 integers uniformly from 100 to 1000\n",
    "* generate 10000 floating points from 0.2 to 0.3 \n",
    "* generate 10000 floating points from the normal distribution with mean of 10 and stddev of 5\n",
    "\n",
    "Verify the random numbers by plotting a histogram of each."
   ]
  },
  {
   "cell_type": "code",
   "execution_count": 64,
   "id": "805e4aee",
   "metadata": {
    "deletable": false,
    "nbgrader": {
     "cell_type": "code",
     "checksum": "d7e15b53abd095572c034b8418284e8b",
     "grade": false,
     "grade_id": "cell-c2706e8c601c5fbd",
     "locked": false,
     "schema_version": 3,
     "solution": true,
     "task": false
    }
   },
   "outputs": [
    {
     "data": {
      "image/png": "[encoded data removed]",
      "text/plain": [
       "<Figure size 432x288 with 1 Axes>"
      ]
     },
     "metadata": {
      "needs_background": "light"
     },
     "output_type": "display_data"
    }
   ],
   "source": [
    "rstate  = np.random.default_rng(444)\n",
    "\n",
    "# YOUR CODE HERE\n",
    "rints = rstate.integers(low=100, high=1000, size=10000)\n",
    "_ = plt.hist(rints,bins=1000)"
   ]
  },
  {
   "cell_type": "code",
   "execution_count": 57,
   "id": "demonstrated-cisco",
   "metadata": {},
   "outputs": [],
   "source": [
    "b = 0.3\n",
    "a = 0.2"
   ]
  },
  {
   "cell_type": "code",
   "execution_count": 65,
   "id": "configured-broadcasting",
   "metadata": {},
   "outputs": [
    {
     "data": {
      "image/png": "[encoded data removed]",
      "text/plain": [
       "<Figure size 432x288 with 1 Axes>"
      ]
     },
     "metadata": {
      "needs_background": "light"
     },
     "output_type": "display_data"
    }
   ],
   "source": [
    "rfloats = (b - a) * rstate.random((10000,1)) + a\n",
    "_ = plt.hist(rfloats,bins=1000)"
   ]
  },
  {
   "cell_type": "code",
   "execution_count": 67,
   "id": "novel-state",
   "metadata": {},
   "outputs": [
    {
     "data": {
      "image/png": "[encoded data removed]",
      "text/plain": [
       "<Figure size 432x288 with 1 Axes>"
      ]
     },
     "metadata": {
      "needs_background": "light"
     },
     "output_type": "display_data"
    }
   ],
   "source": [
    "rnormal = rstate.normal(loc=10, scale=5, size=10000)\n",
    "_ = plt.hist(rnormal,bins=1000)"
   ]
  },
  {
   "cell_type": "markdown",
   "id": "9dcd652d",
   "metadata": {
    "deletable": false,
    "editable": false,
    "nbgrader": {
     "cell_type": "markdown",
     "checksum": "9e9d72d22399c342ebd3a9e85ced24f6",
     "grade": false,
     "grade_id": "cell-1531ba31f939c1a2",
     "locked": true,
     "schema_version": 3,
     "solution": false,
     "task": false
    }
   },
   "source": [
    "# The impact of the random number generator initialization\n",
    "\n",
    "Use the `np.random.default_rng` random generator\n",
    "\n",
    "## Challenge\n",
    "\n",
    "* Initialize the random generator with some number \n",
    "* Print a random integer from 0 to 1000 \n",
    "* Re-Initialize the random generator again with the same number as before \n",
    "* Print a random integer from 0 to 1000 Is it the same number  ?\n",
    "* What happen if you don't reinitialize the random generator ? \n",
    "\n"
   ]
  },
  {
   "cell_type": "code",
   "execution_count": 76,
   "id": "df1074d6",
   "metadata": {
    "deletable": false,
    "nbgrader": {
     "cell_type": "code",
     "checksum": "bfd0d0ba434fbae048443cf01c3f8891",
     "grade": false,
     "grade_id": "cell-c726c9f2f94949f3",
     "locked": false,
     "schema_version": 3,
     "solution": true,
     "task": false
    }
   },
   "outputs": [
    {
     "data": {
      "text/plain": [
       "174"
      ]
     },
     "execution_count": 76,
     "metadata": {},
     "output_type": "execute_result"
    }
   ],
   "source": [
    "# YOUR CODE HERE\n",
    "rstate = np.random.default_rng(60)\n",
    "rstate.integers(low=0, high=1000)"
   ]
  },
  {
   "cell_type": "code",
   "execution_count": 77,
   "id": "suburban-terry",
   "metadata": {},
   "outputs": [
    {
     "data": {
      "text/plain": [
       "174"
      ]
     },
     "execution_count": 77,
     "metadata": {},
     "output_type": "execute_result"
    }
   ],
   "source": [
    "rstate = np.random.default_rng(60)\n",
    "rstate.integers(low=0, high=1000)"
   ]
  },
  {
   "cell_type": "code",
   "execution_count": 78,
   "id": "known-tyler",
   "metadata": {},
   "outputs": [
    {
     "data": {
      "text/plain": [
       "324"
      ]
     },
     "execution_count": 78,
     "metadata": {},
     "output_type": "execute_result"
    }
   ],
   "source": [
    "rstate.integers(low=0, high=1000)"
   ]
  },
  {
   "cell_type": "markdown",
   "id": "honey-attendance",
   "metadata": {},
   "source": [
    "COMMENTS: if you reinitialize your rstate with the same seed, the first value it returns is always the same, hence the first two cells print the same values when ran once. When run again, without reinstating rstate and its seed, the number changes. The numbers are therefore psuedo random as they are the same sequence of numbers every time. "
   ]
  },
  {
   "cell_type": "markdown",
   "id": "5ca157cf",
   "metadata": {
    "deletable": false,
    "editable": false,
    "nbgrader": {
     "cell_type": "markdown",
     "checksum": "2ef81c0a32ebd8bcd93708960814f7e4",
     "grade": false,
     "grade_id": "cell-fd96c2d8be5a9eb2",
     "locked": true,
     "schema_version": 3,
     "solution": false,
     "task": false
    }
   },
   "source": [
    "# Old numpy random interface\n",
    "\n",
    "In the old numpy.random interface (which is still often used) you just call `np.random.uniform`, `np.random.normal` and other `np.random.*` functions\n",
    "You can also set up an initialization (seed) by using `np.random.seed(number)`\n",
    "\n",
    "## Challenge \n",
    "\n",
    "Simulate the same set of random numbers as in previous exercise but using an old `np.random` interface\n",
    "Check the how the histograms differ when you vary the seed."
   ]
  },
  {
   "cell_type": "code",
   "execution_count": 95,
   "id": "unique-governor",
   "metadata": {},
   "outputs": [],
   "source": [
    "#generate seed - global seed that talks to scipy\n",
    "seed = np.random.seed(90)"
   ]
  },
  {
   "cell_type": "code",
   "execution_count": 96,
   "id": "21ac649f",
   "metadata": {
    "deletable": false,
    "nbgrader": {
     "cell_type": "code",
     "checksum": "33301951ead1e62fd188db21ccf57420",
     "grade": false,
     "grade_id": "cell-6e1746ace5acad79",
     "locked": false,
     "schema_version": 3,
     "solution": true,
     "task": false
    }
   },
   "outputs": [
    {
     "data": {
      "image/png": "[encoded data removed]",
      "text/plain": [
       "<Figure size 432x288 with 1 Axes>"
      ]
     },
     "metadata": {
      "needs_background": "light"
     },
     "output_type": "display_data"
    }
   ],
   "source": [
    "#generates floats\n",
    "rfloats_old = np.random.uniform(low=0.2, high=0.3, size=100000)\n",
    "_ = plt.hist(rfloats_old,bins=1000)"
   ]
  },
  {
   "cell_type": "code",
   "execution_count": 91,
   "id": "perceived-commodity",
   "metadata": {},
   "outputs": [
    {
     "data": {
      "image/png": "[encoded data removed]",
      "text/plain": [
       "<Figure size 432x288 with 1 Axes>"
      ]
     },
     "metadata": {
      "needs_background": "light"
     },
     "output_type": "display_data"
    }
   ],
   "source": [
    "#generate normal dist\n",
    "rnormal_old = np.random.normal(loc=10, scale=5, size=10000)\n",
    "_ = plt.hist(rnormal_old,bins=1000)"
   ]
  },
  {
   "cell_type": "code",
   "execution_count": 101,
   "id": "prepared-sierra",
   "metadata": {},
   "outputs": [
    {
     "data": {
      "image/png": "[encoded data removed]",
      "text/plain": [
       "<Figure size 432x288 with 1 Axes>"
      ]
     },
     "metadata": {
      "needs_background": "light"
     },
     "output_type": "display_data"
    }
   ],
   "source": [
    "rint_old = np.random.randint(100, 1000,1000)\n",
    "_ = plt.hist(rint_old,bins=100)"
   ]
  },
  {
   "cell_type": "markdown",
   "id": "04095ea1",
   "metadata": {
    "deletable": false,
    "editable": false,
    "nbgrader": {
     "cell_type": "markdown",
     "checksum": "9f7cb69db5e63ecea074d160046350e4",
     "grade": false,
     "grade_id": "cell-166a6ddf4928d96e",
     "locked": true,
     "schema_version": 3,
     "solution": false,
     "task": false
    }
   },
   "source": [
    "# Generating random numbers using the Inverse CDF method\n",
    "\n",
    "Lets generate the probability distribution f(x) with the density that is 0 for x<0, 0.5 between 0<x<1 and is 0.5*exp(-(x-1)) for x>=1. This is uniform distribution glued with the exponential distribution"
   ]
  },
  {
   "cell_type": "code",
   "execution_count": 102,
   "id": "30c11c76",
   "metadata": {},
   "outputs": [
    {
     "data": {
      "text/plain": [
       "[<matplotlib.lines.Line2D at 0x7f4e7f9f2a30>]"
      ]
     },
     "execution_count": 102,
     "metadata": {},
     "output_type": "execute_result"
    },
    {
     "data": {
      "image/png": "[encoded data removed]",
      "text/plain": [
       "<Figure size 432x288 with 1 Axes>"
      ]
     },
     "metadata": {
      "needs_background": "light"
     },
     "output_type": "display_data"
    }
   ],
   "source": [
    "xgrid=np.linspace(-1,10,1000)\n",
    "\n",
    "def fpdf(x):\n",
    "    \"\"\" This the PDF of the distribution we are trying to simulate \"\"\"\n",
    "    return (( x<0).astype(int) * 0  +  \n",
    "            ((x>=0) & (x<1)).astype(int) * 0.5 + \n",
    "            (x>=1).astype(int) * 0.5 * np.exp(-(x-1)))\n",
    "plt.plot(xgrid,fpdf(xgrid))"
   ]
  },
  {
   "cell_type": "code",
   "execution_count": 3,
   "id": "recorded-advancement",
   "metadata": {},
   "outputs": [
    {
     "data": {
      "text/plain": [
       "[<matplotlib.lines.Line2D at 0x7ff55cc206a0>]"
      ]
     },
     "execution_count": 3,
     "metadata": {},
     "output_type": "execute_result"
    },
    {
     "data": {
      "image/png": "[encoded data removed]",
      "text/plain": [
       "<Figure size 432x288 with 1 Axes>"
      ]
     },
     "metadata": {
      "needs_background": "light"
     },
     "output_type": "display_data"
    }
   ],
   "source": [
    "xgrid=np.linspace(-1,10,1000)\n",
    "\n",
    "def fpdf(x):\n",
    "    \"\"\" This the PDF of the distribution we are trying to simulate \"\"\"\n",
    "    return (( x<0).astype(int) * 0  +  \n",
    "            ((x>=0) & (x<1)).astype(int) * 0.5 + \n",
    "            (x>=1).astype(int) * 0.5 * np.exp(-(x-1)))\n",
    "plt.plot(xgrid,fpdf(xgrid))"
   ]
  },
  {
   "cell_type": "markdown",
   "id": "0d63f679",
   "metadata": {
    "deletable": false,
    "editable": false,
    "nbgrader": {
     "cell_type": "markdown",
     "checksum": "51c2697cab46c8ecada960aa9369f38a",
     "grade": false,
     "grade_id": "cell-561a2f24ee1ed438",
     "locked": true,
     "schema_version": 3,
     "solution": false,
     "task": false
    }
   },
   "source": [
    "Now Let's see what the CDF will be \n",
    "\n",
    "$$ F(x) = \\int\\limits_{-\\infty}^{x} f(z) dz$$\n",
    "\n",
    "$$F(x)= 0.5 x$$ for x<1 \n",
    "and \n",
    "$$F(x)= 1- 0.5 \\exp(1-x)$$ for x>1.\n",
    "\n",
    "Now the \n",
    "\n",
    "## Challenge\n",
    "\n",
    "Use the CDF (and it's inverse) to generate samples from the probability distribution f(x) defined above\n",
    "using the inverse of F(x) that we just computed.\n",
    "Verify that the distrubution is correct by making a histogram of the samples and overplotting the scaled PDF."
   ]
  },
  {
   "cell_type": "code",
   "execution_count": 4,
   "id": "decent-injection",
   "metadata": {},
   "outputs": [],
   "source": [
    "import scipy.optimize as scopt"
   ]
  },
  {
   "cell_type": "code",
   "execution_count": 17,
   "id": "19ebf774",
   "metadata": {
    "deletable": false,
    "nbgrader": {
     "cell_type": "code",
     "checksum": "0f861785766a5591948ea3962f98ef4f",
     "grade": false,
     "grade_id": "cell-7ad8e96e29eeb6b6",
     "locked": false,
     "schema_version": 3,
     "solution": true,
     "task": false
    }
   },
   "outputs": [
    {
     "data": {
      "text/plain": [
       "[<matplotlib.lines.Line2D at 0x7ff55b123340>]"
      ]
     },
     "execution_count": 17,
     "metadata": {},
     "output_type": "execute_result"
    },
    {
     "data": {
      "image/png": "[encoded data removed]",
      "text/plain": [
       "<Figure size 432x288 with 1 Axes>"
      ]
     },
     "metadata": {
      "needs_background": "light"
     },
     "output_type": "display_data"
    }
   ],
   "source": [
    "def sample_my(N):\n",
    "# YOUR CODE HERE\n",
    "    u = np.random.uniform(size=N)\n",
    "    CDF_inv = (u<0.5).astype(float) * 2*u + (u>0.5).astype(int) * 1 - np.log(2*(1-u))\n",
    "    return CDF_inv\n",
    "\n",
    "\n",
    "plt.hist(sample_my(1000000),bins=100, range=[0,10]);\n",
    "xgrid=np.linspace(0,10,100);\n",
    "plt.plot(xgrid,fpdf(xgrid)*100000)"
   ]
  },
  {
   "cell_type": "code",
   "execution_count": null,
   "id": "excited-standing",
   "metadata": {},
   "outputs": [],
   "source": []
  },
  {
   "cell_type": "markdown",
   "id": "4a85b801",
   "metadata": {
    "deletable": false,
    "editable": false,
    "nbgrader": {
     "cell_type": "markdown",
     "checksum": "a61c153365160f51b179af5b89fbb440",
     "grade": false,
     "grade_id": "cell-3e342586720b9320",
     "locked": true,
     "schema_version": 3,
     "solution": false,
     "task": false
    }
   },
   "source": [
    "# scipy.stats.* and np.random generation of points from distributions\n",
    "\n",
    "\n",
    "np.random.* offers an easy access samples from  large number of distributions https://numpy.org/doc/stable/reference/random/generator.html#distributions\n",
    "\n",
    "with the typical interface \n",
    "`rstate.distribution_name(parameters, size=..)`\n",
    "\n",
    "## Challenge\n",
    "Explore some distributions like exponential,  lognormal, poisson and triangular from np.random.\n",
    "Make histograms of samples from each of those."
   ]
  },
  {
   "cell_type": "code",
   "execution_count": 118,
   "id": "9dfebd05",
   "metadata": {
    "deletable": false,
    "nbgrader": {
     "cell_type": "code",
     "checksum": "1a712397b9416733234e528ace33bc30",
     "grade": false,
     "grade_id": "cell-1e4914e9fd3e710c",
     "locked": false,
     "schema_version": 3,
     "solution": true,
     "task": false
    }
   },
   "outputs": [
    {
     "data": {
      "image/png": "[encoded data removed]",
      "text/plain": [
       "<Figure size 432x288 with 1 Axes>"
      ]
     },
     "metadata": {
      "needs_background": "light"
     },
     "output_type": "display_data"
    },
    {
     "data": {
      "image/png": "[encoded data removed]",
      "text/plain": [
       "<Figure size 432x288 with 1 Axes>"
      ]
     },
     "metadata": {
      "needs_background": "light"
     },
     "output_type": "display_data"
    },
    {
     "data": {
      "image/png": "[encoded data removed]",
      "text/plain": [
       "<Figure size 432x288 with 1 Axes>"
      ]
     },
     "metadata": {
      "needs_background": "light"
     },
     "output_type": "display_data"
    },
    {
     "data": {
      "image/png": "[encoded data removed]",
      "text/plain": [
       "<Figure size 432x288 with 1 Axes>"
      ]
     },
     "metadata": {
      "needs_background": "light"
     },
     "output_type": "display_data"
    }
   ],
   "source": [
    "rng = np.random.default_rng()\n",
    "\n",
    "plt.figure()\n",
    "plt.hist(rng.exponential(size=1000),bins=100);\n",
    "\n",
    "plt.figure()\n",
    "plt.hist(rng.lognormal(mean=0.0, sigma=1.0, size=1000),bins=100);\n",
    "\n",
    "plt.figure()\n",
    "plt.hist(rng.poisson(lam=5, size=1000),bins=10);\n",
    "\n",
    "plt.figure()\n",
    "plt.hist(rng.triangular(-3, 0, 8, size=1000),bins=100);\n",
    "\n",
    "# YOUR CODE HERE\n",
    "#np.random.exponential"
   ]
  },
  {
   "cell_type": "markdown",
   "id": "8960dfc4",
   "metadata": {
    "deletable": false,
    "editable": false,
    "nbgrader": {
     "cell_type": "markdown",
     "checksum": "80b0c39eaecf124c585a29585e58006d",
     "grade": false,
     "grade_id": "cell-844882ff932a40db",
     "locked": true,
     "schema_version": 3,
     "solution": false,
     "task": false
    }
   },
   "source": [
    "# scipy.stats distributions\n",
    "\n",
    "scipy.stats (https://docs.scipy.org/doc/scipy/reference/stats.html) module allows you to create objects corresponding to specific distribution, and then use various methods to call the probability density function pdf(), cdf(), to sample numbers using rvs() command. See e.g. https://docs.scipy.org/doc/scipy/reference/generated/scipy.stats.norm.html#scipy.stats.norm  \n",
    "\n",
    "### Challenge\n",
    "\n",
    "Create a scipy.stats object corresponding to a normal distribution with mean of 3 and standard deviation of 5.\n",
    "Plot its PDF and CDF.\n",
    "\n",
    "Sample 1000 points from that distrubution using that object. \n",
    "\n",
    "Repeat the same thing for the poisson distribution with rate of 1.5 (remember that Poisson distribution takes discrete values so it does not have a PDF but has a PMF)"
   ]
  },
  {
   "cell_type": "code",
   "execution_count": 21,
   "id": "coral-calgary",
   "metadata": {},
   "outputs": [],
   "source": [
    "import scipy.stats\n",
    "from scipy.stats import norm, poisson, truncnorm"
   ]
  },
  {
   "cell_type": "code",
   "execution_count": 141,
   "id": "32127c6f",
   "metadata": {
    "deletable": false,
    "nbgrader": {
     "cell_type": "code",
     "checksum": "7b90330df3c1f5b434d0c62e2c5f8871",
     "grade": false,
     "grade_id": "cell-29affbc5bc6b669d",
     "locked": false,
     "schema_version": 3,
     "solution": true,
     "task": false
    }
   },
   "outputs": [],
   "source": [
    "# YOUR CODE HERE\n",
    "mean, var, skew, kurt = norm.stats(moments='mvsk')\n",
    "rv = norm()\n",
    "norm.pdf(x, loc=3, scale=5)\n",
    "norm.cdf(x, loc=3, scale=5);"
   ]
  },
  {
   "cell_type": "code",
   "execution_count": 158,
   "id": "pending-reception",
   "metadata": {},
   "outputs": [
    {
     "data": {
      "text/plain": [
       "<matplotlib.legend.Legend at 0x7f4e8066d5e0>"
      ]
     },
     "execution_count": 158,
     "metadata": {},
     "output_type": "execute_result"
    },
    {
     "data": {
      "image/png": "[encoded data removed]",
      "text/plain": [
       "<Figure size 432x288 with 1 Axes>"
      ]
     },
     "metadata": {
      "needs_background": "light"
     },
     "output_type": "display_data"
    }
   ],
   "source": [
    "fig, ax = plt.subplots(1, 1)\n",
    "x = np.linspace(norm.ppf(0.01,loc=3, scale=5),\n",
    "                norm.ppf(0.99,loc=3, scale=5), 1000)\n",
    "ax.plot(x, norm.pdf(x,loc=3, scale=5),'r-', lw=5, alpha=0.6, label='norm pdf')\n",
    "ax.plot(x, norm.cdf(x,loc=3, scale=5),label='cdf')\n",
    "ax.legend()"
   ]
  },
  {
   "cell_type": "code",
   "execution_count": 159,
   "id": "comprehensive-argument",
   "metadata": {},
   "outputs": [
    {
     "data": {
      "text/plain": [
       "(array([ 18.,  33.,  71., 145., 210., 211., 167.,  91.,  45.,   9.]),\n",
       " array([-11.19968101,  -8.38091632,  -5.56215163,  -2.74338693,\n",
       "          0.07537776,   2.89414246,   5.71290715,   8.53167185,\n",
       "         11.35043654,  14.16920124,  16.98796593]),\n",
       " <BarContainer object of 10 artists>)"
      ]
     },
     "execution_count": 159,
     "metadata": {},
     "output_type": "execute_result"
    },
    {
     "data": {
      "image/png": "[encoded data removed]",
      "text/plain": [
       "<Figure size 432x288 with 1 Axes>"
      ]
     },
     "metadata": {
      "needs_background": "light"
     },
     "output_type": "display_data"
    }
   ],
   "source": [
    "r = norm.rvs(loc=3, scale=5, size=1000)\n",
    "plt.hist(r,bins=10)"
   ]
  },
  {
   "cell_type": "code",
   "execution_count": 162,
   "id": "pregnant-sapphire",
   "metadata": {},
   "outputs": [],
   "source": [
    "mu = 1.5\n",
    "mean, var, skew, kurt = poisson.stats(mu, moments='mvsk')"
   ]
  },
  {
   "cell_type": "code",
   "execution_count": 170,
   "id": "biological-actor",
   "metadata": {},
   "outputs": [
    {
     "data": {
      "image/png": "[encoded data removed]",
      "text/plain": [
       "<Figure size 432x288 with 1 Axes>"
      ]
     },
     "metadata": {
      "needs_background": "light"
     },
     "output_type": "display_data"
    }
   ],
   "source": [
    "fig, ax = plt.subplots(1, 1)\n",
    "x = np.arange(poisson.ppf(0.01,mu),poisson.ppf(0.99, mu))\n",
    "ax.plot(x, poisson.pmf(x, mu), 'bo', ms=8, label='poisson pmf')\n",
    "ax.vlines(x, 0, poisson.pmf(x, mu), colors='b', lw=5, alpha=0.5)\n",
    "plt.show()"
   ]
  },
  {
   "cell_type": "markdown",
   "id": "63d556f2",
   "metadata": {
    "deletable": false,
    "editable": false,
    "nbgrader": {
     "cell_type": "markdown",
     "checksum": "336703395864120c9c34c2c979ef3755",
     "grade": false,
     "grade_id": "cell-a319497592b72600",
     "locked": true,
     "schema_version": 3,
     "solution": false,
     "task": false
    }
   },
   "source": [
    "# Rejection sampling \n",
    "\n",
    "## Challenge\n",
    "\n",
    "Use rejection sampling to sample from circular distribution distribution \n",
    "\n",
    "$$ f(x) = \\frac{2}{\\pi} \\sqrt{1-x^2}$$ for -1<x<1,  and 0 for |x|>1\n",
    "\n",
    "* Use Uniform distribution as a reference distribution g(x)\n",
    "* Use Normal distribution as a reference distribution g(x)\n",
    "\n",
    "You may need to empirically determine the factor M to ensure that f(x) < M * g(x) for all x.\n",
    "\n",
    "Plot the samples and verify that they have the shape of f(x)"
   ]
  },
  {
   "cell_type": "code",
   "execution_count": 46,
   "id": "9563449d",
   "metadata": {
    "deletable": false,
    "nbgrader": {
     "cell_type": "code",
     "checksum": "33227b74e9180253e5fbce8aa0d3e1a5",
     "grade": false,
     "grade_id": "cell-6430f299cca14aeb",
     "locked": false,
     "schema_version": 3,
     "solution": true,
     "task": false
    }
   },
   "outputs": [],
   "source": [
    "def pdf_target(x):\n",
    "    return 2 / np.pi * np.sqrt(1-x**2)\n",
    "\n",
    "\n",
    "def gen_circle(N):\n",
    "    \"\"\"\n",
    "    Return the sample of points sampled from the 'circular distribution'\n",
    "    \"\"\"\n",
    "    x = np.random.uniform(low=-1, high=1.0,size=N)\n",
    "    y = np.random.uniform(low=0,high=pdf_target(0),size=N)\n",
    "    x_sample = []\n",
    "    i = 0\n",
    "    while y[i] < pdf_target(x[i]):\n",
    "        x_sample.append(x)\n",
    "        i += 1\n",
    "    return x_sample\n",
    "    \n",
    "\n",
    "x_sample = gen_circle(1000)"
   ]
  },
  {
   "cell_type": "code",
   "execution_count": 198,
   "id": "fresh-economics",
   "metadata": {},
   "outputs": [
    {
     "data": {
      "text/plain": [
       "[<matplotlib.lines.Line2D at 0x7f4e8059d370>]"
      ]
     },
     "execution_count": 198,
     "metadata": {},
     "output_type": "execute_result"
    },
    {
     "data": {
      "image/png": "[encoded data removed]",
      "text/plain": [
       "<Figure size 432x288 with 1 Axes>"
      ]
     },
     "metadata": {
      "needs_background": "light"
     },
     "output_type": "display_data"
    }
   ],
   "source": [
    "plt.plot(x_sample[0],pdf_target(x_sample[0]),'.')"
   ]
  },
  {
   "cell_type": "code",
   "execution_count": 48,
   "id": "efficient-planner",
   "metadata": {},
   "outputs": [
    {
     "data": {
      "text/plain": [
       "[<matplotlib.lines.Line2D at 0x7f3b84c50a30>]"
      ]
     },
     "execution_count": 48,
     "metadata": {},
     "output_type": "execute_result"
    },
    {
     "data": {
      "image/png": "[encoded data removed]",
      "text/plain": [
       "<Figure size 432x288 with 1 Axes>"
      ]
     },
     "metadata": {
      "needs_background": "light"
     },
     "output_type": "display_data"
    }
   ],
   "source": [
    "def gen_circle(N):\n",
    "    lower, upper = -1, 1\n",
    "    mu, sigma = 0, 1\n",
    "    x = scipy.stats.truncnorm((lower - mu) / sigma, (upper - mu) / sigma, loc=mu, scale=sigma)\n",
    "    u1 = x.rvs(10000)\n",
    "    x = scipy.stats.truncnorm((lower - mu) / sigma, (upper - mu) / sigma, loc=mu, scale=sigma)\n",
    "    u2 = x.rvs(10000)\n",
    "    N = 1000\n",
    "    M=0.3 #scale factor\n",
    "    #need to randomly distribute\n",
    "    idx,=np.where(u2<=pdf_target(u1)/M)\n",
    "    v=u1[idx]\n",
    "    return v\n",
    "plt.plot(v,pdf_target(v),'.')"
   ]
  },
  {
   "cell_type": "code",
   "execution_count": 34,
   "id": "9eba7370",
   "metadata": {
    "deletable": false,
    "editable": false,
    "nbgrader": {
     "cell_type": "code",
     "checksum": "196b50717785204a296d1662ffc36020",
     "grade": true,
     "grade_id": "cell-23276445e583f4b1",
     "locked": true,
     "points": 0,
     "schema_version": 3,
     "solution": false,
     "task": false
    }
   },
   "outputs": [
    {
     "ename": "AssertionError",
     "evalue": "",
     "output_type": "error",
     "traceback": [
      "\u001b[0;31m---------------------------------------------------------------------------\u001b[0m",
      "\u001b[0;31mAssertionError\u001b[0m                            Traceback (most recent call last)",
      "\u001b[0;32m<ipython-input-34-6abb84a1e571>\u001b[0m in \u001b[0;36m<module>\u001b[0;34m\u001b[0m\n\u001b[0;32m----> 1\u001b[0;31m \u001b[0;32massert\u001b[0m\u001b[0;34m(\u001b[0m\u001b[0mlen\u001b[0m\u001b[0;34m(\u001b[0m\u001b[0mgen_circle\u001b[0m\u001b[0;34m(\u001b[0m\u001b[0;36m10000\u001b[0m\u001b[0;34m)\u001b[0m\u001b[0;34m)\u001b[0m\u001b[0;34m==\u001b[0m\u001b[0;36m10000\u001b[0m\u001b[0;34m)\u001b[0m\u001b[0;34m\u001b[0m\u001b[0;34m\u001b[0m\u001b[0m\n\u001b[0m\u001b[1;32m      2\u001b[0m \u001b[0;32massert\u001b[0m\u001b[0;34m(\u001b[0m\u001b[0mgen_circle\u001b[0m\u001b[0;34m(\u001b[0m\u001b[0;36m10000\u001b[0m\u001b[0;34m)\u001b[0m\u001b[0;34m.\u001b[0m\u001b[0mmin\u001b[0m\u001b[0;34m(\u001b[0m\u001b[0;34m)\u001b[0m \u001b[0;34m>\u001b[0m \u001b[0;34m-\u001b[0m\u001b[0;36m1\u001b[0m\u001b[0;34m)\u001b[0m\u001b[0;34m\u001b[0m\u001b[0;34m\u001b[0m\u001b[0m\n\u001b[1;32m      3\u001b[0m \u001b[0;32massert\u001b[0m\u001b[0;34m(\u001b[0m\u001b[0mgen_circle\u001b[0m\u001b[0;34m(\u001b[0m\u001b[0;36m10000\u001b[0m\u001b[0;34m)\u001b[0m\u001b[0;34m.\u001b[0m\u001b[0mmax\u001b[0m\u001b[0;34m(\u001b[0m\u001b[0;34m)\u001b[0m \u001b[0;34m<\u001b[0m \u001b[0;36m1\u001b[0m\u001b[0;34m)\u001b[0m\u001b[0;34m\u001b[0m\u001b[0;34m\u001b[0m\u001b[0m\n",
      "\u001b[0;31mAssertionError\u001b[0m: "
     ]
    }
   ],
   "source": [
    "assert(len(gen_circle(10000))==10000)\n",
    "assert(gen_circle(10000).min() > -1)\n",
    "assert(gen_circle(10000).max() < 1)"
   ]
  },
  {
   "cell_type": "markdown",
   "id": "2c2df3bd",
   "metadata": {
    "deletable": false,
    "editable": false,
    "nbgrader": {
     "cell_type": "markdown",
     "checksum": "35278238b35350097f44779605f9e0b4",
     "grade": false,
     "grade_id": "cell-9be89774020a24d0",
     "locked": true,
     "schema_version": 3,
     "solution": false,
     "task": false
    }
   },
   "source": [
    "# Monte-Carlo uncertainties\n",
    "\n",
    "Monte-Carlo is a powerful way of estimating the uncertainties.\n",
    "If we have a vector quantity x with the Gaussian uncertainty e and we want to estimate the uncertainty on y=F(x) where F() is some function the way to do that is to sample points x_i from the Normal distribution, evaluate y_i =F(x_i) and compute Sttdev[y] from these samples.\n",
    "\n",
    "\n",
    "## Challenge \n",
    "\n",
    "You are measuring the properties of particles observed in a detector.\n",
    "For each particle you observe a mass with the uncertainty, and 3 component velocity with uncertainties. \n",
    "You need to estimate the uncertianty on the kinetic energy of each particle\n",
    "$$E=1/2 m  (V_x^2+ V_y^2 + V_z^2)$$\n",
    "\n",
    "Verify that the uncertainty matches the analytic prediction of $\\sigma_E = m \\sqrt{ V_x^2 \\sigma_{vx}^2 +  V_y^2 \\sigma_{vy}^2 +  V_z^2 \\sigma_{vz}^2 } $ when the uncertainty on the mass is negligible and uncertainties on individual velocities are small.\n",
    "Verify that the uncertainty matches the analytic prediction of $\\sigma_E = 0.5 *\\sigma_m (V_x^2+V_y^2+V_z^2) $ when the uncertainty on the velocities is negligible and uncertainty on the mass is small."
   ]
  },
  {
   "cell_type": "code",
   "execution_count": 18,
   "id": "f070a958",
   "metadata": {
    "deletable": false,
    "nbgrader": {
     "cell_type": "code",
     "checksum": "a8cb4fb13491ad4976d0a5a109bf0ce3",
     "grade": false,
     "grade_id": "cell-074bce083dc4f96c",
     "locked": false,
     "schema_version": 3,
     "solution": true,
     "task": false
    }
   },
   "outputs": [
    {
     "name": "stdout",
     "output_type": "stream",
     "text": [
      "0.42542112384639613 0.03741657386773942\n",
      "1.7889323224514992 0.7000000000000001\n"
     ]
    }
   ],
   "source": [
    "def energy_uncertainty(m, e_m, vx, vy, vz, e_vx, e_vy, e_vz):\n",
    "    # YOUR CODE HERE\n",
    "    mass_norm = np.random.normal(loc = m, scale = e_m, size=10000)\n",
    "    #print(mass_norm)\n",
    "    vx_norm = np.random.normal(loc = vx, scale = e_vx, size=10000)\n",
    "    vy_norm = np.random.normal(loc = vy, scale = e_vy, size=10000)\n",
    "    vz_norm = np.random.normal(loc = vz, scale = e_vz, size=10000)\n",
    "    \n",
    "    kinenergy = []\n",
    "    for i in range(10000):\n",
    "        kinenergy.append(0.5 * mass_norm[i] * vx_norm[i]*vx_norm[i] * vy_norm[i]*vy_norm[i] * vz_norm[i]*vz_norm[i])\n",
    "        \n",
    "    #Mean value and stddev of the final distribution\n",
    "    energy_uncertainty = np.std(kinenergy)\n",
    "    return energy_uncertainty\n",
    "        \n",
    "\n",
    "    \n",
    "    \n",
    "\n",
    "        \n",
    "        \n",
    "\n",
    "m,em,vx,vy,vz,evx,evy,evz=1,0,1,2,3,0.01,0.01,0.01 #mass uncertainty negligible and velocity uncertainties are small\n",
    "print (energy_uncertainty(m,em,vx,vy,vz,evx,evy,evz), m*np.sqrt(vx**2*evx**2+vy**2*evy**2+vz**2*evz**2))\n",
    "m,em,vx,vy,vz,evx,evy,evz=1,0.1,1,2,3,0.0,0.0,0.0 #\n",
    "print (energy_uncertainty(m,em,vx,vy,vz,evx,evy,evz), 0.5*em*(vx**2+vy**2+vz**2))"
   ]
  },
  {
   "cell_type": "markdown",
   "id": "192b76ea",
   "metadata": {
    "deletable": false,
    "editable": false,
    "nbgrader": {
     "cell_type": "markdown",
     "checksum": "70a2d4043ac55aa608b0dcb5e5d22368",
     "grade": false,
     "grade_id": "cell-e6daa43e8c405452",
     "locked": true,
     "schema_version": 3,
     "solution": false,
     "task": false
    }
   },
   "source": [
    "# Monte Carlo integration\n",
    "We have to integrate the function in 3D space\n",
    "\n",
    "$$ f(x,y,z) = \\sqrt{1-x^2 -y^2 -z^2}$$ where $x^2+y^2+z^2<1$ and zero othewise\n",
    "\n",
    "$$ I = \\int f(x,y,z) dx dy dz$$\n",
    " \n",
    "Do that calculation we need to represent the integral as an integral of the product of the function and the pdf. We can always do that by the following operation where g(x,y,z) is the PDF \n",
    "\n",
    "$$I = \\int f(x,y,z) dx dy dz = \\int \\frac{f(x,y,z)}{g(x,y,z)} g(x,y,z) dx dy dz \\approx \\frac{1}{N}\\sum_i \\frac{f(x_i,y_i,z_i)}{g(x_i,y_i,z_i)} $$\n",
    "where $x_i,y_i,z_i$ are samples from the probability distribution g(x,y,z)\n",
    "\n",
    "# Challenge \n",
    "\n",
    "Evaluate the integral $I$ using g() that is \n",
    "* g(x,y,z)  the normal distribution in 3D space \n",
    "$P(x) = \\frac{1}{(2 \\pi)^{3/2}} \\exp {\\left( -\\frac{1}{2} (x^2+ y^2+z^2)\\right)}$\n",
    "* and g(x,y,z) that corresponds to the the uniform distribution over a 3D cube -1<x<1 -1<y<1 -1<z<1\n",
    "\n",
    "Start the integration with N=10000 \n",
    "\n",
    "The true value of the integral is $\\pi^2/4$\n",
    "\n",
    "See how the result changes as you change the number of sampled points."
   ]
  },
  {
   "cell_type": "code",
   "execution_count": null,
   "id": "3a9a3fe4",
   "metadata": {
    "deletable": false,
    "nbgrader": {
     "cell_type": "code",
     "checksum": "1bb96b88e35f6f6d38db94e3a9923e22",
     "grade": false,
     "grade_id": "cell-35989f01a58d66f1",
     "locked": false,
     "schema_version": 3,
     "solution": true,
     "task": false
    }
   },
   "outputs": [],
   "source": []
  },
  {
   "cell_type": "code",
   "execution_count": 43,
   "id": "suffering-swift",
   "metadata": {
    "nbgrader": {
     "cell_type": "code",
     "checksum": "1bb96b88e35f6f6d38db94e3a9923e22",
     "grade": false,
     "grade_id": "cell-35989f01a58d66f1",
     "locked": false,
     "schema_version": 3,
     "solution": true,
     "task": false
    }
   },
   "outputs": [
    {
     "name": "stdout",
     "output_type": "stream",
     "text": [
      "The value calculated by monte carlo integration is 4.424.\n"
     ]
    },
    {
     "name": "stderr",
     "output_type": "stream",
     "text": [
      "<ipython-input-43-296223ce44e5>:36: RuntimeWarning: invalid value encountered in sqrt\n",
      "  return np.sqrt(1 - x**2 - y**2 - z**2)\n"
     ]
    }
   ],
   "source": [
    "# YOUR CODE HERE\n",
    "# limits of integration\n",
    "N = 1000\n",
    "\n",
    "x_min = -0.99\n",
    "x_max = 0.99\n",
    "\n",
    "y_min = -0.99\n",
    "y_max = 0.99\n",
    "\n",
    "z_min = -0.99\n",
    "z_max = 0.99\n",
    "\n",
    "ar = np.zeros(N)\n",
    "\n",
    "\n",
    "Xrand = random.uniform(x_min,x_max,N)\n",
    "Yrand = random.uniform(y_min,y_max,N)\n",
    "Zrand = random.uniform(z_min,z_max,N)\n",
    "\n",
    "for i in range(len(Xrand)):\n",
    "    Xrand[i] = random.uniform(x_min,x_max)\n",
    "for i in range(len(Yrand)):\n",
    "    Yrand[i] = random.uniform(y_min,y_max)    \n",
    "for i in range(len(Zrand)):\n",
    "    Zrand[i] = random.uniform(z_min,z_max)  \n",
    "\n",
    "integral = 0.0\n",
    "\n",
    "# function to calculate \n",
    "def f(x,y,z):\n",
    "\treturn np.sqrt(1 - x**2 - y**2 - z**2)\n",
    "\n",
    "for i in range(N):\n",
    "    if (f(Xrand[i],Yrand[i],Zrand[i]) < 1):\n",
    "        integral += 1.0\n",
    "    \n",
    "ans=(x_max-x_min)*(y_max-y_min)*(z_max-z_min)\n",
    "ans = VolumeBox*integral/float(N) \n",
    "\n",
    "# prints the solution\n",
    "print (\"The value calculated by monte carlo integration is {}.\".format(ans))\n"
   ]
  },
  {
   "cell_type": "code",
   "execution_count": 44,
   "id": "pending-basin",
   "metadata": {},
   "outputs": [],
   "source": [
    "def monte_carlo(n):\n",
    "    Xrand = random.uniform(x_min,x_max,N)\n",
    "    Yrand = random.uniform(y_min,y_max,N)\n",
    "    Zrand = random.uniform(z_min,z_max,N)\n",
    "    for i in range(len(Xrand)):\n",
    "        Xrand[i] = random.uniform(x_min,x_max)\n",
    "    for i in range(len(Yrand)):\n",
    "        Yrand[i] = random.uniform(y_min,y_max)    \n",
    "    for i in range(len(Zrand)):\n",
    "        Zrand[i] = random.uniform(z_min,z_max)\n",
    "    g = np.random.normal(size=N)\n",
    "    for i in range(N):\n",
    "        f = np.sqrt(1 - Xrand[i]**2 - Yrand[i]**2 - Zrand[i]**2)\n",
    "        I = 1/n * np.sum(f/g)\n",
    "    return I"
   ]
  },
  {
   "cell_type": "code",
   "execution_count": 45,
   "id": "danish-selection",
   "metadata": {},
   "outputs": [
    {
     "name": "stderr",
     "output_type": "stream",
     "text": [
      "<ipython-input-44-5a228f534dc9>:13: RuntimeWarning: invalid value encountered in sqrt\n",
      "  f = np.sqrt(1 - Xrand[i]**2 - Yrand[i]**2 - Zrand[i]**2)\n"
     ]
    },
    {
     "data": {
      "text/plain": [
       "29.910081629526786"
      ]
     },
     "execution_count": 45,
     "metadata": {},
     "output_type": "execute_result"
    }
   ],
   "source": [
    "monte_carlo(100)"
   ]
  },
  {
   "cell_type": "code",
   "execution_count": null,
   "id": "accepting-reference",
   "metadata": {},
   "outputs": [],
   "source": []
  }
 ],
 "metadata": {
  "kernelspec": {
   "display_name": "Python 3 (ipykernel)",
   "language": "python",
   "name": "python3"
  },
  "language_info": {
   "codemirror_mode": {
    "name": "ipython",
    "version": 3
   },
   "file_extension": ".py",
   "mimetype": "text/x-python",
   "name": "python",
   "nbconvert_exporter": "python",
   "pygments_lexer": "ipython3",
   "version": "3.9.2"
  }
 },
 "nbformat": 4,
 "nbformat_minor": 5
}
